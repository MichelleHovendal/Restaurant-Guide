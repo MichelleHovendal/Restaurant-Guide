{
 "cells": [
  {
   "cell_type": "markdown",
   "metadata": {},
   "source": [
    "# Final Explainer Notebook\n",
    "\n",
    "This notebook is done as part of the final project for 02806 Social Data Analysis and Visualization, Technical University of Denmark.\n",
    "\n",
    "This notebook contains all the code used for the website: https://restaurant-guide.github.io/\n",
    "\n",
    "Please note that this notebook is only rendered with data from 2019-2021, so not the full dataset. This is done, because of GitHub storage limitations. \n",
    "\n",
    "## 1. Motivation\n",
    "### 1.1 Purpose \n",
    "\n",
    "The aim of the final project for Social Data Analysis and Visualization is to investigate restaurants and their reviews through a dataset from Yelp. The company Yelp will be described in the next subsection. Nowadays before going to a restaurant, you look it up on Google. Here it is possible to check the ratings of a restaurant and the comments. Hence, fake reviews are a hot topic, where business owners can promote their business falsely. The idea of this project is to find the best restaurant based on chosen types of restaurant, kitchen, price, review score without fake reviews in the dataset. From this, the user is able to find the perfect restaurant through an interactive application, but also see how the fake reviews are detected.\n",
    "\n",
    "\n",
    "\n",
    "\n",
    "<!-- The aim of the project is to find the best restaurant based on chosen type of restaurant, kitchen, price, review score without fake reviews.  -->\n",
    "\n",
    "\n",
    "### 1.2 Data\n",
    "The dataset considered for this project is from Yelp, which is an American company founded in 2004. The idea behind the company is to publish crow-sourced reviews about businesses through their website Yelp.com and mobile app Yelp. In the second quarter of 2019, Yelp has an average of 61.8 million unique visitors through their website, while it was 76.7 million unique visitors in the app. As the internet gets filled with more and more information and the likelihood of the information being false, Yelp can then provides a local platform for people to discover true information. So the dataset from Yelp considers different businesses and not only restaurants, which is the focus of this project. If a restaurant is not part of Yelp, they are not considered in this project. \n",
    "\n",
    "Overall, the Yelp dataset is a subset of Yelp's businesses, reviews and users, which covers 11 metropolitan areas. All the dataset consists of the following information:\n",
    "* 8,635,403 reviews\n",
    "* 160,585 business\n",
    "* 200,000 pictures\n",
    "* 2,189,457 unique users\n",
    "\n",
    "The dataset stretches over a period from 14th of October 2004 to 28th of January 2021. \n",
    "\n",
    "For this project, three of Yelps dataset is used. The main dataset consists of all the different businesses and some attributes explaining opening hours, price range and category. Furthermore, a dataset consisting of all the reviews and when the reviews are given is also used. To detect anomalies in the data, the dataset about the user that has given a review is also used. So to sum up, the following data files were used throughout this project\n",
    "* yelp_academic_dataset_business.json (121.466 KB)\n",
    "* yelp_academic_dataset_review.json (6.774.100 KB)\n",
    "* yelp_academic_dataset_user.json (3.598.150 KB)\n",
    "\n",
    "See reference [1] for the data. \n",
    "\n",
    "## 2. Basic stats. Let's understand the dataset better\n",
    "\n",
    "Before doing data analysis on the dataset, it is key to do some basic statistics on the chosen dataset. Before doing basic statistics, some data cleaning and preprocessing are done.\n",
    "\n",
    "### 2.1 Data cleaning & preprocessing\n",
    "\n",
    "As mentioned in the section about the dataset, there are multiple businesses considered in our dataset. The businesses that do not have the word *Restaurant* in the column `categories` will not be considered. Further, restaurants that are closed have been removed, because it does not make sense to give advice for the user to go to a closed restaurant. \n",
    "To get some useful information from the `categories` column, two new variables are created. The first variable explains the kitchen type of the restaurant, whereas the second variable explains the type of restaurant, i.e. if it is a pizzeria. The list of words for the two variables are presented below\n",
    "\n",
    "* Kitchen type: Thai, Chinese, Japanese, Korean, Indian, American, Caribean, Italian, Mediterranean, Mexican, Cajun, Vietnamese and Greek.\n",
    "* Type: Food, nightlife, bars, sandwiches, pizza, breakfast & brunch, fast food, burgers, salad, buffet, cafes, coffee & tea, vegetarian, steakhouse, sushi bars, diners and wine bars. \n",
    "\n",
    "The data from Yelp also give what state the different restaurants are in but in abbrivations. Hence the full state name and to do some plotting later on where the states are, the states latitude and longitude are also inserted. \n",
    "\n",
    "From merging the three datasets, the shape is `(6.588.460, 27)`, to make with more compatible a shorter time period is considered, namely 1st of January 2014 to 28th of January 2021, which gives a shape of `(5.177.322, 27)`. Remeber that these numbers cannot be compared with the shapes below, since this notebook only covers around two years.\n",
    "\n",
    "To see the dataprep alone, please see the python file: `Social Data - Data Prep - Final`\n",
    "\n",
    "#### Libaries\n",
    "The libraries used for this project are presented below."
   ]
  },
  {
   "cell_type": "code",
   "execution_count": 1,
   "metadata": {},
   "outputs": [
    {
     "data": {
      "text/html": [
       "\n",
       "    <div class=\"bk-root\">\n",
       "        <a href=\"https://bokeh.org\" target=\"_blank\" class=\"bk-logo bk-logo-small bk-logo-notebook\"></a>\n",
       "        <span id=\"1001\">Loading BokehJS ...</span>\n",
       "    </div>"
      ]
     },
     "metadata": {},
     "output_type": "display_data"
    },
    {
     "data": {
      "application/javascript": [
       "\n",
       "(function(root) {\n",
       "  function now() {\n",
       "    return new Date();\n",
       "  }\n",
       "\n",
       "  var force = true;\n",
       "\n",
       "  if (typeof root._bokeh_onload_callbacks === \"undefined\" || force === true) {\n",
       "    root._bokeh_onload_callbacks = [];\n",
       "    root._bokeh_is_loading = undefined;\n",
       "  }\n",
       "\n",
       "  var JS_MIME_TYPE = 'application/javascript';\n",
       "  var HTML_MIME_TYPE = 'text/html';\n",
       "  var EXEC_MIME_TYPE = 'application/vnd.bokehjs_exec.v0+json';\n",
       "  var CLASS_NAME = 'output_bokeh rendered_html';\n",
       "\n",
       "  /**\n",
       "   * Render data to the DOM node\n",
       "   */\n",
       "  function render(props, node) {\n",
       "    var script = document.createElement(\"script\");\n",
       "    node.appendChild(script);\n",
       "  }\n",
       "\n",
       "  /**\n",
       "   * Handle when an output is cleared or removed\n",
       "   */\n",
       "  function handleClearOutput(event, handle) {\n",
       "    var cell = handle.cell;\n",
       "\n",
       "    var id = cell.output_area._bokeh_element_id;\n",
       "    var server_id = cell.output_area._bokeh_server_id;\n",
       "    // Clean up Bokeh references\n",
       "    if (id != null && id in Bokeh.index) {\n",
       "      Bokeh.index[id].model.document.clear();\n",
       "      delete Bokeh.index[id];\n",
       "    }\n",
       "\n",
       "    if (server_id !== undefined) {\n",
       "      // Clean up Bokeh references\n",
       "      var cmd = \"from bokeh.io.state import curstate; print(curstate().uuid_to_server['\" + server_id + \"'].get_sessions()[0].document.roots[0]._id)\";\n",
       "      cell.notebook.kernel.execute(cmd, {\n",
       "        iopub: {\n",
       "          output: function(msg) {\n",
       "            var id = msg.content.text.trim();\n",
       "            if (id in Bokeh.index) {\n",
       "              Bokeh.index[id].model.document.clear();\n",
       "              delete Bokeh.index[id];\n",
       "            }\n",
       "          }\n",
       "        }\n",
       "      });\n",
       "      // Destroy server and session\n",
       "      var cmd = \"import bokeh.io.notebook as ion; ion.destroy_server('\" + server_id + \"')\";\n",
       "      cell.notebook.kernel.execute(cmd);\n",
       "    }\n",
       "  }\n",
       "\n",
       "  /**\n",
       "   * Handle when a new output is added\n",
       "   */\n",
       "  function handleAddOutput(event, handle) {\n",
       "    var output_area = handle.output_area;\n",
       "    var output = handle.output;\n",
       "\n",
       "    // limit handleAddOutput to display_data with EXEC_MIME_TYPE content only\n",
       "    if ((output.output_type != \"display_data\") || (!output.data.hasOwnProperty(EXEC_MIME_TYPE))) {\n",
       "      return\n",
       "    }\n",
       "\n",
       "    var toinsert = output_area.element.find(\".\" + CLASS_NAME.split(' ')[0]);\n",
       "\n",
       "    if (output.metadata[EXEC_MIME_TYPE][\"id\"] !== undefined) {\n",
       "      toinsert[toinsert.length - 1].firstChild.textContent = output.data[JS_MIME_TYPE];\n",
       "      // store reference to embed id on output_area\n",
       "      output_area._bokeh_element_id = output.metadata[EXEC_MIME_TYPE][\"id\"];\n",
       "    }\n",
       "    if (output.metadata[EXEC_MIME_TYPE][\"server_id\"] !== undefined) {\n",
       "      var bk_div = document.createElement(\"div\");\n",
       "      bk_div.innerHTML = output.data[HTML_MIME_TYPE];\n",
       "      var script_attrs = bk_div.children[0].attributes;\n",
       "      for (var i = 0; i < script_attrs.length; i++) {\n",
       "        toinsert[toinsert.length - 1].firstChild.setAttribute(script_attrs[i].name, script_attrs[i].value);\n",
       "      }\n",
       "      // store reference to server id on output_area\n",
       "      output_area._bokeh_server_id = output.metadata[EXEC_MIME_TYPE][\"server_id\"];\n",
       "    }\n",
       "  }\n",
       "\n",
       "  function register_renderer(events, OutputArea) {\n",
       "\n",
       "    function append_mime(data, metadata, element) {\n",
       "      // create a DOM node to render to\n",
       "      var toinsert = this.create_output_subarea(\n",
       "        metadata,\n",
       "        CLASS_NAME,\n",
       "        EXEC_MIME_TYPE\n",
       "      );\n",
       "      this.keyboard_manager.register_events(toinsert);\n",
       "      // Render to node\n",
       "      var props = {data: data, metadata: metadata[EXEC_MIME_TYPE]};\n",
       "      render(props, toinsert[toinsert.length - 1]);\n",
       "      element.append(toinsert);\n",
       "      return toinsert\n",
       "    }\n",
       "\n",
       "    /* Handle when an output is cleared or removed */\n",
       "    events.on('clear_output.CodeCell', handleClearOutput);\n",
       "    events.on('delete.Cell', handleClearOutput);\n",
       "\n",
       "    /* Handle when a new output is added */\n",
       "    events.on('output_added.OutputArea', handleAddOutput);\n",
       "\n",
       "    /**\n",
       "     * Register the mime type and append_mime function with output_area\n",
       "     */\n",
       "    OutputArea.prototype.register_mime_type(EXEC_MIME_TYPE, append_mime, {\n",
       "      /* Is output safe? */\n",
       "      safe: true,\n",
       "      /* Index of renderer in `output_area.display_order` */\n",
       "      index: 0\n",
       "    });\n",
       "  }\n",
       "\n",
       "  // register the mime type if in Jupyter Notebook environment and previously unregistered\n",
       "  if (root.Jupyter !== undefined) {\n",
       "    var events = require('base/js/events');\n",
       "    var OutputArea = require('notebook/js/outputarea').OutputArea;\n",
       "\n",
       "    if (OutputArea.prototype.mime_types().indexOf(EXEC_MIME_TYPE) == -1) {\n",
       "      register_renderer(events, OutputArea);\n",
       "    }\n",
       "  }\n",
       "\n",
       "  \n",
       "  if (typeof (root._bokeh_timeout) === \"undefined\" || force === true) {\n",
       "    root._bokeh_timeout = Date.now() + 5000;\n",
       "    root._bokeh_failed_load = false;\n",
       "  }\n",
       "\n",
       "  var NB_LOAD_WARNING = {'data': {'text/html':\n",
       "     \"<div style='background-color: #fdd'>\\n\"+\n",
       "     \"<p>\\n\"+\n",
       "     \"BokehJS does not appear to have successfully loaded. If loading BokehJS from CDN, this \\n\"+\n",
       "     \"may be due to a slow or bad network connection. Possible fixes:\\n\"+\n",
       "     \"</p>\\n\"+\n",
       "     \"<ul>\\n\"+\n",
       "     \"<li>re-rerun `output_notebook()` to attempt to load from CDN again, or</li>\\n\"+\n",
       "     \"<li>use INLINE resources instead, as so:</li>\\n\"+\n",
       "     \"</ul>\\n\"+\n",
       "     \"<code>\\n\"+\n",
       "     \"from bokeh.resources import INLINE\\n\"+\n",
       "     \"output_notebook(resources=INLINE)\\n\"+\n",
       "     \"</code>\\n\"+\n",
       "     \"</div>\"}};\n",
       "\n",
       "  function display_loaded() {\n",
       "    var el = document.getElementById(\"1001\");\n",
       "    if (el != null) {\n",
       "      el.textContent = \"BokehJS is loading...\";\n",
       "    }\n",
       "    if (root.Bokeh !== undefined) {\n",
       "      if (el != null) {\n",
       "        el.textContent = \"BokehJS \" + root.Bokeh.version + \" successfully loaded.\";\n",
       "      }\n",
       "    } else if (Date.now() < root._bokeh_timeout) {\n",
       "      setTimeout(display_loaded, 100)\n",
       "    }\n",
       "  }\n",
       "\n",
       "\n",
       "  function run_callbacks() {\n",
       "    try {\n",
       "      root._bokeh_onload_callbacks.forEach(function(callback) {\n",
       "        if (callback != null)\n",
       "          callback();\n",
       "      });\n",
       "    } finally {\n",
       "      delete root._bokeh_onload_callbacks\n",
       "    }\n",
       "    console.debug(\"Bokeh: all callbacks have finished\");\n",
       "  }\n",
       "\n",
       "  function load_libs(css_urls, js_urls, callback) {\n",
       "    if (css_urls == null) css_urls = [];\n",
       "    if (js_urls == null) js_urls = [];\n",
       "\n",
       "    root._bokeh_onload_callbacks.push(callback);\n",
       "    if (root._bokeh_is_loading > 0) {\n",
       "      console.debug(\"Bokeh: BokehJS is being loaded, scheduling callback at\", now());\n",
       "      return null;\n",
       "    }\n",
       "    if (js_urls == null || js_urls.length === 0) {\n",
       "      run_callbacks();\n",
       "      return null;\n",
       "    }\n",
       "    console.debug(\"Bokeh: BokehJS not loaded, scheduling load and callback at\", now());\n",
       "    root._bokeh_is_loading = css_urls.length + js_urls.length;\n",
       "\n",
       "    function on_load() {\n",
       "      root._bokeh_is_loading--;\n",
       "      if (root._bokeh_is_loading === 0) {\n",
       "        console.debug(\"Bokeh: all BokehJS libraries/stylesheets loaded\");\n",
       "        run_callbacks()\n",
       "      }\n",
       "    }\n",
       "\n",
       "    function on_error() {\n",
       "      console.error(\"failed to load \" + url);\n",
       "    }\n",
       "\n",
       "    for (var i = 0; i < css_urls.length; i++) {\n",
       "      var url = css_urls[i];\n",
       "      const element = document.createElement(\"link\");\n",
       "      element.onload = on_load;\n",
       "      element.onerror = on_error;\n",
       "      element.rel = \"stylesheet\";\n",
       "      element.type = \"text/css\";\n",
       "      element.href = url;\n",
       "      console.debug(\"Bokeh: injecting link tag for BokehJS stylesheet: \", url);\n",
       "      document.body.appendChild(element);\n",
       "    }\n",
       "\n",
       "    for (var i = 0; i < js_urls.length; i++) {\n",
       "      var url = js_urls[i];\n",
       "      var element = document.createElement('script');\n",
       "      element.onload = on_load;\n",
       "      element.onerror = on_error;\n",
       "      element.async = false;\n",
       "      element.src = url;\n",
       "      console.debug(\"Bokeh: injecting script tag for BokehJS library: \", url);\n",
       "      document.head.appendChild(element);\n",
       "    }\n",
       "  };var element = document.getElementById(\"1001\");\n",
       "  if (element == null) {\n",
       "    console.error(\"Bokeh: ERROR: autoload.js configured with elementid '1001' but no matching script tag was found. \")\n",
       "    return false;\n",
       "  }\n",
       "\n",
       "  function inject_raw_css(css) {\n",
       "    const element = document.createElement(\"style\");\n",
       "    element.appendChild(document.createTextNode(css));\n",
       "    document.body.appendChild(element);\n",
       "  }\n",
       "\n",
       "  \n",
       "  var js_urls = [\"https://cdn.pydata.org/bokeh/release/bokeh-1.4.0.min.js\", \"https://cdn.pydata.org/bokeh/release/bokeh-widgets-1.4.0.min.js\", \"https://cdn.pydata.org/bokeh/release/bokeh-tables-1.4.0.min.js\", \"https://cdn.pydata.org/bokeh/release/bokeh-gl-1.4.0.min.js\"];\n",
       "  var css_urls = [];\n",
       "  \n",
       "\n",
       "  var inline_js = [\n",
       "    function(Bokeh) {\n",
       "      Bokeh.set_log_level(\"info\");\n",
       "    },\n",
       "    function(Bokeh) {\n",
       "    \n",
       "    \n",
       "    }\n",
       "  ];\n",
       "\n",
       "  function run_inline_js() {\n",
       "    \n",
       "    if (root.Bokeh !== undefined || force === true) {\n",
       "      \n",
       "    for (var i = 0; i < inline_js.length; i++) {\n",
       "      inline_js[i].call(root, root.Bokeh);\n",
       "    }\n",
       "    if (force === true) {\n",
       "        display_loaded();\n",
       "      }} else if (Date.now() < root._bokeh_timeout) {\n",
       "      setTimeout(run_inline_js, 100);\n",
       "    } else if (!root._bokeh_failed_load) {\n",
       "      console.log(\"Bokeh: BokehJS failed to load within specified timeout.\");\n",
       "      root._bokeh_failed_load = true;\n",
       "    } else if (force !== true) {\n",
       "      var cell = $(document.getElementById(\"1001\")).parents('.cell').data().cell;\n",
       "      cell.output_area.append_execute_result(NB_LOAD_WARNING)\n",
       "    }\n",
       "\n",
       "  }\n",
       "\n",
       "  if (root._bokeh_is_loading === 0) {\n",
       "    console.debug(\"Bokeh: BokehJS loaded, going straight to plotting\");\n",
       "    run_inline_js();\n",
       "  } else {\n",
       "    load_libs(css_urls, js_urls, function() {\n",
       "      console.debug(\"Bokeh: BokehJS plotting callback run at\", now());\n",
       "      run_inline_js();\n",
       "    });\n",
       "  }\n",
       "}(window));"
      ],
      "application/vnd.bokehjs_load.v0+json": "\n(function(root) {\n  function now() {\n    return new Date();\n  }\n\n  var force = true;\n\n  if (typeof root._bokeh_onload_callbacks === \"undefined\" || force === true) {\n    root._bokeh_onload_callbacks = [];\n    root._bokeh_is_loading = undefined;\n  }\n\n  \n\n  \n  if (typeof (root._bokeh_timeout) === \"undefined\" || force === true) {\n    root._bokeh_timeout = Date.now() + 5000;\n    root._bokeh_failed_load = false;\n  }\n\n  var NB_LOAD_WARNING = {'data': {'text/html':\n     \"<div style='background-color: #fdd'>\\n\"+\n     \"<p>\\n\"+\n     \"BokehJS does not appear to have successfully loaded. If loading BokehJS from CDN, this \\n\"+\n     \"may be due to a slow or bad network connection. Possible fixes:\\n\"+\n     \"</p>\\n\"+\n     \"<ul>\\n\"+\n     \"<li>re-rerun `output_notebook()` to attempt to load from CDN again, or</li>\\n\"+\n     \"<li>use INLINE resources instead, as so:</li>\\n\"+\n     \"</ul>\\n\"+\n     \"<code>\\n\"+\n     \"from bokeh.resources import INLINE\\n\"+\n     \"output_notebook(resources=INLINE)\\n\"+\n     \"</code>\\n\"+\n     \"</div>\"}};\n\n  function display_loaded() {\n    var el = document.getElementById(\"1001\");\n    if (el != null) {\n      el.textContent = \"BokehJS is loading...\";\n    }\n    if (root.Bokeh !== undefined) {\n      if (el != null) {\n        el.textContent = \"BokehJS \" + root.Bokeh.version + \" successfully loaded.\";\n      }\n    } else if (Date.now() < root._bokeh_timeout) {\n      setTimeout(display_loaded, 100)\n    }\n  }\n\n\n  function run_callbacks() {\n    try {\n      root._bokeh_onload_callbacks.forEach(function(callback) {\n        if (callback != null)\n          callback();\n      });\n    } finally {\n      delete root._bokeh_onload_callbacks\n    }\n    console.debug(\"Bokeh: all callbacks have finished\");\n  }\n\n  function load_libs(css_urls, js_urls, callback) {\n    if (css_urls == null) css_urls = [];\n    if (js_urls == null) js_urls = [];\n\n    root._bokeh_onload_callbacks.push(callback);\n    if (root._bokeh_is_loading > 0) {\n      console.debug(\"Bokeh: BokehJS is being loaded, scheduling callback at\", now());\n      return null;\n    }\n    if (js_urls == null || js_urls.length === 0) {\n      run_callbacks();\n      return null;\n    }\n    console.debug(\"Bokeh: BokehJS not loaded, scheduling load and callback at\", now());\n    root._bokeh_is_loading = css_urls.length + js_urls.length;\n\n    function on_load() {\n      root._bokeh_is_loading--;\n      if (root._bokeh_is_loading === 0) {\n        console.debug(\"Bokeh: all BokehJS libraries/stylesheets loaded\");\n        run_callbacks()\n      }\n    }\n\n    function on_error() {\n      console.error(\"failed to load \" + url);\n    }\n\n    for (var i = 0; i < css_urls.length; i++) {\n      var url = css_urls[i];\n      const element = document.createElement(\"link\");\n      element.onload = on_load;\n      element.onerror = on_error;\n      element.rel = \"stylesheet\";\n      element.type = \"text/css\";\n      element.href = url;\n      console.debug(\"Bokeh: injecting link tag for BokehJS stylesheet: \", url);\n      document.body.appendChild(element);\n    }\n\n    for (var i = 0; i < js_urls.length; i++) {\n      var url = js_urls[i];\n      var element = document.createElement('script');\n      element.onload = on_load;\n      element.onerror = on_error;\n      element.async = false;\n      element.src = url;\n      console.debug(\"Bokeh: injecting script tag for BokehJS library: \", url);\n      document.head.appendChild(element);\n    }\n  };var element = document.getElementById(\"1001\");\n  if (element == null) {\n    console.error(\"Bokeh: ERROR: autoload.js configured with elementid '1001' but no matching script tag was found. \")\n    return false;\n  }\n\n  function inject_raw_css(css) {\n    const element = document.createElement(\"style\");\n    element.appendChild(document.createTextNode(css));\n    document.body.appendChild(element);\n  }\n\n  \n  var js_urls = [\"https://cdn.pydata.org/bokeh/release/bokeh-1.4.0.min.js\", \"https://cdn.pydata.org/bokeh/release/bokeh-widgets-1.4.0.min.js\", \"https://cdn.pydata.org/bokeh/release/bokeh-tables-1.4.0.min.js\", \"https://cdn.pydata.org/bokeh/release/bokeh-gl-1.4.0.min.js\"];\n  var css_urls = [];\n  \n\n  var inline_js = [\n    function(Bokeh) {\n      Bokeh.set_log_level(\"info\");\n    },\n    function(Bokeh) {\n    \n    \n    }\n  ];\n\n  function run_inline_js() {\n    \n    if (root.Bokeh !== undefined || force === true) {\n      \n    for (var i = 0; i < inline_js.length; i++) {\n      inline_js[i].call(root, root.Bokeh);\n    }\n    if (force === true) {\n        display_loaded();\n      }} else if (Date.now() < root._bokeh_timeout) {\n      setTimeout(run_inline_js, 100);\n    } else if (!root._bokeh_failed_load) {\n      console.log(\"Bokeh: BokehJS failed to load within specified timeout.\");\n      root._bokeh_failed_load = true;\n    } else if (force !== true) {\n      var cell = $(document.getElementById(\"1001\")).parents('.cell').data().cell;\n      cell.output_area.append_execute_result(NB_LOAD_WARNING)\n    }\n\n  }\n\n  if (root._bokeh_is_loading === 0) {\n    console.debug(\"Bokeh: BokehJS loaded, going straight to plotting\");\n    run_inline_js();\n  } else {\n    load_libs(css_urls, js_urls, function() {\n      console.debug(\"Bokeh: BokehJS plotting callback run at\", now());\n      run_inline_js();\n    });\n  }\n}(window));"
     },
     "metadata": {},
     "output_type": "display_data"
    },
    {
     "name": "stdout",
     "output_type": "stream",
     "text": [
      "Requirement already satisfied: gensim in /opt/anaconda3/lib/python3.7/site-packages (4.0.1)\n",
      "Requirement already satisfied: smart-open>=1.8.1 in /opt/anaconda3/lib/python3.7/site-packages (from gensim) (5.0.0)\n",
      "Requirement already satisfied: numpy>=1.11.3 in /opt/anaconda3/lib/python3.7/site-packages (from gensim) (1.18.1)\n",
      "Requirement already satisfied: scipy>=0.18.1 in /opt/anaconda3/lib/python3.7/site-packages (from gensim) (1.4.1)\n",
      "Requirement already satisfied: python-Levenshtein in /opt/anaconda3/lib/python3.7/site-packages (0.12.2)\n",
      "Requirement already satisfied: setuptools in /opt/anaconda3/lib/python3.7/site-packages (from python-Levenshtein) (46.0.0.post20200309)\n"
     ]
    }
   ],
   "source": [
    "import pandas as pd\n",
    "import numpy as np\n",
    "from functools import reduce\n",
    "import matplotlib.pyplot as plt\n",
    "import os\n",
    "\n",
    "# plot functions\n",
    "import seaborn as sns\n",
    "import matplotlib.pyplot as plt\n",
    "from bokeh.plotting import figure\n",
    "from bokeh.io import show, output_notebook, curdoc, output_file\n",
    "from bokeh.models import ColumnDataSource, FactorRange, Legend, HoverTool, GeoJSONDataSource, \\\n",
    "                        LinearColorMapper, ColorBar, NumeralTickFormatter, Div, Select, TableColumn, \\\n",
    "                        DataTable, CheckboxGroup, Tabs, Panel, CheckboxButtonGroup, RadioButtonGroup\n",
    "from bokeh.application.handlers import FunctionHandler\n",
    "from bokeh.application import Application\n",
    "from bokeh.palettes import Category20c, Pastel1, Set3, Blues\n",
    "from bokeh.layouts import column, row, WidgetBox, gridplot\n",
    "from bokeh.embed import file_html\n",
    "from bokeh.resources import CDN\n",
    "from bokeh.tile_providers import get_provider, Vendors\n",
    "from bokeh.transform import linear_cmap,factor_cmap\n",
    "output_notebook()\n",
    "\n",
    "#Anomaly detection\n",
    "\n",
    "import sys\n",
    "!{sys.executable} -m pip install gensim\n",
    "!{sys.executable} -m pip install python-Levenshtein\n",
    "\n",
    "from gensim.parsing.preprocessing import remove_stopwords\n",
    "from gensim.utils import simple_preprocess\n",
    "from gensim.parsing.porter import PorterStemmer\n",
    "from collections import Counter\n",
    "from sklearn.ensemble import IsolationForest\n",
    "\n",
    "from wordcloud import WordCloud\n",
    "import matplotlib.pyplot as plt"
   ]
  },
  {
   "cell_type": "markdown",
   "metadata": {},
   "source": [
    "### 2.1.1. Preprocessing of data"
   ]
  },
  {
   "cell_type": "code",
   "execution_count": 2,
   "metadata": {},
   "outputs": [
    {
     "data": {
      "text/plain": [
       "'/Users/Ellen/Documents/Dokumenter/DTU/6.Semester/SocialData/Project/yelp_dataset'"
      ]
     },
     "execution_count": 2,
     "metadata": {},
     "output_type": "execute_result"
    }
   ],
   "source": [
    "#path = 'C:\\\\Users\\\\Miche\\\\OneDrive - Danmarks Tekniske Universitet\\\\MMC\\\\2. Semester\\\\Social Data\\\\websites\\\\data'\n",
    "path = '/Users/Ellen/Documents/Dokumenter/DTU/6.Semester/SocialData/Project/yelp_dataset'\n",
    "os.chdir(path)\n",
    "os.getcwd()"
   ]
  },
  {
   "cell_type": "code",
   "execution_count": 3,
   "metadata": {},
   "outputs": [
    {
     "name": "stdout",
     "output_type": "stream",
     "text": [
      "(160585, 14)\n"
     ]
    }
   ],
   "source": [
    "df = pd.read_json('yelp_academic_dataset_business.json', lines=True)\n",
    "print(df.shape)"
   ]
  },
  {
   "cell_type": "markdown",
   "metadata": {},
   "source": [
    "Checking which columns we have available. "
   ]
  },
  {
   "cell_type": "code",
   "execution_count": 4,
   "metadata": {},
   "outputs": [
    {
     "data": {
      "text/plain": [
       "Index(['business_id', 'name', 'address', 'city', 'state', 'postal_code',\n",
       "       'latitude', 'longitude', 'stars', 'review_count', 'is_open',\n",
       "       'attributes', 'categories', 'hours'],\n",
       "      dtype='object')"
      ]
     },
     "execution_count": 4,
     "metadata": {},
     "output_type": "execute_result"
    }
   ],
   "source": [
    "df.columns"
   ]
  },
  {
   "cell_type": "markdown",
   "metadata": {},
   "source": [
    "We only want to look at the restaurants that are open and not closed."
   ]
  },
  {
   "cell_type": "code",
   "execution_count": 5,
   "metadata": {},
   "outputs": [],
   "source": [
    "df = df[df['is_open']==1]\n",
    "df = df.drop(['is_open'], axis=1)"
   ]
  },
  {
   "cell_type": "markdown",
   "metadata": {},
   "source": [
    "Start by select all the rows that mention restaurants."
   ]
  },
  {
   "cell_type": "code",
   "execution_count": 6,
   "metadata": {},
   "outputs": [
    {
     "data": {
      "text/plain": [
       "Restaurants                  32022\n",
       "Food                         10732\n",
       "Nightlife                     5550\n",
       "Bars                          5345\n",
       "Sandwiches                    4795\n",
       "American (Traditional)        4379\n",
       "Fast Food                     4326\n",
       "Pizza                         3890\n",
       "Breakfast & Brunch            3872\n",
       "American (New)                3254\n",
       "Burgers                       3246\n",
       "Coffee & Tea                  3010\n",
       "Mexican                       2815\n",
       "Chinese                       2329\n",
       "Italian                       2130\n",
       "Seafood                       1998\n",
       "Salad                         1975\n",
       "Event Planning & Services     1916\n",
       "Cafes                         1871\n",
       "Japanese                      1773\n",
       "Name: categories, dtype: int64"
      ]
     },
     "execution_count": 6,
     "metadata": {},
     "output_type": "execute_result"
    }
   ],
   "source": [
    "df = df[df['categories'].str.contains('Restaurants',\n",
    "              case=False, na=False)]\n",
    "\n",
    "df_explode = df.assign(categories = df.categories\n",
    "                         .str.split(', ')).explode('categories')\n",
    "\n",
    "df_explode.categories.value_counts().head(20)"
   ]
  },
  {
   "cell_type": "code",
   "execution_count": 7,
   "metadata": {},
   "outputs": [],
   "source": [
    "remove = ['Food Delivery Services','Food Safety Training', 'Food Tours', \n",
    "          'Food Banks','Chinese Martial Arts','Traditional Chinese Medicine',\n",
    "         'Coffee & Tea Supplies','Japanese Curry', 'Food Court',\n",
    "         'Food Trucks','Food Stands']\n",
    "\n",
    "df = df[~df['categories'].str.contains('|'.join(remove),\n",
    "              case=False, na=False)]"
   ]
  },
  {
   "cell_type": "markdown",
   "metadata": {},
   "source": [
    "Try to split the category column into different subgroups, so we can do some nice plotting."
   ]
  },
  {
   "cell_type": "code",
   "execution_count": 8,
   "metadata": {},
   "outputs": [],
   "source": [
    "cat_kitchens = ['thai', 'chinese','japanese','korean','indian','american',\n",
    "                 'caribbean','italian','mediterranean','mexican', 'cajun',\n",
    "                'vietnamese','greek']\n",
    "\n",
    "cat_type = ['Food','Nightlife','Bars','Sandwiches','Pizza','Breakfast & Brunch', 'Fast Food',\n",
    "            'Burgers','Salad', 'Buffet', 'Cafes','Coffee & Tea', 'Vegetarian', 'Steakhouse', 'Sushi Bars',\n",
    "            'Diners','Wine Bars']\n",
    "\n",
    "df_explode = df.assign(categories = df.categories\n",
    "                         .str.split(', ')).explode('categories')\n",
    "\n",
    "\n",
    "df_cat_kitchen = df_explode[df_explode['categories'].str.contains(\n",
    "              '|'.join(cat_kitchens),\n",
    "              case=False, na=False)]\n",
    "\n",
    "df_cat_kitchen = df_cat_kitchen.rename(columns={'categories':'cat_kitchen'})\n",
    "df_cat_kitchen = df_cat_kitchen['cat_kitchen']\n",
    "\n",
    "df_cat_type = df_explode[df_explode['categories'].str.match(\n",
    "              '|'.join(cat_type),\n",
    "              case=True, na=False)]\n",
    "\n",
    "df_cat_type = df_cat_type.rename(columns={'categories':'cat_type'})\n",
    "df_cat_type = df_cat_type['cat_type']"
   ]
  },
  {
   "cell_type": "code",
   "execution_count": 9,
   "metadata": {},
   "outputs": [
    {
     "data": {
      "text/plain": [
       "array(['American (Traditional)', 'Thai', 'American (New)', 'Italian',\n",
       "       'Indian', 'Mexican', 'Chinese', 'Caribbean', 'Japanese',\n",
       "       'Mediterranean', 'Greek', 'Vietnamese', 'Latin American',\n",
       "       'Cajun/Creole', 'Korean', 'New Mexican Cuisine'], dtype=object)"
      ]
     },
     "execution_count": 9,
     "metadata": {},
     "output_type": "execute_result"
    }
   ],
   "source": [
    "df_cat_kitchen.unique()"
   ]
  },
  {
   "cell_type": "code",
   "execution_count": 10,
   "metadata": {},
   "outputs": [
    {
     "data": {
      "text/plain": [
       "array(['Food', 'Bars', 'Nightlife', 'Salad', 'Sandwiches', 'Cafes',\n",
       "       'Vegetarian', 'Breakfast & Brunch', 'Pizza', 'Sushi Bars',\n",
       "       'Steakhouses', 'Fast Food', 'Burgers', 'Coffee & Tea', 'Diners',\n",
       "       'Buffets', 'Wine Bars'], dtype=object)"
      ]
     },
     "execution_count": 10,
     "metadata": {},
     "output_type": "execute_result"
    }
   ],
   "source": [
    "df_cat_type.unique()"
   ]
  },
  {
   "cell_type": "code",
   "execution_count": 11,
   "metadata": {},
   "outputs": [
    {
     "data": {
      "text/plain": [
       "array(['CO', 'FL', 'MA', 'OR', 'OH', 'GA', 'TX', 'BC', 'WA', 'KS', 'KY'],\n",
       "      dtype=object)"
      ]
     },
     "execution_count": 11,
     "metadata": {},
     "output_type": "execute_result"
    }
   ],
   "source": [
    "df_merge_list = [df, df_cat_kitchen, df_cat_type]\n",
    "\n",
    "df_merged = reduce(lambda  left, right: pd.merge(left,right,left_index=True,\n",
    "                                            right_index=True), df_merge_list)\n",
    "\n",
    "df_merged.shape\n",
    "\n",
    "df_merged.state.unique()"
   ]
  },
  {
   "cell_type": "markdown",
   "metadata": {},
   "source": [
    "Below is a for-loop and if-statement, this is used to insert the full name of the state. It is assumed that not all people know what state MA is. Furthermore, the latitude and longitude for each state is also inserted. These are used later to give us an overview over where we have data from."
   ]
  },
  {
   "cell_type": "code",
   "execution_count": 12,
   "metadata": {},
   "outputs": [],
   "source": [
    "name = []\n",
    "long = []\n",
    "lat = []\n",
    "for state in df_merged['state']:\n",
    "    if state =='MA':\n",
    "        name.append('Massachusetts')\n",
    "        lat.append(42.407211)\n",
    "        long.append(- 71.382439)\n",
    "    elif state =='FL':\n",
    "        name.append('Florida')\n",
    "        lat.append(27.994402)\n",
    "        long.append(-81.760254)\n",
    "    elif state =='OR':\n",
    "        name.append('Oregon')\n",
    "        lat.append(44.000000)\n",
    "        long.append(-120.500000)\n",
    "    elif state =='BC':\n",
    "        name.append('British Columbia')\n",
    "        lat.append(53.726669)\n",
    "        long.append(-127.647621)\n",
    "    elif state =='GA':\n",
    "        name.append('Georgia')\n",
    "        lat.append(33.247875)\n",
    "        long.append(-83.441162)\n",
    "    elif state =='TX':\n",
    "        name.append('Texas')\n",
    "        lat.append(31.000000)\n",
    "        long.append(-100.000000)\n",
    "    elif state =='OH':\n",
    "        name.append('Ohio')\n",
    "        lat.append(40.367474)\n",
    "        long.append(-82.996216)\n",
    "    elif state =='CO':\n",
    "        name.append('Colorado')\n",
    "        lat.append(39.113014)\n",
    "        long.append(-105.358887)\n",
    "    elif state =='WA':\n",
    "        name.append('Washington')\n",
    "        lat.append(47.751076)\n",
    "        long.append(-120.740135)\n",
    "    elif state =='KS':\n",
    "        name.append('Kansas')\n",
    "        lat.append(38.500000)\n",
    "        long.append(-98.000000)\n",
    "    elif state == 'KY':\n",
    "        name.append('Kentucky')\n",
    "        lat.append(37.839333)\n",
    "        long.append(-84.270020)\n",
    "        \n",
    "df_merged['state_name'], df_merged['latitude_state'], df_merged['longitude_state']  = name, lat, long"
   ]
  },
  {
   "cell_type": "markdown",
   "metadata": {},
   "source": [
    "Extracting some more features, e.g. pricerange on the restaurants."
   ]
  },
  {
   "cell_type": "code",
   "execution_count": 13,
   "metadata": {},
   "outputs": [
    {
     "data": {
      "text/plain": [
       "$$         17575\n",
       "$           8268\n",
       "Unknown     2625\n",
       "$$$         1223\n",
       "$$$$         145\n",
       "Name: PriceRange, dtype: int64"
      ]
     },
     "execution_count": 13,
     "metadata": {},
     "output_type": "execute_result"
    }
   ],
   "source": [
    "df_merged['attributes'] = df_merged['attributes'].apply(lambda x: {} if x is None else x)\n",
    "df_att = pd.json_normalize(df_merged.attributes)\n",
    "df_att = df_att['RestaurantsPriceRange2'].to_frame()\n",
    "\n",
    "PriceRange = []\n",
    "AvgPrice = []\n",
    "for row in df_att['RestaurantsPriceRange2']:\n",
    "    if row == '1' :    \n",
    "        PriceRange.append('$')\n",
    "        AvgPrice.append(1)\n",
    "    elif row == '2':   \n",
    "        PriceRange.append('$$')\n",
    "        AvgPrice.append(20)\n",
    "    elif row == '3':  \n",
    "        PriceRange.append('$$$')\n",
    "        AvgPrice.append(45)\n",
    "    elif row == '4':  \n",
    "        PriceRange.append('$$$$')\n",
    "        AvgPrice.append(75)\n",
    "    else:           \n",
    "        PriceRange.append('Unknown')\n",
    "        AvgPrice.append(0)\n",
    "        \n",
    "df_merged['PriceRange'], df_merged['AvgPrice'] = PriceRange, AvgPrice\n",
    "df_merged.shape\n",
    "\n",
    "df_merged['PriceRange'].value_counts()"
   ]
  },
  {
   "cell_type": "markdown",
   "metadata": {},
   "source": [
    "### 2.1.2. Load Massive dataset\n",
    "\n",
    "**Review dataset**"
   ]
  },
  {
   "cell_type": "code",
   "execution_count": 14,
   "metadata": {},
   "outputs": [],
   "source": [
    "size = 500000\n",
    "review = pd.read_json('yelp_academic_dataset_review.json', lines=True,\n",
    "                      dtype={'review_id':str,'user_id':str,\n",
    "                             'business_id':str,'stars':int,\n",
    "                             'date':str,'text':str,'useful':int,\n",
    "                             'funny':int,'cool':int},\n",
    "                      chunksize=size)"
   ]
  },
  {
   "cell_type": "code",
   "execution_count": 15,
   "metadata": {},
   "outputs": [
    {
     "name": "stdout",
     "output_type": "stream",
     "text": [
      "416263 out of 500,000 related reviews\n",
      "384085 out of 500,000 related reviews\n",
      "371677 out of 500,000 related reviews\n",
      "358510 out of 500,000 related reviews\n",
      "349565 out of 500,000 related reviews\n",
      "356785 out of 500,000 related reviews\n",
      "353610 out of 500,000 related reviews\n",
      "407361 out of 500,000 related reviews\n",
      "371185 out of 500,000 related reviews\n",
      "362734 out of 500,000 related reviews\n",
      "361974 out of 500,000 related reviews\n",
      "362709 out of 500,000 related reviews\n",
      "388455 out of 500,000 related reviews\n",
      "373812 out of 500,000 related reviews\n",
      "414622 out of 500,000 related reviews\n",
      "414618 out of 500,000 related reviews\n",
      "433111 out of 500,000 related reviews\n",
      "107384 out of 500,000 related reviews\n"
     ]
    },
    {
     "data": {
      "text/plain": [
       "(6588460, 24)"
      ]
     },
     "execution_count": 15,
     "metadata": {},
     "output_type": "execute_result"
    }
   ],
   "source": [
    "# There are multiple chunks to be read\n",
    "chunk_list = []\n",
    "for chunk_review in review:\n",
    "    # Drop columns that aren't needed\n",
    "    chunk_review = chunk_review.drop(['review_id','useful','funny','cool'], axis=1)\n",
    "    # Renaming column name to avoid conflict with business overall star rating\n",
    "    chunk_review = chunk_review.rename(columns={'stars': 'review_stars'})\n",
    "    # Inner merge with edited business file so only reviews related to the business remain\n",
    "    chunk_merged = pd.merge(df_merged, chunk_review, on='business_id', how='inner')\n",
    "    # Show feedback on progress\n",
    "    print(f\"{chunk_merged.shape[0]} out of {size:,} related reviews\")\n",
    "    chunk_list.append(chunk_merged)\n",
    "# After trimming down the review file, concatenate all relevant data back to one dataframe\n",
    "df = pd.concat(chunk_list, ignore_index=True, join='outer', axis=0)\n",
    "\n",
    "df.shape"
   ]
  },
  {
   "cell_type": "markdown",
   "metadata": {},
   "source": [
    "**User Id dataset**"
   ]
  },
  {
   "cell_type": "code",
   "execution_count": 16,
   "metadata": {},
   "outputs": [],
   "source": [
    "size = 500000\n",
    "review = pd.read_json('yelp_academic_dataset_user.json', lines=True,\n",
    "                      dtype={'user_id':str,'name':str,\n",
    "                             'review_count':int},\n",
    "                      chunksize=size)"
   ]
  },
  {
   "cell_type": "code",
   "execution_count": 17,
   "metadata": {},
   "outputs": [
    {
     "name": "stdout",
     "output_type": "stream",
     "text": [
      "4073724 out of 500,000 related reviews\n",
      "1175245 out of 500,000 related reviews\n",
      "689031 out of 500,000 related reviews\n",
      "486388 out of 500,000 related reviews\n",
      "164072 out of 500,000 related reviews\n"
     ]
    },
    {
     "data": {
      "text/plain": [
       "Index(['business_id', 'name', 'address', 'city', 'state', 'postal_code',\n",
       "       'latitude', 'longitude', 'stars', 'review_count', 'attributes',\n",
       "       'categories', 'hours', 'cat_kitchen', 'cat_type', 'state_name',\n",
       "       'latitude_state', 'longitude_state', 'PriceRange', 'AvgPrice',\n",
       "       'user_id', 'review_stars', 'text', 'date', 'username', 'user_count',\n",
       "       'average_stars'],\n",
       "      dtype='object')"
      ]
     },
     "execution_count": 17,
     "metadata": {},
     "output_type": "execute_result"
    }
   ],
   "source": [
    "# There are multiple chunks to be read\n",
    "chunk_list = []\n",
    "for chunk_review in review:\n",
    "    # Drop columns that aren't needed\n",
    "    chunk_review = chunk_review.drop(['useful','elite','funny','cool','friends','yelping_since',\n",
    "                                      'fans','compliment_more','compliment_profile','compliment_hot',\n",
    "                                      'compliment_more', 'compliment_profile', 'compliment_cute',\n",
    "                                      'compliment_list', 'compliment_note', 'compliment_plain',\n",
    "                                      'compliment_cool', 'compliment_funny', 'compliment_writer',\n",
    "                                      'compliment_photos'], axis=1)\n",
    "    # Renaming column name to avoid conflict with business overall star rating\n",
    "    chunk_review = chunk_review.rename(columns={'name': 'username','review_count':'user_count'})\n",
    "    # Inner merge with edited business file so only reviews related to the business remain\n",
    "    chunk_merged = pd.merge(df, chunk_review, on='user_id', how='inner')\n",
    "    # Show feedback on progress\n",
    "    print(f\"{chunk_merged.shape[0]} out of {size:,} related reviews\")\n",
    "    chunk_list.append(chunk_merged)\n",
    "# After trimming down the review file, concatenate all relevant data back to one dataframe\n",
    "df = pd.concat(chunk_list, ignore_index=True, join='outer', axis=0)\n",
    "\n",
    "df.shape\n",
    "\n",
    "df.columns"
   ]
  },
  {
   "cell_type": "markdown",
   "metadata": {},
   "source": [
    "### 2.1.3. Specify time period\n",
    "\n",
    "Remember that the time period in this explainer notebook only considers data from 2019 and onwards. "
   ]
  },
  {
   "cell_type": "code",
   "execution_count": 18,
   "metadata": {},
   "outputs": [
    {
     "name": "stdout",
     "output_type": "stream",
     "text": [
      "2004-10-14 02:57:52\n",
      "2021-01-28 15:23:52\n"
     ]
    }
   ],
   "source": [
    "print (df.date.min())\n",
    "print (df.date.max())"
   ]
  },
  {
   "cell_type": "code",
   "execution_count": 19,
   "metadata": {},
   "outputs": [
    {
     "name": "stdout",
     "output_type": "stream",
     "text": [
      "object\n",
      "datetime64[ns]\n"
     ]
    }
   ],
   "source": [
    "print(df.date.dtypes)\n",
    "df['date'] = pd.to_datetime(df['date'])\n",
    "print(df.date.dtypes)"
   ]
  },
  {
   "cell_type": "code",
   "execution_count": 20,
   "metadata": {},
   "outputs": [],
   "source": [
    "time_start = pd.Timestamp(2019,1,1)\n",
    "\n",
    "#Filter the data\n",
    "df = df[(df['date']>= time_start)]"
   ]
  },
  {
   "cell_type": "code",
   "execution_count": 21,
   "metadata": {},
   "outputs": [
    {
     "name": "stdout",
     "output_type": "stream",
     "text": [
      "2019-01-01 00:00:09\n",
      "2021-01-28 15:23:52\n",
      "(1427833, 27)\n"
     ]
    }
   ],
   "source": [
    "print (df.date.min())\n",
    "print (df.date.max())\n",
    "print(df.shape)"
   ]
  },
  {
   "cell_type": "markdown",
   "metadata": {},
   "source": [
    "## 2.2 Basic Statistics"
   ]
  },
  {
   "cell_type": "code",
   "execution_count": 22,
   "metadata": {},
   "outputs": [
    {
     "name": "stdout",
     "output_type": "stream",
     "text": [
      "Timeperiod of the dataset\n",
      "2019-01-01 00:00:09\n",
      "2021-01-28 15:23:52\n"
     ]
    }
   ],
   "source": [
    "print('Timeperiod of the dataset')\n",
    "print (df.date.min())\n",
    "print (df.date.max())"
   ]
  },
  {
   "cell_type": "code",
   "execution_count": 23,
   "metadata": {},
   "outputs": [
    {
     "data": {
      "text/html": [
       "<div>\n",
       "<style scoped>\n",
       "    .dataframe tbody tr th:only-of-type {\n",
       "        vertical-align: middle;\n",
       "    }\n",
       "\n",
       "    .dataframe tbody tr th {\n",
       "        vertical-align: top;\n",
       "    }\n",
       "\n",
       "    .dataframe thead th {\n",
       "        text-align: right;\n",
       "    }\n",
       "</style>\n",
       "<table border=\"1\" class=\"dataframe\">\n",
       "  <thead>\n",
       "    <tr style=\"text-align: right;\">\n",
       "      <th></th>\n",
       "      <th>business_id</th>\n",
       "      <th>name</th>\n",
       "      <th>address</th>\n",
       "      <th>city</th>\n",
       "      <th>state</th>\n",
       "      <th>postal_code</th>\n",
       "      <th>latitude</th>\n",
       "      <th>longitude</th>\n",
       "      <th>stars</th>\n",
       "      <th>review_count</th>\n",
       "      <th>...</th>\n",
       "      <th>longitude_state</th>\n",
       "      <th>PriceRange</th>\n",
       "      <th>AvgPrice</th>\n",
       "      <th>user_id</th>\n",
       "      <th>review_stars</th>\n",
       "      <th>text</th>\n",
       "      <th>date</th>\n",
       "      <th>username</th>\n",
       "      <th>user_count</th>\n",
       "      <th>average_stars</th>\n",
       "    </tr>\n",
       "  </thead>\n",
       "  <tbody>\n",
       "    <tr>\n",
       "      <th>15</th>\n",
       "      <td>7bioKzHBPPRdM7-jJQAwkg</td>\n",
       "      <td>Cafe Aion</td>\n",
       "      <td>1235 Pennsylvania Ave</td>\n",
       "      <td>Boulder</td>\n",
       "      <td>CO</td>\n",
       "      <td>80302</td>\n",
       "      <td>40.008789</td>\n",
       "      <td>-105.276503</td>\n",
       "      <td>3.5</td>\n",
       "      <td>144</td>\n",
       "      <td>...</td>\n",
       "      <td>-105.358887</td>\n",
       "      <td>$$</td>\n",
       "      <td>20</td>\n",
       "      <td>eXRC79iX60xwA1UuGRuWNg</td>\n",
       "      <td>4</td>\n",
       "      <td>Best paella I have enjoyed in a long time on a...</td>\n",
       "      <td>2019-09-16 19:26:44</td>\n",
       "      <td>Daniel</td>\n",
       "      <td>376</td>\n",
       "      <td>4.29</td>\n",
       "    </tr>\n",
       "    <tr>\n",
       "      <th>16</th>\n",
       "      <td>7bioKzHBPPRdM7-jJQAwkg</td>\n",
       "      <td>Cafe Aion</td>\n",
       "      <td>1235 Pennsylvania Ave</td>\n",
       "      <td>Boulder</td>\n",
       "      <td>CO</td>\n",
       "      <td>80302</td>\n",
       "      <td>40.008789</td>\n",
       "      <td>-105.276503</td>\n",
       "      <td>3.5</td>\n",
       "      <td>144</td>\n",
       "      <td>...</td>\n",
       "      <td>-105.358887</td>\n",
       "      <td>$$</td>\n",
       "      <td>20</td>\n",
       "      <td>eXRC79iX60xwA1UuGRuWNg</td>\n",
       "      <td>4</td>\n",
       "      <td>Best paella I have enjoyed in a long time on a...</td>\n",
       "      <td>2019-09-16 19:26:44</td>\n",
       "      <td>Daniel</td>\n",
       "      <td>376</td>\n",
       "      <td>4.29</td>\n",
       "    </tr>\n",
       "    <tr>\n",
       "      <th>17</th>\n",
       "      <td>7bioKzHBPPRdM7-jJQAwkg</td>\n",
       "      <td>Cafe Aion</td>\n",
       "      <td>1235 Pennsylvania Ave</td>\n",
       "      <td>Boulder</td>\n",
       "      <td>CO</td>\n",
       "      <td>80302</td>\n",
       "      <td>40.008789</td>\n",
       "      <td>-105.276503</td>\n",
       "      <td>3.5</td>\n",
       "      <td>144</td>\n",
       "      <td>...</td>\n",
       "      <td>-105.358887</td>\n",
       "      <td>$$</td>\n",
       "      <td>20</td>\n",
       "      <td>eXRC79iX60xwA1UuGRuWNg</td>\n",
       "      <td>4</td>\n",
       "      <td>Best paella I have enjoyed in a long time on a...</td>\n",
       "      <td>2019-09-16 19:26:44</td>\n",
       "      <td>Daniel</td>\n",
       "      <td>376</td>\n",
       "      <td>4.29</td>\n",
       "    </tr>\n",
       "  </tbody>\n",
       "</table>\n",
       "<p>3 rows × 27 columns</p>\n",
       "</div>"
      ],
      "text/plain": [
       "               business_id       name                address     city state  \\\n",
       "15  7bioKzHBPPRdM7-jJQAwkg  Cafe Aion  1235 Pennsylvania Ave  Boulder    CO   \n",
       "16  7bioKzHBPPRdM7-jJQAwkg  Cafe Aion  1235 Pennsylvania Ave  Boulder    CO   \n",
       "17  7bioKzHBPPRdM7-jJQAwkg  Cafe Aion  1235 Pennsylvania Ave  Boulder    CO   \n",
       "\n",
       "   postal_code   latitude   longitude  stars  review_count  ...  \\\n",
       "15       80302  40.008789 -105.276503    3.5           144  ...   \n",
       "16       80302  40.008789 -105.276503    3.5           144  ...   \n",
       "17       80302  40.008789 -105.276503    3.5           144  ...   \n",
       "\n",
       "   longitude_state PriceRange AvgPrice                 user_id review_stars  \\\n",
       "15     -105.358887         $$       20  eXRC79iX60xwA1UuGRuWNg            4   \n",
       "16     -105.358887         $$       20  eXRC79iX60xwA1UuGRuWNg            4   \n",
       "17     -105.358887         $$       20  eXRC79iX60xwA1UuGRuWNg            4   \n",
       "\n",
       "                                                 text                date  \\\n",
       "15  Best paella I have enjoyed in a long time on a... 2019-09-16 19:26:44   \n",
       "16  Best paella I have enjoyed in a long time on a... 2019-09-16 19:26:44   \n",
       "17  Best paella I have enjoyed in a long time on a... 2019-09-16 19:26:44   \n",
       "\n",
       "    username user_count  average_stars  \n",
       "15    Daniel        376           4.29  \n",
       "16    Daniel        376           4.29  \n",
       "17    Daniel        376           4.29  \n",
       "\n",
       "[3 rows x 27 columns]"
      ]
     },
     "execution_count": 23,
     "metadata": {},
     "output_type": "execute_result"
    }
   ],
   "source": [
    "df.head(3)"
   ]
  },
  {
   "cell_type": "markdown",
   "metadata": {},
   "source": [
    "Start by checking NaN values"
   ]
  },
  {
   "cell_type": "code",
   "execution_count": 24,
   "metadata": {},
   "outputs": [
    {
     "name": "stdout",
     "output_type": "stream",
     "text": [
      "Any missing values: 13490\n"
     ]
    }
   ],
   "source": [
    "print('Any missing values:', df.isnull().sum().sum())"
   ]
  },
  {
   "cell_type": "markdown",
   "metadata": {},
   "source": [
    "From further analysis, the missing values were in the columns: `hours`,`address` and `username`. Since these are not being used, these can be dropped."
   ]
  },
  {
   "cell_type": "code",
   "execution_count": 25,
   "metadata": {},
   "outputs": [
    {
     "name": "stdout",
     "output_type": "stream",
     "text": [
      "Any missing values: 0\n"
     ]
    }
   ],
   "source": [
    "df = df.drop(['hours','address', 'username'],axis=1) \n",
    "print('Any missing values:', df.isnull().sum().sum())"
   ]
  },
  {
   "cell_type": "markdown",
   "metadata": {},
   "source": [
    "Checking the top categories in different columns"
   ]
  },
  {
   "cell_type": "code",
   "execution_count": 26,
   "metadata": {},
   "outputs": [
    {
     "name": "stdout",
     "output_type": "stream",
     "text": [
      "Top categories in the dataset\n",
      "Restaurants               474516\n",
      "Nightlife                 215142\n",
      "Bars                      210543\n",
      "American (Traditional)    151234\n",
      "Food                      145887\n",
      "American (New)            142120\n",
      "Breakfast & Brunch        103777\n",
      "Cocktail Bars              67327\n",
      "Italian                    60927\n",
      "Seafood                    56583\n",
      "Name: categories, dtype: int64\n",
      "Checking that all rows have the value *Restaurant*: (474516, 24)\n"
     ]
    }
   ],
   "source": [
    "#exploding the dataframe so the categories column is not a list type\n",
    "df_duplicates = df.drop_duplicates(subset=['name','date'])\n",
    "df_explode = df_duplicates.assign(categories = df_duplicates['categories'].str.split(', ')).explode('categories')\n",
    "\n",
    "print('Top categories in the dataset')\n",
    "print(df_explode['categories'].value_counts().head(10))\n",
    "print('Checking that all rows have the value *Restaurant*:', df_duplicates.shape)"
   ]
  },
  {
   "cell_type": "markdown",
   "metadata": {},
   "source": [
    "Making sure that all rows have restaurants in their cateogy, which is true. "
   ]
  },
  {
   "cell_type": "code",
   "execution_count": 27,
   "metadata": {},
   "outputs": [
    {
     "name": "stdout",
     "output_type": "stream",
     "text": [
      "Top categories in the dataset based on our own variables\n",
      "American (New)            402680\n",
      "American (Traditional)    401768\n",
      "Italian                   145842\n",
      "Mexican                   115041\n",
      "Japanese                   92693\n",
      "Mediterranean              38533\n",
      "Latin American             37376\n",
      "Chinese                    34799\n",
      "Thai                       33531\n",
      "Vietnamese                 27448\n",
      "Name: cat_kitchen, dtype: int64\n"
     ]
    }
   ],
   "source": [
    "print('Top categories in the dataset based on our own variables')\n",
    "print(df['cat_kitchen'].value_counts().head(10))"
   ]
  },
  {
   "cell_type": "code",
   "execution_count": 28,
   "metadata": {},
   "outputs": [
    {
     "name": "stdout",
     "output_type": "stream",
     "text": [
      "Top categories in the dataset based on our own variables\n",
      "Nightlife             278677\n",
      "Bars                  272804\n",
      "Food                  187643\n",
      "Breakfast & Brunch    139675\n",
      "Sandwiches             71084\n",
      "Burgers                64662\n",
      "Sushi Bars             57982\n",
      "Pizza                  56752\n",
      "Salad                  50463\n",
      "Wine Bars              40405\n",
      "Name: cat_type, dtype: int64\n"
     ]
    }
   ],
   "source": [
    "print('Top categories in the dataset based on our own variables')\n",
    "print(df['cat_type'].value_counts().head(10))"
   ]
  },
  {
   "cell_type": "code",
   "execution_count": 29,
   "metadata": {},
   "outputs": [
    {
     "name": "stdout",
     "output_type": "stream",
     "text": [
      "Count of the different price ranges\n",
      "$$         1067612\n",
      "$           180525\n",
      "$$$          98665\n",
      "Unknown      72023\n",
      "$$$$          9008\n",
      "Name: PriceRange, dtype: int64\n"
     ]
    }
   ],
   "source": [
    "print('Count of the different price ranges')\n",
    "print(df['PriceRange'].value_counts())"
   ]
  },
  {
   "cell_type": "markdown",
   "metadata": {},
   "source": [
    "Some descriptive statisics for the different variables"
   ]
  },
  {
   "cell_type": "code",
   "execution_count": 30,
   "metadata": {},
   "outputs": [
    {
     "data": {
      "text/html": [
       "<div>\n",
       "<style scoped>\n",
       "    .dataframe tbody tr th:only-of-type {\n",
       "        vertical-align: middle;\n",
       "    }\n",
       "\n",
       "    .dataframe tbody tr th {\n",
       "        vertical-align: top;\n",
       "    }\n",
       "\n",
       "    .dataframe thead th {\n",
       "        text-align: right;\n",
       "    }\n",
       "</style>\n",
       "<table border=\"1\" class=\"dataframe\">\n",
       "  <thead>\n",
       "    <tr style=\"text-align: right;\">\n",
       "      <th></th>\n",
       "      <th>name</th>\n",
       "      <th>city</th>\n",
       "      <th>state</th>\n",
       "      <th>cat_kitchen</th>\n",
       "      <th>cat_type</th>\n",
       "      <th>PriceRange</th>\n",
       "    </tr>\n",
       "  </thead>\n",
       "  <tbody>\n",
       "    <tr>\n",
       "      <th>count</th>\n",
       "      <td>1427833</td>\n",
       "      <td>1427833</td>\n",
       "      <td>1427833</td>\n",
       "      <td>1427833</td>\n",
       "      <td>1427833</td>\n",
       "      <td>1427833</td>\n",
       "    </tr>\n",
       "    <tr>\n",
       "      <th>unique</th>\n",
       "      <td>8552</td>\n",
       "      <td>302</td>\n",
       "      <td>11</td>\n",
       "      <td>16</td>\n",
       "      <td>17</td>\n",
       "      <td>5</td>\n",
       "    </tr>\n",
       "    <tr>\n",
       "      <th>top</th>\n",
       "      <td>Café Tu Tu Tango</td>\n",
       "      <td>Austin</td>\n",
       "      <td>FL</td>\n",
       "      <td>American (New)</td>\n",
       "      <td>Nightlife</td>\n",
       "      <td>$$</td>\n",
       "    </tr>\n",
       "    <tr>\n",
       "      <th>freq</th>\n",
       "      <td>14940</td>\n",
       "      <td>206986</td>\n",
       "      <td>314503</td>\n",
       "      <td>402680</td>\n",
       "      <td>278677</td>\n",
       "      <td>1067612</td>\n",
       "    </tr>\n",
       "  </tbody>\n",
       "</table>\n",
       "</div>"
      ],
      "text/plain": [
       "                    name     city    state     cat_kitchen   cat_type  \\\n",
       "count            1427833  1427833  1427833         1427833    1427833   \n",
       "unique              8552      302       11              16         17   \n",
       "top     Café Tu Tu Tango   Austin       FL  American (New)  Nightlife   \n",
       "freq               14940   206986   314503          402680     278677   \n",
       "\n",
       "       PriceRange  \n",
       "count     1427833  \n",
       "unique          5  \n",
       "top            $$  \n",
       "freq      1067612  "
      ]
     },
     "execution_count": 30,
     "metadata": {},
     "output_type": "execute_result"
    }
   ],
   "source": [
    "variables = ['name','city','state','cat_kitchen','cat_type','PriceRange']\n",
    "df[variables].describe()"
   ]
  },
  {
   "cell_type": "markdown",
   "metadata": {},
   "source": [
    "So there are 11 unique states in the dataset and 302 unique cities."
   ]
  },
  {
   "cell_type": "code",
   "execution_count": 31,
   "metadata": {},
   "outputs": [
    {
     "data": {
      "text/html": [
       "<div>\n",
       "<style scoped>\n",
       "    .dataframe tbody tr th:only-of-type {\n",
       "        vertical-align: middle;\n",
       "    }\n",
       "\n",
       "    .dataframe tbody tr th {\n",
       "        vertical-align: top;\n",
       "    }\n",
       "\n",
       "    .dataframe thead th {\n",
       "        text-align: right;\n",
       "    }\n",
       "</style>\n",
       "<table border=\"1\" class=\"dataframe\">\n",
       "  <thead>\n",
       "    <tr style=\"text-align: right;\">\n",
       "      <th></th>\n",
       "      <th>stars</th>\n",
       "      <th>AvgPrice</th>\n",
       "    </tr>\n",
       "  </thead>\n",
       "  <tbody>\n",
       "    <tr>\n",
       "      <th>count</th>\n",
       "      <td>1427833.00</td>\n",
       "      <td>1427833.00</td>\n",
       "    </tr>\n",
       "    <tr>\n",
       "      <th>mean</th>\n",
       "      <td>3.85</td>\n",
       "      <td>18.66</td>\n",
       "    </tr>\n",
       "    <tr>\n",
       "      <th>std</th>\n",
       "      <td>0.58</td>\n",
       "      <td>11.24</td>\n",
       "    </tr>\n",
       "    <tr>\n",
       "      <th>min</th>\n",
       "      <td>1.00</td>\n",
       "      <td>0.00</td>\n",
       "    </tr>\n",
       "    <tr>\n",
       "      <th>25%</th>\n",
       "      <td>3.50</td>\n",
       "      <td>20.00</td>\n",
       "    </tr>\n",
       "    <tr>\n",
       "      <th>50%</th>\n",
       "      <td>4.00</td>\n",
       "      <td>20.00</td>\n",
       "    </tr>\n",
       "    <tr>\n",
       "      <th>75%</th>\n",
       "      <td>4.00</td>\n",
       "      <td>20.00</td>\n",
       "    </tr>\n",
       "    <tr>\n",
       "      <th>max</th>\n",
       "      <td>5.00</td>\n",
       "      <td>75.00</td>\n",
       "    </tr>\n",
       "  </tbody>\n",
       "</table>\n",
       "</div>"
      ],
      "text/plain": [
       "            stars    AvgPrice\n",
       "count  1427833.00  1427833.00\n",
       "mean         3.85       18.66\n",
       "std          0.58       11.24\n",
       "min          1.00        0.00\n",
       "25%          3.50       20.00\n",
       "50%          4.00       20.00\n",
       "75%          4.00       20.00\n",
       "max          5.00       75.00"
      ]
     },
     "execution_count": 31,
     "metadata": {},
     "output_type": "execute_result"
    }
   ],
   "source": [
    "variables = ['stars', 'AvgPrice']\n",
    "round(df[variables].describe(),2)"
   ]
  },
  {
   "cell_type": "code",
   "execution_count": 32,
   "metadata": {},
   "outputs": [
    {
     "name": "stderr",
     "output_type": "stream",
     "text": [
      "/opt/anaconda3/lib/python3.7/site-packages/seaborn/_decorators.py:43: FutureWarning: Pass the following variable as a keyword arg: x. From version 0.12, the only valid positional argument will be `data`, and passing other arguments without an explicit keyword will result in an error or misinterpretation.\n",
      "  FutureWarning\n"
     ]
    },
    {
     "data": {
      "image/png": "[encoded data removed]",
      "text/plain": [
       "<Figure size 720x360 with 1 Axes>"
      ]
     },
     "metadata": {
      "needs_background": "light"
     },
     "output_type": "display_data"
    }
   ],
   "source": [
    "fig = plt.figure(figsize=(10, 5))\n",
    "sns.boxplot(df['stars'], color='#2b8cbe', saturation=0.5)\n",
    "plt.tight_layout(h_pad=2)"
   ]
  },
  {
   "cell_type": "code",
   "execution_count": 33,
   "metadata": {},
   "outputs": [
    {
     "data": {
      "image/png": "[encoded data removed]",
      "text/plain": [
       "<Figure size 720x360 with 1 Axes>"
      ]
     },
     "metadata": {
      "needs_background": "light"
     },
     "output_type": "display_data"
    }
   ],
   "source": [
    "fig = plt.figure(figsize=(10,5))\n",
    "selected = ['stars']\n",
    "plt.title('Stars')\n",
    "sns.boxplot(x='state_name', y='stars', data=df, palette='YlGnBu', saturation=0.5)\n",
    "plt.xticks(rotation=90)\n",
    "plt.tight_layout(h_pad=2)"
   ]
  },
  {
   "cell_type": "code",
   "execution_count": 34,
   "metadata": {},
   "outputs": [
    {
     "data": {
      "text/plain": [
       "<seaborn.axisgrid.FacetGrid at 0x7f7df0c35f90>"
      ]
     },
     "execution_count": 34,
     "metadata": {},
     "output_type": "execute_result"
    },
    {
     "data": {
      "image/png": "[encoded data removed]",
      "text/plain": [
       "<Figure size 1080x1440 with 11 Axes>"
      ]
     },
     "metadata": {
      "needs_background": "light"
     },
     "output_type": "display_data"
    }
   ],
   "source": [
    "g = sns.FacetGrid(df, col=\"state_name\", height=5, col_wrap=3)\n",
    "g.map(sns.histplot, \"stars\")"
   ]
  },
  {
   "cell_type": "code",
   "execution_count": 35,
   "metadata": {},
   "outputs": [
    {
     "data": {
      "text/plain": [
       "<seaborn.axisgrid.FacetGrid at 0x7f806a7446d0>"
      ]
     },
     "execution_count": 35,
     "metadata": {},
     "output_type": "execute_result"
    },
    {
     "data": {
      "image/png": "[encoded data removed]",
      "text/plain": [
       "<Figure size 1080x1440 with 11 Axes>"
      ]
     },
     "metadata": {
      "needs_background": "light"
     },
     "output_type": "display_data"
    }
   ],
   "source": [
    "g = sns.FacetGrid(df, col=\"state_name\", height=5, col_wrap=3)\n",
    "g.map(sns.histplot, \"AvgPrice\")"
   ]
  },
  {
   "cell_type": "code",
   "execution_count": 36,
   "metadata": {},
   "outputs": [
    {
     "data": {
      "text/plain": [
       "<seaborn.axisgrid.FacetGrid at 0x7f806a9b1650>"
      ]
     },
     "execution_count": 36,
     "metadata": {},
     "output_type": "execute_result"
    },
    {
     "data": {
      "image/png": "[encoded data removed]",
      "text/plain": [
       "<Figure size 700x864 with 11 Axes>"
      ]
     },
     "metadata": {
      "needs_background": "light"
     },
     "output_type": "display_data"
    }
   ],
   "source": [
    "df['date'] = pd.to_datetime(df['date'])\n",
    "df['year'] = df['date'].dt.year\n",
    "\n",
    "year_stars = df.groupby(['year','stars','state_name'])\\\n",
    "            .agg({'business_id':'count'}).rename({'business_id' : 'count'},axis=1)\\\n",
    "                    .reset_index()\n",
    "year_stars.head()\n",
    "\n",
    "g = sns.FacetGrid(year_stars, col=\"state_name\",col_wrap=3)\n",
    "g.map_dataframe(sns.scatterplot, x=\"year\", y=\"count\", hue='stars')\n",
    "g.set_axis_labels(\"Year\", \"Count\")\n",
    "g.add_legend()"
   ]
  },
  {
   "cell_type": "code",
   "execution_count": 37,
   "metadata": {},
   "outputs": [],
   "source": [
    "PriceRange = []\n",
    "for row in df['AvgPrice']:\n",
    "    if row ==  1 :    \n",
    "        PriceRange.append('\\$')\n",
    "    elif row == 20:   \n",
    "        PriceRange.append('\\$\\$')\n",
    "    elif row == 45:  \n",
    "        PriceRange.append('\\$\\$\\$')\n",
    "    elif row == 75:  \n",
    "        PriceRange.append('\\$\\$\\$\\$')\n",
    "    else:           \n",
    "        PriceRange.append('Unknown')\n",
    "        \n",
    "df['price_range'] = PriceRange"
   ]
  },
  {
   "cell_type": "code",
   "execution_count": 38,
   "metadata": {},
   "outputs": [
    {
     "data": {
      "text/plain": [
       "<seaborn.axisgrid.FacetGrid at 0x7f8069197ed0>"
      ]
     },
     "execution_count": 38,
     "metadata": {},
     "output_type": "execute_result"
    },
    {
     "data": {
      "image/png": "[encoded data removed]",
      "text/plain": [
       "<Figure size 730.375x864 with 11 Axes>"
      ]
     },
     "metadata": {
      "needs_background": "light"
     },
     "output_type": "display_data"
    }
   ],
   "source": [
    "year_stars = df.groupby(['year','price_range','state_name'])\\\n",
    "            .agg({'business_id':'count'}).rename({'business_id' : 'count'},axis=1)\\\n",
    "                    .reset_index()\n",
    "\n",
    "year_stars.head()\n",
    "\n",
    "\n",
    "g = sns.FacetGrid(year_stars, col=\"state_name\",col_wrap=3)\n",
    "g.map_dataframe(sns.scatterplot, x=\"year\", y=\"count\", hue='price_range')\n",
    "g.set_axis_labels(\"Year\", \"Count\")\n",
    "g.add_legend()"
   ]
  },
  {
   "cell_type": "markdown",
   "metadata": {},
   "source": [
    "## 3. Exploratory Data Analysis\n",
    "\n",
    "Before you get into the root cause analysis of this project, an exploratory data analysis is presented, which will give you an overview of different metrics used. The first section will give you a brief introduction to where the states, how many restaurants, but also present how many there are under the two self-made categories, namely kitchen and type. The next section will give an overview of how the stars are distributed on state, kitchen and type. The last section will dig deeper into the time-based metric. Here it will be presented what time of the day most reviews are done based on the three categories, state, kitchen and type. There will also be presented a map of Austin, TX for the year 2020, where it is possible to see the development of reviews per week throughout the year.\n",
    "\n",
    "### 3.1. General Overview of the data\n",
    "\n",
    "This section will build your fundamental understanding of the dataset considered throughout this website. The figure below illustrates a world map of North America, where the light blue illustrates which states the data is covering. You can hover over the light blue circle to see how many restaurants there is in each state. The state where there is the most restaurant is Massachusetts and the states where are are the fewest is Kansas and Kentucky. From this map it is also possible to see that the dataset only covers one state in Canada, British Columnbia.\n",
    "\n",
    "Starting out by illustrating the different states and how many restaurants there are in each state."
   ]
  },
  {
   "cell_type": "code",
   "execution_count": 39,
   "metadata": {},
   "outputs": [
    {
     "data": {
      "text/plain": [
       "(8995, 26)"
      ]
     },
     "execution_count": 39,
     "metadata": {},
     "output_type": "execute_result"
    }
   ],
   "source": [
    "restaurants = df.drop_duplicates(subset=['name','state'])\n",
    "restaurant_ = restaurants.groupby(['state_name', 'latitude_state', 'longitude_state']).size().reset_index(name='Counts').sort_values(by='Counts',ascending=False)\n",
    "restaurants.shape"
   ]
  },
  {
   "cell_type": "markdown",
   "metadata": {},
   "source": [
    "Below it used to define the sizes of the circle on our world map. The function is forcing the count values to be between 15 and 50. This is done, because in some states there are above 1000 of restaurants, hence why the circle will fill the whole plot without seeing the map. "
   ]
  },
  {
   "cell_type": "code",
   "execution_count": 40,
   "metadata": {},
   "outputs": [],
   "source": [
    "r_max = max(restaurant_['Counts'])\n",
    "r_min = min(restaurant_['Counts'])\n",
    "t_min = 15\n",
    "t_max = 50\n",
    "\n",
    "restaurant_['Size'] = (restaurant_['Counts'] - r_min)/(r_max - r_min) * (t_max - t_min) + t_min"
   ]
  },
  {
   "cell_type": "markdown",
   "metadata": {},
   "source": [
    "To do a world map with the Bokeh application, one should rescale the longitude and latitude. This is done with the function `x_coord(x,y)`. "
   ]
  },
  {
   "cell_type": "code",
   "execution_count": 41,
   "metadata": {},
   "outputs": [],
   "source": [
    "# Define function to switch from lat/long to mercator coordinates\n",
    "def x_coord(x, y):\n",
    "    \n",
    "    lat = x\n",
    "    lon = y\n",
    "    \n",
    "    r_major = 6378137.000\n",
    "    x = r_major * np.radians(lon)\n",
    "    scale = x/lon\n",
    "    y = 180.0/np.pi * np.log(np.tan(np.pi/4.0 + \n",
    "        lat * (np.pi/180.0)/2.0)) * scale\n",
    "    return (x, y)\n",
    "\n",
    "# Define coord as tuple (lat,long)\n",
    "restaurants_copy = restaurant_.copy()\n",
    "restaurants_copy['coordinates'] = list(zip(restaurants_copy['latitude_state'], restaurants_copy['longitude_state']))\n",
    "# Obtain list of mercator coordinates\n",
    "mercators = [x_coord(x, y) for x, y in restaurants_copy['coordinates']]\n",
    "\n",
    "# Create mercator column in our df\n",
    "restaurants_copy['mercator'] = mercators\n",
    "# Split that column out into two separate columns - mercator_x and mercator_y\n",
    "restaurants_copy[['mercator_x', 'mercator_y']] = restaurants_copy['mercator'].apply(pd.Series)"
   ]
  },
  {
   "cell_type": "markdown",
   "metadata": {},
   "source": [
    "Below is the map configured, where the tile is of the plot is also chosen. Here a hover tool is made, where state name and counts of restaurants are presented when the user is hovering over the different cities on the map. "
   ]
  },
  {
   "cell_type": "code",
   "execution_count": 42,
   "metadata": {},
   "outputs": [
    {
     "data": {
      "text/html": [
       "\n",
       "\n",
       "\n",
       "\n",
       "\n",
       "\n",
       "  <div class=\"bk-root\" id=\"049a12a1-817d-41c7-8c31-ea8cb1fd5908\" data-root-id=\"1003\"></div>\n"
      ]
     },
     "metadata": {},
     "output_type": "display_data"
    },
    {
     "data": {
      "application/javascript": [
       "(function(root) {\n",
       "  function embed_document(root) {\n",
       "    \n",
       "  var docs_json = {\"25fcd43e-844c-4044-b24c-79784f2fea2b\":{\"roots\":{\"references\":[{\"attributes\":{\"below\":[{\"id\":\"1014\",\"type\":\"MercatorAxis\"}],\"center\":[{\"id\":\"1022\",\"type\":\"Grid\"},{\"id\":\"1031\",\"type\":\"Grid\"}],\"left\":[{\"id\":\"1023\",\"type\":\"MercatorAxis\"}],\"plot_width\":800,\"renderers\":[{\"id\":\"1047\",\"type\":\"TileRenderer\"},{\"id\":\"1053\",\"type\":\"GlyphRenderer\"}],\"title\":{\"id\":\"1004\",\"type\":\"Title\"},\"toolbar\":{\"id\":\"1039\",\"type\":\"Toolbar\"},\"x_range\":{\"id\":\"1006\",\"type\":\"DataRange1d\"},\"x_scale\":{\"id\":\"1010\",\"type\":\"LinearScale\"},\"y_range\":{\"id\":\"1008\",\"type\":\"DataRange1d\"},\"y_scale\":{\"id\":\"1012\",\"type\":\"LinearScale\"}},\"id\":\"1003\",\"subtype\":\"Figure\",\"type\":\"Plot\"},{\"attributes\":{\"dimension\":\"lat\"},\"id\":\"1026\",\"type\":\"MercatorTickFormatter\"},{\"attributes\":{\"callback\":null,\"tooltips\":[[\"State\",\"@state_name\"],[\"Count\",\"@Counts\"]]},\"id\":\"1038\",\"type\":\"HoverTool\"},{\"attributes\":{\"data_source\":{\"id\":\"1049\",\"type\":\"ColumnDataSource\"},\"glyph\":{\"id\":\"1051\",\"type\":\"Circle\"},\"hover_glyph\":null,\"muted_glyph\":null,\"nonselection_glyph\":{\"id\":\"1052\",\"type\":\"Circle\"},\"selection_glyph\":null,\"view\":{\"id\":\"1054\",\"type\":\"CDSView\"}},\"id\":\"1053\",\"type\":\"GlyphRenderer\"},{\"attributes\":{},\"id\":\"1035\",\"type\":\"SaveTool\"},{\"attributes\":{\"attribution\":\"&copy; <a href=\\\"https://www.openstreetmap.org/copyright\\\">OpenStreetMap</a> contributors,&copy; <a href=\\\"https://cartodb.com/attributions\\\">CartoDB</a>\",\"url\":\"https://tiles.basemaps.cartocdn.com/light_all/{z}/{x}/{y}.png\"},\"id\":\"1002\",\"type\":\"WMTSTileSource\"},{\"attributes\":{},\"id\":\"1010\",\"type\":\"LinearScale\"},{\"attributes\":{\"dimension\":\"lat\"},\"id\":\"1024\",\"type\":\"MercatorTicker\"},{\"attributes\":{\"callback\":null},\"id\":\"1008\",\"type\":\"DataRange1d\"},{\"attributes\":{\"ticker\":{\"id\":\"1015\",\"type\":\"MercatorTicker\"}},\"id\":\"1022\",\"type\":\"Grid\"},{\"attributes\":{\"dimension\":\"lon\"},\"id\":\"1017\",\"type\":\"MercatorTickFormatter\"},{\"attributes\":{\"bottom_units\":\"screen\",\"fill_alpha\":{\"value\":0.5},\"fill_color\":{\"value\":\"lightgrey\"},\"left_units\":\"screen\",\"level\":\"overlay\",\"line_alpha\":{\"value\":1.0},\"line_color\":{\"value\":\"black\"},\"line_dash\":[4,4],\"line_width\":{\"value\":2},\"render_mode\":\"css\",\"right_units\":\"screen\",\"top_units\":\"screen\"},\"id\":\"1060\",\"type\":\"BoxAnnotation\"},{\"attributes\":{\"callback\":null,\"data\":{\"Counts\":[2079,1511,1186,1120,1116,874,776,170,161,1,1],\"Size\":{\"__ndarray__\":\"AAAAAAAASUARhJgbcDdEQFobX6LDekFAULdoOXnsQEDzeiOQ2eNAQKVtjR48tD1Aud9MuKwNPEDobFpfs9gxQELdouXksTFAAAAAAAAALkAAAAAAAAAuQA==\",\"dtype\":\"float64\",\"shape\":[11]},\"coordinates\":[[42.407211,-71.382439],[27.994402,-81.760254],[44.0,-120.5],[33.247875,-83.441162],[53.726669,-127.647621],[31.0,-100.0],[40.367474,-82.996216],[47.751076,-120.740135],[39.113014,-105.358887],[38.5,-98.0],[37.839333,-84.27002]],\"index\":[6,2,8,3,0,9,7,10,1,4,5],\"latitude_state\":{\"__ndarray__\":\"JclzfR80RUC2EyUhkf47QAAAAAAAAEZAfT81XrqfQEAuAmN9A91KQAAAAAAAAD9ArhBWYwkvREC+ZyRCI+BHQL3+JD53jkNAAAAAAABAQ0APuoRDb+tCQA==\",\"dtype\":\"float64\",\"shape\":[11]},\"longitude_state\":{\"__ndarray__\":\"wm1t4XnYUcDOqWQAqHBUwAAAAAAAIF7AO4+K/zvcVMD7zFmfculfwAAAAAAAAFnAIPDAAMK/VMD/5zBfXi9ewGn9LQH4VlrAAAAAAACAWMAFUfcBSBFVwA==\",\"dtype\":\"float64\",\"shape\":[11]},\"mercator\":[[-7946256.761061912,5222174.205138603],[-9101509.84240871,3248268.028256595],[-13413998.640589466,5465442.183322754],[-9288627.66503905,3928251.6314549968],[-14209668.170692775,7118559.6876617335],[-11131949.079327356,3632749.143384426],[-9239096.502888545,4919487.17752223],[-13440730.346511107,6065542.2099071],[-11728497.65138605,4737872.811227995],[-10909310.09774081,4650301.836738959],[-9380895.71553898,4556753.751157565]],\"mercator_x\":{\"__ndarray__\":\"Bj21MARQXsEcA/W6GFxhwXu1f9TNlWnB+f9HdXa3YcGyUHaFUBprwYbZiaKFO2XBuKkXEEefYcF2nhZL26JpwY8n2DTOXmbBVrEgw8/OZMEBsuX2g+RhwQ==\",\"dtype\":\"float64\",\"shape\":[11]},\"mercator_y\":{\"__ndarray__\":\"qv0gjcfrU0GA6Z0DRshIQVyPu4tY2VRBcITT0F34TUFcpgLstydbQb5rWpI2t0tBM4Zcyy/EUkEwHm+NYSNXQdMo6zPUElJBkCGNdU+9UUEu9xJw9GFRQQ==\",\"dtype\":\"float64\",\"shape\":[11]},\"state_name\":[\"Massachusetts\",\"Florida\",\"Oregon\",\"Georgia\",\"British Columbia\",\"Texas\",\"Ohio\",\"Washington\",\"Colorado\",\"Kansas\",\"Kentucky\"]},\"selected\":{\"id\":\"1062\",\"type\":\"Selection\"},\"selection_policy\":{\"id\":\"1061\",\"type\":\"UnionRenderers\"}},\"id\":\"1049\",\"type\":\"ColumnDataSource\"},{\"attributes\":{\"dimension\":\"lon\"},\"id\":\"1015\",\"type\":\"MercatorTicker\"},{\"attributes\":{\"overlay\":{\"id\":\"1060\",\"type\":\"BoxAnnotation\"}},\"id\":\"1034\",\"type\":\"BoxZoomTool\"},{\"attributes\":{},\"id\":\"1037\",\"type\":\"HelpTool\"},{\"attributes\":{},\"id\":\"1061\",\"type\":\"UnionRenderers\"},{\"attributes\":{\"active_drag\":\"auto\",\"active_inspect\":\"auto\",\"active_multi\":null,\"active_scroll\":\"auto\",\"active_tap\":\"auto\",\"tools\":[{\"id\":\"1032\",\"type\":\"PanTool\"},{\"id\":\"1033\",\"type\":\"WheelZoomTool\"},{\"id\":\"1034\",\"type\":\"BoxZoomTool\"},{\"id\":\"1035\",\"type\":\"SaveTool\"},{\"id\":\"1036\",\"type\":\"ResetTool\"},{\"id\":\"1037\",\"type\":\"HelpTool\"},{\"id\":\"1038\",\"type\":\"HoverTool\"}]},\"id\":\"1039\",\"type\":\"Toolbar\"},{\"attributes\":{\"fill_alpha\":{\"value\":0.1},\"fill_color\":{\"value\":\"#1f77b4\"},\"line_alpha\":{\"value\":0.1},\"line_color\":{\"value\":\"#1f77b4\"},\"size\":{\"field\":\"Size\",\"units\":\"screen\"},\"x\":{\"field\":\"mercator_x\"},\"y\":{\"field\":\"mercator_y\"}},\"id\":\"1052\",\"type\":\"Circle\"},{\"attributes\":{\"text\":\"Number of restaurants in North American\"},\"id\":\"1004\",\"type\":\"Title\"},{\"attributes\":{},\"id\":\"1062\",\"type\":\"Selection\"},{\"attributes\":{\"fill_alpha\":{\"value\":0.7},\"fill_color\":{\"value\":\"lightblue\"},\"line_color\":{\"value\":\"lightblue\"},\"size\":{\"field\":\"Size\",\"units\":\"screen\"},\"x\":{\"field\":\"mercator_x\"},\"y\":{\"field\":\"mercator_y\"}},\"id\":\"1051\",\"type\":\"Circle\"},{\"attributes\":{\"tile_source\":{\"id\":\"1002\",\"type\":\"WMTSTileSource\"}},\"id\":\"1047\",\"type\":\"TileRenderer\"},{\"attributes\":{\"dimension\":1,\"ticker\":{\"id\":\"1024\",\"type\":\"MercatorTicker\"}},\"id\":\"1031\",\"type\":\"Grid\"},{\"attributes\":{\"axis_label\":\"Latitude\",\"formatter\":{\"id\":\"1026\",\"type\":\"MercatorTickFormatter\"},\"ticker\":{\"id\":\"1024\",\"type\":\"MercatorTicker\"}},\"id\":\"1023\",\"type\":\"MercatorAxis\"},{\"attributes\":{\"callback\":null},\"id\":\"1006\",\"type\":\"DataRange1d\"},{\"attributes\":{},\"id\":\"1012\",\"type\":\"LinearScale\"},{\"attributes\":{},\"id\":\"1032\",\"type\":\"PanTool\"},{\"attributes\":{\"source\":{\"id\":\"1049\",\"type\":\"ColumnDataSource\"}},\"id\":\"1054\",\"type\":\"CDSView\"},{\"attributes\":{},\"id\":\"1036\",\"type\":\"ResetTool\"},{\"attributes\":{\"axis_label\":\"Longitude\",\"formatter\":{\"id\":\"1017\",\"type\":\"MercatorTickFormatter\"},\"ticker\":{\"id\":\"1015\",\"type\":\"MercatorTicker\"}},\"id\":\"1014\",\"type\":\"MercatorAxis\"},{\"attributes\":{},\"id\":\"1033\",\"type\":\"WheelZoomTool\"}],\"root_ids\":[\"1003\"]},\"title\":\"Bokeh Application\",\"version\":\"1.4.0\"}};\n",
       "  var render_items = [{\"docid\":\"25fcd43e-844c-4044-b24c-79784f2fea2b\",\"roots\":{\"1003\":\"049a12a1-817d-41c7-8c31-ea8cb1fd5908\"}}];\n",
       "  root.Bokeh.embed.embed_items_notebook(docs_json, render_items);\n",
       "\n",
       "  }\n",
       "  if (root.Bokeh !== undefined) {\n",
       "    embed_document(root);\n",
       "  } else {\n",
       "    var attempts = 0;\n",
       "    var timer = setInterval(function(root) {\n",
       "      if (root.Bokeh !== undefined) {\n",
       "        clearInterval(timer);\n",
       "        embed_document(root);\n",
       "      } else {\n",
       "        attempts++;\n",
       "        if (attempts > 100) {\n",
       "          clearInterval(timer);\n",
       "          console.log(\"Bokeh: ERROR: Unable to run BokehJS code because BokehJS library is missing\");\n",
       "        }\n",
       "      }\n",
       "    }, 10, root)\n",
       "  }\n",
       "})(window);"
      ],
      "application/vnd.bokehjs_exec.v0+json": ""
     },
     "metadata": {
      "application/vnd.bokehjs_exec.v0+json": {
       "id": "1003"
      }
     },
     "output_type": "display_data"
    }
   ],
   "source": [
    "# Select tile set to use\n",
    "chosentile = get_provider(Vendors.CARTODBPOSITRON)\n",
    "\n",
    "tooltips = [(\"State\",\"@state_name\"), (\"Count\", \"@Counts\")]\n",
    "\n",
    "counts = restaurants_copy['Counts'].to_list()\n",
    "\n",
    "p = figure(title = 'Number of restaurants in North American', \n",
    "           x_axis_type=\"mercator\", y_axis_type=\"mercator\", \n",
    "           x_axis_label = 'Longitude', y_axis_label = 'Latitude', \n",
    "           tooltips = tooltips, plot_width=800, plot_height=600)\n",
    "\n",
    "p.add_tile(chosentile)\n",
    "\n",
    "p.circle(x = 'mercator_x', y = 'mercator_y', color = 'lightblue', source=restaurants_copy, \n",
    "         size='Size', fill_alpha = 0.7)\n",
    "show(p)\n",
    "html = file_html(p, CDN, \"North America - Map\")\n",
    "# print(html)"
   ]
  },
  {
   "cell_type": "markdown",
   "metadata": {},
   "source": [
    "Below are three groupby statements, that group by state, kitchen type and type of restaurant. An aggregrated function is added, where it is counted how many restaurants, kitchen type and type of resturants there are. These are all turned into a dict, so it can be loaded into the bokeh application."
   ]
  },
  {
   "cell_type": "code",
   "execution_count": 43,
   "metadata": {},
   "outputs": [],
   "source": [
    "group_state_ = restaurants.groupby(['cat_kitchen']).size().reset_index(name='Counts')\n",
    "group_state_['Type'] = group_state_['cat_kitchen'].astype(str)\n",
    "df_dict_ = group_state_.to_dict('list')\n",
    "\n",
    "group_state__ = restaurants.groupby(['cat_type']).size().reset_index(name='Counts')\n",
    "group_state__['Type'] = group_state__['cat_type'].astype(str)\n",
    "df_dict__ = group_state__.to_dict('list')\n",
    "\n",
    "group_state = restaurants.groupby(['state_name']).size().reset_index(name='Counts')\n",
    "group_state['state'] = group_state['state_name'].astype(str)\n",
    "df_dict = group_state.to_dict('list')"
   ]
  },
  {
   "cell_type": "markdown",
   "metadata": {},
   "source": [
    "The next three code cells are presenting how the bar-charts are made. Further, there have also been made changes to the x-axis and y-axis. The major and minor ticks are removed, since it is these are not relevant for the considered bar-chart. "
   ]
  },
  {
   "cell_type": "code",
   "execution_count": 44,
   "metadata": {},
   "outputs": [],
   "source": [
    "title = 'Count of restaurants by State'\n",
    "xlabel = 'State'\n",
    "range_x = group_state.state.unique().tolist()\n",
    "\n",
    "plot1 = figure(x_range=FactorRange(factors=range_x), y_range=(0,2500), plot_width=800, plot_height=500,\n",
    "               x_axis_label=xlabel, toolbar_location=None, title=title)\n",
    "plot1.vbar(x='state_name', width=0.7, bottom=0,\n",
    "           top='Counts', source=df_dict, color='lightblue')\n",
    "\n",
    "# hover tool\n",
    "plot1.add_tools(HoverTool(tooltips=[('Count', \"@Counts{1}\")]))\n",
    "\n",
    "# axis ticks\n",
    "plot1.xaxis.major_tick_line_color = None \n",
    "plot1.xaxis.minor_tick_line_color = None \n",
    "plot1.yaxis.major_tick_line_color = None  \n",
    "plot1.yaxis.minor_tick_line_color = None  \n",
    "plot1.title.text_font_size = '13pt'\n",
    "plot1.title.align = 'center'\n",
    "\n",
    "# show(plot1)"
   ]
  },
  {
   "cell_type": "code",
   "execution_count": 45,
   "metadata": {},
   "outputs": [],
   "source": [
    "title = 'Count of restaurants by Kitchen'\n",
    "range_x = group_state_['cat_kitchen'].unique().tolist()\n",
    "xlabel = 'Kitchen type'\n",
    "\n",
    "plot2 = figure(x_range=FactorRange(factors=range_x),y_range=(0,2500),  plot_width=800, plot_height=500,\n",
    "               x_axis_label=xlabel, toolbar_location=None, title=title)\n",
    "plot2.vbar(x='Type', width=0.7, bottom=0,\n",
    "           top='Counts', source=df_dict_, color='lightblue')\n",
    "\n",
    "# hover tool\n",
    "plot2.add_tools(HoverTool(tooltips=[('Count', \"@Counts\")]))\n",
    "\n",
    "# axis ticks\n",
    "plot2.xaxis.major_tick_line_color = None \n",
    "plot2.xaxis.minor_tick_line_color = None \n",
    "plot2.yaxis.major_tick_line_color = None  \n",
    "plot2.yaxis.minor_tick_line_color = None  \n",
    "plot2.xaxis.major_label_orientation = \"vertical\"\n",
    "plot2.title.text_font_size = '13pt'\n",
    "plot2.title.align = 'center'\n",
    "\n",
    "# show(plot2)"
   ]
  },
  {
   "cell_type": "code",
   "execution_count": 46,
   "metadata": {},
   "outputs": [],
   "source": [
    "title = 'Count of restaurants by Type'\n",
    "range_x = group_state__['cat_type'].unique().tolist()\n",
    "xlabel = 'Types'\n",
    "\n",
    "plot3 = figure(x_range=FactorRange(factors=range_x), y_range=(0,2500), plot_width=600, plot_height=500,\n",
    "               x_axis_label=xlabel, toolbar_location=None, title=title)\n",
    "plot3.vbar(x='Type', width=0.7, bottom=0,\n",
    "           top='Counts', source=df_dict__, color='lightblue')\n",
    "\n",
    "# hover tool\n",
    "plot3.add_tools(HoverTool(tooltips=[('Count', \"@Counts\")]))\n",
    "\n",
    "# axis ticks\n",
    "plot3.xaxis.major_tick_line_color = None \n",
    "plot3.xaxis.minor_tick_line_color = None \n",
    "plot3.yaxis.major_tick_line_color = None  \n",
    "plot3.yaxis.minor_tick_line_color = None  \n",
    "plot3.xaxis.major_label_orientation = \"vertical\"\n",
    "plot3.title.text_font_size = '13pt'\n",
    "plot3.title.align = 'center'\n",
    "\n",
    "# show(plot3)"
   ]
  },
  {
   "cell_type": "markdown",
   "metadata": {},
   "source": [
    "Below are all the plots made into a three different tabs, such that the user can select the interrested area. Here it is also stated the height and width of the plots, so they have the same sizes when the users select between the different plots. This gives a good flow on the website. \n",
    "\n",
    "The figure below illustrates how many restaurants there are by three different metrics, state, kitchen and type. You may please use the different tabs above the bar-charts to shift between the different metrics. When analysing the count of restaurants by kitchen, American (Traditional) and American (New) are the most represented, while this is not a surprise because the data is based in North American with most American states. Lastly, when you chose restaurants by type the different types for the dataset are presented. Here it is illustrated that most of the considered data points are within food and nightlife."
   ]
  },
  {
   "cell_type": "code",
   "execution_count": 47,
   "metadata": {},
   "outputs": [
    {
     "data": {
      "text/html": [
       "\n",
       "\n",
       "\n",
       "\n",
       "\n",
       "\n",
       "  <div class=\"bk-root\" id=\"1c0a5eab-6b68-4228-bcad-983c94f90a6f\" data-root-id=\"1326\"></div>\n"
      ]
     },
     "metadata": {},
     "output_type": "display_data"
    },
    {
     "data": {
      "application/javascript": [
       "(function(root) {\n",
       "  function embed_document(root) {\n",
       "    \n",
       "  var docs_json = {\"3f1ddb7a-d37c-4ed2-b581-7fa143d37e7a\":{\"roots\":{\"references\":[{\"attributes\":{\"callback\":null,\"tabs\":[{\"id\":\"1323\",\"type\":\"Panel\"},{\"id\":\"1324\",\"type\":\"Panel\"},{\"id\":\"1325\",\"type\":\"Panel\"}]},\"id\":\"1326\",\"type\":\"Tabs\"},{\"attributes\":{},\"id\":\"1289\",\"type\":\"CategoricalScale\"},{\"attributes\":{\"fill_alpha\":{\"value\":0.1},\"fill_color\":{\"value\":\"#1f77b4\"},\"line_alpha\":{\"value\":0.1},\"line_color\":{\"value\":\"#1f77b4\"},\"top\":{\"field\":\"Counts\"},\"width\":{\"value\":0.7},\"x\":{\"field\":\"Type\"}},\"id\":\"1277\",\"type\":\"VBar\"},{\"attributes\":{},\"id\":\"1298\",\"type\":\"BasicTicker\"},{\"attributes\":{\"callback\":null,\"tooltips\":[[\"Count\",\"@Counts\"]]},\"id\":\"1321\",\"type\":\"HoverTool\"},{\"attributes\":{\"active_drag\":\"auto\",\"active_inspect\":\"auto\",\"active_multi\":null,\"active_scroll\":\"auto\",\"active_tap\":\"auto\",\"tools\":[{\"id\":\"1261\",\"type\":\"PanTool\"},{\"id\":\"1262\",\"type\":\"WheelZoomTool\"},{\"id\":\"1263\",\"type\":\"BoxZoomTool\"},{\"id\":\"1264\",\"type\":\"SaveTool\"},{\"id\":\"1265\",\"type\":\"ResetTool\"},{\"id\":\"1266\",\"type\":\"HelpTool\"},{\"id\":\"1280\",\"type\":\"HoverTool\"}]},\"id\":\"1267\",\"type\":\"Toolbar\"},{\"attributes\":{\"data_source\":{\"id\":\"1315\",\"type\":\"ColumnDataSource\"},\"glyph\":{\"id\":\"1317\",\"type\":\"VBar\"},\"hover_glyph\":null,\"muted_glyph\":null,\"nonselection_glyph\":{\"id\":\"1318\",\"type\":\"VBar\"},\"selection_glyph\":null,\"view\":{\"id\":\"1320\",\"type\":\"CDSView\"}},\"id\":\"1319\",\"type\":\"GlyphRenderer\"},{\"attributes\":{\"overlay\":{\"id\":\"1356\",\"type\":\"BoxAnnotation\"}},\"id\":\"1304\",\"type\":\"BoxZoomTool\"},{\"attributes\":{\"below\":[{\"id\":\"1252\",\"type\":\"CategoricalAxis\"}],\"center\":[{\"id\":\"1255\",\"type\":\"Grid\"},{\"id\":\"1260\",\"type\":\"Grid\"}],\"left\":[{\"id\":\"1256\",\"type\":\"LinearAxis\"}],\"plot_height\":500,\"plot_width\":800,\"renderers\":[{\"id\":\"1278\",\"type\":\"GlyphRenderer\"}],\"title\":{\"id\":\"1243\",\"type\":\"Title\"},\"toolbar\":{\"id\":\"1267\",\"type\":\"Toolbar\"},\"toolbar_location\":null,\"x_range\":{\"id\":\"1241\",\"type\":\"FactorRange\"},\"x_scale\":{\"id\":\"1248\",\"type\":\"CategoricalScale\"},\"y_range\":{\"id\":\"1246\",\"type\":\"Range1d\"},\"y_scale\":{\"id\":\"1250\",\"type\":\"LinearScale\"}},\"id\":\"1242\",\"subtype\":\"Figure\",\"type\":\"Plot\"},{\"attributes\":{\"fill_color\":{\"value\":\"lightblue\"},\"line_color\":{\"value\":\"lightblue\"},\"top\":{\"field\":\"Counts\"},\"width\":{\"value\":0.7},\"x\":{\"field\":\"Type\"}},\"id\":\"1276\",\"type\":\"VBar\"},{\"attributes\":{},\"id\":\"1355\",\"type\":\"Selection\"},{\"attributes\":{},\"id\":\"1347\",\"type\":\"BasicTickFormatter\"},{\"attributes\":{\"callback\":null,\"data\":{\"Counts\":[1238,601,132,332,178,144,139,311,1566,1369,767,279,506,192,873,246,122],\"Type\":[\"Bars\",\"Breakfast & Brunch\",\"Buffets\",\"Burgers\",\"Cafes\",\"Coffee & Tea\",\"Diners\",\"Fast Food\",\"Food\",\"Nightlife\",\"Pizza\",\"Salad\",\"Sandwiches\",\"Steakhouses\",\"Sushi Bars\",\"Vegetarian\",\"Wine Bars\"],\"cat_type\":[\"Bars\",\"Breakfast & Brunch\",\"Buffets\",\"Burgers\",\"Cafes\",\"Coffee & Tea\",\"Diners\",\"Fast Food\",\"Food\",\"Nightlife\",\"Pizza\",\"Salad\",\"Sandwiches\",\"Steakhouses\",\"Sushi Bars\",\"Vegetarian\",\"Wine Bars\"]},\"selected\":{\"id\":\"1358\",\"type\":\"Selection\"},\"selection_policy\":{\"id\":\"1357\",\"type\":\"UnionRenderers\"}},\"id\":\"1315\",\"type\":\"ColumnDataSource\"},{\"attributes\":{},\"id\":\"1212\",\"type\":\"CategoricalTicker\"},{\"attributes\":{},\"id\":\"1303\",\"type\":\"WheelZoomTool\"},{\"attributes\":{\"overlay\":{\"id\":\"1353\",\"type\":\"BoxAnnotation\"}},\"id\":\"1263\",\"type\":\"BoxZoomTool\"},{\"attributes\":{},\"id\":\"1265\",\"type\":\"ResetTool\"},{\"attributes\":{},\"id\":\"1302\",\"type\":\"PanTool\"},{\"attributes\":{\"dimension\":1,\"ticker\":{\"id\":\"1216\",\"type\":\"BasicTicker\"}},\"id\":\"1219\",\"type\":\"Grid\"},{\"attributes\":{},\"id\":\"1209\",\"type\":\"LinearScale\"},{\"attributes\":{\"callback\":null,\"data\":{\"Counts\":[1684,2214,71,135,481,129,241,1181,1029,120,200,322,721,20,196,251],\"Type\":[\"American (New)\",\"American (Traditional)\",\"Cajun/Creole\",\"Caribbean\",\"Chinese\",\"Greek\",\"Indian\",\"Italian\",\"Japanese\",\"Korean\",\"Latin American\",\"Mediterranean\",\"Mexican\",\"New Mexican Cuisine\",\"Thai\",\"Vietnamese\"],\"cat_kitchen\":[\"American (New)\",\"American (Traditional)\",\"Cajun/Creole\",\"Caribbean\",\"Chinese\",\"Greek\",\"Indian\",\"Italian\",\"Japanese\",\"Korean\",\"Latin American\",\"Mediterranean\",\"Mexican\",\"New Mexican Cuisine\",\"Thai\",\"Vietnamese\"]},\"selected\":{\"id\":\"1355\",\"type\":\"Selection\"},\"selection_policy\":{\"id\":\"1354\",\"type\":\"UnionRenderers\"}},\"id\":\"1274\",\"type\":\"ColumnDataSource\"},{\"attributes\":{\"data_source\":{\"id\":\"1233\",\"type\":\"ColumnDataSource\"},\"glyph\":{\"id\":\"1235\",\"type\":\"VBar\"},\"hover_glyph\":null,\"muted_glyph\":null,\"nonselection_glyph\":{\"id\":\"1236\",\"type\":\"VBar\"},\"selection_glyph\":null,\"view\":{\"id\":\"1238\",\"type\":\"CDSView\"}},\"id\":\"1237\",\"type\":\"GlyphRenderer\"},{\"attributes\":{},\"id\":\"1207\",\"type\":\"CategoricalScale\"},{\"attributes\":{\"callback\":null,\"tooltips\":[[\"Count\",\"@Counts\"]]},\"id\":\"1280\",\"type\":\"HoverTool\"},{\"attributes\":{\"child\":{\"id\":\"1283\",\"subtype\":\"Figure\",\"type\":\"Plot\"},\"title\":\"Count of restaurants by Type\"},\"id\":\"1325\",\"type\":\"Panel\"},{\"attributes\":{\"dimension\":1,\"ticker\":{\"id\":\"1298\",\"type\":\"BasicTicker\"}},\"id\":\"1301\",\"type\":\"Grid\"},{\"attributes\":{\"overlay\":{\"id\":\"1350\",\"type\":\"BoxAnnotation\"}},\"id\":\"1222\",\"type\":\"BoxZoomTool\"},{\"attributes\":{\"ticker\":{\"id\":\"1212\",\"type\":\"CategoricalTicker\"}},\"id\":\"1214\",\"type\":\"Grid\"},{\"attributes\":{\"data_source\":{\"id\":\"1274\",\"type\":\"ColumnDataSource\"},\"glyph\":{\"id\":\"1276\",\"type\":\"VBar\"},\"hover_glyph\":null,\"muted_glyph\":null,\"nonselection_glyph\":{\"id\":\"1277\",\"type\":\"VBar\"},\"selection_glyph\":null,\"view\":{\"id\":\"1279\",\"type\":\"CDSView\"}},\"id\":\"1278\",\"type\":\"GlyphRenderer\"},{\"attributes\":{\"fill_alpha\":{\"value\":0.1},\"fill_color\":{\"value\":\"#1f77b4\"},\"line_alpha\":{\"value\":0.1},\"line_color\":{\"value\":\"#1f77b4\"},\"top\":{\"field\":\"Counts\"},\"width\":{\"value\":0.7},\"x\":{\"field\":\"Type\"}},\"id\":\"1318\",\"type\":\"VBar\"},{\"attributes\":{\"callback\":null,\"end\":2500},\"id\":\"1205\",\"type\":\"Range1d\"},{\"attributes\":{\"ticker\":{\"id\":\"1253\",\"type\":\"CategoricalTicker\"}},\"id\":\"1255\",\"type\":\"Grid\"},{\"attributes\":{},\"id\":\"1250\",\"type\":\"LinearScale\"},{\"attributes\":{},\"id\":\"1264\",\"type\":\"SaveTool\"},{\"attributes\":{\"child\":{\"id\":\"1242\",\"subtype\":\"Figure\",\"type\":\"Plot\"},\"title\":\"Count of restaurants by Kitchen\"},\"id\":\"1324\",\"type\":\"Panel\"},{\"attributes\":{},\"id\":\"1224\",\"type\":\"ResetTool\"},{\"attributes\":{\"source\":{\"id\":\"1315\",\"type\":\"ColumnDataSource\"}},\"id\":\"1320\",\"type\":\"CDSView\"},{\"attributes\":{\"active_drag\":\"auto\",\"active_inspect\":\"auto\",\"active_multi\":null,\"active_scroll\":\"auto\",\"active_tap\":\"auto\",\"tools\":[{\"id\":\"1302\",\"type\":\"PanTool\"},{\"id\":\"1303\",\"type\":\"WheelZoomTool\"},{\"id\":\"1304\",\"type\":\"BoxZoomTool\"},{\"id\":\"1305\",\"type\":\"SaveTool\"},{\"id\":\"1306\",\"type\":\"ResetTool\"},{\"id\":\"1307\",\"type\":\"HelpTool\"},{\"id\":\"1321\",\"type\":\"HoverTool\"}]},\"id\":\"1308\",\"type\":\"Toolbar\"},{\"attributes\":{\"align\":\"center\",\"text\":\"Count of restaurants by Kitchen\",\"text_font_size\":{\"value\":\"13pt\"}},\"id\":\"1243\",\"type\":\"Title\"},{\"attributes\":{},\"id\":\"1262\",\"type\":\"WheelZoomTool\"},{\"attributes\":{\"formatter\":{\"id\":\"1347\",\"type\":\"BasicTickFormatter\"},\"major_tick_line_color\":{\"value\":null},\"minor_tick_line_color\":{\"value\":null},\"ticker\":{\"id\":\"1298\",\"type\":\"BasicTicker\"}},\"id\":\"1297\",\"type\":\"LinearAxis\"},{\"attributes\":{\"align\":\"center\",\"text\":\"Count of restaurants by State\",\"text_font_size\":{\"value\":\"13pt\"}},\"id\":\"1202\",\"type\":\"Title\"},{\"attributes\":{},\"id\":\"1357\",\"type\":\"UnionRenderers\"},{\"attributes\":{},\"id\":\"1349\",\"type\":\"CategoricalTickFormatter\"},{\"attributes\":{},\"id\":\"1306\",\"type\":\"ResetTool\"},{\"attributes\":{},\"id\":\"1305\",\"type\":\"SaveTool\"},{\"attributes\":{},\"id\":\"1354\",\"type\":\"UnionRenderers\"},{\"attributes\":{},\"id\":\"1223\",\"type\":\"SaveTool\"},{\"attributes\":{\"fill_alpha\":{\"value\":0.1},\"fill_color\":{\"value\":\"#1f77b4\"},\"line_alpha\":{\"value\":0.1},\"line_color\":{\"value\":\"#1f77b4\"},\"top\":{\"field\":\"Counts\"},\"width\":{\"value\":0.7},\"x\":{\"field\":\"state_name\"}},\"id\":\"1236\",\"type\":\"VBar\"},{\"attributes\":{},\"id\":\"1253\",\"type\":\"CategoricalTicker\"},{\"attributes\":{\"below\":[{\"id\":\"1211\",\"type\":\"CategoricalAxis\"}],\"center\":[{\"id\":\"1214\",\"type\":\"Grid\"},{\"id\":\"1219\",\"type\":\"Grid\"}],\"left\":[{\"id\":\"1215\",\"type\":\"LinearAxis\"}],\"plot_height\":500,\"plot_width\":800,\"renderers\":[{\"id\":\"1237\",\"type\":\"GlyphRenderer\"}],\"title\":{\"id\":\"1202\",\"type\":\"Title\"},\"toolbar\":{\"id\":\"1226\",\"type\":\"Toolbar\"},\"toolbar_location\":null,\"x_range\":{\"id\":\"1200\",\"type\":\"FactorRange\"},\"x_scale\":{\"id\":\"1207\",\"type\":\"CategoricalScale\"},\"y_range\":{\"id\":\"1205\",\"type\":\"Range1d\"},\"y_scale\":{\"id\":\"1209\",\"type\":\"LinearScale\"}},\"id\":\"1201\",\"subtype\":\"Figure\",\"type\":\"Plot\"},{\"attributes\":{\"bottom_units\":\"screen\",\"fill_alpha\":{\"value\":0.5},\"fill_color\":{\"value\":\"lightgrey\"},\"left_units\":\"screen\",\"level\":\"overlay\",\"line_alpha\":{\"value\":1.0},\"line_color\":{\"value\":\"black\"},\"line_dash\":[4,4],\"line_width\":{\"value\":2},\"render_mode\":\"css\",\"right_units\":\"screen\",\"top_units\":\"screen\"},\"id\":\"1353\",\"type\":\"BoxAnnotation\"},{\"attributes\":{\"active_drag\":\"auto\",\"active_inspect\":\"auto\",\"active_multi\":null,\"active_scroll\":\"auto\",\"active_tap\":\"auto\",\"tools\":[{\"id\":\"1220\",\"type\":\"PanTool\"},{\"id\":\"1221\",\"type\":\"WheelZoomTool\"},{\"id\":\"1222\",\"type\":\"BoxZoomTool\"},{\"id\":\"1223\",\"type\":\"SaveTool\"},{\"id\":\"1224\",\"type\":\"ResetTool\"},{\"id\":\"1225\",\"type\":\"HelpTool\"},{\"id\":\"1239\",\"type\":\"HoverTool\"}]},\"id\":\"1226\",\"type\":\"Toolbar\"},{\"attributes\":{},\"id\":\"1221\",\"type\":\"WheelZoomTool\"},{\"attributes\":{},\"id\":\"1257\",\"type\":\"BasicTicker\"},{\"attributes\":{},\"id\":\"1220\",\"type\":\"PanTool\"},{\"attributes\":{},\"id\":\"1345\",\"type\":\"CategoricalTickFormatter\"},{\"attributes\":{\"callback\":null,\"factors\":[\"Bars\",\"Breakfast & Brunch\",\"Buffets\",\"Burgers\",\"Cafes\",\"Coffee & Tea\",\"Diners\",\"Fast Food\",\"Food\",\"Nightlife\",\"Pizza\",\"Salad\",\"Sandwiches\",\"Steakhouses\",\"Sushi Bars\",\"Vegetarian\",\"Wine Bars\"]},\"id\":\"1282\",\"type\":\"FactorRange\"},{\"attributes\":{},\"id\":\"1358\",\"type\":\"Selection\"},{\"attributes\":{},\"id\":\"1351\",\"type\":\"UnionRenderers\"},{\"attributes\":{},\"id\":\"1352\",\"type\":\"Selection\"},{\"attributes\":{\"fill_color\":{\"value\":\"lightblue\"},\"line_color\":{\"value\":\"lightblue\"},\"top\":{\"field\":\"Counts\"},\"width\":{\"value\":0.7},\"x\":{\"field\":\"state_name\"}},\"id\":\"1235\",\"type\":\"VBar\"},{\"attributes\":{\"formatter\":{\"id\":\"1339\",\"type\":\"BasicTickFormatter\"},\"major_tick_line_color\":{\"value\":null},\"minor_tick_line_color\":{\"value\":null},\"ticker\":{\"id\":\"1216\",\"type\":\"BasicTicker\"}},\"id\":\"1215\",\"type\":\"LinearAxis\"},{\"attributes\":{\"dimension\":1,\"ticker\":{\"id\":\"1257\",\"type\":\"BasicTicker\"}},\"id\":\"1260\",\"type\":\"Grid\"},{\"attributes\":{},\"id\":\"1291\",\"type\":\"LinearScale\"},{\"attributes\":{\"callback\":null,\"data\":{\"Counts\":[1116,161,1511,1120,1,1,2079,776,1186,874,170],\"state\":[\"British Columbia\",\"Colorado\",\"Florida\",\"Georgia\",\"Kansas\",\"Kentucky\",\"Massachusetts\",\"Ohio\",\"Oregon\",\"Texas\",\"Washington\"],\"state_name\":[\"British Columbia\",\"Colorado\",\"Florida\",\"Georgia\",\"Kansas\",\"Kentucky\",\"Massachusetts\",\"Ohio\",\"Oregon\",\"Texas\",\"Washington\"]},\"selected\":{\"id\":\"1352\",\"type\":\"Selection\"},\"selection_policy\":{\"id\":\"1351\",\"type\":\"UnionRenderers\"}},\"id\":\"1233\",\"type\":\"ColumnDataSource\"},{\"attributes\":{\"bottom_units\":\"screen\",\"fill_alpha\":{\"value\":0.5},\"fill_color\":{\"value\":\"lightgrey\"},\"left_units\":\"screen\",\"level\":\"overlay\",\"line_alpha\":{\"value\":1.0},\"line_color\":{\"value\":\"black\"},\"line_dash\":[4,4],\"line_width\":{\"value\":2},\"render_mode\":\"css\",\"right_units\":\"screen\",\"top_units\":\"screen\"},\"id\":\"1356\",\"type\":\"BoxAnnotation\"},{\"attributes\":{\"align\":\"center\",\"text\":\"Count of restaurants by Type\",\"text_font_size\":{\"value\":\"13pt\"}},\"id\":\"1284\",\"type\":\"Title\"},{\"attributes\":{},\"id\":\"1294\",\"type\":\"CategoricalTicker\"},{\"attributes\":{\"below\":[{\"id\":\"1293\",\"type\":\"CategoricalAxis\"}],\"center\":[{\"id\":\"1296\",\"type\":\"Grid\"},{\"id\":\"1301\",\"type\":\"Grid\"}],\"left\":[{\"id\":\"1297\",\"type\":\"LinearAxis\"}],\"plot_height\":500,\"plot_width\":800,\"renderers\":[{\"id\":\"1319\",\"type\":\"GlyphRenderer\"}],\"title\":{\"id\":\"1284\",\"type\":\"Title\"},\"toolbar\":{\"id\":\"1308\",\"type\":\"Toolbar\"},\"toolbar_location\":null,\"x_range\":{\"id\":\"1282\",\"type\":\"FactorRange\"},\"x_scale\":{\"id\":\"1289\",\"type\":\"CategoricalScale\"},\"y_range\":{\"id\":\"1287\",\"type\":\"Range1d\"},\"y_scale\":{\"id\":\"1291\",\"type\":\"LinearScale\"}},\"id\":\"1283\",\"subtype\":\"Figure\",\"type\":\"Plot\"},{\"attributes\":{\"axis_label\":\"State\",\"formatter\":{\"id\":\"1341\",\"type\":\"CategoricalTickFormatter\"},\"major_tick_line_color\":{\"value\":null},\"minor_tick_line_color\":{\"value\":null},\"ticker\":{\"id\":\"1212\",\"type\":\"CategoricalTicker\"}},\"id\":\"1211\",\"type\":\"CategoricalAxis\"},{\"attributes\":{\"axis_label\":\"Kitchen type\",\"formatter\":{\"id\":\"1345\",\"type\":\"CategoricalTickFormatter\"},\"major_label_orientation\":\"vertical\",\"major_tick_line_color\":{\"value\":null},\"minor_tick_line_color\":{\"value\":null},\"ticker\":{\"id\":\"1253\",\"type\":\"CategoricalTicker\"}},\"id\":\"1252\",\"type\":\"CategoricalAxis\"},{\"attributes\":{\"callback\":null,\"end\":2500},\"id\":\"1287\",\"type\":\"Range1d\"},{\"attributes\":{\"source\":{\"id\":\"1274\",\"type\":\"ColumnDataSource\"}},\"id\":\"1279\",\"type\":\"CDSView\"},{\"attributes\":{},\"id\":\"1261\",\"type\":\"PanTool\"},{\"attributes\":{},\"id\":\"1266\",\"type\":\"HelpTool\"},{\"attributes\":{\"callback\":null,\"factors\":[\"British Columbia\",\"Colorado\",\"Florida\",\"Georgia\",\"Kansas\",\"Kentucky\",\"Massachusetts\",\"Ohio\",\"Oregon\",\"Texas\",\"Washington\"]},\"id\":\"1200\",\"type\":\"FactorRange\"},{\"attributes\":{},\"id\":\"1343\",\"type\":\"BasicTickFormatter\"},{\"attributes\":{\"fill_color\":{\"value\":\"lightblue\"},\"line_color\":{\"value\":\"lightblue\"},\"top\":{\"field\":\"Counts\"},\"width\":{\"value\":0.7},\"x\":{\"field\":\"Type\"}},\"id\":\"1317\",\"type\":\"VBar\"},{\"attributes\":{},\"id\":\"1248\",\"type\":\"CategoricalScale\"},{\"attributes\":{\"axis_label\":\"Types\",\"formatter\":{\"id\":\"1349\",\"type\":\"CategoricalTickFormatter\"},\"major_label_orientation\":\"vertical\",\"major_tick_line_color\":{\"value\":null},\"minor_tick_line_color\":{\"value\":null},\"ticker\":{\"id\":\"1294\",\"type\":\"CategoricalTicker\"}},\"id\":\"1293\",\"type\":\"CategoricalAxis\"},{\"attributes\":{\"callback\":null,\"tooltips\":[[\"Count\",\"@Counts{1}\"]]},\"id\":\"1239\",\"type\":\"HoverTool\"},{\"attributes\":{},\"id\":\"1307\",\"type\":\"HelpTool\"},{\"attributes\":{\"bottom_units\":\"screen\",\"fill_alpha\":{\"value\":0.5},\"fill_color\":{\"value\":\"lightgrey\"},\"left_units\":\"screen\",\"level\":\"overlay\",\"line_alpha\":{\"value\":1.0},\"line_color\":{\"value\":\"black\"},\"line_dash\":[4,4],\"line_width\":{\"value\":2},\"render_mode\":\"css\",\"right_units\":\"screen\",\"top_units\":\"screen\"},\"id\":\"1350\",\"type\":\"BoxAnnotation\"},{\"attributes\":{\"child\":{\"id\":\"1201\",\"subtype\":\"Figure\",\"type\":\"Plot\"},\"title\":\"Count of restaurants by State\"},\"id\":\"1323\",\"type\":\"Panel\"},{\"attributes\":{},\"id\":\"1216\",\"type\":\"BasicTicker\"},{\"attributes\":{},\"id\":\"1341\",\"type\":\"CategoricalTickFormatter\"},{\"attributes\":{},\"id\":\"1339\",\"type\":\"BasicTickFormatter\"},{\"attributes\":{\"source\":{\"id\":\"1233\",\"type\":\"ColumnDataSource\"}},\"id\":\"1238\",\"type\":\"CDSView\"},{\"attributes\":{\"callback\":null,\"end\":2500},\"id\":\"1246\",\"type\":\"Range1d\"},{\"attributes\":{},\"id\":\"1225\",\"type\":\"HelpTool\"},{\"attributes\":{\"callback\":null,\"factors\":[\"American (New)\",\"American (Traditional)\",\"Cajun/Creole\",\"Caribbean\",\"Chinese\",\"Greek\",\"Indian\",\"Italian\",\"Japanese\",\"Korean\",\"Latin American\",\"Mediterranean\",\"Mexican\",\"New Mexican Cuisine\",\"Thai\",\"Vietnamese\"]},\"id\":\"1241\",\"type\":\"FactorRange\"},{\"attributes\":{\"formatter\":{\"id\":\"1343\",\"type\":\"BasicTickFormatter\"},\"major_tick_line_color\":{\"value\":null},\"minor_tick_line_color\":{\"value\":null},\"ticker\":{\"id\":\"1257\",\"type\":\"BasicTicker\"}},\"id\":\"1256\",\"type\":\"LinearAxis\"},{\"attributes\":{\"ticker\":{\"id\":\"1294\",\"type\":\"CategoricalTicker\"}},\"id\":\"1296\",\"type\":\"Grid\"}],\"root_ids\":[\"1326\"]},\"title\":\"Bokeh Application\",\"version\":\"1.4.0\"}};\n",
       "  var render_items = [{\"docid\":\"3f1ddb7a-d37c-4ed2-b581-7fa143d37e7a\",\"roots\":{\"1326\":\"1c0a5eab-6b68-4228-bcad-983c94f90a6f\"}}];\n",
       "  root.Bokeh.embed.embed_items_notebook(docs_json, render_items);\n",
       "\n",
       "  }\n",
       "  if (root.Bokeh !== undefined) {\n",
       "    embed_document(root);\n",
       "  } else {\n",
       "    var attempts = 0;\n",
       "    var timer = setInterval(function(root) {\n",
       "      if (root.Bokeh !== undefined) {\n",
       "        clearInterval(timer);\n",
       "        embed_document(root);\n",
       "      } else {\n",
       "        attempts++;\n",
       "        if (attempts > 100) {\n",
       "          clearInterval(timer);\n",
       "          console.log(\"Bokeh: ERROR: Unable to run BokehJS code because BokehJS library is missing\");\n",
       "        }\n",
       "      }\n",
       "    }, 10, root)\n",
       "  }\n",
       "})(window);"
      ],
      "application/vnd.bokehjs_exec.v0+json": ""
     },
     "metadata": {
      "application/vnd.bokehjs_exec.v0+json": {
       "id": "1326"
      }
     },
     "output_type": "display_data"
    }
   ],
   "source": [
    "# Increase the plot widths\n",
    "plot1.plot_width = plot2.plot_width = plot3.plot_width = 800\n",
    "plot1.plot_height = plot2.plot_height = plot3.plot_height = 500\n",
    "\n",
    "\n",
    "# Create three panels, one for each conference\n",
    "state_panel = Panel(child=plot1, title='Count of restaurants by State')\n",
    "kitchen_panel = Panel(child=plot2, title='Count of restaurants by Kitchen')\n",
    "types_panel = Panel(child=plot3, title='Count of restaurants by Type')\n",
    "\n",
    "# Assign the panels to Tabs\n",
    "tabs = Tabs(tabs=[state_panel, kitchen_panel, types_panel])\n",
    "\n",
    "# Show the tabbed layout\n",
    "show(tabs)\n",
    "\n",
    "html = file_html(tabs, CDN, \"General Overview - BarChart\")\n",
    "# print(html)"
   ]
  },
  {
   "cell_type": "markdown",
   "metadata": {},
   "source": [
    "The next couple of bar-charts have the principle as above, but is on the whole dataset and not only for the restaurants. These bar-charts are made because it gives the user ability to see how many reviews there are in the three areas, so state, kitchen type and types of restaurants. Again, these are all turned into a dict, so it can be loaded into the bokeh application. "
   ]
  },
  {
   "cell_type": "code",
   "execution_count": 48,
   "metadata": {},
   "outputs": [],
   "source": [
    "group_state_ = df.groupby(['cat_kitchen']).size().reset_index(name='Counts')\n",
    "group_state_['Type'] = group_state_['cat_kitchen'].astype(str)\n",
    "df_dict_ = group_state_.to_dict('list')\n",
    "\n",
    "group_state__ = df.groupby(['cat_type']).size().reset_index(name='Counts')\n",
    "group_state__['Type'] = group_state__['cat_type'].astype(str)\n",
    "df_dict__ = group_state__.to_dict('list')\n",
    "\n",
    "group_state = df.groupby(['state_name']).size().reset_index(name='Counts')\n",
    "group_state['state'] = group_state['state_name'].astype(str)\n",
    "df_dict = group_state.to_dict('list')"
   ]
  },
  {
   "cell_type": "markdown",
   "metadata": {},
   "source": [
    "The next three code cells are presenting how the bar-charts are made. Further, there have also been made changes to the x-axis and y-axis. The major and minor ticks are removed, since it is these are not relevant for the considered bar-chart. "
   ]
  },
  {
   "cell_type": "code",
   "execution_count": 49,
   "metadata": {},
   "outputs": [],
   "source": [
    "title = 'Count of reviews by State'\n",
    "xlabel = 'State'\n",
    "range_x = group_state.state.unique().tolist()\n",
    "\n",
    "plot1 = figure(x_range=FactorRange(factors=range_x), y_range=(0,1300000), plot_width=800, plot_height=500,\n",
    "               x_axis_label=xlabel, toolbar_location=None, title=title)\n",
    "plot1.vbar(x='state_name', width=0.7, bottom=0,\n",
    "           top='Counts', source=df_dict, color='lightblue')\n",
    "\n",
    "# hover tool\n",
    "plot1.add_tools(HoverTool(tooltips=[('Count', \"@Counts{1}\")]))\n",
    "\n",
    "# axis ticks\n",
    "plot1.xaxis.major_tick_line_color = None \n",
    "plot1.xaxis.minor_tick_line_color = None \n",
    "plot1.yaxis.major_tick_line_color = None  \n",
    "plot1.yaxis.minor_tick_line_color = None  \n",
    "plot1.title.text_font_size = '13pt'\n",
    "plot1.title.align = 'center'\n",
    "\n",
    "# show(plot1)"
   ]
  },
  {
   "cell_type": "code",
   "execution_count": 50,
   "metadata": {},
   "outputs": [],
   "source": [
    "title = 'Count of reviews by Kitchen'\n",
    "range_x = group_state_['cat_kitchen'].unique().tolist()\n",
    "xlabel = 'Kitchen type'\n",
    "\n",
    "plot2 = figure(x_range=FactorRange(factors=range_x), y_range=(0,1700000), plot_width=800, plot_height=500,\n",
    "               x_axis_label=xlabel, toolbar_location=None, title=title)\n",
    "plot2.vbar(x='Type', width=0.7, bottom=0,\n",
    "           top='Counts', source=df_dict_, color='lightblue')\n",
    "\n",
    "# hover tool\n",
    "plot2.add_tools(HoverTool(tooltips=[('Count', \"@Counts\")]))\n",
    "\n",
    "# axis ticks\n",
    "plot2.xaxis.major_tick_line_color = None \n",
    "plot2.xaxis.minor_tick_line_color = None \n",
    "plot2.yaxis.major_tick_line_color = None  \n",
    "plot2.yaxis.minor_tick_line_color = None  \n",
    "plot2.xaxis.major_label_orientation = \"vertical\"\n",
    "plot2.title.text_font_size = '13pt'\n",
    "plot2.title.align = 'center'\n",
    "\n",
    "# show(plot2)"
   ]
  },
  {
   "cell_type": "code",
   "execution_count": 51,
   "metadata": {},
   "outputs": [],
   "source": [
    "title = 'Count of reviews by Type'\n",
    "range_x = group_state__['cat_type'].unique().tolist()\n",
    "xlabel = 'Type'\n",
    "\n",
    "plot3 = figure(x_range=FactorRange(factors=range_x), y_range=(0,1100000),plot_width=600, plot_height=500,\n",
    "               x_axis_label=xlabel, toolbar_location=None, title=title)\n",
    "plot3.vbar(x='Type', width=0.7, bottom=0,\n",
    "           top='Counts', source=df_dict__, color='lightblue')\n",
    "\n",
    "# hover tool\n",
    "plot3.add_tools(HoverTool(tooltips=[('Count', \"@Counts\")]))\n",
    "\n",
    "# axis ticks\n",
    "plot3.xaxis.major_tick_line_color = None \n",
    "plot3.xaxis.minor_tick_line_color = None \n",
    "plot3.yaxis.major_tick_line_color = None  \n",
    "plot3.yaxis.minor_tick_line_color = None  \n",
    "plot3.xaxis.major_label_orientation = \"vertical\"\n",
    "plot3.title.text_font_size = '13pt'\n",
    "plot3.title.align = 'center'\n",
    "\n",
    "# show(plot3)"
   ]
  },
  {
   "cell_type": "markdown",
   "metadata": {},
   "source": [
    "Below are all the plots made into a three different tabs, such that the user can select the interrested area. Here it is also stated the height and width of the plots, so they have the same sizes when the users select between the different plots. This gives a good flow on the website. \n",
    "\n",
    "The last part to cover in this part is to see how many reviews there are on the same metrics as above. This will give an overview of the number of reviews that might coincide with the number of restaurants. In general, the two figures seem to have the same pattern, but British Columbia has not received that many reviews compared to how many restaurants they have, when comparing to Massachusetts. Again, you have the option to shift tabs between the different metrics."
   ]
  },
  {
   "cell_type": "code",
   "execution_count": 52,
   "metadata": {},
   "outputs": [
    {
     "data": {
      "text/html": [
       "\n",
       "\n",
       "\n",
       "\n",
       "\n",
       "\n",
       "  <div class=\"bk-root\" id=\"1fd81c43-5735-45be-8417-98db9469ef69\" data-root-id=\"1942\"></div>\n"
      ]
     },
     "metadata": {},
     "output_type": "display_data"
    },
    {
     "data": {
      "application/javascript": [
       "(function(root) {\n",
       "  function embed_document(root) {\n",
       "    \n",
       "  var docs_json = {\"338ecc6a-85c0-4931-95fe-54af09b6efd0\":{\"roots\":{\"references\":[{\"attributes\":{\"callback\":null,\"tabs\":[{\"id\":\"1939\",\"type\":\"Panel\"},{\"id\":\"1940\",\"type\":\"Panel\"},{\"id\":\"1941\",\"type\":\"Panel\"}]},\"id\":\"1942\",\"type\":\"Tabs\"},{\"attributes\":{\"below\":[{\"id\":\"1827\",\"type\":\"CategoricalAxis\"}],\"center\":[{\"id\":\"1830\",\"type\":\"Grid\"},{\"id\":\"1835\",\"type\":\"Grid\"}],\"left\":[{\"id\":\"1831\",\"type\":\"LinearAxis\"}],\"plot_height\":500,\"plot_width\":800,\"renderers\":[{\"id\":\"1853\",\"type\":\"GlyphRenderer\"}],\"title\":{\"id\":\"1818\",\"type\":\"Title\"},\"toolbar\":{\"id\":\"1842\",\"type\":\"Toolbar\"},\"toolbar_location\":null,\"x_range\":{\"id\":\"1816\",\"type\":\"FactorRange\"},\"x_scale\":{\"id\":\"1823\",\"type\":\"CategoricalScale\"},\"y_range\":{\"id\":\"1821\",\"type\":\"Range1d\"},\"y_scale\":{\"id\":\"1825\",\"type\":\"LinearScale\"}},\"id\":\"1817\",\"subtype\":\"Figure\",\"type\":\"Plot\"},{\"attributes\":{},\"id\":\"1995\",\"type\":\"Selection\"},{\"attributes\":{},\"id\":\"1825\",\"type\":\"LinearScale\"},{\"attributes\":{\"callback\":null,\"data\":{\"Counts\":[272804,139675,11366,64662,28402,33961,27527,30721,187643,278677,56752,50463,71084,37798,57982,37911,40405],\"Type\":[\"Bars\",\"Breakfast & Brunch\",\"Buffets\",\"Burgers\",\"Cafes\",\"Coffee & Tea\",\"Diners\",\"Fast Food\",\"Food\",\"Nightlife\",\"Pizza\",\"Salad\",\"Sandwiches\",\"Steakhouses\",\"Sushi Bars\",\"Vegetarian\",\"Wine Bars\"],\"cat_type\":[\"Bars\",\"Breakfast & Brunch\",\"Buffets\",\"Burgers\",\"Cafes\",\"Coffee & Tea\",\"Diners\",\"Fast Food\",\"Food\",\"Nightlife\",\"Pizza\",\"Salad\",\"Sandwiches\",\"Steakhouses\",\"Sushi Bars\",\"Vegetarian\",\"Wine Bars\"]},\"selected\":{\"id\":\"1998\",\"type\":\"Selection\"},\"selection_policy\":{\"id\":\"1997\",\"type\":\"UnionRenderers\"}},\"id\":\"1931\",\"type\":\"ColumnDataSource\"},{\"attributes\":{\"callback\":null,\"end\":1700000},\"id\":\"1862\",\"type\":\"Range1d\"},{\"attributes\":{\"below\":[{\"id\":\"1909\",\"type\":\"CategoricalAxis\"}],\"center\":[{\"id\":\"1912\",\"type\":\"Grid\"},{\"id\":\"1917\",\"type\":\"Grid\"}],\"left\":[{\"id\":\"1913\",\"type\":\"LinearAxis\"}],\"plot_height\":500,\"plot_width\":800,\"renderers\":[{\"id\":\"1935\",\"type\":\"GlyphRenderer\"}],\"title\":{\"id\":\"1900\",\"type\":\"Title\"},\"toolbar\":{\"id\":\"1924\",\"type\":\"Toolbar\"},\"toolbar_location\":null,\"x_range\":{\"id\":\"1898\",\"type\":\"FactorRange\"},\"x_scale\":{\"id\":\"1905\",\"type\":\"CategoricalScale\"},\"y_range\":{\"id\":\"1903\",\"type\":\"Range1d\"},\"y_scale\":{\"id\":\"1907\",\"type\":\"LinearScale\"}},\"id\":\"1899\",\"subtype\":\"Figure\",\"type\":\"Plot\"},{\"attributes\":{\"align\":\"center\",\"text\":\"Count of reviews by Type\",\"text_font_size\":{\"value\":\"13pt\"}},\"id\":\"1900\",\"type\":\"Title\"},{\"attributes\":{\"fill_alpha\":{\"value\":0.1},\"fill_color\":{\"value\":\"#1f77b4\"},\"line_alpha\":{\"value\":0.1},\"line_color\":{\"value\":\"#1f77b4\"},\"top\":{\"field\":\"Counts\"},\"width\":{\"value\":0.7},\"x\":{\"field\":\"Type\"}},\"id\":\"1934\",\"type\":\"VBar\"},{\"attributes\":{\"ticker\":{\"id\":\"1869\",\"type\":\"CategoricalTicker\"}},\"id\":\"1871\",\"type\":\"Grid\"},{\"attributes\":{\"active_drag\":\"auto\",\"active_inspect\":\"auto\",\"active_multi\":null,\"active_scroll\":\"auto\",\"active_tap\":\"auto\",\"tools\":[{\"id\":\"1877\",\"type\":\"PanTool\"},{\"id\":\"1878\",\"type\":\"WheelZoomTool\"},{\"id\":\"1879\",\"type\":\"BoxZoomTool\"},{\"id\":\"1880\",\"type\":\"SaveTool\"},{\"id\":\"1881\",\"type\":\"ResetTool\"},{\"id\":\"1882\",\"type\":\"HelpTool\"},{\"id\":\"1896\",\"type\":\"HoverTool\"}]},\"id\":\"1883\",\"type\":\"Toolbar\"},{\"attributes\":{\"overlay\":{\"id\":\"1990\",\"type\":\"BoxAnnotation\"}},\"id\":\"1838\",\"type\":\"BoxZoomTool\"},{\"attributes\":{},\"id\":\"1994\",\"type\":\"UnionRenderers\"},{\"attributes\":{},\"id\":\"1866\",\"type\":\"LinearScale\"},{\"attributes\":{\"dimension\":1,\"ticker\":{\"id\":\"1914\",\"type\":\"BasicTicker\"}},\"id\":\"1917\",\"type\":\"Grid\"},{\"attributes\":{\"callback\":null,\"factors\":[\"British Columbia\",\"Colorado\",\"Florida\",\"Georgia\",\"Kansas\",\"Kentucky\",\"Massachusetts\",\"Ohio\",\"Oregon\",\"Texas\",\"Washington\"]},\"id\":\"1816\",\"type\":\"FactorRange\"},{\"attributes\":{\"align\":\"center\",\"text\":\"Count of reviews by Kitchen\",\"text_font_size\":{\"value\":\"13pt\"}},\"id\":\"1859\",\"type\":\"Title\"},{\"attributes\":{\"axis_label\":\"State\",\"formatter\":{\"id\":\"1981\",\"type\":\"CategoricalTickFormatter\"},\"major_tick_line_color\":{\"value\":null},\"minor_tick_line_color\":{\"value\":null},\"ticker\":{\"id\":\"1828\",\"type\":\"CategoricalTicker\"}},\"id\":\"1827\",\"type\":\"CategoricalAxis\"},{\"attributes\":{},\"id\":\"1923\",\"type\":\"HelpTool\"},{\"attributes\":{},\"id\":\"1881\",\"type\":\"ResetTool\"},{\"attributes\":{\"bottom_units\":\"screen\",\"fill_alpha\":{\"value\":0.5},\"fill_color\":{\"value\":\"lightgrey\"},\"left_units\":\"screen\",\"level\":\"overlay\",\"line_alpha\":{\"value\":1.0},\"line_color\":{\"value\":\"black\"},\"line_dash\":[4,4],\"line_width\":{\"value\":2},\"render_mode\":\"css\",\"right_units\":\"screen\",\"top_units\":\"screen\"},\"id\":\"1993\",\"type\":\"BoxAnnotation\"},{\"attributes\":{},\"id\":\"1985\",\"type\":\"CategoricalTickFormatter\"},{\"attributes\":{\"child\":{\"id\":\"1858\",\"subtype\":\"Figure\",\"type\":\"Plot\"},\"title\":\"Count of reviews by Kitchen\"},\"id\":\"1940\",\"type\":\"Panel\"},{\"attributes\":{},\"id\":\"1837\",\"type\":\"WheelZoomTool\"},{\"attributes\":{},\"id\":\"1839\",\"type\":\"SaveTool\"},{\"attributes\":{\"fill_color\":{\"value\":\"lightblue\"},\"line_color\":{\"value\":\"lightblue\"},\"top\":{\"field\":\"Counts\"},\"width\":{\"value\":0.7},\"x\":{\"field\":\"Type\"}},\"id\":\"1933\",\"type\":\"VBar\"},{\"attributes\":{\"callback\":null,\"data\":{\"Counts\":[39778,22795,314503,234606,5,6,291243,103009,177823,217333,26732],\"state\":[\"British Columbia\",\"Colorado\",\"Florida\",\"Georgia\",\"Kansas\",\"Kentucky\",\"Massachusetts\",\"Ohio\",\"Oregon\",\"Texas\",\"Washington\"],\"state_name\":[\"British Columbia\",\"Colorado\",\"Florida\",\"Georgia\",\"Kansas\",\"Kentucky\",\"Massachusetts\",\"Ohio\",\"Oregon\",\"Texas\",\"Washington\"]},\"selected\":{\"id\":\"1992\",\"type\":\"Selection\"},\"selection_policy\":{\"id\":\"1991\",\"type\":\"UnionRenderers\"}},\"id\":\"1849\",\"type\":\"ColumnDataSource\"},{\"attributes\":{\"child\":{\"id\":\"1817\",\"subtype\":\"Figure\",\"type\":\"Plot\"},\"title\":\"Count of reviews by State\"},\"id\":\"1939\",\"type\":\"Panel\"},{\"attributes\":{\"axis_label\":\"Kitchen type\",\"formatter\":{\"id\":\"1985\",\"type\":\"CategoricalTickFormatter\"},\"major_label_orientation\":\"vertical\",\"major_tick_line_color\":{\"value\":null},\"minor_tick_line_color\":{\"value\":null},\"ticker\":{\"id\":\"1869\",\"type\":\"CategoricalTicker\"}},\"id\":\"1868\",\"type\":\"CategoricalAxis\"},{\"attributes\":{\"callback\":null,\"tooltips\":[[\"Count\",\"@Counts\"]]},\"id\":\"1937\",\"type\":\"HoverTool\"},{\"attributes\":{\"child\":{\"id\":\"1899\",\"subtype\":\"Figure\",\"type\":\"Plot\"},\"title\":\"Count of reviews by Type\"},\"id\":\"1941\",\"type\":\"Panel\"},{\"attributes\":{},\"id\":\"1979\",\"type\":\"BasicTickFormatter\"},{\"attributes\":{\"fill_color\":{\"value\":\"lightblue\"},\"line_color\":{\"value\":\"lightblue\"},\"top\":{\"field\":\"Counts\"},\"width\":{\"value\":0.7},\"x\":{\"field\":\"Type\"}},\"id\":\"1892\",\"type\":\"VBar\"},{\"attributes\":{},\"id\":\"1914\",\"type\":\"BasicTicker\"},{\"attributes\":{},\"id\":\"1878\",\"type\":\"WheelZoomTool\"},{\"attributes\":{},\"id\":\"1918\",\"type\":\"PanTool\"},{\"attributes\":{\"bottom_units\":\"screen\",\"fill_alpha\":{\"value\":0.5},\"fill_color\":{\"value\":\"lightgrey\"},\"left_units\":\"screen\",\"level\":\"overlay\",\"line_alpha\":{\"value\":1.0},\"line_color\":{\"value\":\"black\"},\"line_dash\":[4,4],\"line_width\":{\"value\":2},\"render_mode\":\"css\",\"right_units\":\"screen\",\"top_units\":\"screen\"},\"id\":\"1990\",\"type\":\"BoxAnnotation\"},{\"attributes\":{},\"id\":\"1880\",\"type\":\"SaveTool\"},{\"attributes\":{\"data_source\":{\"id\":\"1890\",\"type\":\"ColumnDataSource\"},\"glyph\":{\"id\":\"1892\",\"type\":\"VBar\"},\"hover_glyph\":null,\"muted_glyph\":null,\"nonselection_glyph\":{\"id\":\"1893\",\"type\":\"VBar\"},\"selection_glyph\":null,\"view\":{\"id\":\"1895\",\"type\":\"CDSView\"}},\"id\":\"1894\",\"type\":\"GlyphRenderer\"},{\"attributes\":{\"data_source\":{\"id\":\"1931\",\"type\":\"ColumnDataSource\"},\"glyph\":{\"id\":\"1933\",\"type\":\"VBar\"},\"hover_glyph\":null,\"muted_glyph\":null,\"nonselection_glyph\":{\"id\":\"1934\",\"type\":\"VBar\"},\"selection_glyph\":null,\"view\":{\"id\":\"1936\",\"type\":\"CDSView\"}},\"id\":\"1935\",\"type\":\"GlyphRenderer\"},{\"attributes\":{},\"id\":\"1823\",\"type\":\"CategoricalScale\"},{\"attributes\":{\"source\":{\"id\":\"1890\",\"type\":\"ColumnDataSource\"}},\"id\":\"1895\",\"type\":\"CDSView\"},{\"attributes\":{\"active_drag\":\"auto\",\"active_inspect\":\"auto\",\"active_multi\":null,\"active_scroll\":\"auto\",\"active_tap\":\"auto\",\"tools\":[{\"id\":\"1918\",\"type\":\"PanTool\"},{\"id\":\"1919\",\"type\":\"WheelZoomTool\"},{\"id\":\"1920\",\"type\":\"BoxZoomTool\"},{\"id\":\"1921\",\"type\":\"SaveTool\"},{\"id\":\"1922\",\"type\":\"ResetTool\"},{\"id\":\"1923\",\"type\":\"HelpTool\"},{\"id\":\"1937\",\"type\":\"HoverTool\"}]},\"id\":\"1924\",\"type\":\"Toolbar\"},{\"attributes\":{},\"id\":\"1981\",\"type\":\"CategoricalTickFormatter\"},{\"attributes\":{},\"id\":\"1869\",\"type\":\"CategoricalTicker\"},{\"attributes\":{},\"id\":\"1919\",\"type\":\"WheelZoomTool\"},{\"attributes\":{},\"id\":\"1864\",\"type\":\"CategoricalScale\"},{\"attributes\":{\"overlay\":{\"id\":\"1993\",\"type\":\"BoxAnnotation\"}},\"id\":\"1879\",\"type\":\"BoxZoomTool\"},{\"attributes\":{\"align\":\"center\",\"text\":\"Count of reviews by State\",\"text_font_size\":{\"value\":\"13pt\"}},\"id\":\"1818\",\"type\":\"Title\"},{\"attributes\":{},\"id\":\"1882\",\"type\":\"HelpTool\"},{\"attributes\":{},\"id\":\"1992\",\"type\":\"Selection\"},{\"attributes\":{},\"id\":\"1877\",\"type\":\"PanTool\"},{\"attributes\":{\"data_source\":{\"id\":\"1849\",\"type\":\"ColumnDataSource\"},\"glyph\":{\"id\":\"1851\",\"type\":\"VBar\"},\"hover_glyph\":null,\"muted_glyph\":null,\"nonselection_glyph\":{\"id\":\"1852\",\"type\":\"VBar\"},\"selection_glyph\":null,\"view\":{\"id\":\"1854\",\"type\":\"CDSView\"}},\"id\":\"1853\",\"type\":\"GlyphRenderer\"},{\"attributes\":{},\"id\":\"1922\",\"type\":\"ResetTool\"},{\"attributes\":{\"source\":{\"id\":\"1931\",\"type\":\"ColumnDataSource\"}},\"id\":\"1936\",\"type\":\"CDSView\"},{\"attributes\":{},\"id\":\"1998\",\"type\":\"Selection\"},{\"attributes\":{\"callback\":null,\"end\":1300000},\"id\":\"1821\",\"type\":\"Range1d\"},{\"attributes\":{},\"id\":\"1836\",\"type\":\"PanTool\"},{\"attributes\":{\"fill_alpha\":{\"value\":0.1},\"fill_color\":{\"value\":\"#1f77b4\"},\"line_alpha\":{\"value\":0.1},\"line_color\":{\"value\":\"#1f77b4\"},\"top\":{\"field\":\"Counts\"},\"width\":{\"value\":0.7},\"x\":{\"field\":\"Type\"}},\"id\":\"1893\",\"type\":\"VBar\"},{\"attributes\":{\"bottom_units\":\"screen\",\"fill_alpha\":{\"value\":0.5},\"fill_color\":{\"value\":\"lightgrey\"},\"left_units\":\"screen\",\"level\":\"overlay\",\"line_alpha\":{\"value\":1.0},\"line_color\":{\"value\":\"black\"},\"line_dash\":[4,4],\"line_width\":{\"value\":2},\"render_mode\":\"css\",\"right_units\":\"screen\",\"top_units\":\"screen\"},\"id\":\"1996\",\"type\":\"BoxAnnotation\"},{\"attributes\":{},\"id\":\"1921\",\"type\":\"SaveTool\"},{\"attributes\":{},\"id\":\"1983\",\"type\":\"BasicTickFormatter\"},{\"attributes\":{\"dimension\":1,\"ticker\":{\"id\":\"1832\",\"type\":\"BasicTicker\"}},\"id\":\"1835\",\"type\":\"Grid\"},{\"attributes\":{\"formatter\":{\"id\":\"1983\",\"type\":\"BasicTickFormatter\"},\"major_tick_line_color\":{\"value\":null},\"minor_tick_line_color\":{\"value\":null},\"ticker\":{\"id\":\"1873\",\"type\":\"BasicTicker\"}},\"id\":\"1872\",\"type\":\"LinearAxis\"},{\"attributes\":{\"active_drag\":\"auto\",\"active_inspect\":\"auto\",\"active_multi\":null,\"active_scroll\":\"auto\",\"active_tap\":\"auto\",\"tools\":[{\"id\":\"1836\",\"type\":\"PanTool\"},{\"id\":\"1837\",\"type\":\"WheelZoomTool\"},{\"id\":\"1838\",\"type\":\"BoxZoomTool\"},{\"id\":\"1839\",\"type\":\"SaveTool\"},{\"id\":\"1840\",\"type\":\"ResetTool\"},{\"id\":\"1841\",\"type\":\"HelpTool\"},{\"id\":\"1855\",\"type\":\"HoverTool\"}]},\"id\":\"1842\",\"type\":\"Toolbar\"},{\"attributes\":{\"callback\":null,\"factors\":[\"Bars\",\"Breakfast & Brunch\",\"Buffets\",\"Burgers\",\"Cafes\",\"Coffee & Tea\",\"Diners\",\"Fast Food\",\"Food\",\"Nightlife\",\"Pizza\",\"Salad\",\"Sandwiches\",\"Steakhouses\",\"Sushi Bars\",\"Vegetarian\",\"Wine Bars\"]},\"id\":\"1898\",\"type\":\"FactorRange\"},{\"attributes\":{},\"id\":\"1907\",\"type\":\"LinearScale\"},{\"attributes\":{\"fill_color\":{\"value\":\"lightblue\"},\"line_color\":{\"value\":\"lightblue\"},\"top\":{\"field\":\"Counts\"},\"width\":{\"value\":0.7},\"x\":{\"field\":\"state_name\"}},\"id\":\"1851\",\"type\":\"VBar\"},{\"attributes\":{\"ticker\":{\"id\":\"1828\",\"type\":\"CategoricalTicker\"}},\"id\":\"1830\",\"type\":\"Grid\"},{\"attributes\":{},\"id\":\"1989\",\"type\":\"CategoricalTickFormatter\"},{\"attributes\":{\"callback\":null,\"tooltips\":[[\"Count\",\"@Counts{1}\"]]},\"id\":\"1855\",\"type\":\"HoverTool\"},{\"attributes\":{\"callback\":null,\"tooltips\":[[\"Count\",\"@Counts\"]]},\"id\":\"1896\",\"type\":\"HoverTool\"},{\"attributes\":{\"dimension\":1,\"ticker\":{\"id\":\"1873\",\"type\":\"BasicTicker\"}},\"id\":\"1876\",\"type\":\"Grid\"},{\"attributes\":{},\"id\":\"1905\",\"type\":\"CategoricalScale\"},{\"attributes\":{},\"id\":\"1910\",\"type\":\"CategoricalTicker\"},{\"attributes\":{},\"id\":\"1841\",\"type\":\"HelpTool\"},{\"attributes\":{},\"id\":\"1873\",\"type\":\"BasicTicker\"},{\"attributes\":{\"below\":[{\"id\":\"1868\",\"type\":\"CategoricalAxis\"}],\"center\":[{\"id\":\"1871\",\"type\":\"Grid\"},{\"id\":\"1876\",\"type\":\"Grid\"}],\"left\":[{\"id\":\"1872\",\"type\":\"LinearAxis\"}],\"plot_height\":500,\"plot_width\":800,\"renderers\":[{\"id\":\"1894\",\"type\":\"GlyphRenderer\"}],\"title\":{\"id\":\"1859\",\"type\":\"Title\"},\"toolbar\":{\"id\":\"1883\",\"type\":\"Toolbar\"},\"toolbar_location\":null,\"x_range\":{\"id\":\"1857\",\"type\":\"FactorRange\"},\"x_scale\":{\"id\":\"1864\",\"type\":\"CategoricalScale\"},\"y_range\":{\"id\":\"1862\",\"type\":\"Range1d\"},\"y_scale\":{\"id\":\"1866\",\"type\":\"LinearScale\"}},\"id\":\"1858\",\"subtype\":\"Figure\",\"type\":\"Plot\"},{\"attributes\":{},\"id\":\"1832\",\"type\":\"BasicTicker\"},{\"attributes\":{\"overlay\":{\"id\":\"1996\",\"type\":\"BoxAnnotation\"}},\"id\":\"1920\",\"type\":\"BoxZoomTool\"},{\"attributes\":{\"ticker\":{\"id\":\"1910\",\"type\":\"CategoricalTicker\"}},\"id\":\"1912\",\"type\":\"Grid\"},{\"attributes\":{\"callback\":null,\"factors\":[\"American (New)\",\"American (Traditional)\",\"Cajun/Creole\",\"Caribbean\",\"Chinese\",\"Greek\",\"Indian\",\"Italian\",\"Japanese\",\"Korean\",\"Latin American\",\"Mediterranean\",\"Mexican\",\"New Mexican Cuisine\",\"Thai\",\"Vietnamese\"]},\"id\":\"1857\",\"type\":\"FactorRange\"},{\"attributes\":{},\"id\":\"1991\",\"type\":\"UnionRenderers\"},{\"attributes\":{\"formatter\":{\"id\":\"1979\",\"type\":\"BasicTickFormatter\"},\"major_tick_line_color\":{\"value\":null},\"minor_tick_line_color\":{\"value\":null},\"ticker\":{\"id\":\"1832\",\"type\":\"BasicTicker\"}},\"id\":\"1831\",\"type\":\"LinearAxis\"},{\"attributes\":{\"fill_alpha\":{\"value\":0.1},\"fill_color\":{\"value\":\"#1f77b4\"},\"line_alpha\":{\"value\":0.1},\"line_color\":{\"value\":\"#1f77b4\"},\"top\":{\"field\":\"Counts\"},\"width\":{\"value\":0.7},\"x\":{\"field\":\"state_name\"}},\"id\":\"1852\",\"type\":\"VBar\"},{\"attributes\":{\"axis_label\":\"Type\",\"formatter\":{\"id\":\"1989\",\"type\":\"CategoricalTickFormatter\"},\"major_label_orientation\":\"vertical\",\"major_tick_line_color\":{\"value\":null},\"minor_tick_line_color\":{\"value\":null},\"ticker\":{\"id\":\"1910\",\"type\":\"CategoricalTicker\"}},\"id\":\"1909\",\"type\":\"CategoricalAxis\"},{\"attributes\":{\"source\":{\"id\":\"1849\",\"type\":\"ColumnDataSource\"}},\"id\":\"1854\",\"type\":\"CDSView\"},{\"attributes\":{},\"id\":\"1997\",\"type\":\"UnionRenderers\"},{\"attributes\":{\"callback\":null,\"data\":{\"Counts\":[402680,401768,17547,17230,34799,15312,21194,145842,92693,16910,37376,38533,115041,9929,33531,27448],\"Type\":[\"American (New)\",\"American (Traditional)\",\"Cajun/Creole\",\"Caribbean\",\"Chinese\",\"Greek\",\"Indian\",\"Italian\",\"Japanese\",\"Korean\",\"Latin American\",\"Mediterranean\",\"Mexican\",\"New Mexican Cuisine\",\"Thai\",\"Vietnamese\"],\"cat_kitchen\":[\"American (New)\",\"American (Traditional)\",\"Cajun/Creole\",\"Caribbean\",\"Chinese\",\"Greek\",\"Indian\",\"Italian\",\"Japanese\",\"Korean\",\"Latin American\",\"Mediterranean\",\"Mexican\",\"New Mexican Cuisine\",\"Thai\",\"Vietnamese\"]},\"selected\":{\"id\":\"1995\",\"type\":\"Selection\"},\"selection_policy\":{\"id\":\"1994\",\"type\":\"UnionRenderers\"}},\"id\":\"1890\",\"type\":\"ColumnDataSource\"},{\"attributes\":{\"formatter\":{\"id\":\"1987\",\"type\":\"BasicTickFormatter\"},\"major_tick_line_color\":{\"value\":null},\"minor_tick_line_color\":{\"value\":null},\"ticker\":{\"id\":\"1914\",\"type\":\"BasicTicker\"}},\"id\":\"1913\",\"type\":\"LinearAxis\"},{\"attributes\":{\"callback\":null,\"end\":1100000},\"id\":\"1903\",\"type\":\"Range1d\"},{\"attributes\":{},\"id\":\"1828\",\"type\":\"CategoricalTicker\"},{\"attributes\":{},\"id\":\"1987\",\"type\":\"BasicTickFormatter\"},{\"attributes\":{},\"id\":\"1840\",\"type\":\"ResetTool\"}],\"root_ids\":[\"1942\"]},\"title\":\"Bokeh Application\",\"version\":\"1.4.0\"}};\n",
       "  var render_items = [{\"docid\":\"338ecc6a-85c0-4931-95fe-54af09b6efd0\",\"roots\":{\"1942\":\"1fd81c43-5735-45be-8417-98db9469ef69\"}}];\n",
       "  root.Bokeh.embed.embed_items_notebook(docs_json, render_items);\n",
       "\n",
       "  }\n",
       "  if (root.Bokeh !== undefined) {\n",
       "    embed_document(root);\n",
       "  } else {\n",
       "    var attempts = 0;\n",
       "    var timer = setInterval(function(root) {\n",
       "      if (root.Bokeh !== undefined) {\n",
       "        clearInterval(timer);\n",
       "        embed_document(root);\n",
       "      } else {\n",
       "        attempts++;\n",
       "        if (attempts > 100) {\n",
       "          clearInterval(timer);\n",
       "          console.log(\"Bokeh: ERROR: Unable to run BokehJS code because BokehJS library is missing\");\n",
       "        }\n",
       "      }\n",
       "    }, 10, root)\n",
       "  }\n",
       "})(window);"
      ],
      "application/vnd.bokehjs_exec.v0+json": ""
     },
     "metadata": {
      "application/vnd.bokehjs_exec.v0+json": {
       "id": "1942"
      }
     },
     "output_type": "display_data"
    }
   ],
   "source": [
    "# Increase the plot widths\n",
    "plot1.plot_width = plot2.plot_width = plot3.plot_width = 800\n",
    "plot1.plot_height = plot2.plot_height = plot3.plot_height = 500\n",
    "\n",
    "\n",
    "# Create three panels, one for each conference\n",
    "state_panel = Panel(child=plot1, title='Count of reviews by State')\n",
    "kitchen_panel = Panel(child=plot2, title='Count of reviews by Kitchen')\n",
    "types_panel = Panel(child=plot3, title='Count of reviews by Type')\n",
    "\n",
    "# Assign the panels to Tabs\n",
    "tabs = Tabs(tabs=[state_panel, kitchen_panel, types_panel])\n",
    "\n",
    "# Show the tabbed layout\n",
    "show(tabs)\n",
    "\n",
    "html = file_html(tabs, CDN, \"Overview Reviews\")\n",
    "# print(html)"
   ]
  },
  {
   "cell_type": "markdown",
   "metadata": {},
   "source": [
    "### 3.2. Score Overview\n",
    "\n",
    "The next section on the Exploratory Data Analysis page is concering the Score overview, so how the restaurants have scored star vice. Here three stack bar-charts are made, where again it will be possible for the user to select between state, kitchen type and types of restaurants. A hover tool is added, where it will be possible to hover over the stacked bar-chart to see how many of the different stars there are in each state, kitchen and types.  \n",
    "\n",
    "This section will present the average stars given by the all reviewers. The stars are rounded to either whole or half numbers to make it more presentable in the stack bar-chart. From this plot, the distributions of the stars between the different metrics is presenting how different the states are. There are very few restaurants that have one on average, while the restaurans in Kansas and Kentucky do not have any five stars. This is of course also difficult for these two states, since there is only one restaurant in each. Considering that American (New) and American (Traditional) are the most representated ones, when analysing number of stars based on kitchen type across states, it is low\n",
    "\n",
    "When analysing the distribution of the stars based on kitchen type across states, considering that American (New) and American (Traditional) are the most representated ones, they only have 64 five stars restaurans out of 3963 restaurants."
   ]
  },
  {
   "cell_type": "code",
   "execution_count": 53,
   "metadata": {},
   "outputs": [],
   "source": [
    "stars_df = restaurants.groupby(['state_name','stars']).size().reset_index(name='counts')\n",
    "stars_df = stars_df.pivot_table(values = 'counts', index='state_name', columns='stars').reset_index()\n",
    "stars_df = stars_df.rename(columns={1.0:'1', 1.5:'1.5',2.0:'2',2.5:'2.5',\n",
    "                                    3.0:'3',3.5:'3.5',4.0:'4',4.5:'4.5',5.0:'5'}) \n",
    "stars_df = stars_df.fillna(0)\n",
    "source = ColumnDataSource(stars_df)\n",
    "\n",
    "title = 'Count of stars by State'\n",
    "range_x = restaurants['state_name'].sort_values().unique().tolist()\n",
    "xlabel = 'States'\n",
    "stack = ['1', '1.5', '2', '2.5', '3', '3.5', '4', '4.5', '5']\n",
    "colors = ['#30678d','#08306b', '#08519c', '#2171b5', '#4292c6', '#6baed6', '#9ecae1', '#c6dbef', '#deebf7']\n",
    "\n",
    "state = figure(x_range=FactorRange(factors=range_x), y_range=(0,2400),plot_width=800, plot_height=550,\n",
    "           x_axis_label=xlabel, toolbar_location=None, tools=\"\",\n",
    "           title=title)\n",
    "\n",
    "renderers = state.vbar_stack(stack, x='state_name', width=0.9, color=colors, source=source,\n",
    "             legend_label=stack)\n",
    "\n",
    "\n",
    "for r in renderers:\n",
    "    year = r.name\n",
    "    hover = HoverTool(tooltips=[\n",
    "        (\"Total # of stars that have %s\" % year, \"@%s\" % year),\n",
    "        (\"index\", \"$index\")\n",
    "    ], renderers=[r])\n",
    "    state.add_tools(hover)\n",
    "\n",
    "# axis ticks\n",
    "state.yaxis.ticker = [0, 500, 1000, 1500, 2000, 2500]\n",
    "state.xaxis.major_tick_line_color = None \n",
    "state.xaxis.minor_tick_line_color = None \n",
    "state.yaxis.major_tick_line_color = None  \n",
    "state.yaxis.minor_tick_line_color = None  \n",
    "state.legend.location = \"top_center\"\n",
    "state.legend.label_text_font_size = \"7pt\"\n",
    "state.legend.orientation = \"horizontal\"\n",
    "state.title.text_font_size = '13pt'\n",
    "state.title.align = 'center'\n",
    "\n",
    "# show(state)"
   ]
  },
  {
   "cell_type": "code",
   "execution_count": 54,
   "metadata": {},
   "outputs": [],
   "source": [
    "stars_df = restaurants.groupby(['cat_kitchen','stars']).size().reset_index(name='counts')\n",
    "stars_df = stars_df.pivot_table(values = 'counts', index='cat_kitchen', columns='stars').reset_index()\n",
    "stars_df = stars_df.rename(columns={1.0:'1', 1.5:'1.5',2.0:'2',2.5:'2.5',\n",
    "                                    3.0:'3',3.5:'3.5',4.0:'4',4.5:'4.5',5.0:'5'}) \n",
    "\n",
    "stars_df = stars_df.fillna(0)\n",
    "source = ColumnDataSource(stars_df)\n",
    "\n",
    "title = 'Count of stars by Kitchen'\n",
    "range_x = restaurants['cat_kitchen'].sort_values().unique().tolist()\n",
    "xlabel = 'Kitchen Types'\n",
    "ylabel = '# of stars'\n",
    "stack = ['1', '1.5', '2', '2.5', '3', '3.5', '4', '4.5', '5']\n",
    "colors = ['#30678D','#08306b', '#08519c', '#2171b5', '#4292c6', '#6baed6', '#9ecae1', '#c6dbef', '#deebf7']\n",
    "\n",
    "kitchen = figure(x_range=FactorRange(factors=range_x), y_range=(0,2400), plot_width=800, plot_height=500,\n",
    "           x_axis_label=xlabel,toolbar_location=None, tools=\"\",\n",
    "           title=title)\n",
    "\n",
    "renderers = kitchen.vbar_stack(stack, x='cat_kitchen', width=0.9, color=colors, source=source,\n",
    "             legend_label=stack)\n",
    "\n",
    "for r in renderers:\n",
    "    year = r.name\n",
    "    hover = HoverTool(tooltips=[\n",
    "        (\"Total # of stars that have %s\" % year, \"@%s\" % year),\n",
    "        (\"index\", \"$index\")\n",
    "    ], renderers=[r])\n",
    "    kitchen.add_tools(hover)\n",
    "\n",
    "# axis ticks\n",
    "kitchen.xaxis.major_tick_line_color = None \n",
    "kitchen.xaxis.minor_tick_line_color = None \n",
    "kitchen.yaxis.major_tick_line_color = None  \n",
    "kitchen.yaxis.minor_tick_line_color = None  \n",
    "kitchen.legend.location = \"top_center\"\n",
    "kitchen.legend.label_text_font_size = \"7pt\"\n",
    "kitchen.legend.orientation = \"horizontal\"\n",
    "kitchen.xaxis.major_label_orientation = \"vertical\"\n",
    "kitchen.title.text_font_size = '13pt'\n",
    "kitchen.title.align = 'center'\n",
    "\n",
    "# show(kitchen)"
   ]
  },
  {
   "cell_type": "code",
   "execution_count": 55,
   "metadata": {},
   "outputs": [],
   "source": [
    "stars_df = restaurants.groupby(['cat_type','stars']).size().reset_index(name='counts')\n",
    "stars_df = stars_df.pivot_table(values = 'counts', index='cat_type', columns='stars').reset_index()\n",
    "stars_df = stars_df.rename(columns={1.0:'1', 1.5:'1.5',2.0:'2',2.5:'2.5',\n",
    "                                    3.0:'3',3.5:'3.5',4.0:'4',4.5:'4.5',5.0:'5'}) \n",
    "\n",
    "stars_df = stars_df.fillna(0)\n",
    "source = ColumnDataSource(stars_df)\n",
    "\n",
    "title = 'Count of stars by Type'\n",
    "range_x = restaurants['cat_type'].sort_values().unique().tolist()\n",
    "xlabel = 'Type'\n",
    "ylabel = '# of stars'\n",
    "stack = ['1', '1.5', '2', '2.5', '3', '3.5', '4', '4.5', '5']\n",
    "stack = ['1', '1.5', '2', '2.5', '3', '3.5', '4', '4.5', '5']\n",
    "colors = ['#30678D','#08306b', '#08519c', '#2171b5', '#4292c6', '#6baed6', '#9ecae1', '#c6dbef', '#deebf7']\n",
    "\n",
    "types = figure(x_range=FactorRange(factors=range_x),y_range=(0,2000), plot_width=800, plot_height=500,\n",
    "           x_axis_label=xlabel ,toolbar_location=None, tools=\"\",\n",
    "           title=title)\n",
    "\n",
    "renderers = types.vbar_stack(stack, x='cat_type', width=0.9, color=colors, source=source,\n",
    "             legend_label=stack)\n",
    "\n",
    "for r in renderers:\n",
    "    year = r.name\n",
    "    hover = HoverTool(tooltips=[\n",
    "        (\"Total # of stars that have %s\" % year, \"@%s\" % year),\n",
    "        (\"index\", \"$index\")\n",
    "    ], renderers=[r])\n",
    "    types.add_tools(hover)\n",
    "\n",
    "# axis ticks\n",
    "types.xaxis.major_tick_line_color = None \n",
    "types.xaxis.minor_tick_line_color = None \n",
    "types.yaxis.major_tick_line_color = None  \n",
    "types.yaxis.minor_tick_line_color = None  \n",
    "types.legend.location = \"top_center\"\n",
    "types.legend.label_text_font_size = \"7pt\"\n",
    "types.legend.orientation = \"horizontal\"\n",
    "types.xaxis.major_label_orientation = \"vertical\"\n",
    "types.title.text_font_size = '13pt'\n",
    "types.title.align = 'center'\n",
    "\n",
    "# show(types)"
   ]
  },
  {
   "cell_type": "markdown",
   "metadata": {},
   "source": [
    "Below are all the plots made into a three different tabs, such that the user can select the interrested area. Here it is also stated the height and width of the plots, so they have the same sizes when the users select between the different plots. This gives a good flow on the website. "
   ]
  },
  {
   "cell_type": "code",
   "execution_count": 56,
   "metadata": {},
   "outputs": [
    {
     "data": {
      "text/html": [
       "\n",
       "\n",
       "\n",
       "\n",
       "\n",
       "\n",
       "  <div class=\"bk-root\" id=\"95758180-fdb4-4a1b-a07d-65af465a4ef9\" data-root-id=\"2983\"></div>\n"
      ]
     },
     "metadata": {},
     "output_type": "display_data"
    },
    {
     "data": {
      "application/javascript": [
       "(function(root) {\n",
       "  function embed_document(root) {\n",
       "    \n",
       "  var docs_json = {\"5aca6e4b-5f2d-4332-896c-a467680b3707\":{\"roots\":{\"references\":[{\"attributes\":{\"callback\":null,\"tabs\":[{\"id\":\"2980\",\"type\":\"Panel\"},{\"id\":\"2981\",\"type\":\"Panel\"},{\"id\":\"2982\",\"type\":\"Panel\"}]},\"id\":\"2983\",\"type\":\"Tabs\"},{\"attributes\":{\"data_source\":{\"id\":\"2456\",\"type\":\"ColumnDataSource\"},\"glyph\":{\"id\":\"2587\",\"type\":\"VBar\"},\"hover_glyph\":null,\"muted_glyph\":null,\"name\":\"4.5\",\"nonselection_glyph\":{\"id\":\"2588\",\"type\":\"VBar\"},\"selection_glyph\":null,\"view\":{\"id\":\"2590\",\"type\":\"CDSView\"}},\"id\":\"2589\",\"type\":\"GlyphRenderer\"},{\"attributes\":{},\"id\":\"2645\",\"type\":\"CategoricalTicker\"},{\"attributes\":{\"label\":{\"value\":\"2\"},\"renderers\":[{\"id\":\"2700\",\"type\":\"GlyphRenderer\"}]},\"id\":\"2709\",\"type\":\"LegendItem\"},{\"attributes\":{\"callback\":null,\"renderers\":[{\"id\":\"2926\",\"type\":\"GlyphRenderer\"}],\"tooltips\":[[\"Total # of stars that have 4\",\"@4\"],[\"index\",\"$index\"]]},\"id\":\"2974\",\"type\":\"HoverTool\"},{\"attributes\":{\"data_source\":{\"id\":\"2456\",\"type\":\"ColumnDataSource\"},\"glyph\":{\"id\":\"2574\",\"type\":\"VBar\"},\"hover_glyph\":null,\"muted_glyph\":null,\"name\":\"4\",\"nonselection_glyph\":{\"id\":\"2575\",\"type\":\"VBar\"},\"selection_glyph\":null,\"view\":{\"id\":\"2577\",\"type\":\"CDSView\"}},\"id\":\"2576\",\"type\":\"GlyphRenderer\"},{\"attributes\":{\"callback\":null,\"factors\":[\"Bars\",\"Breakfast & Brunch\",\"Buffets\",\"Burgers\",\"Cafes\",\"Coffee & Tea\",\"Diners\",\"Fast Food\",\"Food\",\"Nightlife\",\"Pizza\",\"Salad\",\"Sandwiches\",\"Steakhouses\",\"Sushi Bars\",\"Vegetarian\",\"Wine Bars\"]},\"id\":\"2807\",\"type\":\"FactorRange\"},{\"attributes\":{\"data_source\":{\"id\":\"2806\",\"type\":\"ColumnDataSource\"},\"glyph\":{\"id\":\"2872\",\"type\":\"VBar\"},\"hover_glyph\":null,\"muted_glyph\":null,\"name\":\"2\",\"nonselection_glyph\":{\"id\":\"2873\",\"type\":\"VBar\"},\"selection_glyph\":null,\"view\":{\"id\":\"2875\",\"type\":\"CDSView\"}},\"id\":\"2874\",\"type\":\"GlyphRenderer\"},{\"attributes\":{\"data_source\":{\"id\":\"2806\",\"type\":\"ColumnDataSource\"},\"glyph\":{\"id\":\"2950\",\"type\":\"VBar\"},\"hover_glyph\":null,\"muted_glyph\":null,\"name\":\"5\",\"nonselection_glyph\":{\"id\":\"2951\",\"type\":\"VBar\"},\"selection_glyph\":null,\"view\":{\"id\":\"2953\",\"type\":\"CDSView\"}},\"id\":\"2952\",\"type\":\"GlyphRenderer\"},{\"attributes\":{\"axis_label\":\"Type\",\"formatter\":{\"id\":\"2855\",\"type\":\"CategoricalTickFormatter\"},\"major_label_orientation\":\"vertical\",\"major_tick_line_color\":{\"value\":null},\"minor_tick_line_color\":{\"value\":null},\"ticker\":{\"id\":\"2819\",\"type\":\"CategoricalTicker\"}},\"id\":\"2818\",\"type\":\"CategoricalAxis\"},{\"attributes\":{\"fields\":[\"1\",\"1.5\",\"2\",\"2.5\",\"3\",\"3.5\"]},\"id\":\"2489\",\"type\":\"Stack\"},{\"attributes\":{\"child\":{\"id\":\"2458\",\"subtype\":\"Figure\",\"type\":\"Plot\"},\"title\":\"Count stars by State\"},\"id\":\"2980\",\"type\":\"Panel\"},{\"attributes\":{\"active_drag\":\"auto\",\"active_inspect\":\"auto\",\"active_multi\":null,\"active_scroll\":\"auto\",\"active_tap\":\"auto\",\"tools\":[{\"id\":\"2788\",\"type\":\"HoverTool\"},{\"id\":\"2790\",\"type\":\"HoverTool\"},{\"id\":\"2792\",\"type\":\"HoverTool\"},{\"id\":\"2794\",\"type\":\"HoverTool\"},{\"id\":\"2796\",\"type\":\"HoverTool\"},{\"id\":\"2798\",\"type\":\"HoverTool\"},{\"id\":\"2800\",\"type\":\"HoverTool\"},{\"id\":\"2802\",\"type\":\"HoverTool\"},{\"id\":\"2804\",\"type\":\"HoverTool\"}]},\"id\":\"2653\",\"type\":\"Toolbar\"},{\"attributes\":{\"data_source\":{\"id\":\"2632\",\"type\":\"ColumnDataSource\"},\"glyph\":{\"id\":\"2776\",\"type\":\"VBar\"},\"hover_glyph\":null,\"muted_glyph\":null,\"name\":\"5\",\"nonselection_glyph\":{\"id\":\"2777\",\"type\":\"VBar\"},\"selection_glyph\":null,\"view\":{\"id\":\"2779\",\"type\":\"CDSView\"}},\"id\":\"2778\",\"type\":\"GlyphRenderer\"},{\"attributes\":{\"callback\":null,\"end\":2400},\"id\":\"2638\",\"type\":\"Range1d\"},{\"attributes\":{\"align\":\"center\",\"text\":\"Count of stars by Type\",\"text_font_size\":{\"value\":\"13pt\"}},\"id\":\"2809\",\"type\":\"Title\"},{\"attributes\":{\"bottom\":{\"expr\":{\"id\":\"2832\",\"type\":\"Stack\"}},\"fill_alpha\":{\"value\":0.1},\"fill_color\":{\"value\":\"#1f77b4\"},\"line_alpha\":{\"value\":0.1},\"line_color\":{\"value\":\"#1f77b4\"},\"top\":{\"expr\":{\"id\":\"2833\",\"type\":\"Stack\"}},\"width\":{\"value\":0.9},\"x\":{\"field\":\"cat_type\"}},\"id\":\"2873\",\"type\":\"VBar\"},{\"attributes\":{\"bottom\":{\"expr\":{\"id\":\"2836\",\"type\":\"Stack\"}},\"fill_alpha\":{\"value\":0.1},\"fill_color\":{\"value\":\"#1f77b4\"},\"line_alpha\":{\"value\":0.1},\"line_color\":{\"value\":\"#1f77b4\"},\"top\":{\"expr\":{\"id\":\"2837\",\"type\":\"Stack\"}},\"width\":{\"value\":0.9},\"x\":{\"field\":\"cat_type\"}},\"id\":\"2899\",\"type\":\"VBar\"},{\"attributes\":{\"data_source\":{\"id\":\"2456\",\"type\":\"ColumnDataSource\"},\"glyph\":{\"id\":\"2497\",\"type\":\"VBar\"},\"hover_glyph\":null,\"muted_glyph\":null,\"name\":\"1\",\"nonselection_glyph\":{\"id\":\"2498\",\"type\":\"VBar\"},\"selection_glyph\":null,\"view\":{\"id\":\"2500\",\"type\":\"CDSView\"}},\"id\":\"2499\",\"type\":\"GlyphRenderer\"},{\"attributes\":{\"label\":{\"value\":\"1\"},\"renderers\":[{\"id\":\"2675\",\"type\":\"GlyphRenderer\"}]},\"id\":\"2683\",\"type\":\"LegendItem\"},{\"attributes\":{\"fields\":[\"1\",\"1.5\",\"2\",\"2.5\",\"3\",\"3.5\",\"4\"]},\"id\":\"2492\",\"type\":\"Stack\"},{\"attributes\":{\"fields\":[\"1\",\"1.5\",\"2\",\"2.5\",\"3\",\"3.5\",\"4\"]},\"id\":\"2842\",\"type\":\"Stack\"},{\"attributes\":{},\"id\":\"2853\",\"type\":\"BasicTickFormatter\"},{\"attributes\":{\"source\":{\"id\":\"2806\",\"type\":\"ColumnDataSource\"}},\"id\":\"2901\",\"type\":\"CDSView\"},{\"attributes\":{\"fields\":[\"1\"]},\"id\":\"2479\",\"type\":\"Stack\"},{\"attributes\":{\"data_source\":{\"id\":\"2806\",\"type\":\"ColumnDataSource\"},\"glyph\":{\"id\":\"2924\",\"type\":\"VBar\"},\"hover_glyph\":null,\"muted_glyph\":null,\"name\":\"4\",\"nonselection_glyph\":{\"id\":\"2925\",\"type\":\"VBar\"},\"selection_glyph\":null,\"view\":{\"id\":\"2927\",\"type\":\"CDSView\"}},\"id\":\"2926\",\"type\":\"GlyphRenderer\"},{\"attributes\":{\"label\":{\"value\":\"2\"},\"renderers\":[{\"id\":\"2524\",\"type\":\"GlyphRenderer\"}]},\"id\":\"2533\",\"type\":\"LegendItem\"},{\"attributes\":{},\"id\":\"2649\",\"type\":\"BasicTicker\"},{\"attributes\":{\"fields\":[\"1\",\"1.5\",\"2\",\"2.5\",\"3\"]},\"id\":\"2837\",\"type\":\"Stack\"},{\"attributes\":{\"data_source\":{\"id\":\"2456\",\"type\":\"ColumnDataSource\"},\"glyph\":{\"id\":\"2535\",\"type\":\"VBar\"},\"hover_glyph\":null,\"muted_glyph\":null,\"name\":\"2.5\",\"nonselection_glyph\":{\"id\":\"2536\",\"type\":\"VBar\"},\"selection_glyph\":null,\"view\":{\"id\":\"2538\",\"type\":\"CDSView\"}},\"id\":\"2537\",\"type\":\"GlyphRenderer\"},{\"attributes\":{\"fields\":[\"1\",\"1.5\",\"2\"]},\"id\":\"2660\",\"type\":\"Stack\"},{\"attributes\":{\"active_drag\":\"auto\",\"active_inspect\":\"auto\",\"active_multi\":null,\"active_scroll\":\"auto\",\"active_tap\":\"auto\",\"tools\":[{\"id\":\"2962\",\"type\":\"HoverTool\"},{\"id\":\"2964\",\"type\":\"HoverTool\"},{\"id\":\"2966\",\"type\":\"HoverTool\"},{\"id\":\"2968\",\"type\":\"HoverTool\"},{\"id\":\"2970\",\"type\":\"HoverTool\"},{\"id\":\"2972\",\"type\":\"HoverTool\"},{\"id\":\"2974\",\"type\":\"HoverTool\"},{\"id\":\"2976\",\"type\":\"HoverTool\"},{\"id\":\"2978\",\"type\":\"HoverTool\"}]},\"id\":\"2827\",\"type\":\"Toolbar\"},{\"attributes\":{\"source\":{\"id\":\"2632\",\"type\":\"ColumnDataSource\"}},\"id\":\"2701\",\"type\":\"CDSView\"},{\"attributes\":{\"data_source\":{\"id\":\"2632\",\"type\":\"ColumnDataSource\"},\"glyph\":{\"id\":\"2737\",\"type\":\"VBar\"},\"hover_glyph\":null,\"muted_glyph\":null,\"name\":\"3.5\",\"nonselection_glyph\":{\"id\":\"2738\",\"type\":\"VBar\"},\"selection_glyph\":null,\"view\":{\"id\":\"2740\",\"type\":\"CDSView\"}},\"id\":\"2739\",\"type\":\"GlyphRenderer\"},{\"attributes\":{\"label\":{\"value\":\"3.5\"},\"renderers\":[{\"id\":\"2563\",\"type\":\"GlyphRenderer\"}]},\"id\":\"2572\",\"type\":\"LegendItem\"},{\"attributes\":{\"fields\":[\"1\",\"1.5\",\"2\",\"2.5\",\"3\"]},\"id\":\"2664\",\"type\":\"Stack\"},{\"attributes\":{\"fields\":[\"1\",\"1.5\"]},\"id\":\"2832\",\"type\":\"Stack\"},{\"attributes\":{\"fields\":[\"1\",\"1.5\",\"2\",\"2.5\",\"3\",\"3.5\",\"4\"]},\"id\":\"2667\",\"type\":\"Stack\"},{\"attributes\":{\"data_source\":{\"id\":\"2456\",\"type\":\"ColumnDataSource\"},\"glyph\":{\"id\":\"2561\",\"type\":\"VBar\"},\"hover_glyph\":null,\"muted_glyph\":null,\"name\":\"3.5\",\"nonselection_glyph\":{\"id\":\"2562\",\"type\":\"VBar\"},\"selection_glyph\":null,\"view\":{\"id\":\"2564\",\"type\":\"CDSView\"}},\"id\":\"2563\",\"type\":\"GlyphRenderer\"},{\"attributes\":{\"formatter\":{\"id\":\"2853\",\"type\":\"BasicTickFormatter\"},\"major_tick_line_color\":{\"value\":null},\"minor_tick_line_color\":{\"value\":null},\"ticker\":{\"id\":\"2823\",\"type\":\"BasicTicker\"}},\"id\":\"2822\",\"type\":\"LinearAxis\"},{\"attributes\":{\"label\":{\"value\":\"3.5\"},\"renderers\":[{\"id\":\"2913\",\"type\":\"GlyphRenderer\"}]},\"id\":\"2922\",\"type\":\"LegendItem\"},{\"attributes\":{\"source\":{\"id\":\"2632\",\"type\":\"ColumnDataSource\"}},\"id\":\"2714\",\"type\":\"CDSView\"},{\"attributes\":{\"fields\":[\"1\",\"1.5\",\"2\",\"2.5\",\"3\"]},\"id\":\"2663\",\"type\":\"Stack\"},{\"attributes\":{\"below\":[{\"id\":\"2818\",\"type\":\"CategoricalAxis\"}],\"center\":[{\"id\":\"2821\",\"type\":\"Grid\"},{\"id\":\"2826\",\"type\":\"Grid\"},{\"id\":\"2856\",\"type\":\"Legend\"}],\"left\":[{\"id\":\"2822\",\"type\":\"LinearAxis\"}],\"plot_height\":600,\"plot_width\":800,\"renderers\":[{\"id\":\"2849\",\"type\":\"GlyphRenderer\"},{\"id\":\"2861\",\"type\":\"GlyphRenderer\"},{\"id\":\"2874\",\"type\":\"GlyphRenderer\"},{\"id\":\"2887\",\"type\":\"GlyphRenderer\"},{\"id\":\"2900\",\"type\":\"GlyphRenderer\"},{\"id\":\"2913\",\"type\":\"GlyphRenderer\"},{\"id\":\"2926\",\"type\":\"GlyphRenderer\"},{\"id\":\"2939\",\"type\":\"GlyphRenderer\"},{\"id\":\"2952\",\"type\":\"GlyphRenderer\"}],\"title\":{\"id\":\"2809\",\"type\":\"Title\"},\"toolbar\":{\"id\":\"2827\",\"type\":\"Toolbar\"},\"toolbar_location\":null,\"x_range\":{\"id\":\"2807\",\"type\":\"FactorRange\"},\"x_scale\":{\"id\":\"2814\",\"type\":\"CategoricalScale\"},\"y_range\":{\"id\":\"2812\",\"type\":\"Range1d\"},\"y_scale\":{\"id\":\"2816\",\"type\":\"LinearScale\"}},\"id\":\"2808\",\"subtype\":\"Figure\",\"type\":\"Plot\"},{\"attributes\":{\"label\":{\"value\":\"3\"},\"renderers\":[{\"id\":\"2726\",\"type\":\"GlyphRenderer\"}]},\"id\":\"2735\",\"type\":\"LegendItem\"},{\"attributes\":{},\"id\":\"2679\",\"type\":\"BasicTickFormatter\"},{\"attributes\":{\"fields\":[\"1\",\"1.5\",\"2\",\"2.5\",\"3\",\"3.5\",\"4\",\"4.5\"]},\"id\":\"2844\",\"type\":\"Stack\"},{\"attributes\":{\"data_source\":{\"id\":\"2806\",\"type\":\"ColumnDataSource\"},\"glyph\":{\"id\":\"2898\",\"type\":\"VBar\"},\"hover_glyph\":null,\"muted_glyph\":null,\"name\":\"3\",\"nonselection_glyph\":{\"id\":\"2899\",\"type\":\"VBar\"},\"selection_glyph\":null,\"view\":{\"id\":\"2901\",\"type\":\"CDSView\"}},\"id\":\"2900\",\"type\":\"GlyphRenderer\"},{\"attributes\":{\"fields\":[\"1\",\"1.5\",\"2\",\"2.5\"]},\"id\":\"2662\",\"type\":\"Stack\"},{\"attributes\":{\"source\":{\"id\":\"2806\",\"type\":\"ColumnDataSource\"}},\"id\":\"2914\",\"type\":\"CDSView\"},{\"attributes\":{\"callback\":null,\"renderers\":[{\"id\":\"2537\",\"type\":\"GlyphRenderer\"}],\"tooltips\":[[\"Total # of stars that have 2.5\",\"@2.5\"],[\"index\",\"$index\"]]},\"id\":\"2618\",\"type\":\"HoverTool\"},{\"attributes\":{\"callback\":null,\"renderers\":[{\"id\":\"2874\",\"type\":\"GlyphRenderer\"}],\"tooltips\":[[\"Total # of stars that have 2\",\"@2\"],[\"index\",\"$index\"]]},\"id\":\"2966\",\"type\":\"HoverTool\"},{\"attributes\":{},\"id\":\"2694\",\"type\":\"UnionRenderers\"},{\"attributes\":{\"fields\":[\"1\",\"1.5\",\"2\"]},\"id\":\"2483\",\"type\":\"Stack\"},{\"attributes\":{\"fields\":[\"1\",\"1.5\",\"2\",\"2.5\",\"3\",\"3.5\"]},\"id\":\"2490\",\"type\":\"Stack\"},{\"attributes\":{\"fields\":[\"1\",\"1.5\",\"2\",\"2.5\",\"3\"]},\"id\":\"2838\",\"type\":\"Stack\"},{\"attributes\":{\"source\":{\"id\":\"2632\",\"type\":\"ColumnDataSource\"}},\"id\":\"2779\",\"type\":\"CDSView\"},{\"attributes\":{\"formatter\":{\"id\":\"2679\",\"type\":\"BasicTickFormatter\"},\"major_tick_line_color\":{\"value\":null},\"minor_tick_line_color\":{\"value\":null},\"ticker\":{\"id\":\"2649\",\"type\":\"BasicTicker\"}},\"id\":\"2648\",\"type\":\"LinearAxis\"},{\"attributes\":{\"fields\":[\"1\",\"1.5\",\"2\",\"2.5\",\"3\",\"3.5\",\"4\",\"4.5\",\"5\"]},\"id\":\"2845\",\"type\":\"Stack\"},{\"attributes\":{\"items\":[{\"id\":\"2857\",\"type\":\"LegendItem\"},{\"id\":\"2870\",\"type\":\"LegendItem\"},{\"id\":\"2883\",\"type\":\"LegendItem\"},{\"id\":\"2896\",\"type\":\"LegendItem\"},{\"id\":\"2909\",\"type\":\"LegendItem\"},{\"id\":\"2922\",\"type\":\"LegendItem\"},{\"id\":\"2935\",\"type\":\"LegendItem\"},{\"id\":\"2948\",\"type\":\"LegendItem\"},{\"id\":\"2961\",\"type\":\"LegendItem\"}],\"label_text_font_size\":{\"value\":\"7pt\"},\"location\":\"top_center\",\"orientation\":\"horizontal\"},\"id\":\"2856\",\"type\":\"Legend\"},{\"attributes\":{\"bottom\":{\"expr\":{\"id\":\"2654\",\"type\":\"Stack\"}},\"fill_color\":{\"value\":\"#30678D\"},\"line_color\":{\"value\":\"#30678D\"},\"top\":{\"expr\":{\"id\":\"2655\",\"type\":\"Stack\"}},\"width\":{\"value\":0.9},\"x\":{\"field\":\"cat_kitchen\"}},\"id\":\"2673\",\"type\":\"VBar\"},{\"attributes\":{\"callback\":null,\"renderers\":[{\"id\":\"2952\",\"type\":\"GlyphRenderer\"}],\"tooltips\":[[\"Total # of stars that have 5\",\"@5\"],[\"index\",\"$index\"]]},\"id\":\"2978\",\"type\":\"HoverTool\"},{\"attributes\":{\"fields\":[\"1\",\"1.5\",\"2\"]},\"id\":\"2833\",\"type\":\"Stack\"},{\"attributes\":{\"fields\":[\"1\",\"1.5\"]},\"id\":\"2481\",\"type\":\"Stack\"},{\"attributes\":{\"fields\":[\"1\"]},\"id\":\"2655\",\"type\":\"Stack\"},{\"attributes\":{\"callback\":null,\"renderers\":[{\"id\":\"2511\",\"type\":\"GlyphRenderer\"}],\"tooltips\":[[\"Total # of stars that have 1.5\",\"@1.5\"],[\"index\",\"$index\"]]},\"id\":\"2614\",\"type\":\"HoverTool\"},{\"attributes\":{\"fields\":[\"1\",\"1.5\"]},\"id\":\"2482\",\"type\":\"Stack\"},{\"attributes\":{\"callback\":null,\"factors\":[\"British Columbia\",\"Colorado\",\"Florida\",\"Georgia\",\"Kansas\",\"Kentucky\",\"Massachusetts\",\"Ohio\",\"Oregon\",\"Texas\",\"Washington\"]},\"id\":\"2457\",\"type\":\"FactorRange\"},{\"attributes\":{},\"id\":\"2503\",\"type\":\"BasicTickFormatter\"},{\"attributes\":{\"callback\":null,\"renderers\":[{\"id\":\"2675\",\"type\":\"GlyphRenderer\"}],\"tooltips\":[[\"Total # of stars that have 1\",\"@1\"],[\"index\",\"$index\"]]},\"id\":\"2788\",\"type\":\"HoverTool\"},{\"attributes\":{\"fields\":[\"1\",\"1.5\",\"2\",\"2.5\",\"3\",\"3.5\"]},\"id\":\"2666\",\"type\":\"Stack\"},{\"attributes\":{\"bottom\":{\"expr\":{\"id\":\"2480\",\"type\":\"Stack\"}},\"fill_alpha\":{\"value\":0.1},\"fill_color\":{\"value\":\"#1f77b4\"},\"line_alpha\":{\"value\":0.1},\"line_color\":{\"value\":\"#1f77b4\"},\"top\":{\"expr\":{\"id\":\"2481\",\"type\":\"Stack\"}},\"width\":{\"value\":0.9},\"x\":{\"field\":\"state_name\"}},\"id\":\"2510\",\"type\":\"VBar\"},{\"attributes\":{\"data_source\":{\"id\":\"2806\",\"type\":\"ColumnDataSource\"},\"glyph\":{\"id\":\"2847\",\"type\":\"VBar\"},\"hover_glyph\":null,\"muted_glyph\":null,\"name\":\"1\",\"nonselection_glyph\":{\"id\":\"2848\",\"type\":\"VBar\"},\"selection_glyph\":null,\"view\":{\"id\":\"2850\",\"type\":\"CDSView\"}},\"id\":\"2849\",\"type\":\"GlyphRenderer\"},{\"attributes\":{\"callback\":null,\"renderers\":[{\"id\":\"2563\",\"type\":\"GlyphRenderer\"}],\"tooltips\":[[\"Total # of stars that have 3.5\",\"@3.5\"],[\"index\",\"$index\"]]},\"id\":\"2622\",\"type\":\"HoverTool\"},{\"attributes\":{\"bottom\":{\"expr\":{\"id\":\"2838\",\"type\":\"Stack\"}},\"fill_alpha\":{\"value\":0.1},\"fill_color\":{\"value\":\"#1f77b4\"},\"line_alpha\":{\"value\":0.1},\"line_color\":{\"value\":\"#1f77b4\"},\"top\":{\"expr\":{\"id\":\"2839\",\"type\":\"Stack\"}},\"width\":{\"value\":0.9},\"x\":{\"field\":\"cat_type\"}},\"id\":\"2912\",\"type\":\"VBar\"},{\"attributes\":{\"fields\":[\"1\",\"1.5\",\"2\",\"2.5\",\"3\",\"3.5\",\"4\",\"4.5\"]},\"id\":\"2493\",\"type\":\"Stack\"},{\"attributes\":{},\"id\":\"2814\",\"type\":\"CategoricalScale\"},{\"attributes\":{\"source\":{\"id\":\"2456\",\"type\":\"ColumnDataSource\"}},\"id\":\"2590\",\"type\":\"CDSView\"},{\"attributes\":{\"bottom\":{\"expr\":{\"id\":\"2660\",\"type\":\"Stack\"}},\"fill_color\":{\"value\":\"#2171b5\"},\"line_color\":{\"value\":\"#2171b5\"},\"top\":{\"expr\":{\"id\":\"2661\",\"type\":\"Stack\"}},\"width\":{\"value\":0.9},\"x\":{\"field\":\"cat_kitchen\"}},\"id\":\"2711\",\"type\":\"VBar\"},{\"attributes\":{\"items\":[{\"id\":\"2507\",\"type\":\"LegendItem\"},{\"id\":\"2520\",\"type\":\"LegendItem\"},{\"id\":\"2533\",\"type\":\"LegendItem\"},{\"id\":\"2546\",\"type\":\"LegendItem\"},{\"id\":\"2559\",\"type\":\"LegendItem\"},{\"id\":\"2572\",\"type\":\"LegendItem\"},{\"id\":\"2585\",\"type\":\"LegendItem\"},{\"id\":\"2598\",\"type\":\"LegendItem\"},{\"id\":\"2611\",\"type\":\"LegendItem\"}],\"label_text_font_size\":{\"value\":\"7pt\"},\"location\":\"top_center\",\"orientation\":\"horizontal\"},\"id\":\"2506\",\"type\":\"Legend\"},{\"attributes\":{\"source\":{\"id\":\"2806\",\"type\":\"ColumnDataSource\"}},\"id\":\"2850\",\"type\":\"CDSView\"},{\"attributes\":{\"source\":{\"id\":\"2806\",\"type\":\"ColumnDataSource\"}},\"id\":\"2927\",\"type\":\"CDSView\"},{\"attributes\":{\"fields\":[\"1\",\"1.5\",\"2\",\"2.5\",\"3\",\"3.5\",\"4\"]},\"id\":\"2491\",\"type\":\"Stack\"},{\"attributes\":{\"data_source\":{\"id\":\"2632\",\"type\":\"ColumnDataSource\"},\"glyph\":{\"id\":\"2698\",\"type\":\"VBar\"},\"hover_glyph\":null,\"muted_glyph\":null,\"name\":\"2\",\"nonselection_glyph\":{\"id\":\"2699\",\"type\":\"VBar\"},\"selection_glyph\":null,\"view\":{\"id\":\"2701\",\"type\":\"CDSView\"}},\"id\":\"2700\",\"type\":\"GlyphRenderer\"},{\"attributes\":{\"source\":{\"id\":\"2456\",\"type\":\"ColumnDataSource\"}},\"id\":\"2538\",\"type\":\"CDSView\"},{\"attributes\":{\"label\":{\"value\":\"3.5\"},\"renderers\":[{\"id\":\"2739\",\"type\":\"GlyphRenderer\"}]},\"id\":\"2748\",\"type\":\"LegendItem\"},{\"attributes\":{\"data_source\":{\"id\":\"2456\",\"type\":\"ColumnDataSource\"},\"glyph\":{\"id\":\"2522\",\"type\":\"VBar\"},\"hover_glyph\":null,\"muted_glyph\":null,\"name\":\"2\",\"nonselection_glyph\":{\"id\":\"2523\",\"type\":\"VBar\"},\"selection_glyph\":null,\"view\":{\"id\":\"2525\",\"type\":\"CDSView\"}},\"id\":\"2524\",\"type\":\"GlyphRenderer\"},{\"attributes\":{\"data_source\":{\"id\":\"2806\",\"type\":\"ColumnDataSource\"},\"glyph\":{\"id\":\"2911\",\"type\":\"VBar\"},\"hover_glyph\":null,\"muted_glyph\":null,\"name\":\"3.5\",\"nonselection_glyph\":{\"id\":\"2912\",\"type\":\"VBar\"},\"selection_glyph\":null,\"view\":{\"id\":\"2914\",\"type\":\"CDSView\"}},\"id\":\"2913\",\"type\":\"GlyphRenderer\"},{\"attributes\":{\"bottom\":{\"expr\":{\"id\":\"2656\",\"type\":\"Stack\"}},\"fill_color\":{\"value\":\"#08306b\"},\"line_color\":{\"value\":\"#08306b\"},\"top\":{\"expr\":{\"id\":\"2657\",\"type\":\"Stack\"}},\"width\":{\"value\":0.9},\"x\":{\"field\":\"cat_kitchen\"}},\"id\":\"2685\",\"type\":\"VBar\"},{\"attributes\":{\"fields\":[\"1\"]},\"id\":\"2829\",\"type\":\"Stack\"},{\"attributes\":{\"fields\":[\"1\",\"1.5\",\"2\",\"2.5\"]},\"id\":\"2835\",\"type\":\"Stack\"},{\"attributes\":{\"label\":{\"value\":\"5\"},\"renderers\":[{\"id\":\"2778\",\"type\":\"GlyphRenderer\"}]},\"id\":\"2787\",\"type\":\"LegendItem\"},{\"attributes\":{},\"id\":\"2681\",\"type\":\"CategoricalTickFormatter\"},{\"attributes\":{\"bottom\":{\"expr\":{\"id\":\"2840\",\"type\":\"Stack\"}},\"fill_color\":{\"value\":\"#9ecae1\"},\"line_color\":{\"value\":\"#9ecae1\"},\"top\":{\"expr\":{\"id\":\"2841\",\"type\":\"Stack\"}},\"width\":{\"value\":0.9},\"x\":{\"field\":\"cat_type\"}},\"id\":\"2924\",\"type\":\"VBar\"},{\"attributes\":{\"fields\":[\"1\",\"1.5\",\"2\",\"2.5\",\"3\",\"3.5\",\"4\"]},\"id\":\"2668\",\"type\":\"Stack\"},{\"attributes\":{\"source\":{\"id\":\"2456\",\"type\":\"ColumnDataSource\"}},\"id\":\"2512\",\"type\":\"CDSView\"},{\"attributes\":{\"bottom\":{\"expr\":{\"id\":\"2486\",\"type\":\"Stack\"}},\"fill_color\":{\"value\":\"#4292c6\"},\"line_color\":{\"value\":\"#4292c6\"},\"top\":{\"expr\":{\"id\":\"2487\",\"type\":\"Stack\"}},\"width\":{\"value\":0.9},\"x\":{\"field\":\"state_name\"}},\"id\":\"2548\",\"type\":\"VBar\"},{\"attributes\":{\"callback\":null,\"data\":{\"1\":{\"__ndarray__\":\"AAAAAAAAAAAAAAAAAAAAQAAAAAAAAAAAAAAAAAAAAAAAAAAAAAAAAAAAAAAAAAAAAAAAAAAAAAAAAAAAAAAAQAAAAAAAAAAAAAAAAAAAAAAAAAAAAADwPwAAAAAAAAAAAAAAAAAA8D8AAAAAAAAAAAAAAAAAAAAAAAAAAAAAAAA=\",\"dtype\":\"float64\",\"shape\":[16]},\"1.5\":{\"__ndarray__\":\"AAAAAAAAGEAAAAAAAAAYQAAAAAAAAPA/AAAAAAAAAAAAAAAAAAAQQAAAAAAAAPA/AAAAAAAA8D8AAAAAAAAUQAAAAAAAAAAAAAAAAAAAAAAAAAAAAAAAAAAAAAAAAAAAAAAAAAAAHEAAAAAAAAAAAAAAAAAAAAAAAAAAAAAAAAA=\",\"dtype\":\"float64\",\"shape\":[16]},\"2\":{\"__ndarray__\":\"AAAAAAAANUAAAAAAAABJQAAAAAAAAAAAAAAAAAAACEAAAAAAAAAkQAAAAAAAAABAAAAAAAAAAAAAAAAAAAA0QAAAAAAAACZAAAAAAAAAAAAAAAAAAAAAAAAAAAAAAAAAAAAAAAAAMEAAAAAAAAAAAAAAAAAAAABAAAAAAAAA8D8=\",\"dtype\":\"float64\",\"shape\":[16]},\"2.5\":{\"__ndarray__\":\"AAAAAADAUEAAAAAAAMBjQAAAAAAAAAAAAAAAAAAAAEAAAAAAAABEQAAAAAAAAAhAAAAAAAAA8D8AAAAAAABFQAAAAAAAADhAAAAAAAAACEAAAAAAAAAAAAAAAAAAABRAAAAAAAAAQUAAAAAAAAAAAAAAAAAAAAhAAAAAAAAAFEA=\",\"dtype\":\"float64\",\"shape\":[16]},\"3\":{\"__ndarray__\":\"AAAAAADAZkAAAAAAAIB4QAAAAAAAABxAAAAAAAAALkAAAAAAAABcQAAAAAAAACxAAAAAAAAAOEAAAAAAAABfQAAAAAAAgFxAAAAAAAAAKEAAAAAAAAA0QAAAAAAAADRAAAAAAABAV0AAAAAAAADwPwAAAAAAAChAAAAAAAAAMUA=\",\"dtype\":\"float64\",\"shape\":[16]},\"3.5\":{\"__ndarray__\":\"AAAAAADQfEAAAAAAAECGQAAAAAAAADFAAAAAAAAAQEAAAAAAAMBjQAAAAAAAgEJAAAAAAACAT0AAAAAAANB1QAAAAAAA4HNAAAAAAAAAO0AAAAAAAABCQAAAAAAAgE5AAAAAAACgaEAAAAAAAAAUQAAAAAAAAEVAAAAAAACASkA=\",\"dtype\":\"float64\",\"shape\":[16]},\"4\":{\"__ndarray__\":\"AAAAAADwg0AAAAAAANiDQAAAAAAAADxAAAAAAAAASEAAAAAAAIBeQAAAAAAAAEZAAAAAAAAAWEAAAAAAAEB7QAAAAAAAYHdAAAAAAACARUAAAAAAAIBOQAAAAAAAQF9AAAAAAAAgbEAAAAAAAAAoQAAAAAAAAFRAAAAAAACAWUA=\",\"dtype\":\"float64\",\"shape\":[16]},\"4.5\":{\"__ndarray__\":\"AAAAAAAwcUAAAAAAAOBsQAAAAAAAADFAAAAAAACAQEAAAAAAAABAQAAAAAAAADpAAAAAAACASkAAAAAAAEBmQAAAAAAAQGVAAAAAAAAAQEAAAAAAAIBRQAAAAAAAgFZAAAAAAABAYEAAAAAAAAAAQAAAAAAAAElAAAAAAADAUEA=\",\"dtype\":\"float64\",\"shape\":[16]},\"5\":{\"__ndarray__\":\"AAAAAAAAQUAAAAAAAAA8QAAAAAAAAPA/AAAAAAAAAEAAAAAAAAAIQAAAAAAAAABAAAAAAAAACEAAAAAAAAA5QAAAAAAAADJAAAAAAAAACEAAAAAAAAAoQAAAAAAAADVAAAAAAAAAMkAAAAAAAAAAAAAAAAAAABxAAAAAAAAAGEA=\",\"dtype\":\"float64\",\"shape\":[16]},\"cat_kitchen\":[\"American (New)\",\"American (Traditional)\",\"Cajun/Creole\",\"Caribbean\",\"Chinese\",\"Greek\",\"Indian\",\"Italian\",\"Japanese\",\"Korean\",\"Latin American\",\"Mediterranean\",\"Mexican\",\"New Mexican Cuisine\",\"Thai\",\"Vietnamese\"],\"index\":[0,1,2,3,4,5,6,7,8,9,10,11,12,13,14,15]},\"selected\":{\"id\":\"2695\",\"type\":\"Selection\"},\"selection_policy\":{\"id\":\"2694\",\"type\":\"UnionRenderers\"}},\"id\":\"2632\",\"type\":\"ColumnDataSource\"},{\"attributes\":{\"fields\":[\"1\",\"1.5\",\"2\",\"2.5\"]},\"id\":\"2836\",\"type\":\"Stack\"},{\"attributes\":{\"callback\":null,\"data\":{\"1\":{\"__ndarray__\":\"AAAAAAAAAAAAAAAAAAAAAAAAAAAAAPA/AAAAAAAAAEAAAAAAAAAAAAAAAAAAAAAAAAAAAAAA8D8AAAAAAADwPwAAAAAAAAAAAAAAAAAA8D8AAAAAAAAAAA==\",\"dtype\":\"float64\",\"shape\":[11]},\"1.5\":{\"__ndarray__\":\"AAAAAAAAGEAAAAAAAAAAAAAAAAAAABhAAAAAAAAAEEAAAAAAAAAAAAAAAAAAAAAAAAAAAAAACEAAAAAAAAAIQAAAAAAAAABAAAAAAAAAFEAAAAAAAAAAQA==\",\"dtype\":\"float64\",\"shape\":[11]},\"2\":{\"__ndarray__\":\"AAAAAAAAMUAAAAAAAAAAQAAAAAAAADVAAAAAAAAAO0AAAAAAAADwPwAAAAAAAPA/AAAAAAAANUAAAAAAAAAoQAAAAAAAACZAAAAAAAAAMkAAAAAAAAAUQA==\",\"dtype\":\"float64\",\"shape\":[11]},\"2.5\":{\"__ndarray__\":\"AAAAAAAAS0AAAAAAAAAiQAAAAAAAAEtAAAAAAABAUUAAAAAAAAAAAAAAAAAAAAAAAAAAAABAVUAAAAAAAABDQAAAAAAAAD9AAAAAAACAQkAAAAAAAAAkQA==\",\"dtype\":\"float64\",\"shape\":[11]},\"3\":{\"__ndarray__\":\"AAAAAADgaEAAAAAAAAAiQAAAAAAAYGRAAAAAAADgYUAAAAAAAAAAAAAAAAAAAAAAAAAAAAAAc0AAAAAAAABZQAAAAAAAQF9AAAAAAABAVkAAAAAAAAA7QA==\",\"dtype\":\"float64\",\"shape\":[11]},\"3.5\":{\"__ndarray__\":\"AAAAAACwdkAAAAAAAABJQAAAAAAAYHdAAAAAAACwc0AAAAAAAAAAAAAAAAAAAAAAAAAAAAAghEAAAAAAACBqQAAAAAAAwHNAAAAAAACgbkAAAAAAAABKQA==\",\"dtype\":\"float64\",\"shape\":[11]},\"4\":{\"__ndarray__\":\"AAAAAACwdUAAAAAAAABPQAAAAAAAcIBAAAAAAABweEAAAAAAAAAAAAAAAAAAAAAAAAAAAADAhUAAAAAAABBxQAAAAAAAAHtAAAAAAACgckAAAAAAAABGQA==\",\"dtype\":\"float64\",\"shape\":[11]},\"4.5\":{\"__ndarray__\":\"AAAAAAAAXEAAAAAAAAA5QAAAAAAA4HRAAAAAAADAYkAAAAAAAAAAAAAAAAAAAAAAAAAAAAAAckAAAAAAAMBeQAAAAAAAIG1AAAAAAABgZEAAAAAAAAA8QA==\",\"dtype\":\"float64\",\"shape\":[11]},\"5\":{\"__ndarray__\":\"AAAAAAAAMkAAAAAAAAAQQAAAAAAAAEBAAAAAAAAAM0AAAAAAAAAAAAAAAAAAAAAAAAAAAACAQkAAAAAAAAAxQAAAAAAAAEJAAAAAAAAAMkAAAAAAAAAAQA==\",\"dtype\":\"float64\",\"shape\":[11]},\"index\":[0,1,2,3,4,5,6,7,8,9,10],\"state_name\":[\"British Columbia\",\"Colorado\",\"Florida\",\"Georgia\",\"Kansas\",\"Kentucky\",\"Massachusetts\",\"Ohio\",\"Oregon\",\"Texas\",\"Washington\"]},\"selected\":{\"id\":\"2519\",\"type\":\"Selection\"},\"selection_policy\":{\"id\":\"2518\",\"type\":\"UnionRenderers\"}},\"id\":\"2456\",\"type\":\"ColumnDataSource\"},{\"attributes\":{\"label\":{\"value\":\"3\"},\"renderers\":[{\"id\":\"2900\",\"type\":\"GlyphRenderer\"}]},\"id\":\"2909\",\"type\":\"LegendItem\"},{\"attributes\":{\"fields\":[\"1\",\"1.5\",\"2\",\"2.5\",\"3\",\"3.5\",\"4\",\"4.5\"]},\"id\":\"2843\",\"type\":\"Stack\"},{\"attributes\":{\"bottom\":{\"expr\":{\"id\":\"2840\",\"type\":\"Stack\"}},\"fill_alpha\":{\"value\":0.1},\"fill_color\":{\"value\":\"#1f77b4\"},\"line_alpha\":{\"value\":0.1},\"line_color\":{\"value\":\"#1f77b4\"},\"top\":{\"expr\":{\"id\":\"2841\",\"type\":\"Stack\"}},\"width\":{\"value\":0.9},\"x\":{\"field\":\"cat_type\"}},\"id\":\"2925\",\"type\":\"VBar\"},{\"attributes\":{\"fields\":[]},\"id\":\"2654\",\"type\":\"Stack\"},{\"attributes\":{\"fields\":[\"1\",\"1.5\",\"2\",\"2.5\",\"3\",\"3.5\"]},\"id\":\"2665\",\"type\":\"Stack\"},{\"attributes\":{\"fields\":[\"1\"]},\"id\":\"2830\",\"type\":\"Stack\"},{\"attributes\":{\"label\":{\"value\":\"4\"},\"renderers\":[{\"id\":\"2576\",\"type\":\"GlyphRenderer\"}]},\"id\":\"2585\",\"type\":\"LegendItem\"},{\"attributes\":{\"fields\":[]},\"id\":\"2828\",\"type\":\"Stack\"},{\"attributes\":{\"bottom\":{\"expr\":{\"id\":\"2670\",\"type\":\"Stack\"}},\"fill_alpha\":{\"value\":0.1},\"fill_color\":{\"value\":\"#1f77b4\"},\"line_alpha\":{\"value\":0.1},\"line_color\":{\"value\":\"#1f77b4\"},\"top\":{\"expr\":{\"id\":\"2671\",\"type\":\"Stack\"}},\"width\":{\"value\":0.9},\"x\":{\"field\":\"cat_kitchen\"}},\"id\":\"2777\",\"type\":\"VBar\"},{\"attributes\":{\"bottom\":{\"expr\":{\"id\":\"2828\",\"type\":\"Stack\"}},\"fill_alpha\":{\"value\":0.1},\"fill_color\":{\"value\":\"#1f77b4\"},\"line_alpha\":{\"value\":0.1},\"line_color\":{\"value\":\"#1f77b4\"},\"top\":{\"expr\":{\"id\":\"2829\",\"type\":\"Stack\"}},\"width\":{\"value\":0.9},\"x\":{\"field\":\"cat_type\"}},\"id\":\"2848\",\"type\":\"VBar\"},{\"attributes\":{\"data_source\":{\"id\":\"2456\",\"type\":\"ColumnDataSource\"},\"glyph\":{\"id\":\"2509\",\"type\":\"VBar\"},\"hover_glyph\":null,\"muted_glyph\":null,\"name\":\"1.5\",\"nonselection_glyph\":{\"id\":\"2510\",\"type\":\"VBar\"},\"selection_glyph\":null,\"view\":{\"id\":\"2512\",\"type\":\"CDSView\"}},\"id\":\"2511\",\"type\":\"GlyphRenderer\"},{\"attributes\":{\"bottom\":{\"expr\":{\"id\":\"2488\",\"type\":\"Stack\"}},\"fill_alpha\":{\"value\":0.1},\"fill_color\":{\"value\":\"#1f77b4\"},\"line_alpha\":{\"value\":0.1},\"line_color\":{\"value\":\"#1f77b4\"},\"top\":{\"expr\":{\"id\":\"2489\",\"type\":\"Stack\"}},\"width\":{\"value\":0.9},\"x\":{\"field\":\"state_name\"}},\"id\":\"2562\",\"type\":\"VBar\"},{\"attributes\":{\"callback\":null,\"renderers\":[{\"id\":\"2939\",\"type\":\"GlyphRenderer\"}],\"tooltips\":[[\"Total # of stars that have 4.5\",\"@4.5\"],[\"index\",\"$index\"]]},\"id\":\"2976\",\"type\":\"HoverTool\"},{\"attributes\":{\"callback\":null,\"end\":2000},\"id\":\"2812\",\"type\":\"Range1d\"},{\"attributes\":{\"label\":{\"value\":\"2.5\"},\"renderers\":[{\"id\":\"2537\",\"type\":\"GlyphRenderer\"}]},\"id\":\"2546\",\"type\":\"LegendItem\"},{\"attributes\":{\"dimension\":1,\"ticker\":{\"id\":\"2649\",\"type\":\"BasicTicker\"}},\"id\":\"2652\",\"type\":\"Grid\"},{\"attributes\":{\"active_drag\":\"auto\",\"active_inspect\":\"auto\",\"active_multi\":null,\"active_scroll\":\"auto\",\"active_tap\":\"auto\",\"tools\":[{\"id\":\"2612\",\"type\":\"HoverTool\"},{\"id\":\"2614\",\"type\":\"HoverTool\"},{\"id\":\"2616\",\"type\":\"HoverTool\"},{\"id\":\"2618\",\"type\":\"HoverTool\"},{\"id\":\"2620\",\"type\":\"HoverTool\"},{\"id\":\"2622\",\"type\":\"HoverTool\"},{\"id\":\"2624\",\"type\":\"HoverTool\"},{\"id\":\"2626\",\"type\":\"HoverTool\"},{\"id\":\"2628\",\"type\":\"HoverTool\"}]},\"id\":\"2477\",\"type\":\"Toolbar\"},{\"attributes\":{},\"id\":\"2816\",\"type\":\"LinearScale\"},{\"attributes\":{},\"id\":\"2855\",\"type\":\"CategoricalTickFormatter\"},{\"attributes\":{\"fields\":[\"1\",\"1.5\",\"2\",\"2.5\"]},\"id\":\"2661\",\"type\":\"Stack\"},{\"attributes\":{\"bottom\":{\"expr\":{\"id\":\"2492\",\"type\":\"Stack\"}},\"fill_alpha\":{\"value\":0.1},\"fill_color\":{\"value\":\"#1f77b4\"},\"line_alpha\":{\"value\":0.1},\"line_color\":{\"value\":\"#1f77b4\"},\"top\":{\"expr\":{\"id\":\"2493\",\"type\":\"Stack\"}},\"width\":{\"value\":0.9},\"x\":{\"field\":\"state_name\"}},\"id\":\"2588\",\"type\":\"VBar\"},{\"attributes\":{\"label\":{\"value\":\"1\"},\"renderers\":[{\"id\":\"2849\",\"type\":\"GlyphRenderer\"}]},\"id\":\"2857\",\"type\":\"LegendItem\"},{\"attributes\":{\"callback\":null,\"renderers\":[{\"id\":\"2913\",\"type\":\"GlyphRenderer\"}],\"tooltips\":[[\"Total # of stars that have 3.5\",\"@3.5\"],[\"index\",\"$index\"]]},\"id\":\"2972\",\"type\":\"HoverTool\"},{\"attributes\":{\"bottom\":{\"expr\":{\"id\":\"2488\",\"type\":\"Stack\"}},\"fill_color\":{\"value\":\"#6baed6\"},\"line_color\":{\"value\":\"#6baed6\"},\"top\":{\"expr\":{\"id\":\"2489\",\"type\":\"Stack\"}},\"width\":{\"value\":0.9},\"x\":{\"field\":\"state_name\"}},\"id\":\"2561\",\"type\":\"VBar\"},{\"attributes\":{\"source\":{\"id\":\"2806\",\"type\":\"ColumnDataSource\"}},\"id\":\"2875\",\"type\":\"CDSView\"},{\"attributes\":{\"fields\":[\"1\"]},\"id\":\"2480\",\"type\":\"Stack\"},{\"attributes\":{\"fields\":[\"1\",\"1.5\",\"2\",\"2.5\",\"3\"]},\"id\":\"2487\",\"type\":\"Stack\"},{\"attributes\":{\"bottom\":{\"expr\":{\"id\":\"2482\",\"type\":\"Stack\"}},\"fill_alpha\":{\"value\":0.1},\"fill_color\":{\"value\":\"#1f77b4\"},\"line_alpha\":{\"value\":0.1},\"line_color\":{\"value\":\"#1f77b4\"},\"top\":{\"expr\":{\"id\":\"2483\",\"type\":\"Stack\"}},\"width\":{\"value\":0.9},\"x\":{\"field\":\"state_name\"}},\"id\":\"2523\",\"type\":\"VBar\"},{\"attributes\":{\"source\":{\"id\":\"2632\",\"type\":\"ColumnDataSource\"}},\"id\":\"2740\",\"type\":\"CDSView\"},{\"attributes\":{\"fields\":[\"1\",\"1.5\",\"2\",\"2.5\",\"3\",\"3.5\",\"4\",\"4.5\"]},\"id\":\"2670\",\"type\":\"Stack\"},{\"attributes\":{\"fields\":[\"1\",\"1.5\",\"2\"]},\"id\":\"2834\",\"type\":\"Stack\"},{\"attributes\":{\"bottom\":{\"expr\":{\"id\":\"2478\",\"type\":\"Stack\"}},\"fill_color\":{\"value\":\"#30678d\"},\"line_color\":{\"value\":\"#30678d\"},\"top\":{\"expr\":{\"id\":\"2479\",\"type\":\"Stack\"}},\"width\":{\"value\":0.9},\"x\":{\"field\":\"state_name\"}},\"id\":\"2497\",\"type\":\"VBar\"},{\"attributes\":{\"source\":{\"id\":\"2456\",\"type\":\"ColumnDataSource\"}},\"id\":\"2564\",\"type\":\"CDSView\"},{\"attributes\":{\"fields\":[\"1\",\"1.5\"]},\"id\":\"2831\",\"type\":\"Stack\"},{\"attributes\":{\"bottom\":{\"expr\":{\"id\":\"2666\",\"type\":\"Stack\"}},\"fill_color\":{\"value\":\"#9ecae1\"},\"line_color\":{\"value\":\"#9ecae1\"},\"top\":{\"expr\":{\"id\":\"2667\",\"type\":\"Stack\"}},\"width\":{\"value\":0.9},\"x\":{\"field\":\"cat_kitchen\"}},\"id\":\"2750\",\"type\":\"VBar\"},{\"attributes\":{},\"id\":\"2519\",\"type\":\"Selection\"},{\"attributes\":{\"bottom\":{\"expr\":{\"id\":\"2484\",\"type\":\"Stack\"}},\"fill_color\":{\"value\":\"#2171b5\"},\"line_color\":{\"value\":\"#2171b5\"},\"top\":{\"expr\":{\"id\":\"2485\",\"type\":\"Stack\"}},\"width\":{\"value\":0.9},\"x\":{\"field\":\"state_name\"}},\"id\":\"2535\",\"type\":\"VBar\"},{\"attributes\":{\"source\":{\"id\":\"2456\",\"type\":\"ColumnDataSource\"}},\"id\":\"2577\",\"type\":\"CDSView\"},{\"attributes\":{\"bottom\":{\"expr\":{\"id\":\"2484\",\"type\":\"Stack\"}},\"fill_alpha\":{\"value\":0.1},\"fill_color\":{\"value\":\"#1f77b4\"},\"line_alpha\":{\"value\":0.1},\"line_color\":{\"value\":\"#1f77b4\"},\"top\":{\"expr\":{\"id\":\"2485\",\"type\":\"Stack\"}},\"width\":{\"value\":0.9},\"x\":{\"field\":\"state_name\"}},\"id\":\"2536\",\"type\":\"VBar\"},{\"attributes\":{\"bottom\":{\"expr\":{\"id\":\"2492\",\"type\":\"Stack\"}},\"fill_color\":{\"value\":\"#c6dbef\"},\"line_color\":{\"value\":\"#c6dbef\"},\"top\":{\"expr\":{\"id\":\"2493\",\"type\":\"Stack\"}},\"width\":{\"value\":0.9},\"x\":{\"field\":\"state_name\"}},\"id\":\"2587\",\"type\":\"VBar\"},{\"attributes\":{\"callback\":null,\"renderers\":[{\"id\":\"2602\",\"type\":\"GlyphRenderer\"}],\"tooltips\":[[\"Total # of stars that have 5\",\"@5\"],[\"index\",\"$index\"]]},\"id\":\"2628\",\"type\":\"HoverTool\"},{\"attributes\":{\"fields\":[\"1\",\"1.5\",\"2\"]},\"id\":\"2659\",\"type\":\"Stack\"},{\"attributes\":{\"fields\":[\"1\",\"1.5\",\"2\",\"2.5\",\"3\",\"3.5\"]},\"id\":\"2839\",\"type\":\"Stack\"},{\"attributes\":{\"callback\":null,\"renderers\":[{\"id\":\"2589\",\"type\":\"GlyphRenderer\"}],\"tooltips\":[[\"Total # of stars that have 4.5\",\"@4.5\"],[\"index\",\"$index\"]]},\"id\":\"2626\",\"type\":\"HoverTool\"},{\"attributes\":{\"source\":{\"id\":\"2806\",\"type\":\"ColumnDataSource\"}},\"id\":\"2953\",\"type\":\"CDSView\"},{\"attributes\":{\"fields\":[\"1\",\"1.5\"]},\"id\":\"2657\",\"type\":\"Stack\"},{\"attributes\":{\"callback\":null,\"renderers\":[{\"id\":\"2499\",\"type\":\"GlyphRenderer\"}],\"tooltips\":[[\"Total # of stars that have 1\",\"@1\"],[\"index\",\"$index\"]]},\"id\":\"2612\",\"type\":\"HoverTool\"},{\"attributes\":{\"below\":[{\"id\":\"2644\",\"type\":\"CategoricalAxis\"}],\"center\":[{\"id\":\"2647\",\"type\":\"Grid\"},{\"id\":\"2652\",\"type\":\"Grid\"},{\"id\":\"2682\",\"type\":\"Legend\"}],\"left\":[{\"id\":\"2648\",\"type\":\"LinearAxis\"}],\"plot_height\":600,\"plot_width\":800,\"renderers\":[{\"id\":\"2675\",\"type\":\"GlyphRenderer\"},{\"id\":\"2687\",\"type\":\"GlyphRenderer\"},{\"id\":\"2700\",\"type\":\"GlyphRenderer\"},{\"id\":\"2713\",\"type\":\"GlyphRenderer\"},{\"id\":\"2726\",\"type\":\"GlyphRenderer\"},{\"id\":\"2739\",\"type\":\"GlyphRenderer\"},{\"id\":\"2752\",\"type\":\"GlyphRenderer\"},{\"id\":\"2765\",\"type\":\"GlyphRenderer\"},{\"id\":\"2778\",\"type\":\"GlyphRenderer\"}],\"title\":{\"id\":\"2635\",\"type\":\"Title\"},\"toolbar\":{\"id\":\"2653\",\"type\":\"Toolbar\"},\"toolbar_location\":null,\"x_range\":{\"id\":\"2633\",\"type\":\"FactorRange\"},\"x_scale\":{\"id\":\"2640\",\"type\":\"CategoricalScale\"},\"y_range\":{\"id\":\"2638\",\"type\":\"Range1d\"},\"y_scale\":{\"id\":\"2642\",\"type\":\"LinearScale\"}},\"id\":\"2634\",\"subtype\":\"Figure\",\"type\":\"Plot\"},{\"attributes\":{},\"id\":\"2464\",\"type\":\"CategoricalScale\"},{\"attributes\":{\"label\":{\"value\":\"1.5\"},\"renderers\":[{\"id\":\"2511\",\"type\":\"GlyphRenderer\"}]},\"id\":\"2520\",\"type\":\"LegendItem\"},{\"attributes\":{\"label\":{\"value\":\"4.5\"},\"renderers\":[{\"id\":\"2939\",\"type\":\"GlyphRenderer\"}]},\"id\":\"2948\",\"type\":\"LegendItem\"},{\"attributes\":{\"bottom\":{\"expr\":{\"id\":\"2494\",\"type\":\"Stack\"}},\"fill_color\":{\"value\":\"#deebf7\"},\"line_color\":{\"value\":\"#deebf7\"},\"top\":{\"expr\":{\"id\":\"2495\",\"type\":\"Stack\"}},\"width\":{\"value\":0.9},\"x\":{\"field\":\"state_name\"}},\"id\":\"2600\",\"type\":\"VBar\"},{\"attributes\":{\"callback\":null,\"renderers\":[{\"id\":\"2713\",\"type\":\"GlyphRenderer\"}],\"tooltips\":[[\"Total # of stars that have 2.5\",\"@2.5\"],[\"index\",\"$index\"]]},\"id\":\"2794\",\"type\":\"HoverTool\"},{\"attributes\":{\"source\":{\"id\":\"2806\",\"type\":\"ColumnDataSource\"}},\"id\":\"2862\",\"type\":\"CDSView\"},{\"attributes\":{\"bottom\":{\"expr\":{\"id\":\"2836\",\"type\":\"Stack\"}},\"fill_color\":{\"value\":\"#4292c6\"},\"line_color\":{\"value\":\"#4292c6\"},\"top\":{\"expr\":{\"id\":\"2837\",\"type\":\"Stack\"}},\"width\":{\"value\":0.9},\"x\":{\"field\":\"cat_type\"}},\"id\":\"2898\",\"type\":\"VBar\"},{\"attributes\":{\"fields\":[\"1\",\"1.5\",\"2\",\"2.5\"]},\"id\":\"2486\",\"type\":\"Stack\"},{\"attributes\":{\"source\":{\"id\":\"2632\",\"type\":\"ColumnDataSource\"}},\"id\":\"2676\",\"type\":\"CDSView\"},{\"attributes\":{\"items\":[{\"id\":\"2683\",\"type\":\"LegendItem\"},{\"id\":\"2696\",\"type\":\"LegendItem\"},{\"id\":\"2709\",\"type\":\"LegendItem\"},{\"id\":\"2722\",\"type\":\"LegendItem\"},{\"id\":\"2735\",\"type\":\"LegendItem\"},{\"id\":\"2748\",\"type\":\"LegendItem\"},{\"id\":\"2761\",\"type\":\"LegendItem\"},{\"id\":\"2774\",\"type\":\"LegendItem\"},{\"id\":\"2787\",\"type\":\"LegendItem\"}],\"label_text_font_size\":{\"value\":\"7pt\"},\"location\":\"top_center\",\"orientation\":\"horizontal\"},\"id\":\"2682\",\"type\":\"Legend\"},{\"attributes\":{\"data_source\":{\"id\":\"2806\",\"type\":\"ColumnDataSource\"},\"glyph\":{\"id\":\"2859\",\"type\":\"VBar\"},\"hover_glyph\":null,\"muted_glyph\":null,\"name\":\"1.5\",\"nonselection_glyph\":{\"id\":\"2860\",\"type\":\"VBar\"},\"selection_glyph\":null,\"view\":{\"id\":\"2862\",\"type\":\"CDSView\"}},\"id\":\"2861\",\"type\":\"GlyphRenderer\"},{\"attributes\":{\"bottom\":{\"expr\":{\"id\":\"2668\",\"type\":\"Stack\"}},\"fill_color\":{\"value\":\"#c6dbef\"},\"line_color\":{\"value\":\"#c6dbef\"},\"top\":{\"expr\":{\"id\":\"2669\",\"type\":\"Stack\"}},\"width\":{\"value\":0.9},\"x\":{\"field\":\"cat_kitchen\"}},\"id\":\"2763\",\"type\":\"VBar\"},{\"attributes\":{\"callback\":null,\"renderers\":[{\"id\":\"2861\",\"type\":\"GlyphRenderer\"}],\"tooltips\":[[\"Total # of stars that have 1.5\",\"@1.5\"],[\"index\",\"$index\"]]},\"id\":\"2964\",\"type\":\"HoverTool\"},{\"attributes\":{\"source\":{\"id\":\"2456\",\"type\":\"ColumnDataSource\"}},\"id\":\"2500\",\"type\":\"CDSView\"},{\"attributes\":{\"fields\":[\"1\",\"1.5\",\"2\",\"2.5\",\"3\",\"3.5\",\"4\"]},\"id\":\"2841\",\"type\":\"Stack\"},{\"attributes\":{\"axis_label\":\"Kitchen Types\",\"formatter\":{\"id\":\"2681\",\"type\":\"CategoricalTickFormatter\"},\"major_label_orientation\":\"vertical\",\"major_tick_line_color\":{\"value\":null},\"minor_tick_line_color\":{\"value\":null},\"ticker\":{\"id\":\"2645\",\"type\":\"CategoricalTicker\"}},\"id\":\"2644\",\"type\":\"CategoricalAxis\"},{\"attributes\":{\"label\":{\"value\":\"1\"},\"renderers\":[{\"id\":\"2499\",\"type\":\"GlyphRenderer\"}]},\"id\":\"2507\",\"type\":\"LegendItem\"},{\"attributes\":{\"callback\":null,\"renderers\":[{\"id\":\"2765\",\"type\":\"GlyphRenderer\"}],\"tooltips\":[[\"Total # of stars that have 4.5\",\"@4.5\"],[\"index\",\"$index\"]]},\"id\":\"2802\",\"type\":\"HoverTool\"},{\"attributes\":{\"bottom\":{\"expr\":{\"id\":\"2658\",\"type\":\"Stack\"}},\"fill_color\":{\"value\":\"#08519c\"},\"line_color\":{\"value\":\"#08519c\"},\"top\":{\"expr\":{\"id\":\"2659\",\"type\":\"Stack\"}},\"width\":{\"value\":0.9},\"x\":{\"field\":\"cat_kitchen\"}},\"id\":\"2698\",\"type\":\"VBar\"},{\"attributes\":{\"ticks\":[0,500,1000,1500,2000,2500]},\"id\":\"2630\",\"type\":\"FixedTicker\"},{\"attributes\":{\"bottom\":{\"expr\":{\"id\":\"2654\",\"type\":\"Stack\"}},\"fill_alpha\":{\"value\":0.1},\"fill_color\":{\"value\":\"#1f77b4\"},\"line_alpha\":{\"value\":0.1},\"line_color\":{\"value\":\"#1f77b4\"},\"top\":{\"expr\":{\"id\":\"2655\",\"type\":\"Stack\"}},\"width\":{\"value\":0.9},\"x\":{\"field\":\"cat_kitchen\"}},\"id\":\"2674\",\"type\":\"VBar\"},{\"attributes\":{\"label\":{\"value\":\"2\"},\"renderers\":[{\"id\":\"2874\",\"type\":\"GlyphRenderer\"}]},\"id\":\"2883\",\"type\":\"LegendItem\"},{\"attributes\":{},\"id\":\"2869\",\"type\":\"Selection\"},{\"attributes\":{\"callback\":null,\"factors\":[\"American (New)\",\"American (Traditional)\",\"Cajun/Creole\",\"Caribbean\",\"Chinese\",\"Greek\",\"Indian\",\"Italian\",\"Japanese\",\"Korean\",\"Latin American\",\"Mediterranean\",\"Mexican\",\"New Mexican Cuisine\",\"Thai\",\"Vietnamese\"]},\"id\":\"2633\",\"type\":\"FactorRange\"},{\"attributes\":{\"align\":\"center\",\"text\":\"Count of stars by Kitchen\",\"text_font_size\":{\"value\":\"13pt\"}},\"id\":\"2635\",\"type\":\"Title\"},{\"attributes\":{\"label\":{\"value\":\"4.5\"},\"renderers\":[{\"id\":\"2765\",\"type\":\"GlyphRenderer\"}]},\"id\":\"2774\",\"type\":\"LegendItem\"},{\"attributes\":{\"source\":{\"id\":\"2632\",\"type\":\"ColumnDataSource\"}},\"id\":\"2688\",\"type\":\"CDSView\"},{\"attributes\":{\"label\":{\"value\":\"4.5\"},\"renderers\":[{\"id\":\"2589\",\"type\":\"GlyphRenderer\"}]},\"id\":\"2598\",\"type\":\"LegendItem\"},{\"attributes\":{\"source\":{\"id\":\"2456\",\"type\":\"ColumnDataSource\"}},\"id\":\"2551\",\"type\":\"CDSView\"},{\"attributes\":{\"bottom\":{\"expr\":{\"id\":\"2662\",\"type\":\"Stack\"}},\"fill_alpha\":{\"value\":0.1},\"fill_color\":{\"value\":\"#1f77b4\"},\"line_alpha\":{\"value\":0.1},\"line_color\":{\"value\":\"#1f77b4\"},\"top\":{\"expr\":{\"id\":\"2663\",\"type\":\"Stack\"}},\"width\":{\"value\":0.9},\"x\":{\"field\":\"cat_kitchen\"}},\"id\":\"2725\",\"type\":\"VBar\"},{\"attributes\":{\"source\":{\"id\":\"2632\",\"type\":\"ColumnDataSource\"}},\"id\":\"2753\",\"type\":\"CDSView\"},{\"attributes\":{\"data_source\":{\"id\":\"2456\",\"type\":\"ColumnDataSource\"},\"glyph\":{\"id\":\"2600\",\"type\":\"VBar\"},\"hover_glyph\":null,\"muted_glyph\":null,\"name\":\"5\",\"nonselection_glyph\":{\"id\":\"2601\",\"type\":\"VBar\"},\"selection_glyph\":null,\"view\":{\"id\":\"2603\",\"type\":\"CDSView\"}},\"id\":\"2602\",\"type\":\"GlyphRenderer\"},{\"attributes\":{\"callback\":null,\"renderers\":[{\"id\":\"2726\",\"type\":\"GlyphRenderer\"}],\"tooltips\":[[\"Total # of stars that have 3\",\"@3\"],[\"index\",\"$index\"]]},\"id\":\"2796\",\"type\":\"HoverTool\"},{\"attributes\":{\"bottom\":{\"expr\":{\"id\":\"2838\",\"type\":\"Stack\"}},\"fill_color\":{\"value\":\"#6baed6\"},\"line_color\":{\"value\":\"#6baed6\"},\"top\":{\"expr\":{\"id\":\"2839\",\"type\":\"Stack\"}},\"width\":{\"value\":0.9},\"x\":{\"field\":\"cat_type\"}},\"id\":\"2911\",\"type\":\"VBar\"},{\"attributes\":{\"fields\":[\"1\",\"1.5\",\"2\",\"2.5\",\"3\",\"3.5\",\"4\",\"4.5\",\"5\"]},\"id\":\"2495\",\"type\":\"Stack\"},{\"attributes\":{\"data_source\":{\"id\":\"2632\",\"type\":\"ColumnDataSource\"},\"glyph\":{\"id\":\"2763\",\"type\":\"VBar\"},\"hover_glyph\":null,\"muted_glyph\":null,\"name\":\"4.5\",\"nonselection_glyph\":{\"id\":\"2764\",\"type\":\"VBar\"},\"selection_glyph\":null,\"view\":{\"id\":\"2766\",\"type\":\"CDSView\"}},\"id\":\"2765\",\"type\":\"GlyphRenderer\"},{\"attributes\":{},\"id\":\"2819\",\"type\":\"CategoricalTicker\"},{\"attributes\":{\"bottom\":{\"expr\":{\"id\":\"2670\",\"type\":\"Stack\"}},\"fill_color\":{\"value\":\"#deebf7\"},\"line_color\":{\"value\":\"#deebf7\"},\"top\":{\"expr\":{\"id\":\"2671\",\"type\":\"Stack\"}},\"width\":{\"value\":0.9},\"x\":{\"field\":\"cat_kitchen\"}},\"id\":\"2776\",\"type\":\"VBar\"},{\"attributes\":{\"fields\":[\"1\"]},\"id\":\"2656\",\"type\":\"Stack\"},{\"attributes\":{\"fields\":[\"1\",\"1.5\",\"2\",\"2.5\",\"3\",\"3.5\",\"4\",\"4.5\"]},\"id\":\"2669\",\"type\":\"Stack\"},{\"attributes\":{\"label\":{\"value\":\"1.5\"},\"renderers\":[{\"id\":\"2861\",\"type\":\"GlyphRenderer\"}]},\"id\":\"2870\",\"type\":\"LegendItem\"},{\"attributes\":{\"bottom\":{\"expr\":{\"id\":\"2834\",\"type\":\"Stack\"}},\"fill_alpha\":{\"value\":0.1},\"fill_color\":{\"value\":\"#1f77b4\"},\"line_alpha\":{\"value\":0.1},\"line_color\":{\"value\":\"#1f77b4\"},\"top\":{\"expr\":{\"id\":\"2835\",\"type\":\"Stack\"}},\"width\":{\"value\":0.9},\"x\":{\"field\":\"cat_type\"}},\"id\":\"2886\",\"type\":\"VBar\"},{\"attributes\":{\"bottom\":{\"expr\":{\"id\":\"2830\",\"type\":\"Stack\"}},\"fill_color\":{\"value\":\"#08306b\"},\"line_color\":{\"value\":\"#08306b\"},\"top\":{\"expr\":{\"id\":\"2831\",\"type\":\"Stack\"}},\"width\":{\"value\":0.9},\"x\":{\"field\":\"cat_type\"}},\"id\":\"2859\",\"type\":\"VBar\"},{\"attributes\":{\"label\":{\"value\":\"5\"},\"renderers\":[{\"id\":\"2952\",\"type\":\"GlyphRenderer\"}]},\"id\":\"2961\",\"type\":\"LegendItem\"},{\"attributes\":{},\"id\":\"2640\",\"type\":\"CategoricalScale\"},{\"attributes\":{\"callback\":null,\"renderers\":[{\"id\":\"2778\",\"type\":\"GlyphRenderer\"}],\"tooltips\":[[\"Total # of stars that have 5\",\"@5\"],[\"index\",\"$index\"]]},\"id\":\"2804\",\"type\":\"HoverTool\"},{\"attributes\":{\"label\":{\"value\":\"2.5\"},\"renderers\":[{\"id\":\"2887\",\"type\":\"GlyphRenderer\"}]},\"id\":\"2896\",\"type\":\"LegendItem\"},{\"attributes\":{\"fields\":[\"1\",\"1.5\",\"2\",\"2.5\"]},\"id\":\"2485\",\"type\":\"Stack\"},{\"attributes\":{},\"id\":\"2823\",\"type\":\"BasicTicker\"},{\"attributes\":{\"bottom\":{\"expr\":{\"id\":\"2478\",\"type\":\"Stack\"}},\"fill_alpha\":{\"value\":0.1},\"fill_color\":{\"value\":\"#1f77b4\"},\"line_alpha\":{\"value\":0.1},\"line_color\":{\"value\":\"#1f77b4\"},\"top\":{\"expr\":{\"id\":\"2479\",\"type\":\"Stack\"}},\"width\":{\"value\":0.9},\"x\":{\"field\":\"state_name\"}},\"id\":\"2498\",\"type\":\"VBar\"},{\"attributes\":{\"label\":{\"value\":\"4\"},\"renderers\":[{\"id\":\"2752\",\"type\":\"GlyphRenderer\"}]},\"id\":\"2761\",\"type\":\"LegendItem\"},{\"attributes\":{\"callback\":null,\"renderers\":[{\"id\":\"2700\",\"type\":\"GlyphRenderer\"}],\"tooltips\":[[\"Total # of stars that have 2\",\"@2\"],[\"index\",\"$index\"]]},\"id\":\"2792\",\"type\":\"HoverTool\"},{\"attributes\":{\"callback\":null,\"data\":{\"1\":{\"__ndarray__\":\"AAAAAAAA8D8AAAAAAAAAAAAAAAAAAAAAAAAAAAAAAAAAAAAAAAAAAAAAAAAAAPA/AAAAAAAAAAAAAAAAAADwPwAAAAAAAPA/AAAAAAAAAAAAAAAAAADwPwAAAAAAAPA/AAAAAAAAAAAAAAAAAAAAAAAAAAAAAAAAAAAAAAAAAAAAAAAAAAAAAA==\",\"dtype\":\"float64\",\"shape\":[17]},\"1.5\":{\"__ndarray__\":\"AAAAAAAA8D8AAAAAAADwPwAAAAAAAABAAAAAAAAAAEAAAAAAAAAAAAAAAAAAAAAAAAAAAAAAAAAAAAAAAAAkQAAAAAAAABRAAAAAAAAA8D8AAAAAAAAYQAAAAAAAAABAAAAAAAAA8D8AAAAAAAAAAAAAAAAAAAAAAAAAAAAAAAAAAAAAAAAAAA==\",\"dtype\":\"float64\",\"shape\":[17]},\"2\":{\"__ndarray__\":\"AAAAAAAAMEAAAAAAAAAcQAAAAAAAAAhAAAAAAAAAJkAAAAAAAAAAQAAAAAAAAAAAAAAAAAAAAAAAAAAAAAA7QAAAAAAAAC5AAAAAAAAALkAAAAAAAAAxQAAAAAAAAAhAAAAAAAAAHEAAAAAAAADwPwAAAAAAACRAAAAAAAAA8D8AAAAAAADwPw==\",\"dtype\":\"float64\",\"shape\":[17]},\"2.5\":{\"__ndarray__\":\"AAAAAAAATkAAAAAAAAA3QAAAAAAAAChAAAAAAAAANUAAAAAAAAAcQAAAAAAAAAAAAAAAAAAAFEAAAAAAAIBBQAAAAAAAAEhAAAAAAAAAUEAAAAAAAABEQAAAAAAAAChAAAAAAAAAMkAAAAAAAAAuQAAAAAAAADZAAAAAAAAAEEAAAAAAAADwPw==\",\"dtype\":\"float64\",\"shape\":[17]},\"3\":{\"__ndarray__\":\"AAAAAABgZ0AAAAAAAIBQQAAAAAAAAEFAAAAAAACAUEAAAAAAAAA0QAAAAAAAACBAAAAAAAAAJkAAAAAAAABOQAAAAAAAgGNAAAAAAADgZ0AAAAAAAABbQAAAAAAAAEFAAAAAAAAATkAAAAAAAAA6QAAAAAAAAFtAAAAAAAAAMkAAAAAAAAAYQA==\",\"dtype\":\"float64\",\"shape\":[17]},\"3.5\":{\"__ndarray__\":\"AAAAAACAeEAAAAAAAEBmQAAAAAAAAEJAAAAAAABAWUAAAAAAAABIQAAAAAAAgEFAAAAAAACAR0AAAAAAAABTQAAAAAAAYHhAAAAAAABgekAAAAAAAGBtQAAAAAAAgE9AAAAAAACAXkAAAAAAAABPQAAAAAAAIHJAAAAAAACARUAAAAAAAAA8QA==\",\"dtype\":\"float64\",\"shape\":[17]},\"4\":{\"__ndarray__\":\"AAAAAACgeUAAAAAAAEBrQAAAAAAAAD9AAAAAAADAVkAAAAAAAABMQAAAAAAAAEpAAAAAAACASkAAAAAAAABQQAAAAAAAkIBAAAAAAABwfUAAAAAAAFBxQAAAAAAAQFlAAAAAAABgZEAAAAAAAIBRQAAAAAAA8HNAAAAAAAAAWUAAAAAAAIBPQA==\",\"dtype\":\"float64\",\"shape\":[17]},\"4.5\":{\"__ndarray__\":\"AAAAAABAY0AAAAAAAABYQAAAAAAAAChAAAAAAACAQUAAAAAAAABDQAAAAAAAAERAAAAAAAAANkAAAAAAAIBBQAAAAAAAkHZAAAAAAADgZ0AAAAAAAEBSQAAAAAAAAE5AAAAAAADAXEAAAAAAAAAxQAAAAAAAgFxAAAAAAABAUkAAAAAAAAA0QA==\",\"dtype\":\"float64\",\"shape\":[17]},\"5\":{\"__ndarray__\":\"AAAAAAAAMUAAAAAAAAAoQAAAAAAAAABAAAAAAAAAFEAAAAAAAAAcQAAAAAAAACBAAAAAAAAA8D8AAAAAAAAIQAAAAAAAAE5AAAAAAAAALEAAAAAAAAAkQAAAAAAAAAhAAAAAAAAANEAAAAAAAADwPwAAAAAAACRAAAAAAAAAHEAAAAAAAAAIQA==\",\"dtype\":\"float64\",\"shape\":[17]},\"cat_type\":[\"Bars\",\"Breakfast & Brunch\",\"Buffets\",\"Burgers\",\"Cafes\",\"Coffee & Tea\",\"Diners\",\"Fast Food\",\"Food\",\"Nightlife\",\"Pizza\",\"Salad\",\"Sandwiches\",\"Steakhouses\",\"Sushi Bars\",\"Vegetarian\",\"Wine Bars\"],\"index\":[0,1,2,3,4,5,6,7,8,9,10,11,12,13,14,15,16]},\"selected\":{\"id\":\"2869\",\"type\":\"Selection\"},\"selection_policy\":{\"id\":\"2868\",\"type\":\"UnionRenderers\"}},\"id\":\"2806\",\"type\":\"ColumnDataSource\"},{\"attributes\":{\"ticker\":{\"id\":\"2469\",\"type\":\"CategoricalTicker\"}},\"id\":\"2471\",\"type\":\"Grid\"},{\"attributes\":{\"callback\":null,\"end\":2400},\"id\":\"2462\",\"type\":\"Range1d\"},{\"attributes\":{\"data_source\":{\"id\":\"2456\",\"type\":\"ColumnDataSource\"},\"glyph\":{\"id\":\"2548\",\"type\":\"VBar\"},\"hover_glyph\":null,\"muted_glyph\":null,\"name\":\"3\",\"nonselection_glyph\":{\"id\":\"2549\",\"type\":\"VBar\"},\"selection_glyph\":null,\"view\":{\"id\":\"2551\",\"type\":\"CDSView\"}},\"id\":\"2550\",\"type\":\"GlyphRenderer\"},{\"attributes\":{},\"id\":\"2642\",\"type\":\"LinearScale\"},{\"attributes\":{\"bottom\":{\"expr\":{\"id\":\"2664\",\"type\":\"Stack\"}},\"fill_color\":{\"value\":\"#6baed6\"},\"line_color\":{\"value\":\"#6baed6\"},\"top\":{\"expr\":{\"id\":\"2665\",\"type\":\"Stack\"}},\"width\":{\"value\":0.9},\"x\":{\"field\":\"cat_kitchen\"}},\"id\":\"2737\",\"type\":\"VBar\"},{\"attributes\":{\"bottom\":{\"expr\":{\"id\":\"2834\",\"type\":\"Stack\"}},\"fill_color\":{\"value\":\"#2171b5\"},\"line_color\":{\"value\":\"#2171b5\"},\"top\":{\"expr\":{\"id\":\"2835\",\"type\":\"Stack\"}},\"width\":{\"value\":0.9},\"x\":{\"field\":\"cat_type\"}},\"id\":\"2885\",\"type\":\"VBar\"},{\"attributes\":{\"fields\":[\"1\",\"1.5\"]},\"id\":\"2658\",\"type\":\"Stack\"},{\"attributes\":{\"ticker\":{\"id\":\"2819\",\"type\":\"CategoricalTicker\"}},\"id\":\"2821\",\"type\":\"Grid\"},{\"attributes\":{\"below\":[{\"id\":\"2468\",\"type\":\"CategoricalAxis\"}],\"center\":[{\"id\":\"2471\",\"type\":\"Grid\"},{\"id\":\"2476\",\"type\":\"Grid\"},{\"id\":\"2506\",\"type\":\"Legend\"}],\"left\":[{\"id\":\"2472\",\"type\":\"LinearAxis\"}],\"plot_height\":600,\"plot_width\":800,\"renderers\":[{\"id\":\"2499\",\"type\":\"GlyphRenderer\"},{\"id\":\"2511\",\"type\":\"GlyphRenderer\"},{\"id\":\"2524\",\"type\":\"GlyphRenderer\"},{\"id\":\"2537\",\"type\":\"GlyphRenderer\"},{\"id\":\"2550\",\"type\":\"GlyphRenderer\"},{\"id\":\"2563\",\"type\":\"GlyphRenderer\"},{\"id\":\"2576\",\"type\":\"GlyphRenderer\"},{\"id\":\"2589\",\"type\":\"GlyphRenderer\"},{\"id\":\"2602\",\"type\":\"GlyphRenderer\"}],\"title\":{\"id\":\"2459\",\"type\":\"Title\"},\"toolbar\":{\"id\":\"2477\",\"type\":\"Toolbar\"},\"toolbar_location\":null,\"x_range\":{\"id\":\"2457\",\"type\":\"FactorRange\"},\"x_scale\":{\"id\":\"2464\",\"type\":\"CategoricalScale\"},\"y_range\":{\"id\":\"2462\",\"type\":\"Range1d\"},\"y_scale\":{\"id\":\"2466\",\"type\":\"LinearScale\"}},\"id\":\"2458\",\"subtype\":\"Figure\",\"type\":\"Plot\"},{\"attributes\":{\"callback\":null,\"renderers\":[{\"id\":\"2687\",\"type\":\"GlyphRenderer\"}],\"tooltips\":[[\"Total # of stars that have 1.5\",\"@1.5\"],[\"index\",\"$index\"]]},\"id\":\"2790\",\"type\":\"HoverTool\"},{\"attributes\":{\"fields\":[\"1\",\"1.5\",\"2\",\"2.5\",\"3\"]},\"id\":\"2488\",\"type\":\"Stack\"},{\"attributes\":{\"source\":{\"id\":\"2456\",\"type\":\"ColumnDataSource\"}},\"id\":\"2603\",\"type\":\"CDSView\"},{\"attributes\":{\"label\":{\"value\":\"1.5\"},\"renderers\":[{\"id\":\"2687\",\"type\":\"GlyphRenderer\"}]},\"id\":\"2696\",\"type\":\"LegendItem\"},{\"attributes\":{\"data_source\":{\"id\":\"2632\",\"type\":\"ColumnDataSource\"},\"glyph\":{\"id\":\"2750\",\"type\":\"VBar\"},\"hover_glyph\":null,\"muted_glyph\":null,\"name\":\"4\",\"nonselection_glyph\":{\"id\":\"2751\",\"type\":\"VBar\"},\"selection_glyph\":null,\"view\":{\"id\":\"2753\",\"type\":\"CDSView\"}},\"id\":\"2752\",\"type\":\"GlyphRenderer\"},{\"attributes\":{\"source\":{\"id\":\"2806\",\"type\":\"ColumnDataSource\"}},\"id\":\"2940\",\"type\":\"CDSView\"},{\"attributes\":{\"source\":{\"id\":\"2632\",\"type\":\"ColumnDataSource\"}},\"id\":\"2727\",\"type\":\"CDSView\"},{\"attributes\":{\"bottom\":{\"expr\":{\"id\":\"2666\",\"type\":\"Stack\"}},\"fill_alpha\":{\"value\":0.1},\"fill_color\":{\"value\":\"#1f77b4\"},\"line_alpha\":{\"value\":0.1},\"line_color\":{\"value\":\"#1f77b4\"},\"top\":{\"expr\":{\"id\":\"2667\",\"type\":\"Stack\"}},\"width\":{\"value\":0.9},\"x\":{\"field\":\"cat_kitchen\"}},\"id\":\"2751\",\"type\":\"VBar\"},{\"attributes\":{\"callback\":null,\"renderers\":[{\"id\":\"2887\",\"type\":\"GlyphRenderer\"}],\"tooltips\":[[\"Total # of stars that have 2.5\",\"@2.5\"],[\"index\",\"$index\"]]},\"id\":\"2968\",\"type\":\"HoverTool\"},{\"attributes\":{\"callback\":null,\"renderers\":[{\"id\":\"2752\",\"type\":\"GlyphRenderer\"}],\"tooltips\":[[\"Total # of stars that have 4\",\"@4\"],[\"index\",\"$index\"]]},\"id\":\"2800\",\"type\":\"HoverTool\"},{\"attributes\":{\"bottom\":{\"expr\":{\"id\":\"2842\",\"type\":\"Stack\"}},\"fill_color\":{\"value\":\"#c6dbef\"},\"line_color\":{\"value\":\"#c6dbef\"},\"top\":{\"expr\":{\"id\":\"2843\",\"type\":\"Stack\"}},\"width\":{\"value\":0.9},\"x\":{\"field\":\"cat_type\"}},\"id\":\"2937\",\"type\":\"VBar\"},{\"attributes\":{\"fields\":[]},\"id\":\"2478\",\"type\":\"Stack\"},{\"attributes\":{},\"id\":\"2695\",\"type\":\"Selection\"},{\"attributes\":{\"formatter\":{\"id\":\"2503\",\"type\":\"BasicTickFormatter\"},\"major_tick_line_color\":{\"value\":null},\"minor_tick_line_color\":{\"value\":null},\"ticker\":{\"id\":\"2630\",\"type\":\"FixedTicker\"}},\"id\":\"2472\",\"type\":\"LinearAxis\"},{\"attributes\":{\"bottom\":{\"expr\":{\"id\":\"2668\",\"type\":\"Stack\"}},\"fill_alpha\":{\"value\":0.1},\"fill_color\":{\"value\":\"#1f77b4\"},\"line_alpha\":{\"value\":0.1},\"line_color\":{\"value\":\"#1f77b4\"},\"top\":{\"expr\":{\"id\":\"2669\",\"type\":\"Stack\"}},\"width\":{\"value\":0.9},\"x\":{\"field\":\"cat_kitchen\"}},\"id\":\"2764\",\"type\":\"VBar\"},{\"attributes\":{},\"id\":\"2518\",\"type\":\"UnionRenderers\"},{\"attributes\":{},\"id\":\"2868\",\"type\":\"UnionRenderers\"},{\"attributes\":{\"child\":{\"id\":\"2634\",\"subtype\":\"Figure\",\"type\":\"Plot\"},\"title\":\"Count stars by Kitchen\"},\"id\":\"2981\",\"type\":\"Panel\"},{\"attributes\":{\"dimension\":1,\"ticker\":{\"id\":\"2823\",\"type\":\"BasicTicker\"}},\"id\":\"2826\",\"type\":\"Grid\"},{\"attributes\":{\"callback\":null,\"renderers\":[{\"id\":\"2524\",\"type\":\"GlyphRenderer\"}],\"tooltips\":[[\"Total # of stars that have 2\",\"@2\"],[\"index\",\"$index\"]]},\"id\":\"2616\",\"type\":\"HoverTool\"},{\"attributes\":{\"label\":{\"value\":\"2.5\"},\"renderers\":[{\"id\":\"2713\",\"type\":\"GlyphRenderer\"}]},\"id\":\"2722\",\"type\":\"LegendItem\"},{\"attributes\":{\"bottom\":{\"expr\":{\"id\":\"2828\",\"type\":\"Stack\"}},\"fill_color\":{\"value\":\"#30678D\"},\"line_color\":{\"value\":\"#30678D\"},\"top\":{\"expr\":{\"id\":\"2829\",\"type\":\"Stack\"}},\"width\":{\"value\":0.9},\"x\":{\"field\":\"cat_type\"}},\"id\":\"2847\",\"type\":\"VBar\"},{\"attributes\":{\"bottom\":{\"expr\":{\"id\":\"2832\",\"type\":\"Stack\"}},\"fill_color\":{\"value\":\"#08519c\"},\"line_color\":{\"value\":\"#08519c\"},\"top\":{\"expr\":{\"id\":\"2833\",\"type\":\"Stack\"}},\"width\":{\"value\":0.9},\"x\":{\"field\":\"cat_type\"}},\"id\":\"2872\",\"type\":\"VBar\"},{\"attributes\":{\"data_source\":{\"id\":\"2632\",\"type\":\"ColumnDataSource\"},\"glyph\":{\"id\":\"2724\",\"type\":\"VBar\"},\"hover_glyph\":null,\"muted_glyph\":null,\"name\":\"3\",\"nonselection_glyph\":{\"id\":\"2725\",\"type\":\"VBar\"},\"selection_glyph\":null,\"view\":{\"id\":\"2727\",\"type\":\"CDSView\"}},\"id\":\"2726\",\"type\":\"GlyphRenderer\"},{\"attributes\":{},\"id\":\"2505\",\"type\":\"CategoricalTickFormatter\"},{\"attributes\":{\"bottom\":{\"expr\":{\"id\":\"2844\",\"type\":\"Stack\"}},\"fill_alpha\":{\"value\":0.1},\"fill_color\":{\"value\":\"#1f77b4\"},\"line_alpha\":{\"value\":0.1},\"line_color\":{\"value\":\"#1f77b4\"},\"top\":{\"expr\":{\"id\":\"2845\",\"type\":\"Stack\"}},\"width\":{\"value\":0.9},\"x\":{\"field\":\"cat_type\"}},\"id\":\"2951\",\"type\":\"VBar\"},{\"attributes\":{\"label\":{\"value\":\"5\"},\"renderers\":[{\"id\":\"2602\",\"type\":\"GlyphRenderer\"}]},\"id\":\"2611\",\"type\":\"LegendItem\"},{\"attributes\":{\"bottom\":{\"expr\":{\"id\":\"2842\",\"type\":\"Stack\"}},\"fill_alpha\":{\"value\":0.1},\"fill_color\":{\"value\":\"#1f77b4\"},\"line_alpha\":{\"value\":0.1},\"line_color\":{\"value\":\"#1f77b4\"},\"top\":{\"expr\":{\"id\":\"2843\",\"type\":\"Stack\"}},\"width\":{\"value\":0.9},\"x\":{\"field\":\"cat_type\"}},\"id\":\"2938\",\"type\":\"VBar\"},{\"attributes\":{\"bottom\":{\"expr\":{\"id\":\"2844\",\"type\":\"Stack\"}},\"fill_color\":{\"value\":\"#deebf7\"},\"line_color\":{\"value\":\"#deebf7\"},\"top\":{\"expr\":{\"id\":\"2845\",\"type\":\"Stack\"}},\"width\":{\"value\":0.9},\"x\":{\"field\":\"cat_type\"}},\"id\":\"2950\",\"type\":\"VBar\"},{\"attributes\":{\"data_source\":{\"id\":\"2632\",\"type\":\"ColumnDataSource\"},\"glyph\":{\"id\":\"2685\",\"type\":\"VBar\"},\"hover_glyph\":null,\"muted_glyph\":null,\"name\":\"1.5\",\"nonselection_glyph\":{\"id\":\"2686\",\"type\":\"VBar\"},\"selection_glyph\":null,\"view\":{\"id\":\"2688\",\"type\":\"CDSView\"}},\"id\":\"2687\",\"type\":\"GlyphRenderer\"},{\"attributes\":{\"label\":{\"value\":\"3\"},\"renderers\":[{\"id\":\"2550\",\"type\":\"GlyphRenderer\"}]},\"id\":\"2559\",\"type\":\"LegendItem\"},{\"attributes\":{\"bottom\":{\"expr\":{\"id\":\"2490\",\"type\":\"Stack\"}},\"fill_alpha\":{\"value\":0.1},\"fill_color\":{\"value\":\"#1f77b4\"},\"line_alpha\":{\"value\":0.1},\"line_color\":{\"value\":\"#1f77b4\"},\"top\":{\"expr\":{\"id\":\"2491\",\"type\":\"Stack\"}},\"width\":{\"value\":0.9},\"x\":{\"field\":\"state_name\"}},\"id\":\"2575\",\"type\":\"VBar\"},{\"attributes\":{\"data_source\":{\"id\":\"2806\",\"type\":\"ColumnDataSource\"},\"glyph\":{\"id\":\"2937\",\"type\":\"VBar\"},\"hover_glyph\":null,\"muted_glyph\":null,\"name\":\"4.5\",\"nonselection_glyph\":{\"id\":\"2938\",\"type\":\"VBar\"},\"selection_glyph\":null,\"view\":{\"id\":\"2940\",\"type\":\"CDSView\"}},\"id\":\"2939\",\"type\":\"GlyphRenderer\"},{\"attributes\":{\"bottom\":{\"expr\":{\"id\":\"2658\",\"type\":\"Stack\"}},\"fill_alpha\":{\"value\":0.1},\"fill_color\":{\"value\":\"#1f77b4\"},\"line_alpha\":{\"value\":0.1},\"line_color\":{\"value\":\"#1f77b4\"},\"top\":{\"expr\":{\"id\":\"2659\",\"type\":\"Stack\"}},\"width\":{\"value\":0.9},\"x\":{\"field\":\"cat_kitchen\"}},\"id\":\"2699\",\"type\":\"VBar\"},{\"attributes\":{\"fields\":[\"1\",\"1.5\",\"2\",\"2.5\",\"3\",\"3.5\",\"4\",\"4.5\"]},\"id\":\"2494\",\"type\":\"Stack\"},{\"attributes\":{\"child\":{\"id\":\"2808\",\"subtype\":\"Figure\",\"type\":\"Plot\"},\"title\":\"Count stars by Type\"},\"id\":\"2982\",\"type\":\"Panel\"},{\"attributes\":{\"dimension\":1,\"ticker\":{\"id\":\"2473\",\"type\":\"BasicTicker\"}},\"id\":\"2476\",\"type\":\"Grid\"},{\"attributes\":{\"data_source\":{\"id\":\"2632\",\"type\":\"ColumnDataSource\"},\"glyph\":{\"id\":\"2711\",\"type\":\"VBar\"},\"hover_glyph\":null,\"muted_glyph\":null,\"name\":\"2.5\",\"nonselection_glyph\":{\"id\":\"2712\",\"type\":\"VBar\"},\"selection_glyph\":null,\"view\":{\"id\":\"2714\",\"type\":\"CDSView\"}},\"id\":\"2713\",\"type\":\"GlyphRenderer\"},{\"attributes\":{\"bottom\":{\"expr\":{\"id\":\"2480\",\"type\":\"Stack\"}},\"fill_color\":{\"value\":\"#08306b\"},\"line_color\":{\"value\":\"#08306b\"},\"top\":{\"expr\":{\"id\":\"2481\",\"type\":\"Stack\"}},\"width\":{\"value\":0.9},\"x\":{\"field\":\"state_name\"}},\"id\":\"2509\",\"type\":\"VBar\"},{\"attributes\":{\"bottom\":{\"expr\":{\"id\":\"2486\",\"type\":\"Stack\"}},\"fill_alpha\":{\"value\":0.1},\"fill_color\":{\"value\":\"#1f77b4\"},\"line_alpha\":{\"value\":0.1},\"line_color\":{\"value\":\"#1f77b4\"},\"top\":{\"expr\":{\"id\":\"2487\",\"type\":\"Stack\"}},\"width\":{\"value\":0.9},\"x\":{\"field\":\"state_name\"}},\"id\":\"2549\",\"type\":\"VBar\"},{\"attributes\":{\"callback\":null,\"renderers\":[{\"id\":\"2739\",\"type\":\"GlyphRenderer\"}],\"tooltips\":[[\"Total # of stars that have 3.5\",\"@3.5\"],[\"index\",\"$index\"]]},\"id\":\"2798\",\"type\":\"HoverTool\"},{\"attributes\":{\"ticker\":{\"id\":\"2645\",\"type\":\"CategoricalTicker\"}},\"id\":\"2647\",\"type\":\"Grid\"},{\"attributes\":{\"bottom\":{\"expr\":{\"id\":\"2656\",\"type\":\"Stack\"}},\"fill_alpha\":{\"value\":0.1},\"fill_color\":{\"value\":\"#1f77b4\"},\"line_alpha\":{\"value\":0.1},\"line_color\":{\"value\":\"#1f77b4\"},\"top\":{\"expr\":{\"id\":\"2657\",\"type\":\"Stack\"}},\"width\":{\"value\":0.9},\"x\":{\"field\":\"cat_kitchen\"}},\"id\":\"2686\",\"type\":\"VBar\"},{\"attributes\":{\"bottom\":{\"expr\":{\"id\":\"2830\",\"type\":\"Stack\"}},\"fill_alpha\":{\"value\":0.1},\"fill_color\":{\"value\":\"#1f77b4\"},\"line_alpha\":{\"value\":0.1},\"line_color\":{\"value\":\"#1f77b4\"},\"top\":{\"expr\":{\"id\":\"2831\",\"type\":\"Stack\"}},\"width\":{\"value\":0.9},\"x\":{\"field\":\"cat_type\"}},\"id\":\"2860\",\"type\":\"VBar\"},{\"attributes\":{\"fields\":[\"1\",\"1.5\",\"2\",\"2.5\",\"3\",\"3.5\"]},\"id\":\"2840\",\"type\":\"Stack\"},{\"attributes\":{\"bottom\":{\"expr\":{\"id\":\"2482\",\"type\":\"Stack\"}},\"fill_color\":{\"value\":\"#08519c\"},\"line_color\":{\"value\":\"#08519c\"},\"top\":{\"expr\":{\"id\":\"2483\",\"type\":\"Stack\"}},\"width\":{\"value\":0.9},\"x\":{\"field\":\"state_name\"}},\"id\":\"2522\",\"type\":\"VBar\"},{\"attributes\":{\"bottom\":{\"expr\":{\"id\":\"2662\",\"type\":\"Stack\"}},\"fill_color\":{\"value\":\"#4292c6\"},\"line_color\":{\"value\":\"#4292c6\"},\"top\":{\"expr\":{\"id\":\"2663\",\"type\":\"Stack\"}},\"width\":{\"value\":0.9},\"x\":{\"field\":\"cat_kitchen\"}},\"id\":\"2724\",\"type\":\"VBar\"},{\"attributes\":{\"callback\":null,\"renderers\":[{\"id\":\"2550\",\"type\":\"GlyphRenderer\"}],\"tooltips\":[[\"Total # of stars that have 3\",\"@3\"],[\"index\",\"$index\"]]},\"id\":\"2620\",\"type\":\"HoverTool\"},{\"attributes\":{\"callback\":null,\"renderers\":[{\"id\":\"2576\",\"type\":\"GlyphRenderer\"}],\"tooltips\":[[\"Total # of stars that have 4\",\"@4\"],[\"index\",\"$index\"]]},\"id\":\"2624\",\"type\":\"HoverTool\"},{\"attributes\":{\"fields\":[\"1\",\"1.5\",\"2\",\"2.5\",\"3\",\"3.5\",\"4\",\"4.5\",\"5\"]},\"id\":\"2671\",\"type\":\"Stack\"},{\"attributes\":{},\"id\":\"2469\",\"type\":\"CategoricalTicker\"},{\"attributes\":{\"source\":{\"id\":\"2456\",\"type\":\"ColumnDataSource\"}},\"id\":\"2525\",\"type\":\"CDSView\"},{\"attributes\":{\"bottom\":{\"expr\":{\"id\":\"2660\",\"type\":\"Stack\"}},\"fill_alpha\":{\"value\":0.1},\"fill_color\":{\"value\":\"#1f77b4\"},\"line_alpha\":{\"value\":0.1},\"line_color\":{\"value\":\"#1f77b4\"},\"top\":{\"expr\":{\"id\":\"2661\",\"type\":\"Stack\"}},\"width\":{\"value\":0.9},\"x\":{\"field\":\"cat_kitchen\"}},\"id\":\"2712\",\"type\":\"VBar\"},{\"attributes\":{\"source\":{\"id\":\"2806\",\"type\":\"ColumnDataSource\"}},\"id\":\"2888\",\"type\":\"CDSView\"},{\"attributes\":{\"align\":\"center\",\"text\":\"Count of stars by State\",\"text_font_size\":{\"value\":\"13pt\"}},\"id\":\"2459\",\"type\":\"Title\"},{\"attributes\":{\"source\":{\"id\":\"2632\",\"type\":\"ColumnDataSource\"}},\"id\":\"2766\",\"type\":\"CDSView\"},{\"attributes\":{\"fields\":[\"1\",\"1.5\",\"2\"]},\"id\":\"2484\",\"type\":\"Stack\"},{\"attributes\":{},\"id\":\"2473\",\"type\":\"BasicTicker\"},{\"attributes\":{\"callback\":null,\"renderers\":[{\"id\":\"2849\",\"type\":\"GlyphRenderer\"}],\"tooltips\":[[\"Total # of stars that have 1\",\"@1\"],[\"index\",\"$index\"]]},\"id\":\"2962\",\"type\":\"HoverTool\"},{\"attributes\":{\"callback\":null,\"renderers\":[{\"id\":\"2900\",\"type\":\"GlyphRenderer\"}],\"tooltips\":[[\"Total # of stars that have 3\",\"@3\"],[\"index\",\"$index\"]]},\"id\":\"2970\",\"type\":\"HoverTool\"},{\"attributes\":{\"data_source\":{\"id\":\"2632\",\"type\":\"ColumnDataSource\"},\"glyph\":{\"id\":\"2673\",\"type\":\"VBar\"},\"hover_glyph\":null,\"muted_glyph\":null,\"name\":\"1\",\"nonselection_glyph\":{\"id\":\"2674\",\"type\":\"VBar\"},\"selection_glyph\":null,\"view\":{\"id\":\"2676\",\"type\":\"CDSView\"}},\"id\":\"2675\",\"type\":\"GlyphRenderer\"},{\"attributes\":{\"data_source\":{\"id\":\"2806\",\"type\":\"ColumnDataSource\"},\"glyph\":{\"id\":\"2885\",\"type\":\"VBar\"},\"hover_glyph\":null,\"muted_glyph\":null,\"name\":\"2.5\",\"nonselection_glyph\":{\"id\":\"2886\",\"type\":\"VBar\"},\"selection_glyph\":null,\"view\":{\"id\":\"2888\",\"type\":\"CDSView\"}},\"id\":\"2887\",\"type\":\"GlyphRenderer\"},{\"attributes\":{\"label\":{\"value\":\"4\"},\"renderers\":[{\"id\":\"2926\",\"type\":\"GlyphRenderer\"}]},\"id\":\"2935\",\"type\":\"LegendItem\"},{\"attributes\":{\"bottom\":{\"expr\":{\"id\":\"2664\",\"type\":\"Stack\"}},\"fill_alpha\":{\"value\":0.1},\"fill_color\":{\"value\":\"#1f77b4\"},\"line_alpha\":{\"value\":0.1},\"line_color\":{\"value\":\"#1f77b4\"},\"top\":{\"expr\":{\"id\":\"2665\",\"type\":\"Stack\"}},\"width\":{\"value\":0.9},\"x\":{\"field\":\"cat_kitchen\"}},\"id\":\"2738\",\"type\":\"VBar\"},{\"attributes\":{},\"id\":\"2466\",\"type\":\"LinearScale\"},{\"attributes\":{\"bottom\":{\"expr\":{\"id\":\"2490\",\"type\":\"Stack\"}},\"fill_color\":{\"value\":\"#9ecae1\"},\"line_color\":{\"value\":\"#9ecae1\"},\"top\":{\"expr\":{\"id\":\"2491\",\"type\":\"Stack\"}},\"width\":{\"value\":0.9},\"x\":{\"field\":\"state_name\"}},\"id\":\"2574\",\"type\":\"VBar\"},{\"attributes\":{\"bottom\":{\"expr\":{\"id\":\"2494\",\"type\":\"Stack\"}},\"fill_alpha\":{\"value\":0.1},\"fill_color\":{\"value\":\"#1f77b4\"},\"line_alpha\":{\"value\":0.1},\"line_color\":{\"value\":\"#1f77b4\"},\"top\":{\"expr\":{\"id\":\"2495\",\"type\":\"Stack\"}},\"width\":{\"value\":0.9},\"x\":{\"field\":\"state_name\"}},\"id\":\"2601\",\"type\":\"VBar\"},{\"attributes\":{\"axis_label\":\"States\",\"formatter\":{\"id\":\"2505\",\"type\":\"CategoricalTickFormatter\"},\"major_tick_line_color\":{\"value\":null},\"minor_tick_line_color\":{\"value\":null},\"ticker\":{\"id\":\"2469\",\"type\":\"CategoricalTicker\"}},\"id\":\"2468\",\"type\":\"CategoricalAxis\"}],\"root_ids\":[\"2983\"]},\"title\":\"Bokeh Application\",\"version\":\"1.4.0\"}};\n",
       "  var render_items = [{\"docid\":\"5aca6e4b-5f2d-4332-896c-a467680b3707\",\"roots\":{\"2983\":\"95758180-fdb4-4a1b-a07d-65af465a4ef9\"}}];\n",
       "  root.Bokeh.embed.embed_items_notebook(docs_json, render_items);\n",
       "\n",
       "  }\n",
       "  if (root.Bokeh !== undefined) {\n",
       "    embed_document(root);\n",
       "  } else {\n",
       "    var attempts = 0;\n",
       "    var timer = setInterval(function(root) {\n",
       "      if (root.Bokeh !== undefined) {\n",
       "        clearInterval(timer);\n",
       "        embed_document(root);\n",
       "      } else {\n",
       "        attempts++;\n",
       "        if (attempts > 100) {\n",
       "          clearInterval(timer);\n",
       "          console.log(\"Bokeh: ERROR: Unable to run BokehJS code because BokehJS library is missing\");\n",
       "        }\n",
       "      }\n",
       "    }, 10, root)\n",
       "  }\n",
       "})(window);"
      ],
      "application/vnd.bokehjs_exec.v0+json": ""
     },
     "metadata": {
      "application/vnd.bokehjs_exec.v0+json": {
       "id": "2983"
      }
     },
     "output_type": "display_data"
    }
   ],
   "source": [
    "# Increase the plot widths\n",
    "state.plot_width = kitchen.plot_width = types.plot_width = 800\n",
    "state.plot_height = kitchen.plot_height = types.plot_height = 600\n",
    "\n",
    "# Create three panels, one for each conference\n",
    "state_panel = Panel(child=state, title='Count stars by State')\n",
    "kitchen_panel = Panel(child=kitchen, title='Count stars by Kitchen')\n",
    "types_panel = Panel(child=types, title='Count stars by Type')\n",
    "\n",
    "# Assign the panels to Tabs\n",
    "tabs = Tabs(tabs=[state_panel, kitchen_panel, types_panel])\n",
    "\n",
    "# Show the tabbed layout\n",
    "show(tabs)\n",
    "\n",
    "html = file_html(tabs, CDN, \"Score Overview\")\n",
    "# print(html)"
   ]
  },
  {
   "cell_type": "markdown",
   "metadata": {},
   "source": [
    "### 3.3. Price Range Overview"
   ]
  },
  {
   "cell_type": "code",
   "execution_count": null,
   "metadata": {},
   "outputs": [],
   "source": []
  },
  {
   "cell_type": "code",
   "execution_count": null,
   "metadata": {},
   "outputs": [],
   "source": []
  },
  {
   "cell_type": "code",
   "execution_count": null,
   "metadata": {},
   "outputs": [],
   "source": []
  },
  {
   "cell_type": "code",
   "execution_count": null,
   "metadata": {},
   "outputs": [],
   "source": []
  },
  {
   "cell_type": "markdown",
   "metadata": {},
   "source": [
    "### 3.4. Time-based Overview"
   ]
  },
  {
   "cell_type": "code",
   "execution_count": null,
   "metadata": {},
   "outputs": [],
   "source": []
  },
  {
   "cell_type": "code",
   "execution_count": null,
   "metadata": {},
   "outputs": [],
   "source": []
  },
  {
   "cell_type": "code",
   "execution_count": null,
   "metadata": {},
   "outputs": [],
   "source": []
  },
  {
   "cell_type": "code",
   "execution_count": null,
   "metadata": {},
   "outputs": [],
   "source": []
  },
  {
   "cell_type": "code",
   "execution_count": null,
   "metadata": {},
   "outputs": [],
   "source": []
  },
  {
   "cell_type": "markdown",
   "metadata": {},
   "source": [
    "## 4. Genre\n",
    "\n",
    "### 4.1. Which genre of data story did you use?\n",
    "\n",
    "In the paper from Edward Segel and Jeffrey Heer several genres are described, where multiple of these genres are used to create the content for this website.\n",
    "\n",
    "* The annotated chart is used on the site 'Exploratory Data Analysis' and 'Reviews', since a hover tool with selected and important information is presented for the user. Furthermore, the last map on 'Exploratory Data Analysis' is presenting the timeline in reviews for a given year, where the user can see the number of reviews, stars and of course name of the restaurant.\n",
    "* The annotated chart and animation are also used on the page 'Find your favorite restaurant'. On this page, an interactive figure is presented, where the user can filter data to his/her own preference. The hover tool explained above is still active. Further, if the user is in doubt about how to use the plot, a gif is running above the plot.  \n",
    "\n",
    "### 4.2. Which tools did you use from each of the 3 categories of Visual Narrative?\n",
    "\n",
    "Figure 7 from Edward Segel and Jeffrey Heer's paper presented the three different categories under *Visual Narrative*, where the tools used will be explained here.\n",
    "\n",
    "* Visual Structuring: For visual structuring, a consistent visual platform is used. This gives a good flow through the presentation of our dataset and our findings since the same color palette is used for the graphs and theme for the website. \n",
    "* Highlighting: Here three highlighting methods are used. On the page 'Exploratory Data Analysis',  close-ups, zooming and feature distinction are used. The close-ups are used on the map of where the restaurants are placed in North America and the user is able to zoom. On the other plots, feature distinction is used by the different colors. This is done, so the user can see a difference between for example stars by state. Highlighting is also used for the tab 'Find your favorite restaurant', since the user is first presented with an overview of all the restaurants, again the user can zoom in/out and filter the data by his/her own preferences.\n",
    "* Transition Guidance: Here a simple website setup is used, hence familiar objects are used. This also (hopefully) makes it easier for the user to use the website that is created. \n",
    "\n",
    "### 4.3. Which tools did you use from each of the 3 categories of Narrative Structure?\n",
    "\n",
    "Again, figure 7 from Edward Segel and Jeffrey Heer's paper is used. The narrative structure will be explained throughout this part. \n",
    "\n",
    "* Ordering: As explained above, the website is made with a different post on the front page, where the user can always go back to the front page using the *home* button in the upper right corner. Hence the user can access the tabs he/she wants to. The page 'Exploratory Data Analysis' is driven by the authors of this project, since it is what they found interesting when doing the exploratory part. \n",
    "* Interactivity: On all plots, a hover highlighting is configured, which gives the user easy access to a lot of information by just using the mousepad. Further, an interactive plot is done where the user can filter on the data input to the plot.\n",
    "* Messaging: For this part, multiple messaging is used. When entering the website an introductory text is presented. Further, on all posts, there are headers for all the different sections within each page and captions for all figures. This makes it easy for the user to understand when the topic is changing and to get a brief understanding of what the figures are illustrating. Lastly, annotations for each figure are also present on the website, which is more in detail and for users that want a more in-depth understanding of the dataset. \n",
    "\n",
    "\n",
    "## 5. Visualizations\n",
    "\n",
    "*Explain the visualizations you've chosen.*\n",
    "\n",
    "*Why are they right for the story you want to tell?*\n",
    "\n",
    "The constructed website has three pages with plots. The first page 'Exploratory Data Analysis' has bar charts, line plots and map overview. The second page 'Reviews' is presenting the machine learning model that has been used to detect fake reviews and further presents **HVILKE PLOTS**. Lastly, the last page 'Find your favorite restaurant' is an interactive plot, where a table of all relevant restaurants are seen and a map where the restaurants are placed.\n",
    "\n",
    "These visualizations are good because they give the user easy access to a lot of information, with needing a deeper knowledge. Further, they also give the user access to interact with the last figure. \n",
    "\n",
    "**Er der noget andet mere fornuftigt vi kan skrive?**\n",
    "\n",
    "\n",
    "### 5.1. Anomaly Detection\n",
    "\n",
    "It has been estimated by a Harvard Business School report that 20% of reviews on Yelp are fake. In anomaly detection, the 20% review with the highest risk of being fake reviews is found, by using Isolation Forest. "
   ]
  },
  {
   "cell_type": "code",
   "execution_count": 58,
   "metadata": {},
   "outputs": [],
   "source": [
    "df = df.drop_duplicates(subset='text')\n",
    "\n",
    "#full name of state is inserted\n",
    "name = []\n",
    "\n",
    "for state in df['state']:\n",
    "    if state =='MA':\n",
    "        name.append('Massachusetts')\n",
    "    elif state =='FL':\n",
    "        name.append('Florida')\n",
    "    elif state =='OR':\n",
    "        name.append('Oregon')\n",
    "    elif state =='BC':\n",
    "        name.append('British Columbia')\n",
    "    elif state =='GA':\n",
    "        name.append('Georgia')\n",
    "    elif state =='TX':\n",
    "        name.append('Texas')\n",
    "    elif state =='OH':\n",
    "        name.append('Ohio')\n",
    "    elif state =='CO':\n",
    "        name.append('Colorado')\n",
    "    elif state =='WA':\n",
    "        name.append('Washington')\n",
    "    elif state =='KS':\n",
    "        name.append('Kansas')\n",
    "    elif state == 'KY':\n",
    "        name.append('Kentucky')\n",
    "        \n",
    "df['state_name'] = name"
   ]
  },
  {
   "cell_type": "code",
   "execution_count": 59,
   "metadata": {},
   "outputs": [
    {
     "name": "stdout",
     "output_type": "stream",
     "text": [
      "Index(['business_id', 'name', 'city', 'state', 'postal_code', 'latitude',\n",
      "       'longitude', 'stars', 'review_count', 'attributes', 'categories',\n",
      "       'cat_kitchen', 'cat_type', 'state_name', 'latitude_state',\n",
      "       'longitude_state', 'PriceRange', 'AvgPrice', 'user_id', 'review_stars',\n",
      "       'text', 'date', 'user_count', 'average_stars', 'year', 'price_range'],\n",
      "      dtype='object')\n",
      "shape of dataset (473633, 26)\n"
     ]
    }
   ],
   "source": [
    "print(df.columns) #checking our columns\n",
    "print('shape of dataset', df.shape)\n",
    "\n",
    "N = df.shape[0]\n",
    "MaxUsed = 100\n",
    "\n",
    "df = df.iloc[0:N]"
   ]
  },
  {
   "cell_type": "markdown",
   "metadata": {},
   "source": [
    "#### Creation of features\n",
    "\n",
    "Length of review and number of sentences in the reviews are used as some of the features of the Isolation Forest Model."
   ]
  },
  {
   "cell_type": "code",
   "execution_count": 60,
   "metadata": {},
   "outputs": [],
   "source": [
    "#Length of review\n",
    "df['reviewlength'] = df['text'].str.len()\n",
    "\n",
    "#number of sentences\n",
    "df['sentences'] = df[\"text\"].str.count('\\.')"
   ]
  },
  {
   "cell_type": "markdown",
   "metadata": {},
   "source": [
    "#### Text Processing\n",
    "\n",
    "The reviews are processed in the following way:\n",
    "* Stop words are removed\n",
    "* The text is tokenized\n",
    "* The text is stemmed"
   ]
  },
  {
   "cell_type": "code",
   "execution_count": 61,
   "metadata": {},
   "outputs": [],
   "source": [
    "#remove stop words\n",
    "df['filtered_text'] = df.text.apply(remove_stopwords)"
   ]
  },
  {
   "cell_type": "code",
   "execution_count": 62,
   "metadata": {},
   "outputs": [],
   "source": [
    "# Tokenize the text\n",
    "df['tokenized_text'] = [simple_preprocess(line, deacc=True) for line in df['filtered_text']] "
   ]
  },
  {
   "cell_type": "code",
   "execution_count": 63,
   "metadata": {},
   "outputs": [],
   "source": [
    "#Stem the text\n",
    "porter_stemmer = PorterStemmer()\n",
    "df['stemmed_tokens'] = [[porter_stemmer.stem(word) for word in tokens] for tokens in df['tokenized_text']]\n",
    "\n",
    "df['stemmed_text'] = df['stemmed_tokens'].apply(' '.join)"
   ]
  },
  {
   "cell_type": "markdown",
   "metadata": {},
   "source": [
    "Some of the features of the model are if a given word is in the review. The 100 most used words without stop words are found. Most reviews have 5 stars, so to make sure that it doesn't only check for positive words, the 100 most used words are found in a balanced dataset, where there is an equal number of reviews with 1, 2, 3, 4 and 5 stars."
   ]
  },
  {
   "cell_type": "code",
   "execution_count": 64,
   "metadata": {},
   "outputs": [],
   "source": [
    "#count of stars given\n",
    "min_review = min(df['review_stars'].value_counts())\n",
    "\n",
    "#dataframes for each star\n",
    "df1 = df.loc[(df['review_stars'] == 1)]\n",
    "df2 = df.loc[(df['review_stars'] == 2)]\n",
    "df3 = df.loc[(df['review_stars'] == 3)]\n",
    "df4 = df.loc[(df['review_stars'] == 4)]\n",
    "df5 = df.loc[(df['review_stars'] == 5)]\n",
    "\n",
    "#sample dataframe for each star\n",
    "df1 = df1.sample(n=min_review,axis='rows')\n",
    "df2 = df2.sample(n=min_review,axis='rows')\n",
    "df3 = df3.sample(n=min_review,axis='rows')\n",
    "df4 = df4.sample(n=min_review,axis='rows')\n",
    "df5 = df5.sample(n=min_review,axis='rows')"
   ]
  },
  {
   "cell_type": "code",
   "execution_count": 65,
   "metadata": {},
   "outputs": [],
   "source": [
    "#balanced reviews\n",
    "df_word = pd.concat([df1, df2, df3, df4, df5])"
   ]
  },
  {
   "cell_type": "code",
   "execution_count": 66,
   "metadata": {},
   "outputs": [],
   "source": [
    "#find the 100 most used words from the balanced review set(without stop words)\n",
    "Word = []\n",
    "WordCounter = Counter(\" \".join(df_word[\"stemmed_text\"]).split()).most_common(MaxUsed)\n",
    "for j in range(len(WordCounter)):\n",
    "    Word.insert(j,WordCounter[j][0])"
   ]
  },
  {
   "cell_type": "markdown",
   "metadata": {},
   "source": [
    "#### Encoding\n",
    "\n",
    "The reviews are encoded using one-hot-encoding, so for each review, it is checked if they contain each of the 100 most used words from the balanced dataset. \n",
    "\n",
    "Furthermore, userID and businessID are encoded using label encoding, so these also enter as features in the model.\n",
    "\n",
    "Lastly, the date and time are encoded using label encoding, so the date and time can be a feature in the model. This is done by encoding it as year, month, day in the month, hour, minute and the day of the week. "
   ]
  },
  {
   "cell_type": "code",
   "execution_count": 1,
   "metadata": {
    "scrolled": false
   },
   "outputs": [
    {
     "ename": "NameError",
     "evalue": "name 'np' is not defined",
     "output_type": "error",
     "traceback": [
      "\u001b[0;31m---------------------------------------------------------------------------\u001b[0m",
      "\u001b[0;31mNameError\u001b[0m                                 Traceback (most recent call last)",
      "\u001b[0;32m<ipython-input-1-7b7abffa1f3f>\u001b[0m in \u001b[0;36m<module>\u001b[0;34m\u001b[0m\n\u001b[0;32m----> 1\u001b[0;31m \u001b[0mWords\u001b[0m \u001b[0;34m=\u001b[0m \u001b[0mnp\u001b[0m\u001b[0;34m.\u001b[0m\u001b[0mzeros\u001b[0m\u001b[0;34m(\u001b[0m\u001b[0;34m(\u001b[0m\u001b[0mN\u001b[0m\u001b[0;34m,\u001b[0m\u001b[0mMaxUsed\u001b[0m\u001b[0;34m)\u001b[0m\u001b[0;34m)\u001b[0m\u001b[0;34m\u001b[0m\u001b[0;34m\u001b[0m\u001b[0m\n\u001b[0m\u001b[1;32m      2\u001b[0m \u001b[0;34m\u001b[0m\u001b[0m\n\u001b[1;32m      3\u001b[0m \u001b[0;31m#one-hot encoding over the 100 most used words\u001b[0m\u001b[0;34m\u001b[0m\u001b[0;34m\u001b[0m\u001b[0;34m\u001b[0m\u001b[0m\n\u001b[1;32m      4\u001b[0m \u001b[0;32mfor\u001b[0m \u001b[0mindex\u001b[0m\u001b[0;34m,\u001b[0m \u001b[0mrow\u001b[0m \u001b[0;32min\u001b[0m \u001b[0mdf\u001b[0m\u001b[0;34m.\u001b[0m\u001b[0miterrows\u001b[0m\u001b[0;34m(\u001b[0m\u001b[0;34m)\u001b[0m\u001b[0;34m:\u001b[0m\u001b[0;34m\u001b[0m\u001b[0;34m\u001b[0m\u001b[0m\n\u001b[1;32m      5\u001b[0m     \u001b[0;32mfor\u001b[0m \u001b[0mi\u001b[0m \u001b[0;32min\u001b[0m \u001b[0mrange\u001b[0m\u001b[0;34m(\u001b[0m\u001b[0mnp\u001b[0m\u001b[0;34m.\u001b[0m\u001b[0msize\u001b[0m\u001b[0;34m(\u001b[0m\u001b[0mWords\u001b[0m\u001b[0;34m,\u001b[0m \u001b[0maxis\u001b[0m\u001b[0;34m=\u001b[0m\u001b[0;36m1\u001b[0m\u001b[0;34m)\u001b[0m\u001b[0;34m)\u001b[0m\u001b[0;34m:\u001b[0m\u001b[0;34m\u001b[0m\u001b[0;34m\u001b[0m\u001b[0m\n",
      "\u001b[0;31mNameError\u001b[0m: name 'np' is not defined"
     ]
    }
   ],
   "source": [
    "Words = np.zeros((N,MaxUsed))\n",
    "\n",
    "#one-hot encoding over the 100 most used words\n",
    "for index, row in df.iterrows():\n",
    "    for i in range(np.size(Words, axis=1)):\n",
    "        if Word[i] in df['stemmed_text'].iloc[index]:\n",
    "            Words[index,i] = 1"
   ]
  },
  {
   "cell_type": "code",
   "execution_count": null,
   "metadata": {},
   "outputs": [],
   "source": [
    "#drop some of the attributes with text\n",
    "df = df.drop(['text','filtered_text','tokenized_text', 'stemmed_tokens'], axis=1)"
   ]
  },
  {
   "cell_type": "code",
   "execution_count": null,
   "metadata": {},
   "outputs": [],
   "source": [
    "#dataframe for encoding\n",
    "df_words = pd.DataFrame(Words)\n",
    "\n",
    "#Encoding column names are changed\n",
    "Names = list(range(0, MaxUsed))\n",
    "ColNames = [str(n) for n in Names]\n",
    "\n",
    "df_words.columns = ColNames\n",
    "print(df_words)\n",
    "\n",
    "#The encoding is added to the dataset\n",
    "df = df.join(df_words)"
   ]
  },
  {
   "cell_type": "code",
   "execution_count": null,
   "metadata": {},
   "outputs": [],
   "source": [
    "#label encoding for userID and businessID\n",
    "df['user_id'] = df['user_id'].astype('category')\n",
    "df['business_id'] = df['business_id'].astype('category')\n",
    "\n",
    "df['UserCat'] = df['user_id'].cat.codes\n",
    "df['BusinessCat'] = df['business_id'].cat.codes\n",
    "\n",
    "#encode date\n",
    "df['date']= pd.to_datetime(df['date'])\n",
    "\n",
    "df['year'] = df['date'].dt.year\n",
    "df['month'] = df['date'].dt.month\n",
    "df['day'] = df['date'].dt.day\n",
    "df['hour'] = df['date'].dt.hour\n",
    "df['minute'] = df['date'].dt.minute\n",
    "df['DayOfWeek'] = df['date'].dt.dayofweek"
   ]
  },
  {
   "cell_type": "markdown",
   "metadata": {},
   "source": [
    "#### Anomaly detection - Isolation Forest\n",
    "\n",
    "As already mentioned, anomaly detection is performed using an Isolation Forest. The features used in the model is stars the restaurant has, number of reviews received, the star given from the particular review, length of review, number of sentences in the review, userID, businessID, year, month, day in the month, hour, minute, day of the week and the features regarding which of the 100 most used words, the review contains. "
   ]
  },
  {
   "cell_type": "code",
   "execution_count": null,
   "metadata": {},
   "outputs": [],
   "source": [
    "#features for Isolation Forest\n",
    "df_feature = df[['stars', 'review_count','review_stars','reviewlength', 'sentences', \n",
    "                 'UserCat','BusinessCat', 'year', 'month', 'day', 'hour', 'minute', \n",
    "                 'DayOfWeek', '0', '1', '2', '3', '4', '5', '6', '7', '8', '9', '10', \n",
    "                 '11', '12', '13', '14', '15', '16', '17', '18', '19', '20', '21', '22', \n",
    "                 '23', '24', '25', '26', '27', '28', '29', '30', '31', '32', '33', '34', \n",
    "                 '35', '36', '37', '38', '39', '40', '41', '42', '43', '44', '45', '46', \n",
    "                 '47', '48', '49', '50', '51', '52', '53', '54', '55', '56', '57', '58', \n",
    "                 '59', '60', '61', '62', '63', '64', '65', '66', '67', '68', '69', '70', \n",
    "                 '71', '72', '73', '74', '75', '76', '77', '78', '79', '80', '81', '82', \n",
    "                 '83', '84', '85', '86', '87', '88', '89', '90', '91', '92', '93', '94', \n",
    "                 '95', '96', '97', '98', '99']]"
   ]
  },
  {
   "cell_type": "code",
   "execution_count": null,
   "metadata": {},
   "outputs": [],
   "source": [
    "model = IsolationForest(n_estimators=50, max_samples='auto', \n",
    "                        contamination=float(0.2),max_features=1).fit(df_feature)"
   ]
  },
  {
   "cell_type": "code",
   "execution_count": null,
   "metadata": {},
   "outputs": [],
   "source": [
    "df['scores'] = model.decision_function(df_feature)\n",
    "df['anomaly'] = model.predict(df_feature)"
   ]
  },
  {
   "cell_type": "code",
   "execution_count": null,
   "metadata": {},
   "outputs": [],
   "source": [
    "#drop encodings\n",
    "df = df.drop(['reviewlength', 'sentences', '0', '1', '2', '3', '4', '5', '6', '7', '8', '9', \n",
    "              '10', '11', '12', '13', '14', '15', '16', '17', '18', '19', '20', '21', '22', \n",
    "              '23', '24', '25', '26', '27', '28', '29', '30', '31', '32', '33', '34', '35', \n",
    "              '36', '37', '38', '39', '40', '41', '42', '43', '44', '45', '46', '47', '48', \n",
    "              '49', '50', '51', '52', '53', '54', '55', '56', '57', '58', '59', '60', '61', \n",
    "              '62', '63', '64', '65', '66', '67', '68', '69', '70', '71', '72', '73', '74',\n",
    "              '75', '76', '77', '78', '79', '80', '81', '82', '83', '84', '85', '86', '87',\n",
    "              '88', '89', '90', '91', '92', '93', '94', '95', '96', '97', '98', '99', \n",
    "              'UserCat', 'BusinessCat', 'year', 'month', 'day', 'hour', 'minute', 'DayOfWeek'], axis = 1)"
   ]
  },
  {
   "cell_type": "markdown",
   "metadata": {},
   "source": [
    "#### Plot of number of fake reviews\n",
    "\n",
    "The number of real and fake reviews are counted to be sure, that 20% is estimated as fake reviews."
   ]
  },
  {
   "cell_type": "code",
   "execution_count": null,
   "metadata": {},
   "outputs": [],
   "source": [
    "#Count real and fake reviews\n",
    "countFake = df['anomaly'].value_counts()\n",
    "Fake = [countFake[1], countFake[-1]]"
   ]
  },
  {
   "cell_type": "code",
   "execution_count": null,
   "metadata": {},
   "outputs": [],
   "source": [
    "#Plot number of fake/not-fake reviews\n",
    "\n",
    "xFake = ['Real review', 'Fake review']\n",
    "pFake = figure(x_range=xFake, plot_width = 600, plot_height=300, toolbar_location=None, title='Anomaly detection')\n",
    "pFake.vbar(x=xFake, width=0.3, bottom=0, top=Fake, color='lightblue')\n",
    "\n",
    "#axis ticks\n",
    "pFake.xgrid.grid_line_color = None\n",
    "pFake.y_range.start = 0\n",
    "pFake.xaxis.major_tick_line_color = None \n",
    "pFake.yaxis.major_tick_line_color = None  \n",
    "pFake.yaxis.minor_tick_line_color = None  \n",
    "pFake.y_range.start = 0\n",
    "pFake.title.text_font_size = '13pt'\n",
    "pFake.title.align = 'center'\n",
    "\n",
    "Fake_panel = Panel(child=pFake, title='Anomaly')\n",
    "\n",
    "show(pFake)"
   ]
  },
  {
   "cell_type": "markdown",
   "metadata": {},
   "source": [
    "#### Plot of fake reviews\n",
    "\n",
    "Percentage fake reviews are plotted within **stars**, **type of restaurant**, **type of kitchen** and **state**."
   ]
  },
  {
   "cell_type": "code",
   "execution_count": null,
   "metadata": {},
   "outputs": [],
   "source": [
    "#count of anomaly \n",
    "anomalyStars = df.groupby(['anomaly','stars'])['stars'].count().unstack().fillna(0)\n",
    "anomalyType = df.groupby(['anomaly','cat_type'])[\"cat_type\"].count().unstack().fillna(0)\n",
    "anomalyKitchen = df.groupby(['anomaly','cat_kitchen'])[\"cat_kitchen\"].count().unstack().fillna(0)\n",
    "anomalyState = df.groupby(['anomaly','state_name'])['state_name'].count().unstack().fillna(0)"
   ]
  },
  {
   "cell_type": "code",
   "execution_count": null,
   "metadata": {},
   "outputs": [],
   "source": [
    "#Percentage fake reviews are calculated\n",
    "#percent fake reviews - stars\n",
    "StarFake = []\n",
    "for (colname,colval) in anomalyStars.iteritems():\n",
    "    StarFake.append(colval.values[0]/(colval.values[0]+colval.values[1])*100)\n",
    "\n",
    "#percent fake reviews - type\n",
    "TypeFake = []\n",
    "for (colname,colval) in anomalyType.iteritems():\n",
    "    TypeFake.append(colval.values[0]/(colval.values[0]+colval.values[1])*100)\n",
    "    \n",
    "#percent fake reviews - kitchen\n",
    "KitchenFake = []\n",
    "for (colname,colval) in anomalyKitchen.iteritems():\n",
    "    KitchenFake.append(colval.values[0]/(colval.values[0]+colval.values[1])*100)\n",
    "\n",
    "#percent fake reviews - state\n",
    "StateFake = []\n",
    "for (colname,colval) in anomalyState.iteritems():\n",
    "    StateFake.append(colval.values[0]/(colval.values[0]+colval.values[1])*100)   "
   ]
  },
  {
   "cell_type": "code",
   "execution_count": null,
   "metadata": {},
   "outputs": [],
   "source": [
    "#Plot percentage fake reviews within stars\n",
    "xStar = df['stars'].sort_values(ascending=True).astype(str).unique().tolist()\n",
    "\n",
    "pStar = figure(x_range=xStar, plot_width = 600, plot_height=300, toolbar_location=None, title='Fake reviews by stars')\n",
    "pStar.vbar(x=xStar, width=0.7, bottom=0, top=StarFake, color='lightblue')\n",
    "\n",
    "#axis ticks\n",
    "pStar.y_range.start = 0\n",
    "pStar.xaxis.major_tick_line_color = None \n",
    "pStar.yaxis.major_tick_line_color = None  \n",
    "pStar.yaxis.minor_tick_line_color = None  \n",
    "pStar.y_range.start = 0\n",
    "pStar.title.text_font_size = '13pt'\n",
    "pStar.title.align = 'center'\n",
    "\n",
    "Star_panel = Panel(child=pStar, title='Stars')"
   ]
  },
  {
   "cell_type": "code",
   "execution_count": null,
   "metadata": {},
   "outputs": [],
   "source": [
    "#Plot percentage fake reviews within type of restaurant\n",
    "xType = df['cat_type'].sort_values(ascending=True).unique().tolist()\n",
    "\n",
    "pType = figure(x_range=xType, plot_width = 600, plot_height=300, toolbar_location=None, title='Fake reviews by type of restaurant')\n",
    "pType.vbar(x=xType, width=0.7, bottom=0, top=TypeFake, color = 'lightblue')\n",
    "\n",
    "#axis ticks\n",
    "pType.xgrid.grid_line_color = None\n",
    "pType.y_range.start = 0\n",
    "pType.xaxis.major_tick_line_color = None \n",
    "pType.yaxis.major_tick_line_color = None  \n",
    "pType.yaxis.minor_tick_line_color = None  \n",
    "pType.y_range.start = 0\n",
    "pType.xaxis.major_label_orientation = \"vertical\"\n",
    "pType.title.text_font_size = '13pt'\n",
    "pType.title.align = 'center'\n",
    "\n",
    "Type_panel = Panel(child=pType, title='Type of restaurant')"
   ]
  },
  {
   "cell_type": "code",
   "execution_count": null,
   "metadata": {},
   "outputs": [],
   "source": [
    "#Plot percentage fake reviews within type of kitchen\n",
    "\n",
    "xKitchen = df['cat_kitchen'].sort_values(ascending=True).unique().tolist()\n",
    "\n",
    "pKitchen = figure(x_range=xKitchen, plot_width = 600, plot_height=300, toolbar_location=None, title='Fake reviews by type of kitchen')\n",
    "pKitchen.vbar(x=xKitchen, width=0.7, bottom=0, top=KitchenFake, color = 'lightblue')\n",
    "\n",
    "#axis ticks\n",
    "pKitchen.xgrid.grid_line_color = None\n",
    "pKitchen.xaxis.major_tick_line_color = None \n",
    "pKitchen.yaxis.major_tick_line_color = None  \n",
    "pKitchen.yaxis.minor_tick_line_color = None  \n",
    "pKitchen.y_range.start = 0\n",
    "pKitchen.xaxis.major_label_orientation = \"vertical\"\n",
    "pKitchen.title.text_font_size = '13pt'\n",
    "pKitchen.title.align = 'center'\n",
    "\n",
    "Kitchen_panel = Panel(child=pKitchen, title='Type of kitchen')"
   ]
  },
  {
   "cell_type": "code",
   "execution_count": null,
   "metadata": {},
   "outputs": [],
   "source": [
    "#Plot percentage fake reviews within state\n",
    "\n",
    "xState = df['state_name'].sort_values(ascending=True).unique().tolist()\n",
    "\n",
    "pState = figure(x_range=xState, plot_width = 600, plot_height=300, toolbar_location=None, title='Fake reviews by state')\n",
    "pState.vbar(x=xState, width=0.7, bottom=0, top=StateFake, color = 'lightblue')\n",
    "\n",
    "#axis ticks\n",
    "pState.xgrid.grid_line_color = None\n",
    "pState.xaxis.major_tick_line_color = None \n",
    "pState.yaxis.major_tick_line_color = None  \n",
    "pState.yaxis.minor_tick_line_color = None  \n",
    "pState.y_range.start = 0\n",
    "pState.xaxis.major_label_orientation = \"vertical\"\n",
    "pState.title.text_font_size = '13pt'\n",
    "pState.title.align = 'center'\n",
    "\n"
   ]
  },
  {
   "cell_type": "code",
   "execution_count": null,
   "metadata": {},
   "outputs": [],
   "source": [
    "tabs = Tabs(tabs=[Star_panel, Type_panel, Kitchen_panel, State_panel])\n",
    "\n",
    "show(tabs)"
   ]
  },
  {
   "cell_type": "code",
   "execution_count": null,
   "metadata": {},
   "outputs": [],
   "source": [
    "wc = WordCloud(width=1600, height=800, random_state=42, max_words=1000000)\n",
    "\n",
    "# generation\n",
    "wc.generate(str(df_RI_tips['text_cl']))\n",
    "\n",
    "plt.figure(figsize=(15,10), facecolor='black')\n",
    "plt.title(\"Tips on Thai Yummy\", fontsize=40, color='white')\n",
    "plt.imshow(wc, interpolation='bilinear')\n",
    "plt.axis('off')\n",
    "plt.tight_layout(pad=10)"
   ]
  },
  {
   "cell_type": "code",
   "execution_count": null,
   "metadata": {},
   "outputs": [],
   "source": [
    "wc = WordCloud(width=1600, height=800, random_state=42, max_words=1000000)\n",
    "\n",
    "# generation\n",
    "wc.generate(str(df['stemmed_text']))\n",
    "\n",
    "plt.figure(figsize=(15,10), facecolor='black')\n",
    "plt.title(\"Words in reviews\", fontsize=40, color='white')\n",
    "plt.imshow(wc, interpolation='bilinear')\n",
    "plt.axis('off')\n",
    "plt.tight_layout(pad=10)"
   ]
  },
  {
   "cell_type": "code",
   "execution_count": null,
   "metadata": {},
   "outputs": [],
   "source": [
    "wc = WordCloud(width=1600, height=800, random_state=42, max_words=1000000)\n",
    "\n",
    "# generation\n",
    "wc.generate(str(df[df['anomaly'] ==1]['stemmed_text']))\n",
    "\n",
    "plt.figure(figsize=(15,10), facecolor='black')\n",
    "plt.title(\"Words in real reviews\", fontsize=40, color='white')\n",
    "plt.imshow(wc, interpolation='bilinear')\n",
    "plt.axis('off')\n",
    "plt.tight_layout(pad=10)"
   ]
  },
  {
   "cell_type": "code",
   "execution_count": null,
   "metadata": {},
   "outputs": [],
   "source": [
    "wc = WordCloud(width=1600, height=800, random_state=42, max_words=1000000)\n",
    "\n",
    "# generation\n",
    "wc.generate(str(df[df['anomaly'] ==-1]['stemmed_text']))\n",
    "\n",
    "plt.figure(figsize=(15,10), facecolor='black')\n",
    "plt.title(\"Words in fake reviews\", fontsize=40, color='white')\n",
    "plt.imshow(wc, interpolation='bilinear')\n",
    "plt.axis('off')\n",
    "plt.tight_layout(pad=10)"
   ]
  },
  {
   "cell_type": "markdown",
   "metadata": {},
   "source": [
    "### 5.2. Interactive plot\n",
    "\n",
    "This plot is based on the data without the fake reviews. "
   ]
  },
  {
   "cell_type": "code",
   "execution_count": 48,
   "metadata": {},
   "outputs": [
    {
     "data": {
      "text/plain": [
       "(24530, 27)"
      ]
     },
     "execution_count": 48,
     "metadata": {},
     "output_type": "execute_result"
    }
   ],
   "source": [
    "df_new = df.drop_duplicates(subset=['name','state','cat_kitchen','cat_type'])\n",
    "df_new.shape"
   ]
  },
  {
   "cell_type": "code",
   "execution_count": 54,
   "metadata": {},
   "outputs": [
    {
     "data": {
      "application/vnd.bokehjs_exec.v0+json": "",
      "text/html": [
       "\n",
       "<script id=\"5802\">\n",
       "  var xhr = new XMLHttpRequest()\n",
       "  xhr.responseType = 'blob';\n",
       "  xhr.open('GET', \"http://localhost:58246/autoload.js?bokeh-autoload-element=5802&bokeh-absolute-url=http://localhost:58246&resources=none\", true);\n",
       "  \n",
       "  xhr.onload = function (event) {\n",
       "    var script = document.createElement('script'),\n",
       "    src = URL.createObjectURL(event.target.response);\n",
       "    script.src = src;\n",
       "    document.body.appendChild(script);\n",
       "  };\n",
       "xhr.send();\n",
       "</script>"
      ]
     },
     "metadata": {
      "application/vnd.bokehjs_exec.v0+json": {
       "server_id": "73a17b43766a4717b5b339091395067c"
      }
     },
     "output_type": "display_data"
    },
    {
     "name": "stderr",
     "output_type": "stream",
     "text": [
      "ERROR:bokeh.server.views.ws:Refusing websocket connection from Origin 'http://localhost:8890';                       use --allow-websocket-origin=localhost:8890 or set BOKEH_ALLOW_WS_ORIGIN=localhost:8890 to permit this; currently we allow origins {'localhost:8888'}\n",
      "WARNING:tornado.access:403 GET /ws (::1) 1.04ms\n"
     ]
    }
   ],
   "source": [
    "def modify_doc(doc):\n",
    "    \n",
    "    def make_dataset(selectedState, selectedKitchen, selectedType, selectedPrice):\n",
    "        df_ = df_new.copy()\n",
    "        df_empty = pd.DataFrame()\n",
    "        if selectedPrice == 'No Preference':  \n",
    "            if selectedState != 'All':\n",
    "                df_ = df_[df_['state_name'] == selectedState]\n",
    "            if selectedKitchen != 'All':\n",
    "                df_ = df_[df_['cat_kitchen'] == selectedKitchen]\n",
    "            if selectedType != 'All':\n",
    "                df_ = df_[df_['cat_type'] == selectedType]\n",
    "        else:\n",
    "            for i, price in enumerate(selectedPrice):\n",
    "                # Subset to the carrier\n",
    "                subset = df_[df_['PriceRange'] == price]\n",
    "                df_empty = df_empty.append(subset)\n",
    "                \n",
    "            if selectedState != 'All':\n",
    "                df_empty = df_empty[df_empty['state_name'] == selectedState]\n",
    "            if selectedKitchen != 'All':\n",
    "                df_empty = df_empty[df_empty['cat_kitchen'] == selectedKitchen]\n",
    "            if selectedType != 'All':\n",
    "                df_empty = df_empty[df_empty['cat_type'] == selectedType]\n",
    "        \n",
    "        if selectedPrice == 'No Preference':\n",
    "            df_ = df_\n",
    "        else:\n",
    "            df_ = df_empty\n",
    "\n",
    "\n",
    "        # Preparing with long/lat coordinates \n",
    "        df_['coordinates'] = list(zip(df_['latitude'], df_['longitude']))\n",
    "        # Obtain list of mercator coordinates\n",
    "        mercators = [x_coord(x, y) for x, y in df_['coordinates'] ]\n",
    "\n",
    "        # Create mercator column in our df\n",
    "        df_['mercator'] = mercators\n",
    "        # Split that column out into two separate columns - mercator_x and mercator_y\n",
    "        df_[['mercator_x', 'mercator_y']] = df_['mercator'].apply(pd.Series)\n",
    "    \n",
    "        #title for the plot  \n",
    "        div_title = Div(text=\"<b> Restaurant matching Preferences: {} </b>\".format(len(df_['name'].unique())),\n",
    "                   style={'font-size': '150%'})\n",
    "        \n",
    "        # Convert dataframe to column data source\n",
    "        return ColumnDataSource(df_), div_title\n",
    "    \n",
    "    def make_plot(source):\n",
    "    \n",
    "        #table in the plot\n",
    "        columns = [\n",
    "            TableColumn(field=\"name\", title=\"Restaurant Name\", width=100),\n",
    "            TableColumn(field=\"stars\", title=\"Stars\", width=50),\n",
    "            TableColumn(field=\"avg_stars\", title=\"Updated Stars\", width=80),\n",
    "            TableColumn(field=\"review_count\", title=\"# of total reviews\", width=100),\n",
    "            TableColumn(field=\"Count\", title=\"Updated # of total reviews\", width=120),\n",
    "            TableColumn(field=\"state_name\", title=\"State\", width=80),\n",
    "            TableColumn(field=\"city\", title=\"City\", width=80),\n",
    "            TableColumn(field=\"cat_kitchen\", title=\"Kitchen\", width=110),\n",
    "            TableColumn(field=\"cat_type\", title=\"Type\", width=100),\n",
    "            TableColumn(field=\"PriceRange\", title=\"Price\", width=60)\n",
    "        ]\n",
    "        table = DataTable(source=source, columns=columns, width=1200, height=200, fit_columns=False)\n",
    "\n",
    "        #Map layout of North America\n",
    "        tooltips = [(\"Restaurant\",\"@name\"), (\"Stars\", \"@stars\")]\n",
    "\n",
    "        p = figure(x_axis_type=\"mercator\", y_axis_type=\"mercator\", \n",
    "               x_axis_label = 'Longitude', y_axis_label = 'Latitude', \n",
    "               tooltips = tooltips, plot_width=500, plot_height=500, \n",
    "               toolbar_location='below', tools=\"pan,wheel_zoom,reset\", \n",
    "                active_scroll='auto')\n",
    "\n",
    "        p.circle(x = 'mercator_x', y = 'mercator_y', color = 'lightblue', source=source, \n",
    "             size=10, fill_alpha = 0.7)\n",
    "\n",
    "        chosentile = get_provider(Vendors.CARTODBPOSITRON)\n",
    "        p.add_tile(chosentile)\n",
    "\n",
    "        return table, p\n",
    "    \n",
    "    # Update maps\n",
    "    def update(attr, old, new):\n",
    "        \n",
    "        # Get the list of carriers for the graph\n",
    "        selectedState = select_state.value\n",
    "        selectedKitchen = select_kitchen.value\n",
    "        selectedType = select_type.value\n",
    "        selectedPrice = [select_price.labels[i] for i in select_price.active]\n",
    "        \n",
    "        # Make a new dataset based on the selected filters and the make_dataset function defined earlier\n",
    "        new_src, div_title = make_dataset(selectedState, selectedKitchen, selectedType, selectedPrice)\n",
    "        # Update the source used in the quad glpyhs\n",
    "        src.data.update(new_src.data)\n",
    "        \n",
    "        layout.children[0] = div_title\n",
    "\n",
    "        \n",
    "    #selection the different filters\n",
    "    div_subtitle = Div(text=\"<i> Filter with the data and find your favorite restaurant </i>\")\n",
    "\n",
    "    # User select: State\n",
    "    div_state = Div(text=\"<b> Select State </b>\")\n",
    "    state = ['All']+df_new['state_name'].unique().tolist()\n",
    "    select_state = Select(options=state, value=state[0]) #by default All is chosen\n",
    "    select_state.on_change('value', update)\n",
    "\n",
    "    # User select: Kitchen\n",
    "    div_kitchen = Div(text=\"<b> Select Kitchen </b>\")\n",
    "    kitchen = ['All']+df_new['cat_kitchen'].unique().tolist()\n",
    "    select_kitchen = Select(options=kitchen, value=kitchen[0]) #by default All is chosen\n",
    "    select_kitchen.on_change('value', update)\n",
    "\n",
    "    # User select: Type\n",
    "    div_type = Div(text=\"<b> Select Type </b>\")\n",
    "    types = ['All']+df_new['cat_type'].unique().tolist()\n",
    "    select_type = Select(options=types, value=types[0]) #by default All is chosen\n",
    "    select_type.on_change('value', update)\n",
    "\n",
    "    # User select : Price Range\n",
    "    div_price = Div(text=\"<b> Select Price </b>\")\n",
    "    price_range = ['$','$$','$$$','$$$$','Unknown']\n",
    "    select_price = CheckboxButtonGroup(labels=price_range, active=[2,3])\n",
    "    select_price.on_change('active', update)\n",
    "    \n",
    "    #initial source and plot\n",
    "    initial_select_price = [select_price.labels[i] for i in select_price.active]\n",
    "    \n",
    "    src, div_title = make_dataset(select_state.value,select_kitchen.value, select_type.value, initial_select_price)\n",
    "    table, p = make_plot(src)\n",
    "\n",
    "    # Combine all controls to get in column\n",
    "    col_tab_plot = row(table, p, height=200, width=1200)\n",
    "    col_filters_1 = column(div_state, select_state, div_kitchen, select_kitchen , width=290)\n",
    "    col_filters_2 = column(div_type, select_type, div_price, select_price, width=290)\n",
    "\n",
    "    # Layout\n",
    "    layout = column(div_title, div_subtitle, col_tab_plot, row(col_filters_1,col_filters_2)) \n",
    "    #it is possible to add multiple col_filters in the row(), you just need to specify it above\n",
    "    doc.add_root(layout)\n",
    "\n",
    "# Set up an application\n",
    "app = Application(FunctionHandler(modify_doc))\n",
    "show(app)"
   ]
  },
  {
   "cell_type": "markdown",
   "metadata": {},
   "source": [
    "## 6. Discussion\n",
    "\n",
    "*Think critically about your creation? What went well? What is still missing? What could be improved? Why?*\n",
    "\n",
    "When thinking about the creation of this analysis of the restaurant dataset from Yelp, a better way to have solved this problem could be to only focus on one state and then do a more in-depth analysis of each restaurant and why they are popular in a specific time of the day and so on. This could also have led to an easier way to detect the fake reviews and see if there is a pattern in the reviews.\n",
    "\n",
    "Overall, the project went well, because the user can understand the dataset without any knowledge of Yelp and get a feeling of where the different restaurants are located, how many reviews there are in each of the three categories that are analysed and inspect when the reviews are given.\n",
    "\n",
    "Throughout this project, different bar charts are presented to the user and where the main score has been a count of the different restaurants, stars, price range, etc. Here other metrics could have been used. Because it was seen that the number of restaurants is varying a lot, some states have above 2000 restaurants and some have 1 restaurant. If the user is not aware of it, it can lead to wrong conclusions. \n",
    "\n",
    "The main goal of this project is to build an interactive plot, where fake reviews are deleted removed. From this interactive plot, the user can pick and select as he/she wants to. Furthermore, some more features could have been added to the plot, i.e. opening hours, parking, median income. \n",
    "Furthermore, it could also have been interesting the look at the median income for the different states/cities, to analyse if there is a pattern between restaurants scores, price range and income level. If one wants to check out income data for North America, then check our reference [8].\n",
    "\n",
    "To sum up, all these reflections can and should be taken into account when working with telling a story from data."
   ]
  },
  {
   "cell_type": "markdown",
   "metadata": {},
   "source": [
    "## 7. Contriutions\n",
    "\n",
    "(Dette er blot et bud)\n",
    "\n",
    "* Data preprocessing and cleaning:\n",
    "* Exploratory data analysis - General Overview:\n",
    "* Exploratory data analysis - Score Overview:\n",
    "* Exploratory data analysis - Price Range:\n",
    "* Exploratory data analysis - Time-based score:\n",
    "* Data Analysis - Anomaly Detection:\n",
    "* Data Analysis - Interactive Bokeh Plot:\n",
    "* Website + GitHub: \n",
    "* Explainer Notebook:"
   ]
  },
  {
   "cell_type": "markdown",
   "metadata": {},
   "source": [
    "## 8. References\n",
    "[1] Yelp Open Dataset. Yelp. (2021). Visited 29-03-2021. Url:https://www.yelp.com/dataset\n",
    "\n",
    "[2] Creating a Shareable Bokeh Dashboard with Binder. Arturo Moncada-Torres. (2019). Visited: 5-5-2021. Url:https://arturomoncadatorres.com/creating-a-shareable-bokeh-dashboard-with-binder/\n",
    "\n",
    "[3] Data Visualization with Bokeh in Python, Part I: Getting Started. Towards Data Science. 2018. Visited 15-4-2021. Url:https://towardsdatascience.com/data-visualization-with-bokeh-in-python-part-one-getting-started-a11655a467d4\n",
    "\n",
    "[4] Data Visualization with Bokeh in Python, Part II: Interactions. Towards Data Science. 2018. Vistited 15-4-2021. Url:https://towardsdatascience.com/data-visualization-with-bokeh-in-python-part-ii-interactions-a4cf994e2512\n",
    "\n",
    "[5] Data Visualization with Bokeh in Python, Part III: Making a Complete Dashboard. Towards Data Science. (2018). Visited 15-4-2021. Url:https://towardsdatascience.com/data-visualization-with-bokeh-in-python-part-iii-a-complete-dashboard-dc6a86aa6e23\n",
    "\n",
    "[6] Discover Your Next Favorite Restaurant — Exploration and Visualization on Yelp Dataset. Towards Data Science. (2020).  Visited 29-03-2021. Url:https://towardsdatascience.com/discover-your-next-favorite-restaurant-exploration-and-visualization-on-yelps-dataset-157d9799123c\n",
    "\n",
    "[7] Segel, Edward & Heer, Jeffrey. (2011). Narrative Visualization: Telling Stories with Data. IEEE transactions on visualization and computer graphics.\n",
    "\n",
    "[8] Explore Census Data. (2021). U.S. Department of Commerce. Visited 10-05-2021. Url:https://data.census.gov/cedsci/\n",
    "\n",
    "[9] Exploring and Visualizing Chicago Transit data using pandas and Bokeh — Part II (intro to Bokeh). (2018). Towards Data Science. Visited 25-04-2021. Url:https://towardsdatascience.com/exploring-and-visualizing-chicago-transit-data-using-pandas-and-bokeh-part-ii-intro-to-bokeh-5dca6c5ced10\n",
    "\n",
    "[10] Percentage fake reviews on Yelp. Visited 10/5-2021. \n",
    "Url: https://rizereviews.com/how-to-spot-fake-yelp-reviews-and-what-to-do-next/\n",
    "\n",
    "[11] Isolation Forest in sklearn. Url: https://scikit-learn.org/stable/modules/generated/sklearn.ensemble.IsolationForest.html"
   ]
  },
  {
   "cell_type": "code",
   "execution_count": null,
   "metadata": {},
   "outputs": [],
   "source": []
  }
 ],
 "metadata": {
  "kernelspec": {
   "display_name": "Python 3",
   "language": "python",
   "name": "python3"
  },
  "language_info": {
   "codemirror_mode": {
    "name": "ipython",
    "version": 3
   },
   "file_extension": ".py",
   "mimetype": "text/x-python",
   "name": "python",
   "nbconvert_exporter": "python",
   "pygments_lexer": "ipython3",
   "version": "3.7.6"
  }
 },
 "nbformat": 4,
 "nbformat_minor": 2
}
