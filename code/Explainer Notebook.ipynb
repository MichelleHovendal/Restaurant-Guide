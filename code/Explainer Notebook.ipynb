{
 "cells": [
  {
   "cell_type": "markdown",
   "metadata": {},
   "source": [
    "# Final Explainer Notebook\n",
    "\n",
    "This notebook is done as part of the final project for 02806 Social Data Analysis and Visualization, Technical University of Denmark.\n",
    "\n",
    "This notebook contains all the code used for the website: https://restaurant-guide.github.io/\n",
    "\n",
    "Please note that this notebook is only rendered with data from 2019-2021, so not the full dataset. This is done, because of GitHub storage limitations. \n",
    "\n",
    "## 1. Motivation\n",
    "### 1.1 Purpose \n",
    "\n",
    "The aim of the final project for Social Data Analysis and Visualization is to investigate restaurants and their reviews through a dataset from Yelp. The company Yelp will be described in the next subsection. Nowadays before going to a restaurant, you look it up on Google. Here it is possible to check the ratings of a restaurant and the comments. Hence, fake reviews are a hot topic, where business owners can promote their business falsely. The idea of this project is to find the best restaurant based on chosen types of restaurant, kitchen, price, review score without fake reviews in the dataset. From this, the user is able to find the perfect restaurant through an interactive application, but also see how the fake reviews are detected.\n",
    "\n",
    "\n",
    "\n",
    "\n",
    "<!-- The aim of the project is to find the best restaurant based on chosen type of restaurant, kitchen, price, review score without fake reviews.  -->\n",
    "\n",
    "\n",
    "### 1.2 Data\n",
    "The dataset considered for this project is from Yelp, which is an American company founded in 2004. The idea behind the company is to publish crow-sourced reviews about businesses through their website Yelp.com and mobile app Yelp. In the second quarter of 2019, Yelp has an average of 61.8 million unique visitors through their website, while it was 76.7 million unique visitors in the app. As the internet gets filled with more and more information and the likelihood of the information being false, Yelp can then provides a local platform for people to discover true information. So the dataset from Yelp considers different businesses and not only restaurants, which is the focus of this project. If a restaurant is not part of Yelp, they are not considered in this project. \n",
    "\n",
    "Overall, the Yelp dataset is a subset of Yelp's businesses, reviews and users, which covers 11 metropolitan areas. All the dataset consists of the following information:\n",
    "* 8,635,403 reviews\n",
    "* 160,585 business\n",
    "* 200,000 pictures\n",
    "* 2,189,457 unique users\n",
    "\n",
    "The dataset stretches over a period from 14th of October 2004 to 28th of January 2021. \n",
    "\n",
    "For this project, three of Yelps dataset is used. The main dataset consists of all the different businesses and some attributes explaining opening hours, price range and category. Furthermore, a dataset consisting of all the reviews and when the reviews are given is also used. To detect anomalies in the data, the dataset about the user that has given a review is also used. So to sum up, the following data files were used throughout this project\n",
    "* yelp_academic_dataset_business.json (121.466 KB)\n",
    "* yelp_academic_dataset_review.json (6.774.100 KB)\n",
    "* yelp_academic_dataset_user.json (3.598.150 KB)\n",
    "\n",
    "See reference [1] for the data. \n",
    "\n",
    "## 2. Basic stats. Let's understand the dataset better\n",
    "\n",
    "Before doing data analysis on the dataset, it is key to do some basic statistics on the chosen dataset. Before doing basic statistics, some data cleaning and preprocessing are done.\n",
    "\n",
    "### 2.1 Data cleaning & preprocessing\n",
    "\n",
    "As mentioned in the section about the dataset, there are multiple businesses considered in our dataset. The businesses that do not have the word *Restaurant* in the column `categories` will not be considered. Further, restaurants that are closed have been removed, because it does not make sense to give advice for the user to go to a closed restaurant. \n",
    "To get some useful information from the `categories` column, two new variables are created. The first variable explains the kitchen type of the restaurant, whereas the second variable explains the type of restaurant, i.e. if it is a pizzeria. The list of words for the two variables are presented below\n",
    "\n",
    "* Kitchen type: Thai, Chinese, Japanese, Korean, Indian, American, Caribean, Italian, Mediterranean, Mexican, Cajun, Vietnamese and Greek.\n",
    "* Type: Food, nightlife, bars, sandwiches, pizza, breakfast & brunch, fast food, burgers, salad, buffet, cafes, coffee & tea, vegetarian, steakhouse, sushi bars, diners and wine bars. \n",
    "\n",
    "The data from Yelp also give what state the different restaurants are in but in abbrivations. Hence the full state name and to do some plotting later on where the states are, the states latitude and longitude are also inserted. \n",
    "\n",
    "From merging the three datasets, the shape is `(6.588.460, 27)`, to make with more compatible a shorter time period is considered, namely 1st of January 2014 to 28th of January 2021, which gives a shape of `(5.177.322, 27)`. Remeber that these numbers cannot be compared with the shapes below, since this notebook only covers around two years.\n",
    "\n",
    "To see the dataprep alone, please see the python file: `Social Data - Data Prep - Final`\n",
    "\n",
    "#### Libaries\n",
    "The libraries used for this project are presented below."
   ]
  },
  {
   "cell_type": "code",
   "execution_count": 60,
   "metadata": {},
   "outputs": [
    {
     "data": {
      "application/javascript": [
       "\n",
       "(function(root) {\n",
       "  function now() {\n",
       "    return new Date();\n",
       "  }\n",
       "\n",
       "  var force = true;\n",
       "\n",
       "  if (typeof root._bokeh_onload_callbacks === \"undefined\" || force === true) {\n",
       "    root._bokeh_onload_callbacks = [];\n",
       "    root._bokeh_is_loading = undefined;\n",
       "  }\n",
       "\n",
       "  if (typeof (root._bokeh_timeout) === \"undefined\" || force === true) {\n",
       "    root._bokeh_timeout = Date.now() + 5000;\n",
       "    root._bokeh_failed_load = false;\n",
       "  }\n",
       "\n",
       "  function run_callbacks() {\n",
       "    try {\n",
       "      root._bokeh_onload_callbacks.forEach(function(callback) {\n",
       "        if (callback != null)\n",
       "          callback();\n",
       "      });\n",
       "    } finally {\n",
       "      delete root._bokeh_onload_callbacks\n",
       "    }\n",
       "    console.debug(\"Bokeh: all callbacks have finished\");\n",
       "  }\n",
       "\n",
       "  function load_libs(css_urls, js_urls, js_modules, callback) {\n",
       "    if (css_urls == null) css_urls = [];\n",
       "    if (js_urls == null) js_urls = [];\n",
       "    if (js_modules == null) js_modules = [];\n",
       "\n",
       "    root._bokeh_onload_callbacks.push(callback);\n",
       "    if (root._bokeh_is_loading > 0) {\n",
       "      console.debug(\"Bokeh: BokehJS is being loaded, scheduling callback at\", now());\n",
       "      return null;\n",
       "    }\n",
       "    if (js_urls.length === 0 && js_modules.length === 0) {\n",
       "      run_callbacks();\n",
       "      return null;\n",
       "    }\n",
       "    console.debug(\"Bokeh: BokehJS not loaded, scheduling load and callback at\", now());\n",
       "    root._bokeh_is_loading = css_urls.length + js_urls.length + js_modules.length;\n",
       "\n",
       "    function on_load() {\n",
       "      root._bokeh_is_loading--;\n",
       "      if (root._bokeh_is_loading === 0) {\n",
       "        console.debug(\"Bokeh: all BokehJS libraries/stylesheets loaded\");\n",
       "        run_callbacks()\n",
       "      }\n",
       "    }\n",
       "\n",
       "    function on_error() {\n",
       "      console.error(\"failed to load \" + url);\n",
       "    }\n",
       "\n",
       "    for (var i = 0; i < css_urls.length; i++) {\n",
       "      var url = css_urls[i];\n",
       "      const element = document.createElement(\"link\");\n",
       "      element.onload = on_load;\n",
       "      element.onerror = on_error;\n",
       "      element.rel = \"stylesheet\";\n",
       "      element.type = \"text/css\";\n",
       "      element.href = url;\n",
       "      console.debug(\"Bokeh: injecting link tag for BokehJS stylesheet: \", url);\n",
       "      document.body.appendChild(element);\n",
       "    }\n",
       "\n",
       "    var skip = [];\n",
       "    if (window.requirejs) {\n",
       "      window.requirejs.config({'paths': {'tabulator': 'https://unpkg.com/tabulator-tables@4.9.3/dist/js/tabulator'}});\n",
       "      window.requirejs.config({'paths': {'plotly': 'https://cdn.plot.ly/plotly-latest.min'}});\n",
       "      require([\"tabulator\", \"plotly\"], function(Tabulator,Plotly,) {\n",
       "        window.Tabulator = Tabulator;\n",
       "        window.Plotly = Plotly;\n",
       "      })\n",
       "    }\n",
       "    if (((window['tabulator'] !== undefined) && (!(window['tabulator'] instanceof HTMLElement))) || window.requirejs) {\n",
       "      var urls = ['https://unpkg.com/tabulator-tables@4.9.3/dist/js/tabulator.js', 'https://unpkg.com/moment@2.27.0/moment.js'];\n",
       "      for (var i = 0; i < urls.length; i++) {\n",
       "        skip.push(urls[i])\n",
       "      }\n",
       "    }\n",
       "    if (((window['Plotly'] !== undefined) && (!(window['Plotly'] instanceof HTMLElement))) || window.requirejs) {\n",
       "      var urls = ['https://cdn.plot.ly/plotly-latest.min.js'];\n",
       "      for (var i = 0; i < urls.length; i++) {\n",
       "        skip.push(urls[i])\n",
       "      }\n",
       "    }\n",
       "    for (var i = 0; i < js_urls.length; i++) {\n",
       "      var url = js_urls[i];\n",
       "      if (skip.indexOf(url) >= 0) { on_load(); continue; }\n",
       "      var element = document.createElement('script');\n",
       "      element.onload = on_load;\n",
       "      element.onerror = on_error;\n",
       "      element.async = false;\n",
       "      element.src = url;\n",
       "      console.debug(\"Bokeh: injecting script tag for BokehJS library: \", url);\n",
       "      document.head.appendChild(element);\n",
       "    }\n",
       "    for (var i = 0; i < js_modules.length; i++) {\n",
       "      var url = js_modules[i];\n",
       "      if (skip.indexOf(url) >= 0) { on_load(); continue; }\n",
       "      var element = document.createElement('script');\n",
       "      element.onload = on_load;\n",
       "      element.onerror = on_error;\n",
       "      element.async = false;\n",
       "      element.src = url;\n",
       "      element.type = \"module\";\n",
       "      console.debug(\"Bokeh: injecting script tag for BokehJS library: \", url);\n",
       "      document.head.appendChild(element);\n",
       "    }\n",
       "    if (!js_urls.length && !js_modules.length) {\n",
       "      on_load()\n",
       "    }\n",
       "  };\n",
       "\n",
       "  function inject_raw_css(css) {\n",
       "    const element = document.createElement(\"style\");\n",
       "    element.appendChild(document.createTextNode(css));\n",
       "    document.body.appendChild(element);\n",
       "  }\n",
       "\n",
       "  var js_urls = [\"https://code.jquery.com/jquery-3.4.1.min.js\", \"https://cdn.plot.ly/plotly-latest.min.js\", \"https://unpkg.com/tabulator-tables@4.9.3/dist/js/tabulator.js\", \"https://unpkg.com/moment@2.27.0/moment.js\", \"https://cdn.bokeh.org/bokeh/release/bokeh-2.3.1.min.js\", \"https://cdn.bokeh.org/bokeh/release/bokeh-widgets-2.3.1.min.js\", \"https://cdn.bokeh.org/bokeh/release/bokeh-tables-2.3.1.min.js\", \"https://unpkg.com/@holoviz/panel@^0.11.3/dist/panel.min.js\"];\n",
       "  var js_modules = [];\n",
       "  var css_urls = [\"https://unpkg.com/tabulator-tables@4.9.3/dist/css/tabulator_simple.min.css\", \"https://unpkg.com/@holoviz/panel@0.11.3/dist/css/alerts.css\", \"https://unpkg.com/@holoviz/panel@0.11.3/dist/css/card.css\", \"https://unpkg.com/@holoviz/panel@0.11.3/dist/css/widgets.css\", \"https://unpkg.com/@holoviz/panel@0.11.3/dist/css/markdown.css\", \"https://unpkg.com/@holoviz/panel@0.11.3/dist/css/json.css\", \"https://unpkg.com/@holoviz/panel@0.11.3/dist/css/loading.css\", \"https://unpkg.com/@holoviz/panel@0.11.3/dist/css/dataframe.css\"];\n",
       "  var inline_js = [\n",
       "    function(Bokeh) {\n",
       "      inject_raw_css(\"\\n    .bk.pn-loading.arcs:before {\\n      background-image: url(\\\"data:image/svg+xml;base64,PHN2ZyB4bWxucz0iaHR0cDovL3d3dy53My5vcmcvMjAwMC9zdmciIHhtbG5zOnhsaW5rPSJodHRwOi8vd3d3LnczLm9yZy8xOTk5L3hsaW5rIiBzdHlsZT0ibWFyZ2luOiBhdXRvOyBiYWNrZ3JvdW5kOiBub25lOyBkaXNwbGF5OiBibG9jazsgc2hhcGUtcmVuZGVyaW5nOiBhdXRvOyIgdmlld0JveD0iMCAwIDEwMCAxMDAiIHByZXNlcnZlQXNwZWN0UmF0aW89InhNaWRZTWlkIj4gIDxjaXJjbGUgY3g9IjUwIiBjeT0iNTAiIHI9IjMyIiBzdHJva2Utd2lkdGg9IjgiIHN0cm9rZT0iI2MzYzNjMyIgc3Ryb2tlLWRhc2hhcnJheT0iNTAuMjY1NDgyNDU3NDM2NjkgNTAuMjY1NDgyNDU3NDM2NjkiIGZpbGw9Im5vbmUiIHN0cm9rZS1saW5lY2FwPSJyb3VuZCI+ICAgIDxhbmltYXRlVHJhbnNmb3JtIGF0dHJpYnV0ZU5hbWU9InRyYW5zZm9ybSIgdHlwZT0icm90YXRlIiByZXBlYXRDb3VudD0iaW5kZWZpbml0ZSIgZHVyPSIxcyIga2V5VGltZXM9IjA7MSIgdmFsdWVzPSIwIDUwIDUwOzM2MCA1MCA1MCI+PC9hbmltYXRlVHJhbnNmb3JtPiAgPC9jaXJjbGU+PC9zdmc+\\\")\\n    }\\n    \");\n",
       "    },\n",
       "    function(Bokeh) {\n",
       "      Bokeh.set_log_level(\"info\");\n",
       "    },\n",
       "    function(Bokeh) {} // ensure no trailing comma for IE\n",
       "  ];\n",
       "\n",
       "  function run_inline_js() {\n",
       "    if ((root.Bokeh !== undefined) || (force === true)) {\n",
       "      for (var i = 0; i < inline_js.length; i++) {\n",
       "        inline_js[i].call(root, root.Bokeh);\n",
       "      }} else if (Date.now() < root._bokeh_timeout) {\n",
       "      setTimeout(run_inline_js, 100);\n",
       "    } else if (!root._bokeh_failed_load) {\n",
       "      console.log(\"Bokeh: BokehJS failed to load within specified timeout.\");\n",
       "      root._bokeh_failed_load = true;\n",
       "    }\n",
       "  }\n",
       "\n",
       "  if (root._bokeh_is_loading === 0) {\n",
       "    console.debug(\"Bokeh: BokehJS loaded, going straight to plotting\");\n",
       "    run_inline_js();\n",
       "  } else {\n",
       "    load_libs(css_urls, js_urls, js_modules, function() {\n",
       "      console.debug(\"Bokeh: BokehJS plotting callback run at\", now());\n",
       "      run_inline_js();\n",
       "    });\n",
       "  }\n",
       "}(window));"
      ],
      "application/vnd.holoviews_load.v0+json": "\n(function(root) {\n  function now() {\n    return new Date();\n  }\n\n  var force = true;\n\n  if (typeof root._bokeh_onload_callbacks === \"undefined\" || force === true) {\n    root._bokeh_onload_callbacks = [];\n    root._bokeh_is_loading = undefined;\n  }\n\n  if (typeof (root._bokeh_timeout) === \"undefined\" || force === true) {\n    root._bokeh_timeout = Date.now() + 5000;\n    root._bokeh_failed_load = false;\n  }\n\n  function run_callbacks() {\n    try {\n      root._bokeh_onload_callbacks.forEach(function(callback) {\n        if (callback != null)\n          callback();\n      });\n    } finally {\n      delete root._bokeh_onload_callbacks\n    }\n    console.debug(\"Bokeh: all callbacks have finished\");\n  }\n\n  function load_libs(css_urls, js_urls, js_modules, callback) {\n    if (css_urls == null) css_urls = [];\n    if (js_urls == null) js_urls = [];\n    if (js_modules == null) js_modules = [];\n\n    root._bokeh_onload_callbacks.push(callback);\n    if (root._bokeh_is_loading > 0) {\n      console.debug(\"Bokeh: BokehJS is being loaded, scheduling callback at\", now());\n      return null;\n    }\n    if (js_urls.length === 0 && js_modules.length === 0) {\n      run_callbacks();\n      return null;\n    }\n    console.debug(\"Bokeh: BokehJS not loaded, scheduling load and callback at\", now());\n    root._bokeh_is_loading = css_urls.length + js_urls.length + js_modules.length;\n\n    function on_load() {\n      root._bokeh_is_loading--;\n      if (root._bokeh_is_loading === 0) {\n        console.debug(\"Bokeh: all BokehJS libraries/stylesheets loaded\");\n        run_callbacks()\n      }\n    }\n\n    function on_error() {\n      console.error(\"failed to load \" + url);\n    }\n\n    for (var i = 0; i < css_urls.length; i++) {\n      var url = css_urls[i];\n      const element = document.createElement(\"link\");\n      element.onload = on_load;\n      element.onerror = on_error;\n      element.rel = \"stylesheet\";\n      element.type = \"text/css\";\n      element.href = url;\n      console.debug(\"Bokeh: injecting link tag for BokehJS stylesheet: \", url);\n      document.body.appendChild(element);\n    }\n\n    var skip = [];\n    if (window.requirejs) {\n      window.requirejs.config({'paths': {'tabulator': 'https://unpkg.com/tabulator-tables@4.9.3/dist/js/tabulator'}});\n      window.requirejs.config({'paths': {'plotly': 'https://cdn.plot.ly/plotly-latest.min'}});\n      require([\"tabulator\", \"plotly\"], function(Tabulator,Plotly,) {\n        window.Tabulator = Tabulator;\n        window.Plotly = Plotly;\n      })\n    }\n    if (((window['tabulator'] !== undefined) && (!(window['tabulator'] instanceof HTMLElement))) || window.requirejs) {\n      var urls = ['https://unpkg.com/tabulator-tables@4.9.3/dist/js/tabulator.js', 'https://unpkg.com/moment@2.27.0/moment.js'];\n      for (var i = 0; i < urls.length; i++) {\n        skip.push(urls[i])\n      }\n    }\n    if (((window['Plotly'] !== undefined) && (!(window['Plotly'] instanceof HTMLElement))) || window.requirejs) {\n      var urls = ['https://cdn.plot.ly/plotly-latest.min.js'];\n      for (var i = 0; i < urls.length; i++) {\n        skip.push(urls[i])\n      }\n    }\n    for (var i = 0; i < js_urls.length; i++) {\n      var url = js_urls[i];\n      if (skip.indexOf(url) >= 0) { on_load(); continue; }\n      var element = document.createElement('script');\n      element.onload = on_load;\n      element.onerror = on_error;\n      element.async = false;\n      element.src = url;\n      console.debug(\"Bokeh: injecting script tag for BokehJS library: \", url);\n      document.head.appendChild(element);\n    }\n    for (var i = 0; i < js_modules.length; i++) {\n      var url = js_modules[i];\n      if (skip.indexOf(url) >= 0) { on_load(); continue; }\n      var element = document.createElement('script');\n      element.onload = on_load;\n      element.onerror = on_error;\n      element.async = false;\n      element.src = url;\n      element.type = \"module\";\n      console.debug(\"Bokeh: injecting script tag for BokehJS library: \", url);\n      document.head.appendChild(element);\n    }\n    if (!js_urls.length && !js_modules.length) {\n      on_load()\n    }\n  };\n\n  function inject_raw_css(css) {\n    const element = document.createElement(\"style\");\n    element.appendChild(document.createTextNode(css));\n    document.body.appendChild(element);\n  }\n\n  var js_urls = [\"https://code.jquery.com/jquery-3.4.1.min.js\", \"https://cdn.plot.ly/plotly-latest.min.js\", \"https://unpkg.com/tabulator-tables@4.9.3/dist/js/tabulator.js\", \"https://unpkg.com/moment@2.27.0/moment.js\", \"https://cdn.bokeh.org/bokeh/release/bokeh-2.3.1.min.js\", \"https://cdn.bokeh.org/bokeh/release/bokeh-widgets-2.3.1.min.js\", \"https://cdn.bokeh.org/bokeh/release/bokeh-tables-2.3.1.min.js\", \"https://unpkg.com/@holoviz/panel@^0.11.3/dist/panel.min.js\"];\n  var js_modules = [];\n  var css_urls = [\"https://unpkg.com/tabulator-tables@4.9.3/dist/css/tabulator_simple.min.css\", \"https://unpkg.com/@holoviz/panel@0.11.3/dist/css/alerts.css\", \"https://unpkg.com/@holoviz/panel@0.11.3/dist/css/card.css\", \"https://unpkg.com/@holoviz/panel@0.11.3/dist/css/widgets.css\", \"https://unpkg.com/@holoviz/panel@0.11.3/dist/css/markdown.css\", \"https://unpkg.com/@holoviz/panel@0.11.3/dist/css/json.css\", \"https://unpkg.com/@holoviz/panel@0.11.3/dist/css/loading.css\", \"https://unpkg.com/@holoviz/panel@0.11.3/dist/css/dataframe.css\"];\n  var inline_js = [\n    function(Bokeh) {\n      inject_raw_css(\"\\n    .bk.pn-loading.arcs:before {\\n      background-image: url(\\\"data:image/svg+xml;base64,PHN2ZyB4bWxucz0iaHR0cDovL3d3dy53My5vcmcvMjAwMC9zdmciIHhtbG5zOnhsaW5rPSJodHRwOi8vd3d3LnczLm9yZy8xOTk5L3hsaW5rIiBzdHlsZT0ibWFyZ2luOiBhdXRvOyBiYWNrZ3JvdW5kOiBub25lOyBkaXNwbGF5OiBibG9jazsgc2hhcGUtcmVuZGVyaW5nOiBhdXRvOyIgdmlld0JveD0iMCAwIDEwMCAxMDAiIHByZXNlcnZlQXNwZWN0UmF0aW89InhNaWRZTWlkIj4gIDxjaXJjbGUgY3g9IjUwIiBjeT0iNTAiIHI9IjMyIiBzdHJva2Utd2lkdGg9IjgiIHN0cm9rZT0iI2MzYzNjMyIgc3Ryb2tlLWRhc2hhcnJheT0iNTAuMjY1NDgyNDU3NDM2NjkgNTAuMjY1NDgyNDU3NDM2NjkiIGZpbGw9Im5vbmUiIHN0cm9rZS1saW5lY2FwPSJyb3VuZCI+ICAgIDxhbmltYXRlVHJhbnNmb3JtIGF0dHJpYnV0ZU5hbWU9InRyYW5zZm9ybSIgdHlwZT0icm90YXRlIiByZXBlYXRDb3VudD0iaW5kZWZpbml0ZSIgZHVyPSIxcyIga2V5VGltZXM9IjA7MSIgdmFsdWVzPSIwIDUwIDUwOzM2MCA1MCA1MCI+PC9hbmltYXRlVHJhbnNmb3JtPiAgPC9jaXJjbGU+PC9zdmc+\\\")\\n    }\\n    \");\n    },\n    function(Bokeh) {\n      Bokeh.set_log_level(\"info\");\n    },\n    function(Bokeh) {} // ensure no trailing comma for IE\n  ];\n\n  function run_inline_js() {\n    if ((root.Bokeh !== undefined) || (force === true)) {\n      for (var i = 0; i < inline_js.length; i++) {\n        inline_js[i].call(root, root.Bokeh);\n      }} else if (Date.now() < root._bokeh_timeout) {\n      setTimeout(run_inline_js, 100);\n    } else if (!root._bokeh_failed_load) {\n      console.log(\"Bokeh: BokehJS failed to load within specified timeout.\");\n      root._bokeh_failed_load = true;\n    }\n  }\n\n  if (root._bokeh_is_loading === 0) {\n    console.debug(\"Bokeh: BokehJS loaded, going straight to plotting\");\n    run_inline_js();\n  } else {\n    load_libs(css_urls, js_urls, js_modules, function() {\n      console.debug(\"Bokeh: BokehJS plotting callback run at\", now());\n      run_inline_js();\n    });\n  }\n}(window));"
     },
     "metadata": {},
     "output_type": "display_data"
    },
    {
     "data": {
      "application/javascript": [
       "\n",
       "if ((window.PyViz === undefined) || (window.PyViz instanceof HTMLElement)) {\n",
       "  window.PyViz = {comms: {}, comm_status:{}, kernels:{}, receivers: {}, plot_index: []}\n",
       "}\n",
       "\n",
       "\n",
       "    function JupyterCommManager() {\n",
       "    }\n",
       "\n",
       "    JupyterCommManager.prototype.register_target = function(plot_id, comm_id, msg_handler) {\n",
       "      if (window.comm_manager || ((window.Jupyter !== undefined) && (Jupyter.notebook.kernel != null))) {\n",
       "        var comm_manager = window.comm_manager || Jupyter.notebook.kernel.comm_manager;\n",
       "        comm_manager.register_target(comm_id, function(comm) {\n",
       "          comm.on_msg(msg_handler);\n",
       "        });\n",
       "      } else if ((plot_id in window.PyViz.kernels) && (window.PyViz.kernels[plot_id])) {\n",
       "        window.PyViz.kernels[plot_id].registerCommTarget(comm_id, function(comm) {\n",
       "          comm.onMsg = msg_handler;\n",
       "        });\n",
       "      } else if (typeof google != 'undefined' && google.colab.kernel != null) {\n",
       "        google.colab.kernel.comms.registerTarget(comm_id, (comm) => {\n",
       "          var messages = comm.messages[Symbol.asyncIterator]();\n",
       "          function processIteratorResult(result) {\n",
       "            var message = result.value;\n",
       "            console.log(message)\n",
       "            var content = {data: message.data, comm_id};\n",
       "            var buffers = []\n",
       "            for (var buffer of message.buffers || []) {\n",
       "              buffers.push(new DataView(buffer))\n",
       "            }\n",
       "            var metadata = message.metadata || {};\n",
       "            var msg = {content, buffers, metadata}\n",
       "            msg_handler(msg);\n",
       "            return messages.next().then(processIteratorResult);\n",
       "          }\n",
       "          return messages.next().then(processIteratorResult);\n",
       "        })\n",
       "      }\n",
       "    }\n",
       "\n",
       "    JupyterCommManager.prototype.get_client_comm = function(plot_id, comm_id, msg_handler) {\n",
       "      if (comm_id in window.PyViz.comms) {\n",
       "        return window.PyViz.comms[comm_id];\n",
       "      } else if (window.comm_manager || ((window.Jupyter !== undefined) && (Jupyter.notebook.kernel != null))) {\n",
       "        var comm_manager = window.comm_manager || Jupyter.notebook.kernel.comm_manager;\n",
       "        var comm = comm_manager.new_comm(comm_id, {}, {}, {}, comm_id);\n",
       "        if (msg_handler) {\n",
       "          comm.on_msg(msg_handler);\n",
       "        }\n",
       "      } else if ((plot_id in window.PyViz.kernels) && (window.PyViz.kernels[plot_id])) {\n",
       "        var comm = window.PyViz.kernels[plot_id].connectToComm(comm_id);\n",
       "        comm.open();\n",
       "        if (msg_handler) {\n",
       "          comm.onMsg = msg_handler;\n",
       "        }\n",
       "      } else if (typeof google != 'undefined' && google.colab.kernel != null) {\n",
       "        var comm_promise = google.colab.kernel.comms.open(comm_id)\n",
       "        comm_promise.then((comm) => {\n",
       "          window.PyViz.comms[comm_id] = comm;\n",
       "          if (msg_handler) {\n",
       "            var messages = comm.messages[Symbol.asyncIterator]();\n",
       "            function processIteratorResult(result) {\n",
       "              var message = result.value;\n",
       "              var content = {data: message.data};\n",
       "              var metadata = message.metadata || {comm_id};\n",
       "              var msg = {content, metadata}\n",
       "              msg_handler(msg);\n",
       "              return messages.next().then(processIteratorResult);\n",
       "            }\n",
       "            return messages.next().then(processIteratorResult);\n",
       "          }\n",
       "        }) \n",
       "        var sendClosure = (data, metadata, buffers, disposeOnDone) => {\n",
       "          return comm_promise.then((comm) => {\n",
       "            comm.send(data, metadata, buffers, disposeOnDone);\n",
       "          });\n",
       "        };\n",
       "        var comm = {\n",
       "          send: sendClosure\n",
       "        };\n",
       "      }\n",
       "      window.PyViz.comms[comm_id] = comm;\n",
       "      return comm;\n",
       "    }\n",
       "    window.PyViz.comm_manager = new JupyterCommManager();\n",
       "    \n",
       "\n",
       "\n",
       "var JS_MIME_TYPE = 'application/javascript';\n",
       "var HTML_MIME_TYPE = 'text/html';\n",
       "var EXEC_MIME_TYPE = 'application/vnd.holoviews_exec.v0+json';\n",
       "var CLASS_NAME = 'output';\n",
       "\n",
       "/**\n",
       " * Render data to the DOM node\n",
       " */\n",
       "function render(props, node) {\n",
       "  var div = document.createElement(\"div\");\n",
       "  var script = document.createElement(\"script\");\n",
       "  node.appendChild(div);\n",
       "  node.appendChild(script);\n",
       "}\n",
       "\n",
       "/**\n",
       " * Handle when a new output is added\n",
       " */\n",
       "function handle_add_output(event, handle) {\n",
       "  var output_area = handle.output_area;\n",
       "  var output = handle.output;\n",
       "  if ((output.data == undefined) || (!output.data.hasOwnProperty(EXEC_MIME_TYPE))) {\n",
       "    return\n",
       "  }\n",
       "  var id = output.metadata[EXEC_MIME_TYPE][\"id\"];\n",
       "  var toinsert = output_area.element.find(\".\" + CLASS_NAME.split(' ')[0]);\n",
       "  if (id !== undefined) {\n",
       "    var nchildren = toinsert.length;\n",
       "    var html_node = toinsert[nchildren-1].children[0];\n",
       "    html_node.innerHTML = output.data[HTML_MIME_TYPE];\n",
       "    var scripts = [];\n",
       "    var nodelist = html_node.querySelectorAll(\"script\");\n",
       "    for (var i in nodelist) {\n",
       "      if (nodelist.hasOwnProperty(i)) {\n",
       "        scripts.push(nodelist[i])\n",
       "      }\n",
       "    }\n",
       "\n",
       "    scripts.forEach( function (oldScript) {\n",
       "      var newScript = document.createElement(\"script\");\n",
       "      var attrs = [];\n",
       "      var nodemap = oldScript.attributes;\n",
       "      for (var j in nodemap) {\n",
       "        if (nodemap.hasOwnProperty(j)) {\n",
       "          attrs.push(nodemap[j])\n",
       "        }\n",
       "      }\n",
       "      attrs.forEach(function(attr) { newScript.setAttribute(attr.name, attr.value) });\n",
       "      newScript.appendChild(document.createTextNode(oldScript.innerHTML));\n",
       "      oldScript.parentNode.replaceChild(newScript, oldScript);\n",
       "    });\n",
       "    if (JS_MIME_TYPE in output.data) {\n",
       "      toinsert[nchildren-1].children[1].textContent = output.data[JS_MIME_TYPE];\n",
       "    }\n",
       "    output_area._hv_plot_id = id;\n",
       "    if ((window.Bokeh !== undefined) && (id in Bokeh.index)) {\n",
       "      window.PyViz.plot_index[id] = Bokeh.index[id];\n",
       "    } else {\n",
       "      window.PyViz.plot_index[id] = null;\n",
       "    }\n",
       "  } else if (output.metadata[EXEC_MIME_TYPE][\"server_id\"] !== undefined) {\n",
       "    var bk_div = document.createElement(\"div\");\n",
       "    bk_div.innerHTML = output.data[HTML_MIME_TYPE];\n",
       "    var script_attrs = bk_div.children[0].attributes;\n",
       "    for (var i = 0; i < script_attrs.length; i++) {\n",
       "      toinsert[toinsert.length - 1].childNodes[1].setAttribute(script_attrs[i].name, script_attrs[i].value);\n",
       "    }\n",
       "    // store reference to server id on output_area\n",
       "    output_area._bokeh_server_id = output.metadata[EXEC_MIME_TYPE][\"server_id\"];\n",
       "  }\n",
       "}\n",
       "\n",
       "/**\n",
       " * Handle when an output is cleared or removed\n",
       " */\n",
       "function handle_clear_output(event, handle) {\n",
       "  var id = handle.cell.output_area._hv_plot_id;\n",
       "  var server_id = handle.cell.output_area._bokeh_server_id;\n",
       "  if (((id === undefined) || !(id in PyViz.plot_index)) && (server_id !== undefined)) { return; }\n",
       "  var comm = window.PyViz.comm_manager.get_client_comm(\"hv-extension-comm\", \"hv-extension-comm\", function () {});\n",
       "  if (server_id !== null) {\n",
       "    comm.send({event_type: 'server_delete', 'id': server_id});\n",
       "    return;\n",
       "  } else if (comm !== null) {\n",
       "    comm.send({event_type: 'delete', 'id': id});\n",
       "  }\n",
       "  delete PyViz.plot_index[id];\n",
       "  if ((window.Bokeh !== undefined) & (id in window.Bokeh.index)) {\n",
       "    var doc = window.Bokeh.index[id].model.document\n",
       "    doc.clear();\n",
       "    const i = window.Bokeh.documents.indexOf(doc);\n",
       "    if (i > -1) {\n",
       "      window.Bokeh.documents.splice(i, 1);\n",
       "    }\n",
       "  }\n",
       "}\n",
       "\n",
       "/**\n",
       " * Handle kernel restart event\n",
       " */\n",
       "function handle_kernel_cleanup(event, handle) {\n",
       "  delete PyViz.comms[\"hv-extension-comm\"];\n",
       "  window.PyViz.plot_index = {}\n",
       "}\n",
       "\n",
       "/**\n",
       " * Handle update_display_data messages\n",
       " */\n",
       "function handle_update_output(event, handle) {\n",
       "  handle_clear_output(event, {cell: {output_area: handle.output_area}})\n",
       "  handle_add_output(event, handle)\n",
       "}\n",
       "\n",
       "function register_renderer(events, OutputArea) {\n",
       "  function append_mime(data, metadata, element) {\n",
       "    // create a DOM node to render to\n",
       "    var toinsert = this.create_output_subarea(\n",
       "    metadata,\n",
       "    CLASS_NAME,\n",
       "    EXEC_MIME_TYPE\n",
       "    );\n",
       "    this.keyboard_manager.register_events(toinsert);\n",
       "    // Render to node\n",
       "    var props = {data: data, metadata: metadata[EXEC_MIME_TYPE]};\n",
       "    render(props, toinsert[0]);\n",
       "    element.append(toinsert);\n",
       "    return toinsert\n",
       "  }\n",
       "\n",
       "  events.on('output_added.OutputArea', handle_add_output);\n",
       "  events.on('output_updated.OutputArea', handle_update_output);\n",
       "  events.on('clear_output.CodeCell', handle_clear_output);\n",
       "  events.on('delete.Cell', handle_clear_output);\n",
       "  events.on('kernel_ready.Kernel', handle_kernel_cleanup);\n",
       "\n",
       "  OutputArea.prototype.register_mime_type(EXEC_MIME_TYPE, append_mime, {\n",
       "    safe: true,\n",
       "    index: 0\n",
       "  });\n",
       "}\n",
       "\n",
       "if (window.Jupyter !== undefined) {\n",
       "  try {\n",
       "    var events = require('base/js/events');\n",
       "    var OutputArea = require('notebook/js/outputarea').OutputArea;\n",
       "    if (OutputArea.prototype.mime_types().indexOf(EXEC_MIME_TYPE) == -1) {\n",
       "      register_renderer(events, OutputArea);\n",
       "    }\n",
       "  } catch(err) {\n",
       "  }\n",
       "}\n"
      ],
      "application/vnd.holoviews_load.v0+json": "\nif ((window.PyViz === undefined) || (window.PyViz instanceof HTMLElement)) {\n  window.PyViz = {comms: {}, comm_status:{}, kernels:{}, receivers: {}, plot_index: []}\n}\n\n\n    function JupyterCommManager() {\n    }\n\n    JupyterCommManager.prototype.register_target = function(plot_id, comm_id, msg_handler) {\n      if (window.comm_manager || ((window.Jupyter !== undefined) && (Jupyter.notebook.kernel != null))) {\n        var comm_manager = window.comm_manager || Jupyter.notebook.kernel.comm_manager;\n        comm_manager.register_target(comm_id, function(comm) {\n          comm.on_msg(msg_handler);\n        });\n      } else if ((plot_id in window.PyViz.kernels) && (window.PyViz.kernels[plot_id])) {\n        window.PyViz.kernels[plot_id].registerCommTarget(comm_id, function(comm) {\n          comm.onMsg = msg_handler;\n        });\n      } else if (typeof google != 'undefined' && google.colab.kernel != null) {\n        google.colab.kernel.comms.registerTarget(comm_id, (comm) => {\n          var messages = comm.messages[Symbol.asyncIterator]();\n          function processIteratorResult(result) {\n            var message = result.value;\n            console.log(message)\n            var content = {data: message.data, comm_id};\n            var buffers = []\n            for (var buffer of message.buffers || []) {\n              buffers.push(new DataView(buffer))\n            }\n            var metadata = message.metadata || {};\n            var msg = {content, buffers, metadata}\n            msg_handler(msg);\n            return messages.next().then(processIteratorResult);\n          }\n          return messages.next().then(processIteratorResult);\n        })\n      }\n    }\n\n    JupyterCommManager.prototype.get_client_comm = function(plot_id, comm_id, msg_handler) {\n      if (comm_id in window.PyViz.comms) {\n        return window.PyViz.comms[comm_id];\n      } else if (window.comm_manager || ((window.Jupyter !== undefined) && (Jupyter.notebook.kernel != null))) {\n        var comm_manager = window.comm_manager || Jupyter.notebook.kernel.comm_manager;\n        var comm = comm_manager.new_comm(comm_id, {}, {}, {}, comm_id);\n        if (msg_handler) {\n          comm.on_msg(msg_handler);\n        }\n      } else if ((plot_id in window.PyViz.kernels) && (window.PyViz.kernels[plot_id])) {\n        var comm = window.PyViz.kernels[plot_id].connectToComm(comm_id);\n        comm.open();\n        if (msg_handler) {\n          comm.onMsg = msg_handler;\n        }\n      } else if (typeof google != 'undefined' && google.colab.kernel != null) {\n        var comm_promise = google.colab.kernel.comms.open(comm_id)\n        comm_promise.then((comm) => {\n          window.PyViz.comms[comm_id] = comm;\n          if (msg_handler) {\n            var messages = comm.messages[Symbol.asyncIterator]();\n            function processIteratorResult(result) {\n              var message = result.value;\n              var content = {data: message.data};\n              var metadata = message.metadata || {comm_id};\n              var msg = {content, metadata}\n              msg_handler(msg);\n              return messages.next().then(processIteratorResult);\n            }\n            return messages.next().then(processIteratorResult);\n          }\n        }) \n        var sendClosure = (data, metadata, buffers, disposeOnDone) => {\n          return comm_promise.then((comm) => {\n            comm.send(data, metadata, buffers, disposeOnDone);\n          });\n        };\n        var comm = {\n          send: sendClosure\n        };\n      }\n      window.PyViz.comms[comm_id] = comm;\n      return comm;\n    }\n    window.PyViz.comm_manager = new JupyterCommManager();\n    \n\n\nvar JS_MIME_TYPE = 'application/javascript';\nvar HTML_MIME_TYPE = 'text/html';\nvar EXEC_MIME_TYPE = 'application/vnd.holoviews_exec.v0+json';\nvar CLASS_NAME = 'output';\n\n/**\n * Render data to the DOM node\n */\nfunction render(props, node) {\n  var div = document.createElement(\"div\");\n  var script = document.createElement(\"script\");\n  node.appendChild(div);\n  node.appendChild(script);\n}\n\n/**\n * Handle when a new output is added\n */\nfunction handle_add_output(event, handle) {\n  var output_area = handle.output_area;\n  var output = handle.output;\n  if ((output.data == undefined) || (!output.data.hasOwnProperty(EXEC_MIME_TYPE))) {\n    return\n  }\n  var id = output.metadata[EXEC_MIME_TYPE][\"id\"];\n  var toinsert = output_area.element.find(\".\" + CLASS_NAME.split(' ')[0]);\n  if (id !== undefined) {\n    var nchildren = toinsert.length;\n    var html_node = toinsert[nchildren-1].children[0];\n    html_node.innerHTML = output.data[HTML_MIME_TYPE];\n    var scripts = [];\n    var nodelist = html_node.querySelectorAll(\"script\");\n    for (var i in nodelist) {\n      if (nodelist.hasOwnProperty(i)) {\n        scripts.push(nodelist[i])\n      }\n    }\n\n    scripts.forEach( function (oldScript) {\n      var newScript = document.createElement(\"script\");\n      var attrs = [];\n      var nodemap = oldScript.attributes;\n      for (var j in nodemap) {\n        if (nodemap.hasOwnProperty(j)) {\n          attrs.push(nodemap[j])\n        }\n      }\n      attrs.forEach(function(attr) { newScript.setAttribute(attr.name, attr.value) });\n      newScript.appendChild(document.createTextNode(oldScript.innerHTML));\n      oldScript.parentNode.replaceChild(newScript, oldScript);\n    });\n    if (JS_MIME_TYPE in output.data) {\n      toinsert[nchildren-1].children[1].textContent = output.data[JS_MIME_TYPE];\n    }\n    output_area._hv_plot_id = id;\n    if ((window.Bokeh !== undefined) && (id in Bokeh.index)) {\n      window.PyViz.plot_index[id] = Bokeh.index[id];\n    } else {\n      window.PyViz.plot_index[id] = null;\n    }\n  } else if (output.metadata[EXEC_MIME_TYPE][\"server_id\"] !== undefined) {\n    var bk_div = document.createElement(\"div\");\n    bk_div.innerHTML = output.data[HTML_MIME_TYPE];\n    var script_attrs = bk_div.children[0].attributes;\n    for (var i = 0; i < script_attrs.length; i++) {\n      toinsert[toinsert.length - 1].childNodes[1].setAttribute(script_attrs[i].name, script_attrs[i].value);\n    }\n    // store reference to server id on output_area\n    output_area._bokeh_server_id = output.metadata[EXEC_MIME_TYPE][\"server_id\"];\n  }\n}\n\n/**\n * Handle when an output is cleared or removed\n */\nfunction handle_clear_output(event, handle) {\n  var id = handle.cell.output_area._hv_plot_id;\n  var server_id = handle.cell.output_area._bokeh_server_id;\n  if (((id === undefined) || !(id in PyViz.plot_index)) && (server_id !== undefined)) { return; }\n  var comm = window.PyViz.comm_manager.get_client_comm(\"hv-extension-comm\", \"hv-extension-comm\", function () {});\n  if (server_id !== null) {\n    comm.send({event_type: 'server_delete', 'id': server_id});\n    return;\n  } else if (comm !== null) {\n    comm.send({event_type: 'delete', 'id': id});\n  }\n  delete PyViz.plot_index[id];\n  if ((window.Bokeh !== undefined) & (id in window.Bokeh.index)) {\n    var doc = window.Bokeh.index[id].model.document\n    doc.clear();\n    const i = window.Bokeh.documents.indexOf(doc);\n    if (i > -1) {\n      window.Bokeh.documents.splice(i, 1);\n    }\n  }\n}\n\n/**\n * Handle kernel restart event\n */\nfunction handle_kernel_cleanup(event, handle) {\n  delete PyViz.comms[\"hv-extension-comm\"];\n  window.PyViz.plot_index = {}\n}\n\n/**\n * Handle update_display_data messages\n */\nfunction handle_update_output(event, handle) {\n  handle_clear_output(event, {cell: {output_area: handle.output_area}})\n  handle_add_output(event, handle)\n}\n\nfunction register_renderer(events, OutputArea) {\n  function append_mime(data, metadata, element) {\n    // create a DOM node to render to\n    var toinsert = this.create_output_subarea(\n    metadata,\n    CLASS_NAME,\n    EXEC_MIME_TYPE\n    );\n    this.keyboard_manager.register_events(toinsert);\n    // Render to node\n    var props = {data: data, metadata: metadata[EXEC_MIME_TYPE]};\n    render(props, toinsert[0]);\n    element.append(toinsert);\n    return toinsert\n  }\n\n  events.on('output_added.OutputArea', handle_add_output);\n  events.on('output_updated.OutputArea', handle_update_output);\n  events.on('clear_output.CodeCell', handle_clear_output);\n  events.on('delete.Cell', handle_clear_output);\n  events.on('kernel_ready.Kernel', handle_kernel_cleanup);\n\n  OutputArea.prototype.register_mime_type(EXEC_MIME_TYPE, append_mime, {\n    safe: true,\n    index: 0\n  });\n}\n\nif (window.Jupyter !== undefined) {\n  try {\n    var events = require('base/js/events');\n    var OutputArea = require('notebook/js/outputarea').OutputArea;\n    if (OutputArea.prototype.mime_types().indexOf(EXEC_MIME_TYPE) == -1) {\n      register_renderer(events, OutputArea);\n    }\n  } catch(err) {\n  }\n}\n"
     },
     "metadata": {},
     "output_type": "display_data"
    },
    {
     "data": {
      "text/html": [
       "\n",
       "    <div class=\"bk-root\">\n",
       "        <a href=\"https://bokeh.org\" target=\"_blank\" class=\"bk-logo bk-logo-small bk-logo-notebook\"></a>\n",
       "        <span id=\"3621\">Loading BokehJS ...</span>\n",
       "    </div>"
      ]
     },
     "metadata": {},
     "output_type": "display_data"
    },
    {
     "data": {
      "application/javascript": [
       "\n",
       "(function(root) {\n",
       "  function now() {\n",
       "    return new Date();\n",
       "  }\n",
       "\n",
       "  var force = true;\n",
       "\n",
       "  if (typeof root._bokeh_onload_callbacks === \"undefined\" || force === true) {\n",
       "    root._bokeh_onload_callbacks = [];\n",
       "    root._bokeh_is_loading = undefined;\n",
       "  }\n",
       "\n",
       "  var JS_MIME_TYPE = 'application/javascript';\n",
       "  var HTML_MIME_TYPE = 'text/html';\n",
       "  var EXEC_MIME_TYPE = 'application/vnd.bokehjs_exec.v0+json';\n",
       "  var CLASS_NAME = 'output_bokeh rendered_html';\n",
       "\n",
       "  /**\n",
       "   * Render data to the DOM node\n",
       "   */\n",
       "  function render(props, node) {\n",
       "    var script = document.createElement(\"script\");\n",
       "    node.appendChild(script);\n",
       "  }\n",
       "\n",
       "  /**\n",
       "   * Handle when an output is cleared or removed\n",
       "   */\n",
       "  function handleClearOutput(event, handle) {\n",
       "    var cell = handle.cell;\n",
       "\n",
       "    var id = cell.output_area._bokeh_element_id;\n",
       "    var server_id = cell.output_area._bokeh_server_id;\n",
       "    // Clean up Bokeh references\n",
       "    if (id != null && id in Bokeh.index) {\n",
       "      Bokeh.index[id].model.document.clear();\n",
       "      delete Bokeh.index[id];\n",
       "    }\n",
       "\n",
       "    if (server_id !== undefined) {\n",
       "      // Clean up Bokeh references\n",
       "      var cmd = \"from bokeh.io.state import curstate; print(curstate().uuid_to_server['\" + server_id + \"'].get_sessions()[0].document.roots[0]._id)\";\n",
       "      cell.notebook.kernel.execute(cmd, {\n",
       "        iopub: {\n",
       "          output: function(msg) {\n",
       "            var id = msg.content.text.trim();\n",
       "            if (id in Bokeh.index) {\n",
       "              Bokeh.index[id].model.document.clear();\n",
       "              delete Bokeh.index[id];\n",
       "            }\n",
       "          }\n",
       "        }\n",
       "      });\n",
       "      // Destroy server and session\n",
       "      var cmd = \"import bokeh.io.notebook as ion; ion.destroy_server('\" + server_id + \"')\";\n",
       "      cell.notebook.kernel.execute(cmd);\n",
       "    }\n",
       "  }\n",
       "\n",
       "  /**\n",
       "   * Handle when a new output is added\n",
       "   */\n",
       "  function handleAddOutput(event, handle) {\n",
       "    var output_area = handle.output_area;\n",
       "    var output = handle.output;\n",
       "\n",
       "    // limit handleAddOutput to display_data with EXEC_MIME_TYPE content only\n",
       "    if ((output.output_type != \"display_data\") || (!Object.prototype.hasOwnProperty.call(output.data, EXEC_MIME_TYPE))) {\n",
       "      return\n",
       "    }\n",
       "\n",
       "    var toinsert = output_area.element.find(\".\" + CLASS_NAME.split(' ')[0]);\n",
       "\n",
       "    if (output.metadata[EXEC_MIME_TYPE][\"id\"] !== undefined) {\n",
       "      toinsert[toinsert.length - 1].firstChild.textContent = output.data[JS_MIME_TYPE];\n",
       "      // store reference to embed id on output_area\n",
       "      output_area._bokeh_element_id = output.metadata[EXEC_MIME_TYPE][\"id\"];\n",
       "    }\n",
       "    if (output.metadata[EXEC_MIME_TYPE][\"server_id\"] !== undefined) {\n",
       "      var bk_div = document.createElement(\"div\");\n",
       "      bk_div.innerHTML = output.data[HTML_MIME_TYPE];\n",
       "      var script_attrs = bk_div.children[0].attributes;\n",
       "      for (var i = 0; i < script_attrs.length; i++) {\n",
       "        toinsert[toinsert.length - 1].firstChild.setAttribute(script_attrs[i].name, script_attrs[i].value);\n",
       "        toinsert[toinsert.length - 1].firstChild.textContent = bk_div.children[0].textContent\n",
       "      }\n",
       "      // store reference to server id on output_area\n",
       "      output_area._bokeh_server_id = output.metadata[EXEC_MIME_TYPE][\"server_id\"];\n",
       "    }\n",
       "  }\n",
       "\n",
       "  function register_renderer(events, OutputArea) {\n",
       "\n",
       "    function append_mime(data, metadata, element) {\n",
       "      // create a DOM node to render to\n",
       "      var toinsert = this.create_output_subarea(\n",
       "        metadata,\n",
       "        CLASS_NAME,\n",
       "        EXEC_MIME_TYPE\n",
       "      );\n",
       "      this.keyboard_manager.register_events(toinsert);\n",
       "      // Render to node\n",
       "      var props = {data: data, metadata: metadata[EXEC_MIME_TYPE]};\n",
       "      render(props, toinsert[toinsert.length - 1]);\n",
       "      element.append(toinsert);\n",
       "      return toinsert\n",
       "    }\n",
       "\n",
       "    /* Handle when an output is cleared or removed */\n",
       "    events.on('clear_output.CodeCell', handleClearOutput);\n",
       "    events.on('delete.Cell', handleClearOutput);\n",
       "\n",
       "    /* Handle when a new output is added */\n",
       "    events.on('output_added.OutputArea', handleAddOutput);\n",
       "\n",
       "    /**\n",
       "     * Register the mime type and append_mime function with output_area\n",
       "     */\n",
       "    OutputArea.prototype.register_mime_type(EXEC_MIME_TYPE, append_mime, {\n",
       "      /* Is output safe? */\n",
       "      safe: true,\n",
       "      /* Index of renderer in `output_area.display_order` */\n",
       "      index: 0\n",
       "    });\n",
       "  }\n",
       "\n",
       "  // register the mime type if in Jupyter Notebook environment and previously unregistered\n",
       "  if (root.Jupyter !== undefined) {\n",
       "    var events = require('base/js/events');\n",
       "    var OutputArea = require('notebook/js/outputarea').OutputArea;\n",
       "\n",
       "    if (OutputArea.prototype.mime_types().indexOf(EXEC_MIME_TYPE) == -1) {\n",
       "      register_renderer(events, OutputArea);\n",
       "    }\n",
       "  }\n",
       "\n",
       "  \n",
       "  if (typeof (root._bokeh_timeout) === \"undefined\" || force === true) {\n",
       "    root._bokeh_timeout = Date.now() + 5000;\n",
       "    root._bokeh_failed_load = false;\n",
       "  }\n",
       "\n",
       "  var NB_LOAD_WARNING = {'data': {'text/html':\n",
       "     \"<div style='background-color: #fdd'>\\n\"+\n",
       "     \"<p>\\n\"+\n",
       "     \"BokehJS does not appear to have successfully loaded. If loading BokehJS from CDN, this \\n\"+\n",
       "     \"may be due to a slow or bad network connection. Possible fixes:\\n\"+\n",
       "     \"</p>\\n\"+\n",
       "     \"<ul>\\n\"+\n",
       "     \"<li>re-rerun `output_notebook()` to attempt to load from CDN again, or</li>\\n\"+\n",
       "     \"<li>use INLINE resources instead, as so:</li>\\n\"+\n",
       "     \"</ul>\\n\"+\n",
       "     \"<code>\\n\"+\n",
       "     \"from bokeh.resources import INLINE\\n\"+\n",
       "     \"output_notebook(resources=INLINE)\\n\"+\n",
       "     \"</code>\\n\"+\n",
       "     \"</div>\"}};\n",
       "\n",
       "  function display_loaded() {\n",
       "    var el = document.getElementById(\"3621\");\n",
       "    if (el != null) {\n",
       "      el.textContent = \"BokehJS is loading...\";\n",
       "    }\n",
       "    if (root.Bokeh !== undefined) {\n",
       "      if (el != null) {\n",
       "        el.textContent = \"BokehJS \" + root.Bokeh.version + \" successfully loaded.\";\n",
       "      }\n",
       "    } else if (Date.now() < root._bokeh_timeout) {\n",
       "      setTimeout(display_loaded, 100)\n",
       "    }\n",
       "  }\n",
       "\n",
       "\n",
       "  function run_callbacks() {\n",
       "    try {\n",
       "      root._bokeh_onload_callbacks.forEach(function(callback) {\n",
       "        if (callback != null)\n",
       "          callback();\n",
       "      });\n",
       "    } finally {\n",
       "      delete root._bokeh_onload_callbacks\n",
       "    }\n",
       "    console.debug(\"Bokeh: all callbacks have finished\");\n",
       "  }\n",
       "\n",
       "  function load_libs(css_urls, js_urls, callback) {\n",
       "    if (css_urls == null) css_urls = [];\n",
       "    if (js_urls == null) js_urls = [];\n",
       "\n",
       "    root._bokeh_onload_callbacks.push(callback);\n",
       "    if (root._bokeh_is_loading > 0) {\n",
       "      console.debug(\"Bokeh: BokehJS is being loaded, scheduling callback at\", now());\n",
       "      return null;\n",
       "    }\n",
       "    if (js_urls == null || js_urls.length === 0) {\n",
       "      run_callbacks();\n",
       "      return null;\n",
       "    }\n",
       "    console.debug(\"Bokeh: BokehJS not loaded, scheduling load and callback at\", now());\n",
       "    root._bokeh_is_loading = css_urls.length + js_urls.length;\n",
       "\n",
       "    function on_load() {\n",
       "      root._bokeh_is_loading--;\n",
       "      if (root._bokeh_is_loading === 0) {\n",
       "        console.debug(\"Bokeh: all BokehJS libraries/stylesheets loaded\");\n",
       "        run_callbacks()\n",
       "      }\n",
       "    }\n",
       "\n",
       "    function on_error(url) {\n",
       "      console.error(\"failed to load \" + url);\n",
       "    }\n",
       "\n",
       "    for (let i = 0; i < css_urls.length; i++) {\n",
       "      const url = css_urls[i];\n",
       "      const element = document.createElement(\"link\");\n",
       "      element.onload = on_load;\n",
       "      element.onerror = on_error.bind(null, url);\n",
       "      element.rel = \"stylesheet\";\n",
       "      element.type = \"text/css\";\n",
       "      element.href = url;\n",
       "      console.debug(\"Bokeh: injecting link tag for BokehJS stylesheet: \", url);\n",
       "      document.body.appendChild(element);\n",
       "    }\n",
       "\n",
       "    const hashes = {\"https://cdn.bokeh.org/bokeh/release/bokeh-2.3.1.min.js\": \"YF85VygJKMVnHE+lLv2AM93Vbstr0yo2TbIu5v8se5Rq3UQAUmcuh4aaJwNlpKwa\", \"https://cdn.bokeh.org/bokeh/release/bokeh-widgets-2.3.1.min.js\": \"KKuas3gevv3PvrlkyCMzffFeaMq5we/a2QsP5AUoS3mJ0jmaCL7jirFJN3GoE/lM\", \"https://cdn.bokeh.org/bokeh/release/bokeh-tables-2.3.1.min.js\": \"MK/uFc3YT18pkvvXRl66tTHjP0/dxoSH2e/eiNMFIguKlun2+WVqaPTWmUy/zvh4\"};\n",
       "\n",
       "    for (let i = 0; i < js_urls.length; i++) {\n",
       "      const url = js_urls[i];\n",
       "      const element = document.createElement('script');\n",
       "      element.onload = on_load;\n",
       "      element.onerror = on_error.bind(null, url);\n",
       "      element.async = false;\n",
       "      element.src = url;\n",
       "      if (url in hashes) {\n",
       "        element.crossOrigin = \"anonymous\";\n",
       "        element.integrity = \"sha384-\" + hashes[url];\n",
       "      }\n",
       "      console.debug(\"Bokeh: injecting script tag for BokehJS library: \", url);\n",
       "      document.head.appendChild(element);\n",
       "    }\n",
       "  };\n",
       "\n",
       "  function inject_raw_css(css) {\n",
       "    const element = document.createElement(\"style\");\n",
       "    element.appendChild(document.createTextNode(css));\n",
       "    document.body.appendChild(element);\n",
       "  }\n",
       "\n",
       "  \n",
       "  var js_urls = [\"https://code.jquery.com/jquery-3.4.1.min.js\", \"https://cdn.plot.ly/plotly-latest.min.js\", \"https://unpkg.com/tabulator-tables@4.9.3/dist/js/tabulator.js\", \"https://unpkg.com/moment@2.27.0/moment.js\", \"https://cdn.bokeh.org/bokeh/release/bokeh-2.3.1.min.js\", \"https://cdn.bokeh.org/bokeh/release/bokeh-widgets-2.3.1.min.js\", \"https://cdn.bokeh.org/bokeh/release/bokeh-tables-2.3.1.min.js\", \"https://unpkg.com/@holoviz/panel@^0.11.3/dist/panel.min.js\"];\n",
       "  var css_urls = [\"https://unpkg.com/tabulator-tables@4.9.3/dist/css/tabulator_simple.min.css\"];\n",
       "  \n",
       "\n",
       "  var inline_js = [\n",
       "    function(Bokeh) {\n",
       "      Bokeh.set_log_level(\"info\");\n",
       "    },\n",
       "    function(Bokeh) {\n",
       "    \n",
       "    \n",
       "    }\n",
       "  ];\n",
       "\n",
       "  function run_inline_js() {\n",
       "    \n",
       "    if (root.Bokeh !== undefined || force === true) {\n",
       "      \n",
       "    for (var i = 0; i < inline_js.length; i++) {\n",
       "      inline_js[i].call(root, root.Bokeh);\n",
       "    }\n",
       "    if (force === true) {\n",
       "        display_loaded();\n",
       "      }} else if (Date.now() < root._bokeh_timeout) {\n",
       "      setTimeout(run_inline_js, 100);\n",
       "    } else if (!root._bokeh_failed_load) {\n",
       "      console.log(\"Bokeh: BokehJS failed to load within specified timeout.\");\n",
       "      root._bokeh_failed_load = true;\n",
       "    } else if (force !== true) {\n",
       "      var cell = $(document.getElementById(\"3621\")).parents('.cell').data().cell;\n",
       "      cell.output_area.append_execute_result(NB_LOAD_WARNING)\n",
       "    }\n",
       "\n",
       "  }\n",
       "\n",
       "  if (root._bokeh_is_loading === 0) {\n",
       "    console.debug(\"Bokeh: BokehJS loaded, going straight to plotting\");\n",
       "    run_inline_js();\n",
       "  } else {\n",
       "    load_libs(css_urls, js_urls, function() {\n",
       "      console.debug(\"Bokeh: BokehJS plotting callback run at\", now());\n",
       "      run_inline_js();\n",
       "    });\n",
       "  }\n",
       "}(window));"
      ],
      "application/vnd.bokehjs_load.v0+json": "\n(function(root) {\n  function now() {\n    return new Date();\n  }\n\n  var force = true;\n\n  if (typeof root._bokeh_onload_callbacks === \"undefined\" || force === true) {\n    root._bokeh_onload_callbacks = [];\n    root._bokeh_is_loading = undefined;\n  }\n\n  \n\n  \n  if (typeof (root._bokeh_timeout) === \"undefined\" || force === true) {\n    root._bokeh_timeout = Date.now() + 5000;\n    root._bokeh_failed_load = false;\n  }\n\n  var NB_LOAD_WARNING = {'data': {'text/html':\n     \"<div style='background-color: #fdd'>\\n\"+\n     \"<p>\\n\"+\n     \"BokehJS does not appear to have successfully loaded. If loading BokehJS from CDN, this \\n\"+\n     \"may be due to a slow or bad network connection. Possible fixes:\\n\"+\n     \"</p>\\n\"+\n     \"<ul>\\n\"+\n     \"<li>re-rerun `output_notebook()` to attempt to load from CDN again, or</li>\\n\"+\n     \"<li>use INLINE resources instead, as so:</li>\\n\"+\n     \"</ul>\\n\"+\n     \"<code>\\n\"+\n     \"from bokeh.resources import INLINE\\n\"+\n     \"output_notebook(resources=INLINE)\\n\"+\n     \"</code>\\n\"+\n     \"</div>\"}};\n\n  function display_loaded() {\n    var el = document.getElementById(\"3621\");\n    if (el != null) {\n      el.textContent = \"BokehJS is loading...\";\n    }\n    if (root.Bokeh !== undefined) {\n      if (el != null) {\n        el.textContent = \"BokehJS \" + root.Bokeh.version + \" successfully loaded.\";\n      }\n    } else if (Date.now() < root._bokeh_timeout) {\n      setTimeout(display_loaded, 100)\n    }\n  }\n\n\n  function run_callbacks() {\n    try {\n      root._bokeh_onload_callbacks.forEach(function(callback) {\n        if (callback != null)\n          callback();\n      });\n    } finally {\n      delete root._bokeh_onload_callbacks\n    }\n    console.debug(\"Bokeh: all callbacks have finished\");\n  }\n\n  function load_libs(css_urls, js_urls, callback) {\n    if (css_urls == null) css_urls = [];\n    if (js_urls == null) js_urls = [];\n\n    root._bokeh_onload_callbacks.push(callback);\n    if (root._bokeh_is_loading > 0) {\n      console.debug(\"Bokeh: BokehJS is being loaded, scheduling callback at\", now());\n      return null;\n    }\n    if (js_urls == null || js_urls.length === 0) {\n      run_callbacks();\n      return null;\n    }\n    console.debug(\"Bokeh: BokehJS not loaded, scheduling load and callback at\", now());\n    root._bokeh_is_loading = css_urls.length + js_urls.length;\n\n    function on_load() {\n      root._bokeh_is_loading--;\n      if (root._bokeh_is_loading === 0) {\n        console.debug(\"Bokeh: all BokehJS libraries/stylesheets loaded\");\n        run_callbacks()\n      }\n    }\n\n    function on_error(url) {\n      console.error(\"failed to load \" + url);\n    }\n\n    for (let i = 0; i < css_urls.length; i++) {\n      const url = css_urls[i];\n      const element = document.createElement(\"link\");\n      element.onload = on_load;\n      element.onerror = on_error.bind(null, url);\n      element.rel = \"stylesheet\";\n      element.type = \"text/css\";\n      element.href = url;\n      console.debug(\"Bokeh: injecting link tag for BokehJS stylesheet: \", url);\n      document.body.appendChild(element);\n    }\n\n    const hashes = {\"https://cdn.bokeh.org/bokeh/release/bokeh-2.3.1.min.js\": \"YF85VygJKMVnHE+lLv2AM93Vbstr0yo2TbIu5v8se5Rq3UQAUmcuh4aaJwNlpKwa\", \"https://cdn.bokeh.org/bokeh/release/bokeh-widgets-2.3.1.min.js\": \"KKuas3gevv3PvrlkyCMzffFeaMq5we/a2QsP5AUoS3mJ0jmaCL7jirFJN3GoE/lM\", \"https://cdn.bokeh.org/bokeh/release/bokeh-tables-2.3.1.min.js\": \"MK/uFc3YT18pkvvXRl66tTHjP0/dxoSH2e/eiNMFIguKlun2+WVqaPTWmUy/zvh4\"};\n\n    for (let i = 0; i < js_urls.length; i++) {\n      const url = js_urls[i];\n      const element = document.createElement('script');\n      element.onload = on_load;\n      element.onerror = on_error.bind(null, url);\n      element.async = false;\n      element.src = url;\n      if (url in hashes) {\n        element.crossOrigin = \"anonymous\";\n        element.integrity = \"sha384-\" + hashes[url];\n      }\n      console.debug(\"Bokeh: injecting script tag for BokehJS library: \", url);\n      document.head.appendChild(element);\n    }\n  };\n\n  function inject_raw_css(css) {\n    const element = document.createElement(\"style\");\n    element.appendChild(document.createTextNode(css));\n    document.body.appendChild(element);\n  }\n\n  \n  var js_urls = [\"https://code.jquery.com/jquery-3.4.1.min.js\", \"https://cdn.plot.ly/plotly-latest.min.js\", \"https://unpkg.com/tabulator-tables@4.9.3/dist/js/tabulator.js\", \"https://unpkg.com/moment@2.27.0/moment.js\", \"https://cdn.bokeh.org/bokeh/release/bokeh-2.3.1.min.js\", \"https://cdn.bokeh.org/bokeh/release/bokeh-widgets-2.3.1.min.js\", \"https://cdn.bokeh.org/bokeh/release/bokeh-tables-2.3.1.min.js\", \"https://unpkg.com/@holoviz/panel@^0.11.3/dist/panel.min.js\"];\n  var css_urls = [\"https://unpkg.com/tabulator-tables@4.9.3/dist/css/tabulator_simple.min.css\"];\n  \n\n  var inline_js = [\n    function(Bokeh) {\n      Bokeh.set_log_level(\"info\");\n    },\n    function(Bokeh) {\n    \n    \n    }\n  ];\n\n  function run_inline_js() {\n    \n    if (root.Bokeh !== undefined || force === true) {\n      \n    for (var i = 0; i < inline_js.length; i++) {\n      inline_js[i].call(root, root.Bokeh);\n    }\n    if (force === true) {\n        display_loaded();\n      }} else if (Date.now() < root._bokeh_timeout) {\n      setTimeout(run_inline_js, 100);\n    } else if (!root._bokeh_failed_load) {\n      console.log(\"Bokeh: BokehJS failed to load within specified timeout.\");\n      root._bokeh_failed_load = true;\n    } else if (force !== true) {\n      var cell = $(document.getElementById(\"3621\")).parents('.cell').data().cell;\n      cell.output_area.append_execute_result(NB_LOAD_WARNING)\n    }\n\n  }\n\n  if (root._bokeh_is_loading === 0) {\n    console.debug(\"Bokeh: BokehJS loaded, going straight to plotting\");\n    run_inline_js();\n  } else {\n    load_libs(css_urls, js_urls, function() {\n      console.debug(\"Bokeh: BokehJS plotting callback run at\", now());\n      run_inline_js();\n    });\n  }\n}(window));"
     },
     "metadata": {},
     "output_type": "display_data"
    },
    {
     "name": "stdout",
     "output_type": "stream",
     "text": [
      "Requirement already satisfied: gensim in /anaconda3/lib/python3.7/site-packages (4.0.1)\n",
      "Requirement already satisfied: smart-open>=1.8.1 in /anaconda3/lib/python3.7/site-packages (from gensim) (5.0.0)\n",
      "Requirement already satisfied: scipy>=0.18.1 in /anaconda3/lib/python3.7/site-packages (from gensim) (1.4.1)\n",
      "Requirement already satisfied: numpy>=1.11.3 in /anaconda3/lib/python3.7/site-packages (from gensim) (1.18.5)\n",
      "Requirement already satisfied: python-Levenshtein in /anaconda3/lib/python3.7/site-packages (0.12.2)\n",
      "Requirement already satisfied: setuptools in /anaconda3/lib/python3.7/site-packages (from python-Levenshtein) (52.0.0.post20210125)\n"
     ]
    }
   ],
   "source": [
    "import pandas as pd\n",
    "import numpy as np\n",
    "from functools import reduce\n",
    "import matplotlib.pyplot as plt\n",
    "import os\n",
    "\n",
    "# plot functions\n",
    "import seaborn as sns\n",
    "import matplotlib.pyplot as plt\n",
    "import plotly.express as px\n",
    "import plotly.graph_objects as go\n",
    "import panel as pn\n",
    "pn.extension(\"plotly\")\n",
    "from bokeh.plotting import figure\n",
    "from bokeh.io import show, output_notebook, curdoc, output_file\n",
    "from bokeh.models import ColumnDataSource, FactorRange, Legend, HoverTool, GeoJSONDataSource, \\\n",
    "                        LinearColorMapper, ColorBar, NumeralTickFormatter, Div, Select, TableColumn, \\\n",
    "                        DataTable, CheckboxGroup, Tabs, Panel, CheckboxButtonGroup, RadioButtonGroup\n",
    "from bokeh.application.handlers import FunctionHandler\n",
    "from bokeh.application import Application\n",
    "from bokeh.palettes import Category20c, Pastel1, Set3, Blues\n",
    "from bokeh.layouts import column, row, WidgetBox, gridplot\n",
    "from bokeh.embed import file_html\n",
    "from bokeh.resources import CDN\n",
    "from bokeh.tile_providers import get_provider, Vendors\n",
    "from bokeh.transform import linear_cmap,factor_cmap\n",
    "output_notebook()\n",
    "\n",
    "#Anomaly detection\n",
    "\n",
    "import sys\n",
    "!{sys.executable} -m pip install gensim\n",
    "!{sys.executable} -m pip install python-Levenshtein\n",
    "\n",
    "from gensim.parsing.preprocessing import remove_stopwords\n",
    "from gensim.utils import simple_preprocess\n",
    "from gensim.parsing.porter import PorterStemmer\n",
    "from collections import Counter\n",
    "from sklearn.ensemble import IsolationForest\n",
    "\n",
    "from wordcloud import WordCloud\n",
    "import matplotlib.pyplot as plt"
   ]
  },
  {
   "cell_type": "markdown",
   "metadata": {},
   "source": [
    "### 2.1.1. Preprocessing of data"
   ]
  },
  {
   "cell_type": "code",
   "execution_count": 2,
   "metadata": {},
   "outputs": [
    {
     "data": {
      "text/plain": [
       "'/Users/juliusrasmussen/Downloads/yelp_dataset'"
      ]
     },
     "execution_count": 2,
     "metadata": {},
     "output_type": "execute_result"
    }
   ],
   "source": [
    "#path = 'C:\\\\Users\\\\Miche\\\\OneDrive - Danmarks Tekniske Universitet\\\\MMC\\\\2. Semester\\\\Social Data\\\\websites\\\\data'\n",
    "#path = '/Users/Ellen/Documents/Dokumenter/DTU/6.Semester/SocialData/Project/yelp_dataset'\n",
    "path = '/Users/juliusrasmussen/Downloads/yelp_dataset'\n",
    "os.chdir(path)\n",
    "os.getcwd()"
   ]
  },
  {
   "cell_type": "code",
   "execution_count": 3,
   "metadata": {},
   "outputs": [
    {
     "name": "stdout",
     "output_type": "stream",
     "text": [
      "(160585, 14)\n"
     ]
    }
   ],
   "source": [
    "df = pd.read_json('yelp_academic_dataset_business.json', lines=True)\n",
    "print(df.shape)"
   ]
  },
  {
   "cell_type": "markdown",
   "metadata": {},
   "source": [
    "Checking which columns we have available. "
   ]
  },
  {
   "cell_type": "code",
   "execution_count": 4,
   "metadata": {},
   "outputs": [
    {
     "data": {
      "text/plain": [
       "Index(['business_id', 'name', 'address', 'city', 'state', 'postal_code',\n",
       "       'latitude', 'longitude', 'stars', 'review_count', 'is_open',\n",
       "       'attributes', 'categories', 'hours'],\n",
       "      dtype='object')"
      ]
     },
     "execution_count": 4,
     "metadata": {},
     "output_type": "execute_result"
    }
   ],
   "source": [
    "df.columns"
   ]
  },
  {
   "cell_type": "markdown",
   "metadata": {},
   "source": [
    "We only want to look at the restaurants that are open and not closed."
   ]
  },
  {
   "cell_type": "code",
   "execution_count": 5,
   "metadata": {},
   "outputs": [],
   "source": [
    "df = df[df['is_open']==1]\n",
    "df = df.drop(['is_open'], axis=1)"
   ]
  },
  {
   "cell_type": "markdown",
   "metadata": {},
   "source": [
    "Start by select all the rows that mention restaurants."
   ]
  },
  {
   "cell_type": "code",
   "execution_count": 6,
   "metadata": {},
   "outputs": [
    {
     "data": {
      "text/plain": [
       "Restaurants                  32022\n",
       "Food                         10732\n",
       "Nightlife                     5550\n",
       "Bars                          5345\n",
       "Sandwiches                    4795\n",
       "American (Traditional)        4379\n",
       "Fast Food                     4326\n",
       "Pizza                         3890\n",
       "Breakfast & Brunch            3872\n",
       "American (New)                3254\n",
       "Burgers                       3246\n",
       "Coffee & Tea                  3010\n",
       "Mexican                       2815\n",
       "Chinese                       2329\n",
       "Italian                       2130\n",
       "Seafood                       1998\n",
       "Salad                         1975\n",
       "Event Planning & Services     1916\n",
       "Cafes                         1871\n",
       "Japanese                      1773\n",
       "Name: categories, dtype: int64"
      ]
     },
     "execution_count": 6,
     "metadata": {},
     "output_type": "execute_result"
    }
   ],
   "source": [
    "df = df[df['categories'].str.contains('Restaurants',\n",
    "              case=False, na=False)]\n",
    "\n",
    "df_explode = df.assign(categories = df.categories\n",
    "                         .str.split(', ')).explode('categories')\n",
    "\n",
    "df_explode.categories.value_counts().head(20)"
   ]
  },
  {
   "cell_type": "code",
   "execution_count": 7,
   "metadata": {},
   "outputs": [],
   "source": [
    "remove = ['Food Delivery Services','Food Safety Training', 'Food Tours', \n",
    "          'Food Banks','Chinese Martial Arts','Traditional Chinese Medicine',\n",
    "         'Coffee & Tea Supplies','Japanese Curry', 'Food Court',\n",
    "         'Food Trucks','Food Stands']\n",
    "\n",
    "df = df[~df['categories'].str.contains('|'.join(remove),\n",
    "              case=False, na=False)]"
   ]
  },
  {
   "cell_type": "markdown",
   "metadata": {},
   "source": [
    "Try to split the category column into different subgroups, so we can do some nice plotting."
   ]
  },
  {
   "cell_type": "code",
   "execution_count": 8,
   "metadata": {},
   "outputs": [],
   "source": [
    "cat_kitchens = ['thai', 'chinese','japanese','korean','indian','american',\n",
    "                 'caribbean','italian','mediterranean','mexican', 'cajun',\n",
    "                'vietnamese','greek']\n",
    "\n",
    "cat_type = ['Food','Nightlife','Bars','Sandwiches','Pizza','Breakfast & Brunch', 'Fast Food',\n",
    "            'Burgers','Salad', 'Buffet', 'Cafes','Coffee & Tea', 'Vegetarian', 'Steakhouse', 'Sushi Bars',\n",
    "            'Diners','Wine Bars']\n",
    "\n",
    "df_explode = df.assign(categories = df.categories\n",
    "                         .str.split(', ')).explode('categories')\n",
    "\n",
    "\n",
    "df_cat_kitchen = df_explode[df_explode['categories'].str.contains(\n",
    "              '|'.join(cat_kitchens),\n",
    "              case=False, na=False)]\n",
    "\n",
    "df_cat_kitchen = df_cat_kitchen.rename(columns={'categories':'cat_kitchen'})\n",
    "df_cat_kitchen = df_cat_kitchen['cat_kitchen']\n",
    "\n",
    "df_cat_type = df_explode[df_explode['categories'].str.match(\n",
    "              '|'.join(cat_type),\n",
    "              case=True, na=False)]\n",
    "\n",
    "df_cat_type = df_cat_type.rename(columns={'categories':'cat_type'})\n",
    "df_cat_type = df_cat_type['cat_type']"
   ]
  },
  {
   "cell_type": "code",
   "execution_count": 9,
   "metadata": {},
   "outputs": [
    {
     "data": {
      "text/plain": [
       "array(['American (Traditional)', 'Thai', 'American (New)', 'Italian',\n",
       "       'Indian', 'Mexican', 'Chinese', 'Caribbean', 'Japanese',\n",
       "       'Mediterranean', 'Greek', 'Vietnamese', 'Latin American',\n",
       "       'Cajun/Creole', 'Korean', 'New Mexican Cuisine'], dtype=object)"
      ]
     },
     "execution_count": 9,
     "metadata": {},
     "output_type": "execute_result"
    }
   ],
   "source": [
    "df_cat_kitchen.unique()"
   ]
  },
  {
   "cell_type": "code",
   "execution_count": 10,
   "metadata": {},
   "outputs": [
    {
     "data": {
      "text/plain": [
       "array(['Food', 'Bars', 'Nightlife', 'Salad', 'Sandwiches', 'Cafes',\n",
       "       'Vegetarian', 'Breakfast & Brunch', 'Pizza', 'Sushi Bars',\n",
       "       'Steakhouses', 'Fast Food', 'Burgers', 'Coffee & Tea', 'Diners',\n",
       "       'Buffets', 'Wine Bars'], dtype=object)"
      ]
     },
     "execution_count": 10,
     "metadata": {},
     "output_type": "execute_result"
    }
   ],
   "source": [
    "df_cat_type.unique()"
   ]
  },
  {
   "cell_type": "code",
   "execution_count": 11,
   "metadata": {},
   "outputs": [
    {
     "data": {
      "text/plain": [
       "array(['CO', 'FL', 'MA', 'OR', 'OH', 'GA', 'TX', 'BC', 'WA', 'KS', 'KY'],\n",
       "      dtype=object)"
      ]
     },
     "execution_count": 11,
     "metadata": {},
     "output_type": "execute_result"
    }
   ],
   "source": [
    "df_merge_list = [df, df_cat_kitchen, df_cat_type]\n",
    "\n",
    "df_merged = reduce(lambda  left, right: pd.merge(left,right,left_index=True,\n",
    "                                            right_index=True), df_merge_list)\n",
    "\n",
    "df_merged.shape\n",
    "\n",
    "df_merged.state.unique()"
   ]
  },
  {
   "cell_type": "markdown",
   "metadata": {},
   "source": [
    "Below is a for-loop and if-statement, this is used to insert the full name of the state. It is assumed that not all people know what state MA is. Furthermore, the latitude and longitude for each state is also inserted. These are used later to give us an overview over where we have data from."
   ]
  },
  {
   "cell_type": "code",
   "execution_count": 12,
   "metadata": {},
   "outputs": [],
   "source": [
    "name = []\n",
    "long = []\n",
    "lat = []\n",
    "for state in df_merged['state']:\n",
    "    if state =='MA':\n",
    "        name.append('Massachusetts')\n",
    "        lat.append(42.407211)\n",
    "        long.append(- 71.382439)\n",
    "    elif state =='FL':\n",
    "        name.append('Florida')\n",
    "        lat.append(27.994402)\n",
    "        long.append(-81.760254)\n",
    "    elif state =='OR':\n",
    "        name.append('Oregon')\n",
    "        lat.append(44.000000)\n",
    "        long.append(-120.500000)\n",
    "    elif state =='BC':\n",
    "        name.append('British Columbia')\n",
    "        lat.append(53.726669)\n",
    "        long.append(-127.647621)\n",
    "    elif state =='GA':\n",
    "        name.append('Georgia')\n",
    "        lat.append(33.247875)\n",
    "        long.append(-83.441162)\n",
    "    elif state =='TX':\n",
    "        name.append('Texas')\n",
    "        lat.append(31.000000)\n",
    "        long.append(-100.000000)\n",
    "    elif state =='OH':\n",
    "        name.append('Ohio')\n",
    "        lat.append(40.367474)\n",
    "        long.append(-82.996216)\n",
    "    elif state =='CO':\n",
    "        name.append('Colorado')\n",
    "        lat.append(39.113014)\n",
    "        long.append(-105.358887)\n",
    "    elif state =='WA':\n",
    "        name.append('Washington')\n",
    "        lat.append(47.751076)\n",
    "        long.append(-120.740135)\n",
    "    elif state =='KS':\n",
    "        name.append('Kansas')\n",
    "        lat.append(38.500000)\n",
    "        long.append(-98.000000)\n",
    "    elif state == 'KY':\n",
    "        name.append('Kentucky')\n",
    "        lat.append(37.839333)\n",
    "        long.append(-84.270020)\n",
    "        \n",
    "df_merged['state_name'], df_merged['latitude_state'], df_merged['longitude_state']  = name, lat, long"
   ]
  },
  {
   "cell_type": "markdown",
   "metadata": {},
   "source": [
    "Extracting some more features, e.g. pricerange on the restaurants."
   ]
  },
  {
   "cell_type": "code",
   "execution_count": 13,
   "metadata": {},
   "outputs": [
    {
     "data": {
      "text/plain": [
       "$$         17575\n",
       "$           8268\n",
       "Unknown     2625\n",
       "$$$         1223\n",
       "$$$$         145\n",
       "Name: PriceRange, dtype: int64"
      ]
     },
     "execution_count": 13,
     "metadata": {},
     "output_type": "execute_result"
    }
   ],
   "source": [
    "df_merged['attributes'] = df_merged['attributes'].apply(lambda x: {} if x is None else x)\n",
    "df_att = pd.json_normalize(df_merged.attributes)\n",
    "df_att = df_att['RestaurantsPriceRange2'].to_frame()\n",
    "\n",
    "PriceRange = []\n",
    "AvgPrice = []\n",
    "for row in df_att['RestaurantsPriceRange2']:\n",
    "    if row == '1' :    \n",
    "        PriceRange.append('$')\n",
    "        AvgPrice.append(1)\n",
    "    elif row == '2':   \n",
    "        PriceRange.append('$$')\n",
    "        AvgPrice.append(20)\n",
    "    elif row == '3':  \n",
    "        PriceRange.append('$$$')\n",
    "        AvgPrice.append(45)\n",
    "    elif row == '4':  \n",
    "        PriceRange.append('$$$$')\n",
    "        AvgPrice.append(75)\n",
    "    else:           \n",
    "        PriceRange.append('Unknown')\n",
    "        AvgPrice.append(0)\n",
    "        \n",
    "df_merged['PriceRange'], df_merged['AvgPrice'] = PriceRange, AvgPrice\n",
    "df_merged.shape\n",
    "\n",
    "df_merged['PriceRange'].value_counts()"
   ]
  },
  {
   "cell_type": "markdown",
   "metadata": {},
   "source": [
    "### 2.1.2. Load Massive dataset\n",
    "\n",
    "**Review dataset**"
   ]
  },
  {
   "cell_type": "code",
   "execution_count": 14,
   "metadata": {},
   "outputs": [],
   "source": [
    "size = 500000\n",
    "review = pd.read_json('yelp_academic_dataset_review.json', lines=True,\n",
    "                      dtype={'review_id':str,'user_id':str,\n",
    "                             'business_id':str,'stars':int,\n",
    "                             'date':str,'text':str,'useful':int,\n",
    "                             'funny':int,'cool':int},\n",
    "                      chunksize=size)"
   ]
  },
  {
   "cell_type": "code",
   "execution_count": 15,
   "metadata": {},
   "outputs": [
    {
     "name": "stdout",
     "output_type": "stream",
     "text": [
      "416263 out of 500,000 related reviews\n",
      "384085 out of 500,000 related reviews\n",
      "371677 out of 500,000 related reviews\n",
      "358510 out of 500,000 related reviews\n",
      "349565 out of 500,000 related reviews\n",
      "356785 out of 500,000 related reviews\n",
      "353610 out of 500,000 related reviews\n",
      "407361 out of 500,000 related reviews\n",
      "371185 out of 500,000 related reviews\n",
      "362734 out of 500,000 related reviews\n",
      "361974 out of 500,000 related reviews\n",
      "362709 out of 500,000 related reviews\n",
      "388455 out of 500,000 related reviews\n",
      "373812 out of 500,000 related reviews\n",
      "414622 out of 500,000 related reviews\n",
      "414618 out of 500,000 related reviews\n",
      "433111 out of 500,000 related reviews\n",
      "107384 out of 500,000 related reviews\n"
     ]
    },
    {
     "data": {
      "text/plain": [
       "(6588460, 24)"
      ]
     },
     "execution_count": 15,
     "metadata": {},
     "output_type": "execute_result"
    }
   ],
   "source": [
    "# There are multiple chunks to be read\n",
    "chunk_list = []\n",
    "for chunk_review in review:\n",
    "    # Drop columns that aren't needed\n",
    "    chunk_review = chunk_review.drop(['review_id','useful','funny','cool'], axis=1)\n",
    "    # Renaming column name to avoid conflict with business overall star rating\n",
    "    chunk_review = chunk_review.rename(columns={'stars': 'review_stars'})\n",
    "    # Inner merge with edited business file so only reviews related to the business remain\n",
    "    chunk_merged = pd.merge(df_merged, chunk_review, on='business_id', how='inner')\n",
    "    # Show feedback on progress\n",
    "    print(f\"{chunk_merged.shape[0]} out of {size:,} related reviews\")\n",
    "    chunk_list.append(chunk_merged)\n",
    "# After trimming down the review file, concatenate all relevant data back to one dataframe\n",
    "df = pd.concat(chunk_list, ignore_index=True, join='outer', axis=0)\n",
    "\n",
    "df.shape"
   ]
  },
  {
   "cell_type": "markdown",
   "metadata": {},
   "source": [
    "**User Id dataset**"
   ]
  },
  {
   "cell_type": "code",
   "execution_count": 16,
   "metadata": {},
   "outputs": [],
   "source": [
    "size = 500000\n",
    "review = pd.read_json('yelp_academic_dataset_user.json', lines=True,\n",
    "                      dtype={'user_id':str,'name':str,\n",
    "                             'review_count':int},\n",
    "                      chunksize=size)"
   ]
  },
  {
   "cell_type": "code",
   "execution_count": 17,
   "metadata": {},
   "outputs": [
    {
     "name": "stdout",
     "output_type": "stream",
     "text": [
      "4073724 out of 500,000 related reviews\n",
      "1175245 out of 500,000 related reviews\n",
      "689031 out of 500,000 related reviews\n",
      "486388 out of 500,000 related reviews\n",
      "164072 out of 500,000 related reviews\n"
     ]
    },
    {
     "data": {
      "text/plain": [
       "Index(['business_id', 'name', 'address', 'city', 'state', 'postal_code',\n",
       "       'latitude', 'longitude', 'stars', 'review_count', 'attributes',\n",
       "       'categories', 'hours', 'cat_kitchen', 'cat_type', 'state_name',\n",
       "       'latitude_state', 'longitude_state', 'PriceRange', 'AvgPrice',\n",
       "       'user_id', 'review_stars', 'text', 'date', 'username', 'user_count',\n",
       "       'average_stars'],\n",
       "      dtype='object')"
      ]
     },
     "execution_count": 17,
     "metadata": {},
     "output_type": "execute_result"
    }
   ],
   "source": [
    "# There are multiple chunks to be read\n",
    "chunk_list = []\n",
    "for chunk_review in review:\n",
    "    # Drop columns that aren't needed\n",
    "    chunk_review = chunk_review.drop(['useful','elite','funny','cool','friends','yelping_since',\n",
    "                                      'fans','compliment_more','compliment_profile','compliment_hot',\n",
    "                                      'compliment_more', 'compliment_profile', 'compliment_cute',\n",
    "                                      'compliment_list', 'compliment_note', 'compliment_plain',\n",
    "                                      'compliment_cool', 'compliment_funny', 'compliment_writer',\n",
    "                                      'compliment_photos'], axis=1)\n",
    "    # Renaming column name to avoid conflict with business overall star rating\n",
    "    chunk_review = chunk_review.rename(columns={'name': 'username','review_count':'user_count'})\n",
    "    # Inner merge with edited business file so only reviews related to the business remain\n",
    "    chunk_merged = pd.merge(df, chunk_review, on='user_id', how='inner')\n",
    "    # Show feedback on progress\n",
    "    print(f\"{chunk_merged.shape[0]} out of {size:,} related reviews\")\n",
    "    chunk_list.append(chunk_merged)\n",
    "# After trimming down the review file, concatenate all relevant data back to one dataframe\n",
    "df = pd.concat(chunk_list, ignore_index=True, join='outer', axis=0)\n",
    "\n",
    "df.shape\n",
    "\n",
    "df.columns"
   ]
  },
  {
   "cell_type": "markdown",
   "metadata": {},
   "source": [
    "### 2.1.3. Specify time period\n",
    "\n",
    "Remember that the time period in this explainer notebook only considers data from 2019 and onwards. "
   ]
  },
  {
   "cell_type": "code",
   "execution_count": 18,
   "metadata": {},
   "outputs": [
    {
     "name": "stdout",
     "output_type": "stream",
     "text": [
      "2004-10-14 02:57:52\n",
      "2021-01-28 15:23:52\n"
     ]
    }
   ],
   "source": [
    "print (df.date.min())\n",
    "print (df.date.max())"
   ]
  },
  {
   "cell_type": "code",
   "execution_count": 19,
   "metadata": {},
   "outputs": [
    {
     "name": "stdout",
     "output_type": "stream",
     "text": [
      "object\n",
      "datetime64[ns]\n"
     ]
    }
   ],
   "source": [
    "print(df.date.dtypes)\n",
    "df['date'] = pd.to_datetime(df['date'])\n",
    "print(df.date.dtypes)"
   ]
  },
  {
   "cell_type": "code",
   "execution_count": 20,
   "metadata": {},
   "outputs": [],
   "source": [
    "time_start = pd.Timestamp(2019,1,1)\n",
    "\n",
    "#Filter the data\n",
    "df = df[(df['date']>= time_start)]"
   ]
  },
  {
   "cell_type": "code",
   "execution_count": 21,
   "metadata": {},
   "outputs": [
    {
     "name": "stdout",
     "output_type": "stream",
     "text": [
      "2019-01-01 00:00:09\n",
      "2021-01-28 15:23:52\n",
      "(1427833, 27)\n"
     ]
    }
   ],
   "source": [
    "print (df.date.min())\n",
    "print (df.date.max())\n",
    "print(df.shape)"
   ]
  },
  {
   "cell_type": "markdown",
   "metadata": {},
   "source": [
    "## 2.2 Basic Statistics"
   ]
  },
  {
   "cell_type": "code",
   "execution_count": 22,
   "metadata": {},
   "outputs": [
    {
     "name": "stdout",
     "output_type": "stream",
     "text": [
      "Timeperiod of the dataset\n",
      "2019-01-01 00:00:09\n",
      "2021-01-28 15:23:52\n"
     ]
    }
   ],
   "source": [
    "print('Timeperiod of the dataset')\n",
    "print (df.date.min())\n",
    "print (df.date.max())"
   ]
  },
  {
   "cell_type": "code",
   "execution_count": 23,
   "metadata": {},
   "outputs": [
    {
     "data": {
      "text/html": [
       "<div>\n",
       "<style scoped>\n",
       "    .dataframe tbody tr th:only-of-type {\n",
       "        vertical-align: middle;\n",
       "    }\n",
       "\n",
       "    .dataframe tbody tr th {\n",
       "        vertical-align: top;\n",
       "    }\n",
       "\n",
       "    .dataframe thead th {\n",
       "        text-align: right;\n",
       "    }\n",
       "</style>\n",
       "<table border=\"1\" class=\"dataframe\">\n",
       "  <thead>\n",
       "    <tr style=\"text-align: right;\">\n",
       "      <th></th>\n",
       "      <th>business_id</th>\n",
       "      <th>name</th>\n",
       "      <th>address</th>\n",
       "      <th>city</th>\n",
       "      <th>state</th>\n",
       "      <th>postal_code</th>\n",
       "      <th>latitude</th>\n",
       "      <th>longitude</th>\n",
       "      <th>stars</th>\n",
       "      <th>review_count</th>\n",
       "      <th>...</th>\n",
       "      <th>longitude_state</th>\n",
       "      <th>PriceRange</th>\n",
       "      <th>AvgPrice</th>\n",
       "      <th>user_id</th>\n",
       "      <th>review_stars</th>\n",
       "      <th>text</th>\n",
       "      <th>date</th>\n",
       "      <th>username</th>\n",
       "      <th>user_count</th>\n",
       "      <th>average_stars</th>\n",
       "    </tr>\n",
       "  </thead>\n",
       "  <tbody>\n",
       "    <tr>\n",
       "      <th>15</th>\n",
       "      <td>7bioKzHBPPRdM7-jJQAwkg</td>\n",
       "      <td>Cafe Aion</td>\n",
       "      <td>1235 Pennsylvania Ave</td>\n",
       "      <td>Boulder</td>\n",
       "      <td>CO</td>\n",
       "      <td>80302</td>\n",
       "      <td>40.008789</td>\n",
       "      <td>-105.276503</td>\n",
       "      <td>3.5</td>\n",
       "      <td>144</td>\n",
       "      <td>...</td>\n",
       "      <td>-105.358887</td>\n",
       "      <td>$$</td>\n",
       "      <td>20</td>\n",
       "      <td>eXRC79iX60xwA1UuGRuWNg</td>\n",
       "      <td>4</td>\n",
       "      <td>Best paella I have enjoyed in a long time on a...</td>\n",
       "      <td>2019-09-16 19:26:44</td>\n",
       "      <td>Daniel</td>\n",
       "      <td>376</td>\n",
       "      <td>4.29</td>\n",
       "    </tr>\n",
       "    <tr>\n",
       "      <th>16</th>\n",
       "      <td>7bioKzHBPPRdM7-jJQAwkg</td>\n",
       "      <td>Cafe Aion</td>\n",
       "      <td>1235 Pennsylvania Ave</td>\n",
       "      <td>Boulder</td>\n",
       "      <td>CO</td>\n",
       "      <td>80302</td>\n",
       "      <td>40.008789</td>\n",
       "      <td>-105.276503</td>\n",
       "      <td>3.5</td>\n",
       "      <td>144</td>\n",
       "      <td>...</td>\n",
       "      <td>-105.358887</td>\n",
       "      <td>$$</td>\n",
       "      <td>20</td>\n",
       "      <td>eXRC79iX60xwA1UuGRuWNg</td>\n",
       "      <td>4</td>\n",
       "      <td>Best paella I have enjoyed in a long time on a...</td>\n",
       "      <td>2019-09-16 19:26:44</td>\n",
       "      <td>Daniel</td>\n",
       "      <td>376</td>\n",
       "      <td>4.29</td>\n",
       "    </tr>\n",
       "    <tr>\n",
       "      <th>17</th>\n",
       "      <td>7bioKzHBPPRdM7-jJQAwkg</td>\n",
       "      <td>Cafe Aion</td>\n",
       "      <td>1235 Pennsylvania Ave</td>\n",
       "      <td>Boulder</td>\n",
       "      <td>CO</td>\n",
       "      <td>80302</td>\n",
       "      <td>40.008789</td>\n",
       "      <td>-105.276503</td>\n",
       "      <td>3.5</td>\n",
       "      <td>144</td>\n",
       "      <td>...</td>\n",
       "      <td>-105.358887</td>\n",
       "      <td>$$</td>\n",
       "      <td>20</td>\n",
       "      <td>eXRC79iX60xwA1UuGRuWNg</td>\n",
       "      <td>4</td>\n",
       "      <td>Best paella I have enjoyed in a long time on a...</td>\n",
       "      <td>2019-09-16 19:26:44</td>\n",
       "      <td>Daniel</td>\n",
       "      <td>376</td>\n",
       "      <td>4.29</td>\n",
       "    </tr>\n",
       "  </tbody>\n",
       "</table>\n",
       "<p>3 rows × 27 columns</p>\n",
       "</div>"
      ],
      "text/plain": [
       "               business_id       name                address     city state  \\\n",
       "15  7bioKzHBPPRdM7-jJQAwkg  Cafe Aion  1235 Pennsylvania Ave  Boulder    CO   \n",
       "16  7bioKzHBPPRdM7-jJQAwkg  Cafe Aion  1235 Pennsylvania Ave  Boulder    CO   \n",
       "17  7bioKzHBPPRdM7-jJQAwkg  Cafe Aion  1235 Pennsylvania Ave  Boulder    CO   \n",
       "\n",
       "   postal_code   latitude   longitude  stars  review_count  ...  \\\n",
       "15       80302  40.008789 -105.276503    3.5           144  ...   \n",
       "16       80302  40.008789 -105.276503    3.5           144  ...   \n",
       "17       80302  40.008789 -105.276503    3.5           144  ...   \n",
       "\n",
       "   longitude_state PriceRange AvgPrice                 user_id review_stars  \\\n",
       "15     -105.358887         $$       20  eXRC79iX60xwA1UuGRuWNg            4   \n",
       "16     -105.358887         $$       20  eXRC79iX60xwA1UuGRuWNg            4   \n",
       "17     -105.358887         $$       20  eXRC79iX60xwA1UuGRuWNg            4   \n",
       "\n",
       "                                                 text                date  \\\n",
       "15  Best paella I have enjoyed in a long time on a... 2019-09-16 19:26:44   \n",
       "16  Best paella I have enjoyed in a long time on a... 2019-09-16 19:26:44   \n",
       "17  Best paella I have enjoyed in a long time on a... 2019-09-16 19:26:44   \n",
       "\n",
       "    username user_count  average_stars  \n",
       "15    Daniel        376           4.29  \n",
       "16    Daniel        376           4.29  \n",
       "17    Daniel        376           4.29  \n",
       "\n",
       "[3 rows x 27 columns]"
      ]
     },
     "execution_count": 23,
     "metadata": {},
     "output_type": "execute_result"
    }
   ],
   "source": [
    "df.head(3)"
   ]
  },
  {
   "cell_type": "markdown",
   "metadata": {},
   "source": [
    "Start by checking NaN values"
   ]
  },
  {
   "cell_type": "code",
   "execution_count": 24,
   "metadata": {},
   "outputs": [
    {
     "name": "stdout",
     "output_type": "stream",
     "text": [
      "Any missing values: 13490\n"
     ]
    }
   ],
   "source": [
    "print('Any missing values:', df.isnull().sum().sum())"
   ]
  },
  {
   "cell_type": "markdown",
   "metadata": {},
   "source": [
    "From further analysis, the missing values were in the columns: `hours`,`address` and `username`. Since these are not being used, these can be dropped."
   ]
  },
  {
   "cell_type": "code",
   "execution_count": 25,
   "metadata": {},
   "outputs": [
    {
     "name": "stdout",
     "output_type": "stream",
     "text": [
      "Any missing values: 0\n"
     ]
    }
   ],
   "source": [
    "df = df.drop(['hours','address', 'username'],axis=1) \n",
    "print('Any missing values:', df.isnull().sum().sum())"
   ]
  },
  {
   "cell_type": "markdown",
   "metadata": {},
   "source": [
    "Checking the top categories in different columns"
   ]
  },
  {
   "cell_type": "code",
   "execution_count": 26,
   "metadata": {},
   "outputs": [
    {
     "name": "stdout",
     "output_type": "stream",
     "text": [
      "Top categories in the dataset\n",
      "Restaurants               474516\n",
      "Nightlife                 215142\n",
      "Bars                      210543\n",
      "American (Traditional)    151234\n",
      "Food                      145887\n",
      "American (New)            142120\n",
      "Breakfast & Brunch        103777\n",
      "Cocktail Bars              67327\n",
      "Italian                    60927\n",
      "Seafood                    56583\n",
      "Name: categories, dtype: int64\n",
      "Checking that all rows have the value *Restaurant*: (474516, 24)\n"
     ]
    }
   ],
   "source": [
    "#exploding the dataframe so the categories column is not a list type\n",
    "df_duplicates = df.drop_duplicates(subset=['name','date'])\n",
    "df_explode = df_duplicates.assign(categories = df_duplicates['categories'].str.split(', ')).explode('categories')\n",
    "\n",
    "print('Top categories in the dataset')\n",
    "print(df_explode['categories'].value_counts().head(10))\n",
    "print('Checking that all rows have the value *Restaurant*:', df_duplicates.shape)"
   ]
  },
  {
   "cell_type": "markdown",
   "metadata": {},
   "source": [
    "Making sure that all rows have restaurants in their cateogy, which is true. "
   ]
  },
  {
   "cell_type": "code",
   "execution_count": 27,
   "metadata": {},
   "outputs": [
    {
     "name": "stdout",
     "output_type": "stream",
     "text": [
      "Top categories in the dataset based on our own variables\n",
      "American (New)            402680\n",
      "American (Traditional)    401768\n",
      "Italian                   145842\n",
      "Mexican                   115041\n",
      "Japanese                   92693\n",
      "Mediterranean              38533\n",
      "Latin American             37376\n",
      "Chinese                    34799\n",
      "Thai                       33531\n",
      "Vietnamese                 27448\n",
      "Name: cat_kitchen, dtype: int64\n"
     ]
    }
   ],
   "source": [
    "print('Top categories in the dataset based on our own variables')\n",
    "print(df['cat_kitchen'].value_counts().head(10))"
   ]
  },
  {
   "cell_type": "code",
   "execution_count": 28,
   "metadata": {},
   "outputs": [
    {
     "name": "stdout",
     "output_type": "stream",
     "text": [
      "Top categories in the dataset based on our own variables\n",
      "Nightlife             278677\n",
      "Bars                  272804\n",
      "Food                  187643\n",
      "Breakfast & Brunch    139675\n",
      "Sandwiches             71084\n",
      "Burgers                64662\n",
      "Sushi Bars             57982\n",
      "Pizza                  56752\n",
      "Salad                  50463\n",
      "Wine Bars              40405\n",
      "Name: cat_type, dtype: int64\n"
     ]
    }
   ],
   "source": [
    "print('Top categories in the dataset based on our own variables')\n",
    "print(df['cat_type'].value_counts().head(10))"
   ]
  },
  {
   "cell_type": "code",
   "execution_count": 29,
   "metadata": {},
   "outputs": [
    {
     "name": "stdout",
     "output_type": "stream",
     "text": [
      "Count of the different price ranges\n",
      "$$         1067612\n",
      "$           180525\n",
      "$$$          98665\n",
      "Unknown      72023\n",
      "$$$$          9008\n",
      "Name: PriceRange, dtype: int64\n"
     ]
    }
   ],
   "source": [
    "print('Count of the different price ranges')\n",
    "print(df['PriceRange'].value_counts())"
   ]
  },
  {
   "cell_type": "markdown",
   "metadata": {},
   "source": [
    "Some descriptive statisics for the different variables"
   ]
  },
  {
   "cell_type": "code",
   "execution_count": 30,
   "metadata": {},
   "outputs": [
    {
     "data": {
      "text/html": [
       "<div>\n",
       "<style scoped>\n",
       "    .dataframe tbody tr th:only-of-type {\n",
       "        vertical-align: middle;\n",
       "    }\n",
       "\n",
       "    .dataframe tbody tr th {\n",
       "        vertical-align: top;\n",
       "    }\n",
       "\n",
       "    .dataframe thead th {\n",
       "        text-align: right;\n",
       "    }\n",
       "</style>\n",
       "<table border=\"1\" class=\"dataframe\">\n",
       "  <thead>\n",
       "    <tr style=\"text-align: right;\">\n",
       "      <th></th>\n",
       "      <th>name</th>\n",
       "      <th>city</th>\n",
       "      <th>state</th>\n",
       "      <th>cat_kitchen</th>\n",
       "      <th>cat_type</th>\n",
       "      <th>PriceRange</th>\n",
       "    </tr>\n",
       "  </thead>\n",
       "  <tbody>\n",
       "    <tr>\n",
       "      <th>count</th>\n",
       "      <td>1427833</td>\n",
       "      <td>1427833</td>\n",
       "      <td>1427833</td>\n",
       "      <td>1427833</td>\n",
       "      <td>1427833</td>\n",
       "      <td>1427833</td>\n",
       "    </tr>\n",
       "    <tr>\n",
       "      <th>unique</th>\n",
       "      <td>8552</td>\n",
       "      <td>302</td>\n",
       "      <td>11</td>\n",
       "      <td>16</td>\n",
       "      <td>17</td>\n",
       "      <td>5</td>\n",
       "    </tr>\n",
       "    <tr>\n",
       "      <th>top</th>\n",
       "      <td>Café Tu Tu Tango</td>\n",
       "      <td>Austin</td>\n",
       "      <td>FL</td>\n",
       "      <td>American (New)</td>\n",
       "      <td>Nightlife</td>\n",
       "      <td>$$</td>\n",
       "    </tr>\n",
       "    <tr>\n",
       "      <th>freq</th>\n",
       "      <td>14940</td>\n",
       "      <td>206986</td>\n",
       "      <td>314503</td>\n",
       "      <td>402680</td>\n",
       "      <td>278677</td>\n",
       "      <td>1067612</td>\n",
       "    </tr>\n",
       "  </tbody>\n",
       "</table>\n",
       "</div>"
      ],
      "text/plain": [
       "                    name     city    state     cat_kitchen   cat_type  \\\n",
       "count            1427833  1427833  1427833         1427833    1427833   \n",
       "unique              8552      302       11              16         17   \n",
       "top     Café Tu Tu Tango   Austin       FL  American (New)  Nightlife   \n",
       "freq               14940   206986   314503          402680     278677   \n",
       "\n",
       "       PriceRange  \n",
       "count     1427833  \n",
       "unique          5  \n",
       "top            $$  \n",
       "freq      1067612  "
      ]
     },
     "execution_count": 30,
     "metadata": {},
     "output_type": "execute_result"
    }
   ],
   "source": [
    "variables = ['name','city','state','cat_kitchen','cat_type','PriceRange']\n",
    "df[variables].describe()"
   ]
  },
  {
   "cell_type": "markdown",
   "metadata": {},
   "source": [
    "So there are 11 unique states in the dataset and 302 unique cities."
   ]
  },
  {
   "cell_type": "code",
   "execution_count": 31,
   "metadata": {},
   "outputs": [
    {
     "data": {
      "text/html": [
       "<div>\n",
       "<style scoped>\n",
       "    .dataframe tbody tr th:only-of-type {\n",
       "        vertical-align: middle;\n",
       "    }\n",
       "\n",
       "    .dataframe tbody tr th {\n",
       "        vertical-align: top;\n",
       "    }\n",
       "\n",
       "    .dataframe thead th {\n",
       "        text-align: right;\n",
       "    }\n",
       "</style>\n",
       "<table border=\"1\" class=\"dataframe\">\n",
       "  <thead>\n",
       "    <tr style=\"text-align: right;\">\n",
       "      <th></th>\n",
       "      <th>stars</th>\n",
       "      <th>AvgPrice</th>\n",
       "    </tr>\n",
       "  </thead>\n",
       "  <tbody>\n",
       "    <tr>\n",
       "      <th>count</th>\n",
       "      <td>1427833.00</td>\n",
       "      <td>1427833.00</td>\n",
       "    </tr>\n",
       "    <tr>\n",
       "      <th>mean</th>\n",
       "      <td>3.85</td>\n",
       "      <td>18.66</td>\n",
       "    </tr>\n",
       "    <tr>\n",
       "      <th>std</th>\n",
       "      <td>0.58</td>\n",
       "      <td>11.24</td>\n",
       "    </tr>\n",
       "    <tr>\n",
       "      <th>min</th>\n",
       "      <td>1.00</td>\n",
       "      <td>0.00</td>\n",
       "    </tr>\n",
       "    <tr>\n",
       "      <th>25%</th>\n",
       "      <td>3.50</td>\n",
       "      <td>20.00</td>\n",
       "    </tr>\n",
       "    <tr>\n",
       "      <th>50%</th>\n",
       "      <td>4.00</td>\n",
       "      <td>20.00</td>\n",
       "    </tr>\n",
       "    <tr>\n",
       "      <th>75%</th>\n",
       "      <td>4.00</td>\n",
       "      <td>20.00</td>\n",
       "    </tr>\n",
       "    <tr>\n",
       "      <th>max</th>\n",
       "      <td>5.00</td>\n",
       "      <td>75.00</td>\n",
       "    </tr>\n",
       "  </tbody>\n",
       "</table>\n",
       "</div>"
      ],
      "text/plain": [
       "            stars    AvgPrice\n",
       "count  1427833.00  1427833.00\n",
       "mean         3.85       18.66\n",
       "std          0.58       11.24\n",
       "min          1.00        0.00\n",
       "25%          3.50       20.00\n",
       "50%          4.00       20.00\n",
       "75%          4.00       20.00\n",
       "max          5.00       75.00"
      ]
     },
     "execution_count": 31,
     "metadata": {},
     "output_type": "execute_result"
    }
   ],
   "source": [
    "variables = ['stars', 'AvgPrice']\n",
    "round(df[variables].describe(),2)"
   ]
  },
  {
   "cell_type": "code",
   "execution_count": 32,
   "metadata": {},
   "outputs": [
    {
     "name": "stderr",
     "output_type": "stream",
     "text": [
      "/anaconda3/lib/python3.7/site-packages/seaborn/_decorators.py:43: FutureWarning: Pass the following variable as a keyword arg: x. From version 0.12, the only valid positional argument will be `data`, and passing other arguments without an explicit keyword will result in an error or misinterpretation.\n",
      "  FutureWarning\n"
     ]
    },
    {
     "data": {
      "image/png": "[encoded data removed]",
      "text/plain": [
       "<Figure size 720x360 with 1 Axes>"
      ]
     },
     "metadata": {
      "needs_background": "light"
     },
     "output_type": "display_data"
    }
   ],
   "source": [
    "fig = plt.figure(figsize=(10, 5))\n",
    "sns.boxplot(df['stars'], color='#2b8cbe', saturation=0.5)\n",
    "plt.tight_layout(h_pad=2)"
   ]
  },
  {
   "cell_type": "code",
   "execution_count": 33,
   "metadata": {},
   "outputs": [
    {
     "data": {
      "image/png": "[encoded data removed]",
      "text/plain": [
       "<Figure size 720x360 with 1 Axes>"
      ]
     },
     "metadata": {
      "needs_background": "light"
     },
     "output_type": "display_data"
    }
   ],
   "source": [
    "fig = plt.figure(figsize=(10,5))\n",
    "selected = ['stars']\n",
    "plt.title('Stars')\n",
    "sns.boxplot(x='state_name', y='stars', data=df, palette='YlGnBu', saturation=0.5)\n",
    "plt.xticks(rotation=90)\n",
    "plt.tight_layout(h_pad=2)"
   ]
  },
  {
   "cell_type": "code",
   "execution_count": 34,
   "metadata": {},
   "outputs": [
    {
     "data": {
      "text/plain": [
       "<seaborn.axisgrid.FacetGrid at 0x1c5db9090>"
      ]
     },
     "execution_count": 34,
     "metadata": {},
     "output_type": "execute_result"
    },
    {
     "data": {
      "image/png": "[encoded data removed]",
      "text/plain": [
       "<Figure size 1080x1440 with 11 Axes>"
      ]
     },
     "metadata": {
      "needs_background": "light"
     },
     "output_type": "display_data"
    }
   ],
   "source": [
    "g = sns.FacetGrid(df, col=\"state_name\", height=5, col_wrap=3)\n",
    "g.map(sns.histplot, \"stars\")"
   ]
  },
  {
   "cell_type": "code",
   "execution_count": 35,
   "metadata": {},
   "outputs": [
    {
     "data": {
      "text/plain": [
       "<seaborn.axisgrid.FacetGrid at 0x1d657b150>"
      ]
     },
     "execution_count": 35,
     "metadata": {},
     "output_type": "execute_result"
    },
    {
     "data": {
      "image/png": "[encoded data removed]",
      "text/plain": [
       "<Figure size 1080x1440 with 11 Axes>"
      ]
     },
     "metadata": {
      "needs_background": "light"
     },
     "output_type": "display_data"
    }
   ],
   "source": [
    "g = sns.FacetGrid(df, col=\"state_name\", height=5, col_wrap=3)\n",
    "g.map(sns.histplot, \"AvgPrice\")"
   ]
  },
  {
   "cell_type": "code",
   "execution_count": 36,
   "metadata": {},
   "outputs": [
    {
     "data": {
      "text/plain": [
       "<seaborn.axisgrid.FacetGrid at 0x149faa290>"
      ]
     },
     "execution_count": 36,
     "metadata": {},
     "output_type": "execute_result"
    },
    {
     "data": {
      "image/png": "[encoded data removed]",
      "text/plain": [
       "<Figure size 700x864 with 11 Axes>"
      ]
     },
     "metadata": {
      "needs_background": "light"
     },
     "output_type": "display_data"
    }
   ],
   "source": [
    "df['date'] = pd.to_datetime(df['date'])\n",
    "df['year'] = df['date'].dt.year\n",
    "\n",
    "year_stars = df.groupby(['year','stars','state_name'])\\\n",
    "            .agg({'business_id':'count'}).rename({'business_id' : 'count'},axis=1)\\\n",
    "                    .reset_index()\n",
    "year_stars.head()\n",
    "\n",
    "g = sns.FacetGrid(year_stars, col=\"state_name\",col_wrap=3)\n",
    "g.map_dataframe(sns.scatterplot, x=\"year\", y=\"count\", hue='stars')\n",
    "g.set_axis_labels(\"Year\", \"Count\")\n",
    "g.add_legend()"
   ]
  },
  {
   "cell_type": "code",
   "execution_count": 37,
   "metadata": {},
   "outputs": [],
   "source": [
    "PriceRange = []\n",
    "for row in df['AvgPrice']:\n",
    "    if row ==  1 :    \n",
    "        PriceRange.append('\\$')\n",
    "    elif row == 20:   \n",
    "        PriceRange.append('\\$\\$')\n",
    "    elif row == 45:  \n",
    "        PriceRange.append('\\$\\$\\$')\n",
    "    elif row == 75:  \n",
    "        PriceRange.append('\\$\\$\\$\\$')\n",
    "    else:           \n",
    "        PriceRange.append('Unknown')\n",
    "        \n",
    "df['price_range'] = PriceRange"
   ]
  },
  {
   "cell_type": "code",
   "execution_count": 38,
   "metadata": {},
   "outputs": [
    {
     "data": {
      "text/plain": [
       "<seaborn.axisgrid.FacetGrid at 0x1495ae0d0>"
      ]
     },
     "execution_count": 38,
     "metadata": {},
     "output_type": "execute_result"
    },
    {
     "data": {
      "image/png": "[encoded data removed]",
      "text/plain": [
       "<Figure size 730.375x864 with 11 Axes>"
      ]
     },
     "metadata": {
      "needs_background": "light"
     },
     "output_type": "display_data"
    }
   ],
   "source": [
    "year_stars = df.groupby(['year','price_range','state_name'])\\\n",
    "            .agg({'business_id':'count'}).rename({'business_id' : 'count'},axis=1)\\\n",
    "                    .reset_index()\n",
    "\n",
    "year_stars.head()\n",
    "\n",
    "\n",
    "g = sns.FacetGrid(year_stars, col=\"state_name\",col_wrap=3)\n",
    "g.map_dataframe(sns.scatterplot, x=\"year\", y=\"count\", hue='price_range')\n",
    "g.set_axis_labels(\"Year\", \"Count\")\n",
    "g.add_legend()"
   ]
  },
  {
   "cell_type": "markdown",
   "metadata": {},
   "source": [
    "## 3. Exploratory Data Analysis\n",
    "\n",
    "Before you get into the root cause analysis of this project, an exploratory data analysis is presented, which will give you an overview of different metrics used. The first section will give you a brief introduction to where the states, how many restaurants, but also present how many there are under the two self-made categories, namely kitchen and type. The next section will give an overview of how the stars are distributed on state, kitchen and type. The last section will dig deeper into the time-based metric. Here it will be presented what time of the day most reviews are done based on the three categories, state, kitchen and type. There will also be presented a map of Austin, TX for the year 2020, where it is possible to see the development of reviews per week throughout the year.\n",
    "\n",
    "### 3.1. General Overview of the data\n",
    "\n",
    "This section will build your fundamental understanding of the dataset considered throughout this website. The figure below illustrates a world map of North America, where the light blue illustrates which states the data is covering. You can hover over the light blue circle to see how many restaurants there is in each state. The state where there is the most restaurant is Massachusetts and the states where are are the fewest is Kansas and Kentucky. From this map it is also possible to see that the dataset only covers one state in Canada, British Columnbia.\n",
    "\n",
    "Starting out by illustrating the different states and how many restaurants there are in each state."
   ]
  },
  {
   "cell_type": "code",
   "execution_count": 39,
   "metadata": {},
   "outputs": [
    {
     "data": {
      "text/plain": [
       "(8995, 26)"
      ]
     },
     "execution_count": 39,
     "metadata": {},
     "output_type": "execute_result"
    }
   ],
   "source": [
    "restaurants = df.drop_duplicates(subset=['name','state'])\n",
    "restaurant_ = restaurants.groupby(['state_name', 'latitude_state', 'longitude_state']).size().reset_index(name='Counts').sort_values(by='Counts',ascending=False)\n",
    "restaurants.shape"
   ]
  },
  {
   "cell_type": "markdown",
   "metadata": {},
   "source": [
    "Below it used to define the sizes of the circle on our world map. The function is forcing the count values to be between 15 and 50. This is done, because in some states there are above 1000 of restaurants, hence why the circle will fill the whole plot without seeing the map. "
   ]
  },
  {
   "cell_type": "code",
   "execution_count": 40,
   "metadata": {},
   "outputs": [],
   "source": [
    "r_max = max(restaurant_['Counts'])\n",
    "r_min = min(restaurant_['Counts'])\n",
    "t_min = 15\n",
    "t_max = 50\n",
    "\n",
    "restaurant_['Size'] = (restaurant_['Counts'] - r_min)/(r_max - r_min) * (t_max - t_min) + t_min"
   ]
  },
  {
   "cell_type": "markdown",
   "metadata": {},
   "source": [
    "To do a world map with the Bokeh application, one should rescale the longitude and latitude. This is done with the function `x_coord(x,y)`. "
   ]
  },
  {
   "cell_type": "code",
   "execution_count": 41,
   "metadata": {},
   "outputs": [],
   "source": [
    "# Define function to switch from lat/long to mercator coordinates\n",
    "def x_coord(x, y):\n",
    "    \n",
    "    lat = x\n",
    "    lon = y\n",
    "    \n",
    "    r_major = 6378137.000\n",
    "    x = r_major * np.radians(lon)\n",
    "    scale = x/lon\n",
    "    y = 180.0/np.pi * np.log(np.tan(np.pi/4.0 + \n",
    "        lat * (np.pi/180.0)/2.0)) * scale\n",
    "    return (x, y)\n",
    "\n",
    "# Define coord as tuple (lat,long)\n",
    "restaurants_copy = restaurant_.copy()\n",
    "restaurants_copy['coordinates'] = list(zip(restaurants_copy['latitude_state'], restaurants_copy['longitude_state']))\n",
    "# Obtain list of mercator coordinates\n",
    "mercators = [x_coord(x, y) for x, y in restaurants_copy['coordinates']]\n",
    "\n",
    "# Create mercator column in our df\n",
    "restaurants_copy['mercator'] = mercators\n",
    "# Split that column out into two separate columns - mercator_x and mercator_y\n",
    "restaurants_copy[['mercator_x', 'mercator_y']] = restaurants_copy['mercator'].apply(pd.Series)"
   ]
  },
  {
   "cell_type": "markdown",
   "metadata": {},
   "source": [
    "Below is the map configured, where the tile is of the plot is also chosen. Here a hover tool is made, where state name and counts of restaurants are presented when the user is hovering over the different cities on the map. "
   ]
  },
  {
   "cell_type": "code",
   "execution_count": 42,
   "metadata": {},
   "outputs": [
    {
     "data": {
      "text/html": [
       "\n",
       "\n",
       "\n",
       "\n",
       "\n",
       "\n",
       "  <div class=\"bk-root\" id=\"a8799505-7006-465a-9e68-f9f32a15ecdc\" data-root-id=\"1004\"></div>\n"
      ]
     },
     "metadata": {},
     "output_type": "display_data"
    },
    {
     "data": {
      "application/javascript": [
       "(function(root) {\n",
       "  function embed_document(root) {\n",
       "    \n",
       "  var docs_json = {\"bc307de6-487a-444e-bbbe-53fee8412567\":{\"defs\":[],\"roots\":{\"references\":[{\"attributes\":{\"below\":[{\"id\":\"1015\"}],\"center\":[{\"id\":\"1022\"},{\"id\":\"1030\"}],\"left\":[{\"id\":\"1023\"}],\"renderers\":[{\"id\":\"1047\"},{\"id\":\"1053\"}],\"title\":{\"id\":\"1005\"},\"toolbar\":{\"id\":\"1039\"},\"width\":800,\"x_range\":{\"id\":\"1007\"},\"x_scale\":{\"id\":\"1011\"},\"y_range\":{\"id\":\"1009\"},\"y_scale\":{\"id\":\"1013\"}},\"id\":\"1004\",\"subtype\":\"Figure\",\"type\":\"Plot\"},{\"attributes\":{\"attribution\":\"&copy; <a href=\\\"https://www.openstreetmap.org/copyright\\\">OpenStreetMap</a> contributors,&copy; <a href=\\\"https://cartodb.com/attributions\\\">CartoDB</a>\",\"url\":\"https://tiles.basemaps.cartocdn.com/light_all/{z}/{x}/{y}.png\"},\"id\":\"1003\",\"type\":\"WMTSTileSource\"},{\"attributes\":{},\"id\":\"1063\",\"type\":\"Selection\"},{\"attributes\":{},\"id\":\"1007\",\"type\":\"DataRange1d\"},{\"attributes\":{\"axis\":{\"id\":\"1015\"},\"ticker\":null},\"id\":\"1022\",\"type\":\"Grid\"},{\"attributes\":{\"axis\":{\"id\":\"1023\"},\"dimension\":1,\"ticker\":null},\"id\":\"1030\",\"type\":\"Grid\"},{\"attributes\":{\"data_source\":{\"id\":\"1049\"},\"glyph\":{\"id\":\"1051\"},\"hover_glyph\":null,\"muted_glyph\":null,\"nonselection_glyph\":{\"id\":\"1052\"},\"view\":{\"id\":\"1054\"}},\"id\":\"1053\",\"type\":\"GlyphRenderer\"},{\"attributes\":{},\"id\":\"1032\",\"type\":\"WheelZoomTool\"},{\"attributes\":{\"bottom_units\":\"screen\",\"fill_alpha\":0.5,\"fill_color\":\"lightgrey\",\"left_units\":\"screen\",\"level\":\"overlay\",\"line_alpha\":1.0,\"line_color\":\"black\",\"line_dash\":[4,4],\"line_width\":2,\"right_units\":\"screen\",\"syncable\":false,\"top_units\":\"screen\"},\"id\":\"1037\",\"type\":\"BoxAnnotation\"},{\"attributes\":{\"text\":\"Number of restaurants in North American\"},\"id\":\"1005\",\"type\":\"Title\"},{\"attributes\":{\"callback\":null,\"tooltips\":[[\"State\",\"@state_name\"],[\"Count\",\"@Counts\"]]},\"id\":\"1038\",\"type\":\"HoverTool\"},{\"attributes\":{\"fill_alpha\":{\"value\":0.7},\"fill_color\":{\"value\":\"lightblue\"},\"line_color\":{\"value\":\"lightblue\"},\"size\":{\"field\":\"Size\"},\"x\":{\"field\":\"mercator_x\"},\"y\":{\"field\":\"mercator_y\"}},\"id\":\"1051\",\"type\":\"Circle\"},{\"attributes\":{},\"id\":\"1034\",\"type\":\"SaveTool\"},{\"attributes\":{\"dimension\":\"lat\"},\"id\":\"1026\",\"type\":\"MercatorTickFormatter\"},{\"attributes\":{\"tile_source\":{\"id\":\"1003\"}},\"id\":\"1047\",\"type\":\"TileRenderer\"},{\"attributes\":{\"dimension\":\"lon\"},\"id\":\"1016\",\"type\":\"MercatorTicker\"},{\"attributes\":{},\"id\":\"1060\",\"type\":\"AllLabels\"},{\"attributes\":{\"dimension\":\"lon\"},\"id\":\"1018\",\"type\":\"MercatorTickFormatter\"},{\"attributes\":{},\"id\":\"1064\",\"type\":\"UnionRenderers\"},{\"attributes\":{},\"id\":\"1009\",\"type\":\"DataRange1d\"},{\"attributes\":{\"axis_label\":\"Longitude\",\"formatter\":{\"id\":\"1018\"},\"major_label_policy\":{\"id\":\"1060\"},\"ticker\":{\"id\":\"1016\"}},\"id\":\"1015\",\"type\":\"MercatorAxis\"},{\"attributes\":{},\"id\":\"1036\",\"type\":\"HelpTool\"},{\"attributes\":{\"dimension\":\"lat\"},\"id\":\"1024\",\"type\":\"MercatorTicker\"},{\"attributes\":{},\"id\":\"1057\",\"type\":\"AllLabels\"},{\"attributes\":{},\"id\":\"1011\",\"type\":\"LinearScale\"},{\"attributes\":{},\"id\":\"1035\",\"type\":\"ResetTool\"},{\"attributes\":{\"axis_label\":\"Latitude\",\"formatter\":{\"id\":\"1026\"},\"major_label_policy\":{\"id\":\"1057\"},\"ticker\":{\"id\":\"1024\"}},\"id\":\"1023\",\"type\":\"MercatorAxis\"},{\"attributes\":{},\"id\":\"1013\",\"type\":\"LinearScale\"},{\"attributes\":{\"source\":{\"id\":\"1049\"}},\"id\":\"1054\",\"type\":\"CDSView\"},{\"attributes\":{\"fill_alpha\":{\"value\":0.1},\"fill_color\":{\"value\":\"lightblue\"},\"line_alpha\":{\"value\":0.1},\"line_color\":{\"value\":\"lightblue\"},\"size\":{\"field\":\"Size\"},\"x\":{\"field\":\"mercator_x\"},\"y\":{\"field\":\"mercator_y\"}},\"id\":\"1052\",\"type\":\"Circle\"},{\"attributes\":{\"active_multi\":null,\"tools\":[{\"id\":\"1031\"},{\"id\":\"1032\"},{\"id\":\"1033\"},{\"id\":\"1034\"},{\"id\":\"1035\"},{\"id\":\"1036\"},{\"id\":\"1038\"}]},\"id\":\"1039\",\"type\":\"Toolbar\"},{\"attributes\":{\"overlay\":{\"id\":\"1037\"}},\"id\":\"1033\",\"type\":\"BoxZoomTool\"},{\"attributes\":{\"data\":{\"Counts\":[2079,1511,1186,1120,1116,874,776,170,161,1,1],\"Size\":{\"__ndarray__\":\"AAAAAAAASUARhJgbcDdEQFobX6LDekFAULdoOXnsQEDzeiOQ2eNAQKVtjR48tD1Aud9MuKwNPEDobFpfs9gxQELdouXksTFAAAAAAAAALkAAAAAAAAAuQA==\",\"dtype\":\"float64\",\"order\":\"little\",\"shape\":[11]},\"coordinates\":[[42.407211,-71.382439],[27.994402,-81.760254],[44.0,-120.5],[33.247875,-83.441162],[53.726669,-127.647621],[31.0,-100.0],[40.367474,-82.996216],[47.751076,-120.740135],[39.113014,-105.358887],[38.5,-98.0],[37.839333,-84.27002]],\"index\":[6,2,8,3,0,9,7,10,1,4,5],\"latitude_state\":{\"__ndarray__\":\"JclzfR80RUC2EyUhkf47QAAAAAAAAEZAfT81XrqfQEAuAmN9A91KQAAAAAAAAD9ArhBWYwkvREC+ZyRCI+BHQL3+JD53jkNAAAAAAABAQ0APuoRDb+tCQA==\",\"dtype\":\"float64\",\"order\":\"little\",\"shape\":[11]},\"longitude_state\":{\"__ndarray__\":\"wm1t4XnYUcDOqWQAqHBUwAAAAAAAIF7AO4+K/zvcVMD7zFmfculfwAAAAAAAAFnAIPDAAMK/VMD/5zBfXi9ewGn9LQH4VlrAAAAAAACAWMAFUfcBSBFVwA==\",\"dtype\":\"float64\",\"order\":\"little\",\"shape\":[11]},\"mercator\":[[-7946256.761061912,5222174.205138603],[-9101509.84240871,3248268.028256595],[-13413998.640589466,5465442.183322754],[-9288627.66503905,3928251.6314549968],[-14209668.170692775,7118559.6876617335],[-11131949.079327356,3632749.143384426],[-9239096.502888545,4919487.17752223],[-13440730.346511107,6065542.2099071],[-11728497.65138605,4737872.811227995],[-10909310.09774081,4650301.836738959],[-9380895.71553898,4556753.751157565]],\"mercator_x\":{\"__ndarray__\":\"Bj21MARQXsEcA/W6GFxhwXu1f9TNlWnB+f9HdXa3YcGyUHaFUBprwYbZiaKFO2XBuKkXEEefYcF2nhZL26JpwY8n2DTOXmbBVrEgw8/OZMEBsuX2g+RhwQ==\",\"dtype\":\"float64\",\"order\":\"little\",\"shape\":[11]},\"mercator_y\":{\"__ndarray__\":\"qv0gjcfrU0GA6Z0DRshIQVyPu4tY2VRBcITT0F34TUFcpgLstydbQb5rWpI2t0tBM4Zcyy/EUkEwHm+NYSNXQdMo6zPUElJBkCGNdU+9UUEu9xJw9GFRQQ==\",\"dtype\":\"float64\",\"order\":\"little\",\"shape\":[11]},\"state_name\":[\"Massachusetts\",\"Florida\",\"Oregon\",\"Georgia\",\"British Columbia\",\"Texas\",\"Ohio\",\"Washington\",\"Colorado\",\"Kansas\",\"Kentucky\"]},\"selected\":{\"id\":\"1063\"},\"selection_policy\":{\"id\":\"1064\"}},\"id\":\"1049\",\"type\":\"ColumnDataSource\"},{\"attributes\":{},\"id\":\"1031\",\"type\":\"PanTool\"}],\"root_ids\":[\"1004\"]},\"title\":\"Bokeh Application\",\"version\":\"2.3.1\"}};\n",
       "  var render_items = [{\"docid\":\"bc307de6-487a-444e-bbbe-53fee8412567\",\"root_ids\":[\"1004\"],\"roots\":{\"1004\":\"a8799505-7006-465a-9e68-f9f32a15ecdc\"}}];\n",
       "  root.Bokeh.embed.embed_items_notebook(docs_json, render_items);\n",
       "\n",
       "  }\n",
       "  if (root.Bokeh !== undefined) {\n",
       "    embed_document(root);\n",
       "  } else {\n",
       "    var attempts = 0;\n",
       "    var timer = setInterval(function(root) {\n",
       "      if (root.Bokeh !== undefined) {\n",
       "        clearInterval(timer);\n",
       "        embed_document(root);\n",
       "      } else {\n",
       "        attempts++;\n",
       "        if (attempts > 100) {\n",
       "          clearInterval(timer);\n",
       "          console.log(\"Bokeh: ERROR: Unable to run BokehJS code because BokehJS library is missing\");\n",
       "        }\n",
       "      }\n",
       "    }, 10, root)\n",
       "  }\n",
       "})(window);"
      ],
      "application/vnd.bokehjs_exec.v0+json": ""
     },
     "metadata": {
      "application/vnd.bokehjs_exec.v0+json": {
       "id": "1004"
      }
     },
     "output_type": "display_data"
    }
   ],
   "source": [
    "# Select tile set to use\n",
    "chosentile = get_provider(Vendors.CARTODBPOSITRON)\n",
    "\n",
    "tooltips = [(\"State\",\"@state_name\"), (\"Count\", \"@Counts\")]\n",
    "\n",
    "counts = restaurants_copy['Counts'].to_list()\n",
    "\n",
    "p = figure(title = 'Number of restaurants in North American', \n",
    "           x_axis_type=\"mercator\", y_axis_type=\"mercator\", \n",
    "           x_axis_label = 'Longitude', y_axis_label = 'Latitude', \n",
    "           tooltips = tooltips, plot_width=800, plot_height=600)\n",
    "\n",
    "p.add_tile(chosentile)\n",
    "\n",
    "p.circle(x = 'mercator_x', y = 'mercator_y', color = 'lightblue', source=restaurants_copy, \n",
    "         size='Size', fill_alpha = 0.7)\n",
    "show(p)\n",
    "html = file_html(p, CDN, \"North America - Map\")\n",
    "# print(html)"
   ]
  },
  {
   "cell_type": "markdown",
   "metadata": {},
   "source": [
    "Below are three groupby statements, that group by state, kitchen type and type of restaurant. An aggregrated function is added, where it is counted how many restaurants, kitchen type and type of resturants there are. These are all turned into a dict, so it can be loaded into the bokeh application."
   ]
  },
  {
   "cell_type": "code",
   "execution_count": 43,
   "metadata": {},
   "outputs": [],
   "source": [
    "group_state_ = restaurants.groupby(['cat_kitchen']).size().reset_index(name='Counts')\n",
    "group_state_['Type'] = group_state_['cat_kitchen'].astype(str)\n",
    "df_dict_ = group_state_.to_dict('list')\n",
    "\n",
    "group_state__ = restaurants.groupby(['cat_type']).size().reset_index(name='Counts')\n",
    "group_state__['Type'] = group_state__['cat_type'].astype(str)\n",
    "df_dict__ = group_state__.to_dict('list')\n",
    "\n",
    "group_state = restaurants.groupby(['state_name']).size().reset_index(name='Counts')\n",
    "group_state['state'] = group_state['state_name'].astype(str)\n",
    "df_dict = group_state.to_dict('list')"
   ]
  },
  {
   "cell_type": "markdown",
   "metadata": {},
   "source": [
    "The next three code cells are presenting how the bar-charts are made. Further, there have also been made changes to the x-axis and y-axis. The major and minor ticks are removed, since it is these are not relevant for the considered bar-chart. "
   ]
  },
  {
   "cell_type": "code",
   "execution_count": 44,
   "metadata": {},
   "outputs": [],
   "source": [
    "title = 'Count of restaurants by State'\n",
    "xlabel = 'State'\n",
    "range_x = group_state.state.unique().tolist()\n",
    "\n",
    "plot1 = figure(x_range=FactorRange(factors=range_x), y_range=(0,2500), plot_width=800, plot_height=500,\n",
    "               x_axis_label=xlabel, toolbar_location=None, title=title)\n",
    "plot1.vbar(x='state_name', width=0.7, bottom=0,\n",
    "           top='Counts', source=df_dict, color='lightblue')\n",
    "\n",
    "# hover tool\n",
    "plot1.add_tools(HoverTool(tooltips=[('Count', \"@Counts{1}\")]))\n",
    "\n",
    "# axis ticks\n",
    "plot1.xaxis.major_tick_line_color = None \n",
    "plot1.xaxis.minor_tick_line_color = None \n",
    "plot1.yaxis.major_tick_line_color = None  \n",
    "plot1.yaxis.minor_tick_line_color = None  \n",
    "plot1.title.text_font_size = '13pt'\n",
    "plot1.title.align = 'center'\n",
    "\n",
    "# show(plot1)"
   ]
  },
  {
   "cell_type": "code",
   "execution_count": 45,
   "metadata": {},
   "outputs": [],
   "source": [
    "title = 'Count of restaurants by Kitchen'\n",
    "range_x = group_state_['cat_kitchen'].unique().tolist()\n",
    "xlabel = 'Kitchen type'\n",
    "\n",
    "plot2 = figure(x_range=FactorRange(factors=range_x),y_range=(0,2500),  plot_width=800, plot_height=500,\n",
    "               x_axis_label=xlabel, toolbar_location=None, title=title)\n",
    "plot2.vbar(x='Type', width=0.7, bottom=0,\n",
    "           top='Counts', source=df_dict_, color='lightblue')\n",
    "\n",
    "# hover tool\n",
    "plot2.add_tools(HoverTool(tooltips=[('Count', \"@Counts\")]))\n",
    "\n",
    "# axis ticks\n",
    "plot2.xaxis.major_tick_line_color = None \n",
    "plot2.xaxis.minor_tick_line_color = None \n",
    "plot2.yaxis.major_tick_line_color = None  \n",
    "plot2.yaxis.minor_tick_line_color = None  \n",
    "plot2.xaxis.major_label_orientation = \"vertical\"\n",
    "plot2.title.text_font_size = '13pt'\n",
    "plot2.title.align = 'center'\n",
    "\n",
    "# show(plot2)"
   ]
  },
  {
   "cell_type": "code",
   "execution_count": 46,
   "metadata": {},
   "outputs": [],
   "source": [
    "title = 'Count of restaurants by Type'\n",
    "range_x = group_state__['cat_type'].unique().tolist()\n",
    "xlabel = 'Types'\n",
    "\n",
    "plot3 = figure(x_range=FactorRange(factors=range_x), y_range=(0,2500), plot_width=600, plot_height=500,\n",
    "               x_axis_label=xlabel, toolbar_location=None, title=title)\n",
    "plot3.vbar(x='Type', width=0.7, bottom=0,\n",
    "           top='Counts', source=df_dict__, color='lightblue')\n",
    "\n",
    "# hover tool\n",
    "plot3.add_tools(HoverTool(tooltips=[('Count', \"@Counts\")]))\n",
    "\n",
    "# axis ticks\n",
    "plot3.xaxis.major_tick_line_color = None \n",
    "plot3.xaxis.minor_tick_line_color = None \n",
    "plot3.yaxis.major_tick_line_color = None  \n",
    "plot3.yaxis.minor_tick_line_color = None  \n",
    "plot3.xaxis.major_label_orientation = \"vertical\"\n",
    "plot3.title.text_font_size = '13pt'\n",
    "plot3.title.align = 'center'\n",
    "\n",
    "# show(plot3)"
   ]
  },
  {
   "cell_type": "markdown",
   "metadata": {},
   "source": [
    "Below are all the plots made into a three different tabs, such that the user can select the interrested area. Here it is also stated the height and width of the plots, so they have the same sizes when the users select between the different plots. This gives a good flow on the website. \n",
    "\n",
    "The figure below illustrates how many restaurants there are by three different metrics, state, kitchen and type. You may please use the different tabs above the bar-charts to shift between the different metrics. When analysing the count of restaurants by kitchen, American (Traditional) and American (New) are the most represented, while this is not a surprise because the data is based in North American with most American states. Lastly, when you chose restaurants by type the different types for the dataset are presented. Here it is illustrated that most of the considered data points are within food and nightlife."
   ]
  },
  {
   "cell_type": "code",
   "execution_count": 47,
   "metadata": {},
   "outputs": [
    {
     "data": {
      "text/html": [
       "\n",
       "\n",
       "\n",
       "\n",
       "\n",
       "\n",
       "  <div class=\"bk-root\" id=\"5ceda55d-1b52-4fe9-86a6-96dbf4927f0a\" data-root-id=\"1329\"></div>\n"
      ]
     },
     "metadata": {},
     "output_type": "display_data"
    },
    {
     "data": {
      "application/javascript": [
       "(function(root) {\n",
       "  function embed_document(root) {\n",
       "    \n",
       "  var docs_json = {\"0bac7e4c-5ecd-4ab5-9edd-bc3e2d63e790\":{\"defs\":[],\"roots\":{\"references\":[{\"attributes\":{\"tabs\":[{\"id\":\"1326\"},{\"id\":\"1327\"},{\"id\":\"1328\"}]},\"id\":\"1329\",\"type\":\"Tabs\"},{\"attributes\":{\"child\":{\"id\":\"1207\"},\"title\":\"Count of restaurants by State\"},\"id\":\"1326\",\"type\":\"Panel\"},{\"attributes\":{\"axis\":{\"id\":\"1220\"},\"dimension\":1,\"ticker\":null},\"id\":\"1223\",\"type\":\"Grid\"},{\"attributes\":{\"axis\":{\"id\":\"1260\"},\"dimension\":1,\"ticker\":null},\"id\":\"1263\",\"type\":\"Grid\"},{\"attributes\":{},\"id\":\"1350\",\"type\":\"AllLabels\"},{\"attributes\":{\"below\":[{\"id\":\"1297\"}],\"center\":[{\"id\":\"1299\"},{\"id\":\"1303\"}],\"height\":500,\"left\":[{\"id\":\"1300\"}],\"renderers\":[{\"id\":\"1322\"}],\"title\":{\"id\":\"1288\"},\"toolbar\":{\"id\":\"1311\"},\"toolbar_location\":null,\"width\":800,\"x_range\":{\"id\":\"1286\"},\"x_scale\":{\"id\":\"1293\"},\"y_range\":{\"id\":\"1291\"},\"y_scale\":{\"id\":\"1295\"}},\"id\":\"1287\",\"subtype\":\"Figure\",\"type\":\"Plot\"},{\"attributes\":{\"align\":\"center\",\"text\":\"Count of restaurants by State\",\"text_font_size\":\"13pt\"},\"id\":\"1208\",\"type\":\"Title\"},{\"attributes\":{\"callback\":null,\"tooltips\":[[\"Count\",\"@Counts\"]]},\"id\":\"1324\",\"type\":\"HoverTool\"},{\"attributes\":{\"active_multi\":null,\"tools\":[{\"id\":\"1304\"},{\"id\":\"1305\"},{\"id\":\"1306\"},{\"id\":\"1307\"},{\"id\":\"1308\"},{\"id\":\"1309\"},{\"id\":\"1324\"}]},\"id\":\"1311\",\"type\":\"Toolbar\"},{\"attributes\":{\"overlay\":{\"id\":\"1230\"}},\"id\":\"1226\",\"type\":\"BoxZoomTool\"},{\"attributes\":{},\"id\":\"1265\",\"type\":\"WheelZoomTool\"},{\"attributes\":{\"active_multi\":null,\"tools\":[{\"id\":\"1224\"},{\"id\":\"1225\"},{\"id\":\"1226\"},{\"id\":\"1227\"},{\"id\":\"1228\"},{\"id\":\"1229\"},{\"id\":\"1244\"}]},\"id\":\"1231\",\"type\":\"Toolbar\"},{\"attributes\":{},\"id\":\"1268\",\"type\":\"ResetTool\"},{\"attributes\":{\"callback\":null,\"tooltips\":[[\"Count\",\"@Counts{1}\"]]},\"id\":\"1244\",\"type\":\"HoverTool\"},{\"attributes\":{\"formatter\":{\"id\":\"1357\"},\"major_label_policy\":{\"id\":\"1356\"},\"major_tick_line_color\":null,\"minor_tick_line_color\":null,\"ticker\":{\"id\":\"1301\"}},\"id\":\"1300\",\"type\":\"LinearAxis\"},{\"attributes\":{},\"id\":\"1218\",\"type\":\"CategoricalTicker\"},{\"attributes\":{\"fill_color\":{\"value\":\"lightblue\"},\"line_color\":{\"value\":\"lightblue\"},\"top\":{\"field\":\"Counts\"},\"width\":{\"value\":0.7},\"x\":{\"field\":\"Type\"}},\"id\":\"1320\",\"type\":\"VBar\"},{\"attributes\":{},\"id\":\"1224\",\"type\":\"PanTool\"},{\"attributes\":{},\"id\":\"1363\",\"type\":\"UnionRenderers\"},{\"attributes\":{\"fill_alpha\":{\"value\":0.1},\"fill_color\":{\"value\":\"lightblue\"},\"line_alpha\":{\"value\":0.1},\"line_color\":{\"value\":\"lightblue\"},\"top\":{\"field\":\"Counts\"},\"width\":{\"value\":0.7},\"x\":{\"field\":\"Type\"}},\"id\":\"1281\",\"type\":\"VBar\"},{\"attributes\":{\"data\":{\"Counts\":[1116,161,1511,1120,1,1,2079,776,1186,874,170],\"state\":[\"British Columbia\",\"Colorado\",\"Florida\",\"Georgia\",\"Kansas\",\"Kentucky\",\"Massachusetts\",\"Ohio\",\"Oregon\",\"Texas\",\"Washington\"],\"state_name\":[\"British Columbia\",\"Colorado\",\"Florida\",\"Georgia\",\"Kansas\",\"Kentucky\",\"Massachusetts\",\"Ohio\",\"Oregon\",\"Texas\",\"Washington\"]},\"selected\":{\"id\":\"1362\"},\"selection_policy\":{\"id\":\"1363\"}},\"id\":\"1238\",\"type\":\"ColumnDataSource\"},{\"attributes\":{},\"id\":\"1267\",\"type\":\"SaveTool\"},{\"attributes\":{\"data_source\":{\"id\":\"1318\"},\"glyph\":{\"id\":\"1320\"},\"hover_glyph\":null,\"muted_glyph\":null,\"nonselection_glyph\":{\"id\":\"1321\"},\"view\":{\"id\":\"1323\"}},\"id\":\"1322\",\"type\":\"GlyphRenderer\"},{\"attributes\":{},\"id\":\"1261\",\"type\":\"BasicTicker\"},{\"attributes\":{\"bottom_units\":\"screen\",\"fill_alpha\":0.5,\"fill_color\":\"lightgrey\",\"left_units\":\"screen\",\"level\":\"overlay\",\"line_alpha\":1.0,\"line_color\":\"black\",\"line_dash\":[4,4],\"line_width\":2,\"right_units\":\"screen\",\"syncable\":false,\"top_units\":\"screen\"},\"id\":\"1230\",\"type\":\"BoxAnnotation\"},{\"attributes\":{},\"id\":\"1264\",\"type\":\"PanTool\"},{\"attributes\":{},\"id\":\"1301\",\"type\":\"BasicTicker\"},{\"attributes\":{},\"id\":\"1344\",\"type\":\"AllLabels\"},{\"attributes\":{},\"id\":\"1353\",\"type\":\"AllLabels\"},{\"attributes\":{},\"id\":\"1347\",\"type\":\"AllLabels\"},{\"attributes\":{\"source\":{\"id\":\"1278\"}},\"id\":\"1283\",\"type\":\"CDSView\"},{\"attributes\":{\"axis\":{\"id\":\"1300\"},\"dimension\":1,\"ticker\":null},\"id\":\"1303\",\"type\":\"Grid\"},{\"attributes\":{\"formatter\":{\"id\":\"1351\"},\"major_label_policy\":{\"id\":\"1350\"},\"major_tick_line_color\":null,\"minor_tick_line_color\":null,\"ticker\":{\"id\":\"1261\"}},\"id\":\"1260\",\"type\":\"LinearAxis\"},{\"attributes\":{},\"id\":\"1213\",\"type\":\"CategoricalScale\"},{\"attributes\":{\"axis\":{\"id\":\"1297\"},\"ticker\":null},\"id\":\"1299\",\"type\":\"Grid\"},{\"attributes\":{},\"id\":\"1269\",\"type\":\"HelpTool\"},{\"attributes\":{},\"id\":\"1309\",\"type\":\"HelpTool\"},{\"attributes\":{},\"id\":\"1368\",\"type\":\"Selection\"},{\"attributes\":{},\"id\":\"1304\",\"type\":\"PanTool\"},{\"attributes\":{},\"id\":\"1345\",\"type\":\"BasicTickFormatter\"},{\"attributes\":{\"axis\":{\"id\":\"1217\"},\"ticker\":null},\"id\":\"1219\",\"type\":\"Grid\"},{\"attributes\":{},\"id\":\"1307\",\"type\":\"SaveTool\"},{\"attributes\":{\"data_source\":{\"id\":\"1238\"},\"glyph\":{\"id\":\"1240\"},\"hover_glyph\":null,\"muted_glyph\":null,\"nonselection_glyph\":{\"id\":\"1241\"},\"view\":{\"id\":\"1243\"}},\"id\":\"1242\",\"type\":\"GlyphRenderer\"},{\"attributes\":{\"end\":2500},\"id\":\"1211\",\"type\":\"Range1d\"},{\"attributes\":{\"fill_alpha\":{\"value\":0.1},\"fill_color\":{\"value\":\"lightblue\"},\"line_alpha\":{\"value\":0.1},\"line_color\":{\"value\":\"lightblue\"},\"top\":{\"field\":\"Counts\"},\"width\":{\"value\":0.7},\"x\":{\"field\":\"state_name\"}},\"id\":\"1241\",\"type\":\"VBar\"},{\"attributes\":{\"end\":2500},\"id\":\"1291\",\"type\":\"Range1d\"},{\"attributes\":{\"bottom_units\":\"screen\",\"fill_alpha\":0.5,\"fill_color\":\"lightgrey\",\"left_units\":\"screen\",\"level\":\"overlay\",\"line_alpha\":1.0,\"line_color\":\"black\",\"line_dash\":[4,4],\"line_width\":2,\"right_units\":\"screen\",\"syncable\":false,\"top_units\":\"screen\"},\"id\":\"1270\",\"type\":\"BoxAnnotation\"},{\"attributes\":{},\"id\":\"1348\",\"type\":\"CategoricalTickFormatter\"},{\"attributes\":{},\"id\":\"1365\",\"type\":\"Selection\"},{\"attributes\":{},\"id\":\"1293\",\"type\":\"CategoricalScale\"},{\"attributes\":{\"fill_alpha\":{\"value\":0.1},\"fill_color\":{\"value\":\"lightblue\"},\"line_alpha\":{\"value\":0.1},\"line_color\":{\"value\":\"lightblue\"},\"top\":{\"field\":\"Counts\"},\"width\":{\"value\":0.7},\"x\":{\"field\":\"Type\"}},\"id\":\"1321\",\"type\":\"VBar\"},{\"attributes\":{\"factors\":[\"American (New)\",\"American (Traditional)\",\"Cajun/Creole\",\"Caribbean\",\"Chinese\",\"Greek\",\"Indian\",\"Italian\",\"Japanese\",\"Korean\",\"Latin American\",\"Mediterranean\",\"Mexican\",\"New Mexican Cuisine\",\"Thai\",\"Vietnamese\"]},\"id\":\"1246\",\"type\":\"FactorRange\"},{\"attributes\":{},\"id\":\"1295\",\"type\":\"LinearScale\"},{\"attributes\":{\"source\":{\"id\":\"1318\"}},\"id\":\"1323\",\"type\":\"CDSView\"},{\"attributes\":{},\"id\":\"1227\",\"type\":\"SaveTool\"},{\"attributes\":{\"axis\":{\"id\":\"1257\"},\"ticker\":null},\"id\":\"1259\",\"type\":\"Grid\"},{\"attributes\":{},\"id\":\"1351\",\"type\":\"BasicTickFormatter\"},{\"attributes\":{\"child\":{\"id\":\"1247\"},\"title\":\"Count of restaurants by Kitchen\"},\"id\":\"1327\",\"type\":\"Panel\"},{\"attributes\":{\"bottom_units\":\"screen\",\"fill_alpha\":0.5,\"fill_color\":\"lightgrey\",\"left_units\":\"screen\",\"level\":\"overlay\",\"line_alpha\":1.0,\"line_color\":\"black\",\"line_dash\":[4,4],\"line_width\":2,\"right_units\":\"screen\",\"syncable\":false,\"top_units\":\"screen\"},\"id\":\"1310\",\"type\":\"BoxAnnotation\"},{\"attributes\":{},\"id\":\"1258\",\"type\":\"CategoricalTicker\"},{\"attributes\":{},\"id\":\"1308\",\"type\":\"ResetTool\"},{\"attributes\":{},\"id\":\"1225\",\"type\":\"WheelZoomTool\"},{\"attributes\":{},\"id\":\"1354\",\"type\":\"CategoricalTickFormatter\"},{\"attributes\":{\"axis_label\":\"Types\",\"formatter\":{\"id\":\"1360\"},\"major_label_orientation\":\"vertical\",\"major_label_policy\":{\"id\":\"1359\"},\"major_tick_line_color\":null,\"minor_tick_line_color\":null,\"ticker\":{\"id\":\"1298\"}},\"id\":\"1297\",\"type\":\"CategoricalAxis\"},{\"attributes\":{\"axis_label\":\"Kitchen type\",\"formatter\":{\"id\":\"1354\"},\"major_label_orientation\":\"vertical\",\"major_label_policy\":{\"id\":\"1353\"},\"major_tick_line_color\":null,\"minor_tick_line_color\":null,\"ticker\":{\"id\":\"1258\"}},\"id\":\"1257\",\"type\":\"CategoricalAxis\"},{\"attributes\":{\"end\":2500},\"id\":\"1251\",\"type\":\"Range1d\"},{\"attributes\":{},\"id\":\"1357\",\"type\":\"BasicTickFormatter\"},{\"attributes\":{},\"id\":\"1366\",\"type\":\"UnionRenderers\"},{\"attributes\":{\"child\":{\"id\":\"1287\"},\"title\":\"Count of restaurants by Type\"},\"id\":\"1328\",\"type\":\"Panel\"},{\"attributes\":{},\"id\":\"1228\",\"type\":\"ResetTool\"},{\"attributes\":{\"overlay\":{\"id\":\"1270\"}},\"id\":\"1266\",\"type\":\"BoxZoomTool\"},{\"attributes\":{},\"id\":\"1305\",\"type\":\"WheelZoomTool\"},{\"attributes\":{\"callback\":null,\"tooltips\":[[\"Count\",\"@Counts\"]]},\"id\":\"1284\",\"type\":\"HoverTool\"},{\"attributes\":{},\"id\":\"1298\",\"type\":\"CategoricalTicker\"},{\"attributes\":{},\"id\":\"1360\",\"type\":\"CategoricalTickFormatter\"},{\"attributes\":{\"axis_label\":\"State\",\"formatter\":{\"id\":\"1348\"},\"major_label_policy\":{\"id\":\"1347\"},\"major_tick_line_color\":null,\"minor_tick_line_color\":null,\"ticker\":{\"id\":\"1218\"}},\"id\":\"1217\",\"type\":\"CategoricalAxis\"},{\"attributes\":{\"factors\":[\"Bars\",\"Breakfast & Brunch\",\"Buffets\",\"Burgers\",\"Cafes\",\"Coffee & Tea\",\"Diners\",\"Fast Food\",\"Food\",\"Nightlife\",\"Pizza\",\"Salad\",\"Sandwiches\",\"Steakhouses\",\"Sushi Bars\",\"Vegetarian\",\"Wine Bars\"]},\"id\":\"1286\",\"type\":\"FactorRange\"},{\"attributes\":{},\"id\":\"1253\",\"type\":\"CategoricalScale\"},{\"attributes\":{\"below\":[{\"id\":\"1257\"}],\"center\":[{\"id\":\"1259\"},{\"id\":\"1263\"}],\"height\":500,\"left\":[{\"id\":\"1260\"}],\"renderers\":[{\"id\":\"1282\"}],\"title\":{\"id\":\"1248\"},\"toolbar\":{\"id\":\"1271\"},\"toolbar_location\":null,\"width\":800,\"x_range\":{\"id\":\"1246\"},\"x_scale\":{\"id\":\"1253\"},\"y_range\":{\"id\":\"1251\"},\"y_scale\":{\"id\":\"1255\"}},\"id\":\"1247\",\"subtype\":\"Figure\",\"type\":\"Plot\"},{\"attributes\":{\"overlay\":{\"id\":\"1310\"}},\"id\":\"1306\",\"type\":\"BoxZoomTool\"},{\"attributes\":{\"data_source\":{\"id\":\"1278\"},\"glyph\":{\"id\":\"1280\"},\"hover_glyph\":null,\"muted_glyph\":null,\"nonselection_glyph\":{\"id\":\"1281\"},\"view\":{\"id\":\"1283\"}},\"id\":\"1282\",\"type\":\"GlyphRenderer\"},{\"attributes\":{},\"id\":\"1356\",\"type\":\"AllLabels\"},{\"attributes\":{\"align\":\"center\",\"text\":\"Count of restaurants by Type\",\"text_font_size\":\"13pt\"},\"id\":\"1288\",\"type\":\"Title\"},{\"attributes\":{\"active_multi\":null,\"tools\":[{\"id\":\"1264\"},{\"id\":\"1265\"},{\"id\":\"1266\"},{\"id\":\"1267\"},{\"id\":\"1268\"},{\"id\":\"1269\"},{\"id\":\"1284\"}]},\"id\":\"1271\",\"type\":\"Toolbar\"},{\"attributes\":{\"below\":[{\"id\":\"1217\"}],\"center\":[{\"id\":\"1219\"},{\"id\":\"1223\"}],\"height\":500,\"left\":[{\"id\":\"1220\"}],\"renderers\":[{\"id\":\"1242\"}],\"title\":{\"id\":\"1208\"},\"toolbar\":{\"id\":\"1231\"},\"toolbar_location\":null,\"width\":800,\"x_range\":{\"id\":\"1206\"},\"x_scale\":{\"id\":\"1213\"},\"y_range\":{\"id\":\"1211\"},\"y_scale\":{\"id\":\"1215\"}},\"id\":\"1207\",\"subtype\":\"Figure\",\"type\":\"Plot\"},{\"attributes\":{\"fill_color\":{\"value\":\"lightblue\"},\"line_color\":{\"value\":\"lightblue\"},\"top\":{\"field\":\"Counts\"},\"width\":{\"value\":0.7},\"x\":{\"field\":\"state_name\"}},\"id\":\"1240\",\"type\":\"VBar\"},{\"attributes\":{},\"id\":\"1215\",\"type\":\"LinearScale\"},{\"attributes\":{\"align\":\"center\",\"text\":\"Count of restaurants by Kitchen\",\"text_font_size\":\"13pt\"},\"id\":\"1248\",\"type\":\"Title\"},{\"attributes\":{},\"id\":\"1362\",\"type\":\"Selection\"},{\"attributes\":{},\"id\":\"1221\",\"type\":\"BasicTicker\"},{\"attributes\":{},\"id\":\"1359\",\"type\":\"AllLabels\"},{\"attributes\":{\"fill_color\":{\"value\":\"lightblue\"},\"line_color\":{\"value\":\"lightblue\"},\"top\":{\"field\":\"Counts\"},\"width\":{\"value\":0.7},\"x\":{\"field\":\"Type\"}},\"id\":\"1280\",\"type\":\"VBar\"},{\"attributes\":{},\"id\":\"1369\",\"type\":\"UnionRenderers\"},{\"attributes\":{\"source\":{\"id\":\"1238\"}},\"id\":\"1243\",\"type\":\"CDSView\"},{\"attributes\":{\"formatter\":{\"id\":\"1345\"},\"major_label_policy\":{\"id\":\"1344\"},\"major_tick_line_color\":null,\"minor_tick_line_color\":null,\"ticker\":{\"id\":\"1221\"}},\"id\":\"1220\",\"type\":\"LinearAxis\"},{\"attributes\":{},\"id\":\"1229\",\"type\":\"HelpTool\"},{\"attributes\":{\"data\":{\"Counts\":[1238,601,132,332,178,144,139,311,1566,1369,767,279,506,192,873,246,122],\"Type\":[\"Bars\",\"Breakfast & Brunch\",\"Buffets\",\"Burgers\",\"Cafes\",\"Coffee & Tea\",\"Diners\",\"Fast Food\",\"Food\",\"Nightlife\",\"Pizza\",\"Salad\",\"Sandwiches\",\"Steakhouses\",\"Sushi Bars\",\"Vegetarian\",\"Wine Bars\"],\"cat_type\":[\"Bars\",\"Breakfast & Brunch\",\"Buffets\",\"Burgers\",\"Cafes\",\"Coffee & Tea\",\"Diners\",\"Fast Food\",\"Food\",\"Nightlife\",\"Pizza\",\"Salad\",\"Sandwiches\",\"Steakhouses\",\"Sushi Bars\",\"Vegetarian\",\"Wine Bars\"]},\"selected\":{\"id\":\"1368\"},\"selection_policy\":{\"id\":\"1369\"}},\"id\":\"1318\",\"type\":\"ColumnDataSource\"},{\"attributes\":{},\"id\":\"1255\",\"type\":\"LinearScale\"},{\"attributes\":{\"data\":{\"Counts\":[1684,2214,71,135,481,129,241,1181,1029,120,200,322,721,20,196,251],\"Type\":[\"American (New)\",\"American (Traditional)\",\"Cajun/Creole\",\"Caribbean\",\"Chinese\",\"Greek\",\"Indian\",\"Italian\",\"Japanese\",\"Korean\",\"Latin American\",\"Mediterranean\",\"Mexican\",\"New Mexican Cuisine\",\"Thai\",\"Vietnamese\"],\"cat_kitchen\":[\"American (New)\",\"American (Traditional)\",\"Cajun/Creole\",\"Caribbean\",\"Chinese\",\"Greek\",\"Indian\",\"Italian\",\"Japanese\",\"Korean\",\"Latin American\",\"Mediterranean\",\"Mexican\",\"New Mexican Cuisine\",\"Thai\",\"Vietnamese\"]},\"selected\":{\"id\":\"1365\"},\"selection_policy\":{\"id\":\"1366\"}},\"id\":\"1278\",\"type\":\"ColumnDataSource\"},{\"attributes\":{\"factors\":[\"British Columbia\",\"Colorado\",\"Florida\",\"Georgia\",\"Kansas\",\"Kentucky\",\"Massachusetts\",\"Ohio\",\"Oregon\",\"Texas\",\"Washington\"]},\"id\":\"1206\",\"type\":\"FactorRange\"}],\"root_ids\":[\"1329\"]},\"title\":\"Bokeh Application\",\"version\":\"2.3.1\"}};\n",
       "  var render_items = [{\"docid\":\"0bac7e4c-5ecd-4ab5-9edd-bc3e2d63e790\",\"root_ids\":[\"1329\"],\"roots\":{\"1329\":\"5ceda55d-1b52-4fe9-86a6-96dbf4927f0a\"}}];\n",
       "  root.Bokeh.embed.embed_items_notebook(docs_json, render_items);\n",
       "\n",
       "  }\n",
       "  if (root.Bokeh !== undefined) {\n",
       "    embed_document(root);\n",
       "  } else {\n",
       "    var attempts = 0;\n",
       "    var timer = setInterval(function(root) {\n",
       "      if (root.Bokeh !== undefined) {\n",
       "        clearInterval(timer);\n",
       "        embed_document(root);\n",
       "      } else {\n",
       "        attempts++;\n",
       "        if (attempts > 100) {\n",
       "          clearInterval(timer);\n",
       "          console.log(\"Bokeh: ERROR: Unable to run BokehJS code because BokehJS library is missing\");\n",
       "        }\n",
       "      }\n",
       "    }, 10, root)\n",
       "  }\n",
       "})(window);"
      ],
      "application/vnd.bokehjs_exec.v0+json": ""
     },
     "metadata": {
      "application/vnd.bokehjs_exec.v0+json": {
       "id": "1329"
      }
     },
     "output_type": "display_data"
    }
   ],
   "source": [
    "# Increase the plot widths\n",
    "plot1.plot_width = plot2.plot_width = plot3.plot_width = 800\n",
    "plot1.plot_height = plot2.plot_height = plot3.plot_height = 500\n",
    "\n",
    "\n",
    "# Create three panels, one for each conference\n",
    "state_panel = Panel(child=plot1, title='Count of restaurants by State')\n",
    "kitchen_panel = Panel(child=plot2, title='Count of restaurants by Kitchen')\n",
    "types_panel = Panel(child=plot3, title='Count of restaurants by Type')\n",
    "\n",
    "# Assign the panels to Tabs\n",
    "tabs = Tabs(tabs=[state_panel, kitchen_panel, types_panel])\n",
    "\n",
    "# Show the tabbed layout\n",
    "show(tabs)\n",
    "\n",
    "html = file_html(tabs, CDN, \"General Overview - BarChart\")\n",
    "# print(html)"
   ]
  },
  {
   "cell_type": "markdown",
   "metadata": {},
   "source": [
    "The next couple of bar-charts have the principle as above, but is on the whole dataset and not only for the restaurants. These bar-charts are made because it gives the user ability to see how many reviews there are in the three areas, so state, kitchen type and types of restaurants. Again, these are all turned into a dict, so it can be loaded into the bokeh application. "
   ]
  },
  {
   "cell_type": "code",
   "execution_count": 48,
   "metadata": {},
   "outputs": [],
   "source": [
    "group_state_ = df.groupby(['cat_kitchen']).size().reset_index(name='Counts')\n",
    "group_state_['Type'] = group_state_['cat_kitchen'].astype(str)\n",
    "df_dict_ = group_state_.to_dict('list')\n",
    "\n",
    "group_state__ = df.groupby(['cat_type']).size().reset_index(name='Counts')\n",
    "group_state__['Type'] = group_state__['cat_type'].astype(str)\n",
    "df_dict__ = group_state__.to_dict('list')\n",
    "\n",
    "group_state = df.groupby(['state_name']).size().reset_index(name='Counts')\n",
    "group_state['state'] = group_state['state_name'].astype(str)\n",
    "df_dict = group_state.to_dict('list')"
   ]
  },
  {
   "cell_type": "markdown",
   "metadata": {},
   "source": [
    "The next three code cells are presenting how the bar-charts are made. Further, there have also been made changes to the x-axis and y-axis. The major and minor ticks are removed, since it is these are not relevant for the considered bar-chart. "
   ]
  },
  {
   "cell_type": "code",
   "execution_count": 49,
   "metadata": {},
   "outputs": [],
   "source": [
    "title = 'Count of reviews by State'\n",
    "xlabel = 'State'\n",
    "range_x = group_state.state.unique().tolist()\n",
    "\n",
    "plot1 = figure(x_range=FactorRange(factors=range_x), y_range=(0,1300000), plot_width=800, plot_height=500,\n",
    "               x_axis_label=xlabel, toolbar_location=None, title=title)\n",
    "plot1.vbar(x='state_name', width=0.7, bottom=0,\n",
    "           top='Counts', source=df_dict, color='lightblue')\n",
    "\n",
    "# hover tool\n",
    "plot1.add_tools(HoverTool(tooltips=[('Count', \"@Counts{1}\")]))\n",
    "\n",
    "# axis ticks\n",
    "plot1.xaxis.major_tick_line_color = None \n",
    "plot1.xaxis.minor_tick_line_color = None \n",
    "plot1.yaxis.major_tick_line_color = None  \n",
    "plot1.yaxis.minor_tick_line_color = None  \n",
    "plot1.title.text_font_size = '13pt'\n",
    "plot1.title.align = 'center'\n",
    "\n",
    "# show(plot1)"
   ]
  },
  {
   "cell_type": "code",
   "execution_count": 50,
   "metadata": {},
   "outputs": [],
   "source": [
    "title = 'Count of reviews by Kitchen'\n",
    "range_x = group_state_['cat_kitchen'].unique().tolist()\n",
    "xlabel = 'Kitchen type'\n",
    "\n",
    "plot2 = figure(x_range=FactorRange(factors=range_x), y_range=(0,1700000), plot_width=800, plot_height=500,\n",
    "               x_axis_label=xlabel, toolbar_location=None, title=title)\n",
    "plot2.vbar(x='Type', width=0.7, bottom=0,\n",
    "           top='Counts', source=df_dict_, color='lightblue')\n",
    "\n",
    "# hover tool\n",
    "plot2.add_tools(HoverTool(tooltips=[('Count', \"@Counts\")]))\n",
    "\n",
    "# axis ticks\n",
    "plot2.xaxis.major_tick_line_color = None \n",
    "plot2.xaxis.minor_tick_line_color = None \n",
    "plot2.yaxis.major_tick_line_color = None  \n",
    "plot2.yaxis.minor_tick_line_color = None  \n",
    "plot2.xaxis.major_label_orientation = \"vertical\"\n",
    "plot2.title.text_font_size = '13pt'\n",
    "plot2.title.align = 'center'\n",
    "\n",
    "# show(plot2)"
   ]
  },
  {
   "cell_type": "code",
   "execution_count": 51,
   "metadata": {},
   "outputs": [],
   "source": [
    "title = 'Count of reviews by Type'\n",
    "range_x = group_state__['cat_type'].unique().tolist()\n",
    "xlabel = 'Type'\n",
    "\n",
    "plot3 = figure(x_range=FactorRange(factors=range_x), y_range=(0,1100000),plot_width=600, plot_height=500,\n",
    "               x_axis_label=xlabel, toolbar_location=None, title=title)\n",
    "plot3.vbar(x='Type', width=0.7, bottom=0,\n",
    "           top='Counts', source=df_dict__, color='lightblue')\n",
    "\n",
    "# hover tool\n",
    "plot3.add_tools(HoverTool(tooltips=[('Count', \"@Counts\")]))\n",
    "\n",
    "# axis ticks\n",
    "plot3.xaxis.major_tick_line_color = None \n",
    "plot3.xaxis.minor_tick_line_color = None \n",
    "plot3.yaxis.major_tick_line_color = None  \n",
    "plot3.yaxis.minor_tick_line_color = None  \n",
    "plot3.xaxis.major_label_orientation = \"vertical\"\n",
    "plot3.title.text_font_size = '13pt'\n",
    "plot3.title.align = 'center'\n",
    "\n",
    "# show(plot3)"
   ]
  },
  {
   "cell_type": "markdown",
   "metadata": {},
   "source": [
    "Below are all the plots made into a three different tabs, such that the user can select the interrested area. Here it is also stated the height and width of the plots, so they have the same sizes when the users select between the different plots. This gives a good flow on the website. \n",
    "\n",
    "The last part to cover in this part is to see how many reviews there are on the same metrics as above. This will give an overview of the number of reviews that might coincide with the number of restaurants. In general, the two figures seem to have the same pattern, but British Columbia has not received that many reviews compared to how many restaurants they have, when comparing to Massachusetts. Again, you have the option to shift tabs between the different metrics."
   ]
  },
  {
   "cell_type": "code",
   "execution_count": 52,
   "metadata": {},
   "outputs": [
    {
     "data": {
      "text/html": [
       "\n",
       "\n",
       "\n",
       "\n",
       "\n",
       "\n",
       "  <div class=\"bk-root\" id=\"3eb56ca0-a3f2-4f5f-80a1-336d08b67e65\" data-root-id=\"1974\"></div>\n"
      ]
     },
     "metadata": {},
     "output_type": "display_data"
    },
    {
     "data": {
      "application/javascript": [
       "(function(root) {\n",
       "  function embed_document(root) {\n",
       "    \n",
       "  var docs_json = {\"54f93d8a-79f5-42fa-935a-8b06ce6a33d1\":{\"defs\":[],\"roots\":{\"references\":[{\"attributes\":{\"tabs\":[{\"id\":\"1971\"},{\"id\":\"1972\"},{\"id\":\"1973\"}]},\"id\":\"1974\",\"type\":\"Tabs\"},{\"attributes\":{},\"id\":\"1954\",\"type\":\"HelpTool\"},{\"attributes\":{\"below\":[{\"id\":\"1862\"}],\"center\":[{\"id\":\"1864\"},{\"id\":\"1868\"}],\"height\":500,\"left\":[{\"id\":\"1865\"}],\"renderers\":[{\"id\":\"1887\"}],\"title\":{\"id\":\"1853\"},\"toolbar\":{\"id\":\"1876\"},\"toolbar_location\":null,\"width\":800,\"x_range\":{\"id\":\"1851\"},\"x_scale\":{\"id\":\"1858\"},\"y_range\":{\"id\":\"1856\"},\"y_scale\":{\"id\":\"1860\"}},\"id\":\"1852\",\"subtype\":\"Figure\",\"type\":\"Plot\"},{\"attributes\":{},\"id\":\"1874\",\"type\":\"HelpTool\"},{\"attributes\":{},\"id\":\"1914\",\"type\":\"HelpTool\"},{\"attributes\":{\"callback\":null,\"tooltips\":[[\"Count\",\"@Counts\"]]},\"id\":\"1929\",\"type\":\"HoverTool\"},{\"attributes\":{\"end\":1700000},\"id\":\"1896\",\"type\":\"Range1d\"},{\"attributes\":{\"axis\":{\"id\":\"1945\"},\"dimension\":1,\"ticker\":null},\"id\":\"1948\",\"type\":\"Grid\"},{\"attributes\":{},\"id\":\"2037\",\"type\":\"Selection\"},{\"attributes\":{\"data_source\":{\"id\":\"1883\"},\"glyph\":{\"id\":\"1885\"},\"hover_glyph\":null,\"muted_glyph\":null,\"nonselection_glyph\":{\"id\":\"1886\"},\"view\":{\"id\":\"1888\"}},\"id\":\"1887\",\"type\":\"GlyphRenderer\"},{\"attributes\":{\"active_multi\":null,\"tools\":[{\"id\":\"1909\"},{\"id\":\"1910\"},{\"id\":\"1911\"},{\"id\":\"1912\"},{\"id\":\"1913\"},{\"id\":\"1914\"},{\"id\":\"1929\"}]},\"id\":\"1916\",\"type\":\"Toolbar\"},{\"attributes\":{},\"id\":\"2020\",\"type\":\"BasicTickFormatter\"},{\"attributes\":{},\"id\":\"1872\",\"type\":\"SaveTool\"},{\"attributes\":{},\"id\":\"2043\",\"type\":\"Selection\"},{\"attributes\":{},\"id\":\"1938\",\"type\":\"CategoricalScale\"},{\"attributes\":{\"overlay\":{\"id\":\"1915\"}},\"id\":\"1911\",\"type\":\"BoxZoomTool\"},{\"attributes\":{},\"id\":\"1909\",\"type\":\"PanTool\"},{\"attributes\":{},\"id\":\"2035\",\"type\":\"CategoricalTickFormatter\"},{\"attributes\":{\"align\":\"center\",\"text\":\"Count of reviews by State\",\"text_font_size\":\"13pt\"},\"id\":\"1853\",\"type\":\"Title\"},{\"attributes\":{},\"id\":\"2022\",\"type\":\"AllLabels\"},{\"attributes\":{\"fill_alpha\":{\"value\":0.1},\"fill_color\":{\"value\":\"lightblue\"},\"line_alpha\":{\"value\":0.1},\"line_color\":{\"value\":\"lightblue\"},\"top\":{\"field\":\"Counts\"},\"width\":{\"value\":0.7},\"x\":{\"field\":\"Type\"}},\"id\":\"1926\",\"type\":\"VBar\"},{\"attributes\":{\"below\":[{\"id\":\"1902\"}],\"center\":[{\"id\":\"1904\"},{\"id\":\"1908\"}],\"height\":500,\"left\":[{\"id\":\"1905\"}],\"renderers\":[{\"id\":\"1927\"}],\"title\":{\"id\":\"1893\"},\"toolbar\":{\"id\":\"1916\"},\"toolbar_location\":null,\"width\":800,\"x_range\":{\"id\":\"1891\"},\"x_scale\":{\"id\":\"1898\"},\"y_range\":{\"id\":\"1896\"},\"y_scale\":{\"id\":\"1900\"}},\"id\":\"1892\",\"subtype\":\"Figure\",\"type\":\"Plot\"},{\"attributes\":{\"align\":\"center\",\"text\":\"Count of reviews by Type\",\"text_font_size\":\"13pt\"},\"id\":\"1933\",\"type\":\"Title\"},{\"attributes\":{},\"id\":\"1946\",\"type\":\"BasicTicker\"},{\"attributes\":{},\"id\":\"1863\",\"type\":\"CategoricalTicker\"},{\"attributes\":{},\"id\":\"2038\",\"type\":\"UnionRenderers\"},{\"attributes\":{\"end\":1300000},\"id\":\"1856\",\"type\":\"Range1d\"},{\"attributes\":{\"axis_label\":\"Type\",\"formatter\":{\"id\":\"2035\"},\"major_label_orientation\":\"vertical\",\"major_label_policy\":{\"id\":\"2034\"},\"major_tick_line_color\":null,\"minor_tick_line_color\":null,\"ticker\":{\"id\":\"1943\"}},\"id\":\"1942\",\"type\":\"CategoricalAxis\"},{\"attributes\":{\"data\":{\"Counts\":[402680,401768,17547,17230,34799,15312,21194,145842,92693,16910,37376,38533,115041,9929,33531,27448],\"Type\":[\"American (New)\",\"American (Traditional)\",\"Cajun/Creole\",\"Caribbean\",\"Chinese\",\"Greek\",\"Indian\",\"Italian\",\"Japanese\",\"Korean\",\"Latin American\",\"Mediterranean\",\"Mexican\",\"New Mexican Cuisine\",\"Thai\",\"Vietnamese\"],\"cat_kitchen\":[\"American (New)\",\"American (Traditional)\",\"Cajun/Creole\",\"Caribbean\",\"Chinese\",\"Greek\",\"Indian\",\"Italian\",\"Japanese\",\"Korean\",\"Latin American\",\"Mediterranean\",\"Mexican\",\"New Mexican Cuisine\",\"Thai\",\"Vietnamese\"]},\"selected\":{\"id\":\"2040\"},\"selection_policy\":{\"id\":\"2041\"}},\"id\":\"1923\",\"type\":\"ColumnDataSource\"},{\"attributes\":{\"data\":{\"Counts\":[39778,22795,314503,234606,5,6,291243,103009,177823,217333,26732],\"state\":[\"British Columbia\",\"Colorado\",\"Florida\",\"Georgia\",\"Kansas\",\"Kentucky\",\"Massachusetts\",\"Ohio\",\"Oregon\",\"Texas\",\"Washington\"],\"state_name\":[\"British Columbia\",\"Colorado\",\"Florida\",\"Georgia\",\"Kansas\",\"Kentucky\",\"Massachusetts\",\"Ohio\",\"Oregon\",\"Texas\",\"Washington\"]},\"selected\":{\"id\":\"2037\"},\"selection_policy\":{\"id\":\"2038\"}},\"id\":\"1883\",\"type\":\"ColumnDataSource\"},{\"attributes\":{},\"id\":\"1912\",\"type\":\"SaveTool\"},{\"attributes\":{\"active_multi\":null,\"tools\":[{\"id\":\"1949\"},{\"id\":\"1950\"},{\"id\":\"1951\"},{\"id\":\"1952\"},{\"id\":\"1953\"},{\"id\":\"1954\"},{\"id\":\"1969\"}]},\"id\":\"1956\",\"type\":\"Toolbar\"},{\"attributes\":{},\"id\":\"1860\",\"type\":\"LinearScale\"},{\"attributes\":{},\"id\":\"2034\",\"type\":\"AllLabels\"},{\"attributes\":{\"axis_label\":\"State\",\"formatter\":{\"id\":\"2023\"},\"major_label_policy\":{\"id\":\"2022\"},\"major_tick_line_color\":null,\"minor_tick_line_color\":null,\"ticker\":{\"id\":\"1863\"}},\"id\":\"1862\",\"type\":\"CategoricalAxis\"},{\"attributes\":{\"align\":\"center\",\"text\":\"Count of reviews by Kitchen\",\"text_font_size\":\"13pt\"},\"id\":\"1893\",\"type\":\"Title\"},{\"attributes\":{},\"id\":\"2023\",\"type\":\"CategoricalTickFormatter\"},{\"attributes\":{\"factors\":[\"Bars\",\"Breakfast & Brunch\",\"Buffets\",\"Burgers\",\"Cafes\",\"Coffee & Tea\",\"Diners\",\"Fast Food\",\"Food\",\"Nightlife\",\"Pizza\",\"Salad\",\"Sandwiches\",\"Steakhouses\",\"Sushi Bars\",\"Vegetarian\",\"Wine Bars\"]},\"id\":\"1931\",\"type\":\"FactorRange\"},{\"attributes\":{\"callback\":null,\"tooltips\":[[\"Count\",\"@Counts{1}\"]]},\"id\":\"1889\",\"type\":\"HoverTool\"},{\"attributes\":{},\"id\":\"1913\",\"type\":\"ResetTool\"},{\"attributes\":{\"overlay\":{\"id\":\"1875\"}},\"id\":\"1871\",\"type\":\"BoxZoomTool\"},{\"attributes\":{},\"id\":\"1858\",\"type\":\"CategoricalScale\"},{\"attributes\":{\"factors\":[\"British Columbia\",\"Colorado\",\"Florida\",\"Georgia\",\"Kansas\",\"Kentucky\",\"Massachusetts\",\"Ohio\",\"Oregon\",\"Texas\",\"Washington\"]},\"id\":\"1851\",\"type\":\"FactorRange\"},{\"attributes\":{},\"id\":\"2044\",\"type\":\"UnionRenderers\"},{\"attributes\":{},\"id\":\"1873\",\"type\":\"ResetTool\"},{\"attributes\":{\"data_source\":{\"id\":\"1923\"},\"glyph\":{\"id\":\"1925\"},\"hover_glyph\":null,\"muted_glyph\":null,\"nonselection_glyph\":{\"id\":\"1926\"},\"view\":{\"id\":\"1928\"}},\"id\":\"1927\",\"type\":\"GlyphRenderer\"},{\"attributes\":{},\"id\":\"2025\",\"type\":\"AllLabels\"},{\"attributes\":{},\"id\":\"1940\",\"type\":\"LinearScale\"},{\"attributes\":{},\"id\":\"1870\",\"type\":\"WheelZoomTool\"},{\"attributes\":{},\"id\":\"1910\",\"type\":\"WheelZoomTool\"},{\"attributes\":{\"axis\":{\"id\":\"1905\"},\"dimension\":1,\"ticker\":null},\"id\":\"1908\",\"type\":\"Grid\"},{\"attributes\":{\"fill_color\":{\"value\":\"lightblue\"},\"line_color\":{\"value\":\"lightblue\"},\"top\":{\"field\":\"Counts\"},\"width\":{\"value\":0.7},\"x\":{\"field\":\"Type\"}},\"id\":\"1925\",\"type\":\"VBar\"},{\"attributes\":{\"source\":{\"id\":\"1923\"}},\"id\":\"1928\",\"type\":\"CDSView\"},{\"attributes\":{\"bottom_units\":\"screen\",\"fill_alpha\":0.5,\"fill_color\":\"lightgrey\",\"left_units\":\"screen\",\"level\":\"overlay\",\"line_alpha\":1.0,\"line_color\":\"black\",\"line_dash\":[4,4],\"line_width\":2,\"right_units\":\"screen\",\"syncable\":false,\"top_units\":\"screen\"},\"id\":\"1875\",\"type\":\"BoxAnnotation\"},{\"attributes\":{\"active_multi\":null,\"tools\":[{\"id\":\"1869\"},{\"id\":\"1870\"},{\"id\":\"1871\"},{\"id\":\"1872\"},{\"id\":\"1873\"},{\"id\":\"1874\"},{\"id\":\"1889\"}]},\"id\":\"1876\",\"type\":\"Toolbar\"},{\"attributes\":{},\"id\":\"2031\",\"type\":\"AllLabels\"},{\"attributes\":{},\"id\":\"1898\",\"type\":\"CategoricalScale\"},{\"attributes\":{},\"id\":\"2026\",\"type\":\"BasicTickFormatter\"},{\"attributes\":{},\"id\":\"1869\",\"type\":\"PanTool\"},{\"attributes\":{\"formatter\":{\"id\":\"2020\"},\"major_label_policy\":{\"id\":\"2019\"},\"major_tick_line_color\":null,\"minor_tick_line_color\":null,\"ticker\":{\"id\":\"1866\"}},\"id\":\"1865\",\"type\":\"LinearAxis\"},{\"attributes\":{\"data\":{\"Counts\":[272804,139675,11366,64662,28402,33961,27527,30721,187643,278677,56752,50463,71084,37798,57982,37911,40405],\"Type\":[\"Bars\",\"Breakfast & Brunch\",\"Buffets\",\"Burgers\",\"Cafes\",\"Coffee & Tea\",\"Diners\",\"Fast Food\",\"Food\",\"Nightlife\",\"Pizza\",\"Salad\",\"Sandwiches\",\"Steakhouses\",\"Sushi Bars\",\"Vegetarian\",\"Wine Bars\"],\"cat_type\":[\"Bars\",\"Breakfast & Brunch\",\"Buffets\",\"Burgers\",\"Cafes\",\"Coffee & Tea\",\"Diners\",\"Fast Food\",\"Food\",\"Nightlife\",\"Pizza\",\"Salad\",\"Sandwiches\",\"Steakhouses\",\"Sushi Bars\",\"Vegetarian\",\"Wine Bars\"]},\"selected\":{\"id\":\"2043\"},\"selection_policy\":{\"id\":\"2044\"}},\"id\":\"1963\",\"type\":\"ColumnDataSource\"},{\"attributes\":{\"source\":{\"id\":\"1883\"}},\"id\":\"1888\",\"type\":\"CDSView\"},{\"attributes\":{\"below\":[{\"id\":\"1942\"}],\"center\":[{\"id\":\"1944\"},{\"id\":\"1948\"}],\"height\":500,\"left\":[{\"id\":\"1945\"}],\"renderers\":[{\"id\":\"1967\"}],\"title\":{\"id\":\"1933\"},\"toolbar\":{\"id\":\"1956\"},\"toolbar_location\":null,\"width\":800,\"x_range\":{\"id\":\"1931\"},\"x_scale\":{\"id\":\"1938\"},\"y_range\":{\"id\":\"1936\"},\"y_scale\":{\"id\":\"1940\"}},\"id\":\"1932\",\"subtype\":\"Figure\",\"type\":\"Plot\"},{\"attributes\":{},\"id\":\"1943\",\"type\":\"CategoricalTicker\"},{\"attributes\":{},\"id\":\"1903\",\"type\":\"CategoricalTicker\"},{\"attributes\":{\"factors\":[\"American (New)\",\"American (Traditional)\",\"Cajun/Creole\",\"Caribbean\",\"Chinese\",\"Greek\",\"Indian\",\"Italian\",\"Japanese\",\"Korean\",\"Latin American\",\"Mediterranean\",\"Mexican\",\"New Mexican Cuisine\",\"Thai\",\"Vietnamese\"]},\"id\":\"1891\",\"type\":\"FactorRange\"},{\"attributes\":{},\"id\":\"1950\",\"type\":\"WheelZoomTool\"},{\"attributes\":{\"fill_alpha\":{\"value\":0.1},\"fill_color\":{\"value\":\"lightblue\"},\"line_alpha\":{\"value\":0.1},\"line_color\":{\"value\":\"lightblue\"},\"top\":{\"field\":\"Counts\"},\"width\":{\"value\":0.7},\"x\":{\"field\":\"Type\"}},\"id\":\"1966\",\"type\":\"VBar\"},{\"attributes\":{\"overlay\":{\"id\":\"1955\"}},\"id\":\"1951\",\"type\":\"BoxZoomTool\"},{\"attributes\":{\"formatter\":{\"id\":\"2032\"},\"major_label_policy\":{\"id\":\"2031\"},\"major_tick_line_color\":null,\"minor_tick_line_color\":null,\"ticker\":{\"id\":\"1946\"}},\"id\":\"1945\",\"type\":\"LinearAxis\"},{\"attributes\":{\"axis\":{\"id\":\"1902\"},\"ticker\":null},\"id\":\"1904\",\"type\":\"Grid\"},{\"attributes\":{\"data_source\":{\"id\":\"1963\"},\"glyph\":{\"id\":\"1965\"},\"hover_glyph\":null,\"muted_glyph\":null,\"nonselection_glyph\":{\"id\":\"1966\"},\"view\":{\"id\":\"1968\"}},\"id\":\"1967\",\"type\":\"GlyphRenderer\"},{\"attributes\":{},\"id\":\"1953\",\"type\":\"ResetTool\"},{\"attributes\":{},\"id\":\"1900\",\"type\":\"LinearScale\"},{\"attributes\":{\"end\":1100000},\"id\":\"1936\",\"type\":\"Range1d\"},{\"attributes\":{\"axis\":{\"id\":\"1862\"},\"ticker\":null},\"id\":\"1864\",\"type\":\"Grid\"},{\"attributes\":{\"bottom_units\":\"screen\",\"fill_alpha\":0.5,\"fill_color\":\"lightgrey\",\"left_units\":\"screen\",\"level\":\"overlay\",\"line_alpha\":1.0,\"line_color\":\"black\",\"line_dash\":[4,4],\"line_width\":2,\"right_units\":\"screen\",\"syncable\":false,\"top_units\":\"screen\"},\"id\":\"1915\",\"type\":\"BoxAnnotation\"},{\"attributes\":{\"formatter\":{\"id\":\"2026\"},\"major_label_policy\":{\"id\":\"2025\"},\"major_tick_line_color\":null,\"minor_tick_line_color\":null,\"ticker\":{\"id\":\"1906\"}},\"id\":\"1905\",\"type\":\"LinearAxis\"},{\"attributes\":{\"child\":{\"id\":\"1932\"},\"title\":\"Count of reviews by Type\"},\"id\":\"1973\",\"type\":\"Panel\"},{\"attributes\":{},\"id\":\"2032\",\"type\":\"BasicTickFormatter\"},{\"attributes\":{},\"id\":\"1906\",\"type\":\"BasicTicker\"},{\"attributes\":{},\"id\":\"2028\",\"type\":\"AllLabels\"},{\"attributes\":{\"fill_color\":{\"value\":\"lightblue\"},\"line_color\":{\"value\":\"lightblue\"},\"top\":{\"field\":\"Counts\"},\"width\":{\"value\":0.7},\"x\":{\"field\":\"state_name\"}},\"id\":\"1885\",\"type\":\"VBar\"},{\"attributes\":{},\"id\":\"1949\",\"type\":\"PanTool\"},{\"attributes\":{},\"id\":\"1866\",\"type\":\"BasicTicker\"},{\"attributes\":{\"callback\":null,\"tooltips\":[[\"Count\",\"@Counts\"]]},\"id\":\"1969\",\"type\":\"HoverTool\"},{\"attributes\":{\"child\":{\"id\":\"1852\"},\"title\":\"Count of reviews by State\"},\"id\":\"1971\",\"type\":\"Panel\"},{\"attributes\":{},\"id\":\"2040\",\"type\":\"Selection\"},{\"attributes\":{\"axis\":{\"id\":\"1942\"},\"ticker\":null},\"id\":\"1944\",\"type\":\"Grid\"},{\"attributes\":{},\"id\":\"2019\",\"type\":\"AllLabels\"},{\"attributes\":{\"axis\":{\"id\":\"1865\"},\"dimension\":1,\"ticker\":null},\"id\":\"1868\",\"type\":\"Grid\"},{\"attributes\":{},\"id\":\"2029\",\"type\":\"CategoricalTickFormatter\"},{\"attributes\":{\"source\":{\"id\":\"1963\"}},\"id\":\"1968\",\"type\":\"CDSView\"},{\"attributes\":{\"bottom_units\":\"screen\",\"fill_alpha\":0.5,\"fill_color\":\"lightgrey\",\"left_units\":\"screen\",\"level\":\"overlay\",\"line_alpha\":1.0,\"line_color\":\"black\",\"line_dash\":[4,4],\"line_width\":2,\"right_units\":\"screen\",\"syncable\":false,\"top_units\":\"screen\"},\"id\":\"1955\",\"type\":\"BoxAnnotation\"},{\"attributes\":{\"fill_alpha\":{\"value\":0.1},\"fill_color\":{\"value\":\"lightblue\"},\"line_alpha\":{\"value\":0.1},\"line_color\":{\"value\":\"lightblue\"},\"top\":{\"field\":\"Counts\"},\"width\":{\"value\":0.7},\"x\":{\"field\":\"state_name\"}},\"id\":\"1886\",\"type\":\"VBar\"},{\"attributes\":{\"child\":{\"id\":\"1892\"},\"title\":\"Count of reviews by Kitchen\"},\"id\":\"1972\",\"type\":\"Panel\"},{\"attributes\":{\"axis_label\":\"Kitchen type\",\"formatter\":{\"id\":\"2029\"},\"major_label_orientation\":\"vertical\",\"major_label_policy\":{\"id\":\"2028\"},\"major_tick_line_color\":null,\"minor_tick_line_color\":null,\"ticker\":{\"id\":\"1903\"}},\"id\":\"1902\",\"type\":\"CategoricalAxis\"},{\"attributes\":{},\"id\":\"1952\",\"type\":\"SaveTool\"},{\"attributes\":{},\"id\":\"2041\",\"type\":\"UnionRenderers\"},{\"attributes\":{\"fill_color\":{\"value\":\"lightblue\"},\"line_color\":{\"value\":\"lightblue\"},\"top\":{\"field\":\"Counts\"},\"width\":{\"value\":0.7},\"x\":{\"field\":\"Type\"}},\"id\":\"1965\",\"type\":\"VBar\"}],\"root_ids\":[\"1974\"]},\"title\":\"Bokeh Application\",\"version\":\"2.3.1\"}};\n",
       "  var render_items = [{\"docid\":\"54f93d8a-79f5-42fa-935a-8b06ce6a33d1\",\"root_ids\":[\"1974\"],\"roots\":{\"1974\":\"3eb56ca0-a3f2-4f5f-80a1-336d08b67e65\"}}];\n",
       "  root.Bokeh.embed.embed_items_notebook(docs_json, render_items);\n",
       "\n",
       "  }\n",
       "  if (root.Bokeh !== undefined) {\n",
       "    embed_document(root);\n",
       "  } else {\n",
       "    var attempts = 0;\n",
       "    var timer = setInterval(function(root) {\n",
       "      if (root.Bokeh !== undefined) {\n",
       "        clearInterval(timer);\n",
       "        embed_document(root);\n",
       "      } else {\n",
       "        attempts++;\n",
       "        if (attempts > 100) {\n",
       "          clearInterval(timer);\n",
       "          console.log(\"Bokeh: ERROR: Unable to run BokehJS code because BokehJS library is missing\");\n",
       "        }\n",
       "      }\n",
       "    }, 10, root)\n",
       "  }\n",
       "})(window);"
      ],
      "application/vnd.bokehjs_exec.v0+json": ""
     },
     "metadata": {
      "application/vnd.bokehjs_exec.v0+json": {
       "id": "1974"
      }
     },
     "output_type": "display_data"
    }
   ],
   "source": [
    "# Increase the plot widths\n",
    "plot1.plot_width = plot2.plot_width = plot3.plot_width = 800\n",
    "plot1.plot_height = plot2.plot_height = plot3.plot_height = 500\n",
    "\n",
    "\n",
    "# Create three panels, one for each conference\n",
    "state_panel = Panel(child=plot1, title='Count of reviews by State')\n",
    "kitchen_panel = Panel(child=plot2, title='Count of reviews by Kitchen')\n",
    "types_panel = Panel(child=plot3, title='Count of reviews by Type')\n",
    "\n",
    "# Assign the panels to Tabs\n",
    "tabs = Tabs(tabs=[state_panel, kitchen_panel, types_panel])\n",
    "\n",
    "# Show the tabbed layout\n",
    "show(tabs)\n",
    "\n",
    "html = file_html(tabs, CDN, \"Overview Reviews\")\n",
    "# print(html)"
   ]
  },
  {
   "cell_type": "markdown",
   "metadata": {},
   "source": [
    "### 3.2. Score Overview\n",
    "\n",
    "The next section on the Exploratory Data Analysis page is concering the Score overview, so how the restaurants have scored star vice. Here three stack bar-charts are made, where again it will be possible for the user to select between state, kitchen type and types of restaurants. A hover tool is added, where it will be possible to hover over the stacked bar-chart to see how many of the different stars there are in each state, kitchen and types.  \n",
    "\n",
    "This section will present the average stars given by the all reviewers. The stars are rounded to either whole or half numbers to make it more presentable in the stack bar-chart. From this plot, the distributions of the stars between the different metrics is presenting how different the states are. There are very few restaurants that have one on average, while the restaurans in Kansas and Kentucky do not have any five stars. This is of course also difficult for these two states, since there is only one restaurant in each. Considering that American (New) and American (Traditional) are the most representated ones, when analysing number of stars based on kitchen type across states, it is low\n",
    "\n",
    "When analysing the distribution of the stars based on kitchen type across states, considering that American (New) and American (Traditional) are the most representated ones, they only have 64 five stars restaurans out of 3963 restaurants."
   ]
  },
  {
   "cell_type": "code",
   "execution_count": 53,
   "metadata": {},
   "outputs": [],
   "source": [
    "stars_df = restaurants.groupby(['state_name','stars']).size().reset_index(name='counts')\n",
    "stars_df = stars_df.pivot_table(values = 'counts', index='state_name', columns='stars').reset_index()\n",
    "stars_df = stars_df.rename(columns={1.0:'1', 1.5:'1.5',2.0:'2',2.5:'2.5',\n",
    "                                    3.0:'3',3.5:'3.5',4.0:'4',4.5:'4.5',5.0:'5'}) \n",
    "stars_df = stars_df.fillna(0)\n",
    "source = ColumnDataSource(stars_df)\n",
    "\n",
    "title = 'Count of stars by State'\n",
    "range_x = restaurants['state_name'].sort_values().unique().tolist()\n",
    "xlabel = 'States'\n",
    "stack = ['1', '1.5', '2', '2.5', '3', '3.5', '4', '4.5', '5']\n",
    "colors = ['#30678d','#08306b', '#08519c', '#2171b5', '#4292c6', '#6baed6', '#9ecae1', '#c6dbef', '#deebf7']\n",
    "\n",
    "state = figure(x_range=FactorRange(factors=range_x), y_range=(0,2400),plot_width=800, plot_height=550,\n",
    "           x_axis_label=xlabel, toolbar_location=None, tools=\"\",\n",
    "           title=title)\n",
    "\n",
    "renderers = state.vbar_stack(stack, x='state_name', width=0.9, color=colors, source=source,\n",
    "             legend_label=stack)\n",
    "\n",
    "\n",
    "for r in renderers:\n",
    "    year = r.name\n",
    "    hover = HoverTool(tooltips=[\n",
    "        (\"Total # of stars that have %s\" % year, \"@%s\" % year),\n",
    "        (\"index\", \"$index\")\n",
    "    ], renderers=[r])\n",
    "    state.add_tools(hover)\n",
    "\n",
    "# axis ticks\n",
    "state.yaxis.ticker = [0, 500, 1000, 1500, 2000, 2500]\n",
    "state.xaxis.major_tick_line_color = None \n",
    "state.xaxis.minor_tick_line_color = None \n",
    "state.yaxis.major_tick_line_color = None  \n",
    "state.yaxis.minor_tick_line_color = None  \n",
    "state.legend.location = \"top_center\"\n",
    "state.legend.label_text_font_size = \"7pt\"\n",
    "state.legend.orientation = \"horizontal\"\n",
    "state.title.text_font_size = '13pt'\n",
    "state.title.align = 'center'\n",
    "\n",
    "# show(state)"
   ]
  },
  {
   "cell_type": "code",
   "execution_count": 54,
   "metadata": {},
   "outputs": [],
   "source": [
    "stars_df = restaurants.groupby(['cat_kitchen','stars']).size().reset_index(name='counts')\n",
    "stars_df = stars_df.pivot_table(values = 'counts', index='cat_kitchen', columns='stars').reset_index()\n",
    "stars_df = stars_df.rename(columns={1.0:'1', 1.5:'1.5',2.0:'2',2.5:'2.5',\n",
    "                                    3.0:'3',3.5:'3.5',4.0:'4',4.5:'4.5',5.0:'5'}) \n",
    "\n",
    "stars_df = stars_df.fillna(0)\n",
    "source = ColumnDataSource(stars_df)\n",
    "\n",
    "title = 'Count of stars by Kitchen'\n",
    "range_x = restaurants['cat_kitchen'].sort_values().unique().tolist()\n",
    "xlabel = 'Kitchen Types'\n",
    "ylabel = '# of stars'\n",
    "stack = ['1', '1.5', '2', '2.5', '3', '3.5', '4', '4.5', '5']\n",
    "colors = ['#30678D','#08306b', '#08519c', '#2171b5', '#4292c6', '#6baed6', '#9ecae1', '#c6dbef', '#deebf7']\n",
    "\n",
    "kitchen = figure(x_range=FactorRange(factors=range_x), y_range=(0,2400), plot_width=800, plot_height=500,\n",
    "           x_axis_label=xlabel,toolbar_location=None, tools=\"\",\n",
    "           title=title)\n",
    "\n",
    "renderers = kitchen.vbar_stack(stack, x='cat_kitchen', width=0.9, color=colors, source=source,\n",
    "             legend_label=stack)\n",
    "\n",
    "for r in renderers:\n",
    "    year = r.name\n",
    "    hover = HoverTool(tooltips=[\n",
    "        (\"Total # of stars that have %s\" % year, \"@%s\" % year),\n",
    "        (\"index\", \"$index\")\n",
    "    ], renderers=[r])\n",
    "    kitchen.add_tools(hover)\n",
    "\n",
    "# axis ticks\n",
    "kitchen.xaxis.major_tick_line_color = None \n",
    "kitchen.xaxis.minor_tick_line_color = None \n",
    "kitchen.yaxis.major_tick_line_color = None  \n",
    "kitchen.yaxis.minor_tick_line_color = None  \n",
    "kitchen.legend.location = \"top_center\"\n",
    "kitchen.legend.label_text_font_size = \"7pt\"\n",
    "kitchen.legend.orientation = \"horizontal\"\n",
    "kitchen.xaxis.major_label_orientation = \"vertical\"\n",
    "kitchen.title.text_font_size = '13pt'\n",
    "kitchen.title.align = 'center'\n",
    "\n",
    "# show(kitchen)"
   ]
  },
  {
   "cell_type": "code",
   "execution_count": 55,
   "metadata": {},
   "outputs": [],
   "source": [
    "stars_df = restaurants.groupby(['cat_type','stars']).size().reset_index(name='counts')\n",
    "stars_df = stars_df.pivot_table(values = 'counts', index='cat_type', columns='stars').reset_index()\n",
    "stars_df = stars_df.rename(columns={1.0:'1', 1.5:'1.5',2.0:'2',2.5:'2.5',\n",
    "                                    3.0:'3',3.5:'3.5',4.0:'4',4.5:'4.5',5.0:'5'}) \n",
    "\n",
    "stars_df = stars_df.fillna(0)\n",
    "source = ColumnDataSource(stars_df)\n",
    "\n",
    "title = 'Count of stars by Type'\n",
    "range_x = restaurants['cat_type'].sort_values().unique().tolist()\n",
    "xlabel = 'Type'\n",
    "ylabel = '# of stars'\n",
    "stack = ['1', '1.5', '2', '2.5', '3', '3.5', '4', '4.5', '5']\n",
    "stack = ['1', '1.5', '2', '2.5', '3', '3.5', '4', '4.5', '5']\n",
    "colors = ['#30678D','#08306b', '#08519c', '#2171b5', '#4292c6', '#6baed6', '#9ecae1', '#c6dbef', '#deebf7']\n",
    "\n",
    "types = figure(x_range=FactorRange(factors=range_x),y_range=(0,2000), plot_width=800, plot_height=500,\n",
    "           x_axis_label=xlabel ,toolbar_location=None, tools=\"\",\n",
    "           title=title)\n",
    "\n",
    "renderers = types.vbar_stack(stack, x='cat_type', width=0.9, color=colors, source=source,\n",
    "             legend_label=stack)\n",
    "\n",
    "for r in renderers:\n",
    "    year = r.name\n",
    "    hover = HoverTool(tooltips=[\n",
    "        (\"Total # of stars that have %s\" % year, \"@%s\" % year),\n",
    "        (\"index\", \"$index\")\n",
    "    ], renderers=[r])\n",
    "    types.add_tools(hover)\n",
    "\n",
    "# axis ticks\n",
    "types.xaxis.major_tick_line_color = None \n",
    "types.xaxis.minor_tick_line_color = None \n",
    "types.yaxis.major_tick_line_color = None  \n",
    "types.yaxis.minor_tick_line_color = None  \n",
    "types.legend.location = \"top_center\"\n",
    "types.legend.label_text_font_size = \"7pt\"\n",
    "types.legend.orientation = \"horizontal\"\n",
    "types.xaxis.major_label_orientation = \"vertical\"\n",
    "types.title.text_font_size = '13pt'\n",
    "types.title.align = 'center'\n",
    "\n",
    "# show(types)"
   ]
  },
  {
   "cell_type": "markdown",
   "metadata": {},
   "source": [
    "Below are all the plots made into a three different tabs, such that the user can select the interrested area. Here it is also stated the height and width of the plots, so they have the same sizes when the users select between the different plots. This gives a good flow on the website. "
   ]
  },
  {
   "cell_type": "code",
   "execution_count": 56,
   "metadata": {},
   "outputs": [
    {
     "data": {
      "text/html": [
       "\n",
       "\n",
       "\n",
       "\n",
       "\n",
       "\n",
       "  <div class=\"bk-root\" id=\"9f7c0648-16c4-45c1-bd22-433c6dfb6a42\" data-root-id=\"3107\"></div>\n"
      ]
     },
     "metadata": {},
     "output_type": "display_data"
    },
    {
     "data": {
      "application/javascript": [
       "(function(root) {\n",
       "  function embed_document(root) {\n",
       "    \n",
       "  var docs_json = {\"720a7157-257e-42fc-9dba-3fd1ed644f95\":{\"defs\":[],\"roots\":{\"references\":[{\"attributes\":{\"tabs\":[{\"id\":\"3104\"},{\"id\":\"3105\"},{\"id\":\"3106\"}]},\"id\":\"3107\",\"type\":\"Tabs\"},{\"attributes\":{\"data_source\":{\"id\":\"2912\"},\"glyph\":{\"id\":\"3027\"},\"hover_glyph\":null,\"muted_glyph\":null,\"name\":\"3.5\",\"nonselection_glyph\":{\"id\":\"3028\"},\"view\":{\"id\":\"3030\"}},\"id\":\"3029\",\"type\":\"GlyphRenderer\"},{\"attributes\":{\"source\":{\"id\":\"2526\"}},\"id\":\"2689\",\"type\":\"CDSView\"},{\"attributes\":{\"bottom\":{\"expr\":{\"id\":\"2558\"}},\"fill_color\":{\"value\":\"#9ecae1\"},\"line_color\":{\"value\":\"#9ecae1\"},\"top\":{\"expr\":{\"id\":\"2559\"}},\"width\":{\"value\":0.9},\"x\":{\"field\":\"state_name\"}},\"id\":\"2656\",\"type\":\"VBar\"},{\"attributes\":{\"callback\":null,\"renderers\":[{\"id\":\"2777\"}],\"tooltips\":[[\"Total # of stars that have 1.5\",\"@1.5\"],[\"index\",\"$index\"]]},\"id\":\"2896\",\"type\":\"HoverTool\"},{\"attributes\":{\"fields\":[\"1\",\"1.5\",\"2\",\"2.5\",\"3\",\"3.5\",\"4\",\"4.5\",\"5\"]},\"id\":\"2757\",\"type\":\"Stack\"},{\"attributes\":{\"callback\":null,\"renderers\":[{\"id\":\"2999\"}],\"tooltips\":[[\"Total # of stars that have 2.5\",\"@2.5\"],[\"index\",\"$index\"]]},\"id\":\"3092\",\"type\":\"HoverTool\"},{\"attributes\":{\"label\":{\"value\":\"2.5\"},\"renderers\":[{\"id\":\"2999\"}]},\"id\":\"3010\",\"type\":\"LegendItem\"},{\"attributes\":{\"data_source\":{\"id\":\"2720\"},\"glyph\":{\"id\":\"2835\"},\"hover_glyph\":null,\"muted_glyph\":null,\"name\":\"3.5\",\"nonselection_glyph\":{\"id\":\"2836\"},\"view\":{\"id\":\"2838\"}},\"id\":\"2837\",\"type\":\"GlyphRenderer\"},{\"attributes\":{\"bottom\":{\"expr\":{\"id\":\"2548\"}},\"fill_alpha\":{\"value\":0.1},\"fill_color\":{\"value\":\"#08306b\"},\"line_alpha\":{\"value\":0.1},\"line_color\":{\"value\":\"#08306b\"},\"top\":{\"expr\":{\"id\":\"2549\"}},\"width\":{\"value\":0.9},\"x\":{\"field\":\"state_name\"}},\"id\":\"2582\",\"type\":\"VBar\"},{\"attributes\":{},\"id\":\"2572\",\"type\":\"BasicTickFormatter\"},{\"attributes\":{\"label\":{\"value\":\"1.5\"},\"renderers\":[{\"id\":\"2777\"}]},\"id\":\"2788\",\"type\":\"LegendItem\"},{\"attributes\":{\"bottom\":{\"expr\":{\"id\":\"2750\"}},\"fill_alpha\":{\"value\":0.1},\"fill_color\":{\"value\":\"#6baed6\"},\"line_alpha\":{\"value\":0.1},\"line_color\":{\"value\":\"#6baed6\"},\"top\":{\"expr\":{\"id\":\"2751\"}},\"width\":{\"value\":0.9},\"x\":{\"field\":\"cat_kitchen\"}},\"id\":\"2836\",\"type\":\"VBar\"},{\"attributes\":{\"source\":{\"id\":\"2720\"}},\"id\":\"2883\",\"type\":\"CDSView\"},{\"attributes\":{\"data_source\":{\"id\":\"2720\"},\"glyph\":{\"id\":\"2759\"},\"hover_glyph\":null,\"muted_glyph\":null,\"name\":\"1\",\"nonselection_glyph\":{\"id\":\"2760\"},\"view\":{\"id\":\"2762\"}},\"id\":\"2761\",\"type\":\"GlyphRenderer\"},{\"attributes\":{\"label\":{\"value\":\"2\"},\"renderers\":[{\"id\":\"2792\"}]},\"id\":\"2803\",\"type\":\"LegendItem\"},{\"attributes\":{\"source\":{\"id\":\"2912\"}},\"id\":\"3015\",\"type\":\"CDSView\"},{\"attributes\":{\"child\":{\"id\":\"2914\"},\"title\":\"Count stars by Type\"},\"id\":\"3106\",\"type\":\"Panel\"},{\"attributes\":{\"source\":{\"id\":\"2526\"}},\"id\":\"2599\",\"type\":\"CDSView\"},{\"attributes\":{\"items\":[{\"id\":\"2579\"},{\"id\":\"2594\"},{\"id\":\"2609\"},{\"id\":\"2624\"},{\"id\":\"2639\"},{\"id\":\"2654\"},{\"id\":\"2669\"},{\"id\":\"2684\"},{\"id\":\"2699\"}],\"label_text_font_size\":\"7pt\",\"location\":\"top_center\",\"orientation\":\"horizontal\"},\"id\":\"2578\",\"type\":\"Legend\"},{\"attributes\":{\"label\":{\"value\":\"3\"},\"renderers\":[{\"id\":\"2822\"}]},\"id\":\"2833\",\"type\":\"LegendItem\"},{\"attributes\":{\"callback\":null,\"renderers\":[{\"id\":\"3074\"}],\"tooltips\":[[\"Total # of stars that have 5\",\"@5\"],[\"index\",\"$index\"]]},\"id\":\"3102\",\"type\":\"HoverTool\"},{\"attributes\":{\"fields\":[\"1\",\"1.5\",\"2\",\"2.5\",\"3\"]},\"id\":\"2749\",\"type\":\"Stack\"},{\"attributes\":{\"align\":\"center\",\"text\":\"Count of stars by Kitchen\",\"text_font_size\":\"13pt\"},\"id\":\"2723\",\"type\":\"Title\"},{\"attributes\":{\"callback\":null,\"renderers\":[{\"id\":\"2583\"}],\"tooltips\":[[\"Total # of stars that have 1.5\",\"@1.5\"],[\"index\",\"$index\"]]},\"id\":\"2702\",\"type\":\"HoverTool\"},{\"attributes\":{},\"id\":\"2770\",\"type\":\"Selection\"},{\"attributes\":{\"data_source\":{\"id\":\"2526\"},\"glyph\":{\"id\":\"2656\"},\"hover_glyph\":null,\"muted_glyph\":null,\"name\":\"4\",\"nonselection_glyph\":{\"id\":\"2657\"},\"view\":{\"id\":\"2659\"}},\"id\":\"2658\",\"type\":\"GlyphRenderer\"},{\"attributes\":{\"axis\":{\"id\":\"2735\"},\"dimension\":1,\"ticker\":null},\"id\":\"2738\",\"type\":\"Grid\"},{\"attributes\":{},\"id\":\"2539\",\"type\":\"CategoricalTicker\"},{\"attributes\":{\"fields\":[\"1\",\"1.5\",\"2\",\"2.5\",\"3\",\"3.5\",\"4\",\"4.5\"]},\"id\":\"2947\",\"type\":\"Stack\"},{\"attributes\":{\"callback\":null,\"renderers\":[{\"id\":\"2613\"}],\"tooltips\":[[\"Total # of stars that have 2.5\",\"@2.5\"],[\"index\",\"$index\"]]},\"id\":\"2706\",\"type\":\"HoverTool\"},{\"attributes\":{\"bottom\":{\"expr\":{\"id\":\"2552\"}},\"fill_color\":{\"value\":\"#2171b5\"},\"line_color\":{\"value\":\"#2171b5\"},\"top\":{\"expr\":{\"id\":\"2553\"}},\"width\":{\"value\":0.9},\"x\":{\"field\":\"state_name\"}},\"id\":\"2611\",\"type\":\"VBar\"},{\"attributes\":{\"fields\":[\"1\",\"1.5\"]},\"id\":\"2743\",\"type\":\"Stack\"},{\"attributes\":{\"label\":{\"value\":\"3.5\"},\"renderers\":[{\"id\":\"2837\"}]},\"id\":\"2848\",\"type\":\"LegendItem\"},{\"attributes\":{\"data\":{\"1\":{\"__ndarray__\":\"AAAAAAAAAAAAAAAAAAAAQAAAAAAAAAAAAAAAAAAAAAAAAAAAAAAAAAAAAAAAAAAAAAAAAAAAAAAAAAAAAAAAQAAAAAAAAAAAAAAAAAAAAAAAAAAAAADwPwAAAAAAAAAAAAAAAAAA8D8AAAAAAAAAAAAAAAAAAAAAAAAAAAAAAAA=\",\"dtype\":\"float64\",\"order\":\"little\",\"shape\":[16]},\"1.5\":{\"__ndarray__\":\"AAAAAAAAGEAAAAAAAAAYQAAAAAAAAPA/AAAAAAAAAAAAAAAAAAAQQAAAAAAAAPA/AAAAAAAA8D8AAAAAAAAUQAAAAAAAAAAAAAAAAAAAAAAAAAAAAAAAAAAAAAAAAAAAAAAAAAAAHEAAAAAAAAAAAAAAAAAAAAAAAAAAAAAAAAA=\",\"dtype\":\"float64\",\"order\":\"little\",\"shape\":[16]},\"2\":{\"__ndarray__\":\"AAAAAAAANUAAAAAAAABJQAAAAAAAAAAAAAAAAAAACEAAAAAAAAAkQAAAAAAAAABAAAAAAAAAAAAAAAAAAAA0QAAAAAAAACZAAAAAAAAAAAAAAAAAAAAAAAAAAAAAAAAAAAAAAAAAMEAAAAAAAAAAAAAAAAAAAABAAAAAAAAA8D8=\",\"dtype\":\"float64\",\"order\":\"little\",\"shape\":[16]},\"2.5\":{\"__ndarray__\":\"AAAAAADAUEAAAAAAAMBjQAAAAAAAAAAAAAAAAAAAAEAAAAAAAABEQAAAAAAAAAhAAAAAAAAA8D8AAAAAAABFQAAAAAAAADhAAAAAAAAACEAAAAAAAAAAAAAAAAAAABRAAAAAAAAAQUAAAAAAAAAAAAAAAAAAAAhAAAAAAAAAFEA=\",\"dtype\":\"float64\",\"order\":\"little\",\"shape\":[16]},\"3\":{\"__ndarray__\":\"AAAAAADAZkAAAAAAAIB4QAAAAAAAABxAAAAAAAAALkAAAAAAAABcQAAAAAAAACxAAAAAAAAAOEAAAAAAAABfQAAAAAAAgFxAAAAAAAAAKEAAAAAAAAA0QAAAAAAAADRAAAAAAABAV0AAAAAAAADwPwAAAAAAAChAAAAAAAAAMUA=\",\"dtype\":\"float64\",\"order\":\"little\",\"shape\":[16]},\"3.5\":{\"__ndarray__\":\"AAAAAADQfEAAAAAAAECGQAAAAAAAADFAAAAAAAAAQEAAAAAAAMBjQAAAAAAAgEJAAAAAAACAT0AAAAAAANB1QAAAAAAA4HNAAAAAAAAAO0AAAAAAAABCQAAAAAAAgE5AAAAAAACgaEAAAAAAAAAUQAAAAAAAAEVAAAAAAACASkA=\",\"dtype\":\"float64\",\"order\":\"little\",\"shape\":[16]},\"4\":{\"__ndarray__\":\"AAAAAADwg0AAAAAAANiDQAAAAAAAADxAAAAAAAAASEAAAAAAAIBeQAAAAAAAAEZAAAAAAAAAWEAAAAAAAEB7QAAAAAAAYHdAAAAAAACARUAAAAAAAIBOQAAAAAAAQF9AAAAAAAAgbEAAAAAAAAAoQAAAAAAAAFRAAAAAAACAWUA=\",\"dtype\":\"float64\",\"order\":\"little\",\"shape\":[16]},\"4.5\":{\"__ndarray__\":\"AAAAAAAwcUAAAAAAAOBsQAAAAAAAADFAAAAAAACAQEAAAAAAAABAQAAAAAAAADpAAAAAAACASkAAAAAAAEBmQAAAAAAAQGVAAAAAAAAAQEAAAAAAAIBRQAAAAAAAgFZAAAAAAABAYEAAAAAAAAAAQAAAAAAAAElAAAAAAADAUEA=\",\"dtype\":\"float64\",\"order\":\"little\",\"shape\":[16]},\"5\":{\"__ndarray__\":\"AAAAAAAAQUAAAAAAAAA8QAAAAAAAAPA/AAAAAAAAAEAAAAAAAAAIQAAAAAAAAABAAAAAAAAACEAAAAAAAAA5QAAAAAAAADJAAAAAAAAACEAAAAAAAAAoQAAAAAAAADVAAAAAAAAAMkAAAAAAAAAAAAAAAAAAABxAAAAAAAAAGEA=\",\"dtype\":\"float64\",\"order\":\"little\",\"shape\":[16]},\"cat_kitchen\":[\"American (New)\",\"American (Traditional)\",\"Cajun/Creole\",\"Caribbean\",\"Chinese\",\"Greek\",\"Indian\",\"Italian\",\"Japanese\",\"Korean\",\"Latin American\",\"Mediterranean\",\"Mexican\",\"New Mexican Cuisine\",\"Thai\",\"Vietnamese\"],\"index\":[0,1,2,3,4,5,6,7,8,9,10,11,12,13,14,15]},\"selected\":{\"id\":\"2770\"},\"selection_policy\":{\"id\":\"2771\"}},\"id\":\"2720\",\"type\":\"ColumnDataSource\"},{\"attributes\":{\"bottom\":{\"expr\":{\"id\":\"2940\"}},\"fill_color\":{\"value\":\"#4292c6\"},\"line_color\":{\"value\":\"#4292c6\"},\"top\":{\"expr\":{\"id\":\"2941\"}},\"width\":{\"value\":0.9},\"x\":{\"field\":\"cat_type\"}},\"id\":\"3012\",\"type\":\"VBar\"},{\"attributes\":{},\"id\":\"2575\",\"type\":\"CategoricalTickFormatter\"},{\"attributes\":{},\"id\":\"2765\",\"type\":\"AllLabels\"},{\"attributes\":{\"label\":{\"value\":\"3.5\"},\"renderers\":[{\"id\":\"3029\"}]},\"id\":\"3040\",\"type\":\"LegendItem\"},{\"attributes\":{\"bottom\":{\"expr\":{\"id\":\"2940\"}},\"fill_alpha\":{\"value\":0.1},\"fill_color\":{\"value\":\"#4292c6\"},\"line_alpha\":{\"value\":0.1},\"line_color\":{\"value\":\"#4292c6\"},\"top\":{\"expr\":{\"id\":\"2941\"}},\"width\":{\"value\":0.9},\"x\":{\"field\":\"cat_type\"}},\"id\":\"3013\",\"type\":\"VBar\"},{\"attributes\":{},\"id\":\"2962\",\"type\":\"Selection\"},{\"attributes\":{\"callback\":null,\"renderers\":[{\"id\":\"2598\"}],\"tooltips\":[[\"Total # of stars that have 2\",\"@2\"],[\"index\",\"$index\"]]},\"id\":\"2704\",\"type\":\"HoverTool\"},{\"attributes\":{\"bottom\":{\"expr\":{\"id\":\"2562\"}},\"fill_color\":{\"value\":\"#deebf7\"},\"line_color\":{\"value\":\"#deebf7\"},\"top\":{\"expr\":{\"id\":\"2563\"}},\"width\":{\"value\":0.9},\"x\":{\"field\":\"state_name\"}},\"id\":\"2686\",\"type\":\"VBar\"},{\"attributes\":{},\"id\":\"2928\",\"type\":\"BasicTicker\"},{\"attributes\":{\"bottom\":{\"expr\":{\"id\":\"2948\"}},\"fill_alpha\":{\"value\":0.1},\"fill_color\":{\"value\":\"#deebf7\"},\"line_alpha\":{\"value\":0.1},\"line_color\":{\"value\":\"#deebf7\"},\"top\":{\"expr\":{\"id\":\"2949\"}},\"width\":{\"value\":0.9},\"x\":{\"field\":\"cat_type\"}},\"id\":\"3073\",\"type\":\"VBar\"},{\"attributes\":{},\"id\":\"2766\",\"type\":\"BasicTickFormatter\"},{\"attributes\":{\"fields\":[]},\"id\":\"2546\",\"type\":\"Stack\"},{\"attributes\":{\"formatter\":{\"id\":\"2572\"},\"major_label_policy\":{\"id\":\"2571\"},\"major_tick_line_color\":null,\"minor_tick_line_color\":null,\"ticker\":{\"id\":\"2718\"}},\"id\":\"2541\",\"type\":\"LinearAxis\"},{\"attributes\":{\"axis_label\":\"States\",\"formatter\":{\"id\":\"2575\"},\"major_label_policy\":{\"id\":\"2574\"},\"major_tick_line_color\":null,\"minor_tick_line_color\":null,\"ticker\":{\"id\":\"2539\"}},\"id\":\"2538\",\"type\":\"CategoricalAxis\"},{\"attributes\":{\"bottom\":{\"expr\":{\"id\":\"2750\"}},\"fill_color\":{\"value\":\"#6baed6\"},\"line_color\":{\"value\":\"#6baed6\"},\"top\":{\"expr\":{\"id\":\"2751\"}},\"width\":{\"value\":0.9},\"x\":{\"field\":\"cat_kitchen\"}},\"id\":\"2835\",\"type\":\"VBar\"},{\"attributes\":{\"data_source\":{\"id\":\"2526\"},\"glyph\":{\"id\":\"2581\"},\"hover_glyph\":null,\"muted_glyph\":null,\"name\":\"1.5\",\"nonselection_glyph\":{\"id\":\"2582\"},\"view\":{\"id\":\"2584\"}},\"id\":\"2583\",\"type\":\"GlyphRenderer\"},{\"attributes\":{\"below\":[{\"id\":\"2732\"}],\"center\":[{\"id\":\"2734\"},{\"id\":\"2738\"},{\"id\":\"2772\"}],\"height\":600,\"left\":[{\"id\":\"2735\"}],\"renderers\":[{\"id\":\"2761\"},{\"id\":\"2777\"},{\"id\":\"2792\"},{\"id\":\"2807\"},{\"id\":\"2822\"},{\"id\":\"2837\"},{\"id\":\"2852\"},{\"id\":\"2867\"},{\"id\":\"2882\"}],\"title\":{\"id\":\"2723\"},\"toolbar\":{\"id\":\"2739\"},\"toolbar_location\":null,\"width\":800,\"x_range\":{\"id\":\"2721\"},\"x_scale\":{\"id\":\"2728\"},\"y_range\":{\"id\":\"2726\"},\"y_scale\":{\"id\":\"2730\"}},\"id\":\"2722\",\"subtype\":\"Figure\",\"type\":\"Plot\"},{\"attributes\":{\"data_source\":{\"id\":\"2912\"},\"glyph\":{\"id\":\"3042\"},\"hover_glyph\":null,\"muted_glyph\":null,\"name\":\"4\",\"nonselection_glyph\":{\"id\":\"3043\"},\"view\":{\"id\":\"3045\"}},\"id\":\"3044\",\"type\":\"GlyphRenderer\"},{\"attributes\":{\"bottom\":{\"expr\":{\"id\":\"2552\"}},\"fill_alpha\":{\"value\":0.1},\"fill_color\":{\"value\":\"#2171b5\"},\"line_alpha\":{\"value\":0.1},\"line_color\":{\"value\":\"#2171b5\"},\"top\":{\"expr\":{\"id\":\"2553\"}},\"width\":{\"value\":0.9},\"x\":{\"field\":\"state_name\"}},\"id\":\"2612\",\"type\":\"VBar\"},{\"attributes\":{\"ticks\":[0,500,1000,1500,2000,2500]},\"id\":\"2718\",\"type\":\"FixedTicker\"},{\"attributes\":{\"bottom\":{\"expr\":{\"id\":\"2556\"}},\"fill_alpha\":{\"value\":0.1},\"fill_color\":{\"value\":\"#6baed6\"},\"line_alpha\":{\"value\":0.1},\"line_color\":{\"value\":\"#6baed6\"},\"top\":{\"expr\":{\"id\":\"2557\"}},\"width\":{\"value\":0.9},\"x\":{\"field\":\"state_name\"}},\"id\":\"2642\",\"type\":\"VBar\"},{\"attributes\":{\"label\":{\"value\":\"4\"},\"renderers\":[{\"id\":\"2852\"}]},\"id\":\"2863\",\"type\":\"LegendItem\"},{\"attributes\":{\"bottom\":{\"expr\":{\"id\":\"2756\"}},\"fill_color\":{\"value\":\"#deebf7\"},\"line_color\":{\"value\":\"#deebf7\"},\"top\":{\"expr\":{\"id\":\"2757\"}},\"width\":{\"value\":0.9},\"x\":{\"field\":\"cat_kitchen\"}},\"id\":\"2880\",\"type\":\"VBar\"},{\"attributes\":{\"data_source\":{\"id\":\"2912\"},\"glyph\":{\"id\":\"3072\"},\"hover_glyph\":null,\"muted_glyph\":null,\"name\":\"5\",\"nonselection_glyph\":{\"id\":\"3073\"},\"view\":{\"id\":\"3075\"}},\"id\":\"3074\",\"type\":\"GlyphRenderer\"},{\"attributes\":{\"callback\":null,\"renderers\":[{\"id\":\"2807\"}],\"tooltips\":[[\"Total # of stars that have 2.5\",\"@2.5\"],[\"index\",\"$index\"]]},\"id\":\"2900\",\"type\":\"HoverTool\"},{\"attributes\":{\"callback\":null,\"renderers\":[{\"id\":\"2852\"}],\"tooltips\":[[\"Total # of stars that have 4\",\"@4\"],[\"index\",\"$index\"]]},\"id\":\"2906\",\"type\":\"HoverTool\"},{\"attributes\":{\"source\":{\"id\":\"2912\"}},\"id\":\"2985\",\"type\":\"CDSView\"},{\"attributes\":{\"bottom\":{\"expr\":{\"id\":\"2752\"}},\"fill_color\":{\"value\":\"#9ecae1\"},\"line_color\":{\"value\":\"#9ecae1\"},\"top\":{\"expr\":{\"id\":\"2753\"}},\"width\":{\"value\":0.9},\"x\":{\"field\":\"cat_kitchen\"}},\"id\":\"2850\",\"type\":\"VBar\"},{\"attributes\":{\"label\":{\"value\":\"5\"},\"renderers\":[{\"id\":\"3074\"}]},\"id\":\"3085\",\"type\":\"LegendItem\"},{\"attributes\":{\"source\":{\"id\":\"2912\"}},\"id\":\"3060\",\"type\":\"CDSView\"},{\"attributes\":{},\"id\":\"2576\",\"type\":\"Selection\"},{\"attributes\":{},\"id\":\"2733\",\"type\":\"CategoricalTicker\"},{\"attributes\":{\"bottom\":{\"expr\":{\"id\":\"2938\"}},\"fill_alpha\":{\"value\":0.1},\"fill_color\":{\"value\":\"#2171b5\"},\"line_alpha\":{\"value\":0.1},\"line_color\":{\"value\":\"#2171b5\"},\"top\":{\"expr\":{\"id\":\"2939\"}},\"width\":{\"value\":0.9},\"x\":{\"field\":\"cat_type\"}},\"id\":\"2998\",\"type\":\"VBar\"},{\"attributes\":{\"fields\":[\"1\",\"1.5\",\"2\",\"2.5\",\"3\",\"3.5\"]},\"id\":\"2752\",\"type\":\"Stack\"},{\"attributes\":{\"end\":2400},\"id\":\"2726\",\"type\":\"Range1d\"},{\"attributes\":{\"data\":{\"1\":{\"__ndarray__\":\"AAAAAAAA8D8AAAAAAAAAAAAAAAAAAAAAAAAAAAAAAAAAAAAAAAAAAAAAAAAAAPA/AAAAAAAAAAAAAAAAAADwPwAAAAAAAPA/AAAAAAAAAAAAAAAAAADwPwAAAAAAAPA/AAAAAAAAAAAAAAAAAAAAAAAAAAAAAAAAAAAAAAAAAAAAAAAAAAAAAA==\",\"dtype\":\"float64\",\"order\":\"little\",\"shape\":[17]},\"1.5\":{\"__ndarray__\":\"AAAAAAAA8D8AAAAAAADwPwAAAAAAAABAAAAAAAAAAEAAAAAAAAAAAAAAAAAAAAAAAAAAAAAAAAAAAAAAAAAkQAAAAAAAABRAAAAAAAAA8D8AAAAAAAAYQAAAAAAAAABAAAAAAAAA8D8AAAAAAAAAAAAAAAAAAAAAAAAAAAAAAAAAAAAAAAAAAA==\",\"dtype\":\"float64\",\"order\":\"little\",\"shape\":[17]},\"2\":{\"__ndarray__\":\"AAAAAAAAMEAAAAAAAAAcQAAAAAAAAAhAAAAAAAAAJkAAAAAAAAAAQAAAAAAAAAAAAAAAAAAAAAAAAAAAAAA7QAAAAAAAAC5AAAAAAAAALkAAAAAAAAAxQAAAAAAAAAhAAAAAAAAAHEAAAAAAAADwPwAAAAAAACRAAAAAAAAA8D8AAAAAAADwPw==\",\"dtype\":\"float64\",\"order\":\"little\",\"shape\":[17]},\"2.5\":{\"__ndarray__\":\"AAAAAAAATkAAAAAAAAA3QAAAAAAAAChAAAAAAAAANUAAAAAAAAAcQAAAAAAAAAAAAAAAAAAAFEAAAAAAAIBBQAAAAAAAAEhAAAAAAAAAUEAAAAAAAABEQAAAAAAAAChAAAAAAAAAMkAAAAAAAAAuQAAAAAAAADZAAAAAAAAAEEAAAAAAAADwPw==\",\"dtype\":\"float64\",\"order\":\"little\",\"shape\":[17]},\"3\":{\"__ndarray__\":\"AAAAAABgZ0AAAAAAAIBQQAAAAAAAAEFAAAAAAACAUEAAAAAAAAA0QAAAAAAAACBAAAAAAAAAJkAAAAAAAABOQAAAAAAAgGNAAAAAAADgZ0AAAAAAAABbQAAAAAAAAEFAAAAAAAAATkAAAAAAAAA6QAAAAAAAAFtAAAAAAAAAMkAAAAAAAAAYQA==\",\"dtype\":\"float64\",\"order\":\"little\",\"shape\":[17]},\"3.5\":{\"__ndarray__\":\"AAAAAACAeEAAAAAAAEBmQAAAAAAAAEJAAAAAAABAWUAAAAAAAABIQAAAAAAAgEFAAAAAAACAR0AAAAAAAABTQAAAAAAAYHhAAAAAAABgekAAAAAAAGBtQAAAAAAAgE9AAAAAAACAXkAAAAAAAABPQAAAAAAAIHJAAAAAAACARUAAAAAAAAA8QA==\",\"dtype\":\"float64\",\"order\":\"little\",\"shape\":[17]},\"4\":{\"__ndarray__\":\"AAAAAACgeUAAAAAAAEBrQAAAAAAAAD9AAAAAAADAVkAAAAAAAABMQAAAAAAAAEpAAAAAAACASkAAAAAAAABQQAAAAAAAkIBAAAAAAABwfUAAAAAAAFBxQAAAAAAAQFlAAAAAAABgZEAAAAAAAIBRQAAAAAAA8HNAAAAAAAAAWUAAAAAAAIBPQA==\",\"dtype\":\"float64\",\"order\":\"little\",\"shape\":[17]},\"4.5\":{\"__ndarray__\":\"AAAAAABAY0AAAAAAAABYQAAAAAAAAChAAAAAAACAQUAAAAAAAABDQAAAAAAAAERAAAAAAAAANkAAAAAAAIBBQAAAAAAAkHZAAAAAAADgZ0AAAAAAAEBSQAAAAAAAAE5AAAAAAADAXEAAAAAAAAAxQAAAAAAAgFxAAAAAAABAUkAAAAAAAAA0QA==\",\"dtype\":\"float64\",\"order\":\"little\",\"shape\":[17]},\"5\":{\"__ndarray__\":\"AAAAAAAAMUAAAAAAAAAoQAAAAAAAAABAAAAAAAAAFEAAAAAAAAAcQAAAAAAAACBAAAAAAAAA8D8AAAAAAAAIQAAAAAAAAE5AAAAAAAAALEAAAAAAAAAkQAAAAAAAAAhAAAAAAAAANEAAAAAAAADwPwAAAAAAACRAAAAAAAAAHEAAAAAAAAAIQA==\",\"dtype\":\"float64\",\"order\":\"little\",\"shape\":[17]},\"cat_type\":[\"Bars\",\"Breakfast & Brunch\",\"Buffets\",\"Burgers\",\"Cafes\",\"Coffee & Tea\",\"Diners\",\"Fast Food\",\"Food\",\"Nightlife\",\"Pizza\",\"Salad\",\"Sandwiches\",\"Steakhouses\",\"Sushi Bars\",\"Vegetarian\",\"Wine Bars\"],\"index\":[0,1,2,3,4,5,6,7,8,9,10,11,12,13,14,15,16]},\"selected\":{\"id\":\"2962\"},\"selection_policy\":{\"id\":\"2963\"}},\"id\":\"2912\",\"type\":\"ColumnDataSource\"},{\"attributes\":{\"bottom\":{\"expr\":{\"id\":\"2942\"}},\"fill_alpha\":{\"value\":0.1},\"fill_color\":{\"value\":\"#6baed6\"},\"line_alpha\":{\"value\":0.1},\"line_color\":{\"value\":\"#6baed6\"},\"top\":{\"expr\":{\"id\":\"2943\"}},\"width\":{\"value\":0.9},\"x\":{\"field\":\"cat_type\"}},\"id\":\"3028\",\"type\":\"VBar\"},{\"attributes\":{\"bottom\":{\"expr\":{\"id\":\"2742\"}},\"fill_color\":{\"value\":\"#08306b\"},\"line_color\":{\"value\":\"#08306b\"},\"top\":{\"expr\":{\"id\":\"2743\"}},\"width\":{\"value\":0.9},\"x\":{\"field\":\"cat_kitchen\"}},\"id\":\"2775\",\"type\":\"VBar\"},{\"attributes\":{\"bottom\":{\"expr\":{\"id\":\"2932\"}},\"fill_alpha\":{\"value\":0.1},\"fill_color\":{\"value\":\"#30678D\"},\"line_alpha\":{\"value\":0.1},\"line_color\":{\"value\":\"#30678D\"},\"top\":{\"expr\":{\"id\":\"2933\"}},\"width\":{\"value\":0.9},\"x\":{\"field\":\"cat_type\"}},\"id\":\"2952\",\"type\":\"VBar\"},{\"attributes\":{\"fields\":[\"1\",\"1.5\",\"2\",\"2.5\",\"3\",\"3.5\",\"4\"]},\"id\":\"2753\",\"type\":\"Stack\"},{\"attributes\":{\"bottom\":{\"expr\":{\"id\":\"2944\"}},\"fill_alpha\":{\"value\":0.1},\"fill_color\":{\"value\":\"#9ecae1\"},\"line_alpha\":{\"value\":0.1},\"line_color\":{\"value\":\"#9ecae1\"},\"top\":{\"expr\":{\"id\":\"2945\"}},\"width\":{\"value\":0.9},\"x\":{\"field\":\"cat_type\"}},\"id\":\"3043\",\"type\":\"VBar\"},{\"attributes\":{},\"id\":\"2577\",\"type\":\"UnionRenderers\"},{\"attributes\":{\"items\":[{\"id\":\"2773\"},{\"id\":\"2788\"},{\"id\":\"2803\"},{\"id\":\"2818\"},{\"id\":\"2833\"},{\"id\":\"2848\"},{\"id\":\"2863\"},{\"id\":\"2878\"},{\"id\":\"2893\"}],\"label_text_font_size\":\"7pt\",\"location\":\"top_center\",\"orientation\":\"horizontal\"},\"id\":\"2772\",\"type\":\"Legend\"},{\"attributes\":{\"factors\":[\"Bars\",\"Breakfast & Brunch\",\"Buffets\",\"Burgers\",\"Cafes\",\"Coffee & Tea\",\"Diners\",\"Fast Food\",\"Food\",\"Nightlife\",\"Pizza\",\"Salad\",\"Sandwiches\",\"Steakhouses\",\"Sushi Bars\",\"Vegetarian\",\"Wine Bars\"]},\"id\":\"2913\",\"type\":\"FactorRange\"},{\"attributes\":{\"label\":{\"value\":\"2\"},\"renderers\":[{\"id\":\"2598\"}]},\"id\":\"2609\",\"type\":\"LegendItem\"},{\"attributes\":{\"bottom\":{\"expr\":{\"id\":\"2754\"}},\"fill_color\":{\"value\":\"#c6dbef\"},\"line_color\":{\"value\":\"#c6dbef\"},\"top\":{\"expr\":{\"id\":\"2755\"}},\"width\":{\"value\":0.9},\"x\":{\"field\":\"cat_kitchen\"}},\"id\":\"2865\",\"type\":\"VBar\"},{\"attributes\":{\"data_source\":{\"id\":\"2526\"},\"glyph\":{\"id\":\"2641\"},\"hover_glyph\":null,\"muted_glyph\":null,\"name\":\"3.5\",\"nonselection_glyph\":{\"id\":\"2642\"},\"view\":{\"id\":\"2644\"}},\"id\":\"2643\",\"type\":\"GlyphRenderer\"},{\"attributes\":{\"data_source\":{\"id\":\"2912\"},\"glyph\":{\"id\":\"3057\"},\"hover_glyph\":null,\"muted_glyph\":null,\"name\":\"4.5\",\"nonselection_glyph\":{\"id\":\"3058\"},\"view\":{\"id\":\"3060\"}},\"id\":\"3059\",\"type\":\"GlyphRenderer\"},{\"attributes\":{\"fields\":[\"1\",\"1.5\",\"2\",\"2.5\",\"3\"]},\"id\":\"2556\",\"type\":\"Stack\"},{\"attributes\":{\"label\":{\"value\":\"4\"},\"renderers\":[{\"id\":\"2658\"}]},\"id\":\"2669\",\"type\":\"LegendItem\"},{\"attributes\":{\"bottom\":{\"expr\":{\"id\":\"2946\"}},\"fill_color\":{\"value\":\"#c6dbef\"},\"line_color\":{\"value\":\"#c6dbef\"},\"top\":{\"expr\":{\"id\":\"2947\"}},\"width\":{\"value\":0.9},\"x\":{\"field\":\"cat_type\"}},\"id\":\"3057\",\"type\":\"VBar\"},{\"attributes\":{\"source\":{\"id\":\"2526\"}},\"id\":\"2659\",\"type\":\"CDSView\"},{\"attributes\":{},\"id\":\"2925\",\"type\":\"CategoricalTicker\"},{\"attributes\":{\"factors\":[\"British Columbia\",\"Colorado\",\"Florida\",\"Georgia\",\"Kansas\",\"Kentucky\",\"Massachusetts\",\"Ohio\",\"Oregon\",\"Texas\",\"Washington\"]},\"id\":\"2527\",\"type\":\"FactorRange\"},{\"attributes\":{},\"id\":\"2574\",\"type\":\"AllLabels\"},{\"attributes\":{\"callback\":null,\"renderers\":[{\"id\":\"2761\"}],\"tooltips\":[[\"Total # of stars that have 1\",\"@1\"],[\"index\",\"$index\"]]},\"id\":\"2894\",\"type\":\"HoverTool\"},{\"attributes\":{\"callback\":null,\"renderers\":[{\"id\":\"2837\"}],\"tooltips\":[[\"Total # of stars that have 3.5\",\"@3.5\"],[\"index\",\"$index\"]]},\"id\":\"2904\",\"type\":\"HoverTool\"},{\"attributes\":{\"axis\":{\"id\":\"2538\"},\"ticker\":null},\"id\":\"2540\",\"type\":\"Grid\"},{\"attributes\":{\"factors\":[\"American (New)\",\"American (Traditional)\",\"Cajun/Creole\",\"Caribbean\",\"Chinese\",\"Greek\",\"Indian\",\"Italian\",\"Japanese\",\"Korean\",\"Latin American\",\"Mediterranean\",\"Mexican\",\"New Mexican Cuisine\",\"Thai\",\"Vietnamese\"]},\"id\":\"2721\",\"type\":\"FactorRange\"},{\"attributes\":{\"bottom\":{\"expr\":{\"id\":\"2944\"}},\"fill_color\":{\"value\":\"#9ecae1\"},\"line_color\":{\"value\":\"#9ecae1\"},\"top\":{\"expr\":{\"id\":\"2945\"}},\"width\":{\"value\":0.9},\"x\":{\"field\":\"cat_type\"}},\"id\":\"3042\",\"type\":\"VBar\"},{\"attributes\":{\"active_multi\":null,\"tools\":[{\"id\":\"2894\"},{\"id\":\"2896\"},{\"id\":\"2898\"},{\"id\":\"2900\"},{\"id\":\"2902\"},{\"id\":\"2904\"},{\"id\":\"2906\"},{\"id\":\"2908\"},{\"id\":\"2910\"}]},\"id\":\"2739\",\"type\":\"Toolbar\"},{\"attributes\":{\"end\":2000},\"id\":\"2918\",\"type\":\"Range1d\"},{\"attributes\":{\"fields\":[\"1\",\"1.5\",\"2\"]},\"id\":\"2551\",\"type\":\"Stack\"},{\"attributes\":{\"axis_label\":\"Kitchen Types\",\"formatter\":{\"id\":\"2769\"},\"major_label_orientation\":\"vertical\",\"major_label_policy\":{\"id\":\"2768\"},\"major_tick_line_color\":null,\"minor_tick_line_color\":null,\"ticker\":{\"id\":\"2733\"}},\"id\":\"2732\",\"type\":\"CategoricalAxis\"},{\"attributes\":{\"source\":{\"id\":\"2912\"}},\"id\":\"3000\",\"type\":\"CDSView\"},{\"attributes\":{\"align\":\"center\",\"text\":\"Count of stars by Type\",\"text_font_size\":\"13pt\"},\"id\":\"2915\",\"type\":\"Title\"},{\"attributes\":{\"source\":{\"id\":\"2912\"}},\"id\":\"3075\",\"type\":\"CDSView\"},{\"attributes\":{\"bottom\":{\"expr\":{\"id\":\"2548\"}},\"fill_color\":{\"value\":\"#08306b\"},\"line_color\":{\"value\":\"#08306b\"},\"top\":{\"expr\":{\"id\":\"2549\"}},\"width\":{\"value\":0.9},\"x\":{\"field\":\"state_name\"}},\"id\":\"2581\",\"type\":\"VBar\"},{\"attributes\":{\"callback\":null,\"renderers\":[{\"id\":\"2953\"}],\"tooltips\":[[\"Total # of stars that have 1\",\"@1\"],[\"index\",\"$index\"]]},\"id\":\"3086\",\"type\":\"HoverTool\"},{\"attributes\":{\"callback\":null,\"renderers\":[{\"id\":\"2984\"}],\"tooltips\":[[\"Total # of stars that have 2\",\"@2\"],[\"index\",\"$index\"]]},\"id\":\"3090\",\"type\":\"HoverTool\"},{\"attributes\":{},\"id\":\"2771\",\"type\":\"UnionRenderers\"},{\"attributes\":{\"callback\":null,\"renderers\":[{\"id\":\"2822\"}],\"tooltips\":[[\"Total # of stars that have 3\",\"@3\"],[\"index\",\"$index\"]]},\"id\":\"2902\",\"type\":\"HoverTool\"},{\"attributes\":{\"fields\":[]},\"id\":\"2740\",\"type\":\"Stack\"},{\"attributes\":{},\"id\":\"2963\",\"type\":\"UnionRenderers\"},{\"attributes\":{\"fields\":[\"1\",\"1.5\"]},\"id\":\"2936\",\"type\":\"Stack\"},{\"attributes\":{\"data_source\":{\"id\":\"2526\"},\"glyph\":{\"id\":\"2686\"},\"hover_glyph\":null,\"muted_glyph\":null,\"name\":\"5\",\"nonselection_glyph\":{\"id\":\"2687\"},\"view\":{\"id\":\"2689\"}},\"id\":\"2688\",\"type\":\"GlyphRenderer\"},{\"attributes\":{\"label\":{\"value\":\"1\"},\"renderers\":[{\"id\":\"2761\"}]},\"id\":\"2773\",\"type\":\"LegendItem\"},{\"attributes\":{\"bottom\":{\"expr\":{\"id\":\"2934\"}},\"fill_color\":{\"value\":\"#08306b\"},\"line_color\":{\"value\":\"#08306b\"},\"top\":{\"expr\":{\"id\":\"2935\"}},\"width\":{\"value\":0.9},\"x\":{\"field\":\"cat_type\"}},\"id\":\"2967\",\"type\":\"VBar\"},{\"attributes\":{\"source\":{\"id\":\"2912\"}},\"id\":\"3030\",\"type\":\"CDSView\"},{\"attributes\":{\"data_source\":{\"id\":\"2720\"},\"glyph\":{\"id\":\"2880\"},\"hover_glyph\":null,\"muted_glyph\":null,\"name\":\"5\",\"nonselection_glyph\":{\"id\":\"2881\"},\"view\":{\"id\":\"2883\"}},\"id\":\"2882\",\"type\":\"GlyphRenderer\"},{\"attributes\":{\"source\":{\"id\":\"2526\"}},\"id\":\"2644\",\"type\":\"CDSView\"},{\"attributes\":{\"label\":{\"value\":\"3.5\"},\"renderers\":[{\"id\":\"2643\"}]},\"id\":\"2654\",\"type\":\"LegendItem\"},{\"attributes\":{\"data_source\":{\"id\":\"2912\"},\"glyph\":{\"id\":\"2997\"},\"hover_glyph\":null,\"muted_glyph\":null,\"name\":\"2.5\",\"nonselection_glyph\":{\"id\":\"2998\"},\"view\":{\"id\":\"3000\"}},\"id\":\"2999\",\"type\":\"GlyphRenderer\"},{\"attributes\":{\"callback\":null,\"renderers\":[{\"id\":\"2792\"}],\"tooltips\":[[\"Total # of stars that have 2\",\"@2\"],[\"index\",\"$index\"]]},\"id\":\"2898\",\"type\":\"HoverTool\"},{\"attributes\":{\"label\":{\"value\":\"4\"},\"renderers\":[{\"id\":\"3044\"}]},\"id\":\"3055\",\"type\":\"LegendItem\"},{\"attributes\":{\"label\":{\"value\":\"4.5\"},\"renderers\":[{\"id\":\"3059\"}]},\"id\":\"3070\",\"type\":\"LegendItem\"},{\"attributes\":{\"data_source\":{\"id\":\"2912\"},\"glyph\":{\"id\":\"3012\"},\"hover_glyph\":null,\"muted_glyph\":null,\"name\":\"3\",\"nonselection_glyph\":{\"id\":\"3013\"},\"view\":{\"id\":\"3015\"}},\"id\":\"3014\",\"type\":\"GlyphRenderer\"},{\"attributes\":{\"label\":{\"value\":\"1.5\"},\"renderers\":[{\"id\":\"2583\"}]},\"id\":\"2594\",\"type\":\"LegendItem\"},{\"attributes\":{},\"id\":\"2768\",\"type\":\"AllLabels\"},{\"attributes\":{\"formatter\":{\"id\":\"2958\"},\"major_label_policy\":{\"id\":\"2957\"},\"major_tick_line_color\":null,\"minor_tick_line_color\":null,\"ticker\":{\"id\":\"2928\"}},\"id\":\"2927\",\"type\":\"LinearAxis\"},{\"attributes\":{\"bottom\":{\"expr\":{\"id\":\"2756\"}},\"fill_alpha\":{\"value\":0.1},\"fill_color\":{\"value\":\"#deebf7\"},\"line_alpha\":{\"value\":0.1},\"line_color\":{\"value\":\"#deebf7\"},\"top\":{\"expr\":{\"id\":\"2757\"}},\"width\":{\"value\":0.9},\"x\":{\"field\":\"cat_kitchen\"}},\"id\":\"2881\",\"type\":\"VBar\"},{\"attributes\":{},\"id\":\"2571\",\"type\":\"AllLabels\"},{\"attributes\":{\"data_source\":{\"id\":\"2526\"},\"glyph\":{\"id\":\"2596\"},\"hover_glyph\":null,\"muted_glyph\":null,\"name\":\"2\",\"nonselection_glyph\":{\"id\":\"2597\"},\"view\":{\"id\":\"2599\"}},\"id\":\"2598\",\"type\":\"GlyphRenderer\"},{\"attributes\":{},\"id\":\"2536\",\"type\":\"LinearScale\"},{\"attributes\":{\"source\":{\"id\":\"2526\"}},\"id\":\"2584\",\"type\":\"CDSView\"},{\"attributes\":{\"bottom\":{\"expr\":{\"id\":\"2942\"}},\"fill_color\":{\"value\":\"#6baed6\"},\"line_color\":{\"value\":\"#6baed6\"},\"top\":{\"expr\":{\"id\":\"2943\"}},\"width\":{\"value\":0.9},\"x\":{\"field\":\"cat_type\"}},\"id\":\"3027\",\"type\":\"VBar\"},{\"attributes\":{\"bottom\":{\"expr\":{\"id\":\"2936\"}},\"fill_color\":{\"value\":\"#08519c\"},\"line_color\":{\"value\":\"#08519c\"},\"top\":{\"expr\":{\"id\":\"2937\"}},\"width\":{\"value\":0.9},\"x\":{\"field\":\"cat_type\"}},\"id\":\"2982\",\"type\":\"VBar\"},{\"attributes\":{\"fields\":[\"1\",\"1.5\",\"2\",\"2.5\",\"3\",\"3.5\"]},\"id\":\"2751\",\"type\":\"Stack\"},{\"attributes\":{\"label\":{\"value\":\"3\"},\"renderers\":[{\"id\":\"3014\"}]},\"id\":\"3025\",\"type\":\"LegendItem\"},{\"attributes\":{},\"id\":\"2769\",\"type\":\"CategoricalTickFormatter\"},{\"attributes\":{\"fields\":[]},\"id\":\"2932\",\"type\":\"Stack\"},{\"attributes\":{\"child\":{\"id\":\"2528\"},\"title\":\"Count stars by State\"},\"id\":\"3104\",\"type\":\"Panel\"},{\"attributes\":{\"callback\":null,\"renderers\":[{\"id\":\"2867\"}],\"tooltips\":[[\"Total # of stars that have 4.5\",\"@4.5\"],[\"index\",\"$index\"]]},\"id\":\"2908\",\"type\":\"HoverTool\"},{\"attributes\":{\"source\":{\"id\":\"2720\"}},\"id\":\"2793\",\"type\":\"CDSView\"},{\"attributes\":{\"fields\":[\"1\",\"1.5\",\"2\",\"2.5\",\"3\",\"3.5\",\"4\",\"4.5\",\"5\"]},\"id\":\"2949\",\"type\":\"Stack\"},{\"attributes\":{\"child\":{\"id\":\"2722\"},\"title\":\"Count stars by Kitchen\"},\"id\":\"3105\",\"type\":\"Panel\"},{\"attributes\":{\"axis\":{\"id\":\"2541\"},\"dimension\":1,\"ticker\":null},\"id\":\"2544\",\"type\":\"Grid\"},{\"attributes\":{\"bottom\":{\"expr\":{\"id\":\"2546\"}},\"fill_alpha\":{\"value\":0.1},\"fill_color\":{\"value\":\"#30678d\"},\"line_alpha\":{\"value\":0.1},\"line_color\":{\"value\":\"#30678d\"},\"top\":{\"expr\":{\"id\":\"2547\"}},\"width\":{\"value\":0.9},\"x\":{\"field\":\"state_name\"}},\"id\":\"2566\",\"type\":\"VBar\"},{\"attributes\":{\"bottom\":{\"expr\":{\"id\":\"2558\"}},\"fill_alpha\":{\"value\":0.1},\"fill_color\":{\"value\":\"#9ecae1\"},\"line_alpha\":{\"value\":0.1},\"line_color\":{\"value\":\"#9ecae1\"},\"top\":{\"expr\":{\"id\":\"2559\"}},\"width\":{\"value\":0.9},\"x\":{\"field\":\"state_name\"}},\"id\":\"2657\",\"type\":\"VBar\"},{\"attributes\":{\"axis\":{\"id\":\"2927\"},\"dimension\":1,\"ticker\":null},\"id\":\"2930\",\"type\":\"Grid\"},{\"attributes\":{\"bottom\":{\"expr\":{\"id\":\"2560\"}},\"fill_alpha\":{\"value\":0.1},\"fill_color\":{\"value\":\"#c6dbef\"},\"line_alpha\":{\"value\":0.1},\"line_color\":{\"value\":\"#c6dbef\"},\"top\":{\"expr\":{\"id\":\"2561\"}},\"width\":{\"value\":0.9},\"x\":{\"field\":\"state_name\"}},\"id\":\"2672\",\"type\":\"VBar\"},{\"attributes\":{\"label\":{\"value\":\"5\"},\"renderers\":[{\"id\":\"2882\"}]},\"id\":\"2893\",\"type\":\"LegendItem\"},{\"attributes\":{\"source\":{\"id\":\"2720\"}},\"id\":\"2838\",\"type\":\"CDSView\"},{\"attributes\":{\"callback\":null,\"renderers\":[{\"id\":\"2969\"}],\"tooltips\":[[\"Total # of stars that have 1.5\",\"@1.5\"],[\"index\",\"$index\"]]},\"id\":\"3088\",\"type\":\"HoverTool\"},{\"attributes\":{\"source\":{\"id\":\"2912\"}},\"id\":\"3045\",\"type\":\"CDSView\"},{\"attributes\":{\"fields\":[\"1\"]},\"id\":\"2548\",\"type\":\"Stack\"},{\"attributes\":{\"bottom\":{\"expr\":{\"id\":\"2740\"}},\"fill_alpha\":{\"value\":0.1},\"fill_color\":{\"value\":\"#30678D\"},\"line_alpha\":{\"value\":0.1},\"line_color\":{\"value\":\"#30678D\"},\"top\":{\"expr\":{\"id\":\"2741\"}},\"width\":{\"value\":0.9},\"x\":{\"field\":\"cat_kitchen\"}},\"id\":\"2760\",\"type\":\"VBar\"},{\"attributes\":{\"end\":2400},\"id\":\"2532\",\"type\":\"Range1d\"},{\"attributes\":{\"source\":{\"id\":\"2526\"}},\"id\":\"2674\",\"type\":\"CDSView\"},{\"attributes\":{\"source\":{\"id\":\"2720\"}},\"id\":\"2853\",\"type\":\"CDSView\"},{\"attributes\":{\"bottom\":{\"expr\":{\"id\":\"2936\"}},\"fill_alpha\":{\"value\":0.1},\"fill_color\":{\"value\":\"#08519c\"},\"line_alpha\":{\"value\":0.1},\"line_color\":{\"value\":\"#08519c\"},\"top\":{\"expr\":{\"id\":\"2937\"}},\"width\":{\"value\":0.9},\"x\":{\"field\":\"cat_type\"}},\"id\":\"2983\",\"type\":\"VBar\"},{\"attributes\":{\"data_source\":{\"id\":\"2720\"},\"glyph\":{\"id\":\"2790\"},\"hover_glyph\":null,\"muted_glyph\":null,\"name\":\"2\",\"nonselection_glyph\":{\"id\":\"2791\"},\"view\":{\"id\":\"2793\"}},\"id\":\"2792\",\"type\":\"GlyphRenderer\"},{\"attributes\":{},\"id\":\"2958\",\"type\":\"BasicTickFormatter\"},{\"attributes\":{\"bottom\":{\"expr\":{\"id\":\"2550\"}},\"fill_alpha\":{\"value\":0.1},\"fill_color\":{\"value\":\"#08519c\"},\"line_alpha\":{\"value\":0.1},\"line_color\":{\"value\":\"#08519c\"},\"top\":{\"expr\":{\"id\":\"2551\"}},\"width\":{\"value\":0.9},\"x\":{\"field\":\"state_name\"}},\"id\":\"2597\",\"type\":\"VBar\"},{\"attributes\":{\"source\":{\"id\":\"2720\"}},\"id\":\"2778\",\"type\":\"CDSView\"},{\"attributes\":{\"source\":{\"id\":\"2720\"}},\"id\":\"2823\",\"type\":\"CDSView\"},{\"attributes\":{\"bottom\":{\"expr\":{\"id\":\"2748\"}},\"fill_alpha\":{\"value\":0.1},\"fill_color\":{\"value\":\"#4292c6\"},\"line_alpha\":{\"value\":0.1},\"line_color\":{\"value\":\"#4292c6\"},\"top\":{\"expr\":{\"id\":\"2749\"}},\"width\":{\"value\":0.9},\"x\":{\"field\":\"cat_kitchen\"}},\"id\":\"2821\",\"type\":\"VBar\"},{\"attributes\":{\"source\":{\"id\":\"2912\"}},\"id\":\"2954\",\"type\":\"CDSView\"},{\"attributes\":{\"fields\":[\"1\",\"1.5\"]},\"id\":\"2550\",\"type\":\"Stack\"},{\"attributes\":{\"active_multi\":null,\"tools\":[{\"id\":\"2700\"},{\"id\":\"2702\"},{\"id\":\"2704\"},{\"id\":\"2706\"},{\"id\":\"2708\"},{\"id\":\"2710\"},{\"id\":\"2712\"},{\"id\":\"2714\"},{\"id\":\"2716\"}]},\"id\":\"2545\",\"type\":\"Toolbar\"},{\"attributes\":{\"callback\":null,\"renderers\":[{\"id\":\"2658\"}],\"tooltips\":[[\"Total # of stars that have 4\",\"@4\"],[\"index\",\"$index\"]]},\"id\":\"2712\",\"type\":\"HoverTool\"},{\"attributes\":{\"source\":{\"id\":\"2526\"}},\"id\":\"2614\",\"type\":\"CDSView\"},{\"attributes\":{\"bottom\":{\"expr\":{\"id\":\"2554\"}},\"fill_alpha\":{\"value\":0.1},\"fill_color\":{\"value\":\"#4292c6\"},\"line_alpha\":{\"value\":0.1},\"line_color\":{\"value\":\"#4292c6\"},\"top\":{\"expr\":{\"id\":\"2555\"}},\"width\":{\"value\":0.9},\"x\":{\"field\":\"state_name\"}},\"id\":\"2627\",\"type\":\"VBar\"},{\"attributes\":{\"fields\":[\"1\",\"1.5\",\"2\",\"2.5\",\"3\",\"3.5\"]},\"id\":\"2558\",\"type\":\"Stack\"},{\"attributes\":{\"data_source\":{\"id\":\"2720\"},\"glyph\":{\"id\":\"2805\"},\"hover_glyph\":null,\"muted_glyph\":null,\"name\":\"2.5\",\"nonselection_glyph\":{\"id\":\"2806\"},\"view\":{\"id\":\"2808\"}},\"id\":\"2807\",\"type\":\"GlyphRenderer\"},{\"attributes\":{\"fields\":[\"1\",\"1.5\",\"2\",\"2.5\"]},\"id\":\"2940\",\"type\":\"Stack\"},{\"attributes\":{\"bottom\":{\"expr\":{\"id\":\"2746\"}},\"fill_color\":{\"value\":\"#2171b5\"},\"line_color\":{\"value\":\"#2171b5\"},\"top\":{\"expr\":{\"id\":\"2747\"}},\"width\":{\"value\":0.9},\"x\":{\"field\":\"cat_kitchen\"}},\"id\":\"2805\",\"type\":\"VBar\"},{\"attributes\":{\"bottom\":{\"expr\":{\"id\":\"2938\"}},\"fill_color\":{\"value\":\"#2171b5\"},\"line_color\":{\"value\":\"#2171b5\"},\"top\":{\"expr\":{\"id\":\"2939\"}},\"width\":{\"value\":0.9},\"x\":{\"field\":\"cat_type\"}},\"id\":\"2997\",\"type\":\"VBar\"},{\"attributes\":{\"data_source\":{\"id\":\"2720\"},\"glyph\":{\"id\":\"2820\"},\"hover_glyph\":null,\"muted_glyph\":null,\"name\":\"3\",\"nonselection_glyph\":{\"id\":\"2821\"},\"view\":{\"id\":\"2823\"}},\"id\":\"2822\",\"type\":\"GlyphRenderer\"},{\"attributes\":{\"fields\":[\"1\"]},\"id\":\"2742\",\"type\":\"Stack\"},{\"attributes\":{\"callback\":null,\"renderers\":[{\"id\":\"2567\"}],\"tooltips\":[[\"Total # of stars that have 1\",\"@1\"],[\"index\",\"$index\"]]},\"id\":\"2700\",\"type\":\"HoverTool\"},{\"attributes\":{\"bottom\":{\"expr\":{\"id\":\"2546\"}},\"fill_color\":{\"value\":\"#30678d\"},\"line_color\":{\"value\":\"#30678d\"},\"top\":{\"expr\":{\"id\":\"2547\"}},\"width\":{\"value\":0.9},\"x\":{\"field\":\"state_name\"}},\"id\":\"2565\",\"type\":\"VBar\"},{\"attributes\":{\"fields\":[\"1\",\"1.5\",\"2\",\"2.5\"]},\"id\":\"2748\",\"type\":\"Stack\"},{\"attributes\":{\"fields\":[\"1\"]},\"id\":\"2741\",\"type\":\"Stack\"},{\"attributes\":{\"fields\":[\"1\",\"1.5\",\"2\"]},\"id\":\"2938\",\"type\":\"Stack\"},{\"attributes\":{\"data_source\":{\"id\":\"2526\"},\"glyph\":{\"id\":\"2671\"},\"hover_glyph\":null,\"muted_glyph\":null,\"name\":\"4.5\",\"nonselection_glyph\":{\"id\":\"2672\"},\"view\":{\"id\":\"2674\"}},\"id\":\"2673\",\"type\":\"GlyphRenderer\"},{\"attributes\":{},\"id\":\"2728\",\"type\":\"CategoricalScale\"},{\"attributes\":{\"fields\":[\"1\",\"1.5\"]},\"id\":\"2549\",\"type\":\"Stack\"},{\"attributes\":{\"fields\":[\"1\",\"1.5\",\"2\",\"2.5\",\"3\",\"3.5\",\"4\",\"4.5\"]},\"id\":\"2755\",\"type\":\"Stack\"},{\"attributes\":{\"data_source\":{\"id\":\"2526\"},\"glyph\":{\"id\":\"2611\"},\"hover_glyph\":null,\"muted_glyph\":null,\"name\":\"2.5\",\"nonselection_glyph\":{\"id\":\"2612\"},\"view\":{\"id\":\"2614\"}},\"id\":\"2613\",\"type\":\"GlyphRenderer\"},{\"attributes\":{\"data_source\":{\"id\":\"2720\"},\"glyph\":{\"id\":\"2850\"},\"hover_glyph\":null,\"muted_glyph\":null,\"name\":\"4\",\"nonselection_glyph\":{\"id\":\"2851\"},\"view\":{\"id\":\"2853\"}},\"id\":\"2852\",\"type\":\"GlyphRenderer\"},{\"attributes\":{\"fields\":[\"1\",\"1.5\"]},\"id\":\"2935\",\"type\":\"Stack\"},{\"attributes\":{\"callback\":null,\"renderers\":[{\"id\":\"2643\"}],\"tooltips\":[[\"Total # of stars that have 3.5\",\"@3.5\"],[\"index\",\"$index\"]]},\"id\":\"2710\",\"type\":\"HoverTool\"},{\"attributes\":{\"fields\":[\"1\",\"1.5\",\"2\"]},\"id\":\"2745\",\"type\":\"Stack\"},{\"attributes\":{\"fields\":[\"1\",\"1.5\",\"2\",\"2.5\",\"3\"]},\"id\":\"2941\",\"type\":\"Stack\"},{\"attributes\":{\"label\":{\"value\":\"3\"},\"renderers\":[{\"id\":\"2628\"}]},\"id\":\"2639\",\"type\":\"LegendItem\"},{\"attributes\":{\"source\":{\"id\":\"2720\"}},\"id\":\"2868\",\"type\":\"CDSView\"},{\"attributes\":{\"fields\":[\"1\",\"1.5\",\"2\",\"2.5\",\"3\",\"3.5\",\"4\",\"4.5\"]},\"id\":\"2561\",\"type\":\"Stack\"},{\"attributes\":{\"fields\":[\"1\",\"1.5\",\"2\",\"2.5\",\"3\",\"3.5\",\"4\",\"4.5\",\"5\"]},\"id\":\"2563\",\"type\":\"Stack\"},{\"attributes\":{\"data_source\":{\"id\":\"2526\"},\"glyph\":{\"id\":\"2565\"},\"hover_glyph\":null,\"muted_glyph\":null,\"name\":\"1\",\"nonselection_glyph\":{\"id\":\"2566\"},\"view\":{\"id\":\"2568\"}},\"id\":\"2567\",\"type\":\"GlyphRenderer\"},{\"attributes\":{\"data_source\":{\"id\":\"2526\"},\"glyph\":{\"id\":\"2626\"},\"hover_glyph\":null,\"muted_glyph\":null,\"name\":\"3\",\"nonselection_glyph\":{\"id\":\"2627\"},\"view\":{\"id\":\"2629\"}},\"id\":\"2628\",\"type\":\"GlyphRenderer\"},{\"attributes\":{\"label\":{\"value\":\"4.5\"},\"renderers\":[{\"id\":\"2673\"}]},\"id\":\"2684\",\"type\":\"LegendItem\"},{\"attributes\":{\"fields\":[\"1\",\"1.5\",\"2\",\"2.5\"]},\"id\":\"2553\",\"type\":\"Stack\"},{\"attributes\":{\"fields\":[\"1\",\"1.5\",\"2\",\"2.5\",\"3\",\"3.5\",\"4\"]},\"id\":\"2945\",\"type\":\"Stack\"},{\"attributes\":{\"callback\":null,\"renderers\":[{\"id\":\"2628\"}],\"tooltips\":[[\"Total # of stars that have 3\",\"@3\"],[\"index\",\"$index\"]]},\"id\":\"2708\",\"type\":\"HoverTool\"},{\"attributes\":{\"fields\":[\"1\",\"1.5\",\"2\",\"2.5\",\"3\",\"3.5\"]},\"id\":\"2557\",\"type\":\"Stack\"},{\"attributes\":{\"fields\":[\"1\",\"1.5\",\"2\",\"2.5\"]},\"id\":\"2747\",\"type\":\"Stack\"},{\"attributes\":{\"bottom\":{\"expr\":{\"id\":\"2560\"}},\"fill_color\":{\"value\":\"#c6dbef\"},\"line_color\":{\"value\":\"#c6dbef\"},\"top\":{\"expr\":{\"id\":\"2561\"}},\"width\":{\"value\":0.9},\"x\":{\"field\":\"state_name\"}},\"id\":\"2671\",\"type\":\"VBar\"},{\"attributes\":{\"below\":[{\"id\":\"2538\"}],\"center\":[{\"id\":\"2540\"},{\"id\":\"2544\"},{\"id\":\"2578\"}],\"height\":600,\"left\":[{\"id\":\"2541\"}],\"renderers\":[{\"id\":\"2567\"},{\"id\":\"2583\"},{\"id\":\"2598\"},{\"id\":\"2613\"},{\"id\":\"2628\"},{\"id\":\"2643\"},{\"id\":\"2658\"},{\"id\":\"2673\"},{\"id\":\"2688\"}],\"title\":{\"id\":\"2529\"},\"toolbar\":{\"id\":\"2545\"},\"toolbar_location\":null,\"width\":800,\"x_range\":{\"id\":\"2527\"},\"x_scale\":{\"id\":\"2534\"},\"y_range\":{\"id\":\"2532\"},\"y_scale\":{\"id\":\"2536\"}},\"id\":\"2528\",\"subtype\":\"Figure\",\"type\":\"Plot\"},{\"attributes\":{},\"id\":\"2534\",\"type\":\"CategoricalScale\"},{\"attributes\":{},\"id\":\"2920\",\"type\":\"CategoricalScale\"},{\"attributes\":{\"callback\":null,\"renderers\":[{\"id\":\"3014\"}],\"tooltips\":[[\"Total # of stars that have 3\",\"@3\"],[\"index\",\"$index\"]]},\"id\":\"3094\",\"type\":\"HoverTool\"},{\"attributes\":{},\"id\":\"2730\",\"type\":\"LinearScale\"},{\"attributes\":{\"bottom\":{\"expr\":{\"id\":\"2562\"}},\"fill_alpha\":{\"value\":0.1},\"fill_color\":{\"value\":\"#deebf7\"},\"line_alpha\":{\"value\":0.1},\"line_color\":{\"value\":\"#deebf7\"},\"top\":{\"expr\":{\"id\":\"2563\"}},\"width\":{\"value\":0.9},\"x\":{\"field\":\"state_name\"}},\"id\":\"2687\",\"type\":\"VBar\"},{\"attributes\":{\"align\":\"center\",\"text\":\"Count of stars by State\",\"text_font_size\":\"13pt\"},\"id\":\"2529\",\"type\":\"Title\"},{\"attributes\":{},\"id\":\"2736\",\"type\":\"BasicTicker\"},{\"attributes\":{\"fields\":[\"1\",\"1.5\",\"2\",\"2.5\"]},\"id\":\"2554\",\"type\":\"Stack\"},{\"attributes\":{\"fields\":[\"1\",\"1.5\",\"2\"]},\"id\":\"2937\",\"type\":\"Stack\"},{\"attributes\":{\"axis\":{\"id\":\"2924\"},\"ticker\":null},\"id\":\"2926\",\"type\":\"Grid\"},{\"attributes\":{\"formatter\":{\"id\":\"2766\"},\"major_label_policy\":{\"id\":\"2765\"},\"major_tick_line_color\":null,\"minor_tick_line_color\":null,\"ticker\":{\"id\":\"2736\"}},\"id\":\"2735\",\"type\":\"LinearAxis\"},{\"attributes\":{\"fields\":[\"1\",\"1.5\",\"2\",\"2.5\",\"3\",\"3.5\"]},\"id\":\"2943\",\"type\":\"Stack\"},{\"attributes\":{\"callback\":null,\"renderers\":[{\"id\":\"3059\"}],\"tooltips\":[[\"Total # of stars that have 4.5\",\"@4.5\"],[\"index\",\"$index\"]]},\"id\":\"3100\",\"type\":\"HoverTool\"},{\"attributes\":{\"below\":[{\"id\":\"2924\"}],\"center\":[{\"id\":\"2926\"},{\"id\":\"2930\"},{\"id\":\"2964\"}],\"height\":600,\"left\":[{\"id\":\"2927\"}],\"renderers\":[{\"id\":\"2953\"},{\"id\":\"2969\"},{\"id\":\"2984\"},{\"id\":\"2999\"},{\"id\":\"3014\"},{\"id\":\"3029\"},{\"id\":\"3044\"},{\"id\":\"3059\"},{\"id\":\"3074\"}],\"title\":{\"id\":\"2915\"},\"toolbar\":{\"id\":\"2931\"},\"toolbar_location\":null,\"width\":800,\"x_range\":{\"id\":\"2913\"},\"x_scale\":{\"id\":\"2920\"},\"y_range\":{\"id\":\"2918\"},\"y_scale\":{\"id\":\"2922\"}},\"id\":\"2914\",\"subtype\":\"Figure\",\"type\":\"Plot\"},{\"attributes\":{\"source\":{\"id\":\"2720\"}},\"id\":\"2762\",\"type\":\"CDSView\"},{\"attributes\":{\"callback\":null,\"renderers\":[{\"id\":\"3029\"}],\"tooltips\":[[\"Total # of stars that have 3.5\",\"@3.5\"],[\"index\",\"$index\"]]},\"id\":\"3096\",\"type\":\"HoverTool\"},{\"attributes\":{\"data\":{\"1\":{\"__ndarray__\":\"AAAAAAAAAAAAAAAAAAAAAAAAAAAAAPA/AAAAAAAAAEAAAAAAAAAAAAAAAAAAAAAAAAAAAAAA8D8AAAAAAADwPwAAAAAAAAAAAAAAAAAA8D8AAAAAAAAAAA==\",\"dtype\":\"float64\",\"order\":\"little\",\"shape\":[11]},\"1.5\":{\"__ndarray__\":\"AAAAAAAAGEAAAAAAAAAAAAAAAAAAABhAAAAAAAAAEEAAAAAAAAAAAAAAAAAAAAAAAAAAAAAACEAAAAAAAAAIQAAAAAAAAABAAAAAAAAAFEAAAAAAAAAAQA==\",\"dtype\":\"float64\",\"order\":\"little\",\"shape\":[11]},\"2\":{\"__ndarray__\":\"AAAAAAAAMUAAAAAAAAAAQAAAAAAAADVAAAAAAAAAO0AAAAAAAADwPwAAAAAAAPA/AAAAAAAANUAAAAAAAAAoQAAAAAAAACZAAAAAAAAAMkAAAAAAAAAUQA==\",\"dtype\":\"float64\",\"order\":\"little\",\"shape\":[11]},\"2.5\":{\"__ndarray__\":\"AAAAAAAAS0AAAAAAAAAiQAAAAAAAAEtAAAAAAABAUUAAAAAAAAAAAAAAAAAAAAAAAAAAAABAVUAAAAAAAABDQAAAAAAAAD9AAAAAAACAQkAAAAAAAAAkQA==\",\"dtype\":\"float64\",\"order\":\"little\",\"shape\":[11]},\"3\":{\"__ndarray__\":\"AAAAAADgaEAAAAAAAAAiQAAAAAAAYGRAAAAAAADgYUAAAAAAAAAAAAAAAAAAAAAAAAAAAAAAc0AAAAAAAABZQAAAAAAAQF9AAAAAAABAVkAAAAAAAAA7QA==\",\"dtype\":\"float64\",\"order\":\"little\",\"shape\":[11]},\"3.5\":{\"__ndarray__\":\"AAAAAACwdkAAAAAAAABJQAAAAAAAYHdAAAAAAACwc0AAAAAAAAAAAAAAAAAAAAAAAAAAAAAghEAAAAAAACBqQAAAAAAAwHNAAAAAAACgbkAAAAAAAABKQA==\",\"dtype\":\"float64\",\"order\":\"little\",\"shape\":[11]},\"4\":{\"__ndarray__\":\"AAAAAACwdUAAAAAAAABPQAAAAAAAcIBAAAAAAABweEAAAAAAAAAAAAAAAAAAAAAAAAAAAADAhUAAAAAAABBxQAAAAAAAAHtAAAAAAACgckAAAAAAAABGQA==\",\"dtype\":\"float64\",\"order\":\"little\",\"shape\":[11]},\"4.5\":{\"__ndarray__\":\"AAAAAAAAXEAAAAAAAAA5QAAAAAAA4HRAAAAAAADAYkAAAAAAAAAAAAAAAAAAAAAAAAAAAAAAckAAAAAAAMBeQAAAAAAAIG1AAAAAAABgZEAAAAAAAAA8QA==\",\"dtype\":\"float64\",\"order\":\"little\",\"shape\":[11]},\"5\":{\"__ndarray__\":\"AAAAAAAAMkAAAAAAAAAQQAAAAAAAAEBAAAAAAAAAM0AAAAAAAAAAAAAAAAAAAAAAAAAAAACAQkAAAAAAAAAxQAAAAAAAAEJAAAAAAAAAMkAAAAAAAAAAQA==\",\"dtype\":\"float64\",\"order\":\"little\",\"shape\":[11]},\"index\":[0,1,2,3,4,5,6,7,8,9,10],\"state_name\":[\"British Columbia\",\"Colorado\",\"Florida\",\"Georgia\",\"Kansas\",\"Kentucky\",\"Massachusetts\",\"Ohio\",\"Oregon\",\"Texas\",\"Washington\"]},\"selected\":{\"id\":\"2576\"},\"selection_policy\":{\"id\":\"2577\"}},\"id\":\"2526\",\"type\":\"ColumnDataSource\"},{\"attributes\":{\"bottom\":{\"expr\":{\"id\":\"2932\"}},\"fill_color\":{\"value\":\"#30678D\"},\"line_color\":{\"value\":\"#30678D\"},\"top\":{\"expr\":{\"id\":\"2933\"}},\"width\":{\"value\":0.9},\"x\":{\"field\":\"cat_type\"}},\"id\":\"2951\",\"type\":\"VBar\"},{\"attributes\":{\"fields\":[\"1\",\"1.5\",\"2\",\"2.5\",\"3\"]},\"id\":\"2750\",\"type\":\"Stack\"},{\"attributes\":{\"callback\":null,\"renderers\":[{\"id\":\"3044\"}],\"tooltips\":[[\"Total # of stars that have 4\",\"@4\"],[\"index\",\"$index\"]]},\"id\":\"3098\",\"type\":\"HoverTool\"},{\"attributes\":{\"fields\":[\"1\",\"1.5\",\"2\",\"2.5\",\"3\",\"3.5\",\"4\",\"4.5\"]},\"id\":\"2948\",\"type\":\"Stack\"},{\"attributes\":{\"bottom\":{\"expr\":{\"id\":\"2744\"}},\"fill_alpha\":{\"value\":0.1},\"fill_color\":{\"value\":\"#08519c\"},\"line_alpha\":{\"value\":0.1},\"line_color\":{\"value\":\"#08519c\"},\"top\":{\"expr\":{\"id\":\"2745\"}},\"width\":{\"value\":0.9},\"x\":{\"field\":\"cat_kitchen\"}},\"id\":\"2791\",\"type\":\"VBar\"},{\"attributes\":{},\"id\":\"2961\",\"type\":\"CategoricalTickFormatter\"},{\"attributes\":{\"fields\":[\"1\",\"1.5\",\"2\"]},\"id\":\"2746\",\"type\":\"Stack\"},{\"attributes\":{\"axis\":{\"id\":\"2732\"},\"ticker\":null},\"id\":\"2734\",\"type\":\"Grid\"},{\"attributes\":{\"bottom\":{\"expr\":{\"id\":\"2740\"}},\"fill_color\":{\"value\":\"#30678D\"},\"line_color\":{\"value\":\"#30678D\"},\"top\":{\"expr\":{\"id\":\"2741\"}},\"width\":{\"value\":0.9},\"x\":{\"field\":\"cat_kitchen\"}},\"id\":\"2759\",\"type\":\"VBar\"},{\"attributes\":{\"source\":{\"id\":\"2720\"}},\"id\":\"2808\",\"type\":\"CDSView\"},{\"attributes\":{\"bottom\":{\"expr\":{\"id\":\"2754\"}},\"fill_alpha\":{\"value\":0.1},\"fill_color\":{\"value\":\"#c6dbef\"},\"line_alpha\":{\"value\":0.1},\"line_color\":{\"value\":\"#c6dbef\"},\"top\":{\"expr\":{\"id\":\"2755\"}},\"width\":{\"value\":0.9},\"x\":{\"field\":\"cat_kitchen\"}},\"id\":\"2866\",\"type\":\"VBar\"},{\"attributes\":{},\"id\":\"2960\",\"type\":\"AllLabels\"},{\"attributes\":{\"fields\":[\"1\",\"1.5\",\"2\",\"2.5\",\"3\",\"3.5\",\"4\"]},\"id\":\"2559\",\"type\":\"Stack\"},{\"attributes\":{\"data_source\":{\"id\":\"2912\"},\"glyph\":{\"id\":\"2951\"},\"hover_glyph\":null,\"muted_glyph\":null,\"name\":\"1\",\"nonselection_glyph\":{\"id\":\"2952\"},\"view\":{\"id\":\"2954\"}},\"id\":\"2953\",\"type\":\"GlyphRenderer\"},{\"attributes\":{\"label\":{\"value\":\"2\"},\"renderers\":[{\"id\":\"2984\"}]},\"id\":\"2995\",\"type\":\"LegendItem\"},{\"attributes\":{\"fields\":[\"1\",\"1.5\",\"2\",\"2.5\",\"3\"]},\"id\":\"2942\",\"type\":\"Stack\"},{\"attributes\":{},\"id\":\"2922\",\"type\":\"LinearScale\"},{\"attributes\":{\"bottom\":{\"expr\":{\"id\":\"2752\"}},\"fill_alpha\":{\"value\":0.1},\"fill_color\":{\"value\":\"#9ecae1\"},\"line_alpha\":{\"value\":0.1},\"line_color\":{\"value\":\"#9ecae1\"},\"top\":{\"expr\":{\"id\":\"2753\"}},\"width\":{\"value\":0.9},\"x\":{\"field\":\"cat_kitchen\"}},\"id\":\"2851\",\"type\":\"VBar\"},{\"attributes\":{\"label\":{\"value\":\"5\"},\"renderers\":[{\"id\":\"2688\"}]},\"id\":\"2699\",\"type\":\"LegendItem\"},{\"attributes\":{\"label\":{\"value\":\"1.5\"},\"renderers\":[{\"id\":\"2969\"}]},\"id\":\"2980\",\"type\":\"LegendItem\"},{\"attributes\":{\"data_source\":{\"id\":\"2720\"},\"glyph\":{\"id\":\"2865\"},\"hover_glyph\":null,\"muted_glyph\":null,\"name\":\"4.5\",\"nonselection_glyph\":{\"id\":\"2866\"},\"view\":{\"id\":\"2868\"}},\"id\":\"2867\",\"type\":\"GlyphRenderer\"},{\"attributes\":{\"bottom\":{\"expr\":{\"id\":\"2748\"}},\"fill_color\":{\"value\":\"#4292c6\"},\"line_color\":{\"value\":\"#4292c6\"},\"top\":{\"expr\":{\"id\":\"2749\"}},\"width\":{\"value\":0.9},\"x\":{\"field\":\"cat_kitchen\"}},\"id\":\"2820\",\"type\":\"VBar\"},{\"attributes\":{\"label\":{\"value\":\"1\"},\"renderers\":[{\"id\":\"2567\"}]},\"id\":\"2579\",\"type\":\"LegendItem\"},{\"attributes\":{\"label\":{\"value\":\"2.5\"},\"renderers\":[{\"id\":\"2807\"}]},\"id\":\"2818\",\"type\":\"LegendItem\"},{\"attributes\":{},\"id\":\"2957\",\"type\":\"AllLabels\"},{\"attributes\":{\"fields\":[\"1\",\"1.5\",\"2\"]},\"id\":\"2552\",\"type\":\"Stack\"},{\"attributes\":{\"fields\":[\"1\",\"1.5\",\"2\",\"2.5\",\"3\",\"3.5\",\"4\",\"4.5\"]},\"id\":\"2562\",\"type\":\"Stack\"},{\"attributes\":{\"axis_label\":\"Type\",\"formatter\":{\"id\":\"2961\"},\"major_label_orientation\":\"vertical\",\"major_label_policy\":{\"id\":\"2960\"},\"major_tick_line_color\":null,\"minor_tick_line_color\":null,\"ticker\":{\"id\":\"2925\"}},\"id\":\"2924\",\"type\":\"CategoricalAxis\"},{\"attributes\":{\"bottom\":{\"expr\":{\"id\":\"2948\"}},\"fill_color\":{\"value\":\"#deebf7\"},\"line_color\":{\"value\":\"#deebf7\"},\"top\":{\"expr\":{\"id\":\"2949\"}},\"width\":{\"value\":0.9},\"x\":{\"field\":\"cat_type\"}},\"id\":\"3072\",\"type\":\"VBar\"},{\"attributes\":{\"fields\":[\"1\",\"1.5\",\"2\",\"2.5\",\"3\",\"3.5\",\"4\"]},\"id\":\"2946\",\"type\":\"Stack\"},{\"attributes\":{\"bottom\":{\"expr\":{\"id\":\"2744\"}},\"fill_color\":{\"value\":\"#08519c\"},\"line_color\":{\"value\":\"#08519c\"},\"top\":{\"expr\":{\"id\":\"2745\"}},\"width\":{\"value\":0.9},\"x\":{\"field\":\"cat_kitchen\"}},\"id\":\"2790\",\"type\":\"VBar\"},{\"attributes\":{\"source\":{\"id\":\"2912\"}},\"id\":\"2970\",\"type\":\"CDSView\"},{\"attributes\":{\"data_source\":{\"id\":\"2912\"},\"glyph\":{\"id\":\"2982\"},\"hover_glyph\":null,\"muted_glyph\":null,\"name\":\"2\",\"nonselection_glyph\":{\"id\":\"2983\"},\"view\":{\"id\":\"2985\"}},\"id\":\"2984\",\"type\":\"GlyphRenderer\"},{\"attributes\":{\"bottom\":{\"expr\":{\"id\":\"2554\"}},\"fill_color\":{\"value\":\"#4292c6\"},\"line_color\":{\"value\":\"#4292c6\"},\"top\":{\"expr\":{\"id\":\"2555\"}},\"width\":{\"value\":0.9},\"x\":{\"field\":\"state_name\"}},\"id\":\"2626\",\"type\":\"VBar\"},{\"attributes\":{\"bottom\":{\"expr\":{\"id\":\"2742\"}},\"fill_alpha\":{\"value\":0.1},\"fill_color\":{\"value\":\"#08306b\"},\"line_alpha\":{\"value\":0.1},\"line_color\":{\"value\":\"#08306b\"},\"top\":{\"expr\":{\"id\":\"2743\"}},\"width\":{\"value\":0.9},\"x\":{\"field\":\"cat_kitchen\"}},\"id\":\"2776\",\"type\":\"VBar\"},{\"attributes\":{\"fields\":[\"1\",\"1.5\",\"2\",\"2.5\",\"3\",\"3.5\",\"4\"]},\"id\":\"2560\",\"type\":\"Stack\"},{\"attributes\":{\"fields\":[\"1\",\"1.5\",\"2\",\"2.5\",\"3\",\"3.5\",\"4\",\"4.5\"]},\"id\":\"2756\",\"type\":\"Stack\"},{\"attributes\":{\"label\":{\"value\":\"4.5\"},\"renderers\":[{\"id\":\"2867\"}]},\"id\":\"2878\",\"type\":\"LegendItem\"},{\"attributes\":{\"bottom\":{\"expr\":{\"id\":\"2946\"}},\"fill_alpha\":{\"value\":0.1},\"fill_color\":{\"value\":\"#c6dbef\"},\"line_alpha\":{\"value\":0.1},\"line_color\":{\"value\":\"#c6dbef\"},\"top\":{\"expr\":{\"id\":\"2947\"}},\"width\":{\"value\":0.9},\"x\":{\"field\":\"cat_type\"}},\"id\":\"3058\",\"type\":\"VBar\"},{\"attributes\":{\"callback\":null,\"renderers\":[{\"id\":\"2882\"}],\"tooltips\":[[\"Total # of stars that have 5\",\"@5\"],[\"index\",\"$index\"]]},\"id\":\"2910\",\"type\":\"HoverTool\"},{\"attributes\":{\"fields\":[\"1\",\"1.5\",\"2\",\"2.5\",\"3\"]},\"id\":\"2555\",\"type\":\"Stack\"},{\"attributes\":{\"fields\":[\"1\"]},\"id\":\"2934\",\"type\":\"Stack\"},{\"attributes\":{\"fields\":[\"1\",\"1.5\",\"2\",\"2.5\"]},\"id\":\"2939\",\"type\":\"Stack\"},{\"attributes\":{\"callback\":null,\"renderers\":[{\"id\":\"2673\"}],\"tooltips\":[[\"Total # of stars that have 4.5\",\"@4.5\"],[\"index\",\"$index\"]]},\"id\":\"2714\",\"type\":\"HoverTool\"},{\"attributes\":{\"label\":{\"value\":\"2.5\"},\"renderers\":[{\"id\":\"2613\"}]},\"id\":\"2624\",\"type\":\"LegendItem\"},{\"attributes\":{\"bottom\":{\"expr\":{\"id\":\"2556\"}},\"fill_color\":{\"value\":\"#6baed6\"},\"line_color\":{\"value\":\"#6baed6\"},\"top\":{\"expr\":{\"id\":\"2557\"}},\"width\":{\"value\":0.9},\"x\":{\"field\":\"state_name\"}},\"id\":\"2641\",\"type\":\"VBar\"},{\"attributes\":{\"fields\":[\"1\"]},\"id\":\"2547\",\"type\":\"Stack\"},{\"attributes\":{\"fields\":[\"1\",\"1.5\",\"2\",\"2.5\",\"3\",\"3.5\",\"4\"]},\"id\":\"2754\",\"type\":\"Stack\"},{\"attributes\":{\"fields\":[\"1\"]},\"id\":\"2933\",\"type\":\"Stack\"},{\"attributes\":{\"source\":{\"id\":\"2526\"}},\"id\":\"2568\",\"type\":\"CDSView\"},{\"attributes\":{\"callback\":null,\"renderers\":[{\"id\":\"2688\"}],\"tooltips\":[[\"Total # of stars that have 5\",\"@5\"],[\"index\",\"$index\"]]},\"id\":\"2716\",\"type\":\"HoverTool\"},{\"attributes\":{\"items\":[{\"id\":\"2965\"},{\"id\":\"2980\"},{\"id\":\"2995\"},{\"id\":\"3010\"},{\"id\":\"3025\"},{\"id\":\"3040\"},{\"id\":\"3055\"},{\"id\":\"3070\"},{\"id\":\"3085\"}],\"label_text_font_size\":\"7pt\",\"location\":\"top_center\",\"orientation\":\"horizontal\"},\"id\":\"2964\",\"type\":\"Legend\"},{\"attributes\":{\"fields\":[\"1\",\"1.5\"]},\"id\":\"2744\",\"type\":\"Stack\"},{\"attributes\":{\"fields\":[\"1\",\"1.5\",\"2\",\"2.5\",\"3\",\"3.5\"]},\"id\":\"2944\",\"type\":\"Stack\"},{\"attributes\":{\"data_source\":{\"id\":\"2912\"},\"glyph\":{\"id\":\"2967\"},\"hover_glyph\":null,\"muted_glyph\":null,\"name\":\"1.5\",\"nonselection_glyph\":{\"id\":\"2968\"},\"view\":{\"id\":\"2970\"}},\"id\":\"2969\",\"type\":\"GlyphRenderer\"},{\"attributes\":{\"bottom\":{\"expr\":{\"id\":\"2934\"}},\"fill_alpha\":{\"value\":0.1},\"fill_color\":{\"value\":\"#08306b\"},\"line_alpha\":{\"value\":0.1},\"line_color\":{\"value\":\"#08306b\"},\"top\":{\"expr\":{\"id\":\"2935\"}},\"width\":{\"value\":0.9},\"x\":{\"field\":\"cat_type\"}},\"id\":\"2968\",\"type\":\"VBar\"},{\"attributes\":{\"active_multi\":null,\"tools\":[{\"id\":\"3086\"},{\"id\":\"3088\"},{\"id\":\"3090\"},{\"id\":\"3092\"},{\"id\":\"3094\"},{\"id\":\"3096\"},{\"id\":\"3098\"},{\"id\":\"3100\"},{\"id\":\"3102\"}]},\"id\":\"2931\",\"type\":\"Toolbar\"},{\"attributes\":{\"source\":{\"id\":\"2526\"}},\"id\":\"2629\",\"type\":\"CDSView\"},{\"attributes\":{\"label\":{\"value\":\"1\"},\"renderers\":[{\"id\":\"2953\"}]},\"id\":\"2965\",\"type\":\"LegendItem\"},{\"attributes\":{\"bottom\":{\"expr\":{\"id\":\"2746\"}},\"fill_alpha\":{\"value\":0.1},\"fill_color\":{\"value\":\"#2171b5\"},\"line_alpha\":{\"value\":0.1},\"line_color\":{\"value\":\"#2171b5\"},\"top\":{\"expr\":{\"id\":\"2747\"}},\"width\":{\"value\":0.9},\"x\":{\"field\":\"cat_kitchen\"}},\"id\":\"2806\",\"type\":\"VBar\"},{\"attributes\":{\"data_source\":{\"id\":\"2720\"},\"glyph\":{\"id\":\"2775\"},\"hover_glyph\":null,\"muted_glyph\":null,\"name\":\"1.5\",\"nonselection_glyph\":{\"id\":\"2776\"},\"view\":{\"id\":\"2778\"}},\"id\":\"2777\",\"type\":\"GlyphRenderer\"},{\"attributes\":{\"bottom\":{\"expr\":{\"id\":\"2550\"}},\"fill_color\":{\"value\":\"#08519c\"},\"line_color\":{\"value\":\"#08519c\"},\"top\":{\"expr\":{\"id\":\"2551\"}},\"width\":{\"value\":0.9},\"x\":{\"field\":\"state_name\"}},\"id\":\"2596\",\"type\":\"VBar\"}],\"root_ids\":[\"3107\"]},\"title\":\"Bokeh Application\",\"version\":\"2.3.1\"}};\n",
       "  var render_items = [{\"docid\":\"720a7157-257e-42fc-9dba-3fd1ed644f95\",\"root_ids\":[\"3107\"],\"roots\":{\"3107\":\"9f7c0648-16c4-45c1-bd22-433c6dfb6a42\"}}];\n",
       "  root.Bokeh.embed.embed_items_notebook(docs_json, render_items);\n",
       "\n",
       "  }\n",
       "  if (root.Bokeh !== undefined) {\n",
       "    embed_document(root);\n",
       "  } else {\n",
       "    var attempts = 0;\n",
       "    var timer = setInterval(function(root) {\n",
       "      if (root.Bokeh !== undefined) {\n",
       "        clearInterval(timer);\n",
       "        embed_document(root);\n",
       "      } else {\n",
       "        attempts++;\n",
       "        if (attempts > 100) {\n",
       "          clearInterval(timer);\n",
       "          console.log(\"Bokeh: ERROR: Unable to run BokehJS code because BokehJS library is missing\");\n",
       "        }\n",
       "      }\n",
       "    }, 10, root)\n",
       "  }\n",
       "})(window);"
      ],
      "application/vnd.bokehjs_exec.v0+json": ""
     },
     "metadata": {
      "application/vnd.bokehjs_exec.v0+json": {
       "id": "3107"
      }
     },
     "output_type": "display_data"
    }
   ],
   "source": [
    "# Increase the plot widths\n",
    "state.plot_width = kitchen.plot_width = types.plot_width = 800\n",
    "state.plot_height = kitchen.plot_height = types.plot_height = 600\n",
    "\n",
    "# Create three panels, one for each conference\n",
    "state_panel = Panel(child=state, title='Count stars by State')\n",
    "kitchen_panel = Panel(child=kitchen, title='Count stars by Kitchen')\n",
    "types_panel = Panel(child=types, title='Count stars by Type')\n",
    "\n",
    "# Assign the panels to Tabs\n",
    "tabs = Tabs(tabs=[state_panel, kitchen_panel, types_panel])\n",
    "\n",
    "# Show the tabbed layout\n",
    "show(tabs)\n",
    "\n",
    "html = file_html(tabs, CDN, \"Score Overview\")\n",
    "# print(html)"
   ]
  },
  {
   "cell_type": "markdown",
   "metadata": {},
   "source": [
    "### 3.3. Price Range Overview"
   ]
  },
  {
   "cell_type": "code",
   "execution_count": 61,
   "metadata": {},
   "outputs": [],
   "source": [
    "group_price = restaurants.groupby(['PriceRange']).size()\n",
    "group_price = group_price.rename(index={'$':'💲', '$$':'💲💲','$$$':'💲💲💲',\n",
    "                                    '$$$$':'💲💲💲💲'})"
   ]
  },
  {
   "cell_type": "code",
   "execution_count": 62,
   "metadata": {},
   "outputs": [],
   "source": [
    "fig = px.bar(group_price, x=group_price.index, y=group_price, width=800, height=500,\n",
    "             color_discrete_sequence = ['lightblue','blue'])\n",
    "fig.update_traces(hovertemplate=None)\n",
    "fig.update_layout(title_text=\"Number of restaurants in each price range\", \n",
    "                  plot_bgcolor='rgba(0,0,0,0)', \n",
    "                  yaxis_title=\"# of restaurants\",\n",
    "                  hovermode=\"x unified\")\n",
    "fig.update_xaxes(showline=True, linewidth=1, linecolor='lightgrey', \n",
    "                 showgrid=True, gridwidth=1, gridcolor='lightgrey')\n",
    "fig.update_yaxes(showline=True, linewidth=1, linecolor='lightgrey',\n",
    "                 showgrid=True, gridwidth=1, gridcolor='lightgrey')\n",
    "\n",
    "overview = pn.pane.Plotly(fig, config={'responsive': True})"
   ]
  },
  {
   "cell_type": "code",
   "execution_count": 63,
   "metadata": {},
   "outputs": [],
   "source": [
    "price_df = restaurants.groupby(['state_name','PriceRange']).size().reset_index(name='counts')\n",
    "price_df = price_df.pivot_table(values = 'counts', index='state_name', columns='PriceRange').reset_index()\n",
    "price_df = price_df.rename(columns={'$':'💲', '$$':'💲💲','$$$':'💲💲💲',\n",
    "                                    '$$$$':'💲💲💲💲'}) \n",
    "price_df = price_df.set_index('state_name')\n",
    "\n",
    "state = px.bar(price_df, x=price_df.index, y=price_df.columns, color_discrete_sequence = colors, \n",
    "                                             width=800, height=500)\n",
    "\n",
    "state.update_traces(hovertemplate=None)\n",
    "state.update_layout(title_text=\"Total of restaurants in each price range for each state\", \n",
    "                  plot_bgcolor='rgba(0,0,0,0)',\n",
    "                  yaxis_title=\"# of restaurants\",\n",
    "                  xaxis_title=None,\n",
    "                  hovermode=\"x unified\")\n",
    "state.update_xaxes(showline=True, linewidth=1, linecolor='lightgrey', \n",
    "                 showgrid=True, gridwidth=1, gridcolor='lightgrey')\n",
    "state.update_yaxes(showline=True, linewidth=1, linecolor='lightgrey',\n",
    "                 showgrid=True, gridwidth=1, gridcolor='lightgrey')\n",
    "\n",
    "plotly_state = pn.pane.Plotly(state, config={'responsive': True})"
   ]
  },
  {
   "cell_type": "code",
   "execution_count": 64,
   "metadata": {},
   "outputs": [],
   "source": [
    "price_df = restaurants.groupby(['cat_kitchen','PriceRange']).size().reset_index(name='counts')\n",
    "price_df = price_df.pivot_table(values = 'counts', index='cat_kitchen', columns='PriceRange').reset_index()\\\n",
    "    .set_index('cat_kitchen')\n",
    "price_df = price_df.rename(columns={'$':'💲', '$$':'💲💲','$$$':'💲💲💲',\n",
    "                                    '$$$$':'💲💲💲💲'}) \n",
    "#price_df = price_df.set_index('cat_kitchen')\n",
    "\n",
    "kitchen = px.bar(price_df, x=price_df.index, y=price_df.columns, color_discrete_sequence = colors, \n",
    "                                             width=800, height=500)\n",
    "\n",
    "kitchen.update_traces(hovertemplate=None)\n",
    "kitchen.update_layout(title_text=\"Total of restaurants in each price range for each kitchen type\", \n",
    "                  plot_bgcolor='rgba(0,0,0,0)',\n",
    "                  yaxis_title=\"# of restaurants\",\n",
    "                  xaxis_title=None,\n",
    "                  hovermode=\"x unified\")\n",
    "kitchen.update_xaxes(showline=True, linewidth=1, linecolor='lightgrey', \n",
    "                 showgrid=True, gridwidth=1, gridcolor='lightgrey')\n",
    "kitchen.update_yaxes(showline=True, linewidth=1, linecolor='lightgrey',\n",
    "                 showgrid=True, gridwidth=1, gridcolor='lightgrey')\n",
    "\n",
    "plotly_kitchen = pn.pane.Plotly(kitchen, config={'responsive': True})"
   ]
  },
  {
   "cell_type": "code",
   "execution_count": 65,
   "metadata": {},
   "outputs": [],
   "source": [
    "price_df = restaurants.groupby(['cat_type','PriceRange']).size().reset_index(name='counts')\n",
    "price_df = price_df.pivot_table(values = 'counts', index='cat_type', columns='PriceRange').reset_index().\\\n",
    "    set_index('cat_type')\n",
    "price_df = price_df.rename(columns={'$':'💲', '$$':'💲💲','$$$':'💲💲💲',\n",
    "                                    '$$$$':'💲💲💲💲'}) \n",
    "\n",
    "type = px.bar(price_df, x=price_df.index, y=price_df.columns, color_discrete_sequence = colors, \n",
    "                                             width=800, height=500)\n",
    "\n",
    "type.update_traces(hovertemplate=None)\n",
    "type.update_layout(title_text=\"Total of restaurants in each price range for each restaurant type\", \n",
    "                  plot_bgcolor='rgba(0,0,0,0)',\n",
    "                  yaxis_title=\"# of restaurants\",\n",
    "                  xaxis_title=None,\n",
    "                  hovermode=\"x unified\")\n",
    "type.update_xaxes(showline=True, linewidth=1, linecolor='lightgrey', \n",
    "                 showgrid=True, gridwidth=1, gridcolor='lightgrey')\n",
    "type.update_yaxes(showline=True, linewidth=1, linecolor='lightgrey',\n",
    "                 showgrid=True, gridwidth=1, gridcolor='lightgrey')\n",
    "\n",
    "plotly_type = pn.pane.Plotly(type, config={'responsive': True})"
   ]
  },
  {
   "cell_type": "code",
   "execution_count": 66,
   "metadata": {},
   "outputs": [
    {
     "data": {},
     "metadata": {},
     "output_type": "display_data"
    },
    {
     "data": {
      "application/vnd.holoviews_exec.v0+json": "",
      "text/html": [
       "<div id='3622'>\n",
       "\n",
       "\n",
       "\n",
       "\n",
       "\n",
       "  <div class=\"bk-root\" id=\"57245267-116b-42c8-b7d3-74e82e1b6968\" data-root-id=\"3622\"></div>\n",
       "</div>\n",
       "<script type=\"application/javascript\">(function(root) {\n",
       "  function embed_document(root) {\n",
       "    var docs_json = {\"af2e9683-eff9-4f47-9d74-c787274ab80d\":{\"defs\":[],\"roots\":{\"references\":[{\"attributes\":{},\"id\":\"3632\",\"type\":\"Selection\"},{\"attributes\":{\"child\":{\"id\":\"3628\"},\"name\":\"Plotly00103\",\"title\":\"Price ranges by kitchen\"},\"id\":\"3629\",\"type\":\"Panel\"},{\"attributes\":{\"data\":{\"x\":[[\"\\ud83d\\udcb2\",\"\\ud83d\\udcb2\\ud83d\\udcb2\",\"\\ud83d\\udcb2\\ud83d\\udcb2\\ud83d\\udcb2\",\"\\ud83d\\udcb2\\ud83d\\udcb2\\ud83d\\udcb2\\ud83d\\udcb2\",\"Unknown\"]],\"y\":[[2240,5272,399,53,1031]]},\"selected\":{\"id\":\"3632\"},\"selection_policy\":{\"id\":\"3633\"}},\"id\":\"3623\",\"type\":\"ColumnDataSource\"},{\"attributes\":{\"margin\":[5,5,5,5],\"name\":\"Plotly00105\"},\"id\":\"3630\",\"type\":\"Spacer\"},{\"attributes\":{},\"id\":\"3633\",\"type\":\"UnionRenderers\"},{\"attributes\":{\"reload\":false},\"id\":\"3645\",\"type\":\"panel.models.location.Location\"},{\"attributes\":{\"client_comm_id\":\"7e4ab441c5cd4408819659678cb5ca7e\",\"comm_id\":\"584bbe95726743258e2f1f172c99b0a9\",\"plot_id\":\"3622\"},\"id\":\"3638\",\"type\":\"panel.models.comm_manager.CommManager\"},{\"attributes\":{\"margin\":[0,0,0,0],\"tabs\":[{\"id\":\"3625\"},{\"id\":\"3627\"},{\"id\":\"3629\"},{\"id\":\"3631\"}]},\"id\":\"3622\",\"type\":\"Tabs\"},{\"attributes\":{\"child\":{\"id\":\"3624\"},\"name\":\"Plotly00099\",\"title\":\"Price ranges\"},\"id\":\"3625\",\"type\":\"Panel\"},{\"attributes\":{\"margin\":[5,5,5,5],\"name\":\"Plotly00103\"},\"id\":\"3628\",\"type\":\"Spacer\"},{\"attributes\":{\"config\":{\"responsive\":true},\"data\":[{\"alignmentgroup\":\"True\",\"legendgroup\":\"\",\"marker\":{\"color\":\"lightblue\"},\"name\":\"\",\"offsetgroup\":\"\",\"orientation\":\"v\",\"showlegend\":false,\"textposition\":\"auto\",\"type\":\"bar\",\"xaxis\":\"x\",\"yaxis\":\"y\"}],\"data_sources\":[{\"id\":\"3623\"}],\"layout\":{\"barmode\":\"relative\",\"height\":500,\"hovermode\":\"x unified\",\"legend\":{\"tracegroupgap\":0},\"margin\":{\"t\":60},\"plot_bgcolor\":\"rgba(0,0,0,0)\",\"template\":{\"data\":{\"bar\":[{\"error_x\":{\"color\":\"#2a3f5f\"},\"error_y\":{\"color\":\"#2a3f5f\"},\"marker\":{\"line\":{\"color\":\"#E5ECF6\",\"width\":0.5}},\"type\":\"bar\"}],\"barpolar\":[{\"marker\":{\"line\":{\"color\":\"#E5ECF6\",\"width\":0.5}},\"type\":\"barpolar\"}],\"carpet\":[{\"aaxis\":{\"endlinecolor\":\"#2a3f5f\",\"gridcolor\":\"white\",\"linecolor\":\"white\",\"minorgridcolor\":\"white\",\"startlinecolor\":\"#2a3f5f\"},\"baxis\":{\"endlinecolor\":\"#2a3f5f\",\"gridcolor\":\"white\",\"linecolor\":\"white\",\"minorgridcolor\":\"white\",\"startlinecolor\":\"#2a3f5f\"},\"type\":\"carpet\"}],\"choropleth\":[{\"colorbar\":{\"outlinewidth\":0,\"ticks\":\"\"},\"type\":\"choropleth\"}],\"contour\":[{\"colorbar\":{\"outlinewidth\":0,\"ticks\":\"\"},\"colorscale\":[[0.0,\"#0d0887\"],[0.1111111111111111,\"#46039f\"],[0.2222222222222222,\"#7201a8\"],[0.3333333333333333,\"#9c179e\"],[0.4444444444444444,\"#bd3786\"],[0.5555555555555556,\"#d8576b\"],[0.6666666666666666,\"#ed7953\"],[0.7777777777777778,\"#fb9f3a\"],[0.8888888888888888,\"#fdca26\"],[1.0,\"#f0f921\"]],\"type\":\"contour\"}],\"contourcarpet\":[{\"colorbar\":{\"outlinewidth\":0,\"ticks\":\"\"},\"type\":\"contourcarpet\"}],\"heatmap\":[{\"colorbar\":{\"outlinewidth\":0,\"ticks\":\"\"},\"colorscale\":[[0.0,\"#0d0887\"],[0.1111111111111111,\"#46039f\"],[0.2222222222222222,\"#7201a8\"],[0.3333333333333333,\"#9c179e\"],[0.4444444444444444,\"#bd3786\"],[0.5555555555555556,\"#d8576b\"],[0.6666666666666666,\"#ed7953\"],[0.7777777777777778,\"#fb9f3a\"],[0.8888888888888888,\"#fdca26\"],[1.0,\"#f0f921\"]],\"type\":\"heatmap\"}],\"heatmapgl\":[{\"colorbar\":{\"outlinewidth\":0,\"ticks\":\"\"},\"colorscale\":[[0.0,\"#0d0887\"],[0.1111111111111111,\"#46039f\"],[0.2222222222222222,\"#7201a8\"],[0.3333333333333333,\"#9c179e\"],[0.4444444444444444,\"#bd3786\"],[0.5555555555555556,\"#d8576b\"],[0.6666666666666666,\"#ed7953\"],[0.7777777777777778,\"#fb9f3a\"],[0.8888888888888888,\"#fdca26\"],[1.0,\"#f0f921\"]],\"type\":\"heatmapgl\"}],\"histogram\":[{\"marker\":{\"colorbar\":{\"outlinewidth\":0,\"ticks\":\"\"}},\"type\":\"histogram\"}],\"histogram2d\":[{\"colorbar\":{\"outlinewidth\":0,\"ticks\":\"\"},\"colorscale\":[[0.0,\"#0d0887\"],[0.1111111111111111,\"#46039f\"],[0.2222222222222222,\"#7201a8\"],[0.3333333333333333,\"#9c179e\"],[0.4444444444444444,\"#bd3786\"],[0.5555555555555556,\"#d8576b\"],[0.6666666666666666,\"#ed7953\"],[0.7777777777777778,\"#fb9f3a\"],[0.8888888888888888,\"#fdca26\"],[1.0,\"#f0f921\"]],\"type\":\"histogram2d\"}],\"histogram2dcontour\":[{\"colorbar\":{\"outlinewidth\":0,\"ticks\":\"\"},\"colorscale\":[[0.0,\"#0d0887\"],[0.1111111111111111,\"#46039f\"],[0.2222222222222222,\"#7201a8\"],[0.3333333333333333,\"#9c179e\"],[0.4444444444444444,\"#bd3786\"],[0.5555555555555556,\"#d8576b\"],[0.6666666666666666,\"#ed7953\"],[0.7777777777777778,\"#fb9f3a\"],[0.8888888888888888,\"#fdca26\"],[1.0,\"#f0f921\"]],\"type\":\"histogram2dcontour\"}],\"mesh3d\":[{\"colorbar\":{\"outlinewidth\":0,\"ticks\":\"\"},\"type\":\"mesh3d\"}],\"parcoords\":[{\"line\":{\"colorbar\":{\"outlinewidth\":0,\"ticks\":\"\"}},\"type\":\"parcoords\"}],\"pie\":[{\"automargin\":true,\"type\":\"pie\"}],\"scatter\":[{\"marker\":{\"colorbar\":{\"outlinewidth\":0,\"ticks\":\"\"}},\"type\":\"scatter\"}],\"scatter3d\":[{\"line\":{\"colorbar\":{\"outlinewidth\":0,\"ticks\":\"\"}},\"marker\":{\"colorbar\":{\"outlinewidth\":0,\"ticks\":\"\"}},\"type\":\"scatter3d\"}],\"scattercarpet\":[{\"marker\":{\"colorbar\":{\"outlinewidth\":0,\"ticks\":\"\"}},\"type\":\"scattercarpet\"}],\"scattergeo\":[{\"marker\":{\"colorbar\":{\"outlinewidth\":0,\"ticks\":\"\"}},\"type\":\"scattergeo\"}],\"scattergl\":[{\"marker\":{\"colorbar\":{\"outlinewidth\":0,\"ticks\":\"\"}},\"type\":\"scattergl\"}],\"scattermapbox\":[{\"marker\":{\"colorbar\":{\"outlinewidth\":0,\"ticks\":\"\"}},\"type\":\"scattermapbox\"}],\"scatterpolar\":[{\"marker\":{\"colorbar\":{\"outlinewidth\":0,\"ticks\":\"\"}},\"type\":\"scatterpolar\"}],\"scatterpolargl\":[{\"marker\":{\"colorbar\":{\"outlinewidth\":0,\"ticks\":\"\"}},\"type\":\"scatterpolargl\"}],\"scatterternary\":[{\"marker\":{\"colorbar\":{\"outlinewidth\":0,\"ticks\":\"\"}},\"type\":\"scatterternary\"}],\"surface\":[{\"colorbar\":{\"outlinewidth\":0,\"ticks\":\"\"},\"colorscale\":[[0.0,\"#0d0887\"],[0.1111111111111111,\"#46039f\"],[0.2222222222222222,\"#7201a8\"],[0.3333333333333333,\"#9c179e\"],[0.4444444444444444,\"#bd3786\"],[0.5555555555555556,\"#d8576b\"],[0.6666666666666666,\"#ed7953\"],[0.7777777777777778,\"#fb9f3a\"],[0.8888888888888888,\"#fdca26\"],[1.0,\"#f0f921\"]],\"type\":\"surface\"}],\"table\":[{\"cells\":{\"fill\":{\"color\":\"#EBF0F8\"},\"line\":{\"color\":\"white\"}},\"header\":{\"fill\":{\"color\":\"#C8D4E3\"},\"line\":{\"color\":\"white\"}},\"type\":\"table\"}]},\"layout\":{\"annotationdefaults\":{\"arrowcolor\":\"#2a3f5f\",\"arrowhead\":0,\"arrowwidth\":1},\"coloraxis\":{\"colorbar\":{\"outlinewidth\":0,\"ticks\":\"\"}},\"colorscale\":{\"diverging\":[[0,\"#8e0152\"],[0.1,\"#c51b7d\"],[0.2,\"#de77ae\"],[0.3,\"#f1b6da\"],[0.4,\"#fde0ef\"],[0.5,\"#f7f7f7\"],[0.6,\"#e6f5d0\"],[0.7,\"#b8e186\"],[0.8,\"#7fbc41\"],[0.9,\"#4d9221\"],[1,\"#276419\"]],\"sequential\":[[0.0,\"#0d0887\"],[0.1111111111111111,\"#46039f\"],[0.2222222222222222,\"#7201a8\"],[0.3333333333333333,\"#9c179e\"],[0.4444444444444444,\"#bd3786\"],[0.5555555555555556,\"#d8576b\"],[0.6666666666666666,\"#ed7953\"],[0.7777777777777778,\"#fb9f3a\"],[0.8888888888888888,\"#fdca26\"],[1.0,\"#f0f921\"]],\"sequentialminus\":[[0.0,\"#0d0887\"],[0.1111111111111111,\"#46039f\"],[0.2222222222222222,\"#7201a8\"],[0.3333333333333333,\"#9c179e\"],[0.4444444444444444,\"#bd3786\"],[0.5555555555555556,\"#d8576b\"],[0.6666666666666666,\"#ed7953\"],[0.7777777777777778,\"#fb9f3a\"],[0.8888888888888888,\"#fdca26\"],[1.0,\"#f0f921\"]]},\"colorway\":[\"#636efa\",\"#EF553B\",\"#00cc96\",\"#ab63fa\",\"#FFA15A\",\"#19d3f3\",\"#FF6692\",\"#B6E880\",\"#FF97FF\",\"#FECB52\"],\"font\":{\"color\":\"#2a3f5f\"},\"geo\":{\"bgcolor\":\"white\",\"lakecolor\":\"white\",\"landcolor\":\"#E5ECF6\",\"showlakes\":true,\"showland\":true,\"subunitcolor\":\"white\"},\"hoverlabel\":{\"align\":\"left\"},\"hovermode\":\"closest\",\"mapbox\":{\"style\":\"light\"},\"paper_bgcolor\":\"white\",\"plot_bgcolor\":\"#E5ECF6\",\"polar\":{\"angularaxis\":{\"gridcolor\":\"white\",\"linecolor\":\"white\",\"ticks\":\"\"},\"bgcolor\":\"#E5ECF6\",\"radialaxis\":{\"gridcolor\":\"white\",\"linecolor\":\"white\",\"ticks\":\"\"}},\"scene\":{\"xaxis\":{\"backgroundcolor\":\"#E5ECF6\",\"gridcolor\":\"white\",\"gridwidth\":2,\"linecolor\":\"white\",\"showbackground\":true,\"ticks\":\"\",\"zerolinecolor\":\"white\"},\"yaxis\":{\"backgroundcolor\":\"#E5ECF6\",\"gridcolor\":\"white\",\"gridwidth\":2,\"linecolor\":\"white\",\"showbackground\":true,\"ticks\":\"\",\"zerolinecolor\":\"white\"},\"zaxis\":{\"backgroundcolor\":\"#E5ECF6\",\"gridcolor\":\"white\",\"gridwidth\":2,\"linecolor\":\"white\",\"showbackground\":true,\"ticks\":\"\",\"zerolinecolor\":\"white\"}},\"shapedefaults\":{\"line\":{\"color\":\"#2a3f5f\"}},\"ternary\":{\"aaxis\":{\"gridcolor\":\"white\",\"linecolor\":\"white\",\"ticks\":\"\"},\"baxis\":{\"gridcolor\":\"white\",\"linecolor\":\"white\",\"ticks\":\"\"},\"bgcolor\":\"#E5ECF6\",\"caxis\":{\"gridcolor\":\"white\",\"linecolor\":\"white\",\"ticks\":\"\"}},\"title\":{\"x\":0.05},\"xaxis\":{\"automargin\":true,\"gridcolor\":\"white\",\"linecolor\":\"white\",\"ticks\":\"\",\"title\":{\"standoff\":15},\"zerolinecolor\":\"white\",\"zerolinewidth\":2},\"yaxis\":{\"automargin\":true,\"gridcolor\":\"white\",\"linecolor\":\"white\",\"ticks\":\"\",\"title\":{\"standoff\":15},\"zerolinecolor\":\"white\",\"zerolinewidth\":2}}},\"title\":{\"text\":\"Number of restaurants in each price range\"},\"width\":800,\"xaxis\":{\"anchor\":\"y\",\"domain\":[0.0,1.0],\"gridcolor\":\"lightgrey\",\"gridwidth\":1,\"linecolor\":\"lightgrey\",\"linewidth\":1,\"showgrid\":true,\"showline\":true,\"title\":{\"text\":\"PriceRange\"}},\"yaxis\":{\"anchor\":\"x\",\"domain\":[0.0,1.0],\"gridcolor\":\"lightgrey\",\"gridwidth\":1,\"linecolor\":\"lightgrey\",\"linewidth\":1,\"showgrid\":true,\"showline\":true,\"title\":{\"text\":\"# of restaurants\"}}},\"margin\":[5,5,5,5],\"name\":\"Plotly00099\",\"viewport_update_throttle\":200},\"id\":\"3624\",\"type\":\"panel.models.plotly.PlotlyPlot\"},{\"attributes\":{\"margin\":[5,5,5,5],\"name\":\"Plotly00101\"},\"id\":\"3626\",\"type\":\"Spacer\"},{\"attributes\":{\"child\":{\"id\":\"3630\"},\"name\":\"Plotly00105\",\"title\":\"Price ranges by Type\"},\"id\":\"3631\",\"type\":\"Panel\"},{\"attributes\":{\"child\":{\"id\":\"3626\"},\"name\":\"Plotly00101\",\"title\":\"Price ranges by state\"},\"id\":\"3627\",\"type\":\"Panel\"}],\"root_ids\":[\"3622\",\"3638\",\"3645\"]},\"title\":\"Bokeh Application\",\"version\":\"2.3.1\"}};\n",
       "    var render_items = [{\"docid\":\"af2e9683-eff9-4f47-9d74-c787274ab80d\",\"root_ids\":[\"3622\"],\"roots\":{\"3622\":\"57245267-116b-42c8-b7d3-74e82e1b6968\"}}];\n",
       "    root.Bokeh.embed.embed_items_notebook(docs_json, render_items);\n",
       "  }\n",
       "  if (root.Bokeh !== undefined && root.Bokeh.Panel !== undefined && root['Plotly'] !== undefined ) {\n",
       "    embed_document(root);\n",
       "  } else {\n",
       "    var attempts = 0;\n",
       "    var timer = setInterval(function(root) {\n",
       "      if (root.Bokeh !== undefined && root.Bokeh.Panel !== undefined && root['Plotly'] !== undefined) {\n",
       "        clearInterval(timer);\n",
       "        embed_document(root);\n",
       "      } else if (document.readyState == \"complete\") {\n",
       "        attempts++;\n",
       "        if (attempts > 100) {\n",
       "          clearInterval(timer);\n",
       "          console.log(\"Bokeh: ERROR: Unable to run BokehJS code because BokehJS library is missing\");\n",
       "        }\n",
       "      }\n",
       "    }, 10, root)\n",
       "  }\n",
       "})(window);</script>"
      ],
      "text/plain": [
       "Tabs(dynamic=True)\n",
       "    [0] Plotly(Figure, config={'responsive': True})\n",
       "    [1] Plotly(Figure, config={'responsive': True})\n",
       "    [2] Plotly(Figure, config={'responsive': True})\n",
       "    [3] Plotly(Figure, config={'responsive': True})"
      ]
     },
     "execution_count": 66,
     "metadata": {
      "application/vnd.holoviews_exec.v0+json": {
       "id": "3622"
      }
     },
     "output_type": "execute_result"
    }
   ],
   "source": [
    "pn.Tabs(\n",
    "    (\"Price ranges\", overview),\n",
    "    ('Price ranges by state', plotly_state),\n",
    "    ('Price ranges by kitchen', plotly_kitchen),\n",
    "    ('Price ranges by Type', plotly_type),\n",
    "    dynamic=True\n",
    "    ).servable()"
   ]
  },
  {
   "cell_type": "markdown",
   "metadata": {},
   "source": [
    "### 3.4. Time-based Overview"
   ]
  },
  {
   "cell_type": "markdown",
   "metadata": {},
   "source": [
    "The temporal patterns of reviews of restaurants are presented in this section. This is done to give an overview of when restaurants are reviewed the most during different time periods and for different restaurant categories. In the chart below you can see the total number of reviews made each hour for each weekday. Clearly, all weekdays follow the same pattern of a very low number of reviews in the morning and then a steady increase in reviews until 6-7 pm. After the evening-peak there is a small decrease in reviews for a few hours, whereafter the number of reviews increases again until 0-1 am. This night peak is of course due to the Yelp data also containing bars and nightlife locations and also, people might not review their visits until later when they get home from a restaurant visit. You can click on the days to the right of the chart to include/exclude them from the visualization."
   ]
  },
  {
   "cell_type": "code",
   "execution_count": 78,
   "metadata": {},
   "outputs": [
    {
     "data": {
      "application/vnd.plotly.v1+json": {
       "config": {
        "plotlyServerURL": "https://plot.ly"
       },
       "data": [
        {
         "legendgroup": "Monday",
         "line": {
          "color": "#08306b",
          "dash": "solid"
         },
         "mode": "lines",
         "name": "Monday",
         "orientation": "v",
         "showlegend": true,
         "type": "scatter",
         "x": [
          0,
          1,
          2,
          3,
          4,
          5,
          6,
          7,
          8,
          9,
          10,
          11,
          12,
          13,
          14,
          15,
          16,
          17,
          18,
          19,
          20,
          21,
          22,
          23
         ],
         "xaxis": "x",
         "y": [
          17825,
          16915,
          15000,
          11741,
          8147,
          4895,
          3102,
          1754,
          1269,
          965,
          1193,
          2199,
          3734,
          5767,
          7908,
          9059,
          10237,
          11909,
          12456,
          11743,
          12146,
          11188,
          11992,
          12393
         ],
         "yaxis": "y"
        },
        {
         "legendgroup": "Tuesday",
         "line": {
          "color": "#08519c",
          "dash": "solid"
         },
         "mode": "lines",
         "name": "Tuesday",
         "orientation": "v",
         "showlegend": true,
         "type": "scatter",
         "x": [
          0,
          1,
          2,
          3,
          4,
          5,
          6,
          7,
          8,
          9,
          10,
          11,
          12,
          13,
          14,
          15,
          16,
          17,
          18,
          19,
          20,
          21,
          22,
          23
         ],
         "xaxis": "x",
         "y": [
          13798,
          13758,
          12995,
          9662,
          6802,
          4223,
          2617,
          1587,
          898,
          897,
          1053,
          1946,
          3224,
          4710,
          6122,
          7573,
          8912,
          9887,
          11281,
          10607,
          10225,
          9865,
          10509,
          11750
         ],
         "yaxis": "y"
        },
        {
         "legendgroup": "Wednesday",
         "line": {
          "color": "#2171b5",
          "dash": "solid"
         },
         "mode": "lines",
         "name": "Wednesday",
         "orientation": "v",
         "showlegend": true,
         "type": "scatter",
         "x": [
          0,
          1,
          2,
          3,
          4,
          5,
          6,
          7,
          8,
          9,
          10,
          11,
          12,
          13,
          14,
          15,
          16,
          17,
          18,
          19,
          20,
          21,
          22,
          23
         ],
         "xaxis": "x",
         "y": [
          13127,
          13264,
          11606,
          9309,
          6487,
          4054,
          2550,
          1481,
          876,
          820,
          1119,
          1898,
          3250,
          5057,
          6423,
          7630,
          8990,
          9690,
          10849,
          10366,
          9915,
          9960,
          10233,
          11234
         ],
         "yaxis": "y"
        },
        {
         "legendgroup": "Thursday",
         "line": {
          "color": "#4292c6",
          "dash": "solid"
         },
         "mode": "lines",
         "name": "Thursday",
         "orientation": "v",
         "showlegend": true,
         "type": "scatter",
         "x": [
          0,
          1,
          2,
          3,
          4,
          5,
          6,
          7,
          8,
          9,
          10,
          11,
          12,
          13,
          14,
          15,
          16,
          17,
          18,
          19,
          20,
          21,
          22,
          23
         ],
         "xaxis": "x",
         "y": [
          12319,
          13132,
          11737,
          9442,
          6535,
          3971,
          2368,
          1362,
          952,
          813,
          994,
          1989,
          3206,
          4539,
          5795,
          6876,
          7956,
          9324,
          10170,
          10749,
          10741,
          10884,
          10849,
          12739
         ],
         "yaxis": "y"
        },
        {
         "legendgroup": "Friday",
         "line": {
          "color": "#6baed6",
          "dash": "solid"
         },
         "mode": "lines",
         "name": "Friday",
         "orientation": "v",
         "showlegend": true,
         "type": "scatter",
         "x": [
          0,
          1,
          2,
          3,
          4,
          5,
          6,
          7,
          8,
          9,
          10,
          11,
          12,
          13,
          14,
          15,
          16,
          17,
          18,
          19,
          20,
          21,
          22,
          23
         ],
         "xaxis": "x",
         "y": [
          13371,
          13772,
          12571,
          10176,
          6730,
          4511,
          2726,
          1626,
          1069,
          941,
          1171,
          2087,
          3405,
          5165,
          6633,
          7688,
          8916,
          10774,
          11721,
          10843,
          10730,
          10747,
          11695,
          13931
         ],
         "yaxis": "y"
        },
        {
         "legendgroup": "Saturday",
         "line": {
          "color": "#9ecae1",
          "dash": "solid"
         },
         "mode": "lines",
         "name": "Saturday",
         "orientation": "v",
         "showlegend": true,
         "type": "scatter",
         "x": [
          0,
          1,
          2,
          3,
          4,
          5,
          6,
          7,
          8,
          9,
          10,
          11,
          12,
          13,
          14,
          15,
          16,
          17,
          18,
          19,
          20,
          21,
          22,
          23
         ],
         "xaxis": "x",
         "y": [
          15724,
          16773,
          15105,
          12285,
          9129,
          5881,
          3434,
          2199,
          1250,
          916,
          1220,
          2386,
          4213,
          6544,
          8992,
          10785,
          13040,
          14367,
          15608,
          16406,
          16298,
          16200,
          16607,
          18308
         ],
         "yaxis": "y"
        },
        {
         "legendgroup": "Sunday",
         "line": {
          "color": "#c6dbef",
          "dash": "solid"
         },
         "mode": "lines",
         "name": "Sunday",
         "orientation": "v",
         "showlegend": true,
         "type": "scatter",
         "x": [
          0,
          1,
          2,
          3,
          4,
          5,
          6,
          7,
          8,
          9,
          10,
          11,
          12,
          13,
          14,
          15,
          16,
          17,
          18,
          19,
          20,
          21,
          22,
          23
         ],
         "xaxis": "x",
         "y": [
          19744,
          19654,
          18771,
          14963,
          10621,
          6966,
          4552,
          2530,
          1775,
          928,
          1156,
          2518,
          4759,
          8352,
          11093,
          13691,
          15134,
          16949,
          18639,
          18689,
          18028,
          16929,
          16941,
          17714
         ],
         "yaxis": "y"
        }
       ],
       "layout": {
        "height": 500,
        "hovermode": "x unified",
        "legend": {
         "title": {
          "text": "Weekday"
         },
         "tracegroupgap": 0
        },
        "margin": {
         "t": 60
        },
        "plot_bgcolor": "rgba(0,0,0,0)",
        "template": {
         "data": {
          "bar": [
           {
            "error_x": {
             "color": "#2a3f5f"
            },
            "error_y": {
             "color": "#2a3f5f"
            },
            "marker": {
             "line": {
              "color": "#E5ECF6",
              "width": 0.5
             }
            },
            "type": "bar"
           }
          ],
          "barpolar": [
           {
            "marker": {
             "line": {
              "color": "#E5ECF6",
              "width": 0.5
             }
            },
            "type": "barpolar"
           }
          ],
          "carpet": [
           {
            "aaxis": {
             "endlinecolor": "#2a3f5f",
             "gridcolor": "white",
             "linecolor": "white",
             "minorgridcolor": "white",
             "startlinecolor": "#2a3f5f"
            },
            "baxis": {
             "endlinecolor": "#2a3f5f",
             "gridcolor": "white",
             "linecolor": "white",
             "minorgridcolor": "white",
             "startlinecolor": "#2a3f5f"
            },
            "type": "carpet"
           }
          ],
          "choropleth": [
           {
            "colorbar": {
             "outlinewidth": 0,
             "ticks": ""
            },
            "type": "choropleth"
           }
          ],
          "contour": [
           {
            "colorbar": {
             "outlinewidth": 0,
             "ticks": ""
            },
            "colorscale": [
             [
              0,
              "#0d0887"
             ],
             [
              0.1111111111111111,
              "#46039f"
             ],
             [
              0.2222222222222222,
              "#7201a8"
             ],
             [
              0.3333333333333333,
              "#9c179e"
             ],
             [
              0.4444444444444444,
              "#bd3786"
             ],
             [
              0.5555555555555556,
              "#d8576b"
             ],
             [
              0.6666666666666666,
              "#ed7953"
             ],
             [
              0.7777777777777778,
              "#fb9f3a"
             ],
             [
              0.8888888888888888,
              "#fdca26"
             ],
             [
              1,
              "#f0f921"
             ]
            ],
            "type": "contour"
           }
          ],
          "contourcarpet": [
           {
            "colorbar": {
             "outlinewidth": 0,
             "ticks": ""
            },
            "type": "contourcarpet"
           }
          ],
          "heatmap": [
           {
            "colorbar": {
             "outlinewidth": 0,
             "ticks": ""
            },
            "colorscale": [
             [
              0,
              "#0d0887"
             ],
             [
              0.1111111111111111,
              "#46039f"
             ],
             [
              0.2222222222222222,
              "#7201a8"
             ],
             [
              0.3333333333333333,
              "#9c179e"
             ],
             [
              0.4444444444444444,
              "#bd3786"
             ],
             [
              0.5555555555555556,
              "#d8576b"
             ],
             [
              0.6666666666666666,
              "#ed7953"
             ],
             [
              0.7777777777777778,
              "#fb9f3a"
             ],
             [
              0.8888888888888888,
              "#fdca26"
             ],
             [
              1,
              "#f0f921"
             ]
            ],
            "type": "heatmap"
           }
          ],
          "heatmapgl": [
           {
            "colorbar": {
             "outlinewidth": 0,
             "ticks": ""
            },
            "colorscale": [
             [
              0,
              "#0d0887"
             ],
             [
              0.1111111111111111,
              "#46039f"
             ],
             [
              0.2222222222222222,
              "#7201a8"
             ],
             [
              0.3333333333333333,
              "#9c179e"
             ],
             [
              0.4444444444444444,
              "#bd3786"
             ],
             [
              0.5555555555555556,
              "#d8576b"
             ],
             [
              0.6666666666666666,
              "#ed7953"
             ],
             [
              0.7777777777777778,
              "#fb9f3a"
             ],
             [
              0.8888888888888888,
              "#fdca26"
             ],
             [
              1,
              "#f0f921"
             ]
            ],
            "type": "heatmapgl"
           }
          ],
          "histogram": [
           {
            "marker": {
             "colorbar": {
              "outlinewidth": 0,
              "ticks": ""
             }
            },
            "type": "histogram"
           }
          ],
          "histogram2d": [
           {
            "colorbar": {
             "outlinewidth": 0,
             "ticks": ""
            },
            "colorscale": [
             [
              0,
              "#0d0887"
             ],
             [
              0.1111111111111111,
              "#46039f"
             ],
             [
              0.2222222222222222,
              "#7201a8"
             ],
             [
              0.3333333333333333,
              "#9c179e"
             ],
             [
              0.4444444444444444,
              "#bd3786"
             ],
             [
              0.5555555555555556,
              "#d8576b"
             ],
             [
              0.6666666666666666,
              "#ed7953"
             ],
             [
              0.7777777777777778,
              "#fb9f3a"
             ],
             [
              0.8888888888888888,
              "#fdca26"
             ],
             [
              1,
              "#f0f921"
             ]
            ],
            "type": "histogram2d"
           }
          ],
          "histogram2dcontour": [
           {
            "colorbar": {
             "outlinewidth": 0,
             "ticks": ""
            },
            "colorscale": [
             [
              0,
              "#0d0887"
             ],
             [
              0.1111111111111111,
              "#46039f"
             ],
             [
              0.2222222222222222,
              "#7201a8"
             ],
             [
              0.3333333333333333,
              "#9c179e"
             ],
             [
              0.4444444444444444,
              "#bd3786"
             ],
             [
              0.5555555555555556,
              "#d8576b"
             ],
             [
              0.6666666666666666,
              "#ed7953"
             ],
             [
              0.7777777777777778,
              "#fb9f3a"
             ],
             [
              0.8888888888888888,
              "#fdca26"
             ],
             [
              1,
              "#f0f921"
             ]
            ],
            "type": "histogram2dcontour"
           }
          ],
          "mesh3d": [
           {
            "colorbar": {
             "outlinewidth": 0,
             "ticks": ""
            },
            "type": "mesh3d"
           }
          ],
          "parcoords": [
           {
            "line": {
             "colorbar": {
              "outlinewidth": 0,
              "ticks": ""
             }
            },
            "type": "parcoords"
           }
          ],
          "pie": [
           {
            "automargin": true,
            "type": "pie"
           }
          ],
          "scatter": [
           {
            "marker": {
             "colorbar": {
              "outlinewidth": 0,
              "ticks": ""
             }
            },
            "type": "scatter"
           }
          ],
          "scatter3d": [
           {
            "line": {
             "colorbar": {
              "outlinewidth": 0,
              "ticks": ""
             }
            },
            "marker": {
             "colorbar": {
              "outlinewidth": 0,
              "ticks": ""
             }
            },
            "type": "scatter3d"
           }
          ],
          "scattercarpet": [
           {
            "marker": {
             "colorbar": {
              "outlinewidth": 0,
              "ticks": ""
             }
            },
            "type": "scattercarpet"
           }
          ],
          "scattergeo": [
           {
            "marker": {
             "colorbar": {
              "outlinewidth": 0,
              "ticks": ""
             }
            },
            "type": "scattergeo"
           }
          ],
          "scattergl": [
           {
            "marker": {
             "colorbar": {
              "outlinewidth": 0,
              "ticks": ""
             }
            },
            "type": "scattergl"
           }
          ],
          "scattermapbox": [
           {
            "marker": {
             "colorbar": {
              "outlinewidth": 0,
              "ticks": ""
             }
            },
            "type": "scattermapbox"
           }
          ],
          "scatterpolar": [
           {
            "marker": {
             "colorbar": {
              "outlinewidth": 0,
              "ticks": ""
             }
            },
            "type": "scatterpolar"
           }
          ],
          "scatterpolargl": [
           {
            "marker": {
             "colorbar": {
              "outlinewidth": 0,
              "ticks": ""
             }
            },
            "type": "scatterpolargl"
           }
          ],
          "scatterternary": [
           {
            "marker": {
             "colorbar": {
              "outlinewidth": 0,
              "ticks": ""
             }
            },
            "type": "scatterternary"
           }
          ],
          "surface": [
           {
            "colorbar": {
             "outlinewidth": 0,
             "ticks": ""
            },
            "colorscale": [
             [
              0,
              "#0d0887"
             ],
             [
              0.1111111111111111,
              "#46039f"
             ],
             [
              0.2222222222222222,
              "#7201a8"
             ],
             [
              0.3333333333333333,
              "#9c179e"
             ],
             [
              0.4444444444444444,
              "#bd3786"
             ],
             [
              0.5555555555555556,
              "#d8576b"
             ],
             [
              0.6666666666666666,
              "#ed7953"
             ],
             [
              0.7777777777777778,
              "#fb9f3a"
             ],
             [
              0.8888888888888888,
              "#fdca26"
             ],
             [
              1,
              "#f0f921"
             ]
            ],
            "type": "surface"
           }
          ],
          "table": [
           {
            "cells": {
             "fill": {
              "color": "#EBF0F8"
             },
             "line": {
              "color": "white"
             }
            },
            "header": {
             "fill": {
              "color": "#C8D4E3"
             },
             "line": {
              "color": "white"
             }
            },
            "type": "table"
           }
          ]
         },
         "layout": {
          "annotationdefaults": {
           "arrowcolor": "#2a3f5f",
           "arrowhead": 0,
           "arrowwidth": 1
          },
          "coloraxis": {
           "colorbar": {
            "outlinewidth": 0,
            "ticks": ""
           }
          },
          "colorscale": {
           "diverging": [
            [
             0,
             "#8e0152"
            ],
            [
             0.1,
             "#c51b7d"
            ],
            [
             0.2,
             "#de77ae"
            ],
            [
             0.3,
             "#f1b6da"
            ],
            [
             0.4,
             "#fde0ef"
            ],
            [
             0.5,
             "#f7f7f7"
            ],
            [
             0.6,
             "#e6f5d0"
            ],
            [
             0.7,
             "#b8e186"
            ],
            [
             0.8,
             "#7fbc41"
            ],
            [
             0.9,
             "#4d9221"
            ],
            [
             1,
             "#276419"
            ]
           ],
           "sequential": [
            [
             0,
             "#0d0887"
            ],
            [
             0.1111111111111111,
             "#46039f"
            ],
            [
             0.2222222222222222,
             "#7201a8"
            ],
            [
             0.3333333333333333,
             "#9c179e"
            ],
            [
             0.4444444444444444,
             "#bd3786"
            ],
            [
             0.5555555555555556,
             "#d8576b"
            ],
            [
             0.6666666666666666,
             "#ed7953"
            ],
            [
             0.7777777777777778,
             "#fb9f3a"
            ],
            [
             0.8888888888888888,
             "#fdca26"
            ],
            [
             1,
             "#f0f921"
            ]
           ],
           "sequentialminus": [
            [
             0,
             "#0d0887"
            ],
            [
             0.1111111111111111,
             "#46039f"
            ],
            [
             0.2222222222222222,
             "#7201a8"
            ],
            [
             0.3333333333333333,
             "#9c179e"
            ],
            [
             0.4444444444444444,
             "#bd3786"
            ],
            [
             0.5555555555555556,
             "#d8576b"
            ],
            [
             0.6666666666666666,
             "#ed7953"
            ],
            [
             0.7777777777777778,
             "#fb9f3a"
            ],
            [
             0.8888888888888888,
             "#fdca26"
            ],
            [
             1,
             "#f0f921"
            ]
           ]
          },
          "colorway": [
           "#636efa",
           "#EF553B",
           "#00cc96",
           "#ab63fa",
           "#FFA15A",
           "#19d3f3",
           "#FF6692",
           "#B6E880",
           "#FF97FF",
           "#FECB52"
          ],
          "font": {
           "color": "#2a3f5f"
          },
          "geo": {
           "bgcolor": "white",
           "lakecolor": "white",
           "landcolor": "#E5ECF6",
           "showlakes": true,
           "showland": true,
           "subunitcolor": "white"
          },
          "hoverlabel": {
           "align": "left"
          },
          "hovermode": "closest",
          "mapbox": {
           "style": "light"
          },
          "paper_bgcolor": "white",
          "plot_bgcolor": "#E5ECF6",
          "polar": {
           "angularaxis": {
            "gridcolor": "white",
            "linecolor": "white",
            "ticks": ""
           },
           "bgcolor": "#E5ECF6",
           "radialaxis": {
            "gridcolor": "white",
            "linecolor": "white",
            "ticks": ""
           }
          },
          "scene": {
           "xaxis": {
            "backgroundcolor": "#E5ECF6",
            "gridcolor": "white",
            "gridwidth": 2,
            "linecolor": "white",
            "showbackground": true,
            "ticks": "",
            "zerolinecolor": "white"
           },
           "yaxis": {
            "backgroundcolor": "#E5ECF6",
            "gridcolor": "white",
            "gridwidth": 2,
            "linecolor": "white",
            "showbackground": true,
            "ticks": "",
            "zerolinecolor": "white"
           },
           "zaxis": {
            "backgroundcolor": "#E5ECF6",
            "gridcolor": "white",
            "gridwidth": 2,
            "linecolor": "white",
            "showbackground": true,
            "ticks": "",
            "zerolinecolor": "white"
           }
          },
          "shapedefaults": {
           "line": {
            "color": "#2a3f5f"
           }
          },
          "ternary": {
           "aaxis": {
            "gridcolor": "white",
            "linecolor": "white",
            "ticks": ""
           },
           "baxis": {
            "gridcolor": "white",
            "linecolor": "white",
            "ticks": ""
           },
           "bgcolor": "#E5ECF6",
           "caxis": {
            "gridcolor": "white",
            "linecolor": "white",
            "ticks": ""
           }
          },
          "title": {
           "x": 0.05
          },
          "xaxis": {
           "automargin": true,
           "gridcolor": "white",
           "linecolor": "white",
           "ticks": "",
           "title": {
            "standoff": 15
           },
           "zerolinecolor": "white",
           "zerolinewidth": 2
          },
          "yaxis": {
           "automargin": true,
           "gridcolor": "white",
           "linecolor": "white",
           "ticks": "",
           "title": {
            "standoff": 15
           },
           "zerolinecolor": "white",
           "zerolinewidth": 2
          }
         }
        },
        "title": {
         "text": "Total number of reviews during the day"
        },
        "width": 800,
        "xaxis": {
         "anchor": "y",
         "domain": [
          0,
          1
         ],
         "gridcolor": "lightgrey",
         "gridwidth": 1,
         "linecolor": "lightgrey",
         "linewidth": 1,
         "showgrid": true,
         "showline": true,
         "title": {
          "text": "Hour of the day"
         }
        },
        "yaxis": {
         "anchor": "x",
         "domain": [
          0,
          1
         ],
         "gridcolor": "lightgrey",
         "gridwidth": 1,
         "linecolor": "lightgrey",
         "linewidth": 1,
         "showgrid": true,
         "showline": true,
         "title": {
          "text": "Number of reviews"
         }
        }
       }
      },
      "text/html": [
       "<div>                            <div id=\"a1d11cad-3939-41db-af50-f890247be170\" class=\"plotly-graph-div\" style=\"height:500px; width:800px;\"></div>            <script type=\"text/javascript\">                require([\"plotly\"], function(Plotly) {                    window.PLOTLYENV=window.PLOTLYENV || {};                                    if (document.getElementById(\"a1d11cad-3939-41db-af50-f890247be170\")) {                    Plotly.newPlot(                        \"a1d11cad-3939-41db-af50-f890247be170\",                        [{\"legendgroup\": \"Monday\", \"line\": {\"color\": \"#08306b\", \"dash\": \"solid\"}, \"mode\": \"lines\", \"name\": \"Monday\", \"orientation\": \"v\", \"showlegend\": true, \"type\": \"scatter\", \"x\": [0, 1, 2, 3, 4, 5, 6, 7, 8, 9, 10, 11, 12, 13, 14, 15, 16, 17, 18, 19, 20, 21, 22, 23], \"xaxis\": \"x\", \"y\": [17825, 16915, 15000, 11741, 8147, 4895, 3102, 1754, 1269, 965, 1193, 2199, 3734, 5767, 7908, 9059, 10237, 11909, 12456, 11743, 12146, 11188, 11992, 12393], \"yaxis\": \"y\"}, {\"legendgroup\": \"Tuesday\", \"line\": {\"color\": \"#08519c\", \"dash\": \"solid\"}, \"mode\": \"lines\", \"name\": \"Tuesday\", \"orientation\": \"v\", \"showlegend\": true, \"type\": \"scatter\", \"x\": [0, 1, 2, 3, 4, 5, 6, 7, 8, 9, 10, 11, 12, 13, 14, 15, 16, 17, 18, 19, 20, 21, 22, 23], \"xaxis\": \"x\", \"y\": [13798, 13758, 12995, 9662, 6802, 4223, 2617, 1587, 898, 897, 1053, 1946, 3224, 4710, 6122, 7573, 8912, 9887, 11281, 10607, 10225, 9865, 10509, 11750], \"yaxis\": \"y\"}, {\"legendgroup\": \"Wednesday\", \"line\": {\"color\": \"#2171b5\", \"dash\": \"solid\"}, \"mode\": \"lines\", \"name\": \"Wednesday\", \"orientation\": \"v\", \"showlegend\": true, \"type\": \"scatter\", \"x\": [0, 1, 2, 3, 4, 5, 6, 7, 8, 9, 10, 11, 12, 13, 14, 15, 16, 17, 18, 19, 20, 21, 22, 23], \"xaxis\": \"x\", \"y\": [13127, 13264, 11606, 9309, 6487, 4054, 2550, 1481, 876, 820, 1119, 1898, 3250, 5057, 6423, 7630, 8990, 9690, 10849, 10366, 9915, 9960, 10233, 11234], \"yaxis\": \"y\"}, {\"legendgroup\": \"Thursday\", \"line\": {\"color\": \"#4292c6\", \"dash\": \"solid\"}, \"mode\": \"lines\", \"name\": \"Thursday\", \"orientation\": \"v\", \"showlegend\": true, \"type\": \"scatter\", \"x\": [0, 1, 2, 3, 4, 5, 6, 7, 8, 9, 10, 11, 12, 13, 14, 15, 16, 17, 18, 19, 20, 21, 22, 23], \"xaxis\": \"x\", \"y\": [12319, 13132, 11737, 9442, 6535, 3971, 2368, 1362, 952, 813, 994, 1989, 3206, 4539, 5795, 6876, 7956, 9324, 10170, 10749, 10741, 10884, 10849, 12739], \"yaxis\": \"y\"}, {\"legendgroup\": \"Friday\", \"line\": {\"color\": \"#6baed6\", \"dash\": \"solid\"}, \"mode\": \"lines\", \"name\": \"Friday\", \"orientation\": \"v\", \"showlegend\": true, \"type\": \"scatter\", \"x\": [0, 1, 2, 3, 4, 5, 6, 7, 8, 9, 10, 11, 12, 13, 14, 15, 16, 17, 18, 19, 20, 21, 22, 23], \"xaxis\": \"x\", \"y\": [13371, 13772, 12571, 10176, 6730, 4511, 2726, 1626, 1069, 941, 1171, 2087, 3405, 5165, 6633, 7688, 8916, 10774, 11721, 10843, 10730, 10747, 11695, 13931], \"yaxis\": \"y\"}, {\"legendgroup\": \"Saturday\", \"line\": {\"color\": \"#9ecae1\", \"dash\": \"solid\"}, \"mode\": \"lines\", \"name\": \"Saturday\", \"orientation\": \"v\", \"showlegend\": true, \"type\": \"scatter\", \"x\": [0, 1, 2, 3, 4, 5, 6, 7, 8, 9, 10, 11, 12, 13, 14, 15, 16, 17, 18, 19, 20, 21, 22, 23], \"xaxis\": \"x\", \"y\": [15724, 16773, 15105, 12285, 9129, 5881, 3434, 2199, 1250, 916, 1220, 2386, 4213, 6544, 8992, 10785, 13040, 14367, 15608, 16406, 16298, 16200, 16607, 18308], \"yaxis\": \"y\"}, {\"legendgroup\": \"Sunday\", \"line\": {\"color\": \"#c6dbef\", \"dash\": \"solid\"}, \"mode\": \"lines\", \"name\": \"Sunday\", \"orientation\": \"v\", \"showlegend\": true, \"type\": \"scatter\", \"x\": [0, 1, 2, 3, 4, 5, 6, 7, 8, 9, 10, 11, 12, 13, 14, 15, 16, 17, 18, 19, 20, 21, 22, 23], \"xaxis\": \"x\", \"y\": [19744, 19654, 18771, 14963, 10621, 6966, 4552, 2530, 1775, 928, 1156, 2518, 4759, 8352, 11093, 13691, 15134, 16949, 18639, 18689, 18028, 16929, 16941, 17714], \"yaxis\": \"y\"}],                        {\"height\": 500, \"hovermode\": \"x unified\", \"legend\": {\"title\": {\"text\": \"Weekday\"}, \"tracegroupgap\": 0}, \"margin\": {\"t\": 60}, \"plot_bgcolor\": \"rgba(0,0,0,0)\", \"template\": {\"data\": {\"bar\": [{\"error_x\": {\"color\": \"#2a3f5f\"}, \"error_y\": {\"color\": \"#2a3f5f\"}, \"marker\": {\"line\": {\"color\": \"#E5ECF6\", \"width\": 0.5}}, \"type\": \"bar\"}], \"barpolar\": [{\"marker\": {\"line\": {\"color\": \"#E5ECF6\", \"width\": 0.5}}, \"type\": \"barpolar\"}], \"carpet\": [{\"aaxis\": {\"endlinecolor\": \"#2a3f5f\", \"gridcolor\": \"white\", \"linecolor\": \"white\", \"minorgridcolor\": \"white\", \"startlinecolor\": \"#2a3f5f\"}, \"baxis\": {\"endlinecolor\": \"#2a3f5f\", \"gridcolor\": \"white\", \"linecolor\": \"white\", \"minorgridcolor\": \"white\", \"startlinecolor\": \"#2a3f5f\"}, \"type\": \"carpet\"}], \"choropleth\": [{\"colorbar\": {\"outlinewidth\": 0, \"ticks\": \"\"}, \"type\": \"choropleth\"}], \"contour\": [{\"colorbar\": {\"outlinewidth\": 0, \"ticks\": \"\"}, \"colorscale\": [[0.0, \"#0d0887\"], [0.1111111111111111, \"#46039f\"], [0.2222222222222222, \"#7201a8\"], [0.3333333333333333, \"#9c179e\"], [0.4444444444444444, \"#bd3786\"], [0.5555555555555556, \"#d8576b\"], [0.6666666666666666, \"#ed7953\"], [0.7777777777777778, \"#fb9f3a\"], [0.8888888888888888, \"#fdca26\"], [1.0, \"#f0f921\"]], \"type\": \"contour\"}], \"contourcarpet\": [{\"colorbar\": {\"outlinewidth\": 0, \"ticks\": \"\"}, \"type\": \"contourcarpet\"}], \"heatmap\": [{\"colorbar\": {\"outlinewidth\": 0, \"ticks\": \"\"}, \"colorscale\": [[0.0, \"#0d0887\"], [0.1111111111111111, \"#46039f\"], [0.2222222222222222, \"#7201a8\"], [0.3333333333333333, \"#9c179e\"], [0.4444444444444444, \"#bd3786\"], [0.5555555555555556, \"#d8576b\"], [0.6666666666666666, \"#ed7953\"], [0.7777777777777778, \"#fb9f3a\"], [0.8888888888888888, \"#fdca26\"], [1.0, \"#f0f921\"]], \"type\": \"heatmap\"}], \"heatmapgl\": [{\"colorbar\": {\"outlinewidth\": 0, \"ticks\": \"\"}, \"colorscale\": [[0.0, \"#0d0887\"], [0.1111111111111111, \"#46039f\"], [0.2222222222222222, \"#7201a8\"], [0.3333333333333333, \"#9c179e\"], [0.4444444444444444, \"#bd3786\"], [0.5555555555555556, \"#d8576b\"], [0.6666666666666666, \"#ed7953\"], [0.7777777777777778, \"#fb9f3a\"], [0.8888888888888888, \"#fdca26\"], [1.0, \"#f0f921\"]], \"type\": \"heatmapgl\"}], \"histogram\": [{\"marker\": {\"colorbar\": {\"outlinewidth\": 0, \"ticks\": \"\"}}, \"type\": \"histogram\"}], \"histogram2d\": [{\"colorbar\": {\"outlinewidth\": 0, \"ticks\": \"\"}, \"colorscale\": [[0.0, \"#0d0887\"], [0.1111111111111111, \"#46039f\"], [0.2222222222222222, \"#7201a8\"], [0.3333333333333333, \"#9c179e\"], [0.4444444444444444, \"#bd3786\"], [0.5555555555555556, \"#d8576b\"], [0.6666666666666666, \"#ed7953\"], [0.7777777777777778, \"#fb9f3a\"], [0.8888888888888888, \"#fdca26\"], [1.0, \"#f0f921\"]], \"type\": \"histogram2d\"}], \"histogram2dcontour\": [{\"colorbar\": {\"outlinewidth\": 0, \"ticks\": \"\"}, \"colorscale\": [[0.0, \"#0d0887\"], [0.1111111111111111, \"#46039f\"], [0.2222222222222222, \"#7201a8\"], [0.3333333333333333, \"#9c179e\"], [0.4444444444444444, \"#bd3786\"], [0.5555555555555556, \"#d8576b\"], [0.6666666666666666, \"#ed7953\"], [0.7777777777777778, \"#fb9f3a\"], [0.8888888888888888, \"#fdca26\"], [1.0, \"#f0f921\"]], \"type\": \"histogram2dcontour\"}], \"mesh3d\": [{\"colorbar\": {\"outlinewidth\": 0, \"ticks\": \"\"}, \"type\": \"mesh3d\"}], \"parcoords\": [{\"line\": {\"colorbar\": {\"outlinewidth\": 0, \"ticks\": \"\"}}, \"type\": \"parcoords\"}], \"pie\": [{\"automargin\": true, \"type\": \"pie\"}], \"scatter\": [{\"marker\": {\"colorbar\": {\"outlinewidth\": 0, \"ticks\": \"\"}}, \"type\": \"scatter\"}], \"scatter3d\": [{\"line\": {\"colorbar\": {\"outlinewidth\": 0, \"ticks\": \"\"}}, \"marker\": {\"colorbar\": {\"outlinewidth\": 0, \"ticks\": \"\"}}, \"type\": \"scatter3d\"}], \"scattercarpet\": [{\"marker\": {\"colorbar\": {\"outlinewidth\": 0, \"ticks\": \"\"}}, \"type\": \"scattercarpet\"}], \"scattergeo\": [{\"marker\": {\"colorbar\": {\"outlinewidth\": 0, \"ticks\": \"\"}}, \"type\": \"scattergeo\"}], \"scattergl\": [{\"marker\": {\"colorbar\": {\"outlinewidth\": 0, \"ticks\": \"\"}}, \"type\": \"scattergl\"}], \"scattermapbox\": [{\"marker\": {\"colorbar\": {\"outlinewidth\": 0, \"ticks\": \"\"}}, \"type\": \"scattermapbox\"}], \"scatterpolar\": [{\"marker\": {\"colorbar\": {\"outlinewidth\": 0, \"ticks\": \"\"}}, \"type\": \"scatterpolar\"}], \"scatterpolargl\": [{\"marker\": {\"colorbar\": {\"outlinewidth\": 0, \"ticks\": \"\"}}, \"type\": \"scatterpolargl\"}], \"scatterternary\": [{\"marker\": {\"colorbar\": {\"outlinewidth\": 0, \"ticks\": \"\"}}, \"type\": \"scatterternary\"}], \"surface\": [{\"colorbar\": {\"outlinewidth\": 0, \"ticks\": \"\"}, \"colorscale\": [[0.0, \"#0d0887\"], [0.1111111111111111, \"#46039f\"], [0.2222222222222222, \"#7201a8\"], [0.3333333333333333, \"#9c179e\"], [0.4444444444444444, \"#bd3786\"], [0.5555555555555556, \"#d8576b\"], [0.6666666666666666, \"#ed7953\"], [0.7777777777777778, \"#fb9f3a\"], [0.8888888888888888, \"#fdca26\"], [1.0, \"#f0f921\"]], \"type\": \"surface\"}], \"table\": [{\"cells\": {\"fill\": {\"color\": \"#EBF0F8\"}, \"line\": {\"color\": \"white\"}}, \"header\": {\"fill\": {\"color\": \"#C8D4E3\"}, \"line\": {\"color\": \"white\"}}, \"type\": \"table\"}]}, \"layout\": {\"annotationdefaults\": {\"arrowcolor\": \"#2a3f5f\", \"arrowhead\": 0, \"arrowwidth\": 1}, \"coloraxis\": {\"colorbar\": {\"outlinewidth\": 0, \"ticks\": \"\"}}, \"colorscale\": {\"diverging\": [[0, \"#8e0152\"], [0.1, \"#c51b7d\"], [0.2, \"#de77ae\"], [0.3, \"#f1b6da\"], [0.4, \"#fde0ef\"], [0.5, \"#f7f7f7\"], [0.6, \"#e6f5d0\"], [0.7, \"#b8e186\"], [0.8, \"#7fbc41\"], [0.9, \"#4d9221\"], [1, \"#276419\"]], \"sequential\": [[0.0, \"#0d0887\"], [0.1111111111111111, \"#46039f\"], [0.2222222222222222, \"#7201a8\"], [0.3333333333333333, \"#9c179e\"], [0.4444444444444444, \"#bd3786\"], [0.5555555555555556, \"#d8576b\"], [0.6666666666666666, \"#ed7953\"], [0.7777777777777778, \"#fb9f3a\"], [0.8888888888888888, \"#fdca26\"], [1.0, \"#f0f921\"]], \"sequentialminus\": [[0.0, \"#0d0887\"], [0.1111111111111111, \"#46039f\"], [0.2222222222222222, \"#7201a8\"], [0.3333333333333333, \"#9c179e\"], [0.4444444444444444, \"#bd3786\"], [0.5555555555555556, \"#d8576b\"], [0.6666666666666666, \"#ed7953\"], [0.7777777777777778, \"#fb9f3a\"], [0.8888888888888888, \"#fdca26\"], [1.0, \"#f0f921\"]]}, \"colorway\": [\"#636efa\", \"#EF553B\", \"#00cc96\", \"#ab63fa\", \"#FFA15A\", \"#19d3f3\", \"#FF6692\", \"#B6E880\", \"#FF97FF\", \"#FECB52\"], \"font\": {\"color\": \"#2a3f5f\"}, \"geo\": {\"bgcolor\": \"white\", \"lakecolor\": \"white\", \"landcolor\": \"#E5ECF6\", \"showlakes\": true, \"showland\": true, \"subunitcolor\": \"white\"}, \"hoverlabel\": {\"align\": \"left\"}, \"hovermode\": \"closest\", \"mapbox\": {\"style\": \"light\"}, \"paper_bgcolor\": \"white\", \"plot_bgcolor\": \"#E5ECF6\", \"polar\": {\"angularaxis\": {\"gridcolor\": \"white\", \"linecolor\": \"white\", \"ticks\": \"\"}, \"bgcolor\": \"#E5ECF6\", \"radialaxis\": {\"gridcolor\": \"white\", \"linecolor\": \"white\", \"ticks\": \"\"}}, \"scene\": {\"xaxis\": {\"backgroundcolor\": \"#E5ECF6\", \"gridcolor\": \"white\", \"gridwidth\": 2, \"linecolor\": \"white\", \"showbackground\": true, \"ticks\": \"\", \"zerolinecolor\": \"white\"}, \"yaxis\": {\"backgroundcolor\": \"#E5ECF6\", \"gridcolor\": \"white\", \"gridwidth\": 2, \"linecolor\": \"white\", \"showbackground\": true, \"ticks\": \"\", \"zerolinecolor\": \"white\"}, \"zaxis\": {\"backgroundcolor\": \"#E5ECF6\", \"gridcolor\": \"white\", \"gridwidth\": 2, \"linecolor\": \"white\", \"showbackground\": true, \"ticks\": \"\", \"zerolinecolor\": \"white\"}}, \"shapedefaults\": {\"line\": {\"color\": \"#2a3f5f\"}}, \"ternary\": {\"aaxis\": {\"gridcolor\": \"white\", \"linecolor\": \"white\", \"ticks\": \"\"}, \"baxis\": {\"gridcolor\": \"white\", \"linecolor\": \"white\", \"ticks\": \"\"}, \"bgcolor\": \"#E5ECF6\", \"caxis\": {\"gridcolor\": \"white\", \"linecolor\": \"white\", \"ticks\": \"\"}}, \"title\": {\"x\": 0.05}, \"xaxis\": {\"automargin\": true, \"gridcolor\": \"white\", \"linecolor\": \"white\", \"ticks\": \"\", \"title\": {\"standoff\": 15}, \"zerolinecolor\": \"white\", \"zerolinewidth\": 2}, \"yaxis\": {\"automargin\": true, \"gridcolor\": \"white\", \"linecolor\": \"white\", \"ticks\": \"\", \"title\": {\"standoff\": 15}, \"zerolinecolor\": \"white\", \"zerolinewidth\": 2}}}, \"title\": {\"text\": \"Total number of reviews during the day\"}, \"width\": 800, \"xaxis\": {\"anchor\": \"y\", \"domain\": [0.0, 1.0], \"gridcolor\": \"lightgrey\", \"gridwidth\": 1, \"linecolor\": \"lightgrey\", \"linewidth\": 1, \"showgrid\": true, \"showline\": true, \"title\": {\"text\": \"Hour of the day\"}}, \"yaxis\": {\"anchor\": \"x\", \"domain\": [0.0, 1.0], \"gridcolor\": \"lightgrey\", \"gridwidth\": 1, \"linecolor\": \"lightgrey\", \"linewidth\": 1, \"showgrid\": true, \"showline\": true, \"title\": {\"text\": \"Number of reviews\"}}},                        {\"responsive\": true}                    ).then(function(){\n",
       "                            \n",
       "var gd = document.getElementById('a1d11cad-3939-41db-af50-f890247be170');\n",
       "var x = new MutationObserver(function (mutations, observer) {{\n",
       "        var display = window.getComputedStyle(gd).display;\n",
       "        if (!display || display === 'none') {{\n",
       "            console.log([gd, 'removed!']);\n",
       "            Plotly.purge(gd);\n",
       "            observer.disconnect();\n",
       "        }}\n",
       "}});\n",
       "\n",
       "// Listen for the removal of the full notebook cells\n",
       "var notebookContainer = gd.closest('#notebook-container');\n",
       "if (notebookContainer) {{\n",
       "    x.observe(notebookContainer, {childList: true});\n",
       "}}\n",
       "\n",
       "// Listen for the clearing of the current output cell\n",
       "var outputEl = gd.closest('.output');\n",
       "if (outputEl) {{\n",
       "    x.observe(outputEl, {childList: true});\n",
       "}}\n",
       "\n",
       "                        })                };                });            </script>        </div>"
      ]
     },
     "metadata": {},
     "output_type": "display_data"
    }
   ],
   "source": [
    "sorter = ['Monday', 'Tuesday', 'Wednesday', 'Thursday', 'Friday', 'Saturday','Sunday']\n",
    "day_hour = df.groupby([df.date.dt.day_name(), df['date'].dt.hour])['stars'].count().reindex(sorter,level=0)\n",
    "day_hour.index.names = [\"Weekday\", \"Hour of the day\"]\n",
    "day_hour = day_hour.unstack(0)\n",
    "\n",
    "colors = ['#08306b', '#08519c', '#2171b5', '#4292c6', '#6baed6', '#9ecae1', '#c6dbef']#, '#deebf7', '#f7fbff']\n",
    "\n",
    "\n",
    "fig = px.line(day_hour, x=day_hour.index, y=day_hour.columns, width=800, height=500, color_discrete_sequence = colors)\n",
    "fig.update_traces(hovertemplate=None)\n",
    "fig.update_layout(title_text=\"Total number of reviews during the day\", \n",
    "                  plot_bgcolor='rgba(0,0,0,0)',\n",
    "                  yaxis_title=\"Number of reviews\",\n",
    "                  hovermode=\"x unified\")\n",
    "\n",
    "fig.update_xaxes(showline=True, linewidth=1, linecolor='lightgrey', \n",
    "                 showgrid=True, gridwidth=1, gridcolor='lightgrey')\n",
    "fig.update_yaxes(showline=True, linewidth=1, linecolor='lightgrey',\n",
    "                 showgrid=True, gridwidth=1, gridcolor='lightgrey')\n",
    "\n",
    "fig.show()"
   ]
  },
  {
   "cell_type": "markdown",
   "metadata": {},
   "source": [
    "The next chart shows the total number of reviews each hour for the different restaurant types. Again, you can remove some of them by clicking them to the right of the chart or double-click one of them to one see this one. Try selecting only “Bars” and and “Breakfast & Brunch” – here you will see that the peak of Bars are at 1am, where it is at 6pm for Breakfast & Brunch. Breakfast & Brunch being reviewed the most at 6pm is probably because they serve food all day and people tend to go out to eat more for dinner than for breakfast. Nevertheless, this shows a difference between the two restaurant types."
   ]
  },
  {
   "cell_type": "code",
   "execution_count": 79,
   "metadata": {},
   "outputs": [
    {
     "data": {
      "application/vnd.plotly.v1+json": {
       "config": {
        "plotlyServerURL": "https://plot.ly"
       },
       "data": [
        {
         "legendgroup": "Bars",
         "line": {
          "color": "#dde9f4",
          "dash": "solid"
         },
         "mode": "lines",
         "name": "Bars",
         "orientation": "v",
         "showlegend": true,
         "type": "scatter",
         "x": [
          0,
          1,
          2,
          3,
          4,
          5,
          6,
          7,
          8,
          9,
          10,
          11,
          12,
          13,
          14,
          15,
          16,
          17,
          18,
          19,
          20,
          21,
          22,
          23
         ],
         "xaxis": "x",
         "y": [
          20941,
          21548,
          19807,
          16064,
          11059,
          6927,
          4126,
          2411,
          1473,
          1145,
          1561,
          2969,
          5046,
          7651,
          9759,
          11420,
          12881,
          14653,
          16409,
          16367,
          16394,
          16229,
          16942,
          19022
         ],
         "yaxis": "y"
        },
        {
         "legendgroup": "Breakfast & Brunch",
         "line": {
          "color": "#d6e5f2",
          "dash": "solid"
         },
         "mode": "lines",
         "name": "Breakfast & Brunch",
         "orientation": "v",
         "showlegend": true,
         "type": "scatter",
         "x": [
          0,
          1,
          2,
          3,
          4,
          5,
          6,
          7,
          8,
          9,
          10,
          11,
          12,
          13,
          14,
          15,
          16,
          17,
          18,
          19,
          20,
          21,
          22,
          23
         ],
         "xaxis": "x",
         "y": [
          8634,
          8651,
          8187,
          6516,
          4890,
          3135,
          2041,
          1233,
          794,
          642,
          791,
          1546,
          2687,
          4346,
          6425,
          7942,
          9067,
          9633,
          10012,
          9571,
          8796,
          8099,
          7807,
          8230
         ],
         "yaxis": "y"
        },
        {
         "legendgroup": "Buffets",
         "line": {
          "color": "#d0e1f0",
          "dash": "solid"
         },
         "mode": "lines",
         "name": "Buffets",
         "orientation": "v",
         "showlegend": true,
         "type": "scatter",
         "x": [
          0,
          1,
          2,
          3,
          4,
          5,
          6,
          7,
          8,
          9,
          10,
          11,
          12,
          13,
          14,
          15,
          16,
          17,
          18,
          19,
          20,
          21,
          22,
          23
         ],
         "xaxis": "x",
         "y": [
          895,
          929,
          851,
          645,
          465,
          267,
          153,
          127,
          73,
          53,
          65,
          109,
          168,
          286,
          374,
          426,
          536,
          624,
          673,
          710,
          720,
          651,
          766,
          800
         ],
         "yaxis": "y"
        },
        {
         "legendgroup": "Burgers",
         "line": {
          "color": "#caddee",
          "dash": "solid"
         },
         "mode": "lines",
         "name": "Burgers",
         "orientation": "v",
         "showlegend": true,
         "type": "scatter",
         "x": [
          0,
          1,
          2,
          3,
          4,
          5,
          6,
          7,
          8,
          9,
          10,
          11,
          12,
          13,
          14,
          15,
          16,
          17,
          18,
          19,
          20,
          21,
          22,
          23
         ],
         "xaxis": "x",
         "y": [
          4898,
          4849,
          4217,
          3180,
          2316,
          1504,
          956,
          617,
          385,
          336,
          411,
          697,
          1198,
          1751,
          2232,
          2764,
          3197,
          3855,
          4161,
          4260,
          4074,
          4014,
          4202,
          4588
         ],
         "yaxis": "y"
        },
        {
         "legendgroup": "Cafes",
         "line": {
          "color": "#c4d9ec",
          "dash": "solid"
         },
         "mode": "lines",
         "name": "Cafes",
         "orientation": "v",
         "showlegend": true,
         "type": "scatter",
         "x": [
          0,
          1,
          2,
          3,
          4,
          5,
          6,
          7,
          8,
          9,
          10,
          11,
          12,
          13,
          14,
          15,
          16,
          17,
          18,
          19,
          20,
          21,
          22,
          23
         ],
         "xaxis": "x",
         "y": [
          1707,
          1645,
          1448,
          1163,
          845,
          521,
          344,
          218,
          159,
          99,
          131,
          345,
          562,
          928,
          1467,
          1801,
          2035,
          2085,
          2060,
          1920,
          1815,
          1761,
          1641,
          1702
         ],
         "yaxis": "y"
        },
        {
         "legendgroup": "Coffee & Tea",
         "line": {
          "color": "#bed6ea",
          "dash": "solid"
         },
         "mode": "lines",
         "name": "Coffee & Tea",
         "orientation": "v",
         "showlegend": true,
         "type": "scatter",
         "x": [
          0,
          1,
          2,
          3,
          4,
          5,
          6,
          7,
          8,
          9,
          10,
          11,
          12,
          13,
          14,
          15,
          16,
          17,
          18,
          19,
          20,
          21,
          22,
          23
         ],
         "xaxis": "x",
         "y": [
          2099,
          2006,
          2016,
          1544,
          1183,
          780,
          493,
          290,
          211,
          143,
          171,
          341,
          611,
          1048,
          1575,
          1946,
          2200,
          2314,
          2449,
          2311,
          2236,
          2040,
          1910,
          2044
         ],
         "yaxis": "y"
        },
        {
         "legendgroup": "Diners",
         "line": {
          "color": "#b7d2e8",
          "dash": "solid"
         },
         "mode": "lines",
         "name": "Diners",
         "orientation": "v",
         "showlegend": true,
         "type": "scatter",
         "x": [
          0,
          1,
          2,
          3,
          4,
          5,
          6,
          7,
          8,
          9,
          10,
          11,
          12,
          13,
          14,
          15,
          16,
          17,
          18,
          19,
          20,
          21,
          22,
          23
         ],
         "xaxis": "x",
         "y": [
          1613,
          1621,
          1525,
          1239,
          959,
          615,
          440,
          264,
          221,
          180,
          155,
          341,
          669,
          986,
          1374,
          1705,
          1817,
          1967,
          2023,
          1736,
          1598,
          1508,
          1453,
          1518
         ],
         "yaxis": "y"
        },
        {
         "legendgroup": "Fast Food",
         "line": {
          "color": "#abcae4",
          "dash": "solid"
         },
         "mode": "lines",
         "name": "Fast Food",
         "orientation": "v",
         "showlegend": true,
         "type": "scatter",
         "x": [
          0,
          1,
          2,
          3,
          4,
          5,
          6,
          7,
          8,
          9,
          10,
          11,
          12,
          13,
          14,
          15,
          16,
          17,
          18,
          19,
          20,
          21,
          22,
          23
         ],
         "xaxis": "x",
         "y": [
          2406,
          2335,
          2029,
          1621,
          1195,
          816,
          596,
          382,
          262,
          208,
          180,
          248,
          399,
          633,
          821,
          1034,
          1512,
          1891,
          1987,
          1991,
          1914,
          1926,
          2060,
          2275
         ],
         "yaxis": "y"
        },
        {
         "legendgroup": "Food",
         "line": {
          "color": "#99bede",
          "dash": "solid"
         },
         "mode": "lines",
         "name": "Food",
         "orientation": "v",
         "showlegend": true,
         "type": "scatter",
         "x": [
          0,
          1,
          2,
          3,
          4,
          5,
          6,
          7,
          8,
          9,
          10,
          11,
          12,
          13,
          14,
          15,
          16,
          17,
          18,
          19,
          20,
          21,
          22,
          23
         ],
         "xaxis": "x",
         "y": [
          13553,
          13453,
          12555,
          9926,
          7118,
          4642,
          2916,
          1657,
          1125,
          779,
          973,
          1811,
          3141,
          5116,
          6712,
          8317,
          9696,
          11232,
          12360,
          12020,
          12180,
          11659,
          11816,
          12886
         ],
         "yaxis": "y"
        },
        {
         "legendgroup": "Nightlife",
         "line": {
          "color": "#86b2d8",
          "dash": "solid"
         },
         "mode": "lines",
         "name": "Nightlife",
         "orientation": "v",
         "showlegend": true,
         "type": "scatter",
         "x": [
          0,
          1,
          2,
          3,
          4,
          5,
          6,
          7,
          8,
          9,
          10,
          11,
          12,
          13,
          14,
          15,
          16,
          17,
          18,
          19,
          20,
          21,
          22,
          23
         ],
         "xaxis": "x",
         "y": [
          21365,
          22007,
          20249,
          16368,
          11274,
          7061,
          4231,
          2460,
          1500,
          1176,
          1613,
          3069,
          5187,
          7828,
          10012,
          11700,
          13156,
          14918,
          16740,
          16711,
          16734,
          16555,
          17337,
          19426
         ],
         "yaxis": "y"
        },
        {
         "legendgroup": "Pizza",
         "line": {
          "color": "#74a7d2",
          "dash": "solid"
         },
         "mode": "lines",
         "name": "Pizza",
         "orientation": "v",
         "showlegend": true,
         "type": "scatter",
         "x": [
          0,
          1,
          2,
          3,
          4,
          5,
          6,
          7,
          8,
          9,
          10,
          11,
          12,
          13,
          14,
          15,
          16,
          17,
          18,
          19,
          20,
          21,
          22,
          23
         ],
         "xaxis": "x",
         "y": [
          5013,
          4818,
          4144,
          3154,
          2106,
          1332,
          729,
          408,
          297,
          224,
          327,
          587,
          1028,
          1563,
          1900,
          2141,
          2446,
          2875,
          3267,
          3219,
          3308,
          3365,
          3951,
          4550
         ],
         "yaxis": "y"
        },
        {
         "legendgroup": "Salad",
         "line": {
          "color": "#619bcc",
          "dash": "solid"
         },
         "mode": "lines",
         "name": "Salad",
         "orientation": "v",
         "showlegend": true,
         "type": "scatter",
         "x": [
          0,
          1,
          2,
          3,
          4,
          5,
          6,
          7,
          8,
          9,
          10,
          11,
          12,
          13,
          14,
          15,
          16,
          17,
          18,
          19,
          20,
          21,
          22,
          23
         ],
         "xaxis": "x",
         "y": [
          3925,
          3990,
          3262,
          2396,
          1658,
          941,
          580,
          344,
          228,
          195,
          226,
          487,
          839,
          1330,
          1666,
          2048,
          2664,
          3147,
          3497,
          3381,
          3361,
          3170,
          3405,
          3723
         ],
         "yaxis": "y"
        },
        {
         "legendgroup": "Sandwiches",
         "line": {
          "color": "#4f8fc6",
          "dash": "solid"
         },
         "mode": "lines",
         "name": "Sandwiches",
         "orientation": "v",
         "showlegend": true,
         "type": "scatter",
         "x": [
          0,
          1,
          2,
          3,
          4,
          5,
          6,
          7,
          8,
          9,
          10,
          11,
          12,
          13,
          14,
          15,
          16,
          17,
          18,
          19,
          20,
          21,
          22,
          23
         ],
         "xaxis": "x",
         "y": [
          5173,
          4885,
          4213,
          3358,
          2248,
          1462,
          935,
          542,
          342,
          330,
          348,
          752,
          1270,
          1957,
          2857,
          3217,
          3946,
          4733,
          4987,
          4831,
          4758,
          4580,
          4411,
          4949
         ],
         "yaxis": "y"
        },
        {
         "legendgroup": "Steakhouses",
         "line": {
          "color": "#3d84bf",
          "dash": "solid"
         },
         "mode": "lines",
         "name": "Steakhouses",
         "orientation": "v",
         "showlegend": true,
         "type": "scatter",
         "x": [
          0,
          1,
          2,
          3,
          4,
          5,
          6,
          7,
          8,
          9,
          10,
          11,
          12,
          13,
          14,
          15,
          16,
          17,
          18,
          19,
          20,
          21,
          22,
          23
         ],
         "xaxis": "x",
         "y": [
          3006,
          3333,
          3054,
          2329,
          1560,
          927,
          601,
          310,
          193,
          189,
          235,
          435,
          754,
          1200,
          1326,
          1537,
          1743,
          1810,
          2074,
          2079,
          2055,
          2047,
          2375,
          2626
         ],
         "yaxis": "y"
        },
        {
         "legendgroup": "Sushi Bars",
         "line": {
          "color": "#3777ac",
          "dash": "solid"
         },
         "mode": "lines",
         "name": "Sushi Bars",
         "orientation": "v",
         "showlegend": true,
         "type": "scatter",
         "x": [
          0,
          1,
          2,
          3,
          4,
          5,
          6,
          7,
          8,
          9,
          10,
          11,
          12,
          13,
          14,
          15,
          16,
          17,
          18,
          19,
          20,
          21,
          22,
          23
         ],
         "xaxis": "x",
         "y": [
          4837,
          4968,
          4581,
          3591,
          2493,
          1722,
          1065,
          666,
          395,
          262,
          302,
          511,
          870,
          1294,
          1745,
          1989,
          2452,
          2906,
          3215,
          3347,
          3314,
          3432,
          3754,
          4271
         ],
         "yaxis": "y"
        },
        {
         "legendgroup": "Vegetarian",
         "line": {
          "color": "#316a9a",
          "dash": "solid"
         },
         "mode": "lines",
         "name": "Vegetarian",
         "orientation": "v",
         "showlegend": true,
         "type": "scatter",
         "x": [
          0,
          1,
          2,
          3,
          4,
          5,
          6,
          7,
          8,
          9,
          10,
          11,
          12,
          13,
          14,
          15,
          16,
          17,
          18,
          19,
          20,
          21,
          22,
          23
         ],
         "xaxis": "x",
         "y": [
          2863,
          2934,
          2599,
          2107,
          1451,
          902,
          597,
          297,
          209,
          162,
          185,
          321,
          577,
          934,
          1153,
          1535,
          1847,
          2159,
          2559,
          2531,
          2499,
          2361,
          2448,
          2681
         ],
         "yaxis": "y"
        },
        {
         "legendgroup": "Wine Bars",
         "line": {
          "color": "#2b5d87",
          "dash": "solid"
         },
         "mode": "lines",
         "name": "Wine Bars",
         "orientation": "v",
         "showlegend": true,
         "type": "scatter",
         "x": [
          0,
          1,
          2,
          3,
          4,
          5,
          6,
          7,
          8,
          9,
          10,
          11,
          12,
          13,
          14,
          15,
          16,
          17,
          18,
          19,
          20,
          21,
          22,
          23
         ],
         "xaxis": "x",
         "y": [
          2980,
          3296,
          3048,
          2377,
          1631,
          947,
          546,
          313,
          222,
          157,
          232,
          454,
          785,
          1283,
          1568,
          1780,
          1990,
          2098,
          2251,
          2418,
          2327,
          2376,
          2548,
          2778
         ],
         "yaxis": "y"
        }
       ],
       "layout": {
        "height": 500,
        "hovermode": "x unified",
        "legend": {
         "title": {
          "text": "Category"
         },
         "tracegroupgap": 0
        },
        "margin": {
         "t": 60
        },
        "plot_bgcolor": "rgba(0,0,0,0)",
        "template": {
         "data": {
          "bar": [
           {
            "error_x": {
             "color": "#2a3f5f"
            },
            "error_y": {
             "color": "#2a3f5f"
            },
            "marker": {
             "line": {
              "color": "#E5ECF6",
              "width": 0.5
             }
            },
            "type": "bar"
           }
          ],
          "barpolar": [
           {
            "marker": {
             "line": {
              "color": "#E5ECF6",
              "width": 0.5
             }
            },
            "type": "barpolar"
           }
          ],
          "carpet": [
           {
            "aaxis": {
             "endlinecolor": "#2a3f5f",
             "gridcolor": "white",
             "linecolor": "white",
             "minorgridcolor": "white",
             "startlinecolor": "#2a3f5f"
            },
            "baxis": {
             "endlinecolor": "#2a3f5f",
             "gridcolor": "white",
             "linecolor": "white",
             "minorgridcolor": "white",
             "startlinecolor": "#2a3f5f"
            },
            "type": "carpet"
           }
          ],
          "choropleth": [
           {
            "colorbar": {
             "outlinewidth": 0,
             "ticks": ""
            },
            "type": "choropleth"
           }
          ],
          "contour": [
           {
            "colorbar": {
             "outlinewidth": 0,
             "ticks": ""
            },
            "colorscale": [
             [
              0,
              "#0d0887"
             ],
             [
              0.1111111111111111,
              "#46039f"
             ],
             [
              0.2222222222222222,
              "#7201a8"
             ],
             [
              0.3333333333333333,
              "#9c179e"
             ],
             [
              0.4444444444444444,
              "#bd3786"
             ],
             [
              0.5555555555555556,
              "#d8576b"
             ],
             [
              0.6666666666666666,
              "#ed7953"
             ],
             [
              0.7777777777777778,
              "#fb9f3a"
             ],
             [
              0.8888888888888888,
              "#fdca26"
             ],
             [
              1,
              "#f0f921"
             ]
            ],
            "type": "contour"
           }
          ],
          "contourcarpet": [
           {
            "colorbar": {
             "outlinewidth": 0,
             "ticks": ""
            },
            "type": "contourcarpet"
           }
          ],
          "heatmap": [
           {
            "colorbar": {
             "outlinewidth": 0,
             "ticks": ""
            },
            "colorscale": [
             [
              0,
              "#0d0887"
             ],
             [
              0.1111111111111111,
              "#46039f"
             ],
             [
              0.2222222222222222,
              "#7201a8"
             ],
             [
              0.3333333333333333,
              "#9c179e"
             ],
             [
              0.4444444444444444,
              "#bd3786"
             ],
             [
              0.5555555555555556,
              "#d8576b"
             ],
             [
              0.6666666666666666,
              "#ed7953"
             ],
             [
              0.7777777777777778,
              "#fb9f3a"
             ],
             [
              0.8888888888888888,
              "#fdca26"
             ],
             [
              1,
              "#f0f921"
             ]
            ],
            "type": "heatmap"
           }
          ],
          "heatmapgl": [
           {
            "colorbar": {
             "outlinewidth": 0,
             "ticks": ""
            },
            "colorscale": [
             [
              0,
              "#0d0887"
             ],
             [
              0.1111111111111111,
              "#46039f"
             ],
             [
              0.2222222222222222,
              "#7201a8"
             ],
             [
              0.3333333333333333,
              "#9c179e"
             ],
             [
              0.4444444444444444,
              "#bd3786"
             ],
             [
              0.5555555555555556,
              "#d8576b"
             ],
             [
              0.6666666666666666,
              "#ed7953"
             ],
             [
              0.7777777777777778,
              "#fb9f3a"
             ],
             [
              0.8888888888888888,
              "#fdca26"
             ],
             [
              1,
              "#f0f921"
             ]
            ],
            "type": "heatmapgl"
           }
          ],
          "histogram": [
           {
            "marker": {
             "colorbar": {
              "outlinewidth": 0,
              "ticks": ""
             }
            },
            "type": "histogram"
           }
          ],
          "histogram2d": [
           {
            "colorbar": {
             "outlinewidth": 0,
             "ticks": ""
            },
            "colorscale": [
             [
              0,
              "#0d0887"
             ],
             [
              0.1111111111111111,
              "#46039f"
             ],
             [
              0.2222222222222222,
              "#7201a8"
             ],
             [
              0.3333333333333333,
              "#9c179e"
             ],
             [
              0.4444444444444444,
              "#bd3786"
             ],
             [
              0.5555555555555556,
              "#d8576b"
             ],
             [
              0.6666666666666666,
              "#ed7953"
             ],
             [
              0.7777777777777778,
              "#fb9f3a"
             ],
             [
              0.8888888888888888,
              "#fdca26"
             ],
             [
              1,
              "#f0f921"
             ]
            ],
            "type": "histogram2d"
           }
          ],
          "histogram2dcontour": [
           {
            "colorbar": {
             "outlinewidth": 0,
             "ticks": ""
            },
            "colorscale": [
             [
              0,
              "#0d0887"
             ],
             [
              0.1111111111111111,
              "#46039f"
             ],
             [
              0.2222222222222222,
              "#7201a8"
             ],
             [
              0.3333333333333333,
              "#9c179e"
             ],
             [
              0.4444444444444444,
              "#bd3786"
             ],
             [
              0.5555555555555556,
              "#d8576b"
             ],
             [
              0.6666666666666666,
              "#ed7953"
             ],
             [
              0.7777777777777778,
              "#fb9f3a"
             ],
             [
              0.8888888888888888,
              "#fdca26"
             ],
             [
              1,
              "#f0f921"
             ]
            ],
            "type": "histogram2dcontour"
           }
          ],
          "mesh3d": [
           {
            "colorbar": {
             "outlinewidth": 0,
             "ticks": ""
            },
            "type": "mesh3d"
           }
          ],
          "parcoords": [
           {
            "line": {
             "colorbar": {
              "outlinewidth": 0,
              "ticks": ""
             }
            },
            "type": "parcoords"
           }
          ],
          "pie": [
           {
            "automargin": true,
            "type": "pie"
           }
          ],
          "scatter": [
           {
            "marker": {
             "colorbar": {
              "outlinewidth": 0,
              "ticks": ""
             }
            },
            "type": "scatter"
           }
          ],
          "scatter3d": [
           {
            "line": {
             "colorbar": {
              "outlinewidth": 0,
              "ticks": ""
             }
            },
            "marker": {
             "colorbar": {
              "outlinewidth": 0,
              "ticks": ""
             }
            },
            "type": "scatter3d"
           }
          ],
          "scattercarpet": [
           {
            "marker": {
             "colorbar": {
              "outlinewidth": 0,
              "ticks": ""
             }
            },
            "type": "scattercarpet"
           }
          ],
          "scattergeo": [
           {
            "marker": {
             "colorbar": {
              "outlinewidth": 0,
              "ticks": ""
             }
            },
            "type": "scattergeo"
           }
          ],
          "scattergl": [
           {
            "marker": {
             "colorbar": {
              "outlinewidth": 0,
              "ticks": ""
             }
            },
            "type": "scattergl"
           }
          ],
          "scattermapbox": [
           {
            "marker": {
             "colorbar": {
              "outlinewidth": 0,
              "ticks": ""
             }
            },
            "type": "scattermapbox"
           }
          ],
          "scatterpolar": [
           {
            "marker": {
             "colorbar": {
              "outlinewidth": 0,
              "ticks": ""
             }
            },
            "type": "scatterpolar"
           }
          ],
          "scatterpolargl": [
           {
            "marker": {
             "colorbar": {
              "outlinewidth": 0,
              "ticks": ""
             }
            },
            "type": "scatterpolargl"
           }
          ],
          "scatterternary": [
           {
            "marker": {
             "colorbar": {
              "outlinewidth": 0,
              "ticks": ""
             }
            },
            "type": "scatterternary"
           }
          ],
          "surface": [
           {
            "colorbar": {
             "outlinewidth": 0,
             "ticks": ""
            },
            "colorscale": [
             [
              0,
              "#0d0887"
             ],
             [
              0.1111111111111111,
              "#46039f"
             ],
             [
              0.2222222222222222,
              "#7201a8"
             ],
             [
              0.3333333333333333,
              "#9c179e"
             ],
             [
              0.4444444444444444,
              "#bd3786"
             ],
             [
              0.5555555555555556,
              "#d8576b"
             ],
             [
              0.6666666666666666,
              "#ed7953"
             ],
             [
              0.7777777777777778,
              "#fb9f3a"
             ],
             [
              0.8888888888888888,
              "#fdca26"
             ],
             [
              1,
              "#f0f921"
             ]
            ],
            "type": "surface"
           }
          ],
          "table": [
           {
            "cells": {
             "fill": {
              "color": "#EBF0F8"
             },
             "line": {
              "color": "white"
             }
            },
            "header": {
             "fill": {
              "color": "#C8D4E3"
             },
             "line": {
              "color": "white"
             }
            },
            "type": "table"
           }
          ]
         },
         "layout": {
          "annotationdefaults": {
           "arrowcolor": "#2a3f5f",
           "arrowhead": 0,
           "arrowwidth": 1
          },
          "coloraxis": {
           "colorbar": {
            "outlinewidth": 0,
            "ticks": ""
           }
          },
          "colorscale": {
           "diverging": [
            [
             0,
             "#8e0152"
            ],
            [
             0.1,
             "#c51b7d"
            ],
            [
             0.2,
             "#de77ae"
            ],
            [
             0.3,
             "#f1b6da"
            ],
            [
             0.4,
             "#fde0ef"
            ],
            [
             0.5,
             "#f7f7f7"
            ],
            [
             0.6,
             "#e6f5d0"
            ],
            [
             0.7,
             "#b8e186"
            ],
            [
             0.8,
             "#7fbc41"
            ],
            [
             0.9,
             "#4d9221"
            ],
            [
             1,
             "#276419"
            ]
           ],
           "sequential": [
            [
             0,
             "#0d0887"
            ],
            [
             0.1111111111111111,
             "#46039f"
            ],
            [
             0.2222222222222222,
             "#7201a8"
            ],
            [
             0.3333333333333333,
             "#9c179e"
            ],
            [
             0.4444444444444444,
             "#bd3786"
            ],
            [
             0.5555555555555556,
             "#d8576b"
            ],
            [
             0.6666666666666666,
             "#ed7953"
            ],
            [
             0.7777777777777778,
             "#fb9f3a"
            ],
            [
             0.8888888888888888,
             "#fdca26"
            ],
            [
             1,
             "#f0f921"
            ]
           ],
           "sequentialminus": [
            [
             0,
             "#0d0887"
            ],
            [
             0.1111111111111111,
             "#46039f"
            ],
            [
             0.2222222222222222,
             "#7201a8"
            ],
            [
             0.3333333333333333,
             "#9c179e"
            ],
            [
             0.4444444444444444,
             "#bd3786"
            ],
            [
             0.5555555555555556,
             "#d8576b"
            ],
            [
             0.6666666666666666,
             "#ed7953"
            ],
            [
             0.7777777777777778,
             "#fb9f3a"
            ],
            [
             0.8888888888888888,
             "#fdca26"
            ],
            [
             1,
             "#f0f921"
            ]
           ]
          },
          "colorway": [
           "#636efa",
           "#EF553B",
           "#00cc96",
           "#ab63fa",
           "#FFA15A",
           "#19d3f3",
           "#FF6692",
           "#B6E880",
           "#FF97FF",
           "#FECB52"
          ],
          "font": {
           "color": "#2a3f5f"
          },
          "geo": {
           "bgcolor": "white",
           "lakecolor": "white",
           "landcolor": "#E5ECF6",
           "showlakes": true,
           "showland": true,
           "subunitcolor": "white"
          },
          "hoverlabel": {
           "align": "left"
          },
          "hovermode": "closest",
          "mapbox": {
           "style": "light"
          },
          "paper_bgcolor": "white",
          "plot_bgcolor": "#E5ECF6",
          "polar": {
           "angularaxis": {
            "gridcolor": "white",
            "linecolor": "white",
            "ticks": ""
           },
           "bgcolor": "#E5ECF6",
           "radialaxis": {
            "gridcolor": "white",
            "linecolor": "white",
            "ticks": ""
           }
          },
          "scene": {
           "xaxis": {
            "backgroundcolor": "#E5ECF6",
            "gridcolor": "white",
            "gridwidth": 2,
            "linecolor": "white",
            "showbackground": true,
            "ticks": "",
            "zerolinecolor": "white"
           },
           "yaxis": {
            "backgroundcolor": "#E5ECF6",
            "gridcolor": "white",
            "gridwidth": 2,
            "linecolor": "white",
            "showbackground": true,
            "ticks": "",
            "zerolinecolor": "white"
           },
           "zaxis": {
            "backgroundcolor": "#E5ECF6",
            "gridcolor": "white",
            "gridwidth": 2,
            "linecolor": "white",
            "showbackground": true,
            "ticks": "",
            "zerolinecolor": "white"
           }
          },
          "shapedefaults": {
           "line": {
            "color": "#2a3f5f"
           }
          },
          "ternary": {
           "aaxis": {
            "gridcolor": "white",
            "linecolor": "white",
            "ticks": ""
           },
           "baxis": {
            "gridcolor": "white",
            "linecolor": "white",
            "ticks": ""
           },
           "bgcolor": "#E5ECF6",
           "caxis": {
            "gridcolor": "white",
            "linecolor": "white",
            "ticks": ""
           }
          },
          "title": {
           "x": 0.05
          },
          "xaxis": {
           "automargin": true,
           "gridcolor": "white",
           "linecolor": "white",
           "ticks": "",
           "title": {
            "standoff": 15
           },
           "zerolinecolor": "white",
           "zerolinewidth": 2
          },
          "yaxis": {
           "automargin": true,
           "gridcolor": "white",
           "linecolor": "white",
           "ticks": "",
           "title": {
            "standoff": 15
           },
           "zerolinecolor": "white",
           "zerolinewidth": 2
          }
         }
        },
        "title": {
         "text": "Review times for each focus category"
        },
        "width": 800,
        "xaxis": {
         "anchor": "y",
         "domain": [
          0,
          1
         ],
         "gridcolor": "lightgrey",
         "gridwidth": 1,
         "linecolor": "lightgrey",
         "linewidth": 1,
         "showgrid": true,
         "showline": true,
         "title": {
          "text": "Hour of the day"
         }
        },
        "yaxis": {
         "anchor": "x",
         "domain": [
          0,
          1
         ],
         "gridcolor": "lightgrey",
         "gridwidth": 1,
         "linecolor": "lightgrey",
         "linewidth": 1,
         "showgrid": true,
         "showline": true,
         "title": {
          "text": "Number of reviews"
         }
        }
       }
      },
      "text/html": [
       "<div>                            <div id=\"cb0e6a29-d563-47f3-a865-8dc2fba3785f\" class=\"plotly-graph-div\" style=\"height:500px; width:800px;\"></div>            <script type=\"text/javascript\">                require([\"plotly\"], function(Plotly) {                    window.PLOTLYENV=window.PLOTLYENV || {};                                    if (document.getElementById(\"cb0e6a29-d563-47f3-a865-8dc2fba3785f\")) {                    Plotly.newPlot(                        \"cb0e6a29-d563-47f3-a865-8dc2fba3785f\",                        [{\"legendgroup\": \"Bars\", \"line\": {\"color\": \"#dde9f4\", \"dash\": \"solid\"}, \"mode\": \"lines\", \"name\": \"Bars\", \"orientation\": \"v\", \"showlegend\": true, \"type\": \"scatter\", \"x\": [0, 1, 2, 3, 4, 5, 6, 7, 8, 9, 10, 11, 12, 13, 14, 15, 16, 17, 18, 19, 20, 21, 22, 23], \"xaxis\": \"x\", \"y\": [20941, 21548, 19807, 16064, 11059, 6927, 4126, 2411, 1473, 1145, 1561, 2969, 5046, 7651, 9759, 11420, 12881, 14653, 16409, 16367, 16394, 16229, 16942, 19022], \"yaxis\": \"y\"}, {\"legendgroup\": \"Breakfast & Brunch\", \"line\": {\"color\": \"#d6e5f2\", \"dash\": \"solid\"}, \"mode\": \"lines\", \"name\": \"Breakfast & Brunch\", \"orientation\": \"v\", \"showlegend\": true, \"type\": \"scatter\", \"x\": [0, 1, 2, 3, 4, 5, 6, 7, 8, 9, 10, 11, 12, 13, 14, 15, 16, 17, 18, 19, 20, 21, 22, 23], \"xaxis\": \"x\", \"y\": [8634, 8651, 8187, 6516, 4890, 3135, 2041, 1233, 794, 642, 791, 1546, 2687, 4346, 6425, 7942, 9067, 9633, 10012, 9571, 8796, 8099, 7807, 8230], \"yaxis\": \"y\"}, {\"legendgroup\": \"Buffets\", \"line\": {\"color\": \"#d0e1f0\", \"dash\": \"solid\"}, \"mode\": \"lines\", \"name\": \"Buffets\", \"orientation\": \"v\", \"showlegend\": true, \"type\": \"scatter\", \"x\": [0, 1, 2, 3, 4, 5, 6, 7, 8, 9, 10, 11, 12, 13, 14, 15, 16, 17, 18, 19, 20, 21, 22, 23], \"xaxis\": \"x\", \"y\": [895, 929, 851, 645, 465, 267, 153, 127, 73, 53, 65, 109, 168, 286, 374, 426, 536, 624, 673, 710, 720, 651, 766, 800], \"yaxis\": \"y\"}, {\"legendgroup\": \"Burgers\", \"line\": {\"color\": \"#caddee\", \"dash\": \"solid\"}, \"mode\": \"lines\", \"name\": \"Burgers\", \"orientation\": \"v\", \"showlegend\": true, \"type\": \"scatter\", \"x\": [0, 1, 2, 3, 4, 5, 6, 7, 8, 9, 10, 11, 12, 13, 14, 15, 16, 17, 18, 19, 20, 21, 22, 23], \"xaxis\": \"x\", \"y\": [4898, 4849, 4217, 3180, 2316, 1504, 956, 617, 385, 336, 411, 697, 1198, 1751, 2232, 2764, 3197, 3855, 4161, 4260, 4074, 4014, 4202, 4588], \"yaxis\": \"y\"}, {\"legendgroup\": \"Cafes\", \"line\": {\"color\": \"#c4d9ec\", \"dash\": \"solid\"}, \"mode\": \"lines\", \"name\": \"Cafes\", \"orientation\": \"v\", \"showlegend\": true, \"type\": \"scatter\", \"x\": [0, 1, 2, 3, 4, 5, 6, 7, 8, 9, 10, 11, 12, 13, 14, 15, 16, 17, 18, 19, 20, 21, 22, 23], \"xaxis\": \"x\", \"y\": [1707, 1645, 1448, 1163, 845, 521, 344, 218, 159, 99, 131, 345, 562, 928, 1467, 1801, 2035, 2085, 2060, 1920, 1815, 1761, 1641, 1702], \"yaxis\": \"y\"}, {\"legendgroup\": \"Coffee & Tea\", \"line\": {\"color\": \"#bed6ea\", \"dash\": \"solid\"}, \"mode\": \"lines\", \"name\": \"Coffee & Tea\", \"orientation\": \"v\", \"showlegend\": true, \"type\": \"scatter\", \"x\": [0, 1, 2, 3, 4, 5, 6, 7, 8, 9, 10, 11, 12, 13, 14, 15, 16, 17, 18, 19, 20, 21, 22, 23], \"xaxis\": \"x\", \"y\": [2099, 2006, 2016, 1544, 1183, 780, 493, 290, 211, 143, 171, 341, 611, 1048, 1575, 1946, 2200, 2314, 2449, 2311, 2236, 2040, 1910, 2044], \"yaxis\": \"y\"}, {\"legendgroup\": \"Diners\", \"line\": {\"color\": \"#b7d2e8\", \"dash\": \"solid\"}, \"mode\": \"lines\", \"name\": \"Diners\", \"orientation\": \"v\", \"showlegend\": true, \"type\": \"scatter\", \"x\": [0, 1, 2, 3, 4, 5, 6, 7, 8, 9, 10, 11, 12, 13, 14, 15, 16, 17, 18, 19, 20, 21, 22, 23], \"xaxis\": \"x\", \"y\": [1613, 1621, 1525, 1239, 959, 615, 440, 264, 221, 180, 155, 341, 669, 986, 1374, 1705, 1817, 1967, 2023, 1736, 1598, 1508, 1453, 1518], \"yaxis\": \"y\"}, {\"legendgroup\": \"Fast Food\", \"line\": {\"color\": \"#abcae4\", \"dash\": \"solid\"}, \"mode\": \"lines\", \"name\": \"Fast Food\", \"orientation\": \"v\", \"showlegend\": true, \"type\": \"scatter\", \"x\": [0, 1, 2, 3, 4, 5, 6, 7, 8, 9, 10, 11, 12, 13, 14, 15, 16, 17, 18, 19, 20, 21, 22, 23], \"xaxis\": \"x\", \"y\": [2406, 2335, 2029, 1621, 1195, 816, 596, 382, 262, 208, 180, 248, 399, 633, 821, 1034, 1512, 1891, 1987, 1991, 1914, 1926, 2060, 2275], \"yaxis\": \"y\"}, {\"legendgroup\": \"Food\", \"line\": {\"color\": \"#99bede\", \"dash\": \"solid\"}, \"mode\": \"lines\", \"name\": \"Food\", \"orientation\": \"v\", \"showlegend\": true, \"type\": \"scatter\", \"x\": [0, 1, 2, 3, 4, 5, 6, 7, 8, 9, 10, 11, 12, 13, 14, 15, 16, 17, 18, 19, 20, 21, 22, 23], \"xaxis\": \"x\", \"y\": [13553, 13453, 12555, 9926, 7118, 4642, 2916, 1657, 1125, 779, 973, 1811, 3141, 5116, 6712, 8317, 9696, 11232, 12360, 12020, 12180, 11659, 11816, 12886], \"yaxis\": \"y\"}, {\"legendgroup\": \"Nightlife\", \"line\": {\"color\": \"#86b2d8\", \"dash\": \"solid\"}, \"mode\": \"lines\", \"name\": \"Nightlife\", \"orientation\": \"v\", \"showlegend\": true, \"type\": \"scatter\", \"x\": [0, 1, 2, 3, 4, 5, 6, 7, 8, 9, 10, 11, 12, 13, 14, 15, 16, 17, 18, 19, 20, 21, 22, 23], \"xaxis\": \"x\", \"y\": [21365, 22007, 20249, 16368, 11274, 7061, 4231, 2460, 1500, 1176, 1613, 3069, 5187, 7828, 10012, 11700, 13156, 14918, 16740, 16711, 16734, 16555, 17337, 19426], \"yaxis\": \"y\"}, {\"legendgroup\": \"Pizza\", \"line\": {\"color\": \"#74a7d2\", \"dash\": \"solid\"}, \"mode\": \"lines\", \"name\": \"Pizza\", \"orientation\": \"v\", \"showlegend\": true, \"type\": \"scatter\", \"x\": [0, 1, 2, 3, 4, 5, 6, 7, 8, 9, 10, 11, 12, 13, 14, 15, 16, 17, 18, 19, 20, 21, 22, 23], \"xaxis\": \"x\", \"y\": [5013, 4818, 4144, 3154, 2106, 1332, 729, 408, 297, 224, 327, 587, 1028, 1563, 1900, 2141, 2446, 2875, 3267, 3219, 3308, 3365, 3951, 4550], \"yaxis\": \"y\"}, {\"legendgroup\": \"Salad\", \"line\": {\"color\": \"#619bcc\", \"dash\": \"solid\"}, \"mode\": \"lines\", \"name\": \"Salad\", \"orientation\": \"v\", \"showlegend\": true, \"type\": \"scatter\", \"x\": [0, 1, 2, 3, 4, 5, 6, 7, 8, 9, 10, 11, 12, 13, 14, 15, 16, 17, 18, 19, 20, 21, 22, 23], \"xaxis\": \"x\", \"y\": [3925, 3990, 3262, 2396, 1658, 941, 580, 344, 228, 195, 226, 487, 839, 1330, 1666, 2048, 2664, 3147, 3497, 3381, 3361, 3170, 3405, 3723], \"yaxis\": \"y\"}, {\"legendgroup\": \"Sandwiches\", \"line\": {\"color\": \"#4f8fc6\", \"dash\": \"solid\"}, \"mode\": \"lines\", \"name\": \"Sandwiches\", \"orientation\": \"v\", \"showlegend\": true, \"type\": \"scatter\", \"x\": [0, 1, 2, 3, 4, 5, 6, 7, 8, 9, 10, 11, 12, 13, 14, 15, 16, 17, 18, 19, 20, 21, 22, 23], \"xaxis\": \"x\", \"y\": [5173, 4885, 4213, 3358, 2248, 1462, 935, 542, 342, 330, 348, 752, 1270, 1957, 2857, 3217, 3946, 4733, 4987, 4831, 4758, 4580, 4411, 4949], \"yaxis\": \"y\"}, {\"legendgroup\": \"Steakhouses\", \"line\": {\"color\": \"#3d84bf\", \"dash\": \"solid\"}, \"mode\": \"lines\", \"name\": \"Steakhouses\", \"orientation\": \"v\", \"showlegend\": true, \"type\": \"scatter\", \"x\": [0, 1, 2, 3, 4, 5, 6, 7, 8, 9, 10, 11, 12, 13, 14, 15, 16, 17, 18, 19, 20, 21, 22, 23], \"xaxis\": \"x\", \"y\": [3006, 3333, 3054, 2329, 1560, 927, 601, 310, 193, 189, 235, 435, 754, 1200, 1326, 1537, 1743, 1810, 2074, 2079, 2055, 2047, 2375, 2626], \"yaxis\": \"y\"}, {\"legendgroup\": \"Sushi Bars\", \"line\": {\"color\": \"#3777ac\", \"dash\": \"solid\"}, \"mode\": \"lines\", \"name\": \"Sushi Bars\", \"orientation\": \"v\", \"showlegend\": true, \"type\": \"scatter\", \"x\": [0, 1, 2, 3, 4, 5, 6, 7, 8, 9, 10, 11, 12, 13, 14, 15, 16, 17, 18, 19, 20, 21, 22, 23], \"xaxis\": \"x\", \"y\": [4837, 4968, 4581, 3591, 2493, 1722, 1065, 666, 395, 262, 302, 511, 870, 1294, 1745, 1989, 2452, 2906, 3215, 3347, 3314, 3432, 3754, 4271], \"yaxis\": \"y\"}, {\"legendgroup\": \"Vegetarian\", \"line\": {\"color\": \"#316a9a\", \"dash\": \"solid\"}, \"mode\": \"lines\", \"name\": \"Vegetarian\", \"orientation\": \"v\", \"showlegend\": true, \"type\": \"scatter\", \"x\": [0, 1, 2, 3, 4, 5, 6, 7, 8, 9, 10, 11, 12, 13, 14, 15, 16, 17, 18, 19, 20, 21, 22, 23], \"xaxis\": \"x\", \"y\": [2863, 2934, 2599, 2107, 1451, 902, 597, 297, 209, 162, 185, 321, 577, 934, 1153, 1535, 1847, 2159, 2559, 2531, 2499, 2361, 2448, 2681], \"yaxis\": \"y\"}, {\"legendgroup\": \"Wine Bars\", \"line\": {\"color\": \"#2b5d87\", \"dash\": \"solid\"}, \"mode\": \"lines\", \"name\": \"Wine Bars\", \"orientation\": \"v\", \"showlegend\": true, \"type\": \"scatter\", \"x\": [0, 1, 2, 3, 4, 5, 6, 7, 8, 9, 10, 11, 12, 13, 14, 15, 16, 17, 18, 19, 20, 21, 22, 23], \"xaxis\": \"x\", \"y\": [2980, 3296, 3048, 2377, 1631, 947, 546, 313, 222, 157, 232, 454, 785, 1283, 1568, 1780, 1990, 2098, 2251, 2418, 2327, 2376, 2548, 2778], \"yaxis\": \"y\"}],                        {\"height\": 500, \"hovermode\": \"x unified\", \"legend\": {\"title\": {\"text\": \"Category\"}, \"tracegroupgap\": 0}, \"margin\": {\"t\": 60}, \"plot_bgcolor\": \"rgba(0,0,0,0)\", \"template\": {\"data\": {\"bar\": [{\"error_x\": {\"color\": \"#2a3f5f\"}, \"error_y\": {\"color\": \"#2a3f5f\"}, \"marker\": {\"line\": {\"color\": \"#E5ECF6\", \"width\": 0.5}}, \"type\": \"bar\"}], \"barpolar\": [{\"marker\": {\"line\": {\"color\": \"#E5ECF6\", \"width\": 0.5}}, \"type\": \"barpolar\"}], \"carpet\": [{\"aaxis\": {\"endlinecolor\": \"#2a3f5f\", \"gridcolor\": \"white\", \"linecolor\": \"white\", \"minorgridcolor\": \"white\", \"startlinecolor\": \"#2a3f5f\"}, \"baxis\": {\"endlinecolor\": \"#2a3f5f\", \"gridcolor\": \"white\", \"linecolor\": \"white\", \"minorgridcolor\": \"white\", \"startlinecolor\": \"#2a3f5f\"}, \"type\": \"carpet\"}], \"choropleth\": [{\"colorbar\": {\"outlinewidth\": 0, \"ticks\": \"\"}, \"type\": \"choropleth\"}], \"contour\": [{\"colorbar\": {\"outlinewidth\": 0, \"ticks\": \"\"}, \"colorscale\": [[0.0, \"#0d0887\"], [0.1111111111111111, \"#46039f\"], [0.2222222222222222, \"#7201a8\"], [0.3333333333333333, \"#9c179e\"], [0.4444444444444444, \"#bd3786\"], [0.5555555555555556, \"#d8576b\"], [0.6666666666666666, \"#ed7953\"], [0.7777777777777778, \"#fb9f3a\"], [0.8888888888888888, \"#fdca26\"], [1.0, \"#f0f921\"]], \"type\": \"contour\"}], \"contourcarpet\": [{\"colorbar\": {\"outlinewidth\": 0, \"ticks\": \"\"}, \"type\": \"contourcarpet\"}], \"heatmap\": [{\"colorbar\": {\"outlinewidth\": 0, \"ticks\": \"\"}, \"colorscale\": [[0.0, \"#0d0887\"], [0.1111111111111111, \"#46039f\"], [0.2222222222222222, \"#7201a8\"], [0.3333333333333333, \"#9c179e\"], [0.4444444444444444, \"#bd3786\"], [0.5555555555555556, \"#d8576b\"], [0.6666666666666666, \"#ed7953\"], [0.7777777777777778, \"#fb9f3a\"], [0.8888888888888888, \"#fdca26\"], [1.0, \"#f0f921\"]], \"type\": \"heatmap\"}], \"heatmapgl\": [{\"colorbar\": {\"outlinewidth\": 0, \"ticks\": \"\"}, \"colorscale\": [[0.0, \"#0d0887\"], [0.1111111111111111, \"#46039f\"], [0.2222222222222222, \"#7201a8\"], [0.3333333333333333, \"#9c179e\"], [0.4444444444444444, \"#bd3786\"], [0.5555555555555556, \"#d8576b\"], [0.6666666666666666, \"#ed7953\"], [0.7777777777777778, \"#fb9f3a\"], [0.8888888888888888, \"#fdca26\"], [1.0, \"#f0f921\"]], \"type\": \"heatmapgl\"}], \"histogram\": [{\"marker\": {\"colorbar\": {\"outlinewidth\": 0, \"ticks\": \"\"}}, \"type\": \"histogram\"}], \"histogram2d\": [{\"colorbar\": {\"outlinewidth\": 0, \"ticks\": \"\"}, \"colorscale\": [[0.0, \"#0d0887\"], [0.1111111111111111, \"#46039f\"], [0.2222222222222222, \"#7201a8\"], [0.3333333333333333, \"#9c179e\"], [0.4444444444444444, \"#bd3786\"], [0.5555555555555556, \"#d8576b\"], [0.6666666666666666, \"#ed7953\"], [0.7777777777777778, \"#fb9f3a\"], [0.8888888888888888, \"#fdca26\"], [1.0, \"#f0f921\"]], \"type\": \"histogram2d\"}], \"histogram2dcontour\": [{\"colorbar\": {\"outlinewidth\": 0, \"ticks\": \"\"}, \"colorscale\": [[0.0, \"#0d0887\"], [0.1111111111111111, \"#46039f\"], [0.2222222222222222, \"#7201a8\"], [0.3333333333333333, \"#9c179e\"], [0.4444444444444444, \"#bd3786\"], [0.5555555555555556, \"#d8576b\"], [0.6666666666666666, \"#ed7953\"], [0.7777777777777778, \"#fb9f3a\"], [0.8888888888888888, \"#fdca26\"], [1.0, \"#f0f921\"]], \"type\": \"histogram2dcontour\"}], \"mesh3d\": [{\"colorbar\": {\"outlinewidth\": 0, \"ticks\": \"\"}, \"type\": \"mesh3d\"}], \"parcoords\": [{\"line\": {\"colorbar\": {\"outlinewidth\": 0, \"ticks\": \"\"}}, \"type\": \"parcoords\"}], \"pie\": [{\"automargin\": true, \"type\": \"pie\"}], \"scatter\": [{\"marker\": {\"colorbar\": {\"outlinewidth\": 0, \"ticks\": \"\"}}, \"type\": \"scatter\"}], \"scatter3d\": [{\"line\": {\"colorbar\": {\"outlinewidth\": 0, \"ticks\": \"\"}}, \"marker\": {\"colorbar\": {\"outlinewidth\": 0, \"ticks\": \"\"}}, \"type\": \"scatter3d\"}], \"scattercarpet\": [{\"marker\": {\"colorbar\": {\"outlinewidth\": 0, \"ticks\": \"\"}}, \"type\": \"scattercarpet\"}], \"scattergeo\": [{\"marker\": {\"colorbar\": {\"outlinewidth\": 0, \"ticks\": \"\"}}, \"type\": \"scattergeo\"}], \"scattergl\": [{\"marker\": {\"colorbar\": {\"outlinewidth\": 0, \"ticks\": \"\"}}, \"type\": \"scattergl\"}], \"scattermapbox\": [{\"marker\": {\"colorbar\": {\"outlinewidth\": 0, \"ticks\": \"\"}}, \"type\": \"scattermapbox\"}], \"scatterpolar\": [{\"marker\": {\"colorbar\": {\"outlinewidth\": 0, \"ticks\": \"\"}}, \"type\": \"scatterpolar\"}], \"scatterpolargl\": [{\"marker\": {\"colorbar\": {\"outlinewidth\": 0, \"ticks\": \"\"}}, \"type\": \"scatterpolargl\"}], \"scatterternary\": [{\"marker\": {\"colorbar\": {\"outlinewidth\": 0, \"ticks\": \"\"}}, \"type\": \"scatterternary\"}], \"surface\": [{\"colorbar\": {\"outlinewidth\": 0, \"ticks\": \"\"}, \"colorscale\": [[0.0, \"#0d0887\"], [0.1111111111111111, \"#46039f\"], [0.2222222222222222, \"#7201a8\"], [0.3333333333333333, \"#9c179e\"], [0.4444444444444444, \"#bd3786\"], [0.5555555555555556, \"#d8576b\"], [0.6666666666666666, \"#ed7953\"], [0.7777777777777778, \"#fb9f3a\"], [0.8888888888888888, \"#fdca26\"], [1.0, \"#f0f921\"]], \"type\": \"surface\"}], \"table\": [{\"cells\": {\"fill\": {\"color\": \"#EBF0F8\"}, \"line\": {\"color\": \"white\"}}, \"header\": {\"fill\": {\"color\": \"#C8D4E3\"}, \"line\": {\"color\": \"white\"}}, \"type\": \"table\"}]}, \"layout\": {\"annotationdefaults\": {\"arrowcolor\": \"#2a3f5f\", \"arrowhead\": 0, \"arrowwidth\": 1}, \"coloraxis\": {\"colorbar\": {\"outlinewidth\": 0, \"ticks\": \"\"}}, \"colorscale\": {\"diverging\": [[0, \"#8e0152\"], [0.1, \"#c51b7d\"], [0.2, \"#de77ae\"], [0.3, \"#f1b6da\"], [0.4, \"#fde0ef\"], [0.5, \"#f7f7f7\"], [0.6, \"#e6f5d0\"], [0.7, \"#b8e186\"], [0.8, \"#7fbc41\"], [0.9, \"#4d9221\"], [1, \"#276419\"]], \"sequential\": [[0.0, \"#0d0887\"], [0.1111111111111111, \"#46039f\"], [0.2222222222222222, \"#7201a8\"], [0.3333333333333333, \"#9c179e\"], [0.4444444444444444, \"#bd3786\"], [0.5555555555555556, \"#d8576b\"], [0.6666666666666666, \"#ed7953\"], [0.7777777777777778, \"#fb9f3a\"], [0.8888888888888888, \"#fdca26\"], [1.0, \"#f0f921\"]], \"sequentialminus\": [[0.0, \"#0d0887\"], [0.1111111111111111, \"#46039f\"], [0.2222222222222222, \"#7201a8\"], [0.3333333333333333, \"#9c179e\"], [0.4444444444444444, \"#bd3786\"], [0.5555555555555556, \"#d8576b\"], [0.6666666666666666, \"#ed7953\"], [0.7777777777777778, \"#fb9f3a\"], [0.8888888888888888, \"#fdca26\"], [1.0, \"#f0f921\"]]}, \"colorway\": [\"#636efa\", \"#EF553B\", \"#00cc96\", \"#ab63fa\", \"#FFA15A\", \"#19d3f3\", \"#FF6692\", \"#B6E880\", \"#FF97FF\", \"#FECB52\"], \"font\": {\"color\": \"#2a3f5f\"}, \"geo\": {\"bgcolor\": \"white\", \"lakecolor\": \"white\", \"landcolor\": \"#E5ECF6\", \"showlakes\": true, \"showland\": true, \"subunitcolor\": \"white\"}, \"hoverlabel\": {\"align\": \"left\"}, \"hovermode\": \"closest\", \"mapbox\": {\"style\": \"light\"}, \"paper_bgcolor\": \"white\", \"plot_bgcolor\": \"#E5ECF6\", \"polar\": {\"angularaxis\": {\"gridcolor\": \"white\", \"linecolor\": \"white\", \"ticks\": \"\"}, \"bgcolor\": \"#E5ECF6\", \"radialaxis\": {\"gridcolor\": \"white\", \"linecolor\": \"white\", \"ticks\": \"\"}}, \"scene\": {\"xaxis\": {\"backgroundcolor\": \"#E5ECF6\", \"gridcolor\": \"white\", \"gridwidth\": 2, \"linecolor\": \"white\", \"showbackground\": true, \"ticks\": \"\", \"zerolinecolor\": \"white\"}, \"yaxis\": {\"backgroundcolor\": \"#E5ECF6\", \"gridcolor\": \"white\", \"gridwidth\": 2, \"linecolor\": \"white\", \"showbackground\": true, \"ticks\": \"\", \"zerolinecolor\": \"white\"}, \"zaxis\": {\"backgroundcolor\": \"#E5ECF6\", \"gridcolor\": \"white\", \"gridwidth\": 2, \"linecolor\": \"white\", \"showbackground\": true, \"ticks\": \"\", \"zerolinecolor\": \"white\"}}, \"shapedefaults\": {\"line\": {\"color\": \"#2a3f5f\"}}, \"ternary\": {\"aaxis\": {\"gridcolor\": \"white\", \"linecolor\": \"white\", \"ticks\": \"\"}, \"baxis\": {\"gridcolor\": \"white\", \"linecolor\": \"white\", \"ticks\": \"\"}, \"bgcolor\": \"#E5ECF6\", \"caxis\": {\"gridcolor\": \"white\", \"linecolor\": \"white\", \"ticks\": \"\"}}, \"title\": {\"x\": 0.05}, \"xaxis\": {\"automargin\": true, \"gridcolor\": \"white\", \"linecolor\": \"white\", \"ticks\": \"\", \"title\": {\"standoff\": 15}, \"zerolinecolor\": \"white\", \"zerolinewidth\": 2}, \"yaxis\": {\"automargin\": true, \"gridcolor\": \"white\", \"linecolor\": \"white\", \"ticks\": \"\", \"title\": {\"standoff\": 15}, \"zerolinecolor\": \"white\", \"zerolinewidth\": 2}}}, \"title\": {\"text\": \"Review times for each focus category\"}, \"width\": 800, \"xaxis\": {\"anchor\": \"y\", \"domain\": [0.0, 1.0], \"gridcolor\": \"lightgrey\", \"gridwidth\": 1, \"linecolor\": \"lightgrey\", \"linewidth\": 1, \"showgrid\": true, \"showline\": true, \"title\": {\"text\": \"Hour of the day\"}}, \"yaxis\": {\"anchor\": \"x\", \"domain\": [0.0, 1.0], \"gridcolor\": \"lightgrey\", \"gridwidth\": 1, \"linecolor\": \"lightgrey\", \"linewidth\": 1, \"showgrid\": true, \"showline\": true, \"title\": {\"text\": \"Number of reviews\"}}},                        {\"responsive\": true}                    ).then(function(){\n",
       "                            \n",
       "var gd = document.getElementById('cb0e6a29-d563-47f3-a865-8dc2fba3785f');\n",
       "var x = new MutationObserver(function (mutations, observer) {{\n",
       "        var display = window.getComputedStyle(gd).display;\n",
       "        if (!display || display === 'none') {{\n",
       "            console.log([gd, 'removed!']);\n",
       "            Plotly.purge(gd);\n",
       "            observer.disconnect();\n",
       "        }}\n",
       "}});\n",
       "\n",
       "// Listen for the removal of the full notebook cells\n",
       "var notebookContainer = gd.closest('#notebook-container');\n",
       "if (notebookContainer) {{\n",
       "    x.observe(notebookContainer, {childList: true});\n",
       "}}\n",
       "\n",
       "// Listen for the clearing of the current output cell\n",
       "var outputEl = gd.closest('.output');\n",
       "if (outputEl) {{\n",
       "    x.observe(outputEl, {childList: true});\n",
       "}}\n",
       "\n",
       "                        })                };                });            </script>        </div>"
      ]
     },
     "metadata": {},
     "output_type": "display_data"
    }
   ],
   "source": [
    "cat_hour = df.groupby(['cat_type', df['date'].dt.hour])['stars'].count()\n",
    "cat_hour.index.names = [\"Category\", \"Hour of the day\"]\n",
    "cat_hour = cat_hour.unstack(0)\n",
    "\n",
    "colors = [\"#dde9f4\",\"#d6e5f2\",\"#d0e1f0\",\"#caddee\",\"#c4d9ec\",\"#bed6ea\",\"#b7d2e8\",\"#abcae4\",\"#99bede\",\"#86b2d8\",\"#74a7d2\",\"#619bcc\",\"#4f8fc6\",\"#3d84bf\",\"#3777ac\",\"#316a9a\",\"#2b5d87\",\"#255075\",\"#1f4462\",\"#1d3f5c\", \"#193750\",\"#132a3d\", \"#0b1925\", \"#09151e\", \"#03080c\"]\n",
    "\n",
    "fig = px.line(cat_hour, x=cat_hour.index, y=cat_hour.columns, width=800, height=500, color_discrete_sequence = colors)\n",
    "fig.update_traces(hovertemplate=None)\n",
    "fig.update_layout(title_text=\"Review times for each focus category\", \n",
    "                  plot_bgcolor='rgba(0,0,0,0)',\n",
    "                  yaxis_title=\"Number of reviews\",\n",
    "                  hovermode=\"x unified\")\n",
    "fig.update_xaxes(showline=True, linewidth=1, linecolor='lightgrey', \n",
    "                 showgrid=True, gridwidth=1, gridcolor='lightgrey')\n",
    "fig.update_yaxes(showline=True, linewidth=1, linecolor='lightgrey',\n",
    "                 showgrid=True, gridwidth=1, gridcolor='lightgrey')\n",
    "\n",
    "fig.show()"
   ]
  },
  {
   "cell_type": "markdown",
   "metadata": {},
   "source": [
    "Explanation matches the chart on the website. In this notebook only 2019 and 2020 is shown.\n",
    "\n",
    "In the chart below you are now looking at the number of reviews each month each year. One thing stands out immediately – the covid-19 lockdown in 2020. The number of reviews decreases very significantly from Feb to Apr 2020 and compared to 2019 it is still not at all “back to normal” by the end of 2020. Other than this, you can see in the chart that there are most reviews during the summer with a peak in July or August and less reviews during the winter. Not taking 2020 into account you can also see that the number of reviews have generally increased over the years."
   ]
  },
  {
   "cell_type": "code",
   "execution_count": 80,
   "metadata": {},
   "outputs": [
    {
     "data": {
      "application/vnd.plotly.v1+json": {
       "config": {
        "plotlyServerURL": "https://plot.ly"
       },
       "data": [
        {
         "legendgroup": "2019",
         "line": {
          "color": "#08306b",
          "dash": "solid"
         },
         "mode": "lines",
         "name": "2019",
         "orientation": "v",
         "showlegend": true,
         "type": "scatter",
         "x": [
          "January",
          "February",
          "March",
          "April",
          "May",
          "June",
          "July",
          "August",
          "September",
          "October",
          "November",
          "December"
         ],
         "xaxis": "x",
         "y": [
          74471,
          70070,
          82484,
          74256,
          78983,
          80247,
          82440,
          80534,
          70678,
          72353,
          64659,
          65050
         ],
         "yaxis": "y"
        },
        {
         "legendgroup": "2020",
         "line": {
          "color": "#08519c",
          "dash": "solid"
         },
         "mode": "lines",
         "name": "2020",
         "orientation": "v",
         "showlegend": true,
         "type": "scatter",
         "x": [
          "January",
          "February",
          "March",
          "April",
          "May",
          "June",
          "July",
          "August",
          "September",
          "October",
          "November",
          "December"
         ],
         "xaxis": "x",
         "y": [
          69144,
          68446,
          41799,
          14209,
          22319,
          30538,
          37666,
          44520,
          44931,
          46881,
          38119,
          36635
         ],
         "yaxis": "y"
        }
       ],
       "layout": {
        "height": 500,
        "hovermode": "x unified",
        "legend": {
         "title": {
          "text": "Year"
         },
         "tracegroupgap": 0
        },
        "margin": {
         "t": 60
        },
        "plot_bgcolor": "rgba(0,0,0,0)",
        "template": {
         "data": {
          "bar": [
           {
            "error_x": {
             "color": "#2a3f5f"
            },
            "error_y": {
             "color": "#2a3f5f"
            },
            "marker": {
             "line": {
              "color": "#E5ECF6",
              "width": 0.5
             }
            },
            "type": "bar"
           }
          ],
          "barpolar": [
           {
            "marker": {
             "line": {
              "color": "#E5ECF6",
              "width": 0.5
             }
            },
            "type": "barpolar"
           }
          ],
          "carpet": [
           {
            "aaxis": {
             "endlinecolor": "#2a3f5f",
             "gridcolor": "white",
             "linecolor": "white",
             "minorgridcolor": "white",
             "startlinecolor": "#2a3f5f"
            },
            "baxis": {
             "endlinecolor": "#2a3f5f",
             "gridcolor": "white",
             "linecolor": "white",
             "minorgridcolor": "white",
             "startlinecolor": "#2a3f5f"
            },
            "type": "carpet"
           }
          ],
          "choropleth": [
           {
            "colorbar": {
             "outlinewidth": 0,
             "ticks": ""
            },
            "type": "choropleth"
           }
          ],
          "contour": [
           {
            "colorbar": {
             "outlinewidth": 0,
             "ticks": ""
            },
            "colorscale": [
             [
              0,
              "#0d0887"
             ],
             [
              0.1111111111111111,
              "#46039f"
             ],
             [
              0.2222222222222222,
              "#7201a8"
             ],
             [
              0.3333333333333333,
              "#9c179e"
             ],
             [
              0.4444444444444444,
              "#bd3786"
             ],
             [
              0.5555555555555556,
              "#d8576b"
             ],
             [
              0.6666666666666666,
              "#ed7953"
             ],
             [
              0.7777777777777778,
              "#fb9f3a"
             ],
             [
              0.8888888888888888,
              "#fdca26"
             ],
             [
              1,
              "#f0f921"
             ]
            ],
            "type": "contour"
           }
          ],
          "contourcarpet": [
           {
            "colorbar": {
             "outlinewidth": 0,
             "ticks": ""
            },
            "type": "contourcarpet"
           }
          ],
          "heatmap": [
           {
            "colorbar": {
             "outlinewidth": 0,
             "ticks": ""
            },
            "colorscale": [
             [
              0,
              "#0d0887"
             ],
             [
              0.1111111111111111,
              "#46039f"
             ],
             [
              0.2222222222222222,
              "#7201a8"
             ],
             [
              0.3333333333333333,
              "#9c179e"
             ],
             [
              0.4444444444444444,
              "#bd3786"
             ],
             [
              0.5555555555555556,
              "#d8576b"
             ],
             [
              0.6666666666666666,
              "#ed7953"
             ],
             [
              0.7777777777777778,
              "#fb9f3a"
             ],
             [
              0.8888888888888888,
              "#fdca26"
             ],
             [
              1,
              "#f0f921"
             ]
            ],
            "type": "heatmap"
           }
          ],
          "heatmapgl": [
           {
            "colorbar": {
             "outlinewidth": 0,
             "ticks": ""
            },
            "colorscale": [
             [
              0,
              "#0d0887"
             ],
             [
              0.1111111111111111,
              "#46039f"
             ],
             [
              0.2222222222222222,
              "#7201a8"
             ],
             [
              0.3333333333333333,
              "#9c179e"
             ],
             [
              0.4444444444444444,
              "#bd3786"
             ],
             [
              0.5555555555555556,
              "#d8576b"
             ],
             [
              0.6666666666666666,
              "#ed7953"
             ],
             [
              0.7777777777777778,
              "#fb9f3a"
             ],
             [
              0.8888888888888888,
              "#fdca26"
             ],
             [
              1,
              "#f0f921"
             ]
            ],
            "type": "heatmapgl"
           }
          ],
          "histogram": [
           {
            "marker": {
             "colorbar": {
              "outlinewidth": 0,
              "ticks": ""
             }
            },
            "type": "histogram"
           }
          ],
          "histogram2d": [
           {
            "colorbar": {
             "outlinewidth": 0,
             "ticks": ""
            },
            "colorscale": [
             [
              0,
              "#0d0887"
             ],
             [
              0.1111111111111111,
              "#46039f"
             ],
             [
              0.2222222222222222,
              "#7201a8"
             ],
             [
              0.3333333333333333,
              "#9c179e"
             ],
             [
              0.4444444444444444,
              "#bd3786"
             ],
             [
              0.5555555555555556,
              "#d8576b"
             ],
             [
              0.6666666666666666,
              "#ed7953"
             ],
             [
              0.7777777777777778,
              "#fb9f3a"
             ],
             [
              0.8888888888888888,
              "#fdca26"
             ],
             [
              1,
              "#f0f921"
             ]
            ],
            "type": "histogram2d"
           }
          ],
          "histogram2dcontour": [
           {
            "colorbar": {
             "outlinewidth": 0,
             "ticks": ""
            },
            "colorscale": [
             [
              0,
              "#0d0887"
             ],
             [
              0.1111111111111111,
              "#46039f"
             ],
             [
              0.2222222222222222,
              "#7201a8"
             ],
             [
              0.3333333333333333,
              "#9c179e"
             ],
             [
              0.4444444444444444,
              "#bd3786"
             ],
             [
              0.5555555555555556,
              "#d8576b"
             ],
             [
              0.6666666666666666,
              "#ed7953"
             ],
             [
              0.7777777777777778,
              "#fb9f3a"
             ],
             [
              0.8888888888888888,
              "#fdca26"
             ],
             [
              1,
              "#f0f921"
             ]
            ],
            "type": "histogram2dcontour"
           }
          ],
          "mesh3d": [
           {
            "colorbar": {
             "outlinewidth": 0,
             "ticks": ""
            },
            "type": "mesh3d"
           }
          ],
          "parcoords": [
           {
            "line": {
             "colorbar": {
              "outlinewidth": 0,
              "ticks": ""
             }
            },
            "type": "parcoords"
           }
          ],
          "pie": [
           {
            "automargin": true,
            "type": "pie"
           }
          ],
          "scatter": [
           {
            "marker": {
             "colorbar": {
              "outlinewidth": 0,
              "ticks": ""
             }
            },
            "type": "scatter"
           }
          ],
          "scatter3d": [
           {
            "line": {
             "colorbar": {
              "outlinewidth": 0,
              "ticks": ""
             }
            },
            "marker": {
             "colorbar": {
              "outlinewidth": 0,
              "ticks": ""
             }
            },
            "type": "scatter3d"
           }
          ],
          "scattercarpet": [
           {
            "marker": {
             "colorbar": {
              "outlinewidth": 0,
              "ticks": ""
             }
            },
            "type": "scattercarpet"
           }
          ],
          "scattergeo": [
           {
            "marker": {
             "colorbar": {
              "outlinewidth": 0,
              "ticks": ""
             }
            },
            "type": "scattergeo"
           }
          ],
          "scattergl": [
           {
            "marker": {
             "colorbar": {
              "outlinewidth": 0,
              "ticks": ""
             }
            },
            "type": "scattergl"
           }
          ],
          "scattermapbox": [
           {
            "marker": {
             "colorbar": {
              "outlinewidth": 0,
              "ticks": ""
             }
            },
            "type": "scattermapbox"
           }
          ],
          "scatterpolar": [
           {
            "marker": {
             "colorbar": {
              "outlinewidth": 0,
              "ticks": ""
             }
            },
            "type": "scatterpolar"
           }
          ],
          "scatterpolargl": [
           {
            "marker": {
             "colorbar": {
              "outlinewidth": 0,
              "ticks": ""
             }
            },
            "type": "scatterpolargl"
           }
          ],
          "scatterternary": [
           {
            "marker": {
             "colorbar": {
              "outlinewidth": 0,
              "ticks": ""
             }
            },
            "type": "scatterternary"
           }
          ],
          "surface": [
           {
            "colorbar": {
             "outlinewidth": 0,
             "ticks": ""
            },
            "colorscale": [
             [
              0,
              "#0d0887"
             ],
             [
              0.1111111111111111,
              "#46039f"
             ],
             [
              0.2222222222222222,
              "#7201a8"
             ],
             [
              0.3333333333333333,
              "#9c179e"
             ],
             [
              0.4444444444444444,
              "#bd3786"
             ],
             [
              0.5555555555555556,
              "#d8576b"
             ],
             [
              0.6666666666666666,
              "#ed7953"
             ],
             [
              0.7777777777777778,
              "#fb9f3a"
             ],
             [
              0.8888888888888888,
              "#fdca26"
             ],
             [
              1,
              "#f0f921"
             ]
            ],
            "type": "surface"
           }
          ],
          "table": [
           {
            "cells": {
             "fill": {
              "color": "#EBF0F8"
             },
             "line": {
              "color": "white"
             }
            },
            "header": {
             "fill": {
              "color": "#C8D4E3"
             },
             "line": {
              "color": "white"
             }
            },
            "type": "table"
           }
          ]
         },
         "layout": {
          "annotationdefaults": {
           "arrowcolor": "#2a3f5f",
           "arrowhead": 0,
           "arrowwidth": 1
          },
          "coloraxis": {
           "colorbar": {
            "outlinewidth": 0,
            "ticks": ""
           }
          },
          "colorscale": {
           "diverging": [
            [
             0,
             "#8e0152"
            ],
            [
             0.1,
             "#c51b7d"
            ],
            [
             0.2,
             "#de77ae"
            ],
            [
             0.3,
             "#f1b6da"
            ],
            [
             0.4,
             "#fde0ef"
            ],
            [
             0.5,
             "#f7f7f7"
            ],
            [
             0.6,
             "#e6f5d0"
            ],
            [
             0.7,
             "#b8e186"
            ],
            [
             0.8,
             "#7fbc41"
            ],
            [
             0.9,
             "#4d9221"
            ],
            [
             1,
             "#276419"
            ]
           ],
           "sequential": [
            [
             0,
             "#0d0887"
            ],
            [
             0.1111111111111111,
             "#46039f"
            ],
            [
             0.2222222222222222,
             "#7201a8"
            ],
            [
             0.3333333333333333,
             "#9c179e"
            ],
            [
             0.4444444444444444,
             "#bd3786"
            ],
            [
             0.5555555555555556,
             "#d8576b"
            ],
            [
             0.6666666666666666,
             "#ed7953"
            ],
            [
             0.7777777777777778,
             "#fb9f3a"
            ],
            [
             0.8888888888888888,
             "#fdca26"
            ],
            [
             1,
             "#f0f921"
            ]
           ],
           "sequentialminus": [
            [
             0,
             "#0d0887"
            ],
            [
             0.1111111111111111,
             "#46039f"
            ],
            [
             0.2222222222222222,
             "#7201a8"
            ],
            [
             0.3333333333333333,
             "#9c179e"
            ],
            [
             0.4444444444444444,
             "#bd3786"
            ],
            [
             0.5555555555555556,
             "#d8576b"
            ],
            [
             0.6666666666666666,
             "#ed7953"
            ],
            [
             0.7777777777777778,
             "#fb9f3a"
            ],
            [
             0.8888888888888888,
             "#fdca26"
            ],
            [
             1,
             "#f0f921"
            ]
           ]
          },
          "colorway": [
           "#636efa",
           "#EF553B",
           "#00cc96",
           "#ab63fa",
           "#FFA15A",
           "#19d3f3",
           "#FF6692",
           "#B6E880",
           "#FF97FF",
           "#FECB52"
          ],
          "font": {
           "color": "#2a3f5f"
          },
          "geo": {
           "bgcolor": "white",
           "lakecolor": "white",
           "landcolor": "#E5ECF6",
           "showlakes": true,
           "showland": true,
           "subunitcolor": "white"
          },
          "hoverlabel": {
           "align": "left"
          },
          "hovermode": "closest",
          "mapbox": {
           "style": "light"
          },
          "paper_bgcolor": "white",
          "plot_bgcolor": "#E5ECF6",
          "polar": {
           "angularaxis": {
            "gridcolor": "white",
            "linecolor": "white",
            "ticks": ""
           },
           "bgcolor": "#E5ECF6",
           "radialaxis": {
            "gridcolor": "white",
            "linecolor": "white",
            "ticks": ""
           }
          },
          "scene": {
           "xaxis": {
            "backgroundcolor": "#E5ECF6",
            "gridcolor": "white",
            "gridwidth": 2,
            "linecolor": "white",
            "showbackground": true,
            "ticks": "",
            "zerolinecolor": "white"
           },
           "yaxis": {
            "backgroundcolor": "#E5ECF6",
            "gridcolor": "white",
            "gridwidth": 2,
            "linecolor": "white",
            "showbackground": true,
            "ticks": "",
            "zerolinecolor": "white"
           },
           "zaxis": {
            "backgroundcolor": "#E5ECF6",
            "gridcolor": "white",
            "gridwidth": 2,
            "linecolor": "white",
            "showbackground": true,
            "ticks": "",
            "zerolinecolor": "white"
           }
          },
          "shapedefaults": {
           "line": {
            "color": "#2a3f5f"
           }
          },
          "ternary": {
           "aaxis": {
            "gridcolor": "white",
            "linecolor": "white",
            "ticks": ""
           },
           "baxis": {
            "gridcolor": "white",
            "linecolor": "white",
            "ticks": ""
           },
           "bgcolor": "#E5ECF6",
           "caxis": {
            "gridcolor": "white",
            "linecolor": "white",
            "ticks": ""
           }
          },
          "title": {
           "x": 0.05
          },
          "xaxis": {
           "automargin": true,
           "gridcolor": "white",
           "linecolor": "white",
           "ticks": "",
           "title": {
            "standoff": 15
           },
           "zerolinecolor": "white",
           "zerolinewidth": 2
          },
          "yaxis": {
           "automargin": true,
           "gridcolor": "white",
           "linecolor": "white",
           "ticks": "",
           "title": {
            "standoff": 15
           },
           "zerolinecolor": "white",
           "zerolinewidth": 2
          }
         }
        },
        "title": {
         "text": "Total number of reviews each month in the different years"
        },
        "width": 800,
        "xaxis": {
         "anchor": "y",
         "domain": [
          0,
          1
         ],
         "gridcolor": "lightgrey",
         "gridwidth": 1,
         "linecolor": "lightgrey",
         "linewidth": 1,
         "showgrid": true,
         "showline": true,
         "title": {
          "text": "Month"
         }
        },
        "yaxis": {
         "anchor": "x",
         "domain": [
          0,
          1
         ],
         "gridcolor": "lightgrey",
         "gridwidth": 1,
         "linecolor": "lightgrey",
         "linewidth": 1,
         "showgrid": true,
         "showline": true,
         "title": {
          "text": "Number of reviews"
         }
        }
       }
      },
      "text/html": [
       "<div>                            <div id=\"101e7804-7567-47a5-81f7-d41aec8d74b9\" class=\"plotly-graph-div\" style=\"height:500px; width:800px;\"></div>            <script type=\"text/javascript\">                require([\"plotly\"], function(Plotly) {                    window.PLOTLYENV=window.PLOTLYENV || {};                                    if (document.getElementById(\"101e7804-7567-47a5-81f7-d41aec8d74b9\")) {                    Plotly.newPlot(                        \"101e7804-7567-47a5-81f7-d41aec8d74b9\",                        [{\"legendgroup\": \"2019\", \"line\": {\"color\": \"#08306b\", \"dash\": \"solid\"}, \"mode\": \"lines\", \"name\": \"2019\", \"orientation\": \"v\", \"showlegend\": true, \"type\": \"scatter\", \"x\": [\"January\", \"February\", \"March\", \"April\", \"May\", \"June\", \"July\", \"August\", \"September\", \"October\", \"November\", \"December\"], \"xaxis\": \"x\", \"y\": [74471, 70070, 82484, 74256, 78983, 80247, 82440, 80534, 70678, 72353, 64659, 65050], \"yaxis\": \"y\"}, {\"legendgroup\": \"2020\", \"line\": {\"color\": \"#08519c\", \"dash\": \"solid\"}, \"mode\": \"lines\", \"name\": \"2020\", \"orientation\": \"v\", \"showlegend\": true, \"type\": \"scatter\", \"x\": [\"January\", \"February\", \"March\", \"April\", \"May\", \"June\", \"July\", \"August\", \"September\", \"October\", \"November\", \"December\"], \"xaxis\": \"x\", \"y\": [69144, 68446, 41799, 14209, 22319, 30538, 37666, 44520, 44931, 46881, 38119, 36635], \"yaxis\": \"y\"}],                        {\"height\": 500, \"hovermode\": \"x unified\", \"legend\": {\"title\": {\"text\": \"Year\"}, \"tracegroupgap\": 0}, \"margin\": {\"t\": 60}, \"plot_bgcolor\": \"rgba(0,0,0,0)\", \"template\": {\"data\": {\"bar\": [{\"error_x\": {\"color\": \"#2a3f5f\"}, \"error_y\": {\"color\": \"#2a3f5f\"}, \"marker\": {\"line\": {\"color\": \"#E5ECF6\", \"width\": 0.5}}, \"type\": \"bar\"}], \"barpolar\": [{\"marker\": {\"line\": {\"color\": \"#E5ECF6\", \"width\": 0.5}}, \"type\": \"barpolar\"}], \"carpet\": [{\"aaxis\": {\"endlinecolor\": \"#2a3f5f\", \"gridcolor\": \"white\", \"linecolor\": \"white\", \"minorgridcolor\": \"white\", \"startlinecolor\": \"#2a3f5f\"}, \"baxis\": {\"endlinecolor\": \"#2a3f5f\", \"gridcolor\": \"white\", \"linecolor\": \"white\", \"minorgridcolor\": \"white\", \"startlinecolor\": \"#2a3f5f\"}, \"type\": \"carpet\"}], \"choropleth\": [{\"colorbar\": {\"outlinewidth\": 0, \"ticks\": \"\"}, \"type\": \"choropleth\"}], \"contour\": [{\"colorbar\": {\"outlinewidth\": 0, \"ticks\": \"\"}, \"colorscale\": [[0.0, \"#0d0887\"], [0.1111111111111111, \"#46039f\"], [0.2222222222222222, \"#7201a8\"], [0.3333333333333333, \"#9c179e\"], [0.4444444444444444, \"#bd3786\"], [0.5555555555555556, \"#d8576b\"], [0.6666666666666666, \"#ed7953\"], [0.7777777777777778, \"#fb9f3a\"], [0.8888888888888888, \"#fdca26\"], [1.0, \"#f0f921\"]], \"type\": \"contour\"}], \"contourcarpet\": [{\"colorbar\": {\"outlinewidth\": 0, \"ticks\": \"\"}, \"type\": \"contourcarpet\"}], \"heatmap\": [{\"colorbar\": {\"outlinewidth\": 0, \"ticks\": \"\"}, \"colorscale\": [[0.0, \"#0d0887\"], [0.1111111111111111, \"#46039f\"], [0.2222222222222222, \"#7201a8\"], [0.3333333333333333, \"#9c179e\"], [0.4444444444444444, \"#bd3786\"], [0.5555555555555556, \"#d8576b\"], [0.6666666666666666, \"#ed7953\"], [0.7777777777777778, \"#fb9f3a\"], [0.8888888888888888, \"#fdca26\"], [1.0, \"#f0f921\"]], \"type\": \"heatmap\"}], \"heatmapgl\": [{\"colorbar\": {\"outlinewidth\": 0, \"ticks\": \"\"}, \"colorscale\": [[0.0, \"#0d0887\"], [0.1111111111111111, \"#46039f\"], [0.2222222222222222, \"#7201a8\"], [0.3333333333333333, \"#9c179e\"], [0.4444444444444444, \"#bd3786\"], [0.5555555555555556, \"#d8576b\"], [0.6666666666666666, \"#ed7953\"], [0.7777777777777778, \"#fb9f3a\"], [0.8888888888888888, \"#fdca26\"], [1.0, \"#f0f921\"]], \"type\": \"heatmapgl\"}], \"histogram\": [{\"marker\": {\"colorbar\": {\"outlinewidth\": 0, \"ticks\": \"\"}}, \"type\": \"histogram\"}], \"histogram2d\": [{\"colorbar\": {\"outlinewidth\": 0, \"ticks\": \"\"}, \"colorscale\": [[0.0, \"#0d0887\"], [0.1111111111111111, \"#46039f\"], [0.2222222222222222, \"#7201a8\"], [0.3333333333333333, \"#9c179e\"], [0.4444444444444444, \"#bd3786\"], [0.5555555555555556, \"#d8576b\"], [0.6666666666666666, \"#ed7953\"], [0.7777777777777778, \"#fb9f3a\"], [0.8888888888888888, \"#fdca26\"], [1.0, \"#f0f921\"]], \"type\": \"histogram2d\"}], \"histogram2dcontour\": [{\"colorbar\": {\"outlinewidth\": 0, \"ticks\": \"\"}, \"colorscale\": [[0.0, \"#0d0887\"], [0.1111111111111111, \"#46039f\"], [0.2222222222222222, \"#7201a8\"], [0.3333333333333333, \"#9c179e\"], [0.4444444444444444, \"#bd3786\"], [0.5555555555555556, \"#d8576b\"], [0.6666666666666666, \"#ed7953\"], [0.7777777777777778, \"#fb9f3a\"], [0.8888888888888888, \"#fdca26\"], [1.0, \"#f0f921\"]], \"type\": \"histogram2dcontour\"}], \"mesh3d\": [{\"colorbar\": {\"outlinewidth\": 0, \"ticks\": \"\"}, \"type\": \"mesh3d\"}], \"parcoords\": [{\"line\": {\"colorbar\": {\"outlinewidth\": 0, \"ticks\": \"\"}}, \"type\": \"parcoords\"}], \"pie\": [{\"automargin\": true, \"type\": \"pie\"}], \"scatter\": [{\"marker\": {\"colorbar\": {\"outlinewidth\": 0, \"ticks\": \"\"}}, \"type\": \"scatter\"}], \"scatter3d\": [{\"line\": {\"colorbar\": {\"outlinewidth\": 0, \"ticks\": \"\"}}, \"marker\": {\"colorbar\": {\"outlinewidth\": 0, \"ticks\": \"\"}}, \"type\": \"scatter3d\"}], \"scattercarpet\": [{\"marker\": {\"colorbar\": {\"outlinewidth\": 0, \"ticks\": \"\"}}, \"type\": \"scattercarpet\"}], \"scattergeo\": [{\"marker\": {\"colorbar\": {\"outlinewidth\": 0, \"ticks\": \"\"}}, \"type\": \"scattergeo\"}], \"scattergl\": [{\"marker\": {\"colorbar\": {\"outlinewidth\": 0, \"ticks\": \"\"}}, \"type\": \"scattergl\"}], \"scattermapbox\": [{\"marker\": {\"colorbar\": {\"outlinewidth\": 0, \"ticks\": \"\"}}, \"type\": \"scattermapbox\"}], \"scatterpolar\": [{\"marker\": {\"colorbar\": {\"outlinewidth\": 0, \"ticks\": \"\"}}, \"type\": \"scatterpolar\"}], \"scatterpolargl\": [{\"marker\": {\"colorbar\": {\"outlinewidth\": 0, \"ticks\": \"\"}}, \"type\": \"scatterpolargl\"}], \"scatterternary\": [{\"marker\": {\"colorbar\": {\"outlinewidth\": 0, \"ticks\": \"\"}}, \"type\": \"scatterternary\"}], \"surface\": [{\"colorbar\": {\"outlinewidth\": 0, \"ticks\": \"\"}, \"colorscale\": [[0.0, \"#0d0887\"], [0.1111111111111111, \"#46039f\"], [0.2222222222222222, \"#7201a8\"], [0.3333333333333333, \"#9c179e\"], [0.4444444444444444, \"#bd3786\"], [0.5555555555555556, \"#d8576b\"], [0.6666666666666666, \"#ed7953\"], [0.7777777777777778, \"#fb9f3a\"], [0.8888888888888888, \"#fdca26\"], [1.0, \"#f0f921\"]], \"type\": \"surface\"}], \"table\": [{\"cells\": {\"fill\": {\"color\": \"#EBF0F8\"}, \"line\": {\"color\": \"white\"}}, \"header\": {\"fill\": {\"color\": \"#C8D4E3\"}, \"line\": {\"color\": \"white\"}}, \"type\": \"table\"}]}, \"layout\": {\"annotationdefaults\": {\"arrowcolor\": \"#2a3f5f\", \"arrowhead\": 0, \"arrowwidth\": 1}, \"coloraxis\": {\"colorbar\": {\"outlinewidth\": 0, \"ticks\": \"\"}}, \"colorscale\": {\"diverging\": [[0, \"#8e0152\"], [0.1, \"#c51b7d\"], [0.2, \"#de77ae\"], [0.3, \"#f1b6da\"], [0.4, \"#fde0ef\"], [0.5, \"#f7f7f7\"], [0.6, \"#e6f5d0\"], [0.7, \"#b8e186\"], [0.8, \"#7fbc41\"], [0.9, \"#4d9221\"], [1, \"#276419\"]], \"sequential\": [[0.0, \"#0d0887\"], [0.1111111111111111, \"#46039f\"], [0.2222222222222222, \"#7201a8\"], [0.3333333333333333, \"#9c179e\"], [0.4444444444444444, \"#bd3786\"], [0.5555555555555556, \"#d8576b\"], [0.6666666666666666, \"#ed7953\"], [0.7777777777777778, \"#fb9f3a\"], [0.8888888888888888, \"#fdca26\"], [1.0, \"#f0f921\"]], \"sequentialminus\": [[0.0, \"#0d0887\"], [0.1111111111111111, \"#46039f\"], [0.2222222222222222, \"#7201a8\"], [0.3333333333333333, \"#9c179e\"], [0.4444444444444444, \"#bd3786\"], [0.5555555555555556, \"#d8576b\"], [0.6666666666666666, \"#ed7953\"], [0.7777777777777778, \"#fb9f3a\"], [0.8888888888888888, \"#fdca26\"], [1.0, \"#f0f921\"]]}, \"colorway\": [\"#636efa\", \"#EF553B\", \"#00cc96\", \"#ab63fa\", \"#FFA15A\", \"#19d3f3\", \"#FF6692\", \"#B6E880\", \"#FF97FF\", \"#FECB52\"], \"font\": {\"color\": \"#2a3f5f\"}, \"geo\": {\"bgcolor\": \"white\", \"lakecolor\": \"white\", \"landcolor\": \"#E5ECF6\", \"showlakes\": true, \"showland\": true, \"subunitcolor\": \"white\"}, \"hoverlabel\": {\"align\": \"left\"}, \"hovermode\": \"closest\", \"mapbox\": {\"style\": \"light\"}, \"paper_bgcolor\": \"white\", \"plot_bgcolor\": \"#E5ECF6\", \"polar\": {\"angularaxis\": {\"gridcolor\": \"white\", \"linecolor\": \"white\", \"ticks\": \"\"}, \"bgcolor\": \"#E5ECF6\", \"radialaxis\": {\"gridcolor\": \"white\", \"linecolor\": \"white\", \"ticks\": \"\"}}, \"scene\": {\"xaxis\": {\"backgroundcolor\": \"#E5ECF6\", \"gridcolor\": \"white\", \"gridwidth\": 2, \"linecolor\": \"white\", \"showbackground\": true, \"ticks\": \"\", \"zerolinecolor\": \"white\"}, \"yaxis\": {\"backgroundcolor\": \"#E5ECF6\", \"gridcolor\": \"white\", \"gridwidth\": 2, \"linecolor\": \"white\", \"showbackground\": true, \"ticks\": \"\", \"zerolinecolor\": \"white\"}, \"zaxis\": {\"backgroundcolor\": \"#E5ECF6\", \"gridcolor\": \"white\", \"gridwidth\": 2, \"linecolor\": \"white\", \"showbackground\": true, \"ticks\": \"\", \"zerolinecolor\": \"white\"}}, \"shapedefaults\": {\"line\": {\"color\": \"#2a3f5f\"}}, \"ternary\": {\"aaxis\": {\"gridcolor\": \"white\", \"linecolor\": \"white\", \"ticks\": \"\"}, \"baxis\": {\"gridcolor\": \"white\", \"linecolor\": \"white\", \"ticks\": \"\"}, \"bgcolor\": \"#E5ECF6\", \"caxis\": {\"gridcolor\": \"white\", \"linecolor\": \"white\", \"ticks\": \"\"}}, \"title\": {\"x\": 0.05}, \"xaxis\": {\"automargin\": true, \"gridcolor\": \"white\", \"linecolor\": \"white\", \"ticks\": \"\", \"title\": {\"standoff\": 15}, \"zerolinecolor\": \"white\", \"zerolinewidth\": 2}, \"yaxis\": {\"automargin\": true, \"gridcolor\": \"white\", \"linecolor\": \"white\", \"ticks\": \"\", \"title\": {\"standoff\": 15}, \"zerolinecolor\": \"white\", \"zerolinewidth\": 2}}}, \"title\": {\"text\": \"Total number of reviews each month in the different years\"}, \"width\": 800, \"xaxis\": {\"anchor\": \"y\", \"domain\": [0.0, 1.0], \"gridcolor\": \"lightgrey\", \"gridwidth\": 1, \"linecolor\": \"lightgrey\", \"linewidth\": 1, \"showgrid\": true, \"showline\": true, \"title\": {\"text\": \"Month\"}}, \"yaxis\": {\"anchor\": \"x\", \"domain\": [0.0, 1.0], \"gridcolor\": \"lightgrey\", \"gridwidth\": 1, \"linecolor\": \"lightgrey\", \"linewidth\": 1, \"showgrid\": true, \"showline\": true, \"title\": {\"text\": \"Number of reviews\"}}},                        {\"responsive\": true}                    ).then(function(){\n",
       "                            \n",
       "var gd = document.getElementById('101e7804-7567-47a5-81f7-d41aec8d74b9');\n",
       "var x = new MutationObserver(function (mutations, observer) {{\n",
       "        var display = window.getComputedStyle(gd).display;\n",
       "        if (!display || display === 'none') {{\n",
       "            console.log([gd, 'removed!']);\n",
       "            Plotly.purge(gd);\n",
       "            observer.disconnect();\n",
       "        }}\n",
       "}});\n",
       "\n",
       "// Listen for the removal of the full notebook cells\n",
       "var notebookContainer = gd.closest('#notebook-container');\n",
       "if (notebookContainer) {{\n",
       "    x.observe(notebookContainer, {childList: true});\n",
       "}}\n",
       "\n",
       "// Listen for the clearing of the current output cell\n",
       "var outputEl = gd.closest('.output');\n",
       "if (outputEl) {{\n",
       "    x.observe(outputEl, {childList: true});\n",
       "}}\n",
       "\n",
       "                        })                };                });            </script>        </div>"
      ]
     },
     "metadata": {},
     "output_type": "display_data"
    }
   ],
   "source": [
    "sorter = ['January', 'February', 'March', 'April', 'May', 'June','July',\n",
    "          'August','September','October','November','December']\n",
    "\n",
    "colors = ['#08306b', '#08519c', '#2171b5', '#4292c6', '#6baed6', '#9ecae1', '#c6dbef']#, '#deebf7', '#f7fbff']\n",
    "\n",
    "day_hour = df[df.date.dt.year != 2021].groupby([df['date'].dt.year, df.date.dt.month_name()])['stars'].count().reindex(sorter,level=1)\n",
    "day_hour.index.names = [\"Year\", \"Month\"]\n",
    "day_hour = day_hour.unstack(0)\n",
    "\n",
    "fig = px.line(day_hour, x=day_hour.index, y=day_hour.columns,width=800, height=500, color_discrete_sequence = colors)\n",
    "fig.update_traces(hovertemplate=None)\n",
    "fig.update_layout(title_text=\"Total number of reviews each month in the different years\", \n",
    "                  plot_bgcolor='rgba(0,0,0,0)',\n",
    "                  yaxis_title=\"Number of reviews\",\n",
    "                  hovermode=\"x unified\")\n",
    "fig.update_xaxes(showline=True, linewidth=1, linecolor='lightgrey', \n",
    "                 showgrid=True, gridwidth=1, gridcolor='lightgrey')\n",
    "fig.update_yaxes(showline=True, linewidth=1, linecolor='lightgrey',\n",
    "                 showgrid=True, gridwidth=1, gridcolor='lightgrey')\n",
    "#fig.show()"
   ]
  },
  {
   "cell_type": "markdown",
   "metadata": {},
   "source": [
    "The last chart in this section is to shows an animation reviewed restaurants in the city Austin for the first months of 2020. You can at any time press the Play or Pause button or even drag the slider yourself to a given date that you want to inspect. The animation is a scatter plot, where a restaurant is showed if it is reviewed on a given date. The size of the points represents how many reviews the restaurant has gotten, and the color shows the average stars given in the reviews that day. Inspiration for this visualization found on https://towardsdatascience.com/how-to-create-animated-scatter-maps-with-plotly-and-dash-f10bb82d357a."
   ]
  },
  {
   "cell_type": "code",
   "execution_count": 81,
   "metadata": {},
   "outputs": [
    {
     "name": "stderr",
     "output_type": "stream",
     "text": [
      "/anaconda3/lib/python3.7/site-packages/ipykernel_launcher.py:3: SettingWithCopyWarning:\n",
      "\n",
      "\n",
      "A value is trying to be set on a copy of a slice from a DataFrame.\n",
      "Try using .loc[row_indexer,col_indexer] = value instead\n",
      "\n",
      "See the caveats in the documentation: https://pandas.pydata.org/pandas-docs/stable/user_guide/indexing.html#returning-a-view-versus-a-copy\n",
      "\n"
     ]
    }
   ],
   "source": [
    "#Filtering data\n",
    "austin=df[(df.date > '2020-01-01') & (df.date < '2020-05-01') & (df.city == 'Austin')]\n",
    "austin['datenotime'] = austin['date'].dt.date.astype(str)\n",
    "res_pos_au = austin[['name', 'latitude', 'longitude']].drop_duplicates(['name']).set_index(['name'])\n",
    "pivot_au = austin.pivot_table(values='review_stars',index=['datenotime','name'],aggfunc=['count',np.mean])\n",
    "pivot_au.columns = ['review_count', 'avg_stars']"
   ]
  },
  {
   "cell_type": "code",
   "execution_count": 82,
   "metadata": {},
   "outputs": [],
   "source": [
    "#Merging position with pivot table\n",
    "pivot_au = pivot_au.join(res_pos_au)"
   ]
  },
  {
   "cell_type": "code",
   "execution_count": 83,
   "metadata": {},
   "outputs": [],
   "source": [
    "#List of days\n",
    "days = pivot_au.index.levels[0].tolist()"
   ]
  },
  {
   "cell_type": "code",
   "execution_count": 93,
   "metadata": {},
   "outputs": [
    {
     "ename": "KeyError",
     "evalue": "'mapbox'",
     "output_type": "error",
     "traceback": [
      "\u001b[0;31m---------------------------------------------------------------------------\u001b[0m",
      "\u001b[0;31mKeyError\u001b[0m                                  Traceback (most recent call last)",
      "\u001b[0;32m<ipython-input-93-1b8d4dfa529e>\u001b[0m in \u001b[0;36m<module>\u001b[0;34m\u001b[0m\n\u001b[1;32m      3\u001b[0m \u001b[0mconfig\u001b[0m \u001b[0;34m=\u001b[0m \u001b[0mconfigparser\u001b[0m\u001b[0;34m.\u001b[0m\u001b[0mConfigParser\u001b[0m\u001b[0;34m(\u001b[0m\u001b[0;34m)\u001b[0m\u001b[0;34m\u001b[0m\u001b[0;34m\u001b[0m\u001b[0m\n\u001b[1;32m      4\u001b[0m \u001b[0mconfig\u001b[0m\u001b[0;34m.\u001b[0m\u001b[0mread\u001b[0m\u001b[0;34m(\u001b[0m\u001b[0;34m'config.ini'\u001b[0m\u001b[0;34m)\u001b[0m\u001b[0;34m\u001b[0m\u001b[0;34m\u001b[0m\u001b[0m\n\u001b[0;32m----> 5\u001b[0;31m \u001b[0mmapbox_token\u001b[0m \u001b[0;34m=\u001b[0m \u001b[0mconfig\u001b[0m\u001b[0;34m[\u001b[0m\u001b[0;34m'mapbox'\u001b[0m\u001b[0;34m]\u001b[0m\u001b[0;34m[\u001b[0m\u001b[0;34m'secret_token'\u001b[0m\u001b[0;34m]\u001b[0m\u001b[0;34m\u001b[0m\u001b[0;34m\u001b[0m\u001b[0m\n\u001b[0m",
      "\u001b[0;32m/anaconda3/lib/python3.7/configparser.py\u001b[0m in \u001b[0;36m__getitem__\u001b[0;34m(self, key)\u001b[0m\n\u001b[1;32m    956\u001b[0m     \u001b[0;32mdef\u001b[0m \u001b[0m__getitem__\u001b[0m\u001b[0;34m(\u001b[0m\u001b[0mself\u001b[0m\u001b[0;34m,\u001b[0m \u001b[0mkey\u001b[0m\u001b[0;34m)\u001b[0m\u001b[0;34m:\u001b[0m\u001b[0;34m\u001b[0m\u001b[0;34m\u001b[0m\u001b[0m\n\u001b[1;32m    957\u001b[0m         \u001b[0;32mif\u001b[0m \u001b[0mkey\u001b[0m \u001b[0;34m!=\u001b[0m \u001b[0mself\u001b[0m\u001b[0;34m.\u001b[0m\u001b[0mdefault_section\u001b[0m \u001b[0;32mand\u001b[0m \u001b[0;32mnot\u001b[0m \u001b[0mself\u001b[0m\u001b[0;34m.\u001b[0m\u001b[0mhas_section\u001b[0m\u001b[0;34m(\u001b[0m\u001b[0mkey\u001b[0m\u001b[0;34m)\u001b[0m\u001b[0;34m:\u001b[0m\u001b[0;34m\u001b[0m\u001b[0;34m\u001b[0m\u001b[0m\n\u001b[0;32m--> 958\u001b[0;31m             \u001b[0;32mraise\u001b[0m \u001b[0mKeyError\u001b[0m\u001b[0;34m(\u001b[0m\u001b[0mkey\u001b[0m\u001b[0;34m)\u001b[0m\u001b[0;34m\u001b[0m\u001b[0;34m\u001b[0m\u001b[0m\n\u001b[0m\u001b[1;32m    959\u001b[0m         \u001b[0;32mreturn\u001b[0m \u001b[0mself\u001b[0m\u001b[0;34m.\u001b[0m\u001b[0m_proxies\u001b[0m\u001b[0;34m[\u001b[0m\u001b[0mkey\u001b[0m\u001b[0;34m]\u001b[0m\u001b[0;34m\u001b[0m\u001b[0;34m\u001b[0m\u001b[0m\n\u001b[1;32m    960\u001b[0m \u001b[0;34m\u001b[0m\u001b[0m\n",
      "\u001b[0;31mKeyError\u001b[0m: 'mapbox'"
     ]
    }
   ],
   "source": [
    "#Load mapbox token\n",
    "import configparser\n",
    "config = configparser.ConfigParser()\n",
    "config.read('config.ini')\n",
    "mapbox_token = config['mapbox']['secret_token']"
   ]
  },
  {
   "cell_type": "code",
   "execution_count": 94,
   "metadata": {},
   "outputs": [],
   "source": [
    "frames = [{   \n",
    "    'name':'frame_{}'.format(day),\n",
    "    'data':[{\n",
    "        'type':'scattermapbox',\n",
    "        'lat':pivot_au.xs(day)['latitude'],\n",
    "        'lon':pivot_au.xs(day)['longitude'],\n",
    "        'marker':go.scattermapbox.Marker(\n",
    "            size=pivot_au.xs(day)['review_count'],\n",
    "            color=pivot_au.xs(day)['avg_stars'],\n",
    "            showscale=True,\n",
    "            colorscale='RdYlGn',\n",
    "            colorbar={'title':'Stars', 'titleside':'top', 'thickness':4},#, 'ticksuffix':' %'},\n",
    "        ),\n",
    "        'customdata':np.stack((pivot_au.xs(day)['review_count'],  pivot_au.xs(day)['avg_stars'], pd.Series(pivot_au.xs(day).index)), axis=-1),\n",
    "        'hovertemplate': \"<extra></extra><em>%{customdata[2]}  </em><br>Reviews this day: %{customdata[0]}<br>Avg. ⭐ given %{customdata[1]}\",\n",
    "    }],           \n",
    "} for day in days]\n",
    "sliders = [{\n",
    "    'transition':{'duration': 0},\n",
    "    'x':0.08, \n",
    "    'len':0.88,\n",
    "    'currentvalue':{'font':{'size':15}, 'prefix':'📅 ', 'visible':True, 'xanchor':'center'},  \n",
    "    'steps':[\n",
    "        {\n",
    "            'label':day,\n",
    "            'method':'animate',\n",
    "            'args':[\n",
    "                ['frame_{}'.format(day)],\n",
    "                {'mode':'immediate', 'frame':{'duration':100, 'redraw': True}, 'transition':{'duration':50}}\n",
    "              ],\n",
    "        } for day in days]\n",
    "}]\n",
    "\n",
    "play_button = {\n",
    "    'type':'buttons',\n",
    "    'showactive':True,\n",
    "    'x':0.045, 'y':-0.08,\n",
    "    'buttons': [\n",
    "            {\n",
    "                \"args\": [None, {'frame':{'duration':500, 'redraw':True},\n",
    "                'transition':{'duration':50},\n",
    "                'fromcurrent':True,\n",
    "                'mode':'immediate',}],\n",
    "                \"label\": \"▶️\",\n",
    "                \"method\": \"animate\"\n",
    "            },\n",
    "            {\n",
    "                \"args\": [[None], {\"frame\": {\"duration\": 0, \"redraw\": False},\n",
    "                                  \"mode\": \"immediate\",\n",
    "                                  \"transition\": {\"duration\": 0}}],\n",
    "                \"label\": \"⏸️\",\n",
    "                \"method\": \"animate\"\n",
    "            }\n",
    "        ]\n",
    "}"
   ]
  },
  {
   "cell_type": "code",
   "execution_count": 95,
   "metadata": {},
   "outputs": [
    {
     "ename": "NameError",
     "evalue": "name 'mapbox_token' is not defined",
     "output_type": "error",
     "traceback": [
      "\u001b[0;31m---------------------------------------------------------------------------\u001b[0m",
      "\u001b[0;31mNameError\u001b[0m                                 Traceback (most recent call last)",
      "\u001b[0;32m<ipython-input-95-c0878ac7870b>\u001b[0m in \u001b[0;36m<module>\u001b[0;34m\u001b[0m\n\u001b[1;32m      7\u001b[0m     \u001b[0mupdatemenus\u001b[0m\u001b[0;34m=\u001b[0m\u001b[0;34m[\u001b[0m\u001b[0mplay_button\u001b[0m\u001b[0;34m]\u001b[0m\u001b[0;34m,\u001b[0m\u001b[0;34m\u001b[0m\u001b[0;34m\u001b[0m\u001b[0m\n\u001b[1;32m      8\u001b[0m     mapbox={\n\u001b[0;32m----> 9\u001b[0;31m         \u001b[0;34m'accesstoken'\u001b[0m\u001b[0;34m:\u001b[0m\u001b[0mmapbox_token\u001b[0m\u001b[0;34m,\u001b[0m\u001b[0;34m\u001b[0m\u001b[0;34m\u001b[0m\u001b[0m\n\u001b[0m\u001b[1;32m     10\u001b[0m         \u001b[0;34m'center'\u001b[0m\u001b[0;34m:\u001b[0m\u001b[0;34m{\u001b[0m\u001b[0;34m\"lat\"\u001b[0m\u001b[0;34m:\u001b[0m \u001b[0;36m30.3\u001b[0m\u001b[0;34m,\u001b[0m \u001b[0;34m\"lon\"\u001b[0m\u001b[0;34m:\u001b[0m \u001b[0;34m-\u001b[0m\u001b[0;36m97.73\u001b[0m\u001b[0;34m}\u001b[0m\u001b[0;34m,\u001b[0m\u001b[0;34m\u001b[0m\u001b[0;34m\u001b[0m\u001b[0m\n\u001b[1;32m     11\u001b[0m         \u001b[0;34m'zoom'\u001b[0m\u001b[0;34m:\u001b[0m\u001b[0;36m10\u001b[0m\u001b[0;34m,\u001b[0m\u001b[0;34m\u001b[0m\u001b[0;34m\u001b[0m\u001b[0m\n",
      "\u001b[0;31mNameError\u001b[0m: name 'mapbox_token' is not defined"
     ]
    }
   ],
   "source": [
    "# Defining the initial state\n",
    "data = frames[0]['data']\n",
    "\n",
    "# Adding all sliders and play button to the layout\n",
    "layout = go.Layout(\n",
    "    sliders=sliders,\n",
    "    updatemenus=[play_button],\n",
    "    mapbox={\n",
    "        'accesstoken':mapbox_token,\n",
    "        'center':{\"lat\": 30.3, \"lon\": -97.73},\n",
    "        'zoom':10,\n",
    "        'style':'light',\n",
    "    }\n",
    ")\n",
    "# Creating the figure\n",
    "fig_austin = go.Figure(data=data, layout=layout, frames=frames)\n",
    "fig_austin.update_layout(autosize=False, width=800, height=500)\n",
    "\n",
    "# Displaying the figure\n",
    "#fig_austin.show()"
   ]
  },
  {
   "cell_type": "markdown",
   "metadata": {},
   "source": [
    "## 4. Genre\n",
    "\n",
    "### 4.1. Which genre of data story did you use?\n",
    "\n",
    "In the paper from Edward Segel and Jeffrey Heer several genres are described, where multiple of these genres are used to create the content for this website.\n",
    "\n",
    "* The annotated chart is used on the site 'Exploratory Data Analysis' and 'Reviews', since a hover tool with selected and important information is presented for the user. Furthermore, the last map on 'Exploratory Data Analysis' is presenting the timeline in reviews for a given year, where the user can see the number of reviews, stars and of course name of the restaurant.\n",
    "* The annotated chart and animation are also used on the page 'Find your favorite restaurant'. On this page, an interactive figure is presented, where the user can filter data to his/her own preference. The hover tool explained above is still active. Further, if the user is in doubt about how to use the plot, a gif is running above the plot.  \n",
    "\n",
    "### 4.2. Which tools did you use from each of the 3 categories of Visual Narrative?\n",
    "\n",
    "Figure 7 from Edward Segel and Jeffrey Heer's paper presented the three different categories under *Visual Narrative*, where the tools used will be explained here.\n",
    "\n",
    "* Visual Structuring: For visual structuring, a consistent visual platform is used. This gives a good flow through the presentation of our dataset and our findings since the same color palette is used for the graphs and theme for the website. \n",
    "* Highlighting: Here three highlighting methods are used. On the page 'Exploratory Data Analysis',  close-ups, zooming and feature distinction are used. The close-ups are used on the map of where the restaurants are placed in North America and the user is able to zoom. On the other plots, feature distinction is used by the different colors. This is done, so the user can see a difference between for example stars by state. Highlighting is also used for the tab 'Find your favorite restaurant', since the user is first presented with an overview of all the restaurants, again the user can zoom in/out and filter the data by his/her own preferences.\n",
    "* Transition Guidance: Here a simple website setup is used, hence familiar objects are used. This also (hopefully) makes it easier for the user to use the website that is created. \n",
    "\n",
    "### 4.3. Which tools did you use from each of the 3 categories of Narrative Structure?\n",
    "\n",
    "Again, figure 7 from Edward Segel and Jeffrey Heer's paper is used. The narrative structure will be explained throughout this part. \n",
    "\n",
    "* Ordering: As explained above, the website is made with a different post on the front page, where the user can always go back to the front page using the *home* button in the upper right corner. Hence the user can access the tabs he/she wants to. The page 'Exploratory Data Analysis' is driven by the authors of this project, since it is what they found interesting when doing the exploratory part. \n",
    "* Interactivity: On all plots, a hover highlighting is configured, which gives the user easy access to a lot of information by just using the mousepad. Further, an interactive plot is done where the user can filter on the data input to the plot.\n",
    "* Messaging: For this part, multiple messaging is used. When entering the website an introductory text is presented. Further, on all posts, there are headers for all the different sections within each page and captions for all figures. This makes it easy for the user to understand when the topic is changing and to get a brief understanding of what the figures are illustrating. Lastly, annotations for each figure are also present on the website, which is more in detail and for users that want a more in-depth understanding of the dataset. \n",
    "\n",
    "\n",
    "## 5. Visualizations\n",
    "\n",
    "*Explain the visualizations you've chosen.*\n",
    "\n",
    "*Why are they right for the story you want to tell?*\n",
    "\n",
    "The constructed website has three pages with plots. The first page 'Exploratory Data Analysis' has bar charts, line plots and map overview. The second page 'Reviews' is presenting the machine learning model that has been used to detect fake reviews and further presents **HVILKE PLOTS**. Lastly, the last page 'Find your favorite restaurant' is an interactive plot, where a table of all relevant restaurants are seen and a map where the restaurants are placed.\n",
    "\n",
    "These visualizations are good because they give the user easy access to a lot of information, with needing a deeper knowledge. Further, they also give the user access to interact with the last figure. \n",
    "\n",
    "**Er der noget andet mere fornuftigt vi kan skrive?**\n",
    "\n",
    "\n",
    "### 5.1. Anomaly Detection\n",
    "\n",
    "It has been estimated by a Harvard Business School report that 20% of reviews on Yelp are fake. In anomaly detection, the 20% review with the highest risk of being fake reviews is found, by using Isolation Forest. "
   ]
  },
  {
   "cell_type": "code",
   "execution_count": 58,
   "metadata": {},
   "outputs": [],
   "source": [
    "df = df.drop_duplicates(subset='text')\n",
    "\n",
    "#full name of state is inserted\n",
    "name = []\n",
    "\n",
    "for state in df['state']:\n",
    "    if state =='MA':\n",
    "        name.append('Massachusetts')\n",
    "    elif state =='FL':\n",
    "        name.append('Florida')\n",
    "    elif state =='OR':\n",
    "        name.append('Oregon')\n",
    "    elif state =='BC':\n",
    "        name.append('British Columbia')\n",
    "    elif state =='GA':\n",
    "        name.append('Georgia')\n",
    "    elif state =='TX':\n",
    "        name.append('Texas')\n",
    "    elif state =='OH':\n",
    "        name.append('Ohio')\n",
    "    elif state =='CO':\n",
    "        name.append('Colorado')\n",
    "    elif state =='WA':\n",
    "        name.append('Washington')\n",
    "    elif state =='KS':\n",
    "        name.append('Kansas')\n",
    "    elif state == 'KY':\n",
    "        name.append('Kentucky')\n",
    "        \n",
    "df['state_name'] = name"
   ]
  },
  {
   "cell_type": "code",
   "execution_count": 59,
   "metadata": {},
   "outputs": [
    {
     "name": "stdout",
     "output_type": "stream",
     "text": [
      "Index(['business_id', 'name', 'city', 'state', 'postal_code', 'latitude',\n",
      "       'longitude', 'stars', 'review_count', 'attributes', 'categories',\n",
      "       'cat_kitchen', 'cat_type', 'state_name', 'latitude_state',\n",
      "       'longitude_state', 'PriceRange', 'AvgPrice', 'user_id', 'review_stars',\n",
      "       'text', 'date', 'user_count', 'average_stars', 'year', 'price_range'],\n",
      "      dtype='object')\n",
      "shape of dataset (473633, 26)\n"
     ]
    }
   ],
   "source": [
    "print(df.columns) #checking our columns\n",
    "print('shape of dataset', df.shape)\n",
    "\n",
    "N = df.shape[0]\n",
    "MaxUsed = 100\n",
    "\n",
    "df = df.iloc[0:N]"
   ]
  },
  {
   "cell_type": "markdown",
   "metadata": {},
   "source": [
    "#### Creation of features\n",
    "\n",
    "Length of review and number of sentences in the reviews are used as some of the features of the Isolation Forest Model."
   ]
  },
  {
   "cell_type": "code",
   "execution_count": 60,
   "metadata": {},
   "outputs": [],
   "source": [
    "#Length of review\n",
    "df['reviewlength'] = df['text'].str.len()\n",
    "\n",
    "#number of sentences\n",
    "df['sentences'] = df[\"text\"].str.count('\\.')"
   ]
  },
  {
   "cell_type": "markdown",
   "metadata": {},
   "source": [
    "#### Text Processing\n",
    "\n",
    "The reviews are processed in the following way:\n",
    "* Stop words are removed\n",
    "* The text is tokenized\n",
    "* The text is stemmed"
   ]
  },
  {
   "cell_type": "code",
   "execution_count": 61,
   "metadata": {},
   "outputs": [],
   "source": [
    "#remove stop words\n",
    "df['filtered_text'] = df.text.apply(remove_stopwords)"
   ]
  },
  {
   "cell_type": "code",
   "execution_count": 62,
   "metadata": {},
   "outputs": [],
   "source": [
    "# Tokenize the text\n",
    "df['tokenized_text'] = [simple_preprocess(line, deacc=True) for line in df['filtered_text']] "
   ]
  },
  {
   "cell_type": "code",
   "execution_count": 63,
   "metadata": {},
   "outputs": [],
   "source": [
    "#Stem the text\n",
    "porter_stemmer = PorterStemmer()\n",
    "df['stemmed_tokens'] = [[porter_stemmer.stem(word) for word in tokens] for tokens in df['tokenized_text']]\n",
    "\n",
    "df['stemmed_text'] = df['stemmed_tokens'].apply(' '.join)"
   ]
  },
  {
   "cell_type": "markdown",
   "metadata": {},
   "source": [
    "Some of the features of the model are if a given word is in the review. The 100 most used words without stop words are found. Most reviews have 5 stars, so to make sure that it doesn't only check for positive words, the 100 most used words are found in a balanced dataset, where there is an equal number of reviews with 1, 2, 3, 4 and 5 stars."
   ]
  },
  {
   "cell_type": "code",
   "execution_count": 64,
   "metadata": {},
   "outputs": [],
   "source": [
    "#count of stars given\n",
    "min_review = min(df['review_stars'].value_counts())\n",
    "\n",
    "#dataframes for each star\n",
    "df1 = df.loc[(df['review_stars'] == 1)]\n",
    "df2 = df.loc[(df['review_stars'] == 2)]\n",
    "df3 = df.loc[(df['review_stars'] == 3)]\n",
    "df4 = df.loc[(df['review_stars'] == 4)]\n",
    "df5 = df.loc[(df['review_stars'] == 5)]\n",
    "\n",
    "#sample dataframe for each star\n",
    "df1 = df1.sample(n=min_review,axis='rows')\n",
    "df2 = df2.sample(n=min_review,axis='rows')\n",
    "df3 = df3.sample(n=min_review,axis='rows')\n",
    "df4 = df4.sample(n=min_review,axis='rows')\n",
    "df5 = df5.sample(n=min_review,axis='rows')"
   ]
  },
  {
   "cell_type": "code",
   "execution_count": 65,
   "metadata": {},
   "outputs": [],
   "source": [
    "#balanced reviews\n",
    "df_word = pd.concat([df1, df2, df3, df4, df5])"
   ]
  },
  {
   "cell_type": "code",
   "execution_count": 66,
   "metadata": {},
   "outputs": [],
   "source": [
    "#find the 100 most used words from the balanced review set(without stop words)\n",
    "Word = []\n",
    "WordCounter = Counter(\" \".join(df_word[\"stemmed_text\"]).split()).most_common(MaxUsed)\n",
    "for j in range(len(WordCounter)):\n",
    "    Word.insert(j,WordCounter[j][0])"
   ]
  },
  {
   "cell_type": "markdown",
   "metadata": {},
   "source": [
    "#### Encoding\n",
    "\n",
    "The reviews are encoded using one-hot-encoding, so for each review, it is checked if they contain each of the 100 most used words from the balanced dataset. \n",
    "\n",
    "Furthermore, userID and businessID are encoded using label encoding, so these also enter as features in the model.\n",
    "\n",
    "Lastly, the date and time are encoded using label encoding, so the date and time can be a feature in the model. This is done by encoding it as year, month, day in the month, hour, minute and the day of the week. "
   ]
  },
  {
   "cell_type": "code",
   "execution_count": 1,
   "metadata": {
    "scrolled": false
   },
   "outputs": [
    {
     "ename": "NameError",
     "evalue": "name 'np' is not defined",
     "output_type": "error",
     "traceback": [
      "\u001b[0;31m---------------------------------------------------------------------------\u001b[0m",
      "\u001b[0;31mNameError\u001b[0m                                 Traceback (most recent call last)",
      "\u001b[0;32m<ipython-input-1-7b7abffa1f3f>\u001b[0m in \u001b[0;36m<module>\u001b[0;34m\u001b[0m\n\u001b[0;32m----> 1\u001b[0;31m \u001b[0mWords\u001b[0m \u001b[0;34m=\u001b[0m \u001b[0mnp\u001b[0m\u001b[0;34m.\u001b[0m\u001b[0mzeros\u001b[0m\u001b[0;34m(\u001b[0m\u001b[0;34m(\u001b[0m\u001b[0mN\u001b[0m\u001b[0;34m,\u001b[0m\u001b[0mMaxUsed\u001b[0m\u001b[0;34m)\u001b[0m\u001b[0;34m)\u001b[0m\u001b[0;34m\u001b[0m\u001b[0;34m\u001b[0m\u001b[0m\n\u001b[0m\u001b[1;32m      2\u001b[0m \u001b[0;34m\u001b[0m\u001b[0m\n\u001b[1;32m      3\u001b[0m \u001b[0;31m#one-hot encoding over the 100 most used words\u001b[0m\u001b[0;34m\u001b[0m\u001b[0;34m\u001b[0m\u001b[0;34m\u001b[0m\u001b[0m\n\u001b[1;32m      4\u001b[0m \u001b[0;32mfor\u001b[0m \u001b[0mindex\u001b[0m\u001b[0;34m,\u001b[0m \u001b[0mrow\u001b[0m \u001b[0;32min\u001b[0m \u001b[0mdf\u001b[0m\u001b[0;34m.\u001b[0m\u001b[0miterrows\u001b[0m\u001b[0;34m(\u001b[0m\u001b[0;34m)\u001b[0m\u001b[0;34m:\u001b[0m\u001b[0;34m\u001b[0m\u001b[0;34m\u001b[0m\u001b[0m\n\u001b[1;32m      5\u001b[0m     \u001b[0;32mfor\u001b[0m \u001b[0mi\u001b[0m \u001b[0;32min\u001b[0m \u001b[0mrange\u001b[0m\u001b[0;34m(\u001b[0m\u001b[0mnp\u001b[0m\u001b[0;34m.\u001b[0m\u001b[0msize\u001b[0m\u001b[0;34m(\u001b[0m\u001b[0mWords\u001b[0m\u001b[0;34m,\u001b[0m \u001b[0maxis\u001b[0m\u001b[0;34m=\u001b[0m\u001b[0;36m1\u001b[0m\u001b[0;34m)\u001b[0m\u001b[0;34m)\u001b[0m\u001b[0;34m:\u001b[0m\u001b[0;34m\u001b[0m\u001b[0;34m\u001b[0m\u001b[0m\n",
      "\u001b[0;31mNameError\u001b[0m: name 'np' is not defined"
     ]
    }
   ],
   "source": [
    "Words = np.zeros((N,MaxUsed))\n",
    "\n",
    "#one-hot encoding over the 100 most used words\n",
    "for index, row in df.iterrows():\n",
    "    for i in range(np.size(Words, axis=1)):\n",
    "        if Word[i] in df['stemmed_text'].iloc[index]:\n",
    "            Words[index,i] = 1"
   ]
  },
  {
   "cell_type": "code",
   "execution_count": null,
   "metadata": {},
   "outputs": [],
   "source": [
    "#drop some of the attributes with text\n",
    "df = df.drop(['text','filtered_text','tokenized_text', 'stemmed_tokens'], axis=1)"
   ]
  },
  {
   "cell_type": "code",
   "execution_count": null,
   "metadata": {},
   "outputs": [],
   "source": [
    "#dataframe for encoding\n",
    "df_words = pd.DataFrame(Words)\n",
    "\n",
    "#Encoding column names are changed\n",
    "Names = list(range(0, MaxUsed))\n",
    "ColNames = [str(n) for n in Names]\n",
    "\n",
    "df_words.columns = ColNames\n",
    "print(df_words)\n",
    "\n",
    "#The encoding is added to the dataset\n",
    "df = df.join(df_words)"
   ]
  },
  {
   "cell_type": "code",
   "execution_count": null,
   "metadata": {},
   "outputs": [],
   "source": [
    "#label encoding for userID and businessID\n",
    "df['user_id'] = df['user_id'].astype('category')\n",
    "df['business_id'] = df['business_id'].astype('category')\n",
    "\n",
    "df['UserCat'] = df['user_id'].cat.codes\n",
    "df['BusinessCat'] = df['business_id'].cat.codes\n",
    "\n",
    "#encode date\n",
    "df['date']= pd.to_datetime(df['date'])\n",
    "\n",
    "df['year'] = df['date'].dt.year\n",
    "df['month'] = df['date'].dt.month\n",
    "df['day'] = df['date'].dt.day\n",
    "df['hour'] = df['date'].dt.hour\n",
    "df['minute'] = df['date'].dt.minute\n",
    "df['DayOfWeek'] = df['date'].dt.dayofweek"
   ]
  },
  {
   "cell_type": "markdown",
   "metadata": {},
   "source": [
    "#### Anomaly detection - Isolation Forest\n",
    "\n",
    "As already mentioned, anomaly detection is performed using an Isolation Forest. The features used in the model is stars the restaurant has, number of reviews received, the star given from the particular review, length of review, number of sentences in the review, userID, businessID, year, month, day in the month, hour, minute, day of the week and the features regarding which of the 100 most used words, the review contains. "
   ]
  },
  {
   "cell_type": "code",
   "execution_count": null,
   "metadata": {},
   "outputs": [],
   "source": [
    "#features for Isolation Forest\n",
    "df_feature = df[['stars', 'review_count','review_stars','reviewlength', 'sentences', \n",
    "                 'UserCat','BusinessCat', 'year', 'month', 'day', 'hour', 'minute', \n",
    "                 'DayOfWeek', '0', '1', '2', '3', '4', '5', '6', '7', '8', '9', '10', \n",
    "                 '11', '12', '13', '14', '15', '16', '17', '18', '19', '20', '21', '22', \n",
    "                 '23', '24', '25', '26', '27', '28', '29', '30', '31', '32', '33', '34', \n",
    "                 '35', '36', '37', '38', '39', '40', '41', '42', '43', '44', '45', '46', \n",
    "                 '47', '48', '49', '50', '51', '52', '53', '54', '55', '56', '57', '58', \n",
    "                 '59', '60', '61', '62', '63', '64', '65', '66', '67', '68', '69', '70', \n",
    "                 '71', '72', '73', '74', '75', '76', '77', '78', '79', '80', '81', '82', \n",
    "                 '83', '84', '85', '86', '87', '88', '89', '90', '91', '92', '93', '94', \n",
    "                 '95', '96', '97', '98', '99']]"
   ]
  },
  {
   "cell_type": "code",
   "execution_count": null,
   "metadata": {},
   "outputs": [],
   "source": [
    "model = IsolationForest(n_estimators=50, max_samples='auto', \n",
    "                        contamination=float(0.2),max_features=1).fit(df_feature)"
   ]
  },
  {
   "cell_type": "code",
   "execution_count": null,
   "metadata": {},
   "outputs": [],
   "source": [
    "df['scores'] = model.decision_function(df_feature)\n",
    "df['anomaly'] = model.predict(df_feature)"
   ]
  },
  {
   "cell_type": "code",
   "execution_count": null,
   "metadata": {},
   "outputs": [],
   "source": [
    "#drop encodings\n",
    "df = df.drop(['reviewlength', 'sentences', '0', '1', '2', '3', '4', '5', '6', '7', '8', '9', \n",
    "              '10', '11', '12', '13', '14', '15', '16', '17', '18', '19', '20', '21', '22', \n",
    "              '23', '24', '25', '26', '27', '28', '29', '30', '31', '32', '33', '34', '35', \n",
    "              '36', '37', '38', '39', '40', '41', '42', '43', '44', '45', '46', '47', '48', \n",
    "              '49', '50', '51', '52', '53', '54', '55', '56', '57', '58', '59', '60', '61', \n",
    "              '62', '63', '64', '65', '66', '67', '68', '69', '70', '71', '72', '73', '74',\n",
    "              '75', '76', '77', '78', '79', '80', '81', '82', '83', '84', '85', '86', '87',\n",
    "              '88', '89', '90', '91', '92', '93', '94', '95', '96', '97', '98', '99', \n",
    "              'UserCat', 'BusinessCat', 'year', 'month', 'day', 'hour', 'minute', 'DayOfWeek'], axis = 1)"
   ]
  },
  {
   "cell_type": "markdown",
   "metadata": {},
   "source": [
    "#### Plot of number of fake reviews\n",
    "\n",
    "The number of real and fake reviews are counted to be sure, that 20% is estimated as fake reviews."
   ]
  },
  {
   "cell_type": "code",
   "execution_count": null,
   "metadata": {},
   "outputs": [],
   "source": [
    "#Count real and fake reviews\n",
    "countFake = df['anomaly'].value_counts()\n",
    "Fake = [countFake[1], countFake[-1]]"
   ]
  },
  {
   "cell_type": "code",
   "execution_count": null,
   "metadata": {},
   "outputs": [],
   "source": [
    "#Plot number of fake/not-fake reviews\n",
    "\n",
    "xFake = ['Real review', 'Fake review']\n",
    "pFake = figure(x_range=xFake, plot_width = 600, plot_height=300, toolbar_location=None, title='Anomaly detection')\n",
    "pFake.vbar(x=xFake, width=0.3, bottom=0, top=Fake, color='lightblue')\n",
    "\n",
    "#axis ticks\n",
    "pFake.xgrid.grid_line_color = None\n",
    "pFake.y_range.start = 0\n",
    "pFake.xaxis.major_tick_line_color = None \n",
    "pFake.yaxis.major_tick_line_color = None  \n",
    "pFake.yaxis.minor_tick_line_color = None  \n",
    "pFake.y_range.start = 0\n",
    "pFake.title.text_font_size = '13pt'\n",
    "pFake.title.align = 'center'\n",
    "\n",
    "Fake_panel = Panel(child=pFake, title='Anomaly')\n",
    "\n",
    "show(pFake)"
   ]
  },
  {
   "cell_type": "markdown",
   "metadata": {},
   "source": [
    "#### Plot of fake reviews\n",
    "\n",
    "Percentage fake reviews are plotted within **stars**, **type of restaurant**, **type of kitchen** and **state**."
   ]
  },
  {
   "cell_type": "code",
   "execution_count": null,
   "metadata": {},
   "outputs": [],
   "source": [
    "#count of anomaly \n",
    "anomalyStars = df.groupby(['anomaly','stars'])['stars'].count().unstack().fillna(0)\n",
    "anomalyType = df.groupby(['anomaly','cat_type'])[\"cat_type\"].count().unstack().fillna(0)\n",
    "anomalyKitchen = df.groupby(['anomaly','cat_kitchen'])[\"cat_kitchen\"].count().unstack().fillna(0)\n",
    "anomalyState = df.groupby(['anomaly','state_name'])['state_name'].count().unstack().fillna(0)"
   ]
  },
  {
   "cell_type": "code",
   "execution_count": null,
   "metadata": {},
   "outputs": [],
   "source": [
    "#Percentage fake reviews are calculated\n",
    "#percent fake reviews - stars\n",
    "StarFake = []\n",
    "for (colname,colval) in anomalyStars.iteritems():\n",
    "    StarFake.append(colval.values[0]/(colval.values[0]+colval.values[1])*100)\n",
    "\n",
    "#percent fake reviews - type\n",
    "TypeFake = []\n",
    "for (colname,colval) in anomalyType.iteritems():\n",
    "    TypeFake.append(colval.values[0]/(colval.values[0]+colval.values[1])*100)\n",
    "    \n",
    "#percent fake reviews - kitchen\n",
    "KitchenFake = []\n",
    "for (colname,colval) in anomalyKitchen.iteritems():\n",
    "    KitchenFake.append(colval.values[0]/(colval.values[0]+colval.values[1])*100)\n",
    "\n",
    "#percent fake reviews - state\n",
    "StateFake = []\n",
    "for (colname,colval) in anomalyState.iteritems():\n",
    "    StateFake.append(colval.values[0]/(colval.values[0]+colval.values[1])*100)   "
   ]
  },
  {
   "cell_type": "code",
   "execution_count": null,
   "metadata": {},
   "outputs": [],
   "source": [
    "#Plot percentage fake reviews within stars\n",
    "xStar = df['stars'].sort_values(ascending=True).astype(str).unique().tolist()\n",
    "\n",
    "pStar = figure(x_range=xStar, plot_width = 600, plot_height=300, toolbar_location=None, title='Fake reviews by stars')\n",
    "pStar.vbar(x=xStar, width=0.7, bottom=0, top=StarFake, color='lightblue')\n",
    "\n",
    "#axis ticks\n",
    "pStar.y_range.start = 0\n",
    "pStar.xaxis.major_tick_line_color = None \n",
    "pStar.yaxis.major_tick_line_color = None  \n",
    "pStar.yaxis.minor_tick_line_color = None  \n",
    "pStar.y_range.start = 0\n",
    "pStar.title.text_font_size = '13pt'\n",
    "pStar.title.align = 'center'\n",
    "\n",
    "Star_panel = Panel(child=pStar, title='Stars')"
   ]
  },
  {
   "cell_type": "code",
   "execution_count": null,
   "metadata": {},
   "outputs": [],
   "source": [
    "#Plot percentage fake reviews within type of restaurant\n",
    "xType = df['cat_type'].sort_values(ascending=True).unique().tolist()\n",
    "\n",
    "pType = figure(x_range=xType, plot_width = 600, plot_height=300, toolbar_location=None, title='Fake reviews by type of restaurant')\n",
    "pType.vbar(x=xType, width=0.7, bottom=0, top=TypeFake, color = 'lightblue')\n",
    "\n",
    "#axis ticks\n",
    "pType.xgrid.grid_line_color = None\n",
    "pType.y_range.start = 0\n",
    "pType.xaxis.major_tick_line_color = None \n",
    "pType.yaxis.major_tick_line_color = None  \n",
    "pType.yaxis.minor_tick_line_color = None  \n",
    "pType.y_range.start = 0\n",
    "pType.xaxis.major_label_orientation = \"vertical\"\n",
    "pType.title.text_font_size = '13pt'\n",
    "pType.title.align = 'center'\n",
    "\n",
    "Type_panel = Panel(child=pType, title='Type of restaurant')"
   ]
  },
  {
   "cell_type": "code",
   "execution_count": null,
   "metadata": {},
   "outputs": [],
   "source": [
    "#Plot percentage fake reviews within type of kitchen\n",
    "\n",
    "xKitchen = df['cat_kitchen'].sort_values(ascending=True).unique().tolist()\n",
    "\n",
    "pKitchen = figure(x_range=xKitchen, plot_width = 600, plot_height=300, toolbar_location=None, title='Fake reviews by type of kitchen')\n",
    "pKitchen.vbar(x=xKitchen, width=0.7, bottom=0, top=KitchenFake, color = 'lightblue')\n",
    "\n",
    "#axis ticks\n",
    "pKitchen.xgrid.grid_line_color = None\n",
    "pKitchen.xaxis.major_tick_line_color = None \n",
    "pKitchen.yaxis.major_tick_line_color = None  \n",
    "pKitchen.yaxis.minor_tick_line_color = None  \n",
    "pKitchen.y_range.start = 0\n",
    "pKitchen.xaxis.major_label_orientation = \"vertical\"\n",
    "pKitchen.title.text_font_size = '13pt'\n",
    "pKitchen.title.align = 'center'\n",
    "\n",
    "Kitchen_panel = Panel(child=pKitchen, title='Type of kitchen')"
   ]
  },
  {
   "cell_type": "code",
   "execution_count": null,
   "metadata": {},
   "outputs": [],
   "source": [
    "#Plot percentage fake reviews within state\n",
    "\n",
    "xState = df['state_name'].sort_values(ascending=True).unique().tolist()\n",
    "\n",
    "pState = figure(x_range=xState, plot_width = 600, plot_height=300, toolbar_location=None, title='Fake reviews by state')\n",
    "pState.vbar(x=xState, width=0.7, bottom=0, top=StateFake, color = 'lightblue')\n",
    "\n",
    "#axis ticks\n",
    "pState.xgrid.grid_line_color = None\n",
    "pState.xaxis.major_tick_line_color = None \n",
    "pState.yaxis.major_tick_line_color = None  \n",
    "pState.yaxis.minor_tick_line_color = None  \n",
    "pState.y_range.start = 0\n",
    "pState.xaxis.major_label_orientation = \"vertical\"\n",
    "pState.title.text_font_size = '13pt'\n",
    "pState.title.align = 'center'\n",
    "\n"
   ]
  },
  {
   "cell_type": "code",
   "execution_count": null,
   "metadata": {},
   "outputs": [],
   "source": [
    "tabs = Tabs(tabs=[Star_panel, Type_panel, Kitchen_panel, State_panel])\n",
    "\n",
    "show(tabs)"
   ]
  },
  {
   "cell_type": "code",
   "execution_count": null,
   "metadata": {},
   "outputs": [],
   "source": [
    "wc = WordCloud(width=1600, height=800, random_state=42, max_words=1000000)\n",
    "\n",
    "# generation\n",
    "wc.generate(str(df_RI_tips['text_cl']))\n",
    "\n",
    "plt.figure(figsize=(15,10), facecolor='black')\n",
    "plt.title(\"Tips on Thai Yummy\", fontsize=40, color='white')\n",
    "plt.imshow(wc, interpolation='bilinear')\n",
    "plt.axis('off')\n",
    "plt.tight_layout(pad=10)"
   ]
  },
  {
   "cell_type": "code",
   "execution_count": null,
   "metadata": {},
   "outputs": [],
   "source": [
    "wc = WordCloud(width=1600, height=800, random_state=42, max_words=1000000)\n",
    "\n",
    "# generation\n",
    "wc.generate(str(df['stemmed_text']))\n",
    "\n",
    "plt.figure(figsize=(15,10), facecolor='black')\n",
    "plt.title(\"Words in reviews\", fontsize=40, color='white')\n",
    "plt.imshow(wc, interpolation='bilinear')\n",
    "plt.axis('off')\n",
    "plt.tight_layout(pad=10)"
   ]
  },
  {
   "cell_type": "code",
   "execution_count": null,
   "metadata": {},
   "outputs": [],
   "source": [
    "wc = WordCloud(width=1600, height=800, random_state=42, max_words=1000000)\n",
    "\n",
    "# generation\n",
    "wc.generate(str(df[df['anomaly'] ==1]['stemmed_text']))\n",
    "\n",
    "plt.figure(figsize=(15,10), facecolor='black')\n",
    "plt.title(\"Words in real reviews\", fontsize=40, color='white')\n",
    "plt.imshow(wc, interpolation='bilinear')\n",
    "plt.axis('off')\n",
    "plt.tight_layout(pad=10)"
   ]
  },
  {
   "cell_type": "code",
   "execution_count": null,
   "metadata": {},
   "outputs": [],
   "source": [
    "wc = WordCloud(width=1600, height=800, random_state=42, max_words=1000000)\n",
    "\n",
    "# generation\n",
    "wc.generate(str(df[df['anomaly'] ==-1]['stemmed_text']))\n",
    "\n",
    "plt.figure(figsize=(15,10), facecolor='black')\n",
    "plt.title(\"Words in fake reviews\", fontsize=40, color='white')\n",
    "plt.imshow(wc, interpolation='bilinear')\n",
    "plt.axis('off')\n",
    "plt.tight_layout(pad=10)"
   ]
  },
  {
   "cell_type": "markdown",
   "metadata": {},
   "source": [
    "### 5.2. Interactive plot\n",
    "\n",
    "This plot is based on the data without the fake reviews. "
   ]
  },
  {
   "cell_type": "code",
   "execution_count": 48,
   "metadata": {},
   "outputs": [
    {
     "data": {
      "text/plain": [
       "(24530, 27)"
      ]
     },
     "execution_count": 48,
     "metadata": {},
     "output_type": "execute_result"
    }
   ],
   "source": [
    "df_new = df.drop_duplicates(subset=['name','state','cat_kitchen','cat_type'])\n",
    "df_new.shape"
   ]
  },
  {
   "cell_type": "code",
   "execution_count": 54,
   "metadata": {},
   "outputs": [
    {
     "data": {
      "application/vnd.bokehjs_exec.v0+json": "",
      "text/html": [
       "\n",
       "<script id=\"5802\">\n",
       "  var xhr = new XMLHttpRequest()\n",
       "  xhr.responseType = 'blob';\n",
       "  xhr.open('GET', \"http://localhost:58246/autoload.js?bokeh-autoload-element=5802&bokeh-absolute-url=http://localhost:58246&resources=none\", true);\n",
       "  \n",
       "  xhr.onload = function (event) {\n",
       "    var script = document.createElement('script'),\n",
       "    src = URL.createObjectURL(event.target.response);\n",
       "    script.src = src;\n",
       "    document.body.appendChild(script);\n",
       "  };\n",
       "xhr.send();\n",
       "</script>"
      ]
     },
     "metadata": {
      "application/vnd.bokehjs_exec.v0+json": {
       "server_id": "73a17b43766a4717b5b339091395067c"
      }
     },
     "output_type": "display_data"
    },
    {
     "name": "stderr",
     "output_type": "stream",
     "text": [
      "ERROR:bokeh.server.views.ws:Refusing websocket connection from Origin 'http://localhost:8890';                       use --allow-websocket-origin=localhost:8890 or set BOKEH_ALLOW_WS_ORIGIN=localhost:8890 to permit this; currently we allow origins {'localhost:8888'}\n",
      "WARNING:tornado.access:403 GET /ws (::1) 1.04ms\n"
     ]
    }
   ],
   "source": [
    "def modify_doc(doc):\n",
    "    \n",
    "    def make_dataset(selectedState, selectedKitchen, selectedType, selectedPrice):\n",
    "        df_ = df_new.copy()\n",
    "        df_empty = pd.DataFrame()\n",
    "        if selectedPrice == 'No Preference':  \n",
    "            if selectedState != 'All':\n",
    "                df_ = df_[df_['state_name'] == selectedState]\n",
    "            if selectedKitchen != 'All':\n",
    "                df_ = df_[df_['cat_kitchen'] == selectedKitchen]\n",
    "            if selectedType != 'All':\n",
    "                df_ = df_[df_['cat_type'] == selectedType]\n",
    "        else:\n",
    "            for i, price in enumerate(selectedPrice):\n",
    "                # Subset to the carrier\n",
    "                subset = df_[df_['PriceRange'] == price]\n",
    "                df_empty = df_empty.append(subset)\n",
    "                \n",
    "            if selectedState != 'All':\n",
    "                df_empty = df_empty[df_empty['state_name'] == selectedState]\n",
    "            if selectedKitchen != 'All':\n",
    "                df_empty = df_empty[df_empty['cat_kitchen'] == selectedKitchen]\n",
    "            if selectedType != 'All':\n",
    "                df_empty = df_empty[df_empty['cat_type'] == selectedType]\n",
    "        \n",
    "        if selectedPrice == 'No Preference':\n",
    "            df_ = df_\n",
    "        else:\n",
    "            df_ = df_empty\n",
    "\n",
    "\n",
    "        # Preparing with long/lat coordinates \n",
    "        df_['coordinates'] = list(zip(df_['latitude'], df_['longitude']))\n",
    "        # Obtain list of mercator coordinates\n",
    "        mercators = [x_coord(x, y) for x, y in df_['coordinates'] ]\n",
    "\n",
    "        # Create mercator column in our df\n",
    "        df_['mercator'] = mercators\n",
    "        # Split that column out into two separate columns - mercator_x and mercator_y\n",
    "        df_[['mercator_x', 'mercator_y']] = df_['mercator'].apply(pd.Series)\n",
    "    \n",
    "        #title for the plot  \n",
    "        div_title = Div(text=\"<b> Restaurant matching Preferences: {} </b>\".format(len(df_['name'].unique())),\n",
    "                   style={'font-size': '150%'})\n",
    "        \n",
    "        # Convert dataframe to column data source\n",
    "        return ColumnDataSource(df_), div_title\n",
    "    \n",
    "    def make_plot(source):\n",
    "    \n",
    "        #table in the plot\n",
    "        columns = [\n",
    "            TableColumn(field=\"name\", title=\"Restaurant Name\", width=100),\n",
    "            TableColumn(field=\"stars\", title=\"Stars\", width=50),\n",
    "            TableColumn(field=\"avg_stars\", title=\"Updated Stars\", width=80),\n",
    "            TableColumn(field=\"review_count\", title=\"# of total reviews\", width=100),\n",
    "            TableColumn(field=\"Count\", title=\"Updated # of total reviews\", width=120),\n",
    "            TableColumn(field=\"state_name\", title=\"State\", width=80),\n",
    "            TableColumn(field=\"city\", title=\"City\", width=80),\n",
    "            TableColumn(field=\"cat_kitchen\", title=\"Kitchen\", width=110),\n",
    "            TableColumn(field=\"cat_type\", title=\"Type\", width=100),\n",
    "            TableColumn(field=\"PriceRange\", title=\"Price\", width=60)\n",
    "        ]\n",
    "        table = DataTable(source=source, columns=columns, width=1200, height=200, fit_columns=False)\n",
    "\n",
    "        #Map layout of North America\n",
    "        tooltips = [(\"Restaurant\",\"@name\"), (\"Stars\", \"@stars\")]\n",
    "\n",
    "        p = figure(x_axis_type=\"mercator\", y_axis_type=\"mercator\", \n",
    "               x_axis_label = 'Longitude', y_axis_label = 'Latitude', \n",
    "               tooltips = tooltips, plot_width=500, plot_height=500, \n",
    "               toolbar_location='below', tools=\"pan,wheel_zoom,reset\", \n",
    "                active_scroll='auto')\n",
    "\n",
    "        p.circle(x = 'mercator_x', y = 'mercator_y', color = 'lightblue', source=source, \n",
    "             size=10, fill_alpha = 0.7)\n",
    "\n",
    "        chosentile = get_provider(Vendors.CARTODBPOSITRON)\n",
    "        p.add_tile(chosentile)\n",
    "\n",
    "        return table, p\n",
    "    \n",
    "    # Update maps\n",
    "    def update(attr, old, new):\n",
    "        \n",
    "        # Get the list of carriers for the graph\n",
    "        selectedState = select_state.value\n",
    "        selectedKitchen = select_kitchen.value\n",
    "        selectedType = select_type.value\n",
    "        selectedPrice = [select_price.labels[i] for i in select_price.active]\n",
    "        \n",
    "        # Make a new dataset based on the selected filters and the make_dataset function defined earlier\n",
    "        new_src, div_title = make_dataset(selectedState, selectedKitchen, selectedType, selectedPrice)\n",
    "        # Update the source used in the quad glpyhs\n",
    "        src.data.update(new_src.data)\n",
    "        \n",
    "        layout.children[0] = div_title\n",
    "\n",
    "        \n",
    "    #selection the different filters\n",
    "    div_subtitle = Div(text=\"<i> Filter with the data and find your favorite restaurant </i>\")\n",
    "\n",
    "    # User select: State\n",
    "    div_state = Div(text=\"<b> Select State </b>\")\n",
    "    state = ['All']+df_new['state_name'].unique().tolist()\n",
    "    select_state = Select(options=state, value=state[0]) #by default All is chosen\n",
    "    select_state.on_change('value', update)\n",
    "\n",
    "    # User select: Kitchen\n",
    "    div_kitchen = Div(text=\"<b> Select Kitchen </b>\")\n",
    "    kitchen = ['All']+df_new['cat_kitchen'].unique().tolist()\n",
    "    select_kitchen = Select(options=kitchen, value=kitchen[0]) #by default All is chosen\n",
    "    select_kitchen.on_change('value', update)\n",
    "\n",
    "    # User select: Type\n",
    "    div_type = Div(text=\"<b> Select Type </b>\")\n",
    "    types = ['All']+df_new['cat_type'].unique().tolist()\n",
    "    select_type = Select(options=types, value=types[0]) #by default All is chosen\n",
    "    select_type.on_change('value', update)\n",
    "\n",
    "    # User select : Price Range\n",
    "    div_price = Div(text=\"<b> Select Price </b>\")\n",
    "    price_range = ['$','$$','$$$','$$$$','Unknown']\n",
    "    select_price = CheckboxButtonGroup(labels=price_range, active=[2,3])\n",
    "    select_price.on_change('active', update)\n",
    "    \n",
    "    #initial source and plot\n",
    "    initial_select_price = [select_price.labels[i] for i in select_price.active]\n",
    "    \n",
    "    src, div_title = make_dataset(select_state.value,select_kitchen.value, select_type.value, initial_select_price)\n",
    "    table, p = make_plot(src)\n",
    "\n",
    "    # Combine all controls to get in column\n",
    "    col_tab_plot = row(table, p, height=200, width=1200)\n",
    "    col_filters_1 = column(div_state, select_state, div_kitchen, select_kitchen , width=290)\n",
    "    col_filters_2 = column(div_type, select_type, div_price, select_price, width=290)\n",
    "\n",
    "    # Layout\n",
    "    layout = column(div_title, div_subtitle, col_tab_plot, row(col_filters_1,col_filters_2)) \n",
    "    #it is possible to add multiple col_filters in the row(), you just need to specify it above\n",
    "    doc.add_root(layout)\n",
    "\n",
    "# Set up an application\n",
    "app = Application(FunctionHandler(modify_doc))\n",
    "show(app)"
   ]
  },
  {
   "cell_type": "markdown",
   "metadata": {},
   "source": [
    "## 6. Discussion\n",
    "\n",
    "*Think critically about your creation? What went well? What is still missing? What could be improved? Why?*\n",
    "\n",
    "When thinking about the creation of this analysis of the restaurant dataset from Yelp, a better way to have solved this problem could be to only focus on one state and then do a more in-depth analysis of each restaurant and why they are popular in a specific time of the day and so on. This could also have led to an easier way to detect the fake reviews and see if there is a pattern in the reviews.\n",
    "\n",
    "Overall, the project went well, because the user can understand the dataset without any knowledge of Yelp and get a feeling of where the different restaurants are located, how many reviews there are in each of the three categories that are analysed and inspect when the reviews are given.\n",
    "\n",
    "Throughout this project, different bar charts are presented to the user and where the main score has been a count of the different restaurants, stars, price range, etc. Here other metrics could have been used. Because it was seen that the number of restaurants is varying a lot, some states have above 2000 restaurants and some have 1 restaurant. If the user is not aware of it, it can lead to wrong conclusions. \n",
    "\n",
    "The main goal of this project is to build an interactive plot, where fake reviews are deleted removed. From this interactive plot, the user can pick and select as he/she wants to. Furthermore, some more features could have been added to the plot, i.e. opening hours, parking, median income. \n",
    "Furthermore, it could also have been interesting the look at the median income for the different states/cities, to analyse if there is a pattern between restaurants scores, price range and income level. If one wants to check out income data for North America, then check our reference [8].\n",
    "\n",
    "To sum up, all these reflections can and should be taken into account when working with telling a story from data."
   ]
  },
  {
   "cell_type": "markdown",
   "metadata": {},
   "source": [
    "## 7. Contriutions\n",
    "\n",
    "(Dette er blot et bud)\n",
    "\n",
    "* Data preprocessing and cleaning:\n",
    "* Exploratory data analysis - General Overview:\n",
    "* Exploratory data analysis - Score Overview:\n",
    "* Exploratory data analysis - Price Range:\n",
    "* Exploratory data analysis - Time-based score:\n",
    "* Data Analysis - Anomaly Detection:\n",
    "* Data Analysis - Interactive Bokeh Plot:\n",
    "* Website + GitHub: \n",
    "* Explainer Notebook:"
   ]
  },
  {
   "cell_type": "markdown",
   "metadata": {},
   "source": [
    "## 8. References\n",
    "[1] Yelp Open Dataset. Yelp. (2021). Visited 29-03-2021. Url:https://www.yelp.com/dataset\n",
    "\n",
    "[2] Creating a Shareable Bokeh Dashboard with Binder. Arturo Moncada-Torres. (2019). Visited: 5-5-2021. Url:https://arturomoncadatorres.com/creating-a-shareable-bokeh-dashboard-with-binder/\n",
    "\n",
    "[3] Data Visualization with Bokeh in Python, Part I: Getting Started. Towards Data Science. 2018. Visited 15-4-2021. Url:https://towardsdatascience.com/data-visualization-with-bokeh-in-python-part-one-getting-started-a11655a467d4\n",
    "\n",
    "[4] Data Visualization with Bokeh in Python, Part II: Interactions. Towards Data Science. 2018. Vistited 15-4-2021. Url:https://towardsdatascience.com/data-visualization-with-bokeh-in-python-part-ii-interactions-a4cf994e2512\n",
    "\n",
    "[5] Data Visualization with Bokeh in Python, Part III: Making a Complete Dashboard. Towards Data Science. (2018). Visited 15-4-2021. Url:https://towardsdatascience.com/data-visualization-with-bokeh-in-python-part-iii-a-complete-dashboard-dc6a86aa6e23\n",
    "\n",
    "[6] Discover Your Next Favorite Restaurant — Exploration and Visualization on Yelp Dataset. Towards Data Science. (2020).  Visited 29-03-2021. Url:https://towardsdatascience.com/discover-your-next-favorite-restaurant-exploration-and-visualization-on-yelps-dataset-157d9799123c\n",
    "\n",
    "[7] Segel, Edward & Heer, Jeffrey. (2011). Narrative Visualization: Telling Stories with Data. IEEE transactions on visualization and computer graphics.\n",
    "\n",
    "[8] Explore Census Data. (2021). U.S. Department of Commerce. Visited 10-05-2021. Url:https://data.census.gov/cedsci/\n",
    "\n",
    "[9] Exploring and Visualizing Chicago Transit data using pandas and Bokeh — Part II (intro to Bokeh). (2018). Towards Data Science. Visited 25-04-2021. Url:https://towardsdatascience.com/exploring-and-visualizing-chicago-transit-data-using-pandas-and-bokeh-part-ii-intro-to-bokeh-5dca6c5ced10\n",
    "\n",
    "[10] Percentage fake reviews on Yelp. Visited 10/5-2021. \n",
    "Url: https://rizereviews.com/how-to-spot-fake-yelp-reviews-and-what-to-do-next/\n",
    "\n",
    "[11] Isolation Forest in sklearn. Url: https://scikit-learn.org/stable/modules/generated/sklearn.ensemble.IsolationForest.html"
   ]
  },
  {
   "cell_type": "code",
   "execution_count": null,
   "metadata": {},
   "outputs": [],
   "source": []
  }
 ],
 "metadata": {
  "@webio": {
   "lastCommId": null,
   "lastKernelId": null
  },
  "kernelspec": {
   "display_name": "Python 3",
   "language": "python",
   "name": "python3"
  },
  "language_info": {
   "codemirror_mode": {
    "name": "ipython",
    "version": 3
   },
   "file_extension": ".py",
   "mimetype": "text/x-python",
   "name": "python",
   "nbconvert_exporter": "python",
   "pygments_lexer": "ipython3",
   "version": "3.7.7"
  }
 },
 "nbformat": 4,
 "nbformat_minor": 2
}
