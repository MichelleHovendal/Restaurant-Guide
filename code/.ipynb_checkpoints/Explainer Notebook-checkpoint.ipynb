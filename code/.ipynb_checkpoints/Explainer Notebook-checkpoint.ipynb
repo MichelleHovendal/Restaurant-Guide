{
 "cells": [
  {
   "cell_type": "markdown",
   "metadata": {},
   "source": [
    "# Final Explainer Notebook\n",
    "\n",
    "This notebook is done as part of the final project for 02806 Social Data Analysis and Visualization, Technical University of Denmark.\n",
    "\n",
    "This notebook contains all the code used for the website: https://restaurant-guide.github.io/\n",
    "\n",
    "Please note that this notebook is only rendered with data from 2019-2021, so not the full dataset. This is done, because of GitHub storage limitations. \n",
    "\n",
    "## 1. Motivation\n",
    "### 1.1 Purpose \n",
    "\n",
    "Hvad er aim? jeg har lidt svært ved at se det pt?\n",
    "\n",
    "\n",
    "### 1.2 Data\n",
    "The dataset considered for this project is from Yelp, which is an American company founded in 2004. The idea behind the company is to publish crow-sourced reviews about businesses through their website Yelp.com and mobile app Yelp. In the second quarter of 2019, Yelp has an average of 61.8 million unique visitors through their website, while it was 76.7 million unique visitors in the app. As the internet gets filled with more and more information and the likelihood of the information being false, Yelp can then provides a local platform for people to discover true information. So the dataset from Yelp considers different businesses and not only restaurants, which is the focus of this project. If a restaurant is not part of Yelp, they are not considered in this project. \n",
    "\n",
    "Overall, the Yelp dataset is a subset of Yelp's businesses, reviews and users, which covers 11 metropolitan areas. All the dataset consists of the following information:\n",
    "* 8,635,403 reviews\n",
    "* 160,585 business\n",
    "* 200,000 pictures\n",
    "* 2,189,457 unique users\n",
    "\n",
    "The dataset stretches over a period from 14th of October 2004 to 28th of January 2021. \n",
    "\n",
    "For this project, three of Yelps dataset is used. The main dataset consists of all the different businesses and some attributes explaining opening hours, price range and category. Furthermore, a dataset consisting of all the reviews and when the reviews are given is also used. To detect anomalies in the data, the dataset about the user that has given a review is also used. So to sum up, the following data files were used throughout this project\n",
    "* yelp_academic_dataset_business.json (121.466 KB)\n",
    "* yelp_academic_dataset_review.json (6.774.100 KB)\n",
    "* yelp_academic_dataset_user.json (3.598.150 KB)\n",
    "\n",
    "See reference [1] for the data. \n",
    "\n",
    "## 2. Basic stats. Let's understand the dataset better\n",
    "\n",
    "Before doing data analysis on the dataset, it is key to do some basic statistics on the chosen dataset. Before doing basic statistics, some data cleaning and preprocessing are done.\n",
    "\n",
    "### 2.1 Data cleaning & preprocessing\n",
    "\n",
    "As mentioned in the section about the dataset, there are multiple businesses considered in our dataset. The businesses that do not have the word *Restaurant* in the column `categories` will not be considered. Further, restaurants that are closed have been removed, because it does not make sense to give advice for the user to go to a closed restaurant. \n",
    "To get some useful information from the `categories` column, two new variables are created. The first variable explains the kitchen type of the restaurant, whereas the second variable explains the type of restaurant, i.e. if it is a pizzeria. The list of words for the two variables are presented below\n",
    "\n",
    "* Kitchen type: Thai, Chinese, Japanese, Korean, Indian, American, Caribean, Italian, Mediterranean, Mexican, Cajun, Vietnamese and Greek.\n",
    "* Type: Food, nightlife, bars, sandwiches, pizza, breakfast & brunch, fast food, burgers, salad, buffet, cafes, coffee & tea, vegetarian, steakhouse, sushi bars, diners and wine bars. \n",
    "\n",
    "The data from Yelp also give what state the different restaurants are in but in abbrivations. Hence the full state name and to do some plotting later on where the states are, the states latitude and longitude are also inserted. \n",
    "\n",
    "From merging the three datasets, the shape is `(6.588.460, 27)`, to make with more compatible a shorter time period is considered, namely 1st of January 2014 to 28th of January 2021, which gives a shape of `(5.177.322, 27)`. Remeber that these numbers cannot be compared with the shapes below, since this notebook only covers around two years.\n",
    "\n",
    "See to the full dataprep, please see the python file: `NAME OF FILE`\n",
    "\n",
    "#### Libaries\n",
    "The libraries used for this project are presented below."
   ]
  },
  {
   "cell_type": "code",
   "execution_count": 24,
   "metadata": {},
   "outputs": [
    {
     "data": {
      "text/html": [
       "\n",
       "    <div class=\"bk-root\">\n",
       "        <a href=\"https://bokeh.org\" target=\"_blank\" class=\"bk-logo bk-logo-small bk-logo-notebook\"></a>\n",
       "        <span id=\"1003\">Loading BokehJS ...</span>\n",
       "    </div>"
      ]
     },
     "metadata": {},
     "output_type": "display_data"
    },
    {
     "data": {
      "application/javascript": [
       "\n",
       "(function(root) {\n",
       "  function now() {\n",
       "    return new Date();\n",
       "  }\n",
       "\n",
       "  var force = true;\n",
       "\n",
       "  if (typeof root._bokeh_onload_callbacks === \"undefined\" || force === true) {\n",
       "    root._bokeh_onload_callbacks = [];\n",
       "    root._bokeh_is_loading = undefined;\n",
       "  }\n",
       "\n",
       "  var JS_MIME_TYPE = 'application/javascript';\n",
       "  var HTML_MIME_TYPE = 'text/html';\n",
       "  var EXEC_MIME_TYPE = 'application/vnd.bokehjs_exec.v0+json';\n",
       "  var CLASS_NAME = 'output_bokeh rendered_html';\n",
       "\n",
       "  /**\n",
       "   * Render data to the DOM node\n",
       "   */\n",
       "  function render(props, node) {\n",
       "    var script = document.createElement(\"script\");\n",
       "    node.appendChild(script);\n",
       "  }\n",
       "\n",
       "  /**\n",
       "   * Handle when an output is cleared or removed\n",
       "   */\n",
       "  function handleClearOutput(event, handle) {\n",
       "    var cell = handle.cell;\n",
       "\n",
       "    var id = cell.output_area._bokeh_element_id;\n",
       "    var server_id = cell.output_area._bokeh_server_id;\n",
       "    // Clean up Bokeh references\n",
       "    if (id != null && id in Bokeh.index) {\n",
       "      Bokeh.index[id].model.document.clear();\n",
       "      delete Bokeh.index[id];\n",
       "    }\n",
       "\n",
       "    if (server_id !== undefined) {\n",
       "      // Clean up Bokeh references\n",
       "      var cmd = \"from bokeh.io.state import curstate; print(curstate().uuid_to_server['\" + server_id + \"'].get_sessions()[0].document.roots[0]._id)\";\n",
       "      cell.notebook.kernel.execute(cmd, {\n",
       "        iopub: {\n",
       "          output: function(msg) {\n",
       "            var id = msg.content.text.trim();\n",
       "            if (id in Bokeh.index) {\n",
       "              Bokeh.index[id].model.document.clear();\n",
       "              delete Bokeh.index[id];\n",
       "            }\n",
       "          }\n",
       "        }\n",
       "      });\n",
       "      // Destroy server and session\n",
       "      var cmd = \"import bokeh.io.notebook as ion; ion.destroy_server('\" + server_id + \"')\";\n",
       "      cell.notebook.kernel.execute(cmd);\n",
       "    }\n",
       "  }\n",
       "\n",
       "  /**\n",
       "   * Handle when a new output is added\n",
       "   */\n",
       "  function handleAddOutput(event, handle) {\n",
       "    var output_area = handle.output_area;\n",
       "    var output = handle.output;\n",
       "\n",
       "    // limit handleAddOutput to display_data with EXEC_MIME_TYPE content only\n",
       "    if ((output.output_type != \"display_data\") || (!Object.prototype.hasOwnProperty.call(output.data, EXEC_MIME_TYPE))) {\n",
       "      return\n",
       "    }\n",
       "\n",
       "    var toinsert = output_area.element.find(\".\" + CLASS_NAME.split(' ')[0]);\n",
       "\n",
       "    if (output.metadata[EXEC_MIME_TYPE][\"id\"] !== undefined) {\n",
       "      toinsert[toinsert.length - 1].firstChild.textContent = output.data[JS_MIME_TYPE];\n",
       "      // store reference to embed id on output_area\n",
       "      output_area._bokeh_element_id = output.metadata[EXEC_MIME_TYPE][\"id\"];\n",
       "    }\n",
       "    if (output.metadata[EXEC_MIME_TYPE][\"server_id\"] !== undefined) {\n",
       "      var bk_div = document.createElement(\"div\");\n",
       "      bk_div.innerHTML = output.data[HTML_MIME_TYPE];\n",
       "      var script_attrs = bk_div.children[0].attributes;\n",
       "      for (var i = 0; i < script_attrs.length; i++) {\n",
       "        toinsert[toinsert.length - 1].firstChild.setAttribute(script_attrs[i].name, script_attrs[i].value);\n",
       "        toinsert[toinsert.length - 1].firstChild.textContent = bk_div.children[0].textContent\n",
       "      }\n",
       "      // store reference to server id on output_area\n",
       "      output_area._bokeh_server_id = output.metadata[EXEC_MIME_TYPE][\"server_id\"];\n",
       "    }\n",
       "  }\n",
       "\n",
       "  function register_renderer(events, OutputArea) {\n",
       "\n",
       "    function append_mime(data, metadata, element) {\n",
       "      // create a DOM node to render to\n",
       "      var toinsert = this.create_output_subarea(\n",
       "        metadata,\n",
       "        CLASS_NAME,\n",
       "        EXEC_MIME_TYPE\n",
       "      );\n",
       "      this.keyboard_manager.register_events(toinsert);\n",
       "      // Render to node\n",
       "      var props = {data: data, metadata: metadata[EXEC_MIME_TYPE]};\n",
       "      render(props, toinsert[toinsert.length - 1]);\n",
       "      element.append(toinsert);\n",
       "      return toinsert\n",
       "    }\n",
       "\n",
       "    /* Handle when an output is cleared or removed */\n",
       "    events.on('clear_output.CodeCell', handleClearOutput);\n",
       "    events.on('delete.Cell', handleClearOutput);\n",
       "\n",
       "    /* Handle when a new output is added */\n",
       "    events.on('output_added.OutputArea', handleAddOutput);\n",
       "\n",
       "    /**\n",
       "     * Register the mime type and append_mime function with output_area\n",
       "     */\n",
       "    OutputArea.prototype.register_mime_type(EXEC_MIME_TYPE, append_mime, {\n",
       "      /* Is output safe? */\n",
       "      safe: true,\n",
       "      /* Index of renderer in `output_area.display_order` */\n",
       "      index: 0\n",
       "    });\n",
       "  }\n",
       "\n",
       "  // register the mime type if in Jupyter Notebook environment and previously unregistered\n",
       "  if (root.Jupyter !== undefined) {\n",
       "    var events = require('base/js/events');\n",
       "    var OutputArea = require('notebook/js/outputarea').OutputArea;\n",
       "\n",
       "    if (OutputArea.prototype.mime_types().indexOf(EXEC_MIME_TYPE) == -1) {\n",
       "      register_renderer(events, OutputArea);\n",
       "    }\n",
       "  }\n",
       "\n",
       "  \n",
       "  if (typeof (root._bokeh_timeout) === \"undefined\" || force === true) {\n",
       "    root._bokeh_timeout = Date.now() + 5000;\n",
       "    root._bokeh_failed_load = false;\n",
       "  }\n",
       "\n",
       "  var NB_LOAD_WARNING = {'data': {'text/html':\n",
       "     \"<div style='background-color: #fdd'>\\n\"+\n",
       "     \"<p>\\n\"+\n",
       "     \"BokehJS does not appear to have successfully loaded. If loading BokehJS from CDN, this \\n\"+\n",
       "     \"may be due to a slow or bad network connection. Possible fixes:\\n\"+\n",
       "     \"</p>\\n\"+\n",
       "     \"<ul>\\n\"+\n",
       "     \"<li>re-rerun `output_notebook()` to attempt to load from CDN again, or</li>\\n\"+\n",
       "     \"<li>use INLINE resources instead, as so:</li>\\n\"+\n",
       "     \"</ul>\\n\"+\n",
       "     \"<code>\\n\"+\n",
       "     \"from bokeh.resources import INLINE\\n\"+\n",
       "     \"output_notebook(resources=INLINE)\\n\"+\n",
       "     \"</code>\\n\"+\n",
       "     \"</div>\"}};\n",
       "\n",
       "  function display_loaded() {\n",
       "    var el = document.getElementById(\"1003\");\n",
       "    if (el != null) {\n",
       "      el.textContent = \"BokehJS is loading...\";\n",
       "    }\n",
       "    if (root.Bokeh !== undefined) {\n",
       "      if (el != null) {\n",
       "        el.textContent = \"BokehJS \" + root.Bokeh.version + \" successfully loaded.\";\n",
       "      }\n",
       "    } else if (Date.now() < root._bokeh_timeout) {\n",
       "      setTimeout(display_loaded, 100)\n",
       "    }\n",
       "  }\n",
       "\n",
       "\n",
       "  function run_callbacks() {\n",
       "    try {\n",
       "      root._bokeh_onload_callbacks.forEach(function(callback) {\n",
       "        if (callback != null)\n",
       "          callback();\n",
       "      });\n",
       "    } finally {\n",
       "      delete root._bokeh_onload_callbacks\n",
       "    }\n",
       "    console.debug(\"Bokeh: all callbacks have finished\");\n",
       "  }\n",
       "\n",
       "  function load_libs(css_urls, js_urls, callback) {\n",
       "    if (css_urls == null) css_urls = [];\n",
       "    if (js_urls == null) js_urls = [];\n",
       "\n",
       "    root._bokeh_onload_callbacks.push(callback);\n",
       "    if (root._bokeh_is_loading > 0) {\n",
       "      console.debug(\"Bokeh: BokehJS is being loaded, scheduling callback at\", now());\n",
       "      return null;\n",
       "    }\n",
       "    if (js_urls == null || js_urls.length === 0) {\n",
       "      run_callbacks();\n",
       "      return null;\n",
       "    }\n",
       "    console.debug(\"Bokeh: BokehJS not loaded, scheduling load and callback at\", now());\n",
       "    root._bokeh_is_loading = css_urls.length + js_urls.length;\n",
       "\n",
       "    function on_load() {\n",
       "      root._bokeh_is_loading--;\n",
       "      if (root._bokeh_is_loading === 0) {\n",
       "        console.debug(\"Bokeh: all BokehJS libraries/stylesheets loaded\");\n",
       "        run_callbacks()\n",
       "      }\n",
       "    }\n",
       "\n",
       "    function on_error(url) {\n",
       "      console.error(\"failed to load \" + url);\n",
       "    }\n",
       "\n",
       "    for (let i = 0; i < css_urls.length; i++) {\n",
       "      const url = css_urls[i];\n",
       "      const element = document.createElement(\"link\");\n",
       "      element.onload = on_load;\n",
       "      element.onerror = on_error.bind(null, url);\n",
       "      element.rel = \"stylesheet\";\n",
       "      element.type = \"text/css\";\n",
       "      element.href = url;\n",
       "      console.debug(\"Bokeh: injecting link tag for BokehJS stylesheet: \", url);\n",
       "      document.body.appendChild(element);\n",
       "    }\n",
       "\n",
       "    const hashes = {\"https://cdn.bokeh.org/bokeh/release/bokeh-2.3.1.min.js\": \"YF85VygJKMVnHE+lLv2AM93Vbstr0yo2TbIu5v8se5Rq3UQAUmcuh4aaJwNlpKwa\", \"https://cdn.bokeh.org/bokeh/release/bokeh-widgets-2.3.1.min.js\": \"KKuas3gevv3PvrlkyCMzffFeaMq5we/a2QsP5AUoS3mJ0jmaCL7jirFJN3GoE/lM\", \"https://cdn.bokeh.org/bokeh/release/bokeh-tables-2.3.1.min.js\": \"MK/uFc3YT18pkvvXRl66tTHjP0/dxoSH2e/eiNMFIguKlun2+WVqaPTWmUy/zvh4\"};\n",
       "\n",
       "    for (let i = 0; i < js_urls.length; i++) {\n",
       "      const url = js_urls[i];\n",
       "      const element = document.createElement('script');\n",
       "      element.onload = on_load;\n",
       "      element.onerror = on_error.bind(null, url);\n",
       "      element.async = false;\n",
       "      element.src = url;\n",
       "      if (url in hashes) {\n",
       "        element.crossOrigin = \"anonymous\";\n",
       "        element.integrity = \"sha384-\" + hashes[url];\n",
       "      }\n",
       "      console.debug(\"Bokeh: injecting script tag for BokehJS library: \", url);\n",
       "      document.head.appendChild(element);\n",
       "    }\n",
       "  };\n",
       "\n",
       "  function inject_raw_css(css) {\n",
       "    const element = document.createElement(\"style\");\n",
       "    element.appendChild(document.createTextNode(css));\n",
       "    document.body.appendChild(element);\n",
       "  }\n",
       "\n",
       "  \n",
       "  var js_urls = [\"https://cdn.bokeh.org/bokeh/release/bokeh-2.3.1.min.js\", \"https://cdn.bokeh.org/bokeh/release/bokeh-widgets-2.3.1.min.js\", \"https://cdn.bokeh.org/bokeh/release/bokeh-tables-2.3.1.min.js\"];\n",
       "  var css_urls = [];\n",
       "  \n",
       "\n",
       "  var inline_js = [\n",
       "    function(Bokeh) {\n",
       "      Bokeh.set_log_level(\"info\");\n",
       "    },\n",
       "    function(Bokeh) {\n",
       "    \n",
       "    \n",
       "    }\n",
       "  ];\n",
       "\n",
       "  function run_inline_js() {\n",
       "    \n",
       "    if (root.Bokeh !== undefined || force === true) {\n",
       "      \n",
       "    for (var i = 0; i < inline_js.length; i++) {\n",
       "      inline_js[i].call(root, root.Bokeh);\n",
       "    }\n",
       "    if (force === true) {\n",
       "        display_loaded();\n",
       "      }} else if (Date.now() < root._bokeh_timeout) {\n",
       "      setTimeout(run_inline_js, 100);\n",
       "    } else if (!root._bokeh_failed_load) {\n",
       "      console.log(\"Bokeh: BokehJS failed to load within specified timeout.\");\n",
       "      root._bokeh_failed_load = true;\n",
       "    } else if (force !== true) {\n",
       "      var cell = $(document.getElementById(\"1003\")).parents('.cell').data().cell;\n",
       "      cell.output_area.append_execute_result(NB_LOAD_WARNING)\n",
       "    }\n",
       "\n",
       "  }\n",
       "\n",
       "  if (root._bokeh_is_loading === 0) {\n",
       "    console.debug(\"Bokeh: BokehJS loaded, going straight to plotting\");\n",
       "    run_inline_js();\n",
       "  } else {\n",
       "    load_libs(css_urls, js_urls, function() {\n",
       "      console.debug(\"Bokeh: BokehJS plotting callback run at\", now());\n",
       "      run_inline_js();\n",
       "    });\n",
       "  }\n",
       "}(window));"
      ],
      "application/vnd.bokehjs_load.v0+json": "\n(function(root) {\n  function now() {\n    return new Date();\n  }\n\n  var force = true;\n\n  if (typeof root._bokeh_onload_callbacks === \"undefined\" || force === true) {\n    root._bokeh_onload_callbacks = [];\n    root._bokeh_is_loading = undefined;\n  }\n\n  \n\n  \n  if (typeof (root._bokeh_timeout) === \"undefined\" || force === true) {\n    root._bokeh_timeout = Date.now() + 5000;\n    root._bokeh_failed_load = false;\n  }\n\n  var NB_LOAD_WARNING = {'data': {'text/html':\n     \"<div style='background-color: #fdd'>\\n\"+\n     \"<p>\\n\"+\n     \"BokehJS does not appear to have successfully loaded. If loading BokehJS from CDN, this \\n\"+\n     \"may be due to a slow or bad network connection. Possible fixes:\\n\"+\n     \"</p>\\n\"+\n     \"<ul>\\n\"+\n     \"<li>re-rerun `output_notebook()` to attempt to load from CDN again, or</li>\\n\"+\n     \"<li>use INLINE resources instead, as so:</li>\\n\"+\n     \"</ul>\\n\"+\n     \"<code>\\n\"+\n     \"from bokeh.resources import INLINE\\n\"+\n     \"output_notebook(resources=INLINE)\\n\"+\n     \"</code>\\n\"+\n     \"</div>\"}};\n\n  function display_loaded() {\n    var el = document.getElementById(\"1003\");\n    if (el != null) {\n      el.textContent = \"BokehJS is loading...\";\n    }\n    if (root.Bokeh !== undefined) {\n      if (el != null) {\n        el.textContent = \"BokehJS \" + root.Bokeh.version + \" successfully loaded.\";\n      }\n    } else if (Date.now() < root._bokeh_timeout) {\n      setTimeout(display_loaded, 100)\n    }\n  }\n\n\n  function run_callbacks() {\n    try {\n      root._bokeh_onload_callbacks.forEach(function(callback) {\n        if (callback != null)\n          callback();\n      });\n    } finally {\n      delete root._bokeh_onload_callbacks\n    }\n    console.debug(\"Bokeh: all callbacks have finished\");\n  }\n\n  function load_libs(css_urls, js_urls, callback) {\n    if (css_urls == null) css_urls = [];\n    if (js_urls == null) js_urls = [];\n\n    root._bokeh_onload_callbacks.push(callback);\n    if (root._bokeh_is_loading > 0) {\n      console.debug(\"Bokeh: BokehJS is being loaded, scheduling callback at\", now());\n      return null;\n    }\n    if (js_urls == null || js_urls.length === 0) {\n      run_callbacks();\n      return null;\n    }\n    console.debug(\"Bokeh: BokehJS not loaded, scheduling load and callback at\", now());\n    root._bokeh_is_loading = css_urls.length + js_urls.length;\n\n    function on_load() {\n      root._bokeh_is_loading--;\n      if (root._bokeh_is_loading === 0) {\n        console.debug(\"Bokeh: all BokehJS libraries/stylesheets loaded\");\n        run_callbacks()\n      }\n    }\n\n    function on_error(url) {\n      console.error(\"failed to load \" + url);\n    }\n\n    for (let i = 0; i < css_urls.length; i++) {\n      const url = css_urls[i];\n      const element = document.createElement(\"link\");\n      element.onload = on_load;\n      element.onerror = on_error.bind(null, url);\n      element.rel = \"stylesheet\";\n      element.type = \"text/css\";\n      element.href = url;\n      console.debug(\"Bokeh: injecting link tag for BokehJS stylesheet: \", url);\n      document.body.appendChild(element);\n    }\n\n    const hashes = {\"https://cdn.bokeh.org/bokeh/release/bokeh-2.3.1.min.js\": \"YF85VygJKMVnHE+lLv2AM93Vbstr0yo2TbIu5v8se5Rq3UQAUmcuh4aaJwNlpKwa\", \"https://cdn.bokeh.org/bokeh/release/bokeh-widgets-2.3.1.min.js\": \"KKuas3gevv3PvrlkyCMzffFeaMq5we/a2QsP5AUoS3mJ0jmaCL7jirFJN3GoE/lM\", \"https://cdn.bokeh.org/bokeh/release/bokeh-tables-2.3.1.min.js\": \"MK/uFc3YT18pkvvXRl66tTHjP0/dxoSH2e/eiNMFIguKlun2+WVqaPTWmUy/zvh4\"};\n\n    for (let i = 0; i < js_urls.length; i++) {\n      const url = js_urls[i];\n      const element = document.createElement('script');\n      element.onload = on_load;\n      element.onerror = on_error.bind(null, url);\n      element.async = false;\n      element.src = url;\n      if (url in hashes) {\n        element.crossOrigin = \"anonymous\";\n        element.integrity = \"sha384-\" + hashes[url];\n      }\n      console.debug(\"Bokeh: injecting script tag for BokehJS library: \", url);\n      document.head.appendChild(element);\n    }\n  };\n\n  function inject_raw_css(css) {\n    const element = document.createElement(\"style\");\n    element.appendChild(document.createTextNode(css));\n    document.body.appendChild(element);\n  }\n\n  \n  var js_urls = [\"https://cdn.bokeh.org/bokeh/release/bokeh-2.3.1.min.js\", \"https://cdn.bokeh.org/bokeh/release/bokeh-widgets-2.3.1.min.js\", \"https://cdn.bokeh.org/bokeh/release/bokeh-tables-2.3.1.min.js\"];\n  var css_urls = [];\n  \n\n  var inline_js = [\n    function(Bokeh) {\n      Bokeh.set_log_level(\"info\");\n    },\n    function(Bokeh) {\n    \n    \n    }\n  ];\n\n  function run_inline_js() {\n    \n    if (root.Bokeh !== undefined || force === true) {\n      \n    for (var i = 0; i < inline_js.length; i++) {\n      inline_js[i].call(root, root.Bokeh);\n    }\n    if (force === true) {\n        display_loaded();\n      }} else if (Date.now() < root._bokeh_timeout) {\n      setTimeout(run_inline_js, 100);\n    } else if (!root._bokeh_failed_load) {\n      console.log(\"Bokeh: BokehJS failed to load within specified timeout.\");\n      root._bokeh_failed_load = true;\n    } else if (force !== true) {\n      var cell = $(document.getElementById(\"1003\")).parents('.cell').data().cell;\n      cell.output_area.append_execute_result(NB_LOAD_WARNING)\n    }\n\n  }\n\n  if (root._bokeh_is_loading === 0) {\n    console.debug(\"Bokeh: BokehJS loaded, going straight to plotting\");\n    run_inline_js();\n  } else {\n    load_libs(css_urls, js_urls, function() {\n      console.debug(\"Bokeh: BokehJS plotting callback run at\", now());\n      run_inline_js();\n    });\n  }\n}(window));"
     },
     "metadata": {},
     "output_type": "display_data"
    }
   ],
   "source": [
    "import pandas as pd\n",
    "import numpy as np\n",
    "from functools import reduce\n",
    "import matplotlib.pyplot as plt\n",
    "import os\n",
    "\n",
    "# plot functions\n",
    "import seaborn as sns\n",
    "import matplotlib.pyplot as plt\n",
    "from bokeh.plotting import figure\n",
    "from bokeh.io import show, output_notebook, curdoc, output_file\n",
    "from bokeh.models import ColumnDataSource, FactorRange, Legend, HoverTool, GeoJSONDataSource, \\\n",
    "                        LinearColorMapper, ColorBar, NumeralTickFormatter, Div, Select, TableColumn, \\\n",
    "                        DataTable, CheckboxGroup, Tabs, Panel, CheckboxButtonGroup, RadioButtonGroup\n",
    "from bokeh.application.handlers import FunctionHandler\n",
    "from bokeh.application import Application\n",
    "from bokeh.palettes import Category20c, Pastel1, Set3, Blues\n",
    "from bokeh.layouts import column, row, WidgetBox, gridplot\n",
    "from bokeh.embed import file_html\n",
    "from bokeh.resources import CDN\n",
    "from bokeh.tile_providers import get_provider, Vendors\n",
    "from bokeh.transform import linear_cmap,factor_cmap\n",
    "output_notebook()"
   ]
  },
  {
   "cell_type": "code",
   "execution_count": 2,
   "metadata": {},
   "outputs": [],
   "source": [
    "path = 'C:/Users/Miche/OneDrive - Danmarks Tekniske Universitet/MMC/2. Semester/Social Data/websites/Restaurant-Guide/data'\n",
    "os.chdir(path)"
   ]
  },
  {
   "cell_type": "code",
   "execution_count": 10,
   "metadata": {},
   "outputs": [
    {
     "name": "stdout",
     "output_type": "stream",
     "text": [
      "Index(['business_id', 'name', 'address', 'city', 'state', 'postal_code',\n",
      "       'latitude', 'longitude', 'stars', 'review_count', 'attributes',\n",
      "       'categories', 'hours', 'cat_kitchen', 'cat_type', 'state_name',\n",
      "       'latitude_state', 'longitude_state', 'PriceRange', 'AvgPrice',\n",
      "       'user_id', 'review_stars', 'text', 'date', 'username', 'user_count',\n",
      "       'average_stars'],\n",
      "      dtype='object')\n",
      "shape of dataset (1427833, 27)\n"
     ]
    }
   ],
   "source": [
    "df_2019 = pd.read_csv('yelp_reviews_RV_categories_2019.csv')\n",
    "df_2020 = pd.read_csv('yelp_reviews_RV_categories_2020.csv')\n",
    "\n",
    "df = df_2019.append([df_2020]) #appending the two datasets\n",
    "\n",
    "print(df.columns) #checking our columns\n",
    "print('shape of dataset', df.shape)"
   ]
  },
  {
   "cell_type": "code",
   "execution_count": 4,
   "metadata": {},
   "outputs": [
    {
     "name": "stdout",
     "output_type": "stream",
     "text": [
      "Timeperiod of the dataset\n",
      "2019-01-01 00:00:09\n",
      "2021-01-28 15:23:52\n"
     ]
    }
   ],
   "source": [
    "print('Timeperiod of the dataset')\n",
    "print (df.date.min())\n",
    "print (df.date.max())"
   ]
  },
  {
   "cell_type": "code",
   "execution_count": 5,
   "metadata": {},
   "outputs": [
    {
     "data": {
      "text/html": [
       "<div>\n",
       "<style scoped>\n",
       "    .dataframe tbody tr th:only-of-type {\n",
       "        vertical-align: middle;\n",
       "    }\n",
       "\n",
       "    .dataframe tbody tr th {\n",
       "        vertical-align: top;\n",
       "    }\n",
       "\n",
       "    .dataframe thead th {\n",
       "        text-align: right;\n",
       "    }\n",
       "</style>\n",
       "<table border=\"1\" class=\"dataframe\">\n",
       "  <thead>\n",
       "    <tr style=\"text-align: right;\">\n",
       "      <th></th>\n",
       "      <th>business_id</th>\n",
       "      <th>name</th>\n",
       "      <th>address</th>\n",
       "      <th>city</th>\n",
       "      <th>state</th>\n",
       "      <th>postal_code</th>\n",
       "      <th>latitude</th>\n",
       "      <th>longitude</th>\n",
       "      <th>stars</th>\n",
       "      <th>review_count</th>\n",
       "      <th>...</th>\n",
       "      <th>longitude_state</th>\n",
       "      <th>PriceRange</th>\n",
       "      <th>AvgPrice</th>\n",
       "      <th>user_id</th>\n",
       "      <th>review_stars</th>\n",
       "      <th>text</th>\n",
       "      <th>date</th>\n",
       "      <th>username</th>\n",
       "      <th>user_count</th>\n",
       "      <th>average_stars</th>\n",
       "    </tr>\n",
       "  </thead>\n",
       "  <tbody>\n",
       "    <tr>\n",
       "      <th>0</th>\n",
       "      <td>7bioKzHBPPRdM7-jJQAwkg</td>\n",
       "      <td>Cafe Aion</td>\n",
       "      <td>1235 Pennsylvania Ave</td>\n",
       "      <td>Boulder</td>\n",
       "      <td>CO</td>\n",
       "      <td>80302</td>\n",
       "      <td>40.008789</td>\n",
       "      <td>-105.276503</td>\n",
       "      <td>3.5</td>\n",
       "      <td>144</td>\n",
       "      <td>...</td>\n",
       "      <td>-105.358887</td>\n",
       "      <td>$$</td>\n",
       "      <td>20</td>\n",
       "      <td>eXRC79iX60xwA1UuGRuWNg</td>\n",
       "      <td>4</td>\n",
       "      <td>Best paella I have enjoyed in a long time on a...</td>\n",
       "      <td>2019-09-16 19:26:44</td>\n",
       "      <td>Daniel</td>\n",
       "      <td>376</td>\n",
       "      <td>4.29</td>\n",
       "    </tr>\n",
       "    <tr>\n",
       "      <th>1</th>\n",
       "      <td>7bioKzHBPPRdM7-jJQAwkg</td>\n",
       "      <td>Cafe Aion</td>\n",
       "      <td>1235 Pennsylvania Ave</td>\n",
       "      <td>Boulder</td>\n",
       "      <td>CO</td>\n",
       "      <td>80302</td>\n",
       "      <td>40.008789</td>\n",
       "      <td>-105.276503</td>\n",
       "      <td>3.5</td>\n",
       "      <td>144</td>\n",
       "      <td>...</td>\n",
       "      <td>-105.358887</td>\n",
       "      <td>$$</td>\n",
       "      <td>20</td>\n",
       "      <td>eXRC79iX60xwA1UuGRuWNg</td>\n",
       "      <td>4</td>\n",
       "      <td>Best paella I have enjoyed in a long time on a...</td>\n",
       "      <td>2019-09-16 19:26:44</td>\n",
       "      <td>Daniel</td>\n",
       "      <td>376</td>\n",
       "      <td>4.29</td>\n",
       "    </tr>\n",
       "    <tr>\n",
       "      <th>2</th>\n",
       "      <td>7bioKzHBPPRdM7-jJQAwkg</td>\n",
       "      <td>Cafe Aion</td>\n",
       "      <td>1235 Pennsylvania Ave</td>\n",
       "      <td>Boulder</td>\n",
       "      <td>CO</td>\n",
       "      <td>80302</td>\n",
       "      <td>40.008789</td>\n",
       "      <td>-105.276503</td>\n",
       "      <td>3.5</td>\n",
       "      <td>144</td>\n",
       "      <td>...</td>\n",
       "      <td>-105.358887</td>\n",
       "      <td>$$</td>\n",
       "      <td>20</td>\n",
       "      <td>eXRC79iX60xwA1UuGRuWNg</td>\n",
       "      <td>4</td>\n",
       "      <td>Best paella I have enjoyed in a long time on a...</td>\n",
       "      <td>2019-09-16 19:26:44</td>\n",
       "      <td>Daniel</td>\n",
       "      <td>376</td>\n",
       "      <td>4.29</td>\n",
       "    </tr>\n",
       "  </tbody>\n",
       "</table>\n",
       "<p>3 rows × 27 columns</p>\n",
       "</div>"
      ],
      "text/plain": [
       "              business_id       name                address     city state  \\\n",
       "0  7bioKzHBPPRdM7-jJQAwkg  Cafe Aion  1235 Pennsylvania Ave  Boulder    CO   \n",
       "1  7bioKzHBPPRdM7-jJQAwkg  Cafe Aion  1235 Pennsylvania Ave  Boulder    CO   \n",
       "2  7bioKzHBPPRdM7-jJQAwkg  Cafe Aion  1235 Pennsylvania Ave  Boulder    CO   \n",
       "\n",
       "  postal_code   latitude   longitude  stars  review_count  ...  \\\n",
       "0       80302  40.008789 -105.276503    3.5           144  ...   \n",
       "1       80302  40.008789 -105.276503    3.5           144  ...   \n",
       "2       80302  40.008789 -105.276503    3.5           144  ...   \n",
       "\n",
       "  longitude_state PriceRange AvgPrice                 user_id review_stars  \\\n",
       "0     -105.358887         $$       20  eXRC79iX60xwA1UuGRuWNg            4   \n",
       "1     -105.358887         $$       20  eXRC79iX60xwA1UuGRuWNg            4   \n",
       "2     -105.358887         $$       20  eXRC79iX60xwA1UuGRuWNg            4   \n",
       "\n",
       "                                                text                 date  \\\n",
       "0  Best paella I have enjoyed in a long time on a...  2019-09-16 19:26:44   \n",
       "1  Best paella I have enjoyed in a long time on a...  2019-09-16 19:26:44   \n",
       "2  Best paella I have enjoyed in a long time on a...  2019-09-16 19:26:44   \n",
       "\n",
       "   username user_count  average_stars  \n",
       "0    Daniel        376           4.29  \n",
       "1    Daniel        376           4.29  \n",
       "2    Daniel        376           4.29  \n",
       "\n",
       "[3 rows x 27 columns]"
      ]
     },
     "execution_count": 5,
     "metadata": {},
     "output_type": "execute_result"
    }
   ],
   "source": [
    "df.head(3)"
   ]
  },
  {
   "cell_type": "markdown",
   "metadata": {},
   "source": [
    "Start by checking NaN values"
   ]
  },
  {
   "cell_type": "code",
   "execution_count": 6,
   "metadata": {},
   "outputs": [
    {
     "name": "stdout",
     "output_type": "stream",
     "text": [
      "Any missing values: 13558\n"
     ]
    }
   ],
   "source": [
    "print('Any missing values:', df.isnull().sum().sum())"
   ]
  },
  {
   "cell_type": "markdown",
   "metadata": {},
   "source": [
    "From further analysis, the missing values were in the columns: `hours`,`address` and `username`. Since these are not being used, these can be dropped."
   ]
  },
  {
   "cell_type": "code",
   "execution_count": 7,
   "metadata": {},
   "outputs": [
    {
     "name": "stdout",
     "output_type": "stream",
     "text": [
      "Any missing values: 0\n"
     ]
    }
   ],
   "source": [
    "df = df.drop(['hours','address', 'username'],axis=1) \n",
    "print('Any missing values:', df.isnull().sum().sum())"
   ]
  },
  {
   "cell_type": "markdown",
   "metadata": {},
   "source": [
    "Checking the top categories in different columns"
   ]
  },
  {
   "cell_type": "code",
   "execution_count": 13,
   "metadata": {},
   "outputs": [
    {
     "name": "stdout",
     "output_type": "stream",
     "text": [
      "Top categories in the dataset\n",
      "Restaurants               474516\n",
      "Nightlife                 215142\n",
      "Bars                      210543\n",
      "American (Traditional)    151234\n",
      "Food                      145887\n",
      "American (New)            142120\n",
      "Breakfast & Brunch        103777\n",
      "Cocktail Bars              67327\n",
      "Italian                    60927\n",
      "Seafood                    56583\n",
      "Name: categories, dtype: int64\n",
      "Checking that all rows have the value *Restaurant*: (474516, 27)\n"
     ]
    }
   ],
   "source": [
    "#exploding the dataframe so the categories column is not a list type\n",
    "df_duplicates = df.drop_duplicates(subset=['name','date'])\n",
    "df_explode = df_duplicates.assign(categories = df_duplicates['categories'].str.split(', ')).explode('categories')\n",
    "\n",
    "print('Top categories in the dataset')\n",
    "print(df_explode['categories'].value_counts().head(10))\n",
    "print('Checking that all rows have the value *Restaurant*:', df_duplicates.shape)"
   ]
  },
  {
   "cell_type": "markdown",
   "metadata": {},
   "source": [
    "Making sure that all rows have restaurants in their cateogy, which is true. "
   ]
  },
  {
   "cell_type": "code",
   "execution_count": 14,
   "metadata": {},
   "outputs": [
    {
     "name": "stdout",
     "output_type": "stream",
     "text": [
      "Top categories in the dataset based on our own variables\n",
      "American (New)            402680\n",
      "American (Traditional)    401768\n",
      "Italian                   145842\n",
      "Mexican                   115041\n",
      "Japanese                   92693\n",
      "Mediterranean              38533\n",
      "Latin American             37376\n",
      "Chinese                    34799\n",
      "Thai                       33531\n",
      "Vietnamese                 27448\n",
      "Name: cat_kitchen, dtype: int64\n"
     ]
    }
   ],
   "source": [
    "print('Top categories in the dataset based on our own variables')\n",
    "print(df['cat_kitchen'].value_counts().head(10))"
   ]
  },
  {
   "cell_type": "code",
   "execution_count": 15,
   "metadata": {},
   "outputs": [
    {
     "name": "stdout",
     "output_type": "stream",
     "text": [
      "Top categories in the dataset based on our own variables\n",
      "Nightlife             278677\n",
      "Bars                  272804\n",
      "Food                  187643\n",
      "Breakfast & Brunch    139675\n",
      "Sandwiches             71084\n",
      "Burgers                64662\n",
      "Sushi Bars             57982\n",
      "Pizza                  56752\n",
      "Salad                  50463\n",
      "Wine Bars              40405\n",
      "Name: cat_type, dtype: int64\n"
     ]
    }
   ],
   "source": [
    "print('Top categories in the dataset based on our own variables')\n",
    "print(df['cat_type'].value_counts().head(10))"
   ]
  },
  {
   "cell_type": "code",
   "execution_count": 16,
   "metadata": {},
   "outputs": [
    {
     "name": "stdout",
     "output_type": "stream",
     "text": [
      "Count of the different price ranges\n",
      "$$         1067612\n",
      "$           180525\n",
      "$$$          98665\n",
      "Unknown      72023\n",
      "$$$$          9008\n",
      "Name: PriceRange, dtype: int64\n"
     ]
    }
   ],
   "source": [
    "print('Count of the different price ranges')\n",
    "print(df['PriceRange'].value_counts())"
   ]
  },
  {
   "cell_type": "markdown",
   "metadata": {},
   "source": [
    "Some descriptive statisics for the different variables"
   ]
  },
  {
   "cell_type": "code",
   "execution_count": 17,
   "metadata": {},
   "outputs": [
    {
     "data": {
      "text/html": [
       "<div>\n",
       "<style scoped>\n",
       "    .dataframe tbody tr th:only-of-type {\n",
       "        vertical-align: middle;\n",
       "    }\n",
       "\n",
       "    .dataframe tbody tr th {\n",
       "        vertical-align: top;\n",
       "    }\n",
       "\n",
       "    .dataframe thead th {\n",
       "        text-align: right;\n",
       "    }\n",
       "</style>\n",
       "<table border=\"1\" class=\"dataframe\">\n",
       "  <thead>\n",
       "    <tr style=\"text-align: right;\">\n",
       "      <th></th>\n",
       "      <th>name</th>\n",
       "      <th>city</th>\n",
       "      <th>state</th>\n",
       "      <th>cat_kitchen</th>\n",
       "      <th>cat_type</th>\n",
       "      <th>PriceRange</th>\n",
       "    </tr>\n",
       "  </thead>\n",
       "  <tbody>\n",
       "    <tr>\n",
       "      <th>count</th>\n",
       "      <td>1427833</td>\n",
       "      <td>1427833</td>\n",
       "      <td>1427833</td>\n",
       "      <td>1427833</td>\n",
       "      <td>1427833</td>\n",
       "      <td>1427833</td>\n",
       "    </tr>\n",
       "    <tr>\n",
       "      <th>unique</th>\n",
       "      <td>8552</td>\n",
       "      <td>302</td>\n",
       "      <td>11</td>\n",
       "      <td>16</td>\n",
       "      <td>17</td>\n",
       "      <td>5</td>\n",
       "    </tr>\n",
       "    <tr>\n",
       "      <th>top</th>\n",
       "      <td>Café Tu Tu Tango</td>\n",
       "      <td>Austin</td>\n",
       "      <td>FL</td>\n",
       "      <td>American (New)</td>\n",
       "      <td>Nightlife</td>\n",
       "      <td>$$</td>\n",
       "    </tr>\n",
       "    <tr>\n",
       "      <th>freq</th>\n",
       "      <td>14940</td>\n",
       "      <td>206986</td>\n",
       "      <td>314503</td>\n",
       "      <td>402680</td>\n",
       "      <td>278677</td>\n",
       "      <td>1067612</td>\n",
       "    </tr>\n",
       "  </tbody>\n",
       "</table>\n",
       "</div>"
      ],
      "text/plain": [
       "                    name     city    state     cat_kitchen   cat_type  \\\n",
       "count            1427833  1427833  1427833         1427833    1427833   \n",
       "unique              8552      302       11              16         17   \n",
       "top     Café Tu Tu Tango   Austin       FL  American (New)  Nightlife   \n",
       "freq               14940   206986   314503          402680     278677   \n",
       "\n",
       "       PriceRange  \n",
       "count     1427833  \n",
       "unique          5  \n",
       "top            $$  \n",
       "freq      1067612  "
      ]
     },
     "execution_count": 17,
     "metadata": {},
     "output_type": "execute_result"
    }
   ],
   "source": [
    "variables = ['name','city','state','cat_kitchen','cat_type','PriceRange']\n",
    "df[variables].describe()"
   ]
  },
  {
   "cell_type": "markdown",
   "metadata": {},
   "source": [
    "So there are 11 unique states in the dataset and 302 unique cities."
   ]
  },
  {
   "cell_type": "code",
   "execution_count": 18,
   "metadata": {},
   "outputs": [
    {
     "data": {
      "text/html": [
       "<div>\n",
       "<style scoped>\n",
       "    .dataframe tbody tr th:only-of-type {\n",
       "        vertical-align: middle;\n",
       "    }\n",
       "\n",
       "    .dataframe tbody tr th {\n",
       "        vertical-align: top;\n",
       "    }\n",
       "\n",
       "    .dataframe thead th {\n",
       "        text-align: right;\n",
       "    }\n",
       "</style>\n",
       "<table border=\"1\" class=\"dataframe\">\n",
       "  <thead>\n",
       "    <tr style=\"text-align: right;\">\n",
       "      <th></th>\n",
       "      <th>stars</th>\n",
       "      <th>AvgPrice</th>\n",
       "    </tr>\n",
       "  </thead>\n",
       "  <tbody>\n",
       "    <tr>\n",
       "      <th>count</th>\n",
       "      <td>1427833.00</td>\n",
       "      <td>1427833.00</td>\n",
       "    </tr>\n",
       "    <tr>\n",
       "      <th>mean</th>\n",
       "      <td>3.85</td>\n",
       "      <td>18.66</td>\n",
       "    </tr>\n",
       "    <tr>\n",
       "      <th>std</th>\n",
       "      <td>0.58</td>\n",
       "      <td>11.24</td>\n",
       "    </tr>\n",
       "    <tr>\n",
       "      <th>min</th>\n",
       "      <td>1.00</td>\n",
       "      <td>0.00</td>\n",
       "    </tr>\n",
       "    <tr>\n",
       "      <th>25%</th>\n",
       "      <td>3.50</td>\n",
       "      <td>20.00</td>\n",
       "    </tr>\n",
       "    <tr>\n",
       "      <th>50%</th>\n",
       "      <td>4.00</td>\n",
       "      <td>20.00</td>\n",
       "    </tr>\n",
       "    <tr>\n",
       "      <th>75%</th>\n",
       "      <td>4.00</td>\n",
       "      <td>20.00</td>\n",
       "    </tr>\n",
       "    <tr>\n",
       "      <th>max</th>\n",
       "      <td>5.00</td>\n",
       "      <td>75.00</td>\n",
       "    </tr>\n",
       "  </tbody>\n",
       "</table>\n",
       "</div>"
      ],
      "text/plain": [
       "            stars    AvgPrice\n",
       "count  1427833.00  1427833.00\n",
       "mean         3.85       18.66\n",
       "std          0.58       11.24\n",
       "min          1.00        0.00\n",
       "25%          3.50       20.00\n",
       "50%          4.00       20.00\n",
       "75%          4.00       20.00\n",
       "max          5.00       75.00"
      ]
     },
     "execution_count": 18,
     "metadata": {},
     "output_type": "execute_result"
    }
   ],
   "source": [
    "variables = ['stars', 'AvgPrice']\n",
    "round(df[variables].describe(),2)"
   ]
  },
  {
   "cell_type": "code",
   "execution_count": 19,
   "metadata": {},
   "outputs": [
    {
     "name": "stderr",
     "output_type": "stream",
     "text": [
      "C:\\Users\\Miche\\anaconda3\\lib\\site-packages\\seaborn\\_decorators.py:43: FutureWarning: Pass the following variable as a keyword arg: x. From version 0.12, the only valid positional argument will be `data`, and passing other arguments without an explicit keyword will result in an error or misinterpretation.\n",
      "  FutureWarning\n"
     ]
    },
    {
     "data": {
      "image/png": "[encoded data removed]",
      "text/plain": [
       "<Figure size 720x360 with 1 Axes>"
      ]
     },
     "metadata": {
      "needs_background": "light"
     },
     "output_type": "display_data"
    }
   ],
   "source": [
    "fig = plt.figure(figsize=(10, 5))\n",
    "sns.boxplot(df['stars'], color='#2b8cbe', saturation=0.5)\n",
    "plt.tight_layout(h_pad=2)"
   ]
  },
  {
   "cell_type": "code",
   "execution_count": 20,
   "metadata": {},
   "outputs": [
    {
     "data": {
      "image/png": "[encoded data removed]",
      "text/plain": [
       "<Figure size 720x360 with 1 Axes>"
      ]
     },
     "metadata": {
      "needs_background": "light"
     },
     "output_type": "display_data"
    }
   ],
   "source": [
    "fig = plt.figure(figsize=(10,5))\n",
    "selected = ['stars']\n",
    "plt.title('Stars')\n",
    "sns.boxplot(x='state_name', y='stars', data=df, palette='YlGnBu', saturation=0.5)\n",
    "plt.xticks(rotation=90)\n",
    "plt.tight_layout(h_pad=2)"
   ]
  },
  {
   "cell_type": "markdown",
   "metadata": {},
   "source": [
    "### MAYBE SOME MORE DESCRIPTIVE PLOTS?"
   ]
  },
  {
   "cell_type": "markdown",
   "metadata": {},
   "source": [
    "## 3. Exploratory Data Analysis\n",
    "\n",
    "### 3.1. General Overview of the data\n",
    "\n",
    "Starting out by illustrating the different states and how many restaurants there are in each state."
   ]
  },
  {
   "cell_type": "code",
   "execution_count": 21,
   "metadata": {},
   "outputs": [
    {
     "data": {
      "text/plain": [
       "(8995, 27)"
      ]
     },
     "execution_count": 21,
     "metadata": {},
     "output_type": "execute_result"
    }
   ],
   "source": [
    "restaurants = df.drop_duplicates(subset=['name','state'])\n",
    "restaurant_ = restaurants.groupby(['state_name', 'latitude_state', 'longitude_state']).size().reset_index(name='Counts').sort_values(by='Counts',ascending=False)\n",
    "restaurants.shape"
   ]
  },
  {
   "cell_type": "markdown",
   "metadata": {},
   "source": [
    "Below it used to define the sizes of the circle on our world map. The function is forcing the count values to be between 15 and 50. This is done, because in some states there are above 1000 of restaurants, hence why the circle will fill the whole plot without seeing the map. "
   ]
  },
  {
   "cell_type": "code",
   "execution_count": 22,
   "metadata": {},
   "outputs": [],
   "source": [
    "r_max = max(restaurant_['Counts'])\n",
    "r_min = min(restaurant_['Counts'])\n",
    "t_min = 15\n",
    "t_max = 50\n",
    "\n",
    "restaurant_['Size'] = (restaurant_['Counts'] - r_min)/(r_max - r_min) * (t_max - t_min) + t_min"
   ]
  },
  {
   "cell_type": "markdown",
   "metadata": {},
   "source": [
    "Map over the different states, where we have restaurants"
   ]
  },
  {
   "cell_type": "code",
   "execution_count": 25,
   "metadata": {},
   "outputs": [],
   "source": [
    "# Define function to switch from lat/long to mercator coordinates\n",
    "def x_coord(x, y):\n",
    "    \n",
    "    lat = x\n",
    "    lon = y\n",
    "    \n",
    "    r_major = 6378137.000\n",
    "    x = r_major * np.radians(lon)\n",
    "    scale = x/lon\n",
    "    y = 180.0/np.pi * np.log(np.tan(np.pi/4.0 + \n",
    "        lat * (np.pi/180.0)/2.0)) * scale\n",
    "    return (x, y)\n",
    "# Define coord as tuple (lat,long)\n",
    "restaurants_copy = restaurant_.copy()\n",
    "restaurants_copy['coordinates'] = list(zip(restaurants_copy['latitude_state'], restaurants_copy['longitude_state']))\n",
    "# Obtain list of mercator coordinates\n",
    "mercators = [x_coord(x, y) for x, y in restaurants_copy['coordinates']]\n",
    "\n",
    "# Create mercator column in our df\n",
    "restaurants_copy['mercator'] = mercators\n",
    "# Split that column out into two separate columns - mercator_x and mercator_y\n",
    "restaurants_copy[['mercator_x', 'mercator_y']] = restaurants_copy['mercator'].apply(pd.Series)"
   ]
  },
  {
   "cell_type": "code",
   "execution_count": 28,
   "metadata": {},
   "outputs": [
    {
     "data": {
      "text/html": [
       "\n",
       "\n",
       "\n",
       "\n",
       "\n",
       "\n",
       "  <div class=\"bk-root\" id=\"1cb8a705-63ea-4b2b-8f58-467d5b879594\" data-root-id=\"1117\"></div>\n"
      ]
     },
     "metadata": {},
     "output_type": "display_data"
    },
    {
     "data": {
      "application/javascript": [
       "(function(root) {\n",
       "  function embed_document(root) {\n",
       "    \n",
       "  var docs_json = {\"3da173c4-5ccd-4f81-89c9-c33c75936444\":{\"defs\":[],\"roots\":{\"references\":[{\"attributes\":{\"below\":[{\"id\":\"1128\"}],\"center\":[{\"id\":\"1135\"},{\"id\":\"1143\"}],\"left\":[{\"id\":\"1136\"}],\"renderers\":[{\"id\":\"1160\"},{\"id\":\"1166\"}],\"title\":{\"id\":\"1118\"},\"toolbar\":{\"id\":\"1152\"},\"width\":800,\"x_range\":{\"id\":\"1120\"},\"x_scale\":{\"id\":\"1124\"},\"y_range\":{\"id\":\"1122\"},\"y_scale\":{\"id\":\"1126\"}},\"id\":\"1117\",\"subtype\":\"Figure\",\"type\":\"Plot\"},{\"attributes\":{\"tile_source\":{\"id\":\"1116\"}},\"id\":\"1160\",\"type\":\"TileRenderer\"},{\"attributes\":{},\"id\":\"1182\",\"type\":\"AllLabels\"},{\"attributes\":{\"dimension\":\"lon\"},\"id\":\"1129\",\"type\":\"MercatorTicker\"},{\"attributes\":{},\"id\":\"1187\",\"type\":\"UnionRenderers\"},{\"attributes\":{},\"id\":\"1122\",\"type\":\"DataRange1d\"},{\"attributes\":{\"overlay\":{\"id\":\"1150\"}},\"id\":\"1146\",\"type\":\"BoxZoomTool\"},{\"attributes\":{},\"id\":\"1124\",\"type\":\"LinearScale\"},{\"attributes\":{\"active_multi\":null,\"tools\":[{\"id\":\"1144\"},{\"id\":\"1145\"},{\"id\":\"1146\"},{\"id\":\"1147\"},{\"id\":\"1148\"},{\"id\":\"1149\"},{\"id\":\"1151\"}]},\"id\":\"1152\",\"type\":\"Toolbar\"},{\"attributes\":{\"data_source\":{\"id\":\"1162\"},\"glyph\":{\"id\":\"1164\"},\"hover_glyph\":null,\"muted_glyph\":null,\"nonselection_glyph\":{\"id\":\"1165\"},\"view\":{\"id\":\"1167\"}},\"id\":\"1166\",\"type\":\"GlyphRenderer\"},{\"attributes\":{},\"id\":\"1126\",\"type\":\"LinearScale\"},{\"attributes\":{},\"id\":\"1148\",\"type\":\"ResetTool\"},{\"attributes\":{},\"id\":\"1144\",\"type\":\"PanTool\"},{\"attributes\":{\"bottom_units\":\"screen\",\"fill_alpha\":0.5,\"fill_color\":\"lightgrey\",\"left_units\":\"screen\",\"level\":\"overlay\",\"line_alpha\":1.0,\"line_color\":\"black\",\"line_dash\":[4,4],\"line_width\":2,\"right_units\":\"screen\",\"syncable\":false,\"top_units\":\"screen\"},\"id\":\"1150\",\"type\":\"BoxAnnotation\"},{\"attributes\":{},\"id\":\"1145\",\"type\":\"WheelZoomTool\"},{\"attributes\":{\"callback\":null,\"tooltips\":[[\"State\",\"@state_name\"],[\"Count\",\"@Counts\"]]},\"id\":\"1151\",\"type\":\"HoverTool\"},{\"attributes\":{\"dimension\":\"lon\"},\"id\":\"1131\",\"type\":\"MercatorTickFormatter\"},{\"attributes\":{\"source\":{\"id\":\"1162\"}},\"id\":\"1167\",\"type\":\"CDSView\"},{\"attributes\":{\"text\":\"Number of restaurants in North American\"},\"id\":\"1118\",\"type\":\"Title\"},{\"attributes\":{\"dimension\":\"lat\"},\"id\":\"1139\",\"type\":\"MercatorTickFormatter\"},{\"attributes\":{},\"id\":\"1149\",\"type\":\"HelpTool\"},{\"attributes\":{\"fill_alpha\":{\"value\":0.7},\"fill_color\":{\"value\":\"lightblue\"},\"line_color\":{\"value\":\"lightblue\"},\"size\":{\"field\":\"Size\"},\"x\":{\"field\":\"mercator_x\"},\"y\":{\"field\":\"mercator_y\"}},\"id\":\"1164\",\"type\":\"Circle\"},{\"attributes\":{\"axis\":{\"id\":\"1136\"},\"dimension\":1,\"ticker\":null},\"id\":\"1143\",\"type\":\"Grid\"},{\"attributes\":{\"axis_label\":\"Longitude\",\"formatter\":{\"id\":\"1131\"},\"major_label_policy\":{\"id\":\"1182\"},\"ticker\":{\"id\":\"1129\"}},\"id\":\"1128\",\"type\":\"MercatorAxis\"},{\"attributes\":{\"fill_alpha\":{\"value\":0.1},\"fill_color\":{\"value\":\"lightblue\"},\"line_alpha\":{\"value\":0.1},\"line_color\":{\"value\":\"lightblue\"},\"size\":{\"field\":\"Size\"},\"x\":{\"field\":\"mercator_x\"},\"y\":{\"field\":\"mercator_y\"}},\"id\":\"1165\",\"type\":\"Circle\"},{\"attributes\":{},\"id\":\"1186\",\"type\":\"Selection\"},{\"attributes\":{\"attribution\":\"&copy; <a href=\\\"https://www.openstreetmap.org/copyright\\\">OpenStreetMap</a> contributors,&copy; <a href=\\\"https://cartodb.com/attributions\\\">CartoDB</a>\",\"url\":\"https://tiles.basemaps.cartocdn.com/light_all/{z}/{x}/{y}.png\"},\"id\":\"1116\",\"type\":\"WMTSTileSource\"},{\"attributes\":{\"axis\":{\"id\":\"1128\"},\"ticker\":null},\"id\":\"1135\",\"type\":\"Grid\"},{\"attributes\":{},\"id\":\"1120\",\"type\":\"DataRange1d\"},{\"attributes\":{},\"id\":\"1147\",\"type\":\"SaveTool\"},{\"attributes\":{},\"id\":\"1179\",\"type\":\"AllLabels\"},{\"attributes\":{\"dimension\":\"lat\"},\"id\":\"1137\",\"type\":\"MercatorTicker\"},{\"attributes\":{\"data\":{\"Counts\":[2079,1511,1186,1120,1116,874,776,170,161,1,1],\"Size\":{\"__ndarray__\":\"AAAAAAAASUARhJgbcDdEQFobX6LDekFAULdoOXnsQEDzeiOQ2eNAQKVtjR48tD1Aud9MuKwNPEDobFpfs9gxQELdouXksTFAAAAAAAAALkAAAAAAAAAuQA==\",\"dtype\":\"float64\",\"order\":\"little\",\"shape\":[11]},\"coordinates\":[[42.407211,-71.382439],[27.994402,-81.760254],[44.0,-120.5],[33.247875,-83.441162],[53.726669,-127.647621],[31.0,-100.0],[40.367474,-82.996216],[47.751076,-120.740135],[39.113014,-105.358887],[38.5,-98.0],[37.839333,-84.27002]],\"index\":[6,2,8,3,0,9,7,10,1,4,5],\"latitude_state\":{\"__ndarray__\":\"JclzfR80RUC2EyUhkf47QAAAAAAAAEZAfT81XrqfQEAuAmN9A91KQAAAAAAAAD9ArhBWYwkvREC+ZyRCI+BHQL3+JD53jkNAAAAAAABAQ0APuoRDb+tCQA==\",\"dtype\":\"float64\",\"order\":\"little\",\"shape\":[11]},\"longitude_state\":{\"__ndarray__\":\"wm1t4XnYUcDOqWQAqHBUwAAAAAAAIF7AO4+K/zvcVMD7zFmfculfwAAAAAAAAFnAIPDAAMK/VMD/5zBfXi9ewGn9LQH4VlrAAAAAAACAWMAFUfcBSBFVwA==\",\"dtype\":\"float64\",\"order\":\"little\",\"shape\":[11]},\"mercator\":[[-7946256.761061912,5222174.205138603],[-9101509.84240871,3248268.0282565975],[-13413998.640589466,5465442.183322754],[-9288627.66503905,3928251.6314549968],[-14209668.170692775,7118559.6876617335],[-11131949.079327356,3632749.143384427],[-9239096.502888545,4919487.17752223],[-13440730.346511107,6065542.2099071],[-11728497.65138605,4737872.811227995],[-10909310.09774081,4650301.836738959],[-9380895.71553898,4556753.751157563]],\"mercator_x\":{\"__ndarray__\":\"Bj21MARQXsEcA/W6GFxhwXu1f9TNlWnB+f9HdXa3YcGyUHaFUBprwYbZiaKFO2XBuKkXEEefYcF2nhZL26JpwY8n2DTOXmbBVrEgw8/OZMEBsuX2g+RhwQ==\",\"dtype\":\"float64\",\"order\":\"little\",\"shape\":[11]},\"mercator_y\":{\"__ndarray__\":\"qv0gjcfrU0GF6Z0DRshIQVyPu4tY2VRBcITT0F34TUFcpgLstydbQcBrWpI2t0tBM4Zcyy/EUkEwHm+NYSNXQdMo6zPUElJBkCGNdU+9UUEs9xJw9GFRQQ==\",\"dtype\":\"float64\",\"order\":\"little\",\"shape\":[11]},\"state_name\":[\"Massachusetts\",\"Florida\",\"Oregon\",\"Georgia\",\"British Columbia\",\"Texas\",\"Ohio\",\"Washington\",\"Colorado\",\"Kansas\",\"Kentucky\"]},\"selected\":{\"id\":\"1186\"},\"selection_policy\":{\"id\":\"1187\"}},\"id\":\"1162\",\"type\":\"ColumnDataSource\"},{\"attributes\":{\"axis_label\":\"Latitude\",\"formatter\":{\"id\":\"1139\"},\"major_label_policy\":{\"id\":\"1179\"},\"ticker\":{\"id\":\"1137\"}},\"id\":\"1136\",\"type\":\"MercatorAxis\"}],\"root_ids\":[\"1117\"]},\"title\":\"Bokeh Application\",\"version\":\"2.3.1\"}};\n",
       "  var render_items = [{\"docid\":\"3da173c4-5ccd-4f81-89c9-c33c75936444\",\"root_ids\":[\"1117\"],\"roots\":{\"1117\":\"1cb8a705-63ea-4b2b-8f58-467d5b879594\"}}];\n",
       "  root.Bokeh.embed.embed_items_notebook(docs_json, render_items);\n",
       "\n",
       "  }\n",
       "  if (root.Bokeh !== undefined) {\n",
       "    embed_document(root);\n",
       "  } else {\n",
       "    var attempts = 0;\n",
       "    var timer = setInterval(function(root) {\n",
       "      if (root.Bokeh !== undefined) {\n",
       "        clearInterval(timer);\n",
       "        embed_document(root);\n",
       "      } else {\n",
       "        attempts++;\n",
       "        if (attempts > 100) {\n",
       "          clearInterval(timer);\n",
       "          console.log(\"Bokeh: ERROR: Unable to run BokehJS code because BokehJS library is missing\");\n",
       "        }\n",
       "      }\n",
       "    }, 10, root)\n",
       "  }\n",
       "})(window);"
      ],
      "application/vnd.bokehjs_exec.v0+json": ""
     },
     "metadata": {
      "application/vnd.bokehjs_exec.v0+json": {
       "id": "1117"
      }
     },
     "output_type": "display_data"
    }
   ],
   "source": [
    "# Select tile set to use\n",
    "chosentile = get_provider(Vendors.CARTODBPOSITRON)\n",
    "\n",
    "tooltips = [(\"State\",\"@state_name\"), (\"Count\", \"@Counts\")]\n",
    "\n",
    "counts = restaurants_copy['Counts'].to_list()\n",
    "\n",
    "p = figure(title = 'Number of restaurants in North American', \n",
    "           x_axis_type=\"mercator\", y_axis_type=\"mercator\", \n",
    "           x_axis_label = 'Longitude', y_axis_label = 'Latitude', \n",
    "           tooltips = tooltips, plot_width=800, plot_height=600)\n",
    "\n",
    "p.add_tile(chosentile)\n",
    "\n",
    "p.circle(x = 'mercator_x', y = 'mercator_y', color = 'lightblue', source=restaurants_copy, \n",
    "         size='Size', fill_alpha = 0.7)\n",
    "show(p)\n",
    "html = file_html(p, CDN, \"North America - Map\")\n",
    "# print(html)"
   ]
  },
  {
   "cell_type": "markdown",
   "metadata": {},
   "source": [
    "General bar charts over the three main variables, state, kitchen and type."
   ]
  },
  {
   "cell_type": "code",
   "execution_count": 29,
   "metadata": {},
   "outputs": [],
   "source": [
    "group_state_ = restaurants.groupby(['cat_kitchen']).size().reset_index(name='Counts')\n",
    "group_state_['Type'] = group_state_['cat_kitchen'].astype(str)\n",
    "df_dict_ = group_state_.to_dict('list')\n",
    "\n",
    "group_state__ = restaurants.groupby(['cat_type']).size().reset_index(name='Counts')\n",
    "group_state__['Type'] = group_state__['cat_type'].astype(str)\n",
    "df_dict__ = group_state__.to_dict('list')\n",
    "\n",
    "group_state = restaurants.groupby(['state_name']).size().reset_index(name='Counts')\n",
    "group_state['state'] = group_state['state_name'].astype(str)\n",
    "df_dict = group_state.to_dict('list')"
   ]
  },
  {
   "cell_type": "code",
   "execution_count": 30,
   "metadata": {},
   "outputs": [],
   "source": [
    "title = 'Count of restaurants by State'\n",
    "xlabel = 'State'\n",
    "range_x = group_state.state.unique().tolist()\n",
    "\n",
    "plot1 = figure(x_range=FactorRange(factors=range_x), y_range=(0,2500), plot_width=800, plot_height=500,\n",
    "               x_axis_label=xlabel, toolbar_location=None, title=title)\n",
    "plot1.vbar(x='state_name', width=0.7, bottom=0,\n",
    "           top='Counts', source=df_dict, color='lightblue')\n",
    "\n",
    "# hover tool\n",
    "plot1.add_tools(HoverTool(tooltips=[('Count', \"@Counts{1}\")]))\n",
    "\n",
    "# axis ticks\n",
    "plot1.xaxis.major_tick_line_color = None \n",
    "plot1.xaxis.minor_tick_line_color = None \n",
    "plot1.yaxis.major_tick_line_color = None  \n",
    "plot1.yaxis.minor_tick_line_color = None  \n",
    "plot1.title.text_font_size = '13pt'\n",
    "plot1.title.align = 'center'\n",
    "\n",
    "# show(plot1)"
   ]
  },
  {
   "cell_type": "code",
   "execution_count": 31,
   "metadata": {},
   "outputs": [],
   "source": [
    "title = 'Count of restaurants by Kitchen'\n",
    "range_x = group_state_['cat_kitchen'].unique().tolist()\n",
    "xlabel = 'Kitchen type'\n",
    "\n",
    "plot2 = figure(x_range=FactorRange(factors=range_x),y_range=(0,2500),  plot_width=800, plot_height=500,\n",
    "               x_axis_label=xlabel, toolbar_location=None, title=title)\n",
    "plot2.vbar(x='Type', width=0.7, bottom=0,\n",
    "           top='Counts', source=df_dict_, color='lightblue')\n",
    "\n",
    "# hover tool\n",
    "plot2.add_tools(HoverTool(tooltips=[('Count', \"@Counts\")]))\n",
    "\n",
    "# axis ticks\n",
    "plot2.xaxis.major_tick_line_color = None \n",
    "plot2.xaxis.minor_tick_line_color = None \n",
    "plot2.yaxis.major_tick_line_color = None  \n",
    "plot2.yaxis.minor_tick_line_color = None  \n",
    "plot2.xaxis.major_label_orientation = \"vertical\"\n",
    "plot2.title.text_font_size = '13pt'\n",
    "plot2.title.align = 'center'\n",
    "\n",
    "# show(plot2)"
   ]
  },
  {
   "cell_type": "code",
   "execution_count": 32,
   "metadata": {},
   "outputs": [],
   "source": [
    "title = 'Count of restaurants by Type'\n",
    "range_x = group_state__['cat_type'].unique().tolist()\n",
    "xlabel = 'Types'\n",
    "\n",
    "plot3 = figure(x_range=FactorRange(factors=range_x), y_range=(0,2500), plot_width=600, plot_height=500,\n",
    "               x_axis_label=xlabel, toolbar_location=None, title=title)\n",
    "plot3.vbar(x='Type', width=0.7, bottom=0,\n",
    "           top='Counts', source=df_dict__, color='lightblue')\n",
    "\n",
    "# hover tool\n",
    "plot3.add_tools(HoverTool(tooltips=[('Count', \"@Counts\")]))\n",
    "\n",
    "# axis ticks\n",
    "plot3.xaxis.major_tick_line_color = None \n",
    "plot3.xaxis.minor_tick_line_color = None \n",
    "plot3.yaxis.major_tick_line_color = None  \n",
    "plot3.yaxis.minor_tick_line_color = None  \n",
    "plot3.xaxis.major_label_orientation = \"vertical\"\n",
    "plot3.title.text_font_size = '13pt'\n",
    "plot3.title.align = 'center'\n",
    "\n",
    "# show(plot3)"
   ]
  },
  {
   "cell_type": "code",
   "execution_count": 33,
   "metadata": {},
   "outputs": [
    {
     "data": {
      "text/html": [
       "\n",
       "\n",
       "\n",
       "\n",
       "\n",
       "\n",
       "  <div class=\"bk-root\" id=\"0fe61046-f197-43d7-8b63-d2ef25aac2b0\" data-root-id=\"1472\"></div>\n"
      ]
     },
     "metadata": {},
     "output_type": "display_data"
    },
    {
     "data": {
      "application/javascript": [
       "(function(root) {\n",
       "  function embed_document(root) {\n",
       "    \n",
       "  var docs_json = {\"dabc5007-ad97-458a-9789-ca0366c41458\":{\"defs\":[],\"roots\":{\"references\":[{\"attributes\":{\"tabs\":[{\"id\":\"1469\"},{\"id\":\"1470\"},{\"id\":\"1471\"}]},\"id\":\"1472\",\"type\":\"Tabs\"},{\"attributes\":{},\"id\":\"1450\",\"type\":\"SaveTool\"},{\"attributes\":{},\"id\":\"1447\",\"type\":\"PanTool\"},{\"attributes\":{\"fill_alpha\":{\"value\":0.1},\"fill_color\":{\"value\":\"lightblue\"},\"line_alpha\":{\"value\":0.1},\"line_color\":{\"value\":\"lightblue\"},\"top\":{\"field\":\"Counts\"},\"width\":{\"value\":0.7},\"x\":{\"field\":\"state_name\"}},\"id\":\"1384\",\"type\":\"VBar\"},{\"attributes\":{},\"id\":\"1441\",\"type\":\"CategoricalTicker\"},{\"attributes\":{\"overlay\":{\"id\":\"1453\"}},\"id\":\"1449\",\"type\":\"BoxZoomTool\"},{\"attributes\":{\"fill_color\":{\"value\":\"lightblue\"},\"line_color\":{\"value\":\"lightblue\"},\"top\":{\"field\":\"Counts\"},\"width\":{\"value\":0.7},\"x\":{\"field\":\"state_name\"}},\"id\":\"1383\",\"type\":\"VBar\"},{\"attributes\":{\"factors\":[\"British Columbia\",\"Colorado\",\"Florida\",\"Georgia\",\"Kansas\",\"Kentucky\",\"Massachusetts\",\"Ohio\",\"Oregon\",\"Texas\",\"Washington\"]},\"id\":\"1349\",\"type\":\"FactorRange\"},{\"attributes\":{},\"id\":\"1438\",\"type\":\"LinearScale\"},{\"attributes\":{\"end\":2500},\"id\":\"1354\",\"type\":\"Range1d\"},{\"attributes\":{\"axis\":{\"id\":\"1360\"},\"ticker\":null},\"id\":\"1362\",\"type\":\"Grid\"},{\"attributes\":{},\"id\":\"1436\",\"type\":\"CategoricalScale\"},{\"attributes\":{\"source\":{\"id\":\"1461\"}},\"id\":\"1466\",\"type\":\"CDSView\"},{\"attributes\":{\"align\":\"center\",\"text\":\"Count of restaurants by State\",\"text_font_size\":\"13pt\"},\"id\":\"1351\",\"type\":\"Title\"},{\"attributes\":{\"align\":\"center\",\"text\":\"Count of restaurants by Type\",\"text_font_size\":\"13pt\"},\"id\":\"1431\",\"type\":\"Title\"},{\"attributes\":{\"end\":2500},\"id\":\"1434\",\"type\":\"Range1d\"},{\"attributes\":{\"below\":[{\"id\":\"1440\"}],\"center\":[{\"id\":\"1442\"},{\"id\":\"1446\"}],\"height\":500,\"left\":[{\"id\":\"1443\"}],\"renderers\":[{\"id\":\"1465\"}],\"title\":{\"id\":\"1431\"},\"toolbar\":{\"id\":\"1454\"},\"toolbar_location\":null,\"width\":800,\"x_range\":{\"id\":\"1429\"},\"x_scale\":{\"id\":\"1436\"},\"y_range\":{\"id\":\"1434\"},\"y_scale\":{\"id\":\"1438\"}},\"id\":\"1430\",\"subtype\":\"Figure\",\"type\":\"Plot\"},{\"attributes\":{\"axis_label\":\"State\",\"formatter\":{\"id\":\"1501\"},\"major_label_policy\":{\"id\":\"1499\"},\"major_tick_line_color\":null,\"minor_tick_line_color\":null,\"ticker\":{\"id\":\"1361\"}},\"id\":\"1360\",\"type\":\"CategoricalAxis\"},{\"attributes\":{\"factors\":[\"Bars\",\"Breakfast & Brunch\",\"Buffets\",\"Burgers\",\"Cafes\",\"Coffee & Tea\",\"Diners\",\"Fast Food\",\"Food\",\"Nightlife\",\"Pizza\",\"Salad\",\"Sandwiches\",\"Steakhouses\",\"Sushi Bars\",\"Vegetarian\",\"Wine Bars\"]},\"id\":\"1429\",\"type\":\"FactorRange\"},{\"attributes\":{},\"id\":\"1448\",\"type\":\"WheelZoomTool\"},{\"attributes\":{},\"id\":\"1356\",\"type\":\"CategoricalScale\"},{\"attributes\":{},\"id\":\"1358\",\"type\":\"LinearScale\"},{\"attributes\":{\"active_multi\":null,\"tools\":[{\"id\":\"1367\"},{\"id\":\"1368\"},{\"id\":\"1369\"},{\"id\":\"1370\"},{\"id\":\"1371\"},{\"id\":\"1372\"},{\"id\":\"1387\"}]},\"id\":\"1374\",\"type\":\"Toolbar\"},{\"attributes\":{},\"id\":\"1513\",\"type\":\"CategoricalTickFormatter\"},{\"attributes\":{},\"id\":\"1518\",\"type\":\"Selection\"},{\"attributes\":{},\"id\":\"1361\",\"type\":\"CategoricalTicker\"},{\"attributes\":{\"axis\":{\"id\":\"1363\"},\"dimension\":1,\"ticker\":null},\"id\":\"1366\",\"type\":\"Grid\"},{\"attributes\":{},\"id\":\"1452\",\"type\":\"HelpTool\"},{\"attributes\":{\"formatter\":{\"id\":\"1510\"},\"major_label_policy\":{\"id\":\"1508\"},\"major_tick_line_color\":null,\"minor_tick_line_color\":null,\"ticker\":{\"id\":\"1444\"}},\"id\":\"1443\",\"type\":\"LinearAxis\"},{\"attributes\":{},\"id\":\"1510\",\"type\":\"BasicTickFormatter\"},{\"attributes\":{\"fill_color\":{\"value\":\"lightblue\"},\"line_color\":{\"value\":\"lightblue\"},\"top\":{\"field\":\"Counts\"},\"width\":{\"value\":0.7},\"x\":{\"field\":\"Type\"}},\"id\":\"1463\",\"type\":\"VBar\"},{\"attributes\":{},\"id\":\"1511\",\"type\":\"AllLabels\"},{\"attributes\":{\"bottom_units\":\"screen\",\"fill_alpha\":0.5,\"fill_color\":\"lightgrey\",\"left_units\":\"screen\",\"level\":\"overlay\",\"line_alpha\":1.0,\"line_color\":\"black\",\"line_dash\":[4,4],\"line_width\":2,\"right_units\":\"screen\",\"syncable\":false,\"top_units\":\"screen\"},\"id\":\"1373\",\"type\":\"BoxAnnotation\"},{\"attributes\":{},\"id\":\"1508\",\"type\":\"AllLabels\"},{\"attributes\":{\"data_source\":{\"id\":\"1381\"},\"glyph\":{\"id\":\"1383\"},\"hover_glyph\":null,\"muted_glyph\":null,\"nonselection_glyph\":{\"id\":\"1384\"},\"view\":{\"id\":\"1386\"}},\"id\":\"1385\",\"type\":\"GlyphRenderer\"},{\"attributes\":{},\"id\":\"1507\",\"type\":\"CategoricalTickFormatter\"},{\"attributes\":{},\"id\":\"1502\",\"type\":\"AllLabels\"},{\"attributes\":{\"data_source\":{\"id\":\"1461\"},\"glyph\":{\"id\":\"1463\"},\"hover_glyph\":null,\"muted_glyph\":null,\"nonselection_glyph\":{\"id\":\"1464\"},\"view\":{\"id\":\"1466\"}},\"id\":\"1465\",\"type\":\"GlyphRenderer\"},{\"attributes\":{\"axis_label\":\"Types\",\"formatter\":{\"id\":\"1513\"},\"major_label_orientation\":\"vertical\",\"major_label_policy\":{\"id\":\"1511\"},\"major_tick_line_color\":null,\"minor_tick_line_color\":null,\"ticker\":{\"id\":\"1441\"}},\"id\":\"1440\",\"type\":\"CategoricalAxis\"},{\"attributes\":{\"fill_alpha\":{\"value\":0.1},\"fill_color\":{\"value\":\"lightblue\"},\"line_alpha\":{\"value\":0.1},\"line_color\":{\"value\":\"lightblue\"},\"top\":{\"field\":\"Counts\"},\"width\":{\"value\":0.7},\"x\":{\"field\":\"Type\"}},\"id\":\"1464\",\"type\":\"VBar\"},{\"attributes\":{},\"id\":\"1505\",\"type\":\"AllLabels\"},{\"attributes\":{},\"id\":\"1504\",\"type\":\"BasicTickFormatter\"},{\"attributes\":{\"overlay\":{\"id\":\"1373\"}},\"id\":\"1369\",\"type\":\"BoxZoomTool\"},{\"attributes\":{\"axis_label\":\"Kitchen type\",\"formatter\":{\"id\":\"1507\"},\"major_label_orientation\":\"vertical\",\"major_label_policy\":{\"id\":\"1505\"},\"major_tick_line_color\":null,\"minor_tick_line_color\":null,\"ticker\":{\"id\":\"1401\"}},\"id\":\"1400\",\"type\":\"CategoricalAxis\"},{\"attributes\":{},\"id\":\"1367\",\"type\":\"PanTool\"},{\"attributes\":{},\"id\":\"1498\",\"type\":\"BasicTickFormatter\"},{\"attributes\":{\"callback\":null,\"tooltips\":[[\"Count\",\"@Counts{1}\"]]},\"id\":\"1387\",\"type\":\"HoverTool\"},{\"attributes\":{\"bottom_units\":\"screen\",\"fill_alpha\":0.5,\"fill_color\":\"lightgrey\",\"left_units\":\"screen\",\"level\":\"overlay\",\"line_alpha\":1.0,\"line_color\":\"black\",\"line_dash\":[4,4],\"line_width\":2,\"right_units\":\"screen\",\"syncable\":false,\"top_units\":\"screen\"},\"id\":\"1453\",\"type\":\"BoxAnnotation\"},{\"attributes\":{},\"id\":\"1370\",\"type\":\"SaveTool\"},{\"attributes\":{},\"id\":\"1519\",\"type\":\"UnionRenderers\"},{\"attributes\":{\"data_source\":{\"id\":\"1421\"},\"glyph\":{\"id\":\"1423\"},\"hover_glyph\":null,\"muted_glyph\":null,\"nonselection_glyph\":{\"id\":\"1424\"},\"view\":{\"id\":\"1426\"}},\"id\":\"1425\",\"type\":\"GlyphRenderer\"},{\"attributes\":{},\"id\":\"1371\",\"type\":\"ResetTool\"},{\"attributes\":{},\"id\":\"1407\",\"type\":\"PanTool\"},{\"attributes\":{\"fill_alpha\":{\"value\":0.1},\"fill_color\":{\"value\":\"lightblue\"},\"line_alpha\":{\"value\":0.1},\"line_color\":{\"value\":\"lightblue\"},\"top\":{\"field\":\"Counts\"},\"width\":{\"value\":0.7},\"x\":{\"field\":\"Type\"}},\"id\":\"1424\",\"type\":\"VBar\"},{\"attributes\":{\"factors\":[\"American (New)\",\"American (Traditional)\",\"Cajun/Creole\",\"Caribbean\",\"Chinese\",\"Greek\",\"Indian\",\"Italian\",\"Japanese\",\"Korean\",\"Latin American\",\"Mediterranean\",\"Mexican\",\"New Mexican Cuisine\",\"Thai\",\"Vietnamese\"]},\"id\":\"1389\",\"type\":\"FactorRange\"},{\"attributes\":{},\"id\":\"1404\",\"type\":\"BasicTicker\"},{\"attributes\":{\"formatter\":{\"id\":\"1498\"},\"major_label_policy\":{\"id\":\"1496\"},\"major_tick_line_color\":null,\"minor_tick_line_color\":null,\"ticker\":{\"id\":\"1364\"}},\"id\":\"1363\",\"type\":\"LinearAxis\"},{\"attributes\":{},\"id\":\"1398\",\"type\":\"LinearScale\"},{\"attributes\":{},\"id\":\"1368\",\"type\":\"WheelZoomTool\"},{\"attributes\":{\"source\":{\"id\":\"1421\"}},\"id\":\"1426\",\"type\":\"CDSView\"},{\"attributes\":{},\"id\":\"1372\",\"type\":\"HelpTool\"},{\"attributes\":{\"source\":{\"id\":\"1381\"}},\"id\":\"1386\",\"type\":\"CDSView\"},{\"attributes\":{\"align\":\"center\",\"text\":\"Count of restaurants by Kitchen\",\"text_font_size\":\"13pt\"},\"id\":\"1391\",\"type\":\"Title\"},{\"attributes\":{},\"id\":\"1444\",\"type\":\"BasicTicker\"},{\"attributes\":{\"callback\":null,\"tooltips\":[[\"Count\",\"@Counts\"]]},\"id\":\"1427\",\"type\":\"HoverTool\"},{\"attributes\":{},\"id\":\"1451\",\"type\":\"ResetTool\"},{\"attributes\":{\"active_multi\":null,\"tools\":[{\"id\":\"1407\"},{\"id\":\"1408\"},{\"id\":\"1409\"},{\"id\":\"1410\"},{\"id\":\"1411\"},{\"id\":\"1412\"},{\"id\":\"1427\"}]},\"id\":\"1414\",\"type\":\"Toolbar\"},{\"attributes\":{},\"id\":\"1501\",\"type\":\"CategoricalTickFormatter\"},{\"attributes\":{\"active_multi\":null,\"tools\":[{\"id\":\"1447\"},{\"id\":\"1448\"},{\"id\":\"1449\"},{\"id\":\"1450\"},{\"id\":\"1451\"},{\"id\":\"1452\"},{\"id\":\"1467\"}]},\"id\":\"1454\",\"type\":\"Toolbar\"},{\"attributes\":{\"child\":{\"id\":\"1430\"},\"title\":\"Count of restaurants by Type\"},\"id\":\"1471\",\"type\":\"Panel\"},{\"attributes\":{\"below\":[{\"id\":\"1360\"}],\"center\":[{\"id\":\"1362\"},{\"id\":\"1366\"}],\"height\":500,\"left\":[{\"id\":\"1363\"}],\"renderers\":[{\"id\":\"1385\"}],\"title\":{\"id\":\"1351\"},\"toolbar\":{\"id\":\"1374\"},\"toolbar_location\":null,\"width\":800,\"x_range\":{\"id\":\"1349\"},\"x_scale\":{\"id\":\"1356\"},\"y_range\":{\"id\":\"1354\"},\"y_scale\":{\"id\":\"1358\"}},\"id\":\"1350\",\"subtype\":\"Figure\",\"type\":\"Plot\"},{\"attributes\":{\"callback\":null,\"tooltips\":[[\"Count\",\"@Counts\"]]},\"id\":\"1467\",\"type\":\"HoverTool\"},{\"attributes\":{\"formatter\":{\"id\":\"1504\"},\"major_label_policy\":{\"id\":\"1502\"},\"major_tick_line_color\":null,\"minor_tick_line_color\":null,\"ticker\":{\"id\":\"1404\"}},\"id\":\"1403\",\"type\":\"LinearAxis\"},{\"attributes\":{\"data\":{\"Counts\":[1240,599,133,337,179,144,139,308,1565,1374,761,280,509,190,872,244,121],\"Type\":[\"Bars\",\"Breakfast & Brunch\",\"Buffets\",\"Burgers\",\"Cafes\",\"Coffee & Tea\",\"Diners\",\"Fast Food\",\"Food\",\"Nightlife\",\"Pizza\",\"Salad\",\"Sandwiches\",\"Steakhouses\",\"Sushi Bars\",\"Vegetarian\",\"Wine Bars\"],\"cat_type\":[\"Bars\",\"Breakfast & Brunch\",\"Buffets\",\"Burgers\",\"Cafes\",\"Coffee & Tea\",\"Diners\",\"Fast Food\",\"Food\",\"Nightlife\",\"Pizza\",\"Salad\",\"Sandwiches\",\"Steakhouses\",\"Sushi Bars\",\"Vegetarian\",\"Wine Bars\"]},\"selected\":{\"id\":\"1521\"},\"selection_policy\":{\"id\":\"1522\"}},\"id\":\"1461\",\"type\":\"ColumnDataSource\"},{\"attributes\":{\"end\":2500},\"id\":\"1394\",\"type\":\"Range1d\"},{\"attributes\":{\"axis\":{\"id\":\"1443\"},\"dimension\":1,\"ticker\":null},\"id\":\"1446\",\"type\":\"Grid\"},{\"attributes\":{},\"id\":\"1496\",\"type\":\"AllLabels\"},{\"attributes\":{\"data\":{\"Counts\":[1116,161,1511,1120,1,1,2079,776,1186,874,170],\"state\":[\"British Columbia\",\"Colorado\",\"Florida\",\"Georgia\",\"Kansas\",\"Kentucky\",\"Massachusetts\",\"Ohio\",\"Oregon\",\"Texas\",\"Washington\"],\"state_name\":[\"British Columbia\",\"Colorado\",\"Florida\",\"Georgia\",\"Kansas\",\"Kentucky\",\"Massachusetts\",\"Ohio\",\"Oregon\",\"Texas\",\"Washington\"]},\"selected\":{\"id\":\"1515\"},\"selection_policy\":{\"id\":\"1516\"}},\"id\":\"1381\",\"type\":\"ColumnDataSource\"},{\"attributes\":{\"bottom_units\":\"screen\",\"fill_alpha\":0.5,\"fill_color\":\"lightgrey\",\"left_units\":\"screen\",\"level\":\"overlay\",\"line_alpha\":1.0,\"line_color\":\"black\",\"line_dash\":[4,4],\"line_width\":2,\"right_units\":\"screen\",\"syncable\":false,\"top_units\":\"screen\"},\"id\":\"1413\",\"type\":\"BoxAnnotation\"},{\"attributes\":{\"below\":[{\"id\":\"1400\"}],\"center\":[{\"id\":\"1402\"},{\"id\":\"1406\"}],\"height\":500,\"left\":[{\"id\":\"1403\"}],\"renderers\":[{\"id\":\"1425\"}],\"title\":{\"id\":\"1391\"},\"toolbar\":{\"id\":\"1414\"},\"toolbar_location\":null,\"width\":800,\"x_range\":{\"id\":\"1389\"},\"x_scale\":{\"id\":\"1396\"},\"y_range\":{\"id\":\"1394\"},\"y_scale\":{\"id\":\"1398\"}},\"id\":\"1390\",\"subtype\":\"Figure\",\"type\":\"Plot\"},{\"attributes\":{},\"id\":\"1396\",\"type\":\"CategoricalScale\"},{\"attributes\":{},\"id\":\"1412\",\"type\":\"HelpTool\"},{\"attributes\":{\"data\":{\"Counts\":[1683,2212,71,135,480,129,240,1186,1030,120,200,321,721,20,196,251],\"Type\":[\"American (New)\",\"American (Traditional)\",\"Cajun/Creole\",\"Caribbean\",\"Chinese\",\"Greek\",\"Indian\",\"Italian\",\"Japanese\",\"Korean\",\"Latin American\",\"Mediterranean\",\"Mexican\",\"New Mexican Cuisine\",\"Thai\",\"Vietnamese\"],\"cat_kitchen\":[\"American (New)\",\"American (Traditional)\",\"Cajun/Creole\",\"Caribbean\",\"Chinese\",\"Greek\",\"Indian\",\"Italian\",\"Japanese\",\"Korean\",\"Latin American\",\"Mediterranean\",\"Mexican\",\"New Mexican Cuisine\",\"Thai\",\"Vietnamese\"]},\"selected\":{\"id\":\"1518\"},\"selection_policy\":{\"id\":\"1519\"}},\"id\":\"1421\",\"type\":\"ColumnDataSource\"},{\"attributes\":{},\"id\":\"1515\",\"type\":\"Selection\"},{\"attributes\":{\"fill_color\":{\"value\":\"lightblue\"},\"line_color\":{\"value\":\"lightblue\"},\"top\":{\"field\":\"Counts\"},\"width\":{\"value\":0.7},\"x\":{\"field\":\"Type\"}},\"id\":\"1423\",\"type\":\"VBar\"},{\"attributes\":{\"child\":{\"id\":\"1390\"},\"title\":\"Count of restaurants by Kitchen\"},\"id\":\"1470\",\"type\":\"Panel\"},{\"attributes\":{},\"id\":\"1410\",\"type\":\"SaveTool\"},{\"attributes\":{\"child\":{\"id\":\"1350\"},\"title\":\"Count of restaurants by State\"},\"id\":\"1469\",\"type\":\"Panel\"},{\"attributes\":{\"axis\":{\"id\":\"1400\"},\"ticker\":null},\"id\":\"1402\",\"type\":\"Grid\"},{\"attributes\":{},\"id\":\"1516\",\"type\":\"UnionRenderers\"},{\"attributes\":{},\"id\":\"1411\",\"type\":\"ResetTool\"},{\"attributes\":{},\"id\":\"1408\",\"type\":\"WheelZoomTool\"},{\"attributes\":{\"axis\":{\"id\":\"1440\"},\"ticker\":null},\"id\":\"1442\",\"type\":\"Grid\"},{\"attributes\":{\"axis\":{\"id\":\"1403\"},\"dimension\":1,\"ticker\":null},\"id\":\"1406\",\"type\":\"Grid\"},{\"attributes\":{},\"id\":\"1364\",\"type\":\"BasicTicker\"},{\"attributes\":{},\"id\":\"1401\",\"type\":\"CategoricalTicker\"},{\"attributes\":{\"overlay\":{\"id\":\"1413\"}},\"id\":\"1409\",\"type\":\"BoxZoomTool\"},{\"attributes\":{},\"id\":\"1522\",\"type\":\"UnionRenderers\"},{\"attributes\":{},\"id\":\"1499\",\"type\":\"AllLabels\"},{\"attributes\":{},\"id\":\"1521\",\"type\":\"Selection\"}],\"root_ids\":[\"1472\"]},\"title\":\"Bokeh Application\",\"version\":\"2.3.1\"}};\n",
       "  var render_items = [{\"docid\":\"dabc5007-ad97-458a-9789-ca0366c41458\",\"root_ids\":[\"1472\"],\"roots\":{\"1472\":\"0fe61046-f197-43d7-8b63-d2ef25aac2b0\"}}];\n",
       "  root.Bokeh.embed.embed_items_notebook(docs_json, render_items);\n",
       "\n",
       "  }\n",
       "  if (root.Bokeh !== undefined) {\n",
       "    embed_document(root);\n",
       "  } else {\n",
       "    var attempts = 0;\n",
       "    var timer = setInterval(function(root) {\n",
       "      if (root.Bokeh !== undefined) {\n",
       "        clearInterval(timer);\n",
       "        embed_document(root);\n",
       "      } else {\n",
       "        attempts++;\n",
       "        if (attempts > 100) {\n",
       "          clearInterval(timer);\n",
       "          console.log(\"Bokeh: ERROR: Unable to run BokehJS code because BokehJS library is missing\");\n",
       "        }\n",
       "      }\n",
       "    }, 10, root)\n",
       "  }\n",
       "})(window);"
      ],
      "application/vnd.bokehjs_exec.v0+json": ""
     },
     "metadata": {
      "application/vnd.bokehjs_exec.v0+json": {
       "id": "1472"
      }
     },
     "output_type": "display_data"
    }
   ],
   "source": [
    "# Increase the plot widths\n",
    "plot1.plot_width = plot2.plot_width = plot3.plot_width = 800\n",
    "plot1.plot_height = plot2.plot_height = plot3.plot_height = 500\n",
    "\n",
    "\n",
    "# Create three panels, one for each conference\n",
    "state_panel = Panel(child=plot1, title='Count of restaurants by State')\n",
    "kitchen_panel = Panel(child=plot2, title='Count of restaurants by Kitchen')\n",
    "types_panel = Panel(child=plot3, title='Count of restaurants by Type')\n",
    "\n",
    "# Assign the panels to Tabs\n",
    "tabs = Tabs(tabs=[state_panel, kitchen_panel, types_panel])\n",
    "\n",
    "# Show the tabbed layout\n",
    "show(tabs)\n",
    "\n",
    "html = file_html(tabs, CDN, \"General Overview - BarChart\")\n",
    "# print(html)"
   ]
  },
  {
   "cell_type": "markdown",
   "metadata": {},
   "source": [
    "Since the dataset considers all the reviews from the different users, number of reviews per state, kitchen and type is considered."
   ]
  },
  {
   "cell_type": "code",
   "execution_count": 35,
   "metadata": {},
   "outputs": [],
   "source": [
    "group_state_ = df.groupby(['cat_kitchen']).size().reset_index(name='Counts')\n",
    "group_state_['Type'] = group_state_['cat_kitchen'].astype(str)\n",
    "df_dict_ = group_state_.to_dict('list')\n",
    "\n",
    "group_state__ = df.groupby(['cat_type']).size().reset_index(name='Counts')\n",
    "group_state__['Type'] = group_state__['cat_type'].astype(str)\n",
    "df_dict__ = group_state__.to_dict('list')\n",
    "\n",
    "group_state = df.groupby(['state_name']).size().reset_index(name='Counts')\n",
    "group_state['state'] = group_state['state_name'].astype(str)\n",
    "df_dict = group_state.to_dict('list')"
   ]
  },
  {
   "cell_type": "code",
   "execution_count": 36,
   "metadata": {},
   "outputs": [],
   "source": [
    "title = 'Count of reviews by State'\n",
    "xlabel = 'State'\n",
    "range_x = group_state.state.unique().tolist()\n",
    "\n",
    "plot1 = figure(x_range=FactorRange(factors=range_x), y_range=(0,1300000), plot_width=800, plot_height=500,\n",
    "               x_axis_label=xlabel, toolbar_location=None, title=title)\n",
    "plot1.vbar(x='state_name', width=0.7, bottom=0,\n",
    "           top='Counts', source=df_dict, color='lightblue')\n",
    "\n",
    "# hover tool\n",
    "plot1.add_tools(HoverTool(tooltips=[('Count', \"@Counts{1}\")]))\n",
    "\n",
    "# axis ticks\n",
    "plot1.xaxis.major_tick_line_color = None \n",
    "plot1.xaxis.minor_tick_line_color = None \n",
    "plot1.yaxis.major_tick_line_color = None  \n",
    "plot1.yaxis.minor_tick_line_color = None  \n",
    "plot1.title.text_font_size = '13pt'\n",
    "plot1.title.align = 'center'\n",
    "\n",
    "# show(plot1)"
   ]
  },
  {
   "cell_type": "code",
   "execution_count": 37,
   "metadata": {},
   "outputs": [],
   "source": [
    "title = 'Count of reviews by Kitchen'\n",
    "range_x = group_state_['cat_kitchen'].unique().tolist()\n",
    "xlabel = 'Kitchen type'\n",
    "\n",
    "plot2 = figure(x_range=FactorRange(factors=range_x), y_range=(0,1700000), plot_width=800, plot_height=500,\n",
    "               x_axis_label=xlabel, toolbar_location=None, title=title)\n",
    "plot2.vbar(x='Type', width=0.7, bottom=0,\n",
    "           top='Counts', source=df_dict_, color='lightblue')\n",
    "\n",
    "# hover tool\n",
    "plot2.add_tools(HoverTool(tooltips=[('Count', \"@Counts\")]))\n",
    "\n",
    "# axis ticks\n",
    "plot2.xaxis.major_tick_line_color = None \n",
    "plot2.xaxis.minor_tick_line_color = None \n",
    "plot2.yaxis.major_tick_line_color = None  \n",
    "plot2.yaxis.minor_tick_line_color = None  \n",
    "plot2.xaxis.major_label_orientation = \"vertical\"\n",
    "plot2.title.text_font_size = '13pt'\n",
    "plot2.title.align = 'center'\n",
    "\n",
    "# show(plot2)"
   ]
  },
  {
   "cell_type": "code",
   "execution_count": 38,
   "metadata": {},
   "outputs": [],
   "source": [
    "title = 'Count of reviews by Type'\n",
    "range_x = group_state__['cat_type'].unique().tolist()\n",
    "xlabel = 'Type'\n",
    "\n",
    "plot3 = figure(x_range=FactorRange(factors=range_x), y_range=(0,1100000),plot_width=600, plot_height=500,\n",
    "               x_axis_label=xlabel, toolbar_location=None, title=title)\n",
    "plot3.vbar(x='Type', width=0.7, bottom=0,\n",
    "           top='Counts', source=df_dict__, color='lightblue')\n",
    "\n",
    "# hover tool\n",
    "plot3.add_tools(HoverTool(tooltips=[('Count', \"@Counts\")]))\n",
    "\n",
    "# axis ticks\n",
    "plot3.xaxis.major_tick_line_color = None \n",
    "plot3.xaxis.minor_tick_line_color = None \n",
    "plot3.yaxis.major_tick_line_color = None  \n",
    "plot3.yaxis.minor_tick_line_color = None  \n",
    "plot3.xaxis.major_label_orientation = \"vertical\"\n",
    "plot3.title.text_font_size = '13pt'\n",
    "plot3.title.align = 'center'\n",
    "\n",
    "# show(plot3)"
   ]
  },
  {
   "cell_type": "code",
   "execution_count": 39,
   "metadata": {},
   "outputs": [
    {
     "data": {
      "text/html": [
       "\n",
       "\n",
       "\n",
       "\n",
       "\n",
       "\n",
       "  <div class=\"bk-root\" id=\"0a1e71b8-25ab-46b8-9cbc-8e52ead7ef13\" data-root-id=\"2692\"></div>\n"
      ]
     },
     "metadata": {},
     "output_type": "display_data"
    },
    {
     "data": {
      "application/javascript": [
       "(function(root) {\n",
       "  function embed_document(root) {\n",
       "    \n",
       "  var docs_json = {\"07fa97a9-76cf-43d5-9af7-d63913ea6384\":{\"defs\":[],\"roots\":{\"references\":[{\"attributes\":{\"tabs\":[{\"id\":\"2689\"},{\"id\":\"2690\"},{\"id\":\"2691\"}]},\"id\":\"2692\",\"type\":\"Tabs\"},{\"attributes\":{},\"id\":\"2776\",\"type\":\"AllLabels\"},{\"attributes\":{\"formatter\":{\"id\":\"2790\"},\"major_label_policy\":{\"id\":\"2788\"},\"major_tick_line_color\":null,\"minor_tick_line_color\":null,\"ticker\":{\"id\":\"2664\"}},\"id\":\"2663\",\"type\":\"LinearAxis\"},{\"attributes\":{\"active_multi\":null,\"tools\":[{\"id\":\"2627\"},{\"id\":\"2628\"},{\"id\":\"2629\"},{\"id\":\"2630\"},{\"id\":\"2631\"},{\"id\":\"2632\"},{\"id\":\"2647\"}]},\"id\":\"2634\",\"type\":\"Toolbar\"},{\"attributes\":{},\"id\":\"2581\",\"type\":\"CategoricalTicker\"},{\"attributes\":{\"end\":1700000},\"id\":\"2614\",\"type\":\"Range1d\"},{\"attributes\":{},\"id\":\"2584\",\"type\":\"BasicTicker\"},{\"attributes\":{\"data\":{\"Counts\":[272804,139675,11366,64662,28402,33961,27527,30721,187643,278677,56752,50463,71084,37798,57982,37911,40405],\"Type\":[\"Bars\",\"Breakfast & Brunch\",\"Buffets\",\"Burgers\",\"Cafes\",\"Coffee & Tea\",\"Diners\",\"Fast Food\",\"Food\",\"Nightlife\",\"Pizza\",\"Salad\",\"Sandwiches\",\"Steakhouses\",\"Sushi Bars\",\"Vegetarian\",\"Wine Bars\"],\"cat_type\":[\"Bars\",\"Breakfast & Brunch\",\"Buffets\",\"Burgers\",\"Cafes\",\"Coffee & Tea\",\"Diners\",\"Fast Food\",\"Food\",\"Nightlife\",\"Pizza\",\"Salad\",\"Sandwiches\",\"Steakhouses\",\"Sushi Bars\",\"Vegetarian\",\"Wine Bars\"]},\"selected\":{\"id\":\"2801\"},\"selection_policy\":{\"id\":\"2802\"}},\"id\":\"2681\",\"type\":\"ColumnDataSource\"},{\"attributes\":{\"formatter\":{\"id\":\"2778\"},\"major_label_policy\":{\"id\":\"2776\"},\"major_tick_line_color\":null,\"minor_tick_line_color\":null,\"ticker\":{\"id\":\"2584\"}},\"id\":\"2583\",\"type\":\"LinearAxis\"},{\"attributes\":{\"bottom_units\":\"screen\",\"fill_alpha\":0.5,\"fill_color\":\"lightgrey\",\"left_units\":\"screen\",\"level\":\"overlay\",\"line_alpha\":1.0,\"line_color\":\"black\",\"line_dash\":[4,4],\"line_width\":2,\"right_units\":\"screen\",\"syncable\":false,\"top_units\":\"screen\"},\"id\":\"2673\",\"type\":\"BoxAnnotation\"},{\"attributes\":{\"axis_label\":\"Type\",\"formatter\":{\"id\":\"2793\"},\"major_label_orientation\":\"vertical\",\"major_label_policy\":{\"id\":\"2791\"},\"major_tick_line_color\":null,\"minor_tick_line_color\":null,\"ticker\":{\"id\":\"2661\"}},\"id\":\"2660\",\"type\":\"CategoricalAxis\"},{\"attributes\":{\"callback\":null,\"tooltips\":[[\"Count\",\"@Counts{1}\"]]},\"id\":\"2607\",\"type\":\"HoverTool\"},{\"attributes\":{\"overlay\":{\"id\":\"2633\"}},\"id\":\"2629\",\"type\":\"BoxZoomTool\"},{\"attributes\":{},\"id\":\"2658\",\"type\":\"LinearScale\"},{\"attributes\":{\"overlay\":{\"id\":\"2673\"}},\"id\":\"2669\",\"type\":\"BoxZoomTool\"},{\"attributes\":{\"below\":[{\"id\":\"2620\"}],\"center\":[{\"id\":\"2622\"},{\"id\":\"2626\"}],\"height\":500,\"left\":[{\"id\":\"2623\"}],\"renderers\":[{\"id\":\"2645\"}],\"title\":{\"id\":\"2611\"},\"toolbar\":{\"id\":\"2634\"},\"toolbar_location\":null,\"width\":800,\"x_range\":{\"id\":\"2609\"},\"x_scale\":{\"id\":\"2616\"},\"y_range\":{\"id\":\"2614\"},\"y_scale\":{\"id\":\"2618\"}},\"id\":\"2610\",\"subtype\":\"Figure\",\"type\":\"Plot\"},{\"attributes\":{},\"id\":\"2630\",\"type\":\"SaveTool\"},{\"attributes\":{\"axis\":{\"id\":\"2583\"},\"dimension\":1,\"ticker\":null},\"id\":\"2586\",\"type\":\"Grid\"},{\"attributes\":{\"end\":1100000},\"id\":\"2654\",\"type\":\"Range1d\"},{\"attributes\":{\"align\":\"center\",\"text\":\"Count of reviews by Kitchen\",\"text_font_size\":\"13pt\"},\"id\":\"2611\",\"type\":\"Title\"},{\"attributes\":{},\"id\":\"2668\",\"type\":\"WheelZoomTool\"},{\"attributes\":{},\"id\":\"2616\",\"type\":\"CategoricalScale\"},{\"attributes\":{},\"id\":\"2621\",\"type\":\"CategoricalTicker\"},{\"attributes\":{},\"id\":\"2671\",\"type\":\"ResetTool\"},{\"attributes\":{},\"id\":\"2667\",\"type\":\"PanTool\"},{\"attributes\":{},\"id\":\"2576\",\"type\":\"CategoricalScale\"},{\"attributes\":{\"fill_color\":{\"value\":\"lightblue\"},\"line_color\":{\"value\":\"lightblue\"},\"top\":{\"field\":\"Counts\"},\"width\":{\"value\":0.7},\"x\":{\"field\":\"Type\"}},\"id\":\"2643\",\"type\":\"VBar\"},{\"attributes\":{\"axis\":{\"id\":\"2660\"},\"ticker\":null},\"id\":\"2662\",\"type\":\"Grid\"},{\"attributes\":{\"below\":[{\"id\":\"2660\"}],\"center\":[{\"id\":\"2662\"},{\"id\":\"2666\"}],\"height\":500,\"left\":[{\"id\":\"2663\"}],\"renderers\":[{\"id\":\"2685\"}],\"title\":{\"id\":\"2651\"},\"toolbar\":{\"id\":\"2674\"},\"toolbar_location\":null,\"width\":800,\"x_range\":{\"id\":\"2649\"},\"x_scale\":{\"id\":\"2656\"},\"y_range\":{\"id\":\"2654\"},\"y_scale\":{\"id\":\"2658\"}},\"id\":\"2650\",\"subtype\":\"Figure\",\"type\":\"Plot\"},{\"attributes\":{},\"id\":\"2664\",\"type\":\"BasicTicker\"},{\"attributes\":{},\"id\":\"2790\",\"type\":\"BasicTickFormatter\"},{\"attributes\":{},\"id\":\"2672\",\"type\":\"HelpTool\"},{\"attributes\":{\"source\":{\"id\":\"2681\"}},\"id\":\"2686\",\"type\":\"CDSView\"},{\"attributes\":{},\"id\":\"2796\",\"type\":\"UnionRenderers\"},{\"attributes\":{},\"id\":\"2784\",\"type\":\"BasicTickFormatter\"},{\"attributes\":{},\"id\":\"2791\",\"type\":\"AllLabels\"},{\"attributes\":{\"align\":\"center\",\"text\":\"Count of reviews by State\",\"text_font_size\":\"13pt\"},\"id\":\"2571\",\"type\":\"Title\"},{\"attributes\":{\"axis\":{\"id\":\"2620\"},\"ticker\":null},\"id\":\"2622\",\"type\":\"Grid\"},{\"attributes\":{\"axis\":{\"id\":\"2580\"},\"ticker\":null},\"id\":\"2582\",\"type\":\"Grid\"},{\"attributes\":{\"end\":1300000},\"id\":\"2574\",\"type\":\"Range1d\"},{\"attributes\":{\"factors\":[\"American (New)\",\"American (Traditional)\",\"Cajun/Creole\",\"Caribbean\",\"Chinese\",\"Greek\",\"Indian\",\"Italian\",\"Japanese\",\"Korean\",\"Latin American\",\"Mediterranean\",\"Mexican\",\"New Mexican Cuisine\",\"Thai\",\"Vietnamese\"]},\"id\":\"2609\",\"type\":\"FactorRange\"},{\"attributes\":{},\"id\":\"2779\",\"type\":\"AllLabels\"},{\"attributes\":{\"bottom_units\":\"screen\",\"fill_alpha\":0.5,\"fill_color\":\"lightgrey\",\"left_units\":\"screen\",\"level\":\"overlay\",\"line_alpha\":1.0,\"line_color\":\"black\",\"line_dash\":[4,4],\"line_width\":2,\"right_units\":\"screen\",\"syncable\":false,\"top_units\":\"screen\"},\"id\":\"2633\",\"type\":\"BoxAnnotation\"},{\"attributes\":{\"align\":\"center\",\"text\":\"Count of reviews by Type\",\"text_font_size\":\"13pt\"},\"id\":\"2651\",\"type\":\"Title\"},{\"attributes\":{\"fill_alpha\":{\"value\":0.1},\"fill_color\":{\"value\":\"lightblue\"},\"line_alpha\":{\"value\":0.1},\"line_color\":{\"value\":\"lightblue\"},\"top\":{\"field\":\"Counts\"},\"width\":{\"value\":0.7},\"x\":{\"field\":\"Type\"}},\"id\":\"2684\",\"type\":\"VBar\"},{\"attributes\":{},\"id\":\"2798\",\"type\":\"Selection\"},{\"attributes\":{},\"id\":\"2627\",\"type\":\"PanTool\"},{\"attributes\":{},\"id\":\"2656\",\"type\":\"CategoricalScale\"},{\"attributes\":{\"fill_color\":{\"value\":\"lightblue\"},\"line_color\":{\"value\":\"lightblue\"},\"top\":{\"field\":\"Counts\"},\"width\":{\"value\":0.7},\"x\":{\"field\":\"Type\"}},\"id\":\"2683\",\"type\":\"VBar\"},{\"attributes\":{\"axis_label\":\"State\",\"formatter\":{\"id\":\"2781\"},\"major_label_policy\":{\"id\":\"2779\"},\"major_tick_line_color\":null,\"minor_tick_line_color\":null,\"ticker\":{\"id\":\"2581\"}},\"id\":\"2580\",\"type\":\"CategoricalAxis\"},{\"attributes\":{},\"id\":\"2787\",\"type\":\"CategoricalTickFormatter\"},{\"attributes\":{\"axis\":{\"id\":\"2663\"},\"dimension\":1,\"ticker\":null},\"id\":\"2666\",\"type\":\"Grid\"},{\"attributes\":{},\"id\":\"2578\",\"type\":\"LinearScale\"},{\"attributes\":{},\"id\":\"2670\",\"type\":\"SaveTool\"},{\"attributes\":{},\"id\":\"2618\",\"type\":\"LinearScale\"},{\"attributes\":{\"factors\":[\"Bars\",\"Breakfast & Brunch\",\"Buffets\",\"Burgers\",\"Cafes\",\"Coffee & Tea\",\"Diners\",\"Fast Food\",\"Food\",\"Nightlife\",\"Pizza\",\"Salad\",\"Sandwiches\",\"Steakhouses\",\"Sushi Bars\",\"Vegetarian\",\"Wine Bars\"]},\"id\":\"2649\",\"type\":\"FactorRange\"},{\"attributes\":{\"axis_label\":\"Kitchen type\",\"formatter\":{\"id\":\"2787\"},\"major_label_orientation\":\"vertical\",\"major_label_policy\":{\"id\":\"2785\"},\"major_tick_line_color\":null,\"minor_tick_line_color\":null,\"ticker\":{\"id\":\"2621\"}},\"id\":\"2620\",\"type\":\"CategoricalAxis\"},{\"attributes\":{\"below\":[{\"id\":\"2580\"}],\"center\":[{\"id\":\"2582\"},{\"id\":\"2586\"}],\"height\":500,\"left\":[{\"id\":\"2583\"}],\"renderers\":[{\"id\":\"2605\"}],\"title\":{\"id\":\"2571\"},\"toolbar\":{\"id\":\"2594\"},\"toolbar_location\":null,\"width\":800,\"x_range\":{\"id\":\"2569\"},\"x_scale\":{\"id\":\"2576\"},\"y_range\":{\"id\":\"2574\"},\"y_scale\":{\"id\":\"2578\"}},\"id\":\"2570\",\"subtype\":\"Figure\",\"type\":\"Plot\"},{\"attributes\":{\"data_source\":{\"id\":\"2641\"},\"glyph\":{\"id\":\"2643\"},\"hover_glyph\":null,\"muted_glyph\":null,\"nonselection_glyph\":{\"id\":\"2644\"},\"view\":{\"id\":\"2646\"}},\"id\":\"2645\",\"type\":\"GlyphRenderer\"},{\"attributes\":{},\"id\":\"2781\",\"type\":\"CategoricalTickFormatter\"},{\"attributes\":{},\"id\":\"2785\",\"type\":\"AllLabels\"},{\"attributes\":{\"fill_alpha\":{\"value\":0.1},\"fill_color\":{\"value\":\"lightblue\"},\"line_alpha\":{\"value\":0.1},\"line_color\":{\"value\":\"lightblue\"},\"top\":{\"field\":\"Counts\"},\"width\":{\"value\":0.7},\"x\":{\"field\":\"Type\"}},\"id\":\"2644\",\"type\":\"VBar\"},{\"attributes\":{},\"id\":\"2782\",\"type\":\"AllLabels\"},{\"attributes\":{\"callback\":null,\"tooltips\":[[\"Count\",\"@Counts\"]]},\"id\":\"2647\",\"type\":\"HoverTool\"},{\"attributes\":{},\"id\":\"2661\",\"type\":\"CategoricalTicker\"},{\"attributes\":{},\"id\":\"2628\",\"type\":\"WheelZoomTool\"},{\"attributes\":{\"factors\":[\"British Columbia\",\"Colorado\",\"Florida\",\"Georgia\",\"Kansas\",\"Kentucky\",\"Massachusetts\",\"Ohio\",\"Oregon\",\"Texas\",\"Washington\"]},\"id\":\"2569\",\"type\":\"FactorRange\"},{\"attributes\":{\"active_multi\":null,\"tools\":[{\"id\":\"2667\"},{\"id\":\"2668\"},{\"id\":\"2669\"},{\"id\":\"2670\"},{\"id\":\"2671\"},{\"id\":\"2672\"},{\"id\":\"2687\"}]},\"id\":\"2674\",\"type\":\"Toolbar\"},{\"attributes\":{\"source\":{\"id\":\"2641\"}},\"id\":\"2646\",\"type\":\"CDSView\"},{\"attributes\":{},\"id\":\"2788\",\"type\":\"AllLabels\"},{\"attributes\":{},\"id\":\"2793\",\"type\":\"CategoricalTickFormatter\"},{\"attributes\":{\"data\":{\"Counts\":[39778,22795,314503,234606,5,6,291243,103009,177823,217333,26732],\"state\":[\"British Columbia\",\"Colorado\",\"Florida\",\"Georgia\",\"Kansas\",\"Kentucky\",\"Massachusetts\",\"Ohio\",\"Oregon\",\"Texas\",\"Washington\"],\"state_name\":[\"British Columbia\",\"Colorado\",\"Florida\",\"Georgia\",\"Kansas\",\"Kentucky\",\"Massachusetts\",\"Ohio\",\"Oregon\",\"Texas\",\"Washington\"]},\"selected\":{\"id\":\"2795\"},\"selection_policy\":{\"id\":\"2796\"}},\"id\":\"2601\",\"type\":\"ColumnDataSource\"},{\"attributes\":{\"callback\":null,\"tooltips\":[[\"Count\",\"@Counts\"]]},\"id\":\"2687\",\"type\":\"HoverTool\"},{\"attributes\":{},\"id\":\"2801\",\"type\":\"Selection\"},{\"attributes\":{},\"id\":\"2795\",\"type\":\"Selection\"},{\"attributes\":{\"data\":{\"Counts\":[402680,401768,17547,17230,34799,15312,21194,145842,92693,16910,37376,38533,115041,9929,33531,27448],\"Type\":[\"American (New)\",\"American (Traditional)\",\"Cajun/Creole\",\"Caribbean\",\"Chinese\",\"Greek\",\"Indian\",\"Italian\",\"Japanese\",\"Korean\",\"Latin American\",\"Mediterranean\",\"Mexican\",\"New Mexican Cuisine\",\"Thai\",\"Vietnamese\"],\"cat_kitchen\":[\"American (New)\",\"American (Traditional)\",\"Cajun/Creole\",\"Caribbean\",\"Chinese\",\"Greek\",\"Indian\",\"Italian\",\"Japanese\",\"Korean\",\"Latin American\",\"Mediterranean\",\"Mexican\",\"New Mexican Cuisine\",\"Thai\",\"Vietnamese\"]},\"selected\":{\"id\":\"2798\"},\"selection_policy\":{\"id\":\"2799\"}},\"id\":\"2641\",\"type\":\"ColumnDataSource\"},{\"attributes\":{\"fill_color\":{\"value\":\"lightblue\"},\"line_color\":{\"value\":\"lightblue\"},\"top\":{\"field\":\"Counts\"},\"width\":{\"value\":0.7},\"x\":{\"field\":\"state_name\"}},\"id\":\"2603\",\"type\":\"VBar\"},{\"attributes\":{\"fill_alpha\":{\"value\":0.1},\"fill_color\":{\"value\":\"lightblue\"},\"line_alpha\":{\"value\":0.1},\"line_color\":{\"value\":\"lightblue\"},\"top\":{\"field\":\"Counts\"},\"width\":{\"value\":0.7},\"x\":{\"field\":\"state_name\"}},\"id\":\"2604\",\"type\":\"VBar\"},{\"attributes\":{},\"id\":\"2631\",\"type\":\"ResetTool\"},{\"attributes\":{\"formatter\":{\"id\":\"2784\"},\"major_label_policy\":{\"id\":\"2782\"},\"major_tick_line_color\":null,\"minor_tick_line_color\":null,\"ticker\":{\"id\":\"2624\"}},\"id\":\"2623\",\"type\":\"LinearAxis\"},{\"attributes\":{},\"id\":\"2632\",\"type\":\"HelpTool\"},{\"attributes\":{},\"id\":\"2624\",\"type\":\"BasicTicker\"},{\"attributes\":{\"child\":{\"id\":\"2650\"},\"title\":\"Count of reviews by Type\"},\"id\":\"2691\",\"type\":\"Panel\"},{\"attributes\":{\"child\":{\"id\":\"2570\"},\"title\":\"Count of reviews by State\"},\"id\":\"2689\",\"type\":\"Panel\"},{\"attributes\":{\"data_source\":{\"id\":\"2601\"},\"glyph\":{\"id\":\"2603\"},\"hover_glyph\":null,\"muted_glyph\":null,\"nonselection_glyph\":{\"id\":\"2604\"},\"view\":{\"id\":\"2606\"}},\"id\":\"2605\",\"type\":\"GlyphRenderer\"},{\"attributes\":{\"bottom_units\":\"screen\",\"fill_alpha\":0.5,\"fill_color\":\"lightgrey\",\"left_units\":\"screen\",\"level\":\"overlay\",\"line_alpha\":1.0,\"line_color\":\"black\",\"line_dash\":[4,4],\"line_width\":2,\"right_units\":\"screen\",\"syncable\":false,\"top_units\":\"screen\"},\"id\":\"2593\",\"type\":\"BoxAnnotation\"},{\"attributes\":{},\"id\":\"2802\",\"type\":\"UnionRenderers\"},{\"attributes\":{},\"id\":\"2588\",\"type\":\"WheelZoomTool\"},{\"attributes\":{},\"id\":\"2587\",\"type\":\"PanTool\"},{\"attributes\":{\"axis\":{\"id\":\"2623\"},\"dimension\":1,\"ticker\":null},\"id\":\"2626\",\"type\":\"Grid\"},{\"attributes\":{},\"id\":\"2778\",\"type\":\"BasicTickFormatter\"},{\"attributes\":{\"overlay\":{\"id\":\"2593\"}},\"id\":\"2589\",\"type\":\"BoxZoomTool\"},{\"attributes\":{},\"id\":\"2592\",\"type\":\"HelpTool\"},{\"attributes\":{},\"id\":\"2591\",\"type\":\"ResetTool\"},{\"attributes\":{\"data_source\":{\"id\":\"2681\"},\"glyph\":{\"id\":\"2683\"},\"hover_glyph\":null,\"muted_glyph\":null,\"nonselection_glyph\":{\"id\":\"2684\"},\"view\":{\"id\":\"2686\"}},\"id\":\"2685\",\"type\":\"GlyphRenderer\"},{\"attributes\":{},\"id\":\"2590\",\"type\":\"SaveTool\"},{\"attributes\":{\"active_multi\":null,\"tools\":[{\"id\":\"2587\"},{\"id\":\"2588\"},{\"id\":\"2589\"},{\"id\":\"2590\"},{\"id\":\"2591\"},{\"id\":\"2592\"},{\"id\":\"2607\"}]},\"id\":\"2594\",\"type\":\"Toolbar\"},{\"attributes\":{},\"id\":\"2799\",\"type\":\"UnionRenderers\"},{\"attributes\":{\"source\":{\"id\":\"2601\"}},\"id\":\"2606\",\"type\":\"CDSView\"},{\"attributes\":{\"child\":{\"id\":\"2610\"},\"title\":\"Count of reviews by Kitchen\"},\"id\":\"2690\",\"type\":\"Panel\"}],\"root_ids\":[\"2692\"]},\"title\":\"Bokeh Application\",\"version\":\"2.3.1\"}};\n",
       "  var render_items = [{\"docid\":\"07fa97a9-76cf-43d5-9af7-d63913ea6384\",\"root_ids\":[\"2692\"],\"roots\":{\"2692\":\"0a1e71b8-25ab-46b8-9cbc-8e52ead7ef13\"}}];\n",
       "  root.Bokeh.embed.embed_items_notebook(docs_json, render_items);\n",
       "\n",
       "  }\n",
       "  if (root.Bokeh !== undefined) {\n",
       "    embed_document(root);\n",
       "  } else {\n",
       "    var attempts = 0;\n",
       "    var timer = setInterval(function(root) {\n",
       "      if (root.Bokeh !== undefined) {\n",
       "        clearInterval(timer);\n",
       "        embed_document(root);\n",
       "      } else {\n",
       "        attempts++;\n",
       "        if (attempts > 100) {\n",
       "          clearInterval(timer);\n",
       "          console.log(\"Bokeh: ERROR: Unable to run BokehJS code because BokehJS library is missing\");\n",
       "        }\n",
       "      }\n",
       "    }, 10, root)\n",
       "  }\n",
       "})(window);"
      ],
      "application/vnd.bokehjs_exec.v0+json": ""
     },
     "metadata": {
      "application/vnd.bokehjs_exec.v0+json": {
       "id": "2692"
      }
     },
     "output_type": "display_data"
    }
   ],
   "source": [
    "# Increase the plot widths\n",
    "plot1.plot_width = plot2.plot_width = plot3.plot_width = 800\n",
    "plot1.plot_height = plot2.plot_height = plot3.plot_height = 500\n",
    "\n",
    "\n",
    "# Create three panels, one for each conference\n",
    "state_panel = Panel(child=plot1, title='Count of reviews by State')\n",
    "kitchen_panel = Panel(child=plot2, title='Count of reviews by Kitchen')\n",
    "types_panel = Panel(child=plot3, title='Count of reviews by Type')\n",
    "\n",
    "# Assign the panels to Tabs\n",
    "tabs = Tabs(tabs=[state_panel, kitchen_panel, types_panel])\n",
    "\n",
    "# Show the tabbed layout\n",
    "show(tabs)\n",
    "\n",
    "html = file_html(tabs, CDN, \"Overview Reviews\")\n",
    "# print(html)"
   ]
  },
  {
   "cell_type": "markdown",
   "metadata": {},
   "source": [
    "### 3.2. Score Overview"
   ]
  },
  {
   "cell_type": "code",
   "execution_count": 40,
   "metadata": {},
   "outputs": [],
   "source": [
    "stars_df = restaurants.groupby(['state_name','stars']).size().reset_index(name='counts')\n",
    "stars_df = stars_df.pivot_table(values = 'counts', index='state_name', columns='stars').reset_index()\n",
    "stars_df = stars_df.rename(columns={1.0:'1', 1.5:'1.5',2.0:'2',2.5:'2.5',\n",
    "                                    3.0:'3',3.5:'3.5',4.0:'4',4.5:'4.5',5.0:'5'}) \n",
    "stars_df = stars_df.fillna(0)\n",
    "source = ColumnDataSource(stars_df)\n",
    "\n",
    "title = 'Count of stars by State'\n",
    "range_x = restaurants['state_name'].sort_values().unique().tolist()\n",
    "xlabel = 'States'\n",
    "stack = ['1', '1.5', '2', '2.5', '3', '3.5', '4', '4.5', '5']\n",
    "colors = ['#30678d','#08306b', '#08519c', '#2171b5', '#4292c6', '#6baed6', '#9ecae1', '#c6dbef', '#deebf7']\n",
    "\n",
    "state = figure(x_range=FactorRange(factors=range_x), y_range=(0,2400),plot_width=800, plot_height=550,\n",
    "           x_axis_label=xlabel, toolbar_location=None, tools=\"\",\n",
    "           title=title)\n",
    "\n",
    "renderers = state.vbar_stack(stack, x='state_name', width=0.9, color=colors, source=source,\n",
    "             legend_label=stack)\n",
    "\n",
    "\n",
    "for r in renderers:\n",
    "    year = r.name\n",
    "    hover = HoverTool(tooltips=[\n",
    "        (\"Total # of stars that have %s\" % year, \"@%s\" % year),\n",
    "        (\"index\", \"$index\")\n",
    "    ], renderers=[r])\n",
    "    state.add_tools(hover)\n",
    "\n",
    "# axis ticks\n",
    "state.yaxis.ticker = [0, 500, 1000, 1500, 2000, 2500]\n",
    "state.xaxis.major_tick_line_color = None \n",
    "state.xaxis.minor_tick_line_color = None \n",
    "state.yaxis.major_tick_line_color = None  \n",
    "state.yaxis.minor_tick_line_color = None  \n",
    "state.legend.location = \"top_center\"\n",
    "state.legend.label_text_font_size = \"7pt\"\n",
    "state.legend.orientation = \"horizontal\"\n",
    "state.title.text_font_size = '13pt'\n",
    "state.title.align = 'center'\n",
    "\n",
    "# show(state)"
   ]
  },
  {
   "cell_type": "code",
   "execution_count": 42,
   "metadata": {},
   "outputs": [],
   "source": [
    "stars_df = restaurants.groupby(['cat_kitchen','stars']).size().reset_index(name='counts')\n",
    "stars_df = stars_df.pivot_table(values = 'counts', index='cat_kitchen', columns='stars').reset_index()\n",
    "stars_df = stars_df.rename(columns={1.0:'1', 1.5:'1.5',2.0:'2',2.5:'2.5',\n",
    "                                    3.0:'3',3.5:'3.5',4.0:'4',4.5:'4.5',5.0:'5'}) \n",
    "\n",
    "stars_df = stars_df.fillna(0)\n",
    "source = ColumnDataSource(stars_df)\n",
    "\n",
    "title = 'Count of stars by Kitchen'\n",
    "range_x = restaurants['cat_kitchen'].sort_values().unique().tolist()\n",
    "xlabel = 'Kitchen Types'\n",
    "ylabel = '# of stars'\n",
    "stack = ['1', '1.5', '2', '2.5', '3', '3.5', '4', '4.5', '5']\n",
    "colors = ['#30678D','#08306b', '#08519c', '#2171b5', '#4292c6', '#6baed6', '#9ecae1', '#c6dbef', '#deebf7']\n",
    "\n",
    "kitchen = figure(x_range=FactorRange(factors=range_x), y_range=(0,2400), plot_width=800, plot_height=500,\n",
    "           x_axis_label=xlabel,toolbar_location=None, tools=\"\",\n",
    "           title=title)\n",
    "\n",
    "renderers = kitchen.vbar_stack(stack, x='cat_kitchen', width=0.9, color=colors, source=source,\n",
    "             legend_label=stack)\n",
    "\n",
    "for r in renderers:\n",
    "    year = r.name\n",
    "    hover = HoverTool(tooltips=[\n",
    "        (\"Total # of stars that have %s\" % year, \"@%s\" % year),\n",
    "        (\"index\", \"$index\")\n",
    "    ], renderers=[r])\n",
    "    kitchen.add_tools(hover)\n",
    "\n",
    "# axis ticks\n",
    "kitchen.xaxis.major_tick_line_color = None \n",
    "kitchen.xaxis.minor_tick_line_color = None \n",
    "kitchen.yaxis.major_tick_line_color = None  \n",
    "kitchen.yaxis.minor_tick_line_color = None  \n",
    "kitchen.legend.location = \"top_center\"\n",
    "kitchen.legend.label_text_font_size = \"7pt\"\n",
    "kitchen.legend.orientation = \"horizontal\"\n",
    "kitchen.xaxis.major_label_orientation = \"vertical\"\n",
    "kitchen.title.text_font_size = '13pt'\n",
    "kitchen.title.align = 'center'\n",
    "\n",
    "# show(kitchen)"
   ]
  },
  {
   "cell_type": "code",
   "execution_count": 46,
   "metadata": {},
   "outputs": [],
   "source": [
    "stars_df = restaurants.groupby(['cat_type','stars']).size().reset_index(name='counts')\n",
    "stars_df = stars_df.pivot_table(values = 'counts', index='cat_type', columns='stars').reset_index()\n",
    "stars_df = stars_df.rename(columns={1.0:'1', 1.5:'1.5',2.0:'2',2.5:'2.5',\n",
    "                                    3.0:'3',3.5:'3.5',4.0:'4',4.5:'4.5',5.0:'5'}) \n",
    "\n",
    "stars_df = stars_df.fillna(0)\n",
    "source = ColumnDataSource(stars_df)\n",
    "\n",
    "title = 'Count of stars by Type'\n",
    "range_x = restaurants['cat_type'].sort_values().unique().tolist()\n",
    "xlabel = 'Type'\n",
    "ylabel = '# of stars'\n",
    "stack = ['1', '1.5', '2', '2.5', '3', '3.5', '4', '4.5', '5']\n",
    "stack = ['1', '1.5', '2', '2.5', '3', '3.5', '4', '4.5', '5']\n",
    "colors = ['#30678D','#08306b', '#08519c', '#2171b5', '#4292c6', '#6baed6', '#9ecae1', '#c6dbef', '#deebf7']\n",
    "\n",
    "types = figure(x_range=FactorRange(factors=range_x),y_range=(0,2000), plot_width=800, plot_height=500,\n",
    "           x_axis_label=xlabel ,toolbar_location=None, tools=\"\",\n",
    "           title=title)\n",
    "\n",
    "renderers = types.vbar_stack(stack, x='cat_type', width=0.9, color=colors, source=source,\n",
    "             legend_label=stack)\n",
    "\n",
    "for r in renderers:\n",
    "    year = r.name\n",
    "    hover = HoverTool(tooltips=[\n",
    "        (\"Total # of stars that have %s\" % year, \"@%s\" % year),\n",
    "        (\"index\", \"$index\")\n",
    "    ], renderers=[r])\n",
    "    types.add_tools(hover)\n",
    "\n",
    "# axis ticks\n",
    "types.xaxis.major_tick_line_color = None \n",
    "types.xaxis.minor_tick_line_color = None \n",
    "types.yaxis.major_tick_line_color = None  \n",
    "types.yaxis.minor_tick_line_color = None  \n",
    "types.legend.location = \"top_center\"\n",
    "types.legend.label_text_font_size = \"7pt\"\n",
    "types.legend.orientation = \"horizontal\"\n",
    "types.xaxis.major_label_orientation = \"vertical\"\n",
    "types.title.text_font_size = '13pt'\n",
    "types.title.align = 'center'\n",
    "\n",
    "# show(types)"
   ]
  },
  {
   "cell_type": "code",
   "execution_count": 47,
   "metadata": {},
   "outputs": [
    {
     "data": {
      "text/html": [
       "\n",
       "\n",
       "\n",
       "\n",
       "\n",
       "\n",
       "  <div class=\"bk-root\" id=\"497a50ef-9010-4413-b376-c72a26a280fb\" data-root-id=\"4979\"></div>\n"
      ]
     },
     "metadata": {},
     "output_type": "display_data"
    },
    {
     "data": {
      "application/javascript": [
       "(function(root) {\n",
       "  function embed_document(root) {\n",
       "    \n",
       "  var docs_json = {\"04ea7181-47c9-4737-93da-389e82539328\":{\"defs\":[],\"roots\":{\"references\":[{\"attributes\":{\"tabs\":[{\"id\":\"4976\"},{\"id\":\"4977\"},{\"id\":\"4978\"}]},\"id\":\"4979\",\"type\":\"Tabs\"},{\"attributes\":{\"data_source\":{\"id\":\"4784\"},\"glyph\":{\"id\":\"4884\"},\"hover_glyph\":null,\"muted_glyph\":null,\"name\":\"3\",\"nonselection_glyph\":{\"id\":\"4885\"},\"view\":{\"id\":\"4887\"}},\"id\":\"4886\",\"type\":\"GlyphRenderer\"},{\"attributes\":{\"bottom\":{\"expr\":{\"id\":\"3868\"}},\"fill_color\":{\"value\":\"#c6dbef\"},\"line_color\":{\"value\":\"#c6dbef\"},\"top\":{\"expr\":{\"id\":\"3869\"}},\"width\":{\"value\":0.9},\"x\":{\"field\":\"cat_kitchen\"}},\"id\":\"3979\",\"type\":\"VBar\"},{\"attributes\":{},\"id\":\"4800\",\"type\":\"BasicTicker\"},{\"attributes\":{\"data\":{\"1\":{\"__ndarray__\":\"AAAAAAAA8D8AAAAAAAAAAAAAAAAAAAAAAAAAAAAAAAAAAAAAAAAAAAAAAAAAAPA/AAAAAAAAAAAAAAAAAADwPwAAAAAAAPA/AAAAAAAAAAAAAAAAAAAAAAAAAAAAAPA/AAAAAAAAAAAAAAAAAAAAAAAAAAAAAAAAAAAAAAAAAAAAAAAAAAAAAA==\",\"dtype\":\"float64\",\"order\":\"little\",\"shape\":[17]},\"1.5\":{\"__ndarray__\":\"AAAAAAAA8D8AAAAAAADwPwAAAAAAAABAAAAAAAAACEAAAAAAAAAAAAAAAAAAAAAAAAAAAAAAAAAAAAAAAAAYQAAAAAAAABRAAAAAAAAA8D8AAAAAAAAgQAAAAAAAAABAAAAAAAAA8D8AAAAAAAAAAAAAAAAAAAAAAAAAAAAAAAAAAAAAAAAAAA==\",\"dtype\":\"float64\",\"order\":\"little\",\"shape\":[17]},\"2\":{\"__ndarray__\":\"AAAAAAAALkAAAAAAAAAcQAAAAAAAAAhAAAAAAAAAKEAAAAAAAAAAQAAAAAAAAAAAAAAAAAAAAAAAAAAAAAA3QAAAAAAAAC5AAAAAAAAAMUAAAAAAAAAuQAAAAAAAAAhAAAAAAAAAHEAAAAAAAADwPwAAAAAAACRAAAAAAAAA8D8AAAAAAAAAAA==\",\"dtype\":\"float64\",\"order\":\"little\",\"shape\":[17]},\"2.5\":{\"__ndarray__\":\"AAAAAAAATkAAAAAAAAA6QAAAAAAAAChAAAAAAAAAOEAAAAAAAAAcQAAAAAAAAAAAAAAAAAAACEAAAAAAAABCQAAAAAAAAEdAAAAAAAAAT0AAAAAAAIBFQAAAAAAAACpAAAAAAAAAM0AAAAAAAAAsQAAAAAAAADZAAAAAAAAAEEAAAAAAAADwPw==\",\"dtype\":\"float64\",\"order\":\"little\",\"shape\":[17]},\"3\":{\"__ndarray__\":\"AAAAAACAZ0AAAAAAAEBQQAAAAAAAgEFAAAAAAAAAT0AAAAAAAAA0QAAAAAAAACBAAAAAAAAAKkAAAAAAAIBPQAAAAAAAwGNAAAAAAABgaEAAAAAAAEBaQAAAAAAAAD9AAAAAAACAT0AAAAAAAAA6QAAAAAAAQFtAAAAAAAAAMkAAAAAAAAAYQA==\",\"dtype\":\"float64\",\"order\":\"little\",\"shape\":[17]},\"3.5\":{\"__ndarray__\":\"AAAAAACgeEAAAAAAAMBlQAAAAAAAgEJAAAAAAADAWUAAAAAAAIBHQAAAAAAAAEFAAAAAAACAR0AAAAAAAMBSQAAAAAAAMHhAAAAAAABQekAAAAAAAOBsQAAAAAAAgFBAAAAAAACAXkAAAAAAAABQQAAAAAAAQHJAAAAAAACAREAAAAAAAAA8QA==\",\"dtype\":\"float64\",\"order\":\"little\",\"shape\":[17]},\"4\":{\"__ndarray__\":\"AAAAAACgeUAAAAAAACBrQAAAAAAAAD5AAAAAAABAV0AAAAAAAABMQAAAAAAAgEpAAAAAAACASkAAAAAAAIBQQAAAAAAAkIBAAAAAAACAfUAAAAAAAEBxQAAAAAAAQFlAAAAAAABgZEAAAAAAAABRQAAAAAAAwHNAAAAAAACAWUAAAAAAAIBPQA==\",\"dtype\":\"float64\",\"order\":\"little\",\"shape\":[17]},\"4.5\":{\"__ndarray__\":\"AAAAAABAY0AAAAAAAEBYQAAAAAAAAChAAAAAAACAQUAAAAAAAABEQAAAAAAAAERAAAAAAAAANkAAAAAAAIBBQAAAAAAAsHZAAAAAAAAAaEAAAAAAAEBSQAAAAAAAAE5AAAAAAACAXEAAAAAAAAAwQAAAAAAAgFxAAAAAAADAUUAAAAAAAAA0QA==\",\"dtype\":\"float64\",\"order\":\"little\",\"shape\":[17]},\"5\":{\"__ndarray__\":\"AAAAAAAAMUAAAAAAAAAoQAAAAAAAAABAAAAAAAAAFEAAAAAAAAAcQAAAAAAAACBAAAAAAAAA8D8AAAAAAAAIQAAAAAAAAE5AAAAAAAAALEAAAAAAAAAkQAAAAAAAAAhAAAAAAAAANEAAAAAAAADwPwAAAAAAACJAAAAAAAAAHEAAAAAAAAAIQA==\",\"dtype\":\"float64\",\"order\":\"little\",\"shape\":[17]},\"cat_type\":[\"Bars\",\"Breakfast & Brunch\",\"Buffets\",\"Burgers\",\"Cafes\",\"Coffee & Tea\",\"Diners\",\"Fast Food\",\"Food\",\"Nightlife\",\"Pizza\",\"Salad\",\"Sandwiches\",\"Steakhouses\",\"Sushi Bars\",\"Vegetarian\",\"Wine Bars\"],\"index\":[0,1,2,3,4,5,6,7,8,9,10,11,12,13,14,15,16]},\"selected\":{\"id\":\"4834\"},\"selection_policy\":{\"id\":\"4835\"}},\"id\":\"4784\",\"type\":\"ColumnDataSource\"},{\"attributes\":{\"data_source\":{\"id\":\"3284\"},\"glyph\":{\"id\":\"3384\"},\"hover_glyph\":null,\"muted_glyph\":null,\"name\":\"3\",\"nonselection_glyph\":{\"id\":\"3385\"},\"view\":{\"id\":\"3387\"}},\"id\":\"3386\",\"type\":\"GlyphRenderer\"},{\"attributes\":{\"source\":{\"id\":\"4784\"}},\"id\":\"4887\",\"type\":\"CDSView\"},{\"attributes\":{\"bottom\":{\"expr\":{\"id\":\"4820\"}},\"fill_color\":{\"value\":\"#deebf7\"},\"line_color\":{\"value\":\"#deebf7\"},\"top\":{\"expr\":{\"id\":\"4821\"}},\"width\":{\"value\":0.9},\"x\":{\"field\":\"cat_type\"}},\"id\":\"4944\",\"type\":\"VBar\"},{\"attributes\":{\"fields\":[\"1\",\"1.5\"]},\"id\":\"3307\",\"type\":\"Stack\"},{\"attributes\":{\"fields\":[\"1\",\"1.5\",\"2\",\"2.5\"]},\"id\":\"3862\",\"type\":\"Stack\"},{\"attributes\":{\"bottom\":{\"expr\":{\"id\":\"3316\"}},\"fill_alpha\":{\"value\":0.1},\"fill_color\":{\"value\":\"#9ecae1\"},\"line_alpha\":{\"value\":0.1},\"line_color\":{\"value\":\"#9ecae1\"},\"top\":{\"expr\":{\"id\":\"3317\"}},\"width\":{\"value\":0.9},\"x\":{\"field\":\"state_name\"}},\"id\":\"3415\",\"type\":\"VBar\"},{\"attributes\":{\"label\":{\"value\":\"3\"},\"renderers\":[{\"id\":\"4886\"}]},\"id\":\"4897\",\"type\":\"LegendItem\"},{\"attributes\":{\"callback\":null,\"renderers\":[{\"id\":\"4886\"}],\"tooltips\":[[\"Total # of stars that have 3\",\"@3\"],[\"index\",\"$index\"]]},\"id\":\"4966\",\"type\":\"HoverTool\"},{\"attributes\":{\"axis\":{\"id\":\"3299\"},\"dimension\":1,\"ticker\":null},\"id\":\"3302\",\"type\":\"Grid\"},{\"attributes\":{\"data_source\":{\"id\":\"3284\"},\"glyph\":{\"id\":\"3369\"},\"hover_glyph\":null,\"muted_glyph\":null,\"name\":\"2.5\",\"nonselection_glyph\":{\"id\":\"3370\"},\"view\":{\"id\":\"3372\"}},\"id\":\"3371\",\"type\":\"GlyphRenderer\"},{\"attributes\":{\"label\":{\"value\":\"5\"},\"renderers\":[{\"id\":\"4946\"}]},\"id\":\"4957\",\"type\":\"LegendItem\"},{\"attributes\":{\"data_source\":{\"id\":\"3284\"},\"glyph\":{\"id\":\"3414\"},\"hover_glyph\":null,\"muted_glyph\":null,\"name\":\"4\",\"nonselection_glyph\":{\"id\":\"3415\"},\"view\":{\"id\":\"3417\"}},\"id\":\"3416\",\"type\":\"GlyphRenderer\"},{\"attributes\":{\"source\":{\"id\":\"3834\"}},\"id\":\"3907\",\"type\":\"CDSView\"},{\"attributes\":{\"bottom\":{\"expr\":{\"id\":\"4812\"}},\"fill_color\":{\"value\":\"#4292c6\"},\"line_color\":{\"value\":\"#4292c6\"},\"top\":{\"expr\":{\"id\":\"4813\"}},\"width\":{\"value\":0.9},\"x\":{\"field\":\"cat_type\"}},\"id\":\"4884\",\"type\":\"VBar\"},{\"attributes\":{\"factors\":[\"American (New)\",\"American (Traditional)\",\"Cajun/Creole\",\"Caribbean\",\"Chinese\",\"Greek\",\"Indian\",\"Italian\",\"Japanese\",\"Korean\",\"Latin American\",\"Mediterranean\",\"Mexican\",\"New Mexican Cuisine\",\"Thai\",\"Vietnamese\"]},\"id\":\"3835\",\"type\":\"FactorRange\"},{\"attributes\":{\"data_source\":{\"id\":\"4784\"},\"glyph\":{\"id\":\"4929\"},\"hover_glyph\":null,\"muted_glyph\":null,\"name\":\"4.5\",\"nonselection_glyph\":{\"id\":\"4930\"},\"view\":{\"id\":\"4932\"}},\"id\":\"4931\",\"type\":\"GlyphRenderer\"},{\"attributes\":{\"bottom\":{\"expr\":{\"id\":\"3312\"}},\"fill_color\":{\"value\":\"#4292c6\"},\"line_color\":{\"value\":\"#4292c6\"},\"top\":{\"expr\":{\"id\":\"3313\"}},\"width\":{\"value\":0.9},\"x\":{\"field\":\"state_name\"}},\"id\":\"3384\",\"type\":\"VBar\"},{\"attributes\":{\"axis\":{\"id\":\"3849\"},\"dimension\":1,\"ticker\":null},\"id\":\"3852\",\"type\":\"Grid\"},{\"attributes\":{\"data\":{\"1\":{\"__ndarray__\":\"AAAAAAAAAAAAAAAAAAAAAAAAAAAAAPA/AAAAAAAA8D8AAAAAAAAAAAAAAAAAAAAAAAAAAAAA8D8AAAAAAADwPwAAAAAAAAAAAAAAAAAA8D8AAAAAAAAAAA==\",\"dtype\":\"float64\",\"order\":\"little\",\"shape\":[11]},\"1.5\":{\"__ndarray__\":\"AAAAAAAAGEAAAAAAAAAAAAAAAAAAABBAAAAAAAAAEEAAAAAAAAAAAAAAAAAAAAAAAAAAAAAACEAAAAAAAAAAQAAAAAAAAAhAAAAAAAAAFEAAAAAAAAAIQA==\",\"dtype\":\"float64\",\"order\":\"little\",\"shape\":[11]},\"2\":{\"__ndarray__\":\"AAAAAAAAMUAAAAAAAAAAQAAAAAAAADRAAAAAAAAAPEAAAAAAAADwPwAAAAAAAPA/AAAAAAAAM0AAAAAAAAAoQAAAAAAAACRAAAAAAAAAMEAAAAAAAAAUQA==\",\"dtype\":\"float64\",\"order\":\"little\",\"shape\":[11]},\"2.5\":{\"__ndarray__\":\"AAAAAAAAS0AAAAAAAAAiQAAAAAAAgE5AAAAAAACAUEAAAAAAAAAAAAAAAAAAAAAAAAAAAADAVUAAAAAAAABEQAAAAAAAAD5AAAAAAAAAQkAAAAAAAAAiQA==\",\"dtype\":\"float64\",\"order\":\"little\",\"shape\":[11]},\"3\":{\"__ndarray__\":\"AAAAAAAAaUAAAAAAAAAiQAAAAAAAAGRAAAAAAAAgYkAAAAAAAAAAAAAAAAAAAAAAAAAAAAAwc0AAAAAAAIBZQAAAAAAAwF5AAAAAAADAVkAAAAAAAAA8QA==\",\"dtype\":\"float64\",\"order\":\"little\",\"shape\":[11]},\"3.5\":{\"__ndarray__\":\"AAAAAADAdkAAAAAAAABJQAAAAAAAYHdAAAAAAADAc0AAAAAAAAAAAAAAAAAAAAAAAAAAAAAYhEAAAAAAAIBpQAAAAAAA8HNAAAAAAABAbkAAAAAAAIBJQA==\",\"dtype\":\"float64\",\"order\":\"little\",\"shape\":[11]},\"4\":{\"__ndarray__\":\"AAAAAACgdUAAAAAAAABPQAAAAAAAYIBAAAAAAACAeEAAAAAAAAAAAAAAAAAAAAAAAAAAAAC4hUAAAAAAABBxQAAAAAAAEHtAAAAAAADAckAAAAAAAABGQA==\",\"dtype\":\"float64\",\"order\":\"little\",\"shape\":[11]},\"4.5\":{\"__ndarray__\":\"AAAAAADAW0AAAAAAAAA5QAAAAAAA8HRAAAAAAACgYkAAAAAAAAAAAAAAAAAAAAAAAAAAAAAAckAAAAAAAEBfQAAAAAAAAG1AAAAAAACgZEAAAAAAAAA8QA==\",\"dtype\":\"float64\",\"order\":\"little\",\"shape\":[11]},\"5\":{\"__ndarray__\":\"AAAAAAAAMkAAAAAAAAAQQAAAAAAAAEBAAAAAAAAAM0AAAAAAAAAAAAAAAAAAAAAAAAAAAAAAQkAAAAAAAAAxQAAAAAAAAEJAAAAAAAAAMkAAAAAAAAAAQA==\",\"dtype\":\"float64\",\"order\":\"little\",\"shape\":[11]},\"index\":[0,1,2,3,4,5,6,7,8,9,10],\"state_name\":[\"British Columbia\",\"Colorado\",\"Florida\",\"Georgia\",\"Kansas\",\"Kentucky\",\"Massachusetts\",\"Ohio\",\"Oregon\",\"Texas\",\"Washington\"]},\"selected\":{\"id\":\"3334\"},\"selection_policy\":{\"id\":\"3335\"}},\"id\":\"3284\",\"type\":\"ColumnDataSource\"},{\"attributes\":{\"source\":{\"id\":\"3284\"}},\"id\":\"3372\",\"type\":\"CDSView\"},{\"attributes\":{\"bottom\":{\"expr\":{\"id\":\"3870\"}},\"fill_color\":{\"value\":\"#deebf7\"},\"line_color\":{\"value\":\"#deebf7\"},\"top\":{\"expr\":{\"id\":\"3871\"}},\"width\":{\"value\":0.9},\"x\":{\"field\":\"cat_kitchen\"}},\"id\":\"3994\",\"type\":\"VBar\"},{\"attributes\":{\"items\":[{\"id\":\"3337\"},{\"id\":\"3352\"},{\"id\":\"3367\"},{\"id\":\"3382\"},{\"id\":\"3397\"},{\"id\":\"3412\"},{\"id\":\"3427\"},{\"id\":\"3442\"},{\"id\":\"3457\"}],\"label_text_font_size\":\"7pt\",\"location\":\"top_center\",\"orientation\":\"horizontal\"},\"id\":\"3336\",\"type\":\"Legend\"},{\"attributes\":{\"callback\":null,\"renderers\":[{\"id\":\"4841\"}],\"tooltips\":[[\"Total # of stars that have 1.5\",\"@1.5\"],[\"index\",\"$index\"]]},\"id\":\"4960\",\"type\":\"HoverTool\"},{\"attributes\":{\"fields\":[\"1\",\"1.5\",\"2\"]},\"id\":\"3310\",\"type\":\"Stack\"},{\"attributes\":{\"fields\":[\"1\",\"1.5\",\"2\",\"2.5\",\"3\",\"3.5\",\"4\",\"4.5\",\"5\"]},\"id\":\"3321\",\"type\":\"Stack\"},{\"attributes\":{\"label\":{\"value\":\"2.5\"},\"renderers\":[{\"id\":\"3371\"}]},\"id\":\"3382\",\"type\":\"LegendItem\"},{\"attributes\":{\"callback\":null,\"renderers\":[{\"id\":\"4871\"}],\"tooltips\":[[\"Total # of stars that have 2.5\",\"@2.5\"],[\"index\",\"$index\"]]},\"id\":\"4964\",\"type\":\"HoverTool\"},{\"attributes\":{\"child\":{\"id\":\"4786\"},\"title\":\"Count stars by Type\"},\"id\":\"4978\",\"type\":\"Panel\"},{\"attributes\":{\"callback\":null,\"renderers\":[{\"id\":\"3325\"}],\"tooltips\":[[\"Total # of stars that have 1\",\"@1\"],[\"index\",\"$index\"]]},\"id\":\"3458\",\"type\":\"HoverTool\"},{\"attributes\":{\"source\":{\"id\":\"3834\"}},\"id\":\"3997\",\"type\":\"CDSView\"},{\"attributes\":{\"callback\":null,\"renderers\":[{\"id\":\"4856\"}],\"tooltips\":[[\"Total # of stars that have 2\",\"@2\"],[\"index\",\"$index\"]]},\"id\":\"4962\",\"type\":\"HoverTool\"},{\"attributes\":{\"label\":{\"value\":\"2.5\"},\"renderers\":[{\"id\":\"4871\"}]},\"id\":\"4882\",\"type\":\"LegendItem\"},{\"attributes\":{\"source\":{\"id\":\"4784\"}},\"id\":\"4947\",\"type\":\"CDSView\"},{\"attributes\":{\"fields\":[\"1\",\"1.5\",\"2\"]},\"id\":\"3309\",\"type\":\"Stack\"},{\"attributes\":{\"fields\":[\"1\"]},\"id\":\"3856\",\"type\":\"Stack\"},{\"attributes\":{\"child\":{\"id\":\"3836\"},\"title\":\"Count stars by Kitchen\"},\"id\":\"4977\",\"type\":\"Panel\"},{\"attributes\":{\"data_source\":{\"id\":\"4784\"},\"glyph\":{\"id\":\"4869\"},\"hover_glyph\":null,\"muted_glyph\":null,\"name\":\"2.5\",\"nonselection_glyph\":{\"id\":\"4870\"},\"view\":{\"id\":\"4872\"}},\"id\":\"4871\",\"type\":\"GlyphRenderer\"},{\"attributes\":{\"bottom\":{\"expr\":{\"id\":\"3312\"}},\"fill_alpha\":{\"value\":0.1},\"fill_color\":{\"value\":\"#4292c6\"},\"line_alpha\":{\"value\":0.1},\"line_color\":{\"value\":\"#4292c6\"},\"top\":{\"expr\":{\"id\":\"3313\"}},\"width\":{\"value\":0.9},\"x\":{\"field\":\"state_name\"}},\"id\":\"3385\",\"type\":\"VBar\"},{\"attributes\":{\"label\":{\"value\":\"2\"},\"renderers\":[{\"id\":\"3906\"}]},\"id\":\"3917\",\"type\":\"LegendItem\"},{\"attributes\":{\"label\":{\"value\":\"5\"},\"renderers\":[{\"id\":\"3446\"}]},\"id\":\"3457\",\"type\":\"LegendItem\"},{\"attributes\":{\"fields\":[\"1\",\"1.5\",\"2\",\"2.5\",\"3\",\"3.5\",\"4\"]},\"id\":\"3317\",\"type\":\"Stack\"},{\"attributes\":{\"bottom\":{\"expr\":{\"id\":\"4810\"}},\"fill_alpha\":{\"value\":0.1},\"fill_color\":{\"value\":\"#2171b5\"},\"line_alpha\":{\"value\":0.1},\"line_color\":{\"value\":\"#2171b5\"},\"top\":{\"expr\":{\"id\":\"4811\"}},\"width\":{\"value\":0.9},\"x\":{\"field\":\"cat_type\"}},\"id\":\"4870\",\"type\":\"VBar\"},{\"attributes\":{\"fields\":[\"1\"]},\"id\":\"3306\",\"type\":\"Stack\"},{\"attributes\":{\"fields\":[\"1\",\"1.5\",\"2\",\"2.5\",\"3\",\"3.5\",\"4\",\"4.5\"]},\"id\":\"3319\",\"type\":\"Stack\"},{\"attributes\":{\"formatter\":{\"id\":\"3330\"},\"major_label_policy\":{\"id\":\"3328\"},\"major_tick_line_color\":null,\"minor_tick_line_color\":null,\"ticker\":{\"id\":\"3476\"}},\"id\":\"3299\",\"type\":\"LinearAxis\"},{\"attributes\":{\"label\":{\"value\":\"2\"},\"renderers\":[{\"id\":\"3356\"}]},\"id\":\"3367\",\"type\":\"LegendItem\"},{\"attributes\":{\"callback\":null,\"renderers\":[{\"id\":\"3906\"}],\"tooltips\":[[\"Total # of stars that have 2\",\"@2\"],[\"index\",\"$index\"]]},\"id\":\"4012\",\"type\":\"HoverTool\"},{\"attributes\":{\"label\":{\"value\":\"3\"},\"renderers\":[{\"id\":\"3386\"}]},\"id\":\"3397\",\"type\":\"LegendItem\"},{\"attributes\":{\"child\":{\"id\":\"3286\"},\"title\":\"Count stars by State\"},\"id\":\"4976\",\"type\":\"Panel\"},{\"attributes\":{\"below\":[{\"id\":\"3846\"}],\"center\":[{\"id\":\"3848\"},{\"id\":\"3852\"},{\"id\":\"3886\"}],\"height\":600,\"left\":[{\"id\":\"3849\"}],\"renderers\":[{\"id\":\"3875\"},{\"id\":\"3891\"},{\"id\":\"3906\"},{\"id\":\"3921\"},{\"id\":\"3936\"},{\"id\":\"3951\"},{\"id\":\"3966\"},{\"id\":\"3981\"},{\"id\":\"3996\"}],\"title\":{\"id\":\"3837\"},\"toolbar\":{\"id\":\"3853\"},\"toolbar_location\":null,\"width\":800,\"x_range\":{\"id\":\"3835\"},\"x_scale\":{\"id\":\"3842\"},\"y_range\":{\"id\":\"3840\"},\"y_scale\":{\"id\":\"3844\"}},\"id\":\"3836\",\"subtype\":\"Figure\",\"type\":\"Plot\"},{\"attributes\":{\"axis\":{\"id\":\"3296\"},\"ticker\":null},\"id\":\"3298\",\"type\":\"Grid\"},{\"attributes\":{\"axis\":{\"id\":\"4799\"},\"dimension\":1,\"ticker\":null},\"id\":\"4802\",\"type\":\"Grid\"},{\"attributes\":{\"data_source\":{\"id\":\"4784\"},\"glyph\":{\"id\":\"4839\"},\"hover_glyph\":null,\"muted_glyph\":null,\"name\":\"1.5\",\"nonselection_glyph\":{\"id\":\"4840\"},\"view\":{\"id\":\"4842\"}},\"id\":\"4841\",\"type\":\"GlyphRenderer\"},{\"attributes\":{\"data_source\":{\"id\":\"4784\"},\"glyph\":{\"id\":\"4944\"},\"hover_glyph\":null,\"muted_glyph\":null,\"name\":\"5\",\"nonselection_glyph\":{\"id\":\"4945\"},\"view\":{\"id\":\"4947\"}},\"id\":\"4946\",\"type\":\"GlyphRenderer\"},{\"attributes\":{\"callback\":null,\"renderers\":[{\"id\":\"3891\"}],\"tooltips\":[[\"Total # of stars that have 1.5\",\"@1.5\"],[\"index\",\"$index\"]]},\"id\":\"4010\",\"type\":\"HoverTool\"},{\"attributes\":{\"active_multi\":null,\"tools\":[{\"id\":\"4958\"},{\"id\":\"4960\"},{\"id\":\"4962\"},{\"id\":\"4964\"},{\"id\":\"4966\"},{\"id\":\"4968\"},{\"id\":\"4970\"},{\"id\":\"4972\"},{\"id\":\"4974\"}]},\"id\":\"4803\",\"type\":\"Toolbar\"},{\"attributes\":{\"callback\":null,\"renderers\":[{\"id\":\"3936\"}],\"tooltips\":[[\"Total # of stars that have 3\",\"@3\"],[\"index\",\"$index\"]]},\"id\":\"4016\",\"type\":\"HoverTool\"},{\"attributes\":{\"bottom\":{\"expr\":{\"id\":\"4808\"}},\"fill_color\":{\"value\":\"#08519c\"},\"line_color\":{\"value\":\"#08519c\"},\"top\":{\"expr\":{\"id\":\"4809\"}},\"width\":{\"value\":0.9},\"x\":{\"field\":\"cat_type\"}},\"id\":\"4854\",\"type\":\"VBar\"},{\"attributes\":{\"bottom\":{\"expr\":{\"id\":\"4810\"}},\"fill_color\":{\"value\":\"#2171b5\"},\"line_color\":{\"value\":\"#2171b5\"},\"top\":{\"expr\":{\"id\":\"4811\"}},\"width\":{\"value\":0.9},\"x\":{\"field\":\"cat_type\"}},\"id\":\"4869\",\"type\":\"VBar\"},{\"attributes\":{\"bottom\":{\"expr\":{\"id\":\"3870\"}},\"fill_alpha\":{\"value\":0.1},\"fill_color\":{\"value\":\"#deebf7\"},\"line_alpha\":{\"value\":0.1},\"line_color\":{\"value\":\"#deebf7\"},\"top\":{\"expr\":{\"id\":\"3871\"}},\"width\":{\"value\":0.9},\"x\":{\"field\":\"cat_kitchen\"}},\"id\":\"3995\",\"type\":\"VBar\"},{\"attributes\":{\"fields\":[\"1\",\"1.5\"]},\"id\":\"3308\",\"type\":\"Stack\"},{\"attributes\":{\"data_source\":{\"id\":\"3834\"},\"glyph\":{\"id\":\"3964\"},\"hover_glyph\":null,\"muted_glyph\":null,\"name\":\"4\",\"nonselection_glyph\":{\"id\":\"3965\"},\"view\":{\"id\":\"3967\"}},\"id\":\"3966\",\"type\":\"GlyphRenderer\"},{\"attributes\":{\"bottom\":{\"expr\":{\"id\":\"4820\"}},\"fill_alpha\":{\"value\":0.1},\"fill_color\":{\"value\":\"#deebf7\"},\"line_alpha\":{\"value\":0.1},\"line_color\":{\"value\":\"#deebf7\"},\"top\":{\"expr\":{\"id\":\"4821\"}},\"width\":{\"value\":0.9},\"x\":{\"field\":\"cat_type\"}},\"id\":\"4945\",\"type\":\"VBar\"},{\"attributes\":{\"data_source\":{\"id\":\"3834\"},\"glyph\":{\"id\":\"3904\"},\"hover_glyph\":null,\"muted_glyph\":null,\"name\":\"2\",\"nonselection_glyph\":{\"id\":\"3905\"},\"view\":{\"id\":\"3907\"}},\"id\":\"3906\",\"type\":\"GlyphRenderer\"},{\"attributes\":{\"formatter\":{\"id\":\"4830\"},\"major_label_policy\":{\"id\":\"4828\"},\"major_tick_line_color\":null,\"minor_tick_line_color\":null,\"ticker\":{\"id\":\"4800\"}},\"id\":\"4799\",\"type\":\"LinearAxis\"},{\"attributes\":{\"ticks\":[0,500,1000,1500,2000,2500]},\"id\":\"3476\",\"type\":\"FixedTicker\"},{\"attributes\":{\"data\":{\"1\":{\"__ndarray__\":\"AAAAAAAAAAAAAAAAAAAAQAAAAAAAAAAAAAAAAAAAAAAAAAAAAAAAAAAAAAAAAAAAAAAAAAAAAAAAAAAAAADwPwAAAAAAAAAAAAAAAAAAAAAAAAAAAADwPwAAAAAAAAAAAAAAAAAA8D8AAAAAAAAAAAAAAAAAAAAAAAAAAAAAAAA=\",\"dtype\":\"float64\",\"order\":\"little\",\"shape\":[16]},\"1.5\":{\"__ndarray__\":\"AAAAAAAAEEAAAAAAAAAUQAAAAAAAAPA/AAAAAAAAAAAAAAAAAAAQQAAAAAAAAPA/AAAAAAAA8D8AAAAAAAAcQAAAAAAAAAAAAAAAAAAAAAAAAAAAAAAAAAAAAAAAAAAAAAAAAAAAHEAAAAAAAAAAAAAAAAAAAAAAAAAAAAAAAAA=\",\"dtype\":\"float64\",\"order\":\"little\",\"shape\":[16]},\"2\":{\"__ndarray__\":\"AAAAAAAANUAAAAAAAABJQAAAAAAAAAAAAAAAAAAACEAAAAAAAAAmQAAAAAAAAABAAAAAAAAAAAAAAAAAAAAyQAAAAAAAACZAAAAAAAAAAAAAAAAAAAAAAAAAAAAAAAAAAAAAAAAAKEAAAAAAAAAAAAAAAAAAAABAAAAAAAAA8D8=\",\"dtype\":\"float64\",\"order\":\"little\",\"shape\":[16]},\"2.5\":{\"__ndarray__\":\"AAAAAADAUUAAAAAAAEBjQAAAAAAAAAAAAAAAAAAAAEAAAAAAAIBDQAAAAAAAAAhAAAAAAAAA8D8AAAAAAABHQAAAAAAAADhAAAAAAAAACEAAAAAAAAAAAAAAAAAAABRAAAAAAAAAQkAAAAAAAAAAAAAAAAAAAAhAAAAAAAAAFEA=\",\"dtype\":\"float64\",\"order\":\"little\",\"shape\":[16]},\"3\":{\"__ndarray__\":\"AAAAAADgZkAAAAAAAHB4QAAAAAAAABxAAAAAAAAALkAAAAAAAEBcQAAAAAAAAC5AAAAAAAAAOEAAAAAAAABfQAAAAAAAAF1AAAAAAAAAKEAAAAAAAAA0QAAAAAAAADNAAAAAAADAV0AAAAAAAADwPwAAAAAAAChAAAAAAAAAMkA=\",\"dtype\":\"float64\",\"order\":\"little\",\"shape\":[16]},\"3.5\":{\"__ndarray__\":\"AAAAAADQfEAAAAAAADiGQAAAAAAAADFAAAAAAAAAQEAAAAAAAKBjQAAAAAAAAEJAAAAAAACAT0AAAAAAALB1QAAAAAAAEHRAAAAAAAAAO0AAAAAAAABCQAAAAAAAgE5AAAAAAABAaEAAAAAAAAAUQAAAAAAAAEVAAAAAAACASkA=\",\"dtype\":\"float64\",\"order\":\"little\",\"shape\":[16]},\"4\":{\"__ndarray__\":\"AAAAAADYg0AAAAAAAACEQAAAAAAAADxAAAAAAAAASEAAAAAAAEBeQAAAAAAAAEZAAAAAAAAAWEAAAAAAAFB7QAAAAAAAMHdAAAAAAACARUAAAAAAAIBOQAAAAAAAQF9AAAAAAABAbEAAAAAAAAAoQAAAAAAAAFRAAAAAAACAWUA=\",\"dtype\":\"float64\",\"order\":\"little\",\"shape\":[16]},\"4.5\":{\"__ndarray__\":\"AAAAAAAgcUAAAAAAAOBsQAAAAAAAADFAAAAAAACAQEAAAAAAAABAQAAAAAAAADpAAAAAAAAASkAAAAAAAKBmQAAAAAAAQGVAAAAAAAAAQEAAAAAAAIBRQAAAAAAAgFZAAAAAAACAYEAAAAAAAAAAQAAAAAAAAElAAAAAAACAUEA=\",\"dtype\":\"float64\",\"order\":\"little\",\"shape\":[16]},\"5\":{\"__ndarray__\":\"AAAAAAAAQUAAAAAAAAA8QAAAAAAAAPA/AAAAAAAAAEAAAAAAAAAIQAAAAAAAAABAAAAAAAAACEAAAAAAAAA5QAAAAAAAADFAAAAAAAAACEAAAAAAAAAoQAAAAAAAADVAAAAAAAAAMkAAAAAAAAAAAAAAAAAAABxAAAAAAAAAGEA=\",\"dtype\":\"float64\",\"order\":\"little\",\"shape\":[16]},\"cat_kitchen\":[\"American (New)\",\"American (Traditional)\",\"Cajun/Creole\",\"Caribbean\",\"Chinese\",\"Greek\",\"Indian\",\"Italian\",\"Japanese\",\"Korean\",\"Latin American\",\"Mediterranean\",\"Mexican\",\"New Mexican Cuisine\",\"Thai\",\"Vietnamese\"],\"index\":[0,1,2,3,4,5,6,7,8,9,10,11,12,13,14,15]},\"selected\":{\"id\":\"3884\"},\"selection_policy\":{\"id\":\"3885\"}},\"id\":\"3834\",\"type\":\"ColumnDataSource\"},{\"attributes\":{\"source\":{\"id\":\"4784\"}},\"id\":\"4872\",\"type\":\"CDSView\"},{\"attributes\":{\"fields\":[\"1\",\"1.5\",\"2\",\"2.5\",\"3\",\"3.5\"]},\"id\":\"3865\",\"type\":\"Stack\"},{\"attributes\":{\"fields\":[\"1\",\"1.5\"]},\"id\":\"3857\",\"type\":\"Stack\"},{\"attributes\":{\"active_multi\":null,\"tools\":[{\"id\":\"3458\"},{\"id\":\"3460\"},{\"id\":\"3462\"},{\"id\":\"3464\"},{\"id\":\"3466\"},{\"id\":\"3468\"},{\"id\":\"3470\"},{\"id\":\"3472\"},{\"id\":\"3474\"}]},\"id\":\"3303\",\"type\":\"Toolbar\"},{\"attributes\":{\"formatter\":{\"id\":\"3880\"},\"major_label_policy\":{\"id\":\"3878\"},\"major_tick_line_color\":null,\"minor_tick_line_color\":null,\"ticker\":{\"id\":\"3850\"}},\"id\":\"3849\",\"type\":\"LinearAxis\"},{\"attributes\":{\"source\":{\"id\":\"3284\"}},\"id\":\"3357\",\"type\":\"CDSView\"},{\"attributes\":{\"label\":{\"value\":\"4\"},\"renderers\":[{\"id\":\"3966\"}]},\"id\":\"3977\",\"type\":\"LegendItem\"},{\"attributes\":{\"data_source\":{\"id\":\"3834\"},\"glyph\":{\"id\":\"3994\"},\"hover_glyph\":null,\"muted_glyph\":null,\"name\":\"5\",\"nonselection_glyph\":{\"id\":\"3995\"},\"view\":{\"id\":\"3997\"}},\"id\":\"3996\",\"type\":\"GlyphRenderer\"},{\"attributes\":{\"label\":{\"value\":\"3.5\"},\"renderers\":[{\"id\":\"3401\"}]},\"id\":\"3412\",\"type\":\"LegendItem\"},{\"attributes\":{\"fields\":[\"1\",\"1.5\",\"2\",\"2.5\",\"3\"]},\"id\":\"3864\",\"type\":\"Stack\"},{\"attributes\":{\"bottom\":{\"expr\":{\"id\":\"3308\"}},\"fill_alpha\":{\"value\":0.1},\"fill_color\":{\"value\":\"#08519c\"},\"line_alpha\":{\"value\":0.1},\"line_color\":{\"value\":\"#08519c\"},\"top\":{\"expr\":{\"id\":\"3309\"}},\"width\":{\"value\":0.9},\"x\":{\"field\":\"state_name\"}},\"id\":\"3355\",\"type\":\"VBar\"},{\"attributes\":{\"source\":{\"id\":\"4784\"}},\"id\":\"4842\",\"type\":\"CDSView\"},{\"attributes\":{\"fields\":[\"1\",\"1.5\",\"2\",\"2.5\",\"3\",\"3.5\",\"4\"]},\"id\":\"3318\",\"type\":\"Stack\"},{\"attributes\":{\"fields\":[\"1\",\"1.5\",\"2\",\"2.5\",\"3\",\"3.5\",\"4\"]},\"id\":\"3868\",\"type\":\"Stack\"},{\"attributes\":{\"bottom\":{\"expr\":{\"id\":\"3306\"}},\"fill_alpha\":{\"value\":0.1},\"fill_color\":{\"value\":\"#08306b\"},\"line_alpha\":{\"value\":0.1},\"line_color\":{\"value\":\"#08306b\"},\"top\":{\"expr\":{\"id\":\"3307\"}},\"width\":{\"value\":0.9},\"x\":{\"field\":\"state_name\"}},\"id\":\"3340\",\"type\":\"VBar\"},{\"attributes\":{\"label\":{\"value\":\"4.5\"},\"renderers\":[{\"id\":\"3981\"}]},\"id\":\"3992\",\"type\":\"LegendItem\"},{\"attributes\":{\"source\":{\"id\":\"4784\"}},\"id\":\"4932\",\"type\":\"CDSView\"},{\"attributes\":{\"fields\":[\"1\",\"1.5\",\"2\",\"2.5\",\"3\",\"3.5\",\"4\"]},\"id\":\"3867\",\"type\":\"Stack\"},{\"attributes\":{\"bottom\":{\"expr\":{\"id\":\"4812\"}},\"fill_alpha\":{\"value\":0.1},\"fill_color\":{\"value\":\"#4292c6\"},\"line_alpha\":{\"value\":0.1},\"line_color\":{\"value\":\"#4292c6\"},\"top\":{\"expr\":{\"id\":\"4813\"}},\"width\":{\"value\":0.9},\"x\":{\"field\":\"cat_type\"}},\"id\":\"4885\",\"type\":\"VBar\"},{\"attributes\":{\"data_source\":{\"id\":\"4784\"},\"glyph\":{\"id\":\"4899\"},\"hover_glyph\":null,\"muted_glyph\":null,\"name\":\"3.5\",\"nonselection_glyph\":{\"id\":\"4900\"},\"view\":{\"id\":\"4902\"}},\"id\":\"4901\",\"type\":\"GlyphRenderer\"},{\"attributes\":{\"callback\":null,\"renderers\":[{\"id\":\"3446\"}],\"tooltips\":[[\"Total # of stars that have 5\",\"@5\"],[\"index\",\"$index\"]]},\"id\":\"3474\",\"type\":\"HoverTool\"},{\"attributes\":{\"fields\":[\"1\"]},\"id\":\"3855\",\"type\":\"Stack\"},{\"attributes\":{\"label\":{\"value\":\"1.5\"},\"renderers\":[{\"id\":\"3341\"}]},\"id\":\"3352\",\"type\":\"LegendItem\"},{\"attributes\":{\"data_source\":{\"id\":\"3284\"},\"glyph\":{\"id\":\"3339\"},\"hover_glyph\":null,\"muted_glyph\":null,\"name\":\"1.5\",\"nonselection_glyph\":{\"id\":\"3340\"},\"view\":{\"id\":\"3342\"}},\"id\":\"3341\",\"type\":\"GlyphRenderer\"},{\"attributes\":{\"source\":{\"id\":\"3834\"}},\"id\":\"3967\",\"type\":\"CDSView\"},{\"attributes\":{\"bottom\":{\"expr\":{\"id\":\"3310\"}},\"fill_alpha\":{\"value\":0.1},\"fill_color\":{\"value\":\"#2171b5\"},\"line_alpha\":{\"value\":0.1},\"line_color\":{\"value\":\"#2171b5\"},\"top\":{\"expr\":{\"id\":\"3311\"}},\"width\":{\"value\":0.9},\"x\":{\"field\":\"state_name\"}},\"id\":\"3370\",\"type\":\"VBar\"},{\"attributes\":{\"bottom\":{\"expr\":{\"id\":\"3866\"}},\"fill_color\":{\"value\":\"#9ecae1\"},\"line_color\":{\"value\":\"#9ecae1\"},\"top\":{\"expr\":{\"id\":\"3867\"}},\"width\":{\"value\":0.9},\"x\":{\"field\":\"cat_kitchen\"}},\"id\":\"3964\",\"type\":\"VBar\"},{\"attributes\":{\"bottom\":{\"expr\":{\"id\":\"4814\"}},\"fill_color\":{\"value\":\"#6baed6\"},\"line_color\":{\"value\":\"#6baed6\"},\"top\":{\"expr\":{\"id\":\"4815\"}},\"width\":{\"value\":0.9},\"x\":{\"field\":\"cat_type\"}},\"id\":\"4899\",\"type\":\"VBar\"},{\"attributes\":{\"axis_label\":\"States\",\"formatter\":{\"id\":\"3333\"},\"major_label_policy\":{\"id\":\"3331\"},\"major_tick_line_color\":null,\"minor_tick_line_color\":null,\"ticker\":{\"id\":\"3297\"}},\"id\":\"3296\",\"type\":\"CategoricalAxis\"},{\"attributes\":{\"fields\":[\"1\",\"1.5\",\"2\",\"2.5\"]},\"id\":\"3311\",\"type\":\"Stack\"},{\"attributes\":{\"bottom\":{\"expr\":{\"id\":\"3310\"}},\"fill_color\":{\"value\":\"#2171b5\"},\"line_color\":{\"value\":\"#2171b5\"},\"top\":{\"expr\":{\"id\":\"3311\"}},\"width\":{\"value\":0.9},\"x\":{\"field\":\"state_name\"}},\"id\":\"3369\",\"type\":\"VBar\"},{\"attributes\":{\"bottom\":{\"expr\":{\"id\":\"4818\"}},\"fill_alpha\":{\"value\":0.1},\"fill_color\":{\"value\":\"#c6dbef\"},\"line_alpha\":{\"value\":0.1},\"line_color\":{\"value\":\"#c6dbef\"},\"top\":{\"expr\":{\"id\":\"4819\"}},\"width\":{\"value\":0.9},\"x\":{\"field\":\"cat_type\"}},\"id\":\"4930\",\"type\":\"VBar\"},{\"attributes\":{\"data_source\":{\"id\":\"3834\"},\"glyph\":{\"id\":\"3949\"},\"hover_glyph\":null,\"muted_glyph\":null,\"name\":\"3.5\",\"nonselection_glyph\":{\"id\":\"3950\"},\"view\":{\"id\":\"3952\"}},\"id\":\"3951\",\"type\":\"GlyphRenderer\"},{\"attributes\":{\"callback\":null,\"renderers\":[{\"id\":\"3416\"}],\"tooltips\":[[\"Total # of stars that have 4\",\"@4\"],[\"index\",\"$index\"]]},\"id\":\"3470\",\"type\":\"HoverTool\"},{\"attributes\":{},\"id\":\"3335\",\"type\":\"UnionRenderers\"},{\"attributes\":{\"bottom\":{\"expr\":{\"id\":\"3866\"}},\"fill_alpha\":{\"value\":0.1},\"fill_color\":{\"value\":\"#9ecae1\"},\"line_alpha\":{\"value\":0.1},\"line_color\":{\"value\":\"#9ecae1\"},\"top\":{\"expr\":{\"id\":\"3867\"}},\"width\":{\"value\":0.9},\"x\":{\"field\":\"cat_kitchen\"}},\"id\":\"3965\",\"type\":\"VBar\"},{\"attributes\":{\"callback\":null,\"renderers\":[{\"id\":\"3401\"}],\"tooltips\":[[\"Total # of stars that have 3.5\",\"@3.5\"],[\"index\",\"$index\"]]},\"id\":\"3468\",\"type\":\"HoverTool\"},{\"attributes\":{\"callback\":null,\"renderers\":[{\"id\":\"3996\"}],\"tooltips\":[[\"Total # of stars that have 5\",\"@5\"],[\"index\",\"$index\"]]},\"id\":\"4024\",\"type\":\"HoverTool\"},{\"attributes\":{},\"id\":\"3297\",\"type\":\"CategoricalTicker\"},{\"attributes\":{},\"id\":\"4834\",\"type\":\"Selection\"},{\"attributes\":{\"active_multi\":null,\"tools\":[{\"id\":\"4008\"},{\"id\":\"4010\"},{\"id\":\"4012\"},{\"id\":\"4014\"},{\"id\":\"4016\"},{\"id\":\"4018\"},{\"id\":\"4020\"},{\"id\":\"4022\"},{\"id\":\"4024\"}]},\"id\":\"3853\",\"type\":\"Toolbar\"},{\"attributes\":{\"label\":{\"value\":\"3.5\"},\"renderers\":[{\"id\":\"3951\"}]},\"id\":\"3962\",\"type\":\"LegendItem\"},{\"attributes\":{\"callback\":null,\"renderers\":[{\"id\":\"4901\"}],\"tooltips\":[[\"Total # of stars that have 3.5\",\"@3.5\"],[\"index\",\"$index\"]]},\"id\":\"4968\",\"type\":\"HoverTool\"},{\"attributes\":{\"factors\":[\"Bars\",\"Breakfast & Brunch\",\"Buffets\",\"Burgers\",\"Cafes\",\"Coffee & Tea\",\"Diners\",\"Fast Food\",\"Food\",\"Nightlife\",\"Pizza\",\"Salad\",\"Sandwiches\",\"Steakhouses\",\"Sushi Bars\",\"Vegetarian\",\"Wine Bars\"]},\"id\":\"4785\",\"type\":\"FactorRange\"},{\"attributes\":{\"label\":{\"value\":\"1\"},\"renderers\":[{\"id\":\"3325\"}]},\"id\":\"3337\",\"type\":\"LegendItem\"},{\"attributes\":{\"bottom\":{\"expr\":{\"id\":\"3858\"}},\"fill_color\":{\"value\":\"#08519c\"},\"line_color\":{\"value\":\"#08519c\"},\"top\":{\"expr\":{\"id\":\"3859\"}},\"width\":{\"value\":0.9},\"x\":{\"field\":\"cat_kitchen\"}},\"id\":\"3904\",\"type\":\"VBar\"},{\"attributes\":{\"source\":{\"id\":\"4784\"}},\"id\":\"4826\",\"type\":\"CDSView\"},{\"attributes\":{\"callback\":null,\"renderers\":[{\"id\":\"3981\"}],\"tooltips\":[[\"Total # of stars that have 4.5\",\"@4.5\"],[\"index\",\"$index\"]]},\"id\":\"4022\",\"type\":\"HoverTool\"},{\"attributes\":{},\"id\":\"4831\",\"type\":\"AllLabels\"},{\"attributes\":{\"source\":{\"id\":\"4784\"}},\"id\":\"4902\",\"type\":\"CDSView\"},{\"attributes\":{\"fields\":[\"1\",\"1.5\",\"2\",\"2.5\",\"3\",\"3.5\"]},\"id\":\"3316\",\"type\":\"Stack\"},{\"attributes\":{\"bottom\":{\"expr\":{\"id\":\"4806\"}},\"fill_alpha\":{\"value\":0.1},\"fill_color\":{\"value\":\"#08306b\"},\"line_alpha\":{\"value\":0.1},\"line_color\":{\"value\":\"#08306b\"},\"top\":{\"expr\":{\"id\":\"4807\"}},\"width\":{\"value\":0.9},\"x\":{\"field\":\"cat_type\"}},\"id\":\"4840\",\"type\":\"VBar\"},{\"attributes\":{\"label\":{\"value\":\"1\"},\"renderers\":[{\"id\":\"4825\"}]},\"id\":\"4837\",\"type\":\"LegendItem\"},{\"attributes\":{\"bottom\":{\"expr\":{\"id\":\"4816\"}},\"fill_alpha\":{\"value\":0.1},\"fill_color\":{\"value\":\"#9ecae1\"},\"line_alpha\":{\"value\":0.1},\"line_color\":{\"value\":\"#9ecae1\"},\"top\":{\"expr\":{\"id\":\"4817\"}},\"width\":{\"value\":0.9},\"x\":{\"field\":\"cat_type\"}},\"id\":\"4915\",\"type\":\"VBar\"},{\"attributes\":{\"fields\":[\"1\",\"1.5\",\"2\",\"2.5\",\"3\"]},\"id\":\"3314\",\"type\":\"Stack\"},{\"attributes\":{\"bottom\":{\"expr\":{\"id\":\"3858\"}},\"fill_alpha\":{\"value\":0.1},\"fill_color\":{\"value\":\"#08519c\"},\"line_alpha\":{\"value\":0.1},\"line_color\":{\"value\":\"#08519c\"},\"top\":{\"expr\":{\"id\":\"3859\"}},\"width\":{\"value\":0.9},\"x\":{\"field\":\"cat_kitchen\"}},\"id\":\"3905\",\"type\":\"VBar\"},{\"attributes\":{\"bottom\":{\"expr\":{\"id\":\"4814\"}},\"fill_alpha\":{\"value\":0.1},\"fill_color\":{\"value\":\"#6baed6\"},\"line_alpha\":{\"value\":0.1},\"line_color\":{\"value\":\"#6baed6\"},\"top\":{\"expr\":{\"id\":\"4815\"}},\"width\":{\"value\":0.9},\"x\":{\"field\":\"cat_type\"}},\"id\":\"4900\",\"type\":\"VBar\"},{\"attributes\":{\"fields\":[\"1\",\"1.5\",\"2\",\"2.5\"]},\"id\":\"3861\",\"type\":\"Stack\"},{\"attributes\":{},\"id\":\"3850\",\"type\":\"BasicTicker\"},{\"attributes\":{\"fields\":[\"1\",\"1.5\",\"2\",\"2.5\",\"3\"]},\"id\":\"3313\",\"type\":\"Stack\"},{\"attributes\":{\"fields\":[\"1\",\"1.5\",\"2\",\"2.5\",\"3\",\"3.5\"]},\"id\":\"3866\",\"type\":\"Stack\"},{\"attributes\":{},\"id\":\"4835\",\"type\":\"UnionRenderers\"},{\"attributes\":{\"source\":{\"id\":\"3284\"}},\"id\":\"3387\",\"type\":\"CDSView\"},{\"attributes\":{\"fields\":[\"1\",\"1.5\",\"2\",\"2.5\",\"3\"]},\"id\":\"3863\",\"type\":\"Stack\"},{\"attributes\":{\"bottom\":{\"expr\":{\"id\":\"3304\"}},\"fill_color\":{\"value\":\"#30678d\"},\"line_color\":{\"value\":\"#30678d\"},\"top\":{\"expr\":{\"id\":\"3305\"}},\"width\":{\"value\":0.9},\"x\":{\"field\":\"state_name\"}},\"id\":\"3323\",\"type\":\"VBar\"},{\"attributes\":{\"bottom\":{\"expr\":{\"id\":\"3308\"}},\"fill_color\":{\"value\":\"#08519c\"},\"line_color\":{\"value\":\"#08519c\"},\"top\":{\"expr\":{\"id\":\"3309\"}},\"width\":{\"value\":0.9},\"x\":{\"field\":\"state_name\"}},\"id\":\"3354\",\"type\":\"VBar\"},{\"attributes\":{\"callback\":null,\"renderers\":[{\"id\":\"3921\"}],\"tooltips\":[[\"Total # of stars that have 2.5\",\"@2.5\"],[\"index\",\"$index\"]]},\"id\":\"4014\",\"type\":\"HoverTool\"},{\"attributes\":{\"callback\":null,\"renderers\":[{\"id\":\"3951\"}],\"tooltips\":[[\"Total # of stars that have 3.5\",\"@3.5\"],[\"index\",\"$index\"]]},\"id\":\"4018\",\"type\":\"HoverTool\"},{\"attributes\":{\"callback\":null,\"renderers\":[{\"id\":\"3966\"}],\"tooltips\":[[\"Total # of stars that have 4\",\"@4\"],[\"index\",\"$index\"]]},\"id\":\"4020\",\"type\":\"HoverTool\"},{\"attributes\":{\"source\":{\"id\":\"4784\"}},\"id\":\"4917\",\"type\":\"CDSView\"},{\"attributes\":{\"fields\":[\"1\",\"1.5\"]},\"id\":\"3858\",\"type\":\"Stack\"},{\"attributes\":{\"items\":[{\"id\":\"4837\"},{\"id\":\"4852\"},{\"id\":\"4867\"},{\"id\":\"4882\"},{\"id\":\"4897\"},{\"id\":\"4912\"},{\"id\":\"4927\"},{\"id\":\"4942\"},{\"id\":\"4957\"}],\"label_text_font_size\":\"7pt\",\"location\":\"top_center\",\"orientation\":\"horizontal\"},\"id\":\"4836\",\"type\":\"Legend\"},{\"attributes\":{\"label\":{\"value\":\"3.5\"},\"renderers\":[{\"id\":\"4901\"}]},\"id\":\"4912\",\"type\":\"LegendItem\"},{\"attributes\":{\"data_source\":{\"id\":\"3284\"},\"glyph\":{\"id\":\"3354\"},\"hover_glyph\":null,\"muted_glyph\":null,\"name\":\"2\",\"nonselection_glyph\":{\"id\":\"3355\"},\"view\":{\"id\":\"3357\"}},\"id\":\"3356\",\"type\":\"GlyphRenderer\"},{\"attributes\":{\"data_source\":{\"id\":\"4784\"},\"glyph\":{\"id\":\"4914\"},\"hover_glyph\":null,\"muted_glyph\":null,\"name\":\"4\",\"nonselection_glyph\":{\"id\":\"4915\"},\"view\":{\"id\":\"4917\"}},\"id\":\"4916\",\"type\":\"GlyphRenderer\"},{\"attributes\":{\"fields\":[]},\"id\":\"3854\",\"type\":\"Stack\"},{\"attributes\":{},\"id\":\"3331\",\"type\":\"AllLabels\"},{\"attributes\":{},\"id\":\"4833\",\"type\":\"CategoricalTickFormatter\"},{\"attributes\":{\"fields\":[\"1\",\"1.5\",\"2\",\"2.5\",\"3\",\"3.5\"]},\"id\":\"3315\",\"type\":\"Stack\"},{\"attributes\":{\"bottom\":{\"expr\":{\"id\":\"4816\"}},\"fill_color\":{\"value\":\"#9ecae1\"},\"line_color\":{\"value\":\"#9ecae1\"},\"top\":{\"expr\":{\"id\":\"4817\"}},\"width\":{\"value\":0.9},\"x\":{\"field\":\"cat_type\"}},\"id\":\"4914\",\"type\":\"VBar\"},{\"attributes\":{\"callback\":null,\"renderers\":[{\"id\":\"3431\"}],\"tooltips\":[[\"Total # of stars that have 4.5\",\"@4.5\"],[\"index\",\"$index\"]]},\"id\":\"3472\",\"type\":\"HoverTool\"},{\"attributes\":{},\"id\":\"4830\",\"type\":\"BasicTickFormatter\"},{\"attributes\":{\"label\":{\"value\":\"4\"},\"renderers\":[{\"id\":\"4916\"}]},\"id\":\"4927\",\"type\":\"LegendItem\"},{\"attributes\":{\"data_source\":{\"id\":\"4784\"},\"glyph\":{\"id\":\"4823\"},\"hover_glyph\":null,\"muted_glyph\":null,\"name\":\"1\",\"nonselection_glyph\":{\"id\":\"4824\"},\"view\":{\"id\":\"4826\"}},\"id\":\"4825\",\"type\":\"GlyphRenderer\"},{\"attributes\":{\"source\":{\"id\":\"3284\"}},\"id\":\"3342\",\"type\":\"CDSView\"},{\"attributes\":{\"label\":{\"value\":\"4.5\"},\"renderers\":[{\"id\":\"4931\"}]},\"id\":\"4942\",\"type\":\"LegendItem\"},{\"attributes\":{},\"id\":\"3333\",\"type\":\"CategoricalTickFormatter\"},{\"attributes\":{},\"id\":\"4828\",\"type\":\"AllLabels\"},{\"attributes\":{\"fields\":[\"1\",\"1.5\",\"2\"]},\"id\":\"3859\",\"type\":\"Stack\"},{\"attributes\":{\"fields\":[\"1\",\"1.5\",\"2\",\"2.5\"]},\"id\":\"4812\",\"type\":\"Stack\"},{\"attributes\":{\"fields\":[\"1\",\"1.5\",\"2\",\"2.5\"]},\"id\":\"3312\",\"type\":\"Stack\"},{\"attributes\":{\"fields\":[\"1\",\"1.5\",\"2\"]},\"id\":\"3860\",\"type\":\"Stack\"},{\"attributes\":{},\"id\":\"3330\",\"type\":\"BasicTickFormatter\"},{\"attributes\":{\"bottom\":{\"expr\":{\"id\":\"3306\"}},\"fill_color\":{\"value\":\"#08306b\"},\"line_color\":{\"value\":\"#08306b\"},\"top\":{\"expr\":{\"id\":\"3307\"}},\"width\":{\"value\":0.9},\"x\":{\"field\":\"state_name\"}},\"id\":\"3339\",\"type\":\"VBar\"},{\"attributes\":{\"source\":{\"id\":\"3834\"}},\"id\":\"3952\",\"type\":\"CDSView\"},{\"attributes\":{\"fields\":[\"1\"]},\"id\":\"3305\",\"type\":\"Stack\"},{\"attributes\":{\"fields\":[\"1\",\"1.5\",\"2\",\"2.5\",\"3\",\"3.5\",\"4\",\"4.5\"]},\"id\":\"3870\",\"type\":\"Stack\"},{\"attributes\":{},\"id\":\"3842\",\"type\":\"CategoricalScale\"},{\"attributes\":{\"data_source\":{\"id\":\"3834\"},\"glyph\":{\"id\":\"3979\"},\"hover_glyph\":null,\"muted_glyph\":null,\"name\":\"4.5\",\"nonselection_glyph\":{\"id\":\"3980\"},\"view\":{\"id\":\"3982\"}},\"id\":\"3981\",\"type\":\"GlyphRenderer\"},{\"attributes\":{\"callback\":null,\"renderers\":[{\"id\":\"3341\"}],\"tooltips\":[[\"Total # of stars that have 1.5\",\"@1.5\"],[\"index\",\"$index\"]]},\"id\":\"3460\",\"type\":\"HoverTool\"},{\"attributes\":{\"fields\":[\"1\"]},\"id\":\"4806\",\"type\":\"Stack\"},{\"attributes\":{\"data_source\":{\"id\":\"3284\"},\"glyph\":{\"id\":\"3444\"},\"hover_glyph\":null,\"muted_glyph\":null,\"name\":\"5\",\"nonselection_glyph\":{\"id\":\"3445\"},\"view\":{\"id\":\"3447\"}},\"id\":\"3446\",\"type\":\"GlyphRenderer\"},{\"attributes\":{\"bottom\":{\"expr\":{\"id\":\"3864\"}},\"fill_alpha\":{\"value\":0.1},\"fill_color\":{\"value\":\"#6baed6\"},\"line_alpha\":{\"value\":0.1},\"line_color\":{\"value\":\"#6baed6\"},\"top\":{\"expr\":{\"id\":\"3865\"}},\"width\":{\"value\":0.9},\"x\":{\"field\":\"cat_kitchen\"}},\"id\":\"3950\",\"type\":\"VBar\"},{\"attributes\":{\"bottom\":{\"expr\":{\"id\":\"4808\"}},\"fill_alpha\":{\"value\":0.1},\"fill_color\":{\"value\":\"#08519c\"},\"line_alpha\":{\"value\":0.1},\"line_color\":{\"value\":\"#08519c\"},\"top\":{\"expr\":{\"id\":\"4809\"}},\"width\":{\"value\":0.9},\"x\":{\"field\":\"cat_type\"}},\"id\":\"4855\",\"type\":\"VBar\"},{\"attributes\":{\"below\":[{\"id\":\"3296\"}],\"center\":[{\"id\":\"3298\"},{\"id\":\"3302\"},{\"id\":\"3336\"}],\"height\":600,\"left\":[{\"id\":\"3299\"}],\"renderers\":[{\"id\":\"3325\"},{\"id\":\"3341\"},{\"id\":\"3356\"},{\"id\":\"3371\"},{\"id\":\"3386\"},{\"id\":\"3401\"},{\"id\":\"3416\"},{\"id\":\"3431\"},{\"id\":\"3446\"}],\"title\":{\"id\":\"3287\"},\"toolbar\":{\"id\":\"3303\"},\"toolbar_location\":null,\"width\":800,\"x_range\":{\"id\":\"3285\"},\"x_scale\":{\"id\":\"3292\"},\"y_range\":{\"id\":\"3290\"},\"y_scale\":{\"id\":\"3294\"}},\"id\":\"3286\",\"subtype\":\"Figure\",\"type\":\"Plot\"},{\"attributes\":{\"callback\":null,\"renderers\":[{\"id\":\"3356\"}],\"tooltips\":[[\"Total # of stars that have 2\",\"@2\"],[\"index\",\"$index\"]]},\"id\":\"3462\",\"type\":\"HoverTool\"},{\"attributes\":{\"bottom\":{\"expr\":{\"id\":\"3862\"}},\"fill_alpha\":{\"value\":0.1},\"fill_color\":{\"value\":\"#4292c6\"},\"line_alpha\":{\"value\":0.1},\"line_color\":{\"value\":\"#4292c6\"},\"top\":{\"expr\":{\"id\":\"3863\"}},\"width\":{\"value\":0.9},\"x\":{\"field\":\"cat_kitchen\"}},\"id\":\"3935\",\"type\":\"VBar\"},{\"attributes\":{\"bottom\":{\"expr\":{\"id\":\"3868\"}},\"fill_alpha\":{\"value\":0.1},\"fill_color\":{\"value\":\"#c6dbef\"},\"line_alpha\":{\"value\":0.1},\"line_color\":{\"value\":\"#c6dbef\"},\"top\":{\"expr\":{\"id\":\"3869\"}},\"width\":{\"value\":0.9},\"x\":{\"field\":\"cat_kitchen\"}},\"id\":\"3980\",\"type\":\"VBar\"},{\"attributes\":{},\"id\":\"3294\",\"type\":\"LinearScale\"},{\"attributes\":{\"source\":{\"id\":\"3834\"}},\"id\":\"3876\",\"type\":\"CDSView\"},{\"attributes\":{\"bottom\":{\"expr\":{\"id\":\"3864\"}},\"fill_color\":{\"value\":\"#6baed6\"},\"line_color\":{\"value\":\"#6baed6\"},\"top\":{\"expr\":{\"id\":\"3865\"}},\"width\":{\"value\":0.9},\"x\":{\"field\":\"cat_kitchen\"}},\"id\":\"3949\",\"type\":\"VBar\"},{\"attributes\":{\"end\":2400},\"id\":\"3840\",\"type\":\"Range1d\"},{\"attributes\":{\"source\":{\"id\":\"3834\"}},\"id\":\"3937\",\"type\":\"CDSView\"},{\"attributes\":{\"fields\":[\"1\",\"1.5\",\"2\",\"2.5\",\"3\",\"3.5\",\"4\",\"4.5\"]},\"id\":\"3320\",\"type\":\"Stack\"},{\"attributes\":{\"fields\":[\"1\",\"1.5\"]},\"id\":\"4808\",\"type\":\"Stack\"},{\"attributes\":{\"fields\":[\"1\",\"1.5\",\"2\",\"2.5\",\"3\",\"3.5\",\"4\",\"4.5\"]},\"id\":\"4819\",\"type\":\"Stack\"},{\"attributes\":{},\"id\":\"3292\",\"type\":\"CategoricalScale\"},{\"attributes\":{\"data_source\":{\"id\":\"3284\"},\"glyph\":{\"id\":\"3429\"},\"hover_glyph\":null,\"muted_glyph\":null,\"name\":\"4.5\",\"nonselection_glyph\":{\"id\":\"3430\"},\"view\":{\"id\":\"3432\"}},\"id\":\"3431\",\"type\":\"GlyphRenderer\"},{\"attributes\":{\"axis_label\":\"Kitchen Types\",\"formatter\":{\"id\":\"3883\"},\"major_label_orientation\":\"vertical\",\"major_label_policy\":{\"id\":\"3881\"},\"major_tick_line_color\":null,\"minor_tick_line_color\":null,\"ticker\":{\"id\":\"3847\"}},\"id\":\"3846\",\"type\":\"CategoricalAxis\"},{\"attributes\":{\"end\":2400},\"id\":\"3290\",\"type\":\"Range1d\"},{\"attributes\":{},\"id\":\"4794\",\"type\":\"LinearScale\"},{\"attributes\":{\"label\":{\"value\":\"1.5\"},\"renderers\":[{\"id\":\"3891\"}]},\"id\":\"3902\",\"type\":\"LegendItem\"},{\"attributes\":{\"data_source\":{\"id\":\"3834\"},\"glyph\":{\"id\":\"3934\"},\"hover_glyph\":null,\"muted_glyph\":null,\"name\":\"3\",\"nonselection_glyph\":{\"id\":\"3935\"},\"view\":{\"id\":\"3937\"}},\"id\":\"3936\",\"type\":\"GlyphRenderer\"},{\"attributes\":{\"source\":{\"id\":\"3284\"}},\"id\":\"3447\",\"type\":\"CDSView\"},{\"attributes\":{\"fields\":[]},\"id\":\"4804\",\"type\":\"Stack\"},{\"attributes\":{\"axis_label\":\"Type\",\"formatter\":{\"id\":\"4833\"},\"major_label_orientation\":\"vertical\",\"major_label_policy\":{\"id\":\"4831\"},\"major_tick_line_color\":null,\"minor_tick_line_color\":null,\"ticker\":{\"id\":\"4797\"}},\"id\":\"4796\",\"type\":\"CategoricalAxis\"},{\"attributes\":{\"bottom\":{\"expr\":{\"id\":\"3860\"}},\"fill_color\":{\"value\":\"#2171b5\"},\"line_color\":{\"value\":\"#2171b5\"},\"top\":{\"expr\":{\"id\":\"3861\"}},\"width\":{\"value\":0.9},\"x\":{\"field\":\"cat_kitchen\"}},\"id\":\"3919\",\"type\":\"VBar\"},{\"attributes\":{\"label\":{\"value\":\"1.5\"},\"renderers\":[{\"id\":\"4841\"}]},\"id\":\"4852\",\"type\":\"LegendItem\"},{\"attributes\":{\"callback\":null,\"renderers\":[{\"id\":\"3386\"}],\"tooltips\":[[\"Total # of stars that have 3\",\"@3\"],[\"index\",\"$index\"]]},\"id\":\"3466\",\"type\":\"HoverTool\"},{\"attributes\":{\"label\":{\"value\":\"2.5\"},\"renderers\":[{\"id\":\"3921\"}]},\"id\":\"3932\",\"type\":\"LegendItem\"},{\"attributes\":{\"fields\":[\"1\",\"1.5\",\"2\",\"2.5\"]},\"id\":\"4811\",\"type\":\"Stack\"},{\"attributes\":{\"label\":{\"value\":\"4.5\"},\"renderers\":[{\"id\":\"3431\"}]},\"id\":\"3442\",\"type\":\"LegendItem\"},{\"attributes\":{\"bottom\":{\"expr\":{\"id\":\"3862\"}},\"fill_color\":{\"value\":\"#4292c6\"},\"line_color\":{\"value\":\"#4292c6\"},\"top\":{\"expr\":{\"id\":\"3863\"}},\"width\":{\"value\":0.9},\"x\":{\"field\":\"cat_kitchen\"}},\"id\":\"3934\",\"type\":\"VBar\"},{\"attributes\":{\"source\":{\"id\":\"4784\"}},\"id\":\"4857\",\"type\":\"CDSView\"},{\"attributes\":{},\"id\":\"3334\",\"type\":\"Selection\"},{\"attributes\":{\"below\":[{\"id\":\"4796\"}],\"center\":[{\"id\":\"4798\"},{\"id\":\"4802\"},{\"id\":\"4836\"}],\"height\":600,\"left\":[{\"id\":\"4799\"}],\"renderers\":[{\"id\":\"4825\"},{\"id\":\"4841\"},{\"id\":\"4856\"},{\"id\":\"4871\"},{\"id\":\"4886\"},{\"id\":\"4901\"},{\"id\":\"4916\"},{\"id\":\"4931\"},{\"id\":\"4946\"}],\"title\":{\"id\":\"4787\"},\"toolbar\":{\"id\":\"4803\"},\"toolbar_location\":null,\"width\":800,\"x_range\":{\"id\":\"4785\"},\"x_scale\":{\"id\":\"4792\"},\"y_range\":{\"id\":\"4790\"},\"y_scale\":{\"id\":\"4794\"}},\"id\":\"4786\",\"subtype\":\"Figure\",\"type\":\"Plot\"},{\"attributes\":{\"fields\":[\"1\",\"1.5\",\"2\"]},\"id\":\"4809\",\"type\":\"Stack\"},{\"attributes\":{\"data_source\":{\"id\":\"3834\"},\"glyph\":{\"id\":\"3873\"},\"hover_glyph\":null,\"muted_glyph\":null,\"name\":\"1\",\"nonselection_glyph\":{\"id\":\"3874\"},\"view\":{\"id\":\"3876\"}},\"id\":\"3875\",\"type\":\"GlyphRenderer\"},{\"attributes\":{\"source\":{\"id\":\"3834\"}},\"id\":\"3982\",\"type\":\"CDSView\"},{\"attributes\":{\"fields\":[\"1\",\"1.5\"]},\"id\":\"4807\",\"type\":\"Stack\"},{\"attributes\":{\"factors\":[\"British Columbia\",\"Colorado\",\"Florida\",\"Georgia\",\"Kansas\",\"Kentucky\",\"Massachusetts\",\"Ohio\",\"Oregon\",\"Texas\",\"Washington\"]},\"id\":\"3285\",\"type\":\"FactorRange\"},{\"attributes\":{\"bottom\":{\"expr\":{\"id\":\"3318\"}},\"fill_color\":{\"value\":\"#c6dbef\"},\"line_color\":{\"value\":\"#c6dbef\"},\"top\":{\"expr\":{\"id\":\"3319\"}},\"width\":{\"value\":0.9},\"x\":{\"field\":\"state_name\"}},\"id\":\"3429\",\"type\":\"VBar\"},{\"attributes\":{\"fields\":[\"1\",\"1.5\",\"2\",\"2.5\",\"3\",\"3.5\"]},\"id\":\"4816\",\"type\":\"Stack\"},{\"attributes\":{\"data_source\":{\"id\":\"3834\"},\"glyph\":{\"id\":\"3919\"},\"hover_glyph\":null,\"muted_glyph\":null,\"name\":\"2.5\",\"nonselection_glyph\":{\"id\":\"3920\"},\"view\":{\"id\":\"3922\"}},\"id\":\"3921\",\"type\":\"GlyphRenderer\"},{\"attributes\":{\"bottom\":{\"expr\":{\"id\":\"3320\"}},\"fill_color\":{\"value\":\"#deebf7\"},\"line_color\":{\"value\":\"#deebf7\"},\"top\":{\"expr\":{\"id\":\"3321\"}},\"width\":{\"value\":0.9},\"x\":{\"field\":\"state_name\"}},\"id\":\"3444\",\"type\":\"VBar\"},{\"attributes\":{\"fields\":[\"1\",\"1.5\",\"2\",\"2.5\",\"3\"]},\"id\":\"4814\",\"type\":\"Stack\"},{\"attributes\":{\"bottom\":{\"expr\":{\"id\":\"3856\"}},\"fill_color\":{\"value\":\"#08306b\"},\"line_color\":{\"value\":\"#08306b\"},\"top\":{\"expr\":{\"id\":\"3857\"}},\"width\":{\"value\":0.9},\"x\":{\"field\":\"cat_kitchen\"}},\"id\":\"3889\",\"type\":\"VBar\"},{\"attributes\":{\"end\":2000},\"id\":\"4790\",\"type\":\"Range1d\"},{\"attributes\":{\"fields\":[\"1\",\"1.5\",\"2\",\"2.5\",\"3\",\"3.5\",\"4\",\"4.5\",\"5\"]},\"id\":\"3871\",\"type\":\"Stack\"},{\"attributes\":{\"bottom\":{\"expr\":{\"id\":\"4806\"}},\"fill_color\":{\"value\":\"#08306b\"},\"line_color\":{\"value\":\"#08306b\"},\"top\":{\"expr\":{\"id\":\"4807\"}},\"width\":{\"value\":0.9},\"x\":{\"field\":\"cat_type\"}},\"id\":\"4839\",\"type\":\"VBar\"},{\"attributes\":{\"label\":{\"value\":\"5\"},\"renderers\":[{\"id\":\"3996\"}]},\"id\":\"4007\",\"type\":\"LegendItem\"},{\"attributes\":{\"fields\":[\"1\",\"1.5\",\"2\",\"2.5\",\"3\",\"3.5\",\"4\"]},\"id\":\"4817\",\"type\":\"Stack\"},{\"attributes\":{\"bottom\":{\"expr\":{\"id\":\"3304\"}},\"fill_alpha\":{\"value\":0.1},\"fill_color\":{\"value\":\"#30678d\"},\"line_alpha\":{\"value\":0.1},\"line_color\":{\"value\":\"#30678d\"},\"top\":{\"expr\":{\"id\":\"3305\"}},\"width\":{\"value\":0.9},\"x\":{\"field\":\"state_name\"}},\"id\":\"3324\",\"type\":\"VBar\"},{\"attributes\":{\"bottom\":{\"expr\":{\"id\":\"4804\"}},\"fill_color\":{\"value\":\"#30678D\"},\"line_color\":{\"value\":\"#30678D\"},\"top\":{\"expr\":{\"id\":\"4805\"}},\"width\":{\"value\":0.9},\"x\":{\"field\":\"cat_type\"}},\"id\":\"4823\",\"type\":\"VBar\"},{\"attributes\":{\"fields\":[\"1\",\"1.5\",\"2\",\"2.5\",\"3\"]},\"id\":\"4813\",\"type\":\"Stack\"},{\"attributes\":{\"label\":{\"value\":\"4\"},\"renderers\":[{\"id\":\"3416\"}]},\"id\":\"3427\",\"type\":\"LegendItem\"},{\"attributes\":{\"label\":{\"value\":\"3\"},\"renderers\":[{\"id\":\"3936\"}]},\"id\":\"3947\",\"type\":\"LegendItem\"},{\"attributes\":{},\"id\":\"3847\",\"type\":\"CategoricalTicker\"},{\"attributes\":{\"bottom\":{\"expr\":{\"id\":\"3314\"}},\"fill_alpha\":{\"value\":0.1},\"fill_color\":{\"value\":\"#6baed6\"},\"line_alpha\":{\"value\":0.1},\"line_color\":{\"value\":\"#6baed6\"},\"top\":{\"expr\":{\"id\":\"3315\"}},\"width\":{\"value\":0.9},\"x\":{\"field\":\"state_name\"}},\"id\":\"3400\",\"type\":\"VBar\"},{\"attributes\":{\"bottom\":{\"expr\":{\"id\":\"3860\"}},\"fill_alpha\":{\"value\":0.1},\"fill_color\":{\"value\":\"#2171b5\"},\"line_alpha\":{\"value\":0.1},\"line_color\":{\"value\":\"#2171b5\"},\"top\":{\"expr\":{\"id\":\"3861\"}},\"width\":{\"value\":0.9},\"x\":{\"field\":\"cat_kitchen\"}},\"id\":\"3920\",\"type\":\"VBar\"},{\"attributes\":{\"bottom\":{\"expr\":{\"id\":\"3318\"}},\"fill_alpha\":{\"value\":0.1},\"fill_color\":{\"value\":\"#c6dbef\"},\"line_alpha\":{\"value\":0.1},\"line_color\":{\"value\":\"#c6dbef\"},\"top\":{\"expr\":{\"id\":\"3319\"}},\"width\":{\"value\":0.9},\"x\":{\"field\":\"state_name\"}},\"id\":\"3430\",\"type\":\"VBar\"},{\"attributes\":{\"source\":{\"id\":\"3284\"}},\"id\":\"3326\",\"type\":\"CDSView\"},{\"attributes\":{\"bottom\":{\"expr\":{\"id\":\"4818\"}},\"fill_color\":{\"value\":\"#c6dbef\"},\"line_color\":{\"value\":\"#c6dbef\"},\"top\":{\"expr\":{\"id\":\"4819\"}},\"width\":{\"value\":0.9},\"x\":{\"field\":\"cat_type\"}},\"id\":\"4929\",\"type\":\"VBar\"},{\"attributes\":{},\"id\":\"3844\",\"type\":\"LinearScale\"},{\"attributes\":{\"source\":{\"id\":\"3284\"}},\"id\":\"3402\",\"type\":\"CDSView\"},{\"attributes\":{\"fields\":[\"1\",\"1.5\",\"2\",\"2.5\",\"3\",\"3.5\",\"4\"]},\"id\":\"4818\",\"type\":\"Stack\"},{\"attributes\":{\"data_source\":{\"id\":\"3284\"},\"glyph\":{\"id\":\"3323\"},\"hover_glyph\":null,\"muted_glyph\":null,\"name\":\"1\",\"nonselection_glyph\":{\"id\":\"3324\"},\"view\":{\"id\":\"3326\"}},\"id\":\"3325\",\"type\":\"GlyphRenderer\"},{\"attributes\":{\"align\":\"center\",\"text\":\"Count of stars by State\",\"text_font_size\":\"13pt\"},\"id\":\"3287\",\"type\":\"Title\"},{\"attributes\":{\"fields\":[\"1\"]},\"id\":\"4805\",\"type\":\"Stack\"},{\"attributes\":{\"bottom\":{\"expr\":{\"id\":\"3856\"}},\"fill_alpha\":{\"value\":0.1},\"fill_color\":{\"value\":\"#08306b\"},\"line_alpha\":{\"value\":0.1},\"line_color\":{\"value\":\"#08306b\"},\"top\":{\"expr\":{\"id\":\"3857\"}},\"width\":{\"value\":0.9},\"x\":{\"field\":\"cat_kitchen\"}},\"id\":\"3890\",\"type\":\"VBar\"},{\"attributes\":{\"align\":\"center\",\"text\":\"Count of stars by Kitchen\",\"text_font_size\":\"13pt\"},\"id\":\"3837\",\"type\":\"Title\"},{\"attributes\":{\"callback\":null,\"renderers\":[{\"id\":\"4825\"}],\"tooltips\":[[\"Total # of stars that have 1\",\"@1\"],[\"index\",\"$index\"]]},\"id\":\"4958\",\"type\":\"HoverTool\"},{\"attributes\":{\"fields\":[\"1\",\"1.5\",\"2\",\"2.5\",\"3\",\"3.5\"]},\"id\":\"4815\",\"type\":\"Stack\"},{\"attributes\":{\"bottom\":{\"expr\":{\"id\":\"3316\"}},\"fill_color\":{\"value\":\"#9ecae1\"},\"line_color\":{\"value\":\"#9ecae1\"},\"top\":{\"expr\":{\"id\":\"3317\"}},\"width\":{\"value\":0.9},\"x\":{\"field\":\"state_name\"}},\"id\":\"3414\",\"type\":\"VBar\"},{\"attributes\":{\"callback\":null,\"renderers\":[{\"id\":\"3875\"}],\"tooltips\":[[\"Total # of stars that have 1\",\"@1\"],[\"index\",\"$index\"]]},\"id\":\"4008\",\"type\":\"HoverTool\"},{\"attributes\":{\"source\":{\"id\":\"3834\"}},\"id\":\"3892\",\"type\":\"CDSView\"},{\"attributes\":{\"bottom\":{\"expr\":{\"id\":\"4804\"}},\"fill_alpha\":{\"value\":0.1},\"fill_color\":{\"value\":\"#30678D\"},\"line_alpha\":{\"value\":0.1},\"line_color\":{\"value\":\"#30678D\"},\"top\":{\"expr\":{\"id\":\"4805\"}},\"width\":{\"value\":0.9},\"x\":{\"field\":\"cat_type\"}},\"id\":\"4824\",\"type\":\"VBar\"},{\"attributes\":{\"fields\":[\"1\",\"1.5\",\"2\"]},\"id\":\"4810\",\"type\":\"Stack\"},{\"attributes\":{\"fields\":[]},\"id\":\"3304\",\"type\":\"Stack\"},{\"attributes\":{\"callback\":null,\"renderers\":[{\"id\":\"4916\"}],\"tooltips\":[[\"Total # of stars that have 4\",\"@4\"],[\"index\",\"$index\"]]},\"id\":\"4970\",\"type\":\"HoverTool\"},{\"attributes\":{\"fields\":[\"1\",\"1.5\",\"2\",\"2.5\",\"3\",\"3.5\",\"4\",\"4.5\"]},\"id\":\"3869\",\"type\":\"Stack\"},{\"attributes\":{\"data_source\":{\"id\":\"3834\"},\"glyph\":{\"id\":\"3889\"},\"hover_glyph\":null,\"muted_glyph\":null,\"name\":\"1.5\",\"nonselection_glyph\":{\"id\":\"3890\"},\"view\":{\"id\":\"3892\"}},\"id\":\"3891\",\"type\":\"GlyphRenderer\"},{\"attributes\":{\"fields\":[\"1\",\"1.5\",\"2\",\"2.5\",\"3\",\"3.5\",\"4\",\"4.5\",\"5\"]},\"id\":\"4821\",\"type\":\"Stack\"},{\"attributes\":{\"bottom\":{\"expr\":{\"id\":\"3320\"}},\"fill_alpha\":{\"value\":0.1},\"fill_color\":{\"value\":\"#deebf7\"},\"line_alpha\":{\"value\":0.1},\"line_color\":{\"value\":\"#deebf7\"},\"top\":{\"expr\":{\"id\":\"3321\"}},\"width\":{\"value\":0.9},\"x\":{\"field\":\"state_name\"}},\"id\":\"3445\",\"type\":\"VBar\"},{\"attributes\":{\"callback\":null,\"renderers\":[{\"id\":\"4946\"}],\"tooltips\":[[\"Total # of stars that have 5\",\"@5\"],[\"index\",\"$index\"]]},\"id\":\"4974\",\"type\":\"HoverTool\"},{\"attributes\":{},\"id\":\"3328\",\"type\":\"AllLabels\"},{\"attributes\":{\"source\":{\"id\":\"3834\"}},\"id\":\"3922\",\"type\":\"CDSView\"},{\"attributes\":{\"callback\":null,\"renderers\":[{\"id\":\"4931\"}],\"tooltips\":[[\"Total # of stars that have 4.5\",\"@4.5\"],[\"index\",\"$index\"]]},\"id\":\"4972\",\"type\":\"HoverTool\"},{\"attributes\":{},\"id\":\"4792\",\"type\":\"CategoricalScale\"},{\"attributes\":{},\"id\":\"3880\",\"type\":\"BasicTickFormatter\"},{\"attributes\":{\"fields\":[\"1\",\"1.5\",\"2\",\"2.5\",\"3\",\"3.5\",\"4\",\"4.5\"]},\"id\":\"4820\",\"type\":\"Stack\"},{\"attributes\":{\"axis\":{\"id\":\"3846\"},\"ticker\":null},\"id\":\"3848\",\"type\":\"Grid\"},{\"attributes\":{\"data_source\":{\"id\":\"4784\"},\"glyph\":{\"id\":\"4854\"},\"hover_glyph\":null,\"muted_glyph\":null,\"name\":\"2\",\"nonselection_glyph\":{\"id\":\"4855\"},\"view\":{\"id\":\"4857\"}},\"id\":\"4856\",\"type\":\"GlyphRenderer\"},{\"attributes\":{},\"id\":\"3884\",\"type\":\"Selection\"},{\"attributes\":{\"bottom\":{\"expr\":{\"id\":\"3854\"}},\"fill_alpha\":{\"value\":0.1},\"fill_color\":{\"value\":\"#30678D\"},\"line_alpha\":{\"value\":0.1},\"line_color\":{\"value\":\"#30678D\"},\"top\":{\"expr\":{\"id\":\"3855\"}},\"width\":{\"value\":0.9},\"x\":{\"field\":\"cat_kitchen\"}},\"id\":\"3874\",\"type\":\"VBar\"},{\"attributes\":{},\"id\":\"4797\",\"type\":\"CategoricalTicker\"},{\"attributes\":{},\"id\":\"3885\",\"type\":\"UnionRenderers\"},{\"attributes\":{\"source\":{\"id\":\"3284\"}},\"id\":\"3432\",\"type\":\"CDSView\"},{\"attributes\":{\"axis\":{\"id\":\"4796\"},\"ticker\":null},\"id\":\"4798\",\"type\":\"Grid\"},{\"attributes\":{},\"id\":\"3883\",\"type\":\"CategoricalTickFormatter\"},{\"attributes\":{\"items\":[{\"id\":\"3887\"},{\"id\":\"3902\"},{\"id\":\"3917\"},{\"id\":\"3932\"},{\"id\":\"3947\"},{\"id\":\"3962\"},{\"id\":\"3977\"},{\"id\":\"3992\"},{\"id\":\"4007\"}],\"label_text_font_size\":\"7pt\",\"location\":\"top_center\",\"orientation\":\"horizontal\"},\"id\":\"3886\",\"type\":\"Legend\"},{\"attributes\":{\"source\":{\"id\":\"3284\"}},\"id\":\"3417\",\"type\":\"CDSView\"},{\"attributes\":{\"label\":{\"value\":\"1\"},\"renderers\":[{\"id\":\"3875\"}]},\"id\":\"3887\",\"type\":\"LegendItem\"},{\"attributes\":{\"bottom\":{\"expr\":{\"id\":\"3854\"}},\"fill_color\":{\"value\":\"#30678D\"},\"line_color\":{\"value\":\"#30678D\"},\"top\":{\"expr\":{\"id\":\"3855\"}},\"width\":{\"value\":0.9},\"x\":{\"field\":\"cat_kitchen\"}},\"id\":\"3873\",\"type\":\"VBar\"},{\"attributes\":{\"align\":\"center\",\"text\":\"Count of stars by Type\",\"text_font_size\":\"13pt\"},\"id\":\"4787\",\"type\":\"Title\"},{\"attributes\":{},\"id\":\"3878\",\"type\":\"AllLabels\"},{\"attributes\":{\"label\":{\"value\":\"2\"},\"renderers\":[{\"id\":\"4856\"}]},\"id\":\"4867\",\"type\":\"LegendItem\"},{\"attributes\":{\"callback\":null,\"renderers\":[{\"id\":\"3371\"}],\"tooltips\":[[\"Total # of stars that have 2.5\",\"@2.5\"],[\"index\",\"$index\"]]},\"id\":\"3464\",\"type\":\"HoverTool\"},{\"attributes\":{},\"id\":\"3881\",\"type\":\"AllLabels\"},{\"attributes\":{\"bottom\":{\"expr\":{\"id\":\"3314\"}},\"fill_color\":{\"value\":\"#6baed6\"},\"line_color\":{\"value\":\"#6baed6\"},\"top\":{\"expr\":{\"id\":\"3315\"}},\"width\":{\"value\":0.9},\"x\":{\"field\":\"state_name\"}},\"id\":\"3399\",\"type\":\"VBar\"},{\"attributes\":{\"data_source\":{\"id\":\"3284\"},\"glyph\":{\"id\":\"3399\"},\"hover_glyph\":null,\"muted_glyph\":null,\"name\":\"3.5\",\"nonselection_glyph\":{\"id\":\"3400\"},\"view\":{\"id\":\"3402\"}},\"id\":\"3401\",\"type\":\"GlyphRenderer\"}],\"root_ids\":[\"4979\"]},\"title\":\"Bokeh Application\",\"version\":\"2.3.1\"}};\n",
       "  var render_items = [{\"docid\":\"04ea7181-47c9-4737-93da-389e82539328\",\"root_ids\":[\"4979\"],\"roots\":{\"4979\":\"497a50ef-9010-4413-b376-c72a26a280fb\"}}];\n",
       "  root.Bokeh.embed.embed_items_notebook(docs_json, render_items);\n",
       "\n",
       "  }\n",
       "  if (root.Bokeh !== undefined) {\n",
       "    embed_document(root);\n",
       "  } else {\n",
       "    var attempts = 0;\n",
       "    var timer = setInterval(function(root) {\n",
       "      if (root.Bokeh !== undefined) {\n",
       "        clearInterval(timer);\n",
       "        embed_document(root);\n",
       "      } else {\n",
       "        attempts++;\n",
       "        if (attempts > 100) {\n",
       "          clearInterval(timer);\n",
       "          console.log(\"Bokeh: ERROR: Unable to run BokehJS code because BokehJS library is missing\");\n",
       "        }\n",
       "      }\n",
       "    }, 10, root)\n",
       "  }\n",
       "})(window);"
      ],
      "application/vnd.bokehjs_exec.v0+json": ""
     },
     "metadata": {
      "application/vnd.bokehjs_exec.v0+json": {
       "id": "4979"
      }
     },
     "output_type": "display_data"
    }
   ],
   "source": [
    "# Increase the plot widths\n",
    "state.plot_width = kitchen.plot_width = types.plot_width = 800\n",
    "state.plot_height = kitchen.plot_height = types.plot_height = 600\n",
    "\n",
    "# Create three panels, one for each conference\n",
    "state_panel = Panel(child=state, title='Count stars by State')\n",
    "kitchen_panel = Panel(child=kitchen, title='Count stars by Kitchen')\n",
    "types_panel = Panel(child=types, title='Count stars by Type')\n",
    "\n",
    "# Assign the panels to Tabs\n",
    "tabs = Tabs(tabs=[state_panel, kitchen_panel, types_panel])\n",
    "\n",
    "# Show the tabbed layout\n",
    "show(tabs)\n",
    "\n",
    "html = file_html(tabs, CDN, \"Score Overview\")\n",
    "# print(html)"
   ]
  },
  {
   "cell_type": "markdown",
   "metadata": {},
   "source": [
    "### 3.3. Time-based Overview"
   ]
  },
  {
   "cell_type": "code",
   "execution_count": null,
   "metadata": {},
   "outputs": [],
   "source": []
  },
  {
   "cell_type": "code",
   "execution_count": null,
   "metadata": {},
   "outputs": [],
   "source": []
  },
  {
   "cell_type": "code",
   "execution_count": null,
   "metadata": {},
   "outputs": [],
   "source": []
  },
  {
   "cell_type": "code",
   "execution_count": null,
   "metadata": {},
   "outputs": [],
   "source": []
  },
  {
   "cell_type": "code",
   "execution_count": null,
   "metadata": {},
   "outputs": [],
   "source": []
  },
  {
   "cell_type": "markdown",
   "metadata": {},
   "source": [
    "## 4. Genre\n",
    "\n",
    "\n",
    "Which genre of data story did you use?\n",
    "\n",
    "Which tools did you use from each of the 3 categories of Visual Narrative (Figure 7 in Segal and Heer). Why?\n",
    "\n",
    "Which tools did you use from each of the 3 categories of Narrative Structure (Figure 7 in Segal and Heer). Why?"
   ]
  },
  {
   "cell_type": "markdown",
   "metadata": {},
   "source": [
    "## 5. Visualizations\n",
    "\n",
    "Explain the visualizations you've chosen.\n",
    "\n",
    "Why are they right for the story you want to tell?"
   ]
  },
  {
   "cell_type": "markdown",
   "metadata": {},
   "source": [
    "### 5.1. Anomaly Detection"
   ]
  },
  {
   "cell_type": "code",
   "execution_count": null,
   "metadata": {},
   "outputs": [],
   "source": []
  },
  {
   "cell_type": "code",
   "execution_count": null,
   "metadata": {},
   "outputs": [],
   "source": []
  },
  {
   "cell_type": "code",
   "execution_count": null,
   "metadata": {},
   "outputs": [],
   "source": []
  },
  {
   "cell_type": "code",
   "execution_count": null,
   "metadata": {},
   "outputs": [],
   "source": []
  },
  {
   "cell_type": "code",
   "execution_count": null,
   "metadata": {},
   "outputs": [],
   "source": []
  },
  {
   "cell_type": "markdown",
   "metadata": {},
   "source": [
    "### 5.2. Interactive plot"
   ]
  },
  {
   "cell_type": "code",
   "execution_count": 48,
   "metadata": {},
   "outputs": [
    {
     "data": {
      "text/plain": [
       "(24530, 27)"
      ]
     },
     "execution_count": 48,
     "metadata": {},
     "output_type": "execute_result"
    }
   ],
   "source": [
    "df_new = df.drop_duplicates(subset=['name','state','cat_kitchen','cat_type'])\n",
    "df_new.shape"
   ]
  },
  {
   "cell_type": "code",
   "execution_count": 54,
   "metadata": {},
   "outputs": [
    {
     "data": {
      "application/vnd.bokehjs_exec.v0+json": "",
      "text/html": [
       "\n",
       "<script id=\"5802\">\n",
       "  var xhr = new XMLHttpRequest()\n",
       "  xhr.responseType = 'blob';\n",
       "  xhr.open('GET', \"http://localhost:58246/autoload.js?bokeh-autoload-element=5802&bokeh-absolute-url=http://localhost:58246&resources=none\", true);\n",
       "  \n",
       "  xhr.onload = function (event) {\n",
       "    var script = document.createElement('script'),\n",
       "    src = URL.createObjectURL(event.target.response);\n",
       "    script.src = src;\n",
       "    document.body.appendChild(script);\n",
       "  };\n",
       "xhr.send();\n",
       "</script>"
      ]
     },
     "metadata": {
      "application/vnd.bokehjs_exec.v0+json": {
       "server_id": "73a17b43766a4717b5b339091395067c"
      }
     },
     "output_type": "display_data"
    },
    {
     "name": "stderr",
     "output_type": "stream",
     "text": [
      "ERROR:bokeh.server.views.ws:Refusing websocket connection from Origin 'http://localhost:8890';                       use --allow-websocket-origin=localhost:8890 or set BOKEH_ALLOW_WS_ORIGIN=localhost:8890 to permit this; currently we allow origins {'localhost:8888'}\n",
      "WARNING:tornado.access:403 GET /ws (::1) 1.04ms\n"
     ]
    }
   ],
   "source": [
    "def modify_doc(doc):\n",
    "    \n",
    "    def make_dataset(selectedState, selectedKitchen, selectedType, selectedPrice):\n",
    "        df_ = df_new.copy()\n",
    "        df_empty = pd.DataFrame()\n",
    "        if selectedPrice == 'No Preference':  \n",
    "            if selectedState != 'All':\n",
    "                df_ = df_[df_['state_name'] == selectedState]\n",
    "            if selectedKitchen != 'All':\n",
    "                df_ = df_[df_['cat_kitchen'] == selectedKitchen]\n",
    "            if selectedType != 'All':\n",
    "                df_ = df_[df_['cat_type'] == selectedType]\n",
    "        else:\n",
    "            for i, price in enumerate(selectedPrice):\n",
    "                # Subset to the carrier\n",
    "                subset = df_[df_['PriceRange'] == price]\n",
    "                df_empty = df_empty.append(subset)\n",
    "                \n",
    "            if selectedState != 'All':\n",
    "                df_empty = df_empty[df_empty['state_name'] == selectedState]\n",
    "            if selectedKitchen != 'All':\n",
    "                df_empty = df_empty[df_empty['cat_kitchen'] == selectedKitchen]\n",
    "            if selectedType != 'All':\n",
    "                df_empty = df_empty[df_empty['cat_type'] == selectedType]\n",
    "        \n",
    "        if selectedPrice == 'No Preference':\n",
    "            df_ = df_\n",
    "        else:\n",
    "            df_ = df_empty\n",
    "\n",
    "\n",
    "        # Preparing with long/lat coordinates \n",
    "        df_['coordinates'] = list(zip(df_['latitude'], df_['longitude']))\n",
    "        # Obtain list of mercator coordinates\n",
    "        mercators = [x_coord(x, y) for x, y in df_['coordinates'] ]\n",
    "\n",
    "        # Create mercator column in our df\n",
    "        df_['mercator'] = mercators\n",
    "        # Split that column out into two separate columns - mercator_x and mercator_y\n",
    "        df_[['mercator_x', 'mercator_y']] = df_['mercator'].apply(pd.Series)\n",
    "    \n",
    "        #title for the plot  \n",
    "        div_title = Div(text=\"<b> Restaurant matching Preferences: {} </b>\".format(len(df_['name'].unique())),\n",
    "                   style={'font-size': '150%'})\n",
    "        \n",
    "        # Convert dataframe to column data source\n",
    "        return ColumnDataSource(df_), div_title\n",
    "    \n",
    "    def make_plot(source):\n",
    "    \n",
    "\n",
    "        #table in the plot\n",
    "        columns = [\n",
    "            TableColumn(field=\"name\", title=\"Restaurant Name\", width=100),\n",
    "            TableColumn(field=\"stars\", title=\"Stars\", width=50),\n",
    "            TableColumn(field=\"state_name\", title=\"State\", width=80),\n",
    "            TableColumn(field=\"city\", title=\"City\", width=80),\n",
    "            TableColumn(field=\"cat_kitchen\", title=\"Kitchen\", width=110),\n",
    "            TableColumn(field=\"cat_type\", title=\"Type\", width=100),\n",
    "            TableColumn(field=\"PriceRange\", title=\"Price\", width=60)\n",
    "        ]\n",
    "        table = DataTable(source=source, columns=columns, width=660, height=200, fit_columns=False)\n",
    "\n",
    "        #Map layout of North America\n",
    "        tooltips = [(\"Restaurant\",\"@name\"), (\"Stars\", \"@stars\")]\n",
    "\n",
    "        p = figure(x_axis_type=\"mercator\", y_axis_type=\"mercator\", \n",
    "               x_axis_label = 'Longitude', y_axis_label = 'Latitude', \n",
    "               tooltips = tooltips, plot_width=500, plot_height=500, \n",
    "               toolbar_location='below', tools=\"pan,wheel_zoom,reset\", \n",
    "                active_scroll='auto')\n",
    "\n",
    "        p.circle(x = 'mercator_x', y = 'mercator_y', color = 'lightblue', source=source, \n",
    "             size=10, fill_alpha = 0.7)\n",
    "\n",
    "        chosentile = get_provider(Vendors.CARTODBPOSITRON)\n",
    "        p.add_tile(chosentile)\n",
    "\n",
    "        return table, p\n",
    "    \n",
    "    # Update maps\n",
    "    def update(attr, old, new):\n",
    "        \n",
    "        # Get the list of carriers for the graph\n",
    "        selectedState = select_state.value\n",
    "        selectedKitchen = select_kitchen.value\n",
    "        selectedType = select_type.value\n",
    "        selectedPrice = [select_price.labels[i] for i in select_price.active]\n",
    "        \n",
    "        # Make a new dataset based on the selected filters and the make_dataset function defined earlier\n",
    "        new_src, div_title = make_dataset(selectedState, selectedKitchen, selectedType, selectedPrice)\n",
    "        # Update the source used in the quad glpyhs\n",
    "        src.data.update(new_src.data)\n",
    "        \n",
    "        layout.children[0] = div_title\n",
    "\n",
    "        \n",
    "    #selection the different filters\n",
    "    div_subtitle = Div(text=\"<i> Filter with the data and find your favorite restaurant </i>\")\n",
    "\n",
    "    # User select: State\n",
    "    div_state = Div(text=\"<b> Select State </b>\")\n",
    "    state = ['All']+df_new['state_name'].unique().tolist()\n",
    "    select_state = Select(options=state, value=state[0]) #by default All is chosen\n",
    "    select_state.on_change('value', update)\n",
    "\n",
    "    # User select: Kitchen\n",
    "    div_kitchen = Div(text=\"<b> Select Kitchen </b>\")\n",
    "    kitchen = ['All']+df_new['cat_kitchen'].unique().tolist()\n",
    "    select_kitchen = Select(options=kitchen, value=kitchen[0]) #by default All is chosen\n",
    "    select_kitchen.on_change('value', update)\n",
    "\n",
    "    # User select: Type\n",
    "    div_type = Div(text=\"<b> Select Type </b>\")\n",
    "    types = ['All']+df_new['cat_type'].unique().tolist()\n",
    "    select_type = Select(options=types, value=types[0]) #by default All is chosen\n",
    "    select_type.on_change('value', update)\n",
    "\n",
    "    # User select : Price Range\n",
    "    div_price = Div(text=\"<b> Select Price </b>\")\n",
    "    price_range = ['$','$$','$$$','$$$$','Unknown']\n",
    "    select_price = CheckboxButtonGroup(labels=price_range, active=[2,3])\n",
    "    select_price.on_change('active', update)\n",
    "    \n",
    "    #initial source and plot\n",
    "    initial_select_price = [select_price.labels[i] for i in select_price.active]\n",
    "    \n",
    "    src, div_title = make_dataset(select_state.value,select_kitchen.value, select_type.value, initial_select_price)\n",
    "    table, p = make_plot(src)\n",
    "\n",
    "    # Combine all controls to get in column\n",
    "    col_tab_plot = row(table, p, height=200, width=1200)\n",
    "    col_filters_1 = column(div_state, select_state, div_kitchen, select_kitchen , width=290)\n",
    "    col_filters_2 = column(div_type, select_type, div_price, select_price, width=290)\n",
    "\n",
    "    # Layout\n",
    "    layout = column(div_title, div_subtitle, col_tab_plot, row(col_filters_1,col_filters_2)) \n",
    "    #it is possible to add multiple col_filters in the row(), you just need to specify it above\n",
    "    doc.add_root(layout)\n",
    "\n",
    "# Set up an application\n",
    "app = Application(FunctionHandler(modify_doc))\n",
    "show(app)"
   ]
  },
  {
   "cell_type": "markdown",
   "metadata": {},
   "source": [
    "## 6. Discussion\n",
    "\n",
    "\n",
    "Think critically about your creation\n",
    "\n",
    "What went well?,\n",
    "\n",
    "What is still missing? What could be improved?, Why?"
   ]
  },
  {
   "cell_type": "markdown",
   "metadata": {},
   "source": [
    "## 7. Contriutions\n",
    "\n",
    "(Dette er blot et bud)\n",
    "\n",
    "* Data preprocessing and cleaning:\n",
    "* Exploratory data analysis - General Overview:\n",
    "* Exploratory data analysis - Score Overview:\n",
    "* Exploratory data analysis - Time-based score:\n",
    "* Data Analysis - Anomaly Detection:\n",
    "* Data Analysis - Interactive Bokeh Plot:\n",
    "* Website + GitHub: \n",
    "* Explainer Notebook:\n",
    "\n",
    "\n",
    "\n",
    "You should write (just briefly) which group member was the main responsible for which elements of the assignment. (I want you guys to understand every part of the assignment, but usually there is someone who took lead role on certain portions of the work. That's what you should explain).\n",
    "\n",
    "It is not OK simply to write \"All group members contributed equally\"."
   ]
  },
  {
   "cell_type": "markdown",
   "metadata": {},
   "source": [
    "## 8. References\n",
    "[1] Dataset: https://www.yelp.com/dataset\n",
    "\n",
    "[2] https://arturomoncadatorres.com/creating-a-shareable-bokeh-dashboard-with-binder/\n",
    "\n",
    "[3] https://towardsdatascience.com/data-visualization-with-bokeh-in-python-part-one-getting-started-a11655a467d4\n",
    "\n",
    "[4] https://towardsdatascience.com/data-visualization-with-bokeh-in-python-part-iii-a-complete-dashboard-dc6a86aa6e23\n",
    "\n",
    "[5] https://towardsdatascience.com/data-visualization-with-bokeh-in-python-part-ii-interactions-a4cf994e2512\n",
    "\n",
    "[6] https://towardsdatascience.com/discover-your-next-favorite-restaurant-exploration-and-visualization-on-yelps-dataset-157d9799123c"
   ]
  }
 ],
 "metadata": {
  "kernelspec": {
   "display_name": "Python 3",
   "language": "python",
   "name": "python3"
  },
  "language_info": {
   "codemirror_mode": {
    "name": "ipython",
    "version": 3
   },
   "file_extension": ".py",
   "mimetype": "text/x-python",
   "name": "python",
   "nbconvert_exporter": "python",
   "pygments_lexer": "ipython3",
   "version": "3.7.6"
  }
 },
 "nbformat": 4,
 "nbformat_minor": 2
}
