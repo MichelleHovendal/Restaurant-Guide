{
 "cells": [
  {
   "cell_type": "markdown",
   "metadata": {},
   "source": [
    "# Project B\n",
    "\n",
    "\n",
    "This notebook will cover only cover the data prep and merge of the two larger json files.\n",
    "\n",
    "## Packages Needed"
   ]
  },
  {
   "cell_type": "code",
   "execution_count": 1,
   "metadata": {},
   "outputs": [],
   "source": [
    "import pandas as pd\n",
    "from functools import reduce\n",
    "import matplotlib.pyplot as plt\n",
    "import os"
   ]
  },
  {
   "cell_type": "code",
   "execution_count": 2,
   "metadata": {},
   "outputs": [
    {
     "data": {
      "text/plain": [
       "'C:\\\\Users\\\\Miche\\\\OneDrive - Danmarks Tekniske Universitet\\\\MMC\\\\2. Semester\\\\Social Data\\\\websites\\\\data'"
      ]
     },
     "execution_count": 2,
     "metadata": {},
     "output_type": "execute_result"
    }
   ],
   "source": [
    "path = 'C:\\\\Users\\\\Miche\\\\OneDrive - Danmarks Tekniske Universitet\\\\MMC\\\\2. Semester\\\\Social Data\\\\websites\\\\data'\n",
    "os.chdir(path)\n",
    "os.getcwd()"
   ]
  },
  {
   "cell_type": "markdown",
   "metadata": {},
   "source": [
    "## Load Data Business Dataset + Prep"
   ]
  },
  {
   "cell_type": "code",
   "execution_count": 3,
   "metadata": {},
   "outputs": [
    {
     "name": "stdout",
     "output_type": "stream",
     "text": [
      "(160585, 14)\n"
     ]
    }
   ],
   "source": [
    "df = pd.read_json('yelp_academic_dataset_business.json', lines=True)\n",
    "print(df.shape)"
   ]
  },
  {
   "cell_type": "code",
   "execution_count": 4,
   "metadata": {
    "scrolled": true
   },
   "outputs": [
    {
     "data": {
      "text/plain": [
       "Index(['business_id', 'name', 'address', 'city', 'state', 'postal_code',\n",
       "       'latitude', 'longitude', 'stars', 'review_count', 'is_open',\n",
       "       'attributes', 'categories', 'hours'],\n",
       "      dtype='object')"
      ]
     },
     "execution_count": 4,
     "metadata": {},
     "output_type": "execute_result"
    }
   ],
   "source": [
    "df.columns"
   ]
  },
  {
   "cell_type": "markdown",
   "metadata": {},
   "source": [
    "We only want to look at the restaurants that are open and not closed."
   ]
  },
  {
   "cell_type": "code",
   "execution_count": 5,
   "metadata": {},
   "outputs": [],
   "source": [
    "df = df[df['is_open']==1]"
   ]
  },
  {
   "cell_type": "code",
   "execution_count": 6,
   "metadata": {},
   "outputs": [],
   "source": [
    "df= df.drop(['is_open'], axis=1)"
   ]
  },
  {
   "cell_type": "markdown",
   "metadata": {},
   "source": [
    "Start by select all the rows that mention restaurants."
   ]
  },
  {
   "cell_type": "code",
   "execution_count": 7,
   "metadata": {},
   "outputs": [],
   "source": [
    "df = df[df['categories'].str.contains('Restaurants',\n",
    "              case=False, na=False)]"
   ]
  },
  {
   "cell_type": "code",
   "execution_count": 8,
   "metadata": {},
   "outputs": [],
   "source": [
    "df_explode = df.assign(categories = df.categories\n",
    "                         .str.split(', ')).explode('categories')"
   ]
  },
  {
   "cell_type": "code",
   "execution_count": 9,
   "metadata": {},
   "outputs": [
    {
     "data": {
      "text/plain": [
       "Restaurants                  32022\n",
       "Food                         10732\n",
       "Nightlife                     5550\n",
       "Bars                          5345\n",
       "Sandwiches                    4795\n",
       "American (Traditional)        4379\n",
       "Fast Food                     4326\n",
       "Pizza                         3890\n",
       "Breakfast & Brunch            3872\n",
       "American (New)                3254\n",
       "Burgers                       3246\n",
       "Coffee & Tea                  3010\n",
       "Mexican                       2815\n",
       "Chinese                       2329\n",
       "Italian                       2130\n",
       "Seafood                       1998\n",
       "Salad                         1975\n",
       "Event Planning & Services     1916\n",
       "Cafes                         1871\n",
       "Japanese                      1773\n",
       "Name: categories, dtype: int64"
      ]
     },
     "execution_count": 9,
     "metadata": {},
     "output_type": "execute_result"
    }
   ],
   "source": [
    "df_explode.categories.value_counts().head(20)"
   ]
  },
  {
   "cell_type": "code",
   "execution_count": 10,
   "metadata": {},
   "outputs": [],
   "source": [
    "remove = ['Food Delivery Services','Food Safety Training', 'Food Tours', \n",
    "          'Food Banks','Chinese Martial Arts','Traditional Chinese Medicine',\n",
    "         'Coffee & Tea Supplies','Japanese Curry', 'Food Court',\n",
    "         'Food Trucks','Food Stands']\n",
    "\n",
    "df = df[~df['categories'].str.contains('|'.join(remove),\n",
    "              case=False, na=False)]"
   ]
  },
  {
   "cell_type": "markdown",
   "metadata": {},
   "source": [
    "Try to split the category column into different subgroups, so we can do some nice plotting."
   ]
  },
  {
   "cell_type": "code",
   "execution_count": 11,
   "metadata": {},
   "outputs": [],
   "source": [
    "cat_kitchens = ['thai', 'chinese','japanese','korean','indian','american',\n",
    "                 'caribbean','italian','mediterranean','mexican', 'cajun',\n",
    "                'vietnamese','greek']\n",
    "\n",
    "cat_type = ['Food','Nightlife','Bars','Sandwiches','Pizza','Breakfast & Brunch', 'Fast Food',\n",
    "            'Burgers','Salad', 'Buffet', 'Cafes','Coffee & Tea', 'Vegetarian', 'Steakhouse', 'Sushi Bars',\n",
    "            'Diners','Wine Bars']"
   ]
  },
  {
   "cell_type": "code",
   "execution_count": 12,
   "metadata": {},
   "outputs": [],
   "source": [
    "df_explode = df.assign(categories = df.categories\n",
    "                         .str.split(', ')).explode('categories')"
   ]
  },
  {
   "cell_type": "code",
   "execution_count": 13,
   "metadata": {},
   "outputs": [],
   "source": [
    "df_cat_kitchen = df_explode[df_explode['categories'].str.contains(\n",
    "              '|'.join(cat_kitchens),\n",
    "              case=False, na=False)]\n",
    "\n",
    "df_cat_kitchen = df_cat_kitchen.rename(columns={'categories':'cat_kitchen'})\n",
    "df_cat_kitchen = df_cat_kitchen['cat_kitchen']"
   ]
  },
  {
   "cell_type": "code",
   "execution_count": 14,
   "metadata": {},
   "outputs": [],
   "source": [
    "df_cat_type = df_explode[df_explode['categories'].str.match(\n",
    "              '|'.join(cat_type),\n",
    "              case=True, na=False)]\n",
    "\n",
    "df_cat_type = df_cat_type.rename(columns={'categories':'cat_type'})\n",
    "df_cat_type = df_cat_type['cat_type']"
   ]
  },
  {
   "cell_type": "code",
   "execution_count": 15,
   "metadata": {},
   "outputs": [
    {
     "data": {
      "text/plain": [
       "array(['Food', 'Bars', 'Nightlife', 'Salad', 'Sandwiches', 'Cafes',\n",
       "       'Vegetarian', 'Breakfast & Brunch', 'Pizza', 'Sushi Bars',\n",
       "       'Steakhouses', 'Fast Food', 'Burgers', 'Coffee & Tea', 'Diners',\n",
       "       'Buffets', 'Wine Bars'], dtype=object)"
      ]
     },
     "execution_count": 15,
     "metadata": {},
     "output_type": "execute_result"
    }
   ],
   "source": [
    "df_cat_type.unique()"
   ]
  },
  {
   "cell_type": "code",
   "execution_count": 16,
   "metadata": {},
   "outputs": [],
   "source": [
    "df_merge_list = [df, df_cat_kitchen, df_cat_type]"
   ]
  },
  {
   "cell_type": "code",
   "execution_count": 17,
   "metadata": {},
   "outputs": [],
   "source": [
    "df_merged = reduce(lambda  left, right: pd.merge(left,right,left_index=True,\n",
    "                                            right_index=True), df_merge_list)"
   ]
  },
  {
   "cell_type": "code",
   "execution_count": 18,
   "metadata": {},
   "outputs": [
    {
     "data": {
      "text/plain": [
       "(29836, 15)"
      ]
     },
     "execution_count": 18,
     "metadata": {},
     "output_type": "execute_result"
    }
   ],
   "source": [
    "df_merged.shape"
   ]
  },
  {
   "cell_type": "code",
   "execution_count": 19,
   "metadata": {},
   "outputs": [
    {
     "data": {
      "text/html": [
       "<div>\n",
       "<style scoped>\n",
       "    .dataframe tbody tr th:only-of-type {\n",
       "        vertical-align: middle;\n",
       "    }\n",
       "\n",
       "    .dataframe tbody tr th {\n",
       "        vertical-align: top;\n",
       "    }\n",
       "\n",
       "    .dataframe thead th {\n",
       "        text-align: right;\n",
       "    }\n",
       "</style>\n",
       "<table border=\"1\" class=\"dataframe\">\n",
       "  <thead>\n",
       "    <tr style=\"text-align: right;\">\n",
       "      <th></th>\n",
       "      <th>business_id</th>\n",
       "      <th>name</th>\n",
       "      <th>address</th>\n",
       "      <th>city</th>\n",
       "      <th>state</th>\n",
       "      <th>postal_code</th>\n",
       "      <th>latitude</th>\n",
       "      <th>longitude</th>\n",
       "      <th>stars</th>\n",
       "      <th>review_count</th>\n",
       "      <th>attributes</th>\n",
       "      <th>categories</th>\n",
       "      <th>hours</th>\n",
       "      <th>cat_kitchen</th>\n",
       "      <th>cat_type</th>\n",
       "    </tr>\n",
       "  </thead>\n",
       "  <tbody>\n",
       "    <tr>\n",
       "      <th>0</th>\n",
       "      <td>6iYb2HFDywm3zjuRg0shjw</td>\n",
       "      <td>Oskar Blues Taproom</td>\n",
       "      <td>921 Pearl St</td>\n",
       "      <td>Boulder</td>\n",
       "      <td>CO</td>\n",
       "      <td>80302</td>\n",
       "      <td>40.017544</td>\n",
       "      <td>-105.283348</td>\n",
       "      <td>4.0</td>\n",
       "      <td>86</td>\n",
       "      <td>{'RestaurantsTableService': 'True', 'WiFi': 'u...</td>\n",
       "      <td>Gastropubs, Food, Beer Gardens, Restaurants, B...</td>\n",
       "      <td>{'Monday': '11:0-23:0', 'Tuesday': '11:0-23:0'...</td>\n",
       "      <td>American (Traditional)</td>\n",
       "      <td>Food</td>\n",
       "    </tr>\n",
       "    <tr>\n",
       "      <th>0</th>\n",
       "      <td>6iYb2HFDywm3zjuRg0shjw</td>\n",
       "      <td>Oskar Blues Taproom</td>\n",
       "      <td>921 Pearl St</td>\n",
       "      <td>Boulder</td>\n",
       "      <td>CO</td>\n",
       "      <td>80302</td>\n",
       "      <td>40.017544</td>\n",
       "      <td>-105.283348</td>\n",
       "      <td>4.0</td>\n",
       "      <td>86</td>\n",
       "      <td>{'RestaurantsTableService': 'True', 'WiFi': 'u...</td>\n",
       "      <td>Gastropubs, Food, Beer Gardens, Restaurants, B...</td>\n",
       "      <td>{'Monday': '11:0-23:0', 'Tuesday': '11:0-23:0'...</td>\n",
       "      <td>American (Traditional)</td>\n",
       "      <td>Bars</td>\n",
       "    </tr>\n",
       "    <tr>\n",
       "      <th>0</th>\n",
       "      <td>6iYb2HFDywm3zjuRg0shjw</td>\n",
       "      <td>Oskar Blues Taproom</td>\n",
       "      <td>921 Pearl St</td>\n",
       "      <td>Boulder</td>\n",
       "      <td>CO</td>\n",
       "      <td>80302</td>\n",
       "      <td>40.017544</td>\n",
       "      <td>-105.283348</td>\n",
       "      <td>4.0</td>\n",
       "      <td>86</td>\n",
       "      <td>{'RestaurantsTableService': 'True', 'WiFi': 'u...</td>\n",
       "      <td>Gastropubs, Food, Beer Gardens, Restaurants, B...</td>\n",
       "      <td>{'Monday': '11:0-23:0', 'Tuesday': '11:0-23:0'...</td>\n",
       "      <td>American (Traditional)</td>\n",
       "      <td>Nightlife</td>\n",
       "    </tr>\n",
       "    <tr>\n",
       "      <th>13</th>\n",
       "      <td>ufCxltuh56FF4-ZFZ6cVhg</td>\n",
       "      <td>Sister Honey's</td>\n",
       "      <td>247 E Michigan St</td>\n",
       "      <td>Orlando</td>\n",
       "      <td>FL</td>\n",
       "      <td>32806</td>\n",
       "      <td>28.513265</td>\n",
       "      <td>-81.374707</td>\n",
       "      <td>4.5</td>\n",
       "      <td>135</td>\n",
       "      <td>{'BusinessParking': '{'garage': False, 'street...</td>\n",
       "      <td>Restaurants, American (New), Bakeries, Dessert...</td>\n",
       "      <td>{'Tuesday': '11:0-18:0', 'Wednesday': '11:0-18...</td>\n",
       "      <td>American (New)</td>\n",
       "      <td>Food</td>\n",
       "    </tr>\n",
       "    <tr>\n",
       "      <th>19</th>\n",
       "      <td>dmbbf3AqeG61_QHRZi1M1w</td>\n",
       "      <td>RaceTrac</td>\n",
       "      <td>350 W Sand Lake Rd</td>\n",
       "      <td>Pine Castle</td>\n",
       "      <td>FL</td>\n",
       "      <td>32809</td>\n",
       "      <td>28.450302</td>\n",
       "      <td>-81.380587</td>\n",
       "      <td>3.5</td>\n",
       "      <td>5</td>\n",
       "      <td>{'BikeParking': 'False', 'RestaurantsPriceRang...</td>\n",
       "      <td>Automotive, American (Traditional), Gas Statio...</td>\n",
       "      <td>None</td>\n",
       "      <td>American (Traditional)</td>\n",
       "      <td>Food</td>\n",
       "    </tr>\n",
       "  </tbody>\n",
       "</table>\n",
       "</div>"
      ],
      "text/plain": [
       "               business_id                 name             address  \\\n",
       "0   6iYb2HFDywm3zjuRg0shjw  Oskar Blues Taproom        921 Pearl St   \n",
       "0   6iYb2HFDywm3zjuRg0shjw  Oskar Blues Taproom        921 Pearl St   \n",
       "0   6iYb2HFDywm3zjuRg0shjw  Oskar Blues Taproom        921 Pearl St   \n",
       "13  ufCxltuh56FF4-ZFZ6cVhg       Sister Honey's   247 E Michigan St   \n",
       "19  dmbbf3AqeG61_QHRZi1M1w             RaceTrac  350 W Sand Lake Rd   \n",
       "\n",
       "           city state postal_code   latitude   longitude  stars  review_count  \\\n",
       "0       Boulder    CO       80302  40.017544 -105.283348    4.0            86   \n",
       "0       Boulder    CO       80302  40.017544 -105.283348    4.0            86   \n",
       "0       Boulder    CO       80302  40.017544 -105.283348    4.0            86   \n",
       "13      Orlando    FL       32806  28.513265  -81.374707    4.5           135   \n",
       "19  Pine Castle    FL       32809  28.450302  -81.380587    3.5             5   \n",
       "\n",
       "                                           attributes  \\\n",
       "0   {'RestaurantsTableService': 'True', 'WiFi': 'u...   \n",
       "0   {'RestaurantsTableService': 'True', 'WiFi': 'u...   \n",
       "0   {'RestaurantsTableService': 'True', 'WiFi': 'u...   \n",
       "13  {'BusinessParking': '{'garage': False, 'street...   \n",
       "19  {'BikeParking': 'False', 'RestaurantsPriceRang...   \n",
       "\n",
       "                                           categories  \\\n",
       "0   Gastropubs, Food, Beer Gardens, Restaurants, B...   \n",
       "0   Gastropubs, Food, Beer Gardens, Restaurants, B...   \n",
       "0   Gastropubs, Food, Beer Gardens, Restaurants, B...   \n",
       "13  Restaurants, American (New), Bakeries, Dessert...   \n",
       "19  Automotive, American (Traditional), Gas Statio...   \n",
       "\n",
       "                                                hours             cat_kitchen  \\\n",
       "0   {'Monday': '11:0-23:0', 'Tuesday': '11:0-23:0'...  American (Traditional)   \n",
       "0   {'Monday': '11:0-23:0', 'Tuesday': '11:0-23:0'...  American (Traditional)   \n",
       "0   {'Monday': '11:0-23:0', 'Tuesday': '11:0-23:0'...  American (Traditional)   \n",
       "13  {'Tuesday': '11:0-18:0', 'Wednesday': '11:0-18...          American (New)   \n",
       "19                                               None  American (Traditional)   \n",
       "\n",
       "     cat_type  \n",
       "0        Food  \n",
       "0        Bars  \n",
       "0   Nightlife  \n",
       "13       Food  \n",
       "19       Food  "
      ]
     },
     "execution_count": 19,
     "metadata": {},
     "output_type": "execute_result"
    }
   ],
   "source": [
    "df_merged.head()"
   ]
  },
  {
   "cell_type": "markdown",
   "metadata": {},
   "source": [
    "## Load Review Data (Massive dataset)"
   ]
  },
  {
   "cell_type": "code",
   "execution_count": 20,
   "metadata": {},
   "outputs": [],
   "source": [
    "size = 500000\n",
    "review = pd.read_json('yelp_academic_dataset_review.json', lines=True,\n",
    "                      dtype={'review_id':str,'user_id':str,\n",
    "                             'business_id':str,'stars':int,\n",
    "                             'date':str,'text':str,'useful':int,\n",
    "                             'funny':int,'cool':int},\n",
    "                      chunksize=size)"
   ]
  },
  {
   "cell_type": "code",
   "execution_count": 21,
   "metadata": {},
   "outputs": [
    {
     "name": "stdout",
     "output_type": "stream",
     "text": [
      "416263 out of 500,000 related reviews\n",
      "384085 out of 500,000 related reviews\n",
      "371677 out of 500,000 related reviews\n",
      "358510 out of 500,000 related reviews\n",
      "349565 out of 500,000 related reviews\n",
      "356785 out of 500,000 related reviews\n",
      "353610 out of 500,000 related reviews\n",
      "407361 out of 500,000 related reviews\n",
      "371185 out of 500,000 related reviews\n",
      "362734 out of 500,000 related reviews\n",
      "361974 out of 500,000 related reviews\n",
      "362709 out of 500,000 related reviews\n",
      "388455 out of 500,000 related reviews\n",
      "373812 out of 500,000 related reviews\n",
      "414622 out of 500,000 related reviews\n",
      "414618 out of 500,000 related reviews\n",
      "433111 out of 500,000 related reviews\n",
      "107384 out of 500,000 related reviews\n"
     ]
    }
   ],
   "source": [
    "# There are multiple chunks to be read\n",
    "chunk_list = []\n",
    "for chunk_review in review:\n",
    "    # Drop columns that aren't needed\n",
    "    chunk_review = chunk_review.drop(['review_id','useful','funny','cool'], axis=1)\n",
    "    # Renaming column name to avoid conflict with business overall star rating\n",
    "    chunk_review = chunk_review.rename(columns={'stars': 'review_stars'})\n",
    "    # Inner merge with edited business file so only reviews related to the business remain\n",
    "    chunk_merged = pd.merge(df_merged, chunk_review, on='business_id', how='inner')\n",
    "    # Show feedback on progress\n",
    "    print(f\"{chunk_merged.shape[0]} out of {size:,} related reviews\")\n",
    "    chunk_list.append(chunk_merged)\n",
    "# After trimming down the review file, concatenate all relevant data back to one dataframe\n",
    "df = pd.concat(chunk_list, ignore_index=True, join='outer', axis=0)"
   ]
  },
  {
   "cell_type": "code",
   "execution_count": 22,
   "metadata": {},
   "outputs": [
    {
     "data": {
      "text/plain": [
       "(6588460, 19)"
      ]
     },
     "execution_count": 22,
     "metadata": {},
     "output_type": "execute_result"
    }
   ],
   "source": [
    "df.shape"
   ]
  },
  {
   "cell_type": "markdown",
   "metadata": {},
   "source": [
    "## More data prep\n",
    "\n",
    "Select 2014-2021, so we have full years"
   ]
  },
  {
   "cell_type": "code",
   "execution_count": 23,
   "metadata": {},
   "outputs": [
    {
     "name": "stdout",
     "output_type": "stream",
     "text": [
      "2004-10-14 02:57:52\n",
      "2021-01-28 15:23:52\n"
     ]
    }
   ],
   "source": [
    "print (df.date.min())\n",
    "print (df.date.max())"
   ]
  },
  {
   "cell_type": "code",
   "execution_count": 24,
   "metadata": {},
   "outputs": [
    {
     "data": {
      "text/plain": [
       "dtype('O')"
      ]
     },
     "execution_count": 24,
     "metadata": {},
     "output_type": "execute_result"
    }
   ],
   "source": [
    "df.date.dtypes"
   ]
  },
  {
   "cell_type": "code",
   "execution_count": 25,
   "metadata": {},
   "outputs": [],
   "source": [
    "df['date'] = pd.to_datetime(df['date'])"
   ]
  },
  {
   "cell_type": "code",
   "execution_count": 26,
   "metadata": {},
   "outputs": [
    {
     "data": {
      "text/plain": [
       "dtype('<M8[ns]')"
      ]
     },
     "execution_count": 26,
     "metadata": {},
     "output_type": "execute_result"
    }
   ],
   "source": [
    "df.date.dtypes"
   ]
  },
  {
   "cell_type": "code",
   "execution_count": 27,
   "metadata": {},
   "outputs": [],
   "source": [
    "time_start = pd.Timestamp(2014,1,1)"
   ]
  },
  {
   "cell_type": "code",
   "execution_count": 28,
   "metadata": {},
   "outputs": [],
   "source": [
    "#Filter the data\n",
    "df = df.loc[(df['date']>= time_start)]"
   ]
  },
  {
   "cell_type": "code",
   "execution_count": 29,
   "metadata": {},
   "outputs": [
    {
     "name": "stdout",
     "output_type": "stream",
     "text": [
      "2014-01-01 00:01:51\n",
      "2021-01-28 15:23:52\n"
     ]
    }
   ],
   "source": [
    "print (df.date.min())\n",
    "print (df.date.max())"
   ]
  },
  {
   "cell_type": "code",
   "execution_count": 30,
   "metadata": {},
   "outputs": [
    {
     "data": {
      "text/plain": [
       "(5177322, 19)"
      ]
     },
     "execution_count": 30,
     "metadata": {},
     "output_type": "execute_result"
    }
   ],
   "source": [
    "df.shape"
   ]
  },
  {
   "cell_type": "markdown",
   "metadata": {},
   "source": [
    "Save to csv file"
   ]
  },
  {
   "cell_type": "code",
   "execution_count": 31,
   "metadata": {},
   "outputs": [
    {
     "data": {
      "text/plain": [
       "'C:\\\\Users\\\\Miche\\\\OneDrive - Danmarks Tekniske Universitet\\\\MMC\\\\2. Semester\\\\Social Data\\\\websites\\\\Restaurant-Guide\\\\data'"
      ]
     },
     "execution_count": 31,
     "metadata": {},
     "output_type": "execute_result"
    }
   ],
   "source": [
    "path = 'C:\\\\Users\\\\Miche\\\\OneDrive - Danmarks Tekniske Universitet\\\\MMC\\\\2. Semester\\\\Social Data\\\\websites\\\\Restaurant-Guide'\n",
    "os.chdir(path)\n",
    "os.getcwd()"
   ]
  },
  {
   "cell_type": "code",
   "execution_count": 32,
   "metadata": {},
   "outputs": [],
   "source": [
    "csv_name = \"yelp_reviews_RV_categories.csv\"\n",
    "df.to_csv(csv_name, index=False)"
   ]
  },
  {
   "cell_type": "code",
   "execution_count": 33,
   "metadata": {},
   "outputs": [
    {
     "data": {
      "text/plain": [
       "(5177322, 19)"
      ]
     },
     "execution_count": 33,
     "metadata": {},
     "output_type": "execute_result"
    }
   ],
   "source": [
    "df.shape"
   ]
  }
 ],
 "metadata": {
  "kernelspec": {
   "display_name": "Python 3",
   "language": "python",
   "name": "python3"
  },
  "language_info": {
   "codemirror_mode": {
    "name": "ipython",
    "version": 3
   },
   "file_extension": ".py",
   "mimetype": "text/x-python",
   "name": "python",
   "nbconvert_exporter": "python",
   "pygments_lexer": "ipython3",
   "version": "3.7.6"
  }
 },
 "nbformat": 4,
 "nbformat_minor": 4
}
